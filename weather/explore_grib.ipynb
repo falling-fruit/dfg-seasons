{
 "cells": [
  {
   "cell_type": "code",
   "execution_count": 1,
   "id": "1764f568",
   "metadata": {},
   "outputs": [],
   "source": [
    "import pygrib"
   ]
  },
  {
   "cell_type": "code",
   "execution_count": 15,
   "id": "ddb9b411",
   "metadata": {},
   "outputs": [],
   "source": [
    "file = 'download.grib'\n",
    "\n",
    "gr = pygrib.open(file)"
   ]
  },
  {
   "cell_type": "code",
   "execution_count": 5,
   "id": "2f0d86dd",
   "metadata": {},
   "outputs": [
    {
     "name": "stdout",
     "output_type": "stream",
     "text": [
      "1:Lake bottom temperature:K (avgua):regular_ll:surface:level 0:fcst time 0 hrs (avgua):from 195001010000\n",
      "2:Lake ice surface temperature:K (avgua):regular_ll:surface:level 0:fcst time 0 hrs (avgua):from 195001010000\n",
      "3:Lake mix-layer temperature:K (avgua):regular_ll:surface:level 0:fcst time 0 hrs (avgua):from 195001010000\n",
      "4:Lake total layer temperature:K (avgua):regular_ll:surface:level 0:fcst time 0 hrs (avgua):from 195001010000\n",
      "5:Soil temperature level 1:K (avgua):regular_ll:depthBelowLandLayer:level None:fcst time 0 hrs (avgua):from 195001010000\n",
      "6:Soil temperature level 2:K (avgua):regular_ll:depthBelowLandLayer:level None:fcst time 0 hrs (avgua):from 195001010000\n",
      "7:Soil temperature level 3:K (avgua):regular_ll:depthBelowLandLayer:level None:fcst time 0 hrs (avgua):from 195001010000\n",
      "8:Soil temperature level 4:K (avgua):regular_ll:depthBelowLandLayer:fcst time 0 hrs (avgua):from 195001010000\n",
      "9:Lake bottom temperature:K (avgua):regular_ll:surface:level 0:fcst time 0 hrs (avgua):from 195002010000\n",
      "10:Lake ice surface temperature:K (avgua):regular_ll:surface:level 0:fcst time 0 hrs (avgua):from 195002010000\n",
      "11:Lake mix-layer temperature:K (avgua):regular_ll:surface:level 0:fcst time 0 hrs (avgua):from 195002010000\n",
      "12:Lake total layer temperature:K (avgua):regular_ll:surface:level 0:fcst time 0 hrs (avgua):from 195002010000\n",
      "13:Soil temperature level 1:K (avgua):regular_ll:depthBelowLandLayer:level None:fcst time 0 hrs (avgua):from 195002010000\n",
      "14:Soil temperature level 2:K (avgua):regular_ll:depthBelowLandLayer:level None:fcst time 0 hrs (avgua):from 195002010000\n",
      "15:Soil temperature level 3:K (avgua):regular_ll:depthBelowLandLayer:level None:fcst time 0 hrs (avgua):from 195002010000\n",
      "16:Soil temperature level 4:K (avgua):regular_ll:depthBelowLandLayer:fcst time 0 hrs (avgua):from 195002010000\n",
      "17:Lake bottom temperature:K (avgua):regular_ll:surface:level 0:fcst time 0 hrs (avgua):from 195003010000\n",
      "18:Lake ice surface temperature:K (avgua):regular_ll:surface:level 0:fcst time 0 hrs (avgua):from 195003010000\n",
      "19:Lake mix-layer temperature:K (avgua):regular_ll:surface:level 0:fcst time 0 hrs (avgua):from 195003010000\n",
      "20:Lake total layer temperature:K (avgua):regular_ll:surface:level 0:fcst time 0 hrs (avgua):from 195003010000\n",
      "21:Soil temperature level 1:K (avgua):regular_ll:depthBelowLandLayer:level None:fcst time 0 hrs (avgua):from 195003010000\n",
      "22:Soil temperature level 2:K (avgua):regular_ll:depthBelowLandLayer:level None:fcst time 0 hrs (avgua):from 195003010000\n",
      "23:Soil temperature level 3:K (avgua):regular_ll:depthBelowLandLayer:level None:fcst time 0 hrs (avgua):from 195003010000\n",
      "24:Soil temperature level 4:K (avgua):regular_ll:depthBelowLandLayer:fcst time 0 hrs (avgua):from 195003010000\n",
      "25:Lake bottom temperature:K (avgua):regular_ll:surface:level 0:fcst time 0 hrs (avgua):from 195004010000\n",
      "26:Lake ice surface temperature:K (avgua):regular_ll:surface:level 0:fcst time 0 hrs (avgua):from 195004010000\n",
      "27:Lake mix-layer temperature:K (avgua):regular_ll:surface:level 0:fcst time 0 hrs (avgua):from 195004010000\n",
      "28:Lake total layer temperature:K (avgua):regular_ll:surface:level 0:fcst time 0 hrs (avgua):from 195004010000\n",
      "29:Soil temperature level 1:K (avgua):regular_ll:depthBelowLandLayer:level None:fcst time 0 hrs (avgua):from 195004010000\n",
      "30:Soil temperature level 2:K (avgua):regular_ll:depthBelowLandLayer:level None:fcst time 0 hrs (avgua):from 195004010000\n",
      "31:Soil temperature level 3:K (avgua):regular_ll:depthBelowLandLayer:level None:fcst time 0 hrs (avgua):from 195004010000\n",
      "32:Soil temperature level 4:K (avgua):regular_ll:depthBelowLandLayer:fcst time 0 hrs (avgua):from 195004010000\n",
      "33:Lake bottom temperature:K (avgua):regular_ll:surface:level 0:fcst time 0 hrs (avgua):from 195005010000\n",
      "34:Lake ice surface temperature:K (avgua):regular_ll:surface:level 0:fcst time 0 hrs (avgua):from 195005010000\n",
      "35:Lake mix-layer temperature:K (avgua):regular_ll:surface:level 0:fcst time 0 hrs (avgua):from 195005010000\n",
      "36:Lake total layer temperature:K (avgua):regular_ll:surface:level 0:fcst time 0 hrs (avgua):from 195005010000\n",
      "37:Soil temperature level 1:K (avgua):regular_ll:depthBelowLandLayer:level None:fcst time 0 hrs (avgua):from 195005010000\n",
      "38:Soil temperature level 2:K (avgua):regular_ll:depthBelowLandLayer:level None:fcst time 0 hrs (avgua):from 195005010000\n",
      "39:Soil temperature level 3:K (avgua):regular_ll:depthBelowLandLayer:level None:fcst time 0 hrs (avgua):from 195005010000\n",
      "40:Soil temperature level 4:K (avgua):regular_ll:depthBelowLandLayer:fcst time 0 hrs (avgua):from 195005010000\n",
      "41:Lake bottom temperature:K (avgua):regular_ll:surface:level 0:fcst time 0 hrs (avgua):from 195006010000\n",
      "42:Lake ice surface temperature:K (avgua):regular_ll:surface:level 0:fcst time 0 hrs (avgua):from 195006010000\n",
      "43:Lake mix-layer temperature:K (avgua):regular_ll:surface:level 0:fcst time 0 hrs (avgua):from 195006010000\n",
      "44:Lake total layer temperature:K (avgua):regular_ll:surface:level 0:fcst time 0 hrs (avgua):from 195006010000\n",
      "45:Soil temperature level 1:K (avgua):regular_ll:depthBelowLandLayer:level None:fcst time 0 hrs (avgua):from 195006010000\n",
      "46:Soil temperature level 2:K (avgua):regular_ll:depthBelowLandLayer:level None:fcst time 0 hrs (avgua):from 195006010000\n",
      "47:Soil temperature level 3:K (avgua):regular_ll:depthBelowLandLayer:level None:fcst time 0 hrs (avgua):from 195006010000\n",
      "48:Soil temperature level 4:K (avgua):regular_ll:depthBelowLandLayer:fcst time 0 hrs (avgua):from 195006010000\n",
      "49:Lake bottom temperature:K (avgua):regular_ll:surface:level 0:fcst time 0 hrs (avgua):from 195007010000\n",
      "50:Lake ice surface temperature:K (avgua):regular_ll:surface:level 0:fcst time 0 hrs (avgua):from 195007010000\n",
      "51:Lake mix-layer temperature:K (avgua):regular_ll:surface:level 0:fcst time 0 hrs (avgua):from 195007010000\n",
      "52:Lake total layer temperature:K (avgua):regular_ll:surface:level 0:fcst time 0 hrs (avgua):from 195007010000\n",
      "53:Soil temperature level 1:K (avgua):regular_ll:depthBelowLandLayer:level None:fcst time 0 hrs (avgua):from 195007010000\n",
      "54:Soil temperature level 2:K (avgua):regular_ll:depthBelowLandLayer:level None:fcst time 0 hrs (avgua):from 195007010000\n",
      "55:Soil temperature level 3:K (avgua):regular_ll:depthBelowLandLayer:level None:fcst time 0 hrs (avgua):from 195007010000\n",
      "56:Soil temperature level 4:K (avgua):regular_ll:depthBelowLandLayer:fcst time 0 hrs (avgua):from 195007010000\n",
      "57:Lake bottom temperature:K (avgua):regular_ll:surface:level 0:fcst time 0 hrs (avgua):from 195008010000\n",
      "58:Lake ice surface temperature:K (avgua):regular_ll:surface:level 0:fcst time 0 hrs (avgua):from 195008010000\n",
      "59:Lake mix-layer temperature:K (avgua):regular_ll:surface:level 0:fcst time 0 hrs (avgua):from 195008010000\n",
      "60:Lake total layer temperature:K (avgua):regular_ll:surface:level 0:fcst time 0 hrs (avgua):from 195008010000\n",
      "61:Soil temperature level 1:K (avgua):regular_ll:depthBelowLandLayer:level None:fcst time 0 hrs (avgua):from 195008010000\n",
      "62:Soil temperature level 2:K (avgua):regular_ll:depthBelowLandLayer:level None:fcst time 0 hrs (avgua):from 195008010000\n",
      "63:Soil temperature level 3:K (avgua):regular_ll:depthBelowLandLayer:level None:fcst time 0 hrs (avgua):from 195008010000\n",
      "64:Soil temperature level 4:K (avgua):regular_ll:depthBelowLandLayer:fcst time 0 hrs (avgua):from 195008010000\n",
      "65:Lake bottom temperature:K (avgua):regular_ll:surface:level 0:fcst time 0 hrs (avgua):from 195009010000\n",
      "66:Lake ice surface temperature:K (avgua):regular_ll:surface:level 0:fcst time 0 hrs (avgua):from 195009010000\n",
      "67:Lake mix-layer temperature:K (avgua):regular_ll:surface:level 0:fcst time 0 hrs (avgua):from 195009010000\n",
      "68:Lake total layer temperature:K (avgua):regular_ll:surface:level 0:fcst time 0 hrs (avgua):from 195009010000\n",
      "69:Soil temperature level 1:K (avgua):regular_ll:depthBelowLandLayer:level None:fcst time 0 hrs (avgua):from 195009010000\n",
      "70:Soil temperature level 2:K (avgua):regular_ll:depthBelowLandLayer:level None:fcst time 0 hrs (avgua):from 195009010000\n",
      "71:Soil temperature level 3:K (avgua):regular_ll:depthBelowLandLayer:level None:fcst time 0 hrs (avgua):from 195009010000\n",
      "72:Soil temperature level 4:K (avgua):regular_ll:depthBelowLandLayer:fcst time 0 hrs (avgua):from 195009010000\n",
      "73:Lake bottom temperature:K (avgua):regular_ll:surface:level 0:fcst time 0 hrs (avgua):from 195010010000\n",
      "74:Lake ice surface temperature:K (avgua):regular_ll:surface:level 0:fcst time 0 hrs (avgua):from 195010010000\n",
      "75:Lake mix-layer temperature:K (avgua):regular_ll:surface:level 0:fcst time 0 hrs (avgua):from 195010010000\n",
      "76:Lake total layer temperature:K (avgua):regular_ll:surface:level 0:fcst time 0 hrs (avgua):from 195010010000\n",
      "77:Soil temperature level 1:K (avgua):regular_ll:depthBelowLandLayer:level None:fcst time 0 hrs (avgua):from 195010010000\n",
      "78:Soil temperature level 2:K (avgua):regular_ll:depthBelowLandLayer:level None:fcst time 0 hrs (avgua):from 195010010000\n",
      "79:Soil temperature level 3:K (avgua):regular_ll:depthBelowLandLayer:level None:fcst time 0 hrs (avgua):from 195010010000\n",
      "80:Soil temperature level 4:K (avgua):regular_ll:depthBelowLandLayer:fcst time 0 hrs (avgua):from 195010010000\n",
      "81:Lake bottom temperature:K (avgua):regular_ll:surface:level 0:fcst time 0 hrs (avgua):from 195011010000\n",
      "82:Lake ice surface temperature:K (avgua):regular_ll:surface:level 0:fcst time 0 hrs (avgua):from 195011010000\n"
     ]
    },
    {
     "name": "stdout",
     "output_type": "stream",
     "text": [
      "83:Lake mix-layer temperature:K (avgua):regular_ll:surface:level 0:fcst time 0 hrs (avgua):from 195011010000\n",
      "84:Lake total layer temperature:K (avgua):regular_ll:surface:level 0:fcst time 0 hrs (avgua):from 195011010000\n",
      "85:Soil temperature level 1:K (avgua):regular_ll:depthBelowLandLayer:level None:fcst time 0 hrs (avgua):from 195011010000\n",
      "86:Soil temperature level 2:K (avgua):regular_ll:depthBelowLandLayer:level None:fcst time 0 hrs (avgua):from 195011010000\n",
      "87:Soil temperature level 3:K (avgua):regular_ll:depthBelowLandLayer:level None:fcst time 0 hrs (avgua):from 195011010000\n",
      "88:Soil temperature level 4:K (avgua):regular_ll:depthBelowLandLayer:fcst time 0 hrs (avgua):from 195011010000\n",
      "89:Lake bottom temperature:K (avgua):regular_ll:surface:level 0:fcst time 0 hrs (avgua):from 195012010000\n",
      "90:Lake ice surface temperature:K (avgua):regular_ll:surface:level 0:fcst time 0 hrs (avgua):from 195012010000\n",
      "91:Lake mix-layer temperature:K (avgua):regular_ll:surface:level 0:fcst time 0 hrs (avgua):from 195012010000\n",
      "92:Lake total layer temperature:K (avgua):regular_ll:surface:level 0:fcst time 0 hrs (avgua):from 195012010000\n",
      "93:Soil temperature level 1:K (avgua):regular_ll:depthBelowLandLayer:level None:fcst time 0 hrs (avgua):from 195012010000\n",
      "94:Soil temperature level 2:K (avgua):regular_ll:depthBelowLandLayer:level None:fcst time 0 hrs (avgua):from 195012010000\n",
      "95:Soil temperature level 3:K (avgua):regular_ll:depthBelowLandLayer:level None:fcst time 0 hrs (avgua):from 195012010000\n",
      "96:Soil temperature level 4:K (avgua):regular_ll:depthBelowLandLayer:fcst time 0 hrs (avgua):from 195012010000\n"
     ]
    }
   ],
   "source": [
    "for g in gr:\n",
    "    print(g)"
   ]
  },
  {
   "cell_type": "code",
   "execution_count": 13,
   "id": "af780462",
   "metadata": {},
   "outputs": [
    {
     "name": "stdout",
     "output_type": "stream",
     "text": [
      "depthBelowLandLayer\n",
      "0\n",
      "Soil temperature level 1\n",
      "1950-01-01 00:00:00\n",
      "1950-01-01 00:00:00\n"
     ]
    }
   ],
   "source": [
    "soil = gr[5]\n",
    "print(soil.typeOfLevel)\n",
    "print(soil.level)\n",
    "print(soil.name)\n",
    "print(soil.validDate)\n",
    "print(soil.analDate)\n",
    "#print(soil.forecastTime)"
   ]
  },
  {
   "cell_type": "code",
   "execution_count": 16,
   "id": "b023f2ce",
   "metadata": {},
   "outputs": [],
   "source": [
    "grb = gr.select(name='Soil temperature level 1')[0]"
   ]
  },
  {
   "cell_type": "code",
   "execution_count": 17,
   "id": "31348f76",
   "metadata": {},
   "outputs": [
    {
     "data": {
      "text/plain": [
       "5:Soil temperature level 1:K (avgua):regular_ll:depthBelowLandLayer:level None:fcst time 0 hrs (avgua):from 195001010000"
      ]
     },
     "execution_count": 17,
     "metadata": {},
     "output_type": "execute_result"
    }
   ],
   "source": [
    "grb"
   ]
  },
  {
   "cell_type": "code",
   "execution_count": 23,
   "id": "942c998a",
   "metadata": {},
   "outputs": [
    {
     "name": "stdout",
     "output_type": "stream",
     "text": [
      "5:Soil temperature level 1:K (avgua):regular_ll:depthBelowLandLayer:level None:fcst time 0 hrs (avgua):from 195001010000\n",
      "13:Soil temperature level 1:K (avgua):regular_ll:depthBelowLandLayer:level None:fcst time 0 hrs (avgua):from 195002010000\n",
      "21:Soil temperature level 1:K (avgua):regular_ll:depthBelowLandLayer:level None:fcst time 0 hrs (avgua):from 195003010000\n",
      "29:Soil temperature level 1:K (avgua):regular_ll:depthBelowLandLayer:level None:fcst time 0 hrs (avgua):from 195004010000\n",
      "37:Soil temperature level 1:K (avgua):regular_ll:depthBelowLandLayer:level None:fcst time 0 hrs (avgua):from 195005010000\n",
      "45:Soil temperature level 1:K (avgua):regular_ll:depthBelowLandLayer:level None:fcst time 0 hrs (avgua):from 195006010000\n",
      "53:Soil temperature level 1:K (avgua):regular_ll:depthBelowLandLayer:level None:fcst time 0 hrs (avgua):from 195007010000\n",
      "61:Soil temperature level 1:K (avgua):regular_ll:depthBelowLandLayer:level None:fcst time 0 hrs (avgua):from 195008010000\n",
      "69:Soil temperature level 1:K (avgua):regular_ll:depthBelowLandLayer:level None:fcst time 0 hrs (avgua):from 195009010000\n",
      "77:Soil temperature level 1:K (avgua):regular_ll:depthBelowLandLayer:level None:fcst time 0 hrs (avgua):from 195010010000\n",
      "85:Soil temperature level 1:K (avgua):regular_ll:depthBelowLandLayer:level None:fcst time 0 hrs (avgua):from 195011010000\n",
      "93:Soil temperature level 1:K (avgua):regular_ll:depthBelowLandLayer:level None:fcst time 0 hrs (avgua):from 195012010000\n"
     ]
    }
   ],
   "source": [
    "for i in range(len(gr.select(name='Soil temperature level 1'))):\n",
    "    print(gr.select(name='Soil temperature level 1')[i])"
   ]
  },
  {
   "cell_type": "code",
   "execution_count": null,
   "id": "2ef5789a",
   "metadata": {},
   "outputs": [],
   "source": []
  }
 ],
 "metadata": {
  "kernelspec": {
   "display_name": "Python 3 (ipykernel)",
   "language": "python",
   "name": "python3"
  },
  "language_info": {
   "codemirror_mode": {
    "name": "ipython",
    "version": 3
   },
   "file_extension": ".py",
   "mimetype": "text/x-python",
   "name": "python",
   "nbconvert_exporter": "python",
   "pygments_lexer": "ipython3",
   "version": "3.9.7"
  }
 },
 "nbformat": 4,
 "nbformat_minor": 5
}
