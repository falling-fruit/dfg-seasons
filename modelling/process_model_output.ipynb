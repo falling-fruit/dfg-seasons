{
 "cells": [
  {
   "cell_type": "code",
   "execution_count": 2,
   "id": "74d1b40d",
   "metadata": {},
   "outputs": [],
   "source": [
    "import pandas as pd\n",
    "import numpy as np"
   ]
  },
  {
   "cell_type": "code",
   "execution_count": 3,
   "id": "1239b437",
   "metadata": {},
   "outputs": [],
   "source": [
    "model_output_df = pd.read_csv('../data/model_training_data/all_species_model_outputs_ripeness_curves.csv')"
   ]
  },
  {
   "cell_type": "code",
   "execution_count": null,
   "id": "db340d3b",
   "metadata": {},
   "outputs": [],
   "source": []
  }
 ],
 "metadata": {
  "kernelspec": {
   "display_name": "seasonality",
   "language": "python",
   "name": "seasonality"
  },
  "language_info": {
   "codemirror_mode": {
    "name": "ipython",
    "version": 3
   },
   "file_extension": ".py",
   "mimetype": "text/x-python",
   "name": "python",
   "nbconvert_exporter": "python",
   "pygments_lexer": "ipython3",
   "version": "3.11.4"
  }
 },
 "nbformat": 4,
 "nbformat_minor": 5
}
