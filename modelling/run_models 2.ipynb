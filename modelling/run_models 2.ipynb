{
 "cells": [
  {
   "cell_type": "code",
   "execution_count": 1,
   "id": "b2c68612",
   "metadata": {},
   "outputs": [],
   "source": [
    "import cfgrib\n",
    "import xarray as xr\n",
    "\n",
    "import pandas as pd\n",
    "import numpy as np\n",
    "\n",
    "from pyPhenology import models, utils\n",
    "import numpy as np\n",
    "\n",
    "from tqdm import trange, tqdm\n",
    "\n",
    "import matplotlib.pyplot as plt\n",
    "\n",
    "from warnings import warn"
   ]
  },
  {
   "cell_type": "code",
   "execution_count": 80,
   "id": "15df9fe6",
   "metadata": {},
   "outputs": [],
   "source": [
    "def ripeness_data_to_dict(ripeness_data):    \n",
    "    \n",
    "    mean_maturation = np.mean(ripeness_data['flowering_day'])\n",
    "    \n",
    "    prediction_dict = {\n",
    "        \"full_flowering_data\": ripeness_data,\n",
    "        #\"species_site_flowering days\": list(ripeness_data['flowering_day']),\n",
    "        \"mean_flowering_day\": np.mean(ripeness_data['flowering_day'])\n",
    "    }\n",
    "    \n",
    "    return prediction_dict"
   ]
  },
  {
   "cell_type": "code",
   "execution_count": 66,
   "id": "9be0caba",
   "metadata": {},
   "outputs": [],
   "source": [
    "def aic(obs, pred, n_param):\n",
    "        return len(obs) * np.log(np.mean((obs - pred)**2)) + 2*(n_param + 1)\n",
    "\n",
    "observations, predictors = utils.load_test_data(name='vaccinium',\n",
    "                                                phenophase='budburst')\n",
    "\n",
    "default_models = [models.ThermalTime(), models.FallCooling(), models.M1(), models.MSB()]\n",
    "\n",
    "default_model_names = ['ThermalTime', \"FallCooling\", \"M1\", \"MSB\"]\n",
    "\n",
    "def train_ripeness(observations, predictors, test_observations, test_predictors, models=['ThermalTime']):\n",
    "\n",
    "    \n",
    "    # set up model comparisons\n",
    "    best_aic=np.inf\n",
    "    best_model = None\n",
    "    best_model_name = None\n",
    "\n",
    "    # iterate through all models\n",
    "    for model_name in models:\n",
    "        print(\"running model {m}\".format(m=model_name))\n",
    "        \n",
    "        Model = utils.load_model(model_name)\n",
    "        model = Model()\n",
    "        model.fit(observations, predictors, optimizer_params='practical')\n",
    "        \n",
    "        # predict from test observations\n",
    "        print(\"making predictions for model {m}\".format(m=model_name))        \n",
    "        preds = model.predict(test_observations, test_predictors)\n",
    "        \n",
    "        #print(preds)\n",
    "        test_days = test_observations.doy.values\n",
    "        #print(test_days)\n",
    "        # this isn't valid - need to filter by site IDs\n",
    "        \n",
    "        # THIS IS REALLY BAD:\n",
    "        test_days = test_days[0:len(preds)]\n",
    "        #print(test_days)\n",
    "        \n",
    "        # score model\n",
    "        model_aic = aic(obs = test_days,\n",
    "                        pred=preds,\n",
    "                        n_param = len(model.get_params()))\n",
    "\n",
    "        if model_aic < best_aic:\n",
    "            best_model = model\n",
    "            best_model_name = model_name\n",
    "            best_aic = model_aic\n",
    "\n",
    "        print('model {m} got an aic of {a}'.format(m=model_name,a=model_aic))\n",
    "\n",
    "    print('Best model: {m}'.format(m=best_model_name))\n",
    "    print('Best model paramters:')\n",
    "    print(best_model.get_params())\n",
    "    print(\"Ripeness Day: {}\".format(np.mean(preds)))\n",
    "    \n",
    "    ripeness_data = test_observations\n",
    "    ripeness_data['flowering_day'] = preds\n",
    "    \n",
    "    return ripeness_data"
   ]
  },
  {
   "cell_type": "code",
   "execution_count": 68,
   "id": "4a3260cd",
   "metadata": {},
   "outputs": [],
   "source": [
    "def train_ripeness_percent(observations, predictors, test_percent, models=['ThermalTime']):\n",
    "    test_observations = observations.sample(frac=test_percent)\n",
    "    observations_train = observations.drop(test_observations.index)\n",
    "    \n",
    "    # set up model comparisons\n",
    "    best_aic=np.inf\n",
    "    best_model = None\n",
    "    best_model_name = None\n",
    "\n",
    "    # iterate through all models\n",
    "    for model_name in models:\n",
    "        print(\"running model {m}\".format(m=model_name))\n",
    "        \n",
    "        Model = utils.load_model(model_name)\n",
    "        model = Model()\n",
    "        model.fit(observations_train, predictors, optimizer_params='practical')\n",
    "        \n",
    "        # predict from test observations\n",
    "        print(\"making predictions for model {m}\".format(m=model_name))        \n",
    "        preds = model.predict(test_observations, predictors)\n",
    "    \n",
    "        #print(preds)\n",
    "        test_days = test_observations.doy.values\n",
    "        #print(test_days)\n",
    "        \n",
    "        # THIS IS REALLY BAD:\n",
    "        test_days = test_days[0:len(preds)]\n",
    "        #print(test_days)\n",
    "        \n",
    "        # score model\n",
    "        model_aic = aic(obs = test_days,\n",
    "                        pred=preds,\n",
    "                        n_param = len(model.get_params()))\n",
    "        print(model_aic)\n",
    "\n",
    "        if model_aic < best_aic:\n",
    "            best_model = model\n",
    "            best_model_name = model_name\n",
    "            best_aic = model_aic\n",
    "\n",
    "        print('model {m} got an aic of {a}'.format(m=model_name,a=model_aic))\n",
    "\n",
    "    print('Best model: {m}'.format(m=best_model_name))\n",
    "    print('Best model paramters:')\n",
    "    print(best_model.get_params())\n",
    "    print(\"Ripeness Day: {}\".format(np.mean(preds)))\n",
    "    \n",
    "    ripeness_data = test_observations\n",
    "    ripeness_data['flowering_day'] = preds\n",
    "    \n",
    "    return ripeness_data"
   ]
  },
  {
   "cell_type": "code",
   "execution_count": 5,
   "id": "255ad0b3",
   "metadata": {},
   "outputs": [],
   "source": [
    "# Load and process weather data\n",
    "\n",
    "grib_data = cfgrib.open_datasets('../data/weather_data.grib')\n",
    "\n",
    "core_data = grib_data[0]"
   ]
  },
  {
   "cell_type": "code",
   "execution_count": 40,
   "id": "e739ef9a",
   "metadata": {},
   "outputs": [],
   "source": [
    "# Load and process apple data\n",
    "apple_data = pd.read_csv('../data/plant phenology/malus.csv')\n",
    "\n",
    "apple_data[\"lon_360\"] = apple_data[\"LON\"] % 360\n",
    "\n",
    "# This min max is derived from a historgram – think of how to do this algorithmically.\n",
    "concentrated_apples = apple_data[(apple_data['lon_360'] >= 5) & (apple_data['lon_360'] <= 17)]\n",
    "\n",
    "concentrated_apples = concentrated_apples[concentrated_apples['YEAR'] >= 2010].drop_duplicates()"
   ]
  },
  {
   "cell_type": "code",
   "execution_count": 7,
   "id": "806ecc31",
   "metadata": {},
   "outputs": [],
   "source": [
    "concentrated_weather = core_data.where((core_data.latitude <= 55) & \n",
    "                                       (core_data.latitude >= 44) &\n",
    "                                        (core_data.longitude <= 18) & \n",
    "                                       (core_data.longitude >= 5), drop=True)"
   ]
  },
  {
   "cell_type": "code",
   "execution_count": 8,
   "id": "bfef27b1",
   "metadata": {},
   "outputs": [],
   "source": [
    "def get_site_history(weather_array, site_id, site_lat, site_lon):\n",
    "    filtered = weather_array.where((abs(weather_array.latitude - site_lat) <= 0.05) & (abs(weather_array.longitude - site_lon) <= 0.05), drop=True)\n",
    "    \n",
    "    #print(\"Converting GRIB to dataframe\")\n",
    "    site_df = filtered.to_dataframe().drop([\"number\", \"step\", \"surface\"], axis=1).reset_index().rename(columns={\"skt\":\"temperature\"})\n",
    "    \n",
    "    site_df['site_id'] = site_id\n",
    "    \n",
    "    site_df['year'] = site_df.time.dt.to_period('Y')\n",
    "    site_df['doy'] = site_df.time.dt.strftime('%j').astype(int)\n",
    "    \n",
    "    site_df = site_df[['site_id', 'temperature', 'year', 'doy', 'latitude', 'longitude']]\n",
    "    \n",
    "    return(site_df)"
   ]
  },
  {
   "cell_type": "code",
   "execution_count": 9,
   "id": "f7701e78",
   "metadata": {},
   "outputs": [
    {
     "name": "stderr",
     "output_type": "stream",
     "text": [
      "10613it [02:08, 82.73it/s]\n"
     ]
    }
   ],
   "source": [
    "# get site histories\n",
    "\n",
    "site_histories = []\n",
    "\n",
    "for index, row in tqdm(concentrated_apples.iterrows()):\n",
    "    \n",
    "    site_histories.append(get_site_history(concentrated_weather, row['site_id'], row['LAT'], row['lon_360']))\n",
    "\n",
    "# create site history df, process a bit\n",
    "full_site_histories = pd.concat(site_histories).dropna()\n",
    "\n",
    "full_site_histories['year'] = full_site_histories['year'].astype(str).astype(int)\n",
    "full_site_histories['site_id'] = full_site_histories['site_id'].astype(int)\n",
    "\n",
    "# Correct for leap years\n",
    "leap_year_key = {60: 61, \n",
    "                 91: 92, \n",
    "                 121: 122, \n",
    "                 152: 153, \n",
    "                 182: 183, \n",
    "                 213: 214, \n",
    "                 244: 245, \n",
    "                 274: 275, \n",
    "                 305: 306, \n",
    "                 335: 336}\n",
    "\n",
    "corrected_leap_year_histories = full_site_histories.replace({'doy': leap_year_key})"
   ]
  },
  {
   "cell_type": "code",
   "execution_count": 43,
   "id": "5951ed35",
   "metadata": {},
   "outputs": [],
   "source": [
    "def claudia_observations_to_pyphenology(claudia_obs):\n",
    "    new_observations = claudia_obs.copy(deep=True)\n",
    "    \n",
    "    new_observations['species_actual'] = new_observations['specificEpithet']\n",
    "    \n",
    "    new_observations.rename(columns={'YEAR': 'year',\n",
    "                            'DAY': 'doy',\n",
    "                            'genus': 'species',\n",
    "                            'LAT': 'latitude'}, inplace=True)\n",
    "    \n",
    "    new_observations.drop(['specificEpithet', 'eventRemarks', 'LON', 'lon_360'], axis=1, inplace=True)\n",
    "    \n",
    "    new_observations['phenophase'] = 516\n",
    "    \n",
    "    return new_observations"
   ]
  },
  {
   "cell_type": "code",
   "execution_count": 50,
   "id": "7448f2a2",
   "metadata": {},
   "outputs": [],
   "source": [
    "example_observations_2 = claudia_observations_to_pyphenology(concentrated_apples)"
   ]
  },
  {
   "cell_type": "code",
   "execution_count": 54,
   "id": "09b19e37",
   "metadata": {},
   "outputs": [
    {
     "name": "stderr",
     "output_type": "stream",
     "text": [
      "/var/folders/xk/t3y_dz7j75ld1xlbfffyj5lm0000gn/T/ipykernel_37537/899493858.py:2: SettingWithCopyWarning: \n",
      "A value is trying to be set on a copy of a slice from a DataFrame\n",
      "\n",
      "See the caveats in the documentation: https://pandas.pydata.org/pandas-docs/stable/user_guide/indexing.html#returning-a-view-versus-a-copy\n",
      "  filtered_observations.dropna(inplace=True)\n"
     ]
    }
   ],
   "source": [
    "filtered_observations = example_observations_2[example_observations_2['site_id'].isin(corrected_leap_year_histories['site_id'])]\n",
    "filtered_observations.dropna(inplace=True)"
   ]
  },
  {
   "cell_type": "code",
   "execution_count": 26,
   "id": "461eaaba",
   "metadata": {
    "collapsed": true
   },
   "outputs": [
    {
     "name": "stdout",
     "output_type": "stream",
     "text": [
      "running model ThermalTime\n"
     ]
    },
    {
     "name": "stderr",
     "output_type": "stream",
     "text": [
      "/Users/peterbenson/opt/anaconda3/envs/seasonality/lib/python3.11/site-packages/pyPhenology/models/utils/misc.py:66: UserWarning: Dropped temperature data for doy 336 due to missing data. Most likely from leap year mismatch\n",
      "  warn(\"\"\"Dropped temperature data for doy {d} due to missing data. Most likely from leap year mismatch\"\"\".format(d=last_doy_column))\n"
     ]
    },
    {
     "name": "stdout",
     "output_type": "stream",
     "text": [
      "making predictions for model ThermalTime\n",
      "14867.730304862449\n",
      "model ThermalTime got an aic of 14867.730304862449\n",
      "Best model: ThermalTime\n",
      "Best model paramters:\n",
      "{'t1': 161.11544149067402, 'T': 12.383106307297997, 'F': 857.6778689783685}\n"
     ]
    },
    {
     "name": "stderr",
     "output_type": "stream",
     "text": [
      "/Users/peterbenson/opt/anaconda3/envs/seasonality/lib/python3.11/site-packages/pyPhenology/models/utils/misc.py:66: UserWarning: Dropped temperature data for doy 336 due to missing data. Most likely from leap year mismatch\n",
      "  warn(\"\"\"Dropped temperature data for doy {d} due to missing data. Most likely from leap year mismatch\"\"\".format(d=last_doy_column))\n"
     ]
    }
   ],
   "source": [
    "# Drop sites where there's no weather data\n",
    "raw_preds = train_ripeness_percent(filtered_observations, corrected_leap_year_histories, 0.2)"
   ]
  },
  {
   "cell_type": "code",
   "execution_count": 34,
   "id": "bd713f0d",
   "metadata": {},
   "outputs": [
    {
     "data": {
      "text/plain": [
       "1023"
      ]
     },
     "execution_count": 34,
     "metadata": {},
     "output_type": "execute_result"
    }
   ],
   "source": [
    "len(raw_preds['site_id'].unique())"
   ]
  },
  {
   "cell_type": "code",
   "execution_count": 32,
   "id": "886a7ff9",
   "metadata": {},
   "outputs": [
    {
     "data": {
      "text/plain": [
       "248.34034416826003"
      ]
     },
     "execution_count": 32,
     "metadata": {},
     "output_type": "execute_result"
    }
   ],
   "source": [
    "np.mean(raw_preds['doy'])"
   ]
  },
  {
   "cell_type": "code",
   "execution_count": 33,
   "id": "2c7e2955",
   "metadata": {},
   "outputs": [
    {
     "data": {
      "text/plain": [
       "34.71269456459817"
      ]
     },
     "execution_count": 33,
     "metadata": {},
     "output_type": "execute_result"
    }
   ],
   "source": [
    "np.std(raw_preds['doy'])"
   ]
  },
  {
   "cell_type": "markdown",
   "id": "276ebb9c",
   "metadata": {},
   "source": [
    "### Separate data into two groups: above 245 and below 245"
   ]
  },
  {
   "cell_type": "code",
   "execution_count": 56,
   "id": "3e1d4b0b",
   "metadata": {},
   "outputs": [],
   "source": [
    "filtered_observations_high_days = filtered_observations[filtered_observations['doy'] >= 245]\n",
    "filtered_observations_low_days = filtered_observations[filtered_observations['doy']<= 245]"
   ]
  },
  {
   "cell_type": "code",
   "execution_count": 58,
   "id": "22282b15",
   "metadata": {
    "scrolled": true
   },
   "outputs": [
    {
     "name": "stdout",
     "output_type": "stream",
     "text": [
      "running model ThermalTime\n"
     ]
    },
    {
     "name": "stderr",
     "output_type": "stream",
     "text": [
      "/Users/peterbenson/opt/anaconda3/envs/seasonality/lib/python3.11/site-packages/pyPhenology/models/utils/misc.py:66: UserWarning: Dropped temperature data for doy 336 due to missing data. Most likely from leap year mismatch\n",
      "  warn(\"\"\"Dropped temperature data for doy {d} due to missing data. Most likely from leap year mismatch\"\"\".format(d=last_doy_column))\n"
     ]
    },
    {
     "name": "stdout",
     "output_type": "stream",
     "text": [
      "making predictions for model ThermalTime\n",
      "5152.7876757856475\n",
      "model ThermalTime got an aic of 5152.7876757856475\n",
      "Best model: ThermalTime\n",
      "Best model paramters:\n",
      "{'t1': 205.35806282612515, 'T': -6.676849196936063, 'F': 143.05545908351883}\n",
      "        year  doy species  latitude  site_id              species_actual  \\\n",
      "100635  2015  205   Malus   49.9667     6161  domestica 'early cultivar'   \n",
      "100982  2013  213   Malus   53.0833     6209  domestica 'early cultivar'   \n",
      "43922   2015  226   Malus   50.2667     2525  domestica 'early cultivar'   \n",
      "100428  2014  217   Malus   50.4333     6142  domestica 'early cultivar'   \n",
      "40730   2014  223   Malus   48.4000     2366  domestica 'early cultivar'   \n",
      "...      ...  ...     ...       ...      ...                         ...   \n",
      "74858   2013  220   Malus   54.3000     4413  domestica 'early cultivar'   \n",
      "89274   2011  210   Malus   52.4000     5298  domestica 'early cultivar'   \n",
      "84711   2011  195   Malus   51.2167     3595  domestica 'early cultivar'   \n",
      "61720   2015  237   Malus   50.7833     3516  domestica 'early cultivar'   \n",
      "55018   2011  195   Malus   52.5000     3162  domestica 'early cultivar'   \n",
      "\n",
      "        phenophase  flowering_day  \n",
      "100635         516            214  \n",
      "100982         516            214  \n",
      "43922          516            214  \n",
      "100428         516            214  \n",
      "40730          516            214  \n",
      "...            ...            ...  \n",
      "74858          516            214  \n",
      "89274          516            214  \n",
      "84711          516            214  \n",
      "61720          516            214  \n",
      "55018          516            214  \n",
      "\n",
      "[970 rows x 8 columns]\n",
      "running model ThermalTime\n"
     ]
    },
    {
     "name": "stderr",
     "output_type": "stream",
     "text": [
      "/Users/peterbenson/opt/anaconda3/envs/seasonality/lib/python3.11/site-packages/pyPhenology/models/utils/misc.py:66: UserWarning: Dropped temperature data for doy 336 due to missing data. Most likely from leap year mismatch\n",
      "  warn(\"\"\"Dropped temperature data for doy {d} due to missing data. Most likely from leap year mismatch\"\"\".format(d=last_doy_column))\n",
      "/Users/peterbenson/opt/anaconda3/envs/seasonality/lib/python3.11/site-packages/pyPhenology/models/utils/misc.py:66: UserWarning: Dropped temperature data for doy 336 due to missing data. Most likely from leap year mismatch\n",
      "  warn(\"\"\"Dropped temperature data for doy {d} due to missing data. Most likely from leap year mismatch\"\"\".format(d=last_doy_column))\n"
     ]
    },
    {
     "name": "stdout",
     "output_type": "stream",
     "text": [
      "making predictions for model ThermalTime\n",
      "5887.62136978343\n",
      "model ThermalTime got an aic of 5887.62136978343\n",
      "Best model: ThermalTime\n",
      "Best model paramters:\n",
      "{'t1': 208.85852600214034, 'T': -3.3955265217295083, 'F': 700.2866793209392}\n",
      "        year  doy species  latitude  site_id              species_actual  \\\n",
      "267575  2013  280   Malus   53.4833     2876   domestica 'late cultivar'   \n",
      "216201  2014  256   Malus   49.1833     1349   domestica 'late cultivar'   \n",
      "321938  2012  285   Malus   51.8333     6218   domestica 'late cultivar'   \n",
      "236284  2012  271   Malus   53.5833     1175   domestica 'late cultivar'   \n",
      "106397  2010  269   Malus   47.1869     6659   domestica 'late cultivar'   \n",
      "...      ...  ...     ...       ...      ...                         ...   \n",
      "245992  2010  289   Malus   49.4000     1429   domestica 'late cultivar'   \n",
      "301614  2011  287   Malus   48.9667     4820   domestica 'late cultivar'   \n",
      "317007  2013  283   Malus   48.0833     5750   domestica 'late cultivar'   \n",
      "101348  2012  245   Malus   54.3833     6284  domestica 'early cultivar'   \n",
      "240469  2013  301   Malus   51.2500     1309   domestica 'late cultivar'   \n",
      "\n",
      "        phenophase  flowering_day  \n",
      "267575         516            275  \n",
      "216201         516            275  \n",
      "321938         516            275  \n",
      "236284         516            275  \n",
      "106397         516            275  \n",
      "...            ...            ...  \n",
      "245992         516            275  \n",
      "301614         516            275  \n",
      "317007         516            275  \n",
      "101348         516            275  \n",
      "240469         516            275  \n",
      "\n",
      "[1127 rows x 8 columns]\n"
     ]
    },
    {
     "name": "stderr",
     "output_type": "stream",
     "text": [
      "/Users/peterbenson/opt/anaconda3/envs/seasonality/lib/python3.11/site-packages/pyPhenology/models/utils/misc.py:66: UserWarning: Dropped temperature data for doy 336 due to missing data. Most likely from leap year mismatch\n",
      "  warn(\"\"\"Dropped temperature data for doy {d} due to missing data. Most likely from leap year mismatch\"\"\".format(d=last_doy_column))\n"
     ]
    }
   ],
   "source": [
    "print(train_ripeness_percent(filtered_observations_low_days, corrected_leap_year_histories, 0.2))\n",
    "print(train_ripeness_percent(filtered_observations_high_days, corrected_leap_year_histories, 0.2))\n"
   ]
  },
  {
   "cell_type": "code",
   "execution_count": 63,
   "id": "24c8b2b8",
   "metadata": {},
   "outputs": [
    {
     "data": {
      "text/plain": [
       "species_actual\n",
       "domestica 'late cultivar'         5218\n",
       "domestica 'early cultivar'         213\n",
       "domestica                          111\n",
       "pumila                              21\n",
       "domestica 'Kronprinz'               16\n",
       "domestica 'Golden delicius'         12\n",
       "domestica 'Jonagold'                 9\n",
       "domestica 'Idared'                   6\n",
       "domestica 'Roter boskoop'            5\n",
       "domestica 'Jonathan'                 4\n",
       "domestica 'Gravensteiner'            4\n",
       "domestica 'middle cultivar'          3\n",
       "domestica 'James grieve'             3\n",
       "domestica 'Cox Orange Renette'       2\n",
       "domestica 'Goldparmane'              2\n",
       "domestica 'Rubinette'                2\n",
       "domestica 'Gloster'                  1\n",
       "domestica 'Elstar'                   1\n",
       "pumila 'Gala'                        1\n",
       "pumila 'White Transparent'           1\n",
       "Name: count, dtype: int64"
      ]
     },
     "execution_count": 63,
     "metadata": {},
     "output_type": "execute_result"
    }
   ],
   "source": [
    "filtered_observations_high_days['species_actual'].value_counts()"
   ]
  },
  {
   "cell_type": "code",
   "execution_count": 62,
   "id": "d5d4ea2d",
   "metadata": {
    "collapsed": true
   },
   "outputs": [
    {
     "data": {
      "text/plain": [
       "species_actual\n",
       "domestica 'early cultivar'        4657\n",
       "domestica 'late cultivar'          114\n",
       "domestica                           41\n",
       "pumila                              11\n",
       "domestica 'Gravensteiner'           10\n",
       "domestica 'Kronprinz'                4\n",
       "domestica 'Cox Orange Renette'       2\n",
       "pumila 'Gala'                        2\n",
       "pumila 'Api Rouge sur Franc'         2\n",
       "domestica 'Weisser klarapfel'        2\n",
       "domestica 'middle cultivar'          1\n",
       "domestica 'Goldparmane'              1\n",
       "domestica 'James grieve'             1\n",
       "pumila 'Pomme Gris'                  1\n",
       "pumila 'Cox's Orange Pippin'         1\n",
       "Name: count, dtype: int64"
      ]
     },
     "execution_count": 62,
     "metadata": {},
     "output_type": "execute_result"
    }
   ],
   "source": [
    "filtered_observations_low_days['species_actual'].value_counts()"
   ]
  },
  {
   "cell_type": "markdown",
   "id": "16a13d78",
   "metadata": {},
   "source": [
    "Early cultivar ready in August, late cultivar ready in October."
   ]
  },
  {
   "cell_type": "markdown",
   "id": "5d526ada",
   "metadata": {},
   "source": [
    "### Separate Models by Species"
   ]
  },
  {
   "cell_type": "code",
   "execution_count": 82,
   "id": "b5d0ba6c",
   "metadata": {
    "collapsed": true
   },
   "outputs": [
    {
     "name": "stdout",
     "output_type": "stream",
     "text": [
      "domestica\n",
      "running model ThermalTime\n"
     ]
    },
    {
     "name": "stderr",
     "output_type": "stream",
     "text": [
      "/Users/peterbenson/opt/anaconda3/envs/seasonality/lib/python3.11/site-packages/pyPhenology/models/utils/misc.py:66: UserWarning: Dropped temperature data for doy 336 due to missing data. Most likely from leap year mismatch\n",
      "  warn(\"\"\"Dropped temperature data for doy {d} due to missing data. Most likely from leap year mismatch\"\"\".format(d=last_doy_column))\n"
     ]
    },
    {
     "name": "stdout",
     "output_type": "stream",
     "text": [
      "making predictions for model ThermalTime\n",
      "505.5275341407612\n",
      "model ThermalTime got an aic of 505.5275341407612\n",
      "Best model: ThermalTime\n",
      "Best model paramters:\n",
      "{'t1': 184.66154738204938, 'T': -10.25596128489199, 'F': 581.3423244831786}\n",
      "Ripeness Day: 262.02702702702703\n",
      "domestica 'Cox Orange Renette'\n",
      "Not enough data, skipping species. \n",
      "domestica 'early cultivar'\n",
      "running model ThermalTime\n"
     ]
    },
    {
     "name": "stderr",
     "output_type": "stream",
     "text": [
      "/Users/peterbenson/opt/anaconda3/envs/seasonality/lib/python3.11/site-packages/pyPhenology/models/utils/misc.py:66: UserWarning: Dropped temperature data for doy 336 due to missing data. Most likely from leap year mismatch\n",
      "  warn(\"\"\"Dropped temperature data for doy {d} due to missing data. Most likely from leap year mismatch\"\"\".format(d=last_doy_column))\n",
      "/Users/peterbenson/opt/anaconda3/envs/seasonality/lib/python3.11/site-packages/pyPhenology/models/utils/misc.py:66: UserWarning: Dropped temperature data for doy 336 due to missing data. Most likely from leap year mismatch\n",
      "  warn(\"\"\"Dropped temperature data for doy {d} due to missing data. Most likely from leap year mismatch\"\"\".format(d=last_doy_column))\n"
     ]
    },
    {
     "name": "stdout",
     "output_type": "stream",
     "text": [
      "making predictions for model ThermalTime\n",
      "13518.731046778645\n",
      "model ThermalTime got an aic of 13518.731046778645\n",
      "Best model: ThermalTime\n",
      "Best model paramters:\n",
      "{'t1': 176.5465093430085, 'T': 19.750778562992277, 'F': 577.9150165000722}\n",
      "Ripeness Day: 214.15346534653466\n",
      "domestica 'middle cultivar'\n",
      "Not enough data, skipping species. \n",
      "domestica 'late cultivar'\n"
     ]
    },
    {
     "name": "stderr",
     "output_type": "stream",
     "text": [
      "/Users/peterbenson/opt/anaconda3/envs/seasonality/lib/python3.11/site-packages/pyPhenology/models/utils/misc.py:66: UserWarning: Dropped temperature data for doy 336 due to missing data. Most likely from leap year mismatch\n",
      "  warn(\"\"\"Dropped temperature data for doy {d} due to missing data. Most likely from leap year mismatch\"\"\".format(d=last_doy_column))\n"
     ]
    },
    {
     "name": "stdout",
     "output_type": "stream",
     "text": [
      "running model ThermalTime\n"
     ]
    },
    {
     "name": "stderr",
     "output_type": "stream",
     "text": [
      "/Users/peterbenson/opt/anaconda3/envs/seasonality/lib/python3.11/site-packages/pyPhenology/models/utils/misc.py:66: UserWarning: Dropped temperature data for doy 336 due to missing data. Most likely from leap year mismatch\n",
      "  warn(\"\"\"Dropped temperature data for doy {d} due to missing data. Most likely from leap year mismatch\"\"\".format(d=last_doy_column))\n"
     ]
    },
    {
     "name": "stdout",
     "output_type": "stream",
     "text": [
      "making predictions for model ThermalTime\n",
      "14392.686402747746\n",
      "model ThermalTime got an aic of 14392.686402747746\n",
      "Best model: ThermalTime\n",
      "Best model paramters:\n",
      "{'t1': 162.96806903396157, 'T': 9.351739168279227, 'F': 884.997505385845}\n",
      "Ripeness Day: 275.0\n",
      "domestica 'Golden delicius'\n",
      "running model ThermalTime\n"
     ]
    },
    {
     "name": "stderr",
     "output_type": "stream",
     "text": [
      "/Users/peterbenson/opt/anaconda3/envs/seasonality/lib/python3.11/site-packages/pyPhenology/models/utils/misc.py:66: UserWarning: Dropped temperature data for doy 336 due to missing data. Most likely from leap year mismatch\n",
      "  warn(\"\"\"Dropped temperature data for doy {d} due to missing data. Most likely from leap year mismatch\"\"\".format(d=last_doy_column))\n",
      "/Users/peterbenson/opt/anaconda3/envs/seasonality/lib/python3.11/site-packages/pyPhenology/models/utils/misc.py:66: UserWarning: Dropped temperature data for doy 336 due to missing data. Most likely from leap year mismatch\n",
      "  warn(\"\"\"Dropped temperature data for doy {d} due to missing data. Most likely from leap year mismatch\"\"\".format(d=last_doy_column))\n"
     ]
    },
    {
     "name": "stdout",
     "output_type": "stream",
     "text": [
      "making predictions for model ThermalTime\n"
     ]
    },
    {
     "name": "stderr",
     "output_type": "stream",
     "text": [
      "/Users/peterbenson/opt/anaconda3/envs/seasonality/lib/python3.11/site-packages/pyPhenology/models/utils/misc.py:66: UserWarning: Dropped temperature data for doy 336 due to missing data. Most likely from leap year mismatch\n",
      "  warn(\"\"\"Dropped temperature data for doy {d} due to missing data. Most likely from leap year mismatch\"\"\".format(d=last_doy_column))\n"
     ]
    },
    {
     "name": "stdout",
     "output_type": "stream",
     "text": [
      "31.688200657707075\n",
      "model ThermalTime got an aic of 31.688200657707075\n",
      "Best model: ThermalTime\n",
      "Best model paramters:\n",
      "{'t1': 256.20496695198517, 'T': -20.960953684597694, 'F': 14.233195727355962}\n",
      "Ripeness Day: 275.0\n",
      "domestica 'Goldparmane'\n",
      "Not enough data, skipping species. \n",
      "domestica 'Idared'\n",
      "Not enough data, skipping species. \n",
      "domestica 'Jonathan'\n",
      "Not enough data, skipping species. \n",
      "domestica 'Elstar'\n",
      "Not enough data, skipping species. \n",
      "domestica 'Gloster'\n",
      "Not enough data, skipping species. \n",
      "domestica 'Gravensteiner'\n",
      "running model ThermalTime\n"
     ]
    },
    {
     "name": "stderr",
     "output_type": "stream",
     "text": [
      "/Users/peterbenson/opt/anaconda3/envs/seasonality/lib/python3.11/site-packages/pyPhenology/models/utils/misc.py:66: UserWarning: Dropped temperature data for doy 336 due to missing data. Most likely from leap year mismatch\n",
      "  warn(\"\"\"Dropped temperature data for doy {d} due to missing data. Most likely from leap year mismatch\"\"\".format(d=last_doy_column))\n"
     ]
    },
    {
     "name": "stdout",
     "output_type": "stream",
     "text": [
      "making predictions for model ThermalTime\n",
      "49.61902815360874\n",
      "model ThermalTime got an aic of 49.61902815360874\n",
      "Best model: ThermalTime\n",
      "Best model paramters:\n",
      "{'t1': 167.30100058437117, 'T': -7.634461209043645, 'F': 588.7892923135328}\n",
      "Ripeness Day: 229.5\n",
      "domestica 'James grieve'\n",
      "Not enough data, skipping species. \n",
      "domestica 'Jonagold'\n",
      "Not enough data, skipping species. \n",
      "domestica 'Kronprinz'\n",
      "running model ThermalTime\n"
     ]
    },
    {
     "name": "stderr",
     "output_type": "stream",
     "text": [
      "/Users/peterbenson/opt/anaconda3/envs/seasonality/lib/python3.11/site-packages/pyPhenology/models/utils/misc.py:66: UserWarning: Dropped temperature data for doy 336 due to missing data. Most likely from leap year mismatch\n",
      "  warn(\"\"\"Dropped temperature data for doy {d} due to missing data. Most likely from leap year mismatch\"\"\".format(d=last_doy_column))\n",
      "/Users/peterbenson/opt/anaconda3/envs/seasonality/lib/python3.11/site-packages/pyPhenology/models/utils/misc.py:66: UserWarning: Dropped temperature data for doy 336 due to missing data. Most likely from leap year mismatch\n",
      "  warn(\"\"\"Dropped temperature data for doy {d} due to missing data. Most likely from leap year mismatch\"\"\".format(d=last_doy_column))\n"
     ]
    },
    {
     "name": "stdout",
     "output_type": "stream",
     "text": [
      "making predictions for model ThermalTime\n",
      "71.78765684588475\n",
      "model ThermalTime got an aic of 71.78765684588475\n",
      "Best model: ThermalTime\n",
      "Best model paramters:\n",
      "{'t1': 156.3933597062242, 'T': 3.858089159533762, 'F': 876.0861120773608}\n",
      "Ripeness Day: 263.0\n",
      "domestica 'Roter boskoop'\n",
      "Not enough data, skipping species. \n",
      "domestica 'Rubinette'\n",
      "Not enough data, skipping species. \n",
      "domestica 'Weisser klarapfel'\n",
      "Not enough data, skipping species. \n",
      "pumila 'Gala'\n",
      "Not enough data, skipping species. \n",
      "pumila 'White Transparent'\n",
      "Not enough data, skipping species. \n",
      "pumila\n",
      "running model ThermalTime\n"
     ]
    },
    {
     "name": "stderr",
     "output_type": "stream",
     "text": [
      "/Users/peterbenson/opt/anaconda3/envs/seasonality/lib/python3.11/site-packages/pyPhenology/models/utils/misc.py:66: UserWarning: Dropped temperature data for doy 336 due to missing data. Most likely from leap year mismatch\n",
      "  warn(\"\"\"Dropped temperature data for doy {d} due to missing data. Most likely from leap year mismatch\"\"\".format(d=last_doy_column))\n",
      "/Users/peterbenson/opt/anaconda3/envs/seasonality/lib/python3.11/site-packages/pyPhenology/models/utils/misc.py:66: UserWarning: Dropped temperature data for doy 336 due to missing data. Most likely from leap year mismatch\n",
      "  warn(\"\"\"Dropped temperature data for doy {d} due to missing data. Most likely from leap year mismatch\"\"\".format(d=last_doy_column))\n"
     ]
    },
    {
     "name": "stdout",
     "output_type": "stream",
     "text": [
      "making predictions for model ThermalTime\n",
      "111.41498387974994\n",
      "model ThermalTime got an aic of 111.41498387974994\n",
      "Best model: ThermalTime\n",
      "Best model paramters:\n",
      "{'t1': 159.79937862269145, 'T': -20.630468293813284, 'F': 869.6052922680551}\n",
      "Ripeness Day: 245.0\n",
      "pumila 'Pomme Gris'\n",
      "Not enough data, skipping species. \n",
      "pumila 'Api Rouge sur Franc'\n",
      "Not enough data, skipping species. \n",
      "pumila 'Cox's Orange Pippin'\n",
      "Not enough data, skipping species. \n"
     ]
    },
    {
     "name": "stderr",
     "output_type": "stream",
     "text": [
      "/Users/peterbenson/opt/anaconda3/envs/seasonality/lib/python3.11/site-packages/pyPhenology/models/utils/misc.py:66: UserWarning: Dropped temperature data for doy 336 due to missing data. Most likely from leap year mismatch\n",
      "  warn(\"\"\"Dropped temperature data for doy {d} due to missing data. Most likely from leap year mismatch\"\"\".format(d=last_doy_column))\n"
     ]
    }
   ],
   "source": [
    "model_outputs = {}\n",
    "\n",
    "for species in filtered_observations['species_actual'].unique():\n",
    "    print(species)\n",
    "    \n",
    "    species_df = filtered_observations[filtered_observations['species_actual'] == species]\n",
    "    \n",
    "    if len(species_df) < 10:\n",
    "        print(\"Not enough data, skipping species. \")\n",
    "        continue\n",
    "    \n",
    "    model_outputs[species] = ripeness_data_to_dict(train_ripeness_percent(species_df, corrected_leap_year_histories, 0.5))\n"
   ]
  },
  {
   "cell_type": "code",
   "execution_count": 85,
   "id": "4fcf912a",
   "metadata": {},
   "outputs": [
    {
     "data": {
      "text/plain": [
       "dict_keys(['domestica', \"domestica 'early cultivar'\", \"domestica 'late cultivar'\", \"domestica 'Golden delicius'\", \"domestica 'Gravensteiner'\", \"domestica 'Kronprinz'\", 'pumila'])"
      ]
     },
     "execution_count": 85,
     "metadata": {},
     "output_type": "execute_result"
    }
   ],
   "source": [
    "model_outputs.keys()"
   ]
  },
  {
   "cell_type": "code",
   "execution_count": 79,
   "id": "92dad5a1",
   "metadata": {},
   "outputs": [],
   "source": [
    "def get_species_ripeness(species):\n",
    "    return model_outputs[species]['mean_flowing_days']"
   ]
  },
  {
   "cell_type": "markdown",
   "id": "653b768a",
   "metadata": {},
   "source": [
    "**IDEA:** Divide all of the coordinates into \"blocks\" and use the blocks as factors, then count up the occurrences in each block. Only keep the blocks with the most occurrences. Need a faster way to filter out weather data. "
   ]
  },
  {
   "cell_type": "code",
   "execution_count": 89,
   "id": "d62c6289",
   "metadata": {},
   "outputs": [],
   "source": [
    "filtered_observations.to_csv(\"../data/model_training_data/apple_observations_training.csv\")"
   ]
  },
  {
   "cell_type": "code",
   "execution_count": 88,
   "id": "578c638d",
   "metadata": {},
   "outputs": [],
   "source": [
    "corrected_leap_year_histories.to_csv(\"../data/model_training_data/apple_weather_training.csv\")"
   ]
  }
 ],
 "metadata": {
  "kernelspec": {
   "display_name": "seasonality",
   "language": "python",
   "name": "seasonality"
  },
  "language_info": {
   "codemirror_mode": {
    "name": "ipython",
    "version": 3
   },
   "file_extension": ".py",
   "mimetype": "text/x-python",
   "name": "python",
   "nbconvert_exporter": "python",
   "pygments_lexer": "ipython3",
   "version": "3.11.4"
  }
 },
 "nbformat": 4,
 "nbformat_minor": 5
}
