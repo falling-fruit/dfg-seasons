{
 "cells": [
  {
   "cell_type": "code",
   "execution_count": 1,
   "id": "ae7c5c79",
   "metadata": {},
   "outputs": [],
   "source": [
    "from model_helpers import *\n",
    "\n",
    "import cfgrib\n",
    "import xarray as xr\n",
    "\n",
    "import pandas as pd\n",
    "import numpy as np\n",
    "\n",
    "from pyPhenology import models, utils\n",
    "\n",
    "from tqdm import trange, tqdm\n",
    "\n",
    "import matplotlib.pyplot as plt\n",
    "\n",
    "from warnings import warn\n",
    "import warnings\n",
    "\n",
    "warnings.filterwarnings('ignore')\n",
    "\n",
    "high_cutoff_year = 2022\n",
    "low_cutoff_year = 2010"
   ]
  },
  {
   "cell_type": "code",
   "execution_count": 2,
   "id": "6c9b1714",
   "metadata": {},
   "outputs": [],
   "source": [
    "def make_test_df(train_df):\n",
    "    #print(train_df)\n",
    "    species_sites = train_df['site_id'].unique()\n",
    "        \n",
    "    #print(species_sites)\n",
    "    \n",
    "    site_ripenesses = []\n",
    "\n",
    "    for site in species_sites:\n",
    "        site_df = train_df[train_df['site_id'] == site]\n",
    "\n",
    "        site_ripenesses.append({\n",
    "            'site_id': site,\n",
    "            'doy': np.mean(site_df['doy'])\n",
    "        })\n",
    "\n",
    "    species_test_df = pd.DataFrame(site_ripenesses)\n",
    "    species_test_df['year'] = high_cutoff_year\n",
    "    \n",
    "    return species_test_df\n",
    "\n",
    "# More specific to our uses.\n",
    "def train_ripeness_small(observations, predictors, test_observations, test_predictors, model_name = 'ThermalTime'):\n",
    "\n",
    "    print(\"running model {m}\".format(m=model_name))\n",
    "    Model = utils.load_model(model_name)\n",
    "    model = Model()\n",
    "    model.fit(observations, predictors, optimizer_params='practical')\n",
    "    \n",
    "    print(model)\n",
    "    \n",
    "    print(\"making predictions for model {m}\".format(m=model_name))        \n",
    "    preds = model.predict(test_observations, test_predictors)\n",
    "\n",
    "    if len(preds) == 0:\n",
    "        print(test_observations)\n",
    "        print(test_predictors)\n",
    "    \n",
    "    test_days = test_observations.doy.values\n",
    "    print(test_days)\n",
    "    print(preds)\n",
    "   \n",
    "    # Various error types\n",
    "    model_mae = mae(test_days, preds)\n",
    "    model_rmse = rmse(test_days, preds)\n",
    "    median_error = np.median(np.abs(test_days - preds))\n",
    "\n",
    "    print('model {m} got a MAE of {a}'.format(m=model_name,a=model_mae))\n",
    "    print('model {m} got an RMSE of {a}'.format(m=model_name,a=model_rmse))\n",
    "    print('model {m}\\'s median error is: {a}'.format(m=model_name,a=median_error))\n",
    "\n",
    "    print(\"Ripeness Day: {}\".format(np.mean(preds)))\n",
    "    \n",
    "    ripeness_data = test_observations\n",
    "    ripeness_data['ripeness_day'] = preds\n",
    "    \n",
    "    ripeness_dict = {\n",
    "        'model_object': model,\n",
    "        'MAE': model_mae,\n",
    "        'RMSE': model_rmse,\n",
    "        'Median Error': median_error,\n",
    "        'prediction_df': ripeness_data,\n",
    "    }\n",
    "    \n",
    "    return ripeness_dict"
   ]
  },
  {
   "cell_type": "markdown",
   "id": "6ecd67a2",
   "metadata": {},
   "source": [
    "Idea for corrections: take the lower error between the base error and the year-transformed error.\n",
    "\n",
    "\n",
    "Best Approach is:\n",
    "- High time resolution, correcting for missing data by using averaged data from previous years.\n",
    "- Add European Weather data.\n",
    "- No southern hemisphere. \n",
    "- Corrected error (i.e. date wrapping). \n",
    "\n",
    "Best reporting statistic: what portion of results lie under X.\n",
    "For example, 80% of results lie under 1 STD, 95% lie under 2 STD. \n",
    "Can make a \"confidence score\" from this – percentile error? Ex. This is less error than 90% of things.  "
   ]
  },
  {
   "cell_type": "code",
   "execution_count": 100,
   "id": "87c6b579",
   "metadata": {},
   "outputs": [
    {
     "name": "stdout",
     "output_type": "stream",
     "text": [
      "loading weather data\n",
      "Loading Plant Data\n",
      "filtering weather data\n",
      "formatting weather data\n",
      "formatting date columns\n",
      "correcting leap years\n",
      "adding site IDs to weather data\n",
      "separating weather data\n",
      "converting to Celsius\n",
      "formatting plant data\n",
      "filtering plant data\n"
     ]
    }
   ],
   "source": [
    "# Load in high-res weather data\n",
    "print(\"loading weather data\")\n",
    "grib_data = cfgrib.open_datasets('../data/monthly_weather_data.grib')\n",
    "\n",
    "core_data = grib_data[0]\n",
    "\n",
    "print(\"Loading Plant Data\")\n",
    "formatted_plants = pd.read_csv(\"../data/model_training_data/all_plants_formatted.csv\", index_col=0)\n",
    "\n",
    "formatted_plants['rounded_lat'] = np.round(formatted_plants['latitude'], 1)\n",
    "formatted_plants['rounded_lon'] = np.round(formatted_plants['lon_360'], 1)\n",
    "\n",
    "#rounded_sites = formatted_plants[['site_id', 'rounded_lat', 'rounded_lon']].drop_duplicates()\n",
    "\n",
    "site_x_vals = xr.DataArray(formatted_plants['rounded_lat'], dims=['site'])\n",
    "site_y_vals = xr.DataArray(formatted_plants['rounded_lon'], dims=['site'])\n",
    "\n",
    "print(\"filtering weather data\")\n",
    "full_weather_data = core_data.sel(latitude=site_x_vals, longitude=site_y_vals, method='nearest').to_dataframe().dropna().drop_duplicates()\n",
    "\n",
    "print(\"formatting weather data\")\n",
    "formatted_weather = format_weather_data(full_weather_data)\n",
    "\n",
    "formatted_weather['latitude'] = np.round(formatted_weather['latitude'], 1)\n",
    "formatted_weather['longitude'] = np.round(formatted_weather['longitude'], 1)\n",
    "\n",
    "print(\"adding site IDs to weather data\")\n",
    "#rounded_sites['coordstring'] = rounded_sites['rounded_lat'].astype(str) + rounded_sites['rounded_lon'].astype(str)\n",
    "formatted_plants['coordstring'] = formatted_plants['rounded_lat'].astype(str) + formatted_plants['rounded_lon'].astype(str)\n",
    "\n",
    "formatted_weather['coordstring'] = formatted_weather['latitude'].astype(str) + formatted_weather['longitude'].astype(str)\n",
    "\n",
    "formatted_plants['site_id'] = formatted_plants['coordstring'].str.replace(\".\", \"\")\n",
    "formatted_weather['site_id'] = formatted_weather['coordstring'].str.replace(\".\", \"\")\n",
    "\n",
    "## Add Site ID to the weather data\n",
    "#weather_with_sites = pd.merge(formatted_weather, formatted_plants[['coordstring', 'site_id']], on='coordstring')#.drop('coordstring', axis=1)\n",
    "## Separate into training data and testing data\n",
    "\n",
    "# filter out current year\n",
    "print(\"separating weather data\")\n",
    "formatted_weather = formatted_weather[formatted_weather['year'] != 2023]\n",
    "\n",
    "# \n",
    "print(\"converting to Celsius\")\n",
    "formatted_weather['temperature'] = formatted_weather['temperature'] - 272.15\n",
    "\n",
    "#weather_training = weather_with_sites[weather_with_sites['year'] < high_cutoff_year]\n",
    "#weather_test = weather_with_sites[weather_with_sites['year'] >= high_cutoff_year]\n",
    "\n",
    "# final formatting steps for plants\n",
    "print(\"formatting plant data\")\n",
    "species_list = formatted_plants['formatted_sci_name'].unique()\n",
    "formatted_plants.drop('species', axis=1, inplace=True)\n",
    "\n",
    "# correct for missing sites\n",
    "weather_sites = formatted_weather['site_id'].unique()\n",
    "\n",
    "print(\"filtering plant data\")\n",
    "filtered_plants = formatted_plants[(formatted_plants['site_id'].isin(weather_sites)) & \n",
    "                                   (formatted_plants['year'] != 2023) &\n",
    "                                   (formatted_plants['latitude'] > 0) &\n",
    "                                    (formatted_plants['doy'] >= 60)]\n",
    "\n",
    "aggressive_filtered_plants = filtered_plants.query('doy <= 145 and doy >= 314')\n"
   ]
  },
  {
   "cell_type": "code",
   "execution_count": 101,
   "id": "7856ff96",
   "metadata": {},
   "outputs": [
    {
     "data": {
      "text/html": [
       "<div>\n",
       "<style scoped>\n",
       "    .dataframe tbody tr th:only-of-type {\n",
       "        vertical-align: middle;\n",
       "    }\n",
       "\n",
       "    .dataframe tbody tr th {\n",
       "        vertical-align: top;\n",
       "    }\n",
       "\n",
       "    .dataframe thead th {\n",
       "        text-align: right;\n",
       "    }\n",
       "</style>\n",
       "<table border=\"1\" class=\"dataframe\">\n",
       "  <thead>\n",
       "    <tr style=\"text-align: right;\">\n",
       "      <th></th>\n",
       "      <th>site_id</th>\n",
       "      <th>latitude</th>\n",
       "      <th>doy</th>\n",
       "      <th>year</th>\n",
       "      <th>genus</th>\n",
       "      <th>lon_360</th>\n",
       "      <th>phenophase</th>\n",
       "      <th>formatted_sci_name</th>\n",
       "      <th>rounded_lat</th>\n",
       "      <th>rounded_lon</th>\n",
       "      <th>coordstring</th>\n",
       "    </tr>\n",
       "  </thead>\n",
       "  <tbody>\n",
       "    <tr>\n",
       "      <th>0</th>\n",
       "      <td>4372806</td>\n",
       "      <td>43.680695</td>\n",
       "      <td>198.0</td>\n",
       "      <td>2020.0</td>\n",
       "      <td>Rubus</td>\n",
       "      <td>280.617281</td>\n",
       "      <td>516</td>\n",
       "      <td>Rubus</td>\n",
       "      <td>43.7</td>\n",
       "      <td>280.6</td>\n",
       "      <td>43.7280.6</td>\n",
       "    </tr>\n",
       "    <tr>\n",
       "      <th>1</th>\n",
       "      <td>4312796</td>\n",
       "      <td>43.115834</td>\n",
       "      <td>206.0</td>\n",
       "      <td>2020.0</td>\n",
       "      <td>Rubus</td>\n",
       "      <td>279.566474</td>\n",
       "      <td>516</td>\n",
       "      <td>Rubus</td>\n",
       "      <td>43.1</td>\n",
       "      <td>279.6</td>\n",
       "      <td>43.1279.6</td>\n",
       "    </tr>\n",
       "    <tr>\n",
       "      <th>2</th>\n",
       "      <td>4002769</td>\n",
       "      <td>39.978432</td>\n",
       "      <td>173.0</td>\n",
       "      <td>2020.0</td>\n",
       "      <td>Rubus</td>\n",
       "      <td>276.941349</td>\n",
       "      <td>516</td>\n",
       "      <td>Rubus</td>\n",
       "      <td>40.0</td>\n",
       "      <td>276.9</td>\n",
       "      <td>40.0276.9</td>\n",
       "    </tr>\n",
       "    <tr>\n",
       "      <th>3</th>\n",
       "      <td>4042801</td>\n",
       "      <td>40.431277</td>\n",
       "      <td>202.0</td>\n",
       "      <td>2020.0</td>\n",
       "      <td>Rubus</td>\n",
       "      <td>280.085982</td>\n",
       "      <td>516</td>\n",
       "      <td>Rubus</td>\n",
       "      <td>40.4</td>\n",
       "      <td>280.1</td>\n",
       "      <td>40.4280.1</td>\n",
       "    </tr>\n",
       "    <tr>\n",
       "      <th>4</th>\n",
       "      <td>4042801</td>\n",
       "      <td>40.431277</td>\n",
       "      <td>181.0</td>\n",
       "      <td>2020.0</td>\n",
       "      <td>Rubus</td>\n",
       "      <td>280.085982</td>\n",
       "      <td>516</td>\n",
       "      <td>Rubus</td>\n",
       "      <td>40.4</td>\n",
       "      <td>280.1</td>\n",
       "      <td>40.4280.1</td>\n",
       "    </tr>\n",
       "    <tr>\n",
       "      <th>...</th>\n",
       "      <td>...</td>\n",
       "      <td>...</td>\n",
       "      <td>...</td>\n",
       "      <td>...</td>\n",
       "      <td>...</td>\n",
       "      <td>...</td>\n",
       "      <td>...</td>\n",
       "      <td>...</td>\n",
       "      <td>...</td>\n",
       "      <td>...</td>\n",
       "      <td>...</td>\n",
       "    </tr>\n",
       "    <tr>\n",
       "      <th>148871</th>\n",
       "      <td>3612798</td>\n",
       "      <td>36.074535</td>\n",
       "      <td>335.0</td>\n",
       "      <td>2015.0</td>\n",
       "      <td>Pyrus</td>\n",
       "      <td>279.768090</td>\n",
       "      <td>516</td>\n",
       "      <td>Pyrus pyrifolia</td>\n",
       "      <td>36.1</td>\n",
       "      <td>279.8</td>\n",
       "      <td>36.1279.8</td>\n",
       "    </tr>\n",
       "    <tr>\n",
       "      <th>148872</th>\n",
       "      <td>3542808</td>\n",
       "      <td>35.432416</td>\n",
       "      <td>119.0</td>\n",
       "      <td>2023.0</td>\n",
       "      <td>Pyrus</td>\n",
       "      <td>280.781434</td>\n",
       "      <td>516</td>\n",
       "      <td>Pyrus pyrifolia</td>\n",
       "      <td>35.4</td>\n",
       "      <td>280.8</td>\n",
       "      <td>35.4280.8</td>\n",
       "    </tr>\n",
       "    <tr>\n",
       "      <th>148873</th>\n",
       "      <td>3792754</td>\n",
       "      <td>37.869680</td>\n",
       "      <td>233.0</td>\n",
       "      <td>2016.0</td>\n",
       "      <td>Pyrus</td>\n",
       "      <td>275.415025</td>\n",
       "      <td>516</td>\n",
       "      <td>Pyrus pyrifolia</td>\n",
       "      <td>37.9</td>\n",
       "      <td>275.4</td>\n",
       "      <td>37.9275.4</td>\n",
       "    </tr>\n",
       "    <tr>\n",
       "      <th>148874</th>\n",
       "      <td>4552372</td>\n",
       "      <td>45.512989</td>\n",
       "      <td>244.0</td>\n",
       "      <td>2021.0</td>\n",
       "      <td>Pyrus</td>\n",
       "      <td>237.154095</td>\n",
       "      <td>516</td>\n",
       "      <td>Pyrus pyrifolia</td>\n",
       "      <td>45.5</td>\n",
       "      <td>237.2</td>\n",
       "      <td>45.5237.2</td>\n",
       "    </tr>\n",
       "    <tr>\n",
       "      <th>148875</th>\n",
       "      <td>4932368</td>\n",
       "      <td>49.267388</td>\n",
       "      <td>254.0</td>\n",
       "      <td>2016.0</td>\n",
       "      <td>Pyrus</td>\n",
       "      <td>236.842248</td>\n",
       "      <td>516</td>\n",
       "      <td>Pyrus pyrifolia</td>\n",
       "      <td>49.3</td>\n",
       "      <td>236.8</td>\n",
       "      <td>49.3236.8</td>\n",
       "    </tr>\n",
       "  </tbody>\n",
       "</table>\n",
       "<p>32137 rows × 11 columns</p>\n",
       "</div>"
      ],
      "text/plain": [
       "        site_id   latitude    doy    year  genus     lon_360  phenophase  \\\n",
       "0       4372806  43.680695  198.0  2020.0  Rubus  280.617281         516   \n",
       "1       4312796  43.115834  206.0  2020.0  Rubus  279.566474         516   \n",
       "2       4002769  39.978432  173.0  2020.0  Rubus  276.941349         516   \n",
       "3       4042801  40.431277  202.0  2020.0  Rubus  280.085982         516   \n",
       "4       4042801  40.431277  181.0  2020.0  Rubus  280.085982         516   \n",
       "...         ...        ...    ...     ...    ...         ...         ...   \n",
       "148871  3612798  36.074535  335.0  2015.0  Pyrus  279.768090         516   \n",
       "148872  3542808  35.432416  119.0  2023.0  Pyrus  280.781434         516   \n",
       "148873  3792754  37.869680  233.0  2016.0  Pyrus  275.415025         516   \n",
       "148874  4552372  45.512989  244.0  2021.0  Pyrus  237.154095         516   \n",
       "148875  4932368  49.267388  254.0  2016.0  Pyrus  236.842248         516   \n",
       "\n",
       "       formatted_sci_name  rounded_lat  rounded_lon coordstring  \n",
       "0                   Rubus         43.7        280.6   43.7280.6  \n",
       "1                   Rubus         43.1        279.6   43.1279.6  \n",
       "2                   Rubus         40.0        276.9   40.0276.9  \n",
       "3                   Rubus         40.4        280.1   40.4280.1  \n",
       "4                   Rubus         40.4        280.1   40.4280.1  \n",
       "...                   ...          ...          ...         ...  \n",
       "148871    Pyrus pyrifolia         36.1        279.8   36.1279.8  \n",
       "148872    Pyrus pyrifolia         35.4        280.8   35.4280.8  \n",
       "148873    Pyrus pyrifolia         37.9        275.4   37.9275.4  \n",
       "148874    Pyrus pyrifolia         45.5        237.2   45.5237.2  \n",
       "148875    Pyrus pyrifolia         49.3        236.8   49.3236.8  \n",
       "\n",
       "[32137 rows x 11 columns]"
      ]
     },
     "execution_count": 101,
     "metadata": {},
     "output_type": "execute_result"
    }
   ],
   "source": [
    "formatted_plants"
   ]
  },
  {
   "cell_type": "code",
   "execution_count": 102,
   "id": "af065325",
   "metadata": {},
   "outputs": [
    {
     "data": {
      "text/html": [
       "<div>\n",
       "<style scoped>\n",
       "    .dataframe tbody tr th:only-of-type {\n",
       "        vertical-align: middle;\n",
       "    }\n",
       "\n",
       "    .dataframe tbody tr th {\n",
       "        vertical-align: top;\n",
       "    }\n",
       "\n",
       "    .dataframe thead th {\n",
       "        text-align: right;\n",
       "    }\n",
       "</style>\n",
       "<table border=\"1\" class=\"dataframe\">\n",
       "  <thead>\n",
       "    <tr style=\"text-align: right;\">\n",
       "      <th></th>\n",
       "      <th>temperature</th>\n",
       "      <th>year</th>\n",
       "      <th>doy</th>\n",
       "      <th>latitude</th>\n",
       "      <th>longitude</th>\n",
       "      <th>coordstring</th>\n",
       "      <th>site_id</th>\n",
       "    </tr>\n",
       "  </thead>\n",
       "  <tbody>\n",
       "    <tr>\n",
       "      <th>0</th>\n",
       "      <td>-5.445190</td>\n",
       "      <td>2010</td>\n",
       "      <td>1</td>\n",
       "      <td>43.7</td>\n",
       "      <td>280.6</td>\n",
       "      <td>43.7280.6</td>\n",
       "      <td>4372806</td>\n",
       "    </tr>\n",
       "    <tr>\n",
       "      <th>1</th>\n",
       "      <td>-6.786987</td>\n",
       "      <td>2010</td>\n",
       "      <td>1</td>\n",
       "      <td>43.1</td>\n",
       "      <td>279.6</td>\n",
       "      <td>43.1279.6</td>\n",
       "      <td>4312796</td>\n",
       "    </tr>\n",
       "    <tr>\n",
       "      <th>2</th>\n",
       "      <td>-4.749878</td>\n",
       "      <td>2010</td>\n",
       "      <td>1</td>\n",
       "      <td>40.0</td>\n",
       "      <td>276.9</td>\n",
       "      <td>40.0276.9</td>\n",
       "      <td>4002769</td>\n",
       "    </tr>\n",
       "    <tr>\n",
       "      <th>3</th>\n",
       "      <td>-5.156128</td>\n",
       "      <td>2010</td>\n",
       "      <td>1</td>\n",
       "      <td>40.4</td>\n",
       "      <td>280.1</td>\n",
       "      <td>40.4280.1</td>\n",
       "      <td>4042801</td>\n",
       "    </tr>\n",
       "    <tr>\n",
       "      <th>4</th>\n",
       "      <td>-6.206909</td>\n",
       "      <td>2010</td>\n",
       "      <td>1</td>\n",
       "      <td>43.2</td>\n",
       "      <td>289.1</td>\n",
       "      <td>43.2289.1</td>\n",
       "      <td>4322891</td>\n",
       "    </tr>\n",
       "    <tr>\n",
       "      <th>...</th>\n",
       "      <td>...</td>\n",
       "      <td>...</td>\n",
       "      <td>...</td>\n",
       "      <td>...</td>\n",
       "      <td>...</td>\n",
       "      <td>...</td>\n",
       "      <td>...</td>\n",
       "    </tr>\n",
       "    <tr>\n",
       "      <th>538975</th>\n",
       "      <td>1.518219</td>\n",
       "      <td>2022</td>\n",
       "      <td>336</td>\n",
       "      <td>48.1</td>\n",
       "      <td>236.5</td>\n",
       "      <td>48.1236.5</td>\n",
       "      <td>4812365</td>\n",
       "    </tr>\n",
       "    <tr>\n",
       "      <th>538976</th>\n",
       "      <td>-0.026703</td>\n",
       "      <td>2022</td>\n",
       "      <td>336</td>\n",
       "      <td>50.5</td>\n",
       "      <td>16.9</td>\n",
       "      <td>50.516.9</td>\n",
       "      <td>505169</td>\n",
       "    </tr>\n",
       "    <tr>\n",
       "      <th>538977</th>\n",
       "      <td>5.483063</td>\n",
       "      <td>2022</td>\n",
       "      <td>336</td>\n",
       "      <td>48.5</td>\n",
       "      <td>356.1</td>\n",
       "      <td>48.5356.1</td>\n",
       "      <td>4853561</td>\n",
       "    </tr>\n",
       "    <tr>\n",
       "      <th>538978</th>\n",
       "      <td>1.860016</td>\n",
       "      <td>2022</td>\n",
       "      <td>336</td>\n",
       "      <td>47.2</td>\n",
       "      <td>237.6</td>\n",
       "      <td>47.2237.6</td>\n",
       "      <td>4722376</td>\n",
       "    </tr>\n",
       "    <tr>\n",
       "      <th>538979</th>\n",
       "      <td>4.086578</td>\n",
       "      <td>2022</td>\n",
       "      <td>336</td>\n",
       "      <td>35.4</td>\n",
       "      <td>280.8</td>\n",
       "      <td>35.4280.8</td>\n",
       "      <td>3542808</td>\n",
       "    </tr>\n",
       "  </tbody>\n",
       "</table>\n",
       "<p>538980 rows × 7 columns</p>\n",
       "</div>"
      ],
      "text/plain": [
       "        temperature  year  doy  latitude  longitude coordstring  site_id\n",
       "0         -5.445190  2010    1      43.7      280.6   43.7280.6  4372806\n",
       "1         -6.786987  2010    1      43.1      279.6   43.1279.6  4312796\n",
       "2         -4.749878  2010    1      40.0      276.9   40.0276.9  4002769\n",
       "3         -5.156128  2010    1      40.4      280.1   40.4280.1  4042801\n",
       "4         -6.206909  2010    1      43.2      289.1   43.2289.1  4322891\n",
       "...             ...   ...  ...       ...        ...         ...      ...\n",
       "538975     1.518219  2022  336      48.1      236.5   48.1236.5  4812365\n",
       "538976    -0.026703  2022  336      50.5       16.9    50.516.9   505169\n",
       "538977     5.483063  2022  336      48.5      356.1   48.5356.1  4853561\n",
       "538978     1.860016  2022  336      47.2      237.6   47.2237.6  4722376\n",
       "538979     4.086578  2022  336      35.4      280.8   35.4280.8  3542808\n",
       "\n",
       "[538980 rows x 7 columns]"
      ]
     },
     "execution_count": 102,
     "metadata": {},
     "output_type": "execute_result"
    }
   ],
   "source": [
    "formatted_weather"
   ]
  },
  {
   "cell_type": "code",
   "execution_count": 73,
   "id": "1048783d",
   "metadata": {},
   "outputs": [],
   "source": [
    "euro_data = load_euro_weather_data(euro_path, '../data/high_res_euro_stations.csv')"
   ]
  },
  {
   "cell_type": "code",
   "execution_count": 74,
   "id": "d9be1694",
   "metadata": {},
   "outputs": [
    {
     "name": "stdout",
     "output_type": "stream",
     "text": [
      "constructing european site IDs\n",
      "filtering euro data\n"
     ]
    }
   ],
   "source": [
    "## Make site ID column of euro data from coordstring\n",
    "\n",
    "print(\"constructing european site IDs\")\n",
    "euro_data['site_id'] = euro_data['coordstring'].str.replace(\".\", \"\")\n",
    "\n",
    "# Make sure to drop duplicate sites/coordstrings?\n",
    "print(\"filtering euro data\")\n",
    "filtered_euro = euro_data[euro_data['site_id'].isin(formatted_weather['site_id'].unique())]\n",
    "\n",
    "# merge euro data with monthly "
   ]
  },
  {
   "cell_type": "code",
   "execution_count": 75,
   "id": "1c3a7262",
   "metadata": {},
   "outputs": [
    {
     "data": {
      "text/html": [
       "<div>\n",
       "<style scoped>\n",
       "    .dataframe tbody tr th:only-of-type {\n",
       "        vertical-align: middle;\n",
       "    }\n",
       "\n",
       "    .dataframe tbody tr th {\n",
       "        vertical-align: top;\n",
       "    }\n",
       "\n",
       "    .dataframe thead th {\n",
       "        text-align: right;\n",
       "    }\n",
       "</style>\n",
       "<table border=\"1\" class=\"dataframe\">\n",
       "  <thead>\n",
       "    <tr style=\"text-align: right;\">\n",
       "      <th></th>\n",
       "      <th>station</th>\n",
       "      <th>year</th>\n",
       "      <th>doy</th>\n",
       "      <th>temperature</th>\n",
       "      <th>latitude</th>\n",
       "      <th>longitude</th>\n",
       "      <th>coordstring</th>\n",
       "      <th>site_id</th>\n",
       "    </tr>\n",
       "  </thead>\n",
       "  <tbody>\n",
       "    <tr>\n",
       "      <th>0</th>\n",
       "      <td>2</td>\n",
       "      <td>2010</td>\n",
       "      <td>2</td>\n",
       "      <td>-12.4</td>\n",
       "      <td>60.4</td>\n",
       "      <td>15.4</td>\n",
       "      <td>60.415.4</td>\n",
       "      <td>604154</td>\n",
       "    </tr>\n",
       "    <tr>\n",
       "      <th>1</th>\n",
       "      <td>2</td>\n",
       "      <td>2010</td>\n",
       "      <td>3</td>\n",
       "      <td>-10.5</td>\n",
       "      <td>60.4</td>\n",
       "      <td>15.4</td>\n",
       "      <td>60.415.4</td>\n",
       "      <td>604154</td>\n",
       "    </tr>\n",
       "    <tr>\n",
       "      <th>2</th>\n",
       "      <td>2</td>\n",
       "      <td>2010</td>\n",
       "      <td>4</td>\n",
       "      <td>-11.1</td>\n",
       "      <td>60.4</td>\n",
       "      <td>15.4</td>\n",
       "      <td>60.415.4</td>\n",
       "      <td>604154</td>\n",
       "    </tr>\n",
       "    <tr>\n",
       "      <th>3</th>\n",
       "      <td>2</td>\n",
       "      <td>2010</td>\n",
       "      <td>5</td>\n",
       "      <td>-20.1</td>\n",
       "      <td>60.4</td>\n",
       "      <td>15.4</td>\n",
       "      <td>60.415.4</td>\n",
       "      <td>604154</td>\n",
       "    </tr>\n",
       "    <tr>\n",
       "      <th>4</th>\n",
       "      <td>2</td>\n",
       "      <td>2010</td>\n",
       "      <td>6</td>\n",
       "      <td>-25.5</td>\n",
       "      <td>60.4</td>\n",
       "      <td>15.4</td>\n",
       "      <td>60.415.4</td>\n",
       "      <td>604154</td>\n",
       "    </tr>\n",
       "    <tr>\n",
       "      <th>...</th>\n",
       "      <td>...</td>\n",
       "      <td>...</td>\n",
       "      <td>...</td>\n",
       "      <td>...</td>\n",
       "      <td>...</td>\n",
       "      <td>...</td>\n",
       "      <td>...</td>\n",
       "      <td>...</td>\n",
       "    </tr>\n",
       "    <tr>\n",
       "      <th>14926227</th>\n",
       "      <td>26319</td>\n",
       "      <td>2023</td>\n",
       "      <td>177</td>\n",
       "      <td>15.4</td>\n",
       "      <td>63.0</td>\n",
       "      <td>7.2</td>\n",
       "      <td>63.07.2</td>\n",
       "      <td>63072</td>\n",
       "    </tr>\n",
       "    <tr>\n",
       "      <th>14926228</th>\n",
       "      <td>26319</td>\n",
       "      <td>2023</td>\n",
       "      <td>178</td>\n",
       "      <td>14.4</td>\n",
       "      <td>63.0</td>\n",
       "      <td>7.2</td>\n",
       "      <td>63.07.2</td>\n",
       "      <td>63072</td>\n",
       "    </tr>\n",
       "    <tr>\n",
       "      <th>14926229</th>\n",
       "      <td>26319</td>\n",
       "      <td>2023</td>\n",
       "      <td>179</td>\n",
       "      <td>14.5</td>\n",
       "      <td>63.0</td>\n",
       "      <td>7.2</td>\n",
       "      <td>63.07.2</td>\n",
       "      <td>63072</td>\n",
       "    </tr>\n",
       "    <tr>\n",
       "      <th>14926230</th>\n",
       "      <td>26319</td>\n",
       "      <td>2023</td>\n",
       "      <td>180</td>\n",
       "      <td>13.0</td>\n",
       "      <td>63.0</td>\n",
       "      <td>7.2</td>\n",
       "      <td>63.07.2</td>\n",
       "      <td>63072</td>\n",
       "    </tr>\n",
       "    <tr>\n",
       "      <th>14926231</th>\n",
       "      <td>26319</td>\n",
       "      <td>2023</td>\n",
       "      <td>181</td>\n",
       "      <td>12.5</td>\n",
       "      <td>63.0</td>\n",
       "      <td>7.2</td>\n",
       "      <td>63.07.2</td>\n",
       "      <td>63072</td>\n",
       "    </tr>\n",
       "  </tbody>\n",
       "</table>\n",
       "<p>14926232 rows × 8 columns</p>\n",
       "</div>"
      ],
      "text/plain": [
       "          station  year  doy  temperature  latitude  longitude coordstring  \\\n",
       "0               2  2010    2        -12.4      60.4       15.4    60.415.4   \n",
       "1               2  2010    3        -10.5      60.4       15.4    60.415.4   \n",
       "2               2  2010    4        -11.1      60.4       15.4    60.415.4   \n",
       "3               2  2010    5        -20.1      60.4       15.4    60.415.4   \n",
       "4               2  2010    6        -25.5      60.4       15.4    60.415.4   \n",
       "...           ...   ...  ...          ...       ...        ...         ...   \n",
       "14926227    26319  2023  177         15.4      63.0        7.2     63.07.2   \n",
       "14926228    26319  2023  178         14.4      63.0        7.2     63.07.2   \n",
       "14926229    26319  2023  179         14.5      63.0        7.2     63.07.2   \n",
       "14926230    26319  2023  180         13.0      63.0        7.2     63.07.2   \n",
       "14926231    26319  2023  181         12.5      63.0        7.2     63.07.2   \n",
       "\n",
       "         site_id  \n",
       "0         604154  \n",
       "1         604154  \n",
       "2         604154  \n",
       "3         604154  \n",
       "4         604154  \n",
       "...          ...  \n",
       "14926227   63072  \n",
       "14926228   63072  \n",
       "14926229   63072  \n",
       "14926230   63072  \n",
       "14926231   63072  \n",
       "\n",
       "[14926232 rows x 8 columns]"
      ]
     },
     "execution_count": 75,
     "metadata": {},
     "output_type": "execute_result"
    }
   ],
   "source": [
    "euro_data"
   ]
  },
  {
   "cell_type": "code",
   "execution_count": 76,
   "id": "4b137584",
   "metadata": {},
   "outputs": [
    {
     "data": {
      "text/html": [
       "<div>\n",
       "<style scoped>\n",
       "    .dataframe tbody tr th:only-of-type {\n",
       "        vertical-align: middle;\n",
       "    }\n",
       "\n",
       "    .dataframe tbody tr th {\n",
       "        vertical-align: top;\n",
       "    }\n",
       "\n",
       "    .dataframe thead th {\n",
       "        text-align: right;\n",
       "    }\n",
       "</style>\n",
       "<table border=\"1\" class=\"dataframe\">\n",
       "  <thead>\n",
       "    <tr style=\"text-align: right;\">\n",
       "      <th></th>\n",
       "      <th>station</th>\n",
       "      <th>year</th>\n",
       "      <th>doy</th>\n",
       "      <th>temperature</th>\n",
       "      <th>latitude</th>\n",
       "      <th>longitude</th>\n",
       "      <th>coordstring</th>\n",
       "      <th>site_id</th>\n",
       "    </tr>\n",
       "  </thead>\n",
       "  <tbody>\n",
       "    <tr>\n",
       "      <th>140857</th>\n",
       "      <td>44</td>\n",
       "      <td>2010</td>\n",
       "      <td>2</td>\n",
       "      <td>-0.7</td>\n",
       "      <td>50.0</td>\n",
       "      <td>8.4</td>\n",
       "      <td>50.08.4</td>\n",
       "      <td>50084</td>\n",
       "    </tr>\n",
       "    <tr>\n",
       "      <th>140858</th>\n",
       "      <td>44</td>\n",
       "      <td>2010</td>\n",
       "      <td>3</td>\n",
       "      <td>-1.1</td>\n",
       "      <td>50.0</td>\n",
       "      <td>8.4</td>\n",
       "      <td>50.08.4</td>\n",
       "      <td>50084</td>\n",
       "    </tr>\n",
       "    <tr>\n",
       "      <th>140859</th>\n",
       "      <td>44</td>\n",
       "      <td>2010</td>\n",
       "      <td>4</td>\n",
       "      <td>-4.2</td>\n",
       "      <td>50.0</td>\n",
       "      <td>8.4</td>\n",
       "      <td>50.08.4</td>\n",
       "      <td>50084</td>\n",
       "    </tr>\n",
       "    <tr>\n",
       "      <th>140860</th>\n",
       "      <td>44</td>\n",
       "      <td>2010</td>\n",
       "      <td>5</td>\n",
       "      <td>-8.3</td>\n",
       "      <td>50.0</td>\n",
       "      <td>8.4</td>\n",
       "      <td>50.08.4</td>\n",
       "      <td>50084</td>\n",
       "    </tr>\n",
       "    <tr>\n",
       "      <th>140861</th>\n",
       "      <td>44</td>\n",
       "      <td>2010</td>\n",
       "      <td>6</td>\n",
       "      <td>-7.2</td>\n",
       "      <td>50.0</td>\n",
       "      <td>8.4</td>\n",
       "      <td>50.08.4</td>\n",
       "      <td>50084</td>\n",
       "    </tr>\n",
       "    <tr>\n",
       "      <th>...</th>\n",
       "      <td>...</td>\n",
       "      <td>...</td>\n",
       "      <td>...</td>\n",
       "      <td>...</td>\n",
       "      <td>...</td>\n",
       "      <td>...</td>\n",
       "      <td>...</td>\n",
       "      <td>...</td>\n",
       "    </tr>\n",
       "    <tr>\n",
       "      <th>14506111</th>\n",
       "      <td>25247</td>\n",
       "      <td>2023</td>\n",
       "      <td>177</td>\n",
       "      <td>20.7</td>\n",
       "      <td>54.5</td>\n",
       "      <td>9.6</td>\n",
       "      <td>54.59.6</td>\n",
       "      <td>54596</td>\n",
       "    </tr>\n",
       "    <tr>\n",
       "      <th>14506112</th>\n",
       "      <td>25247</td>\n",
       "      <td>2023</td>\n",
       "      <td>178</td>\n",
       "      <td>17.5</td>\n",
       "      <td>54.5</td>\n",
       "      <td>9.6</td>\n",
       "      <td>54.59.6</td>\n",
       "      <td>54596</td>\n",
       "    </tr>\n",
       "    <tr>\n",
       "      <th>14506113</th>\n",
       "      <td>25247</td>\n",
       "      <td>2023</td>\n",
       "      <td>179</td>\n",
       "      <td>19.1</td>\n",
       "      <td>54.5</td>\n",
       "      <td>9.6</td>\n",
       "      <td>54.59.6</td>\n",
       "      <td>54596</td>\n",
       "    </tr>\n",
       "    <tr>\n",
       "      <th>14506114</th>\n",
       "      <td>25247</td>\n",
       "      <td>2023</td>\n",
       "      <td>180</td>\n",
       "      <td>19.1</td>\n",
       "      <td>54.5</td>\n",
       "      <td>9.6</td>\n",
       "      <td>54.59.6</td>\n",
       "      <td>54596</td>\n",
       "    </tr>\n",
       "    <tr>\n",
       "      <th>14506115</th>\n",
       "      <td>25247</td>\n",
       "      <td>2023</td>\n",
       "      <td>181</td>\n",
       "      <td>17.8</td>\n",
       "      <td>54.5</td>\n",
       "      <td>9.6</td>\n",
       "      <td>54.59.6</td>\n",
       "      <td>54596</td>\n",
       "    </tr>\n",
       "  </tbody>\n",
       "</table>\n",
       "<p>795324 rows × 8 columns</p>\n",
       "</div>"
      ],
      "text/plain": [
       "          station  year  doy  temperature  latitude  longitude coordstring  \\\n",
       "140857         44  2010    2         -0.7      50.0        8.4     50.08.4   \n",
       "140858         44  2010    3         -1.1      50.0        8.4     50.08.4   \n",
       "140859         44  2010    4         -4.2      50.0        8.4     50.08.4   \n",
       "140860         44  2010    5         -8.3      50.0        8.4     50.08.4   \n",
       "140861         44  2010    6         -7.2      50.0        8.4     50.08.4   \n",
       "...           ...   ...  ...          ...       ...        ...         ...   \n",
       "14506111    25247  2023  177         20.7      54.5        9.6     54.59.6   \n",
       "14506112    25247  2023  178         17.5      54.5        9.6     54.59.6   \n",
       "14506113    25247  2023  179         19.1      54.5        9.6     54.59.6   \n",
       "14506114    25247  2023  180         19.1      54.5        9.6     54.59.6   \n",
       "14506115    25247  2023  181         17.8      54.5        9.6     54.59.6   \n",
       "\n",
       "         site_id  \n",
       "140857     50084  \n",
       "140858     50084  \n",
       "140859     50084  \n",
       "140860     50084  \n",
       "140861     50084  \n",
       "...          ...  \n",
       "14506111   54596  \n",
       "14506112   54596  \n",
       "14506113   54596  \n",
       "14506114   54596  \n",
       "14506115   54596  \n",
       "\n",
       "[795324 rows x 8 columns]"
      ]
     },
     "execution_count": 76,
     "metadata": {},
     "output_type": "execute_result"
    }
   ],
   "source": [
    "filtered_euro"
   ]
  },
  {
   "cell_type": "code",
   "execution_count": 77,
   "id": "32538a9f",
   "metadata": {},
   "outputs": [],
   "source": [
    "euro_sites = euro_data['site_id'].unique()\n",
    "\n",
    "unmutual_sites = formatted_weather[~formatted_weather['site_id'].isin(euro_sites)]"
   ]
  },
  {
   "cell_type": "code",
   "execution_count": 88,
   "id": "9b920ce3",
   "metadata": {},
   "outputs": [],
   "source": [
    "merged_euro = pd.concat([unmutual_sites, euro_data]).drop('station', axis=1)\n",
    "\n",
    "merged_euro = merged_euro[merged_euro['site_id'].isin(formatted_plants['site_id'])]\n",
    "\n",
    "merged_euro = merged_euro[merged_euro['year'] != 2023]\n",
    "merged_euro['temperature'] = np.round(merged_euro['temperature'], 1)"
   ]
  },
  {
   "cell_type": "code",
   "execution_count": 89,
   "id": "f88c9e8d",
   "metadata": {
    "scrolled": false
   },
   "outputs": [
    {
     "data": {
      "text/html": [
       "<div>\n",
       "<style scoped>\n",
       "    .dataframe tbody tr th:only-of-type {\n",
       "        vertical-align: middle;\n",
       "    }\n",
       "\n",
       "    .dataframe tbody tr th {\n",
       "        vertical-align: top;\n",
       "    }\n",
       "\n",
       "    .dataframe thead th {\n",
       "        text-align: right;\n",
       "    }\n",
       "</style>\n",
       "<table border=\"1\" class=\"dataframe\">\n",
       "  <thead>\n",
       "    <tr style=\"text-align: right;\">\n",
       "      <th></th>\n",
       "      <th>temperature</th>\n",
       "      <th>year</th>\n",
       "      <th>doy</th>\n",
       "      <th>latitude</th>\n",
       "      <th>longitude</th>\n",
       "      <th>coordstring</th>\n",
       "      <th>site_id</th>\n",
       "    </tr>\n",
       "  </thead>\n",
       "  <tbody>\n",
       "    <tr>\n",
       "      <th>0</th>\n",
       "      <td>-5.4</td>\n",
       "      <td>2010</td>\n",
       "      <td>1</td>\n",
       "      <td>43.7</td>\n",
       "      <td>280.6</td>\n",
       "      <td>43.7280.6</td>\n",
       "      <td>4372806</td>\n",
       "    </tr>\n",
       "    <tr>\n",
       "      <th>1</th>\n",
       "      <td>-6.8</td>\n",
       "      <td>2010</td>\n",
       "      <td>1</td>\n",
       "      <td>43.1</td>\n",
       "      <td>279.6</td>\n",
       "      <td>43.1279.6</td>\n",
       "      <td>4312796</td>\n",
       "    </tr>\n",
       "    <tr>\n",
       "      <th>2</th>\n",
       "      <td>-4.7</td>\n",
       "      <td>2010</td>\n",
       "      <td>1</td>\n",
       "      <td>40.0</td>\n",
       "      <td>276.9</td>\n",
       "      <td>40.0276.9</td>\n",
       "      <td>4002769</td>\n",
       "    </tr>\n",
       "    <tr>\n",
       "      <th>3</th>\n",
       "      <td>-5.2</td>\n",
       "      <td>2010</td>\n",
       "      <td>1</td>\n",
       "      <td>40.4</td>\n",
       "      <td>280.1</td>\n",
       "      <td>40.4280.1</td>\n",
       "      <td>4042801</td>\n",
       "    </tr>\n",
       "    <tr>\n",
       "      <th>4</th>\n",
       "      <td>-6.2</td>\n",
       "      <td>2010</td>\n",
       "      <td>1</td>\n",
       "      <td>43.2</td>\n",
       "      <td>289.1</td>\n",
       "      <td>43.2289.1</td>\n",
       "      <td>4322891</td>\n",
       "    </tr>\n",
       "    <tr>\n",
       "      <th>...</th>\n",
       "      <td>...</td>\n",
       "      <td>...</td>\n",
       "      <td>...</td>\n",
       "      <td>...</td>\n",
       "      <td>...</td>\n",
       "      <td>...</td>\n",
       "      <td>...</td>\n",
       "    </tr>\n",
       "    <tr>\n",
       "      <th>14505931</th>\n",
       "      <td>5.2</td>\n",
       "      <td>2022</td>\n",
       "      <td>361</td>\n",
       "      <td>54.5</td>\n",
       "      <td>9.6</td>\n",
       "      <td>54.59.6</td>\n",
       "      <td>54596</td>\n",
       "    </tr>\n",
       "    <tr>\n",
       "      <th>14505932</th>\n",
       "      <td>3.6</td>\n",
       "      <td>2022</td>\n",
       "      <td>362</td>\n",
       "      <td>54.5</td>\n",
       "      <td>9.6</td>\n",
       "      <td>54.59.6</td>\n",
       "      <td>54596</td>\n",
       "    </tr>\n",
       "    <tr>\n",
       "      <th>14505933</th>\n",
       "      <td>5.8</td>\n",
       "      <td>2022</td>\n",
       "      <td>363</td>\n",
       "      <td>54.5</td>\n",
       "      <td>9.6</td>\n",
       "      <td>54.59.6</td>\n",
       "      <td>54596</td>\n",
       "    </tr>\n",
       "    <tr>\n",
       "      <th>14505934</th>\n",
       "      <td>7.4</td>\n",
       "      <td>2022</td>\n",
       "      <td>364</td>\n",
       "      <td>54.5</td>\n",
       "      <td>9.6</td>\n",
       "      <td>54.59.6</td>\n",
       "      <td>54596</td>\n",
       "    </tr>\n",
       "    <tr>\n",
       "      <th>14505935</th>\n",
       "      <td>6.2</td>\n",
       "      <td>2022</td>\n",
       "      <td>365</td>\n",
       "      <td>54.5</td>\n",
       "      <td>9.6</td>\n",
       "      <td>54.59.6</td>\n",
       "      <td>54596</td>\n",
       "    </tr>\n",
       "  </tbody>\n",
       "</table>\n",
       "<p>1285509 rows × 7 columns</p>\n",
       "</div>"
      ],
      "text/plain": [
       "          temperature  year  doy  latitude  longitude coordstring  site_id\n",
       "0                -5.4  2010    1      43.7      280.6   43.7280.6  4372806\n",
       "1                -6.8  2010    1      43.1      279.6   43.1279.6  4312796\n",
       "2                -4.7  2010    1      40.0      276.9   40.0276.9  4002769\n",
       "3                -5.2  2010    1      40.4      280.1   40.4280.1  4042801\n",
       "4                -6.2  2010    1      43.2      289.1   43.2289.1  4322891\n",
       "...               ...   ...  ...       ...        ...         ...      ...\n",
       "14505931          5.2  2022  361      54.5        9.6     54.59.6    54596\n",
       "14505932          3.6  2022  362      54.5        9.6     54.59.6    54596\n",
       "14505933          5.8  2022  363      54.5        9.6     54.59.6    54596\n",
       "14505934          7.4  2022  364      54.5        9.6     54.59.6    54596\n",
       "14505935          6.2  2022  365      54.5        9.6     54.59.6    54596\n",
       "\n",
       "[1285509 rows x 7 columns]"
      ]
     },
     "execution_count": 89,
     "metadata": {},
     "output_type": "execute_result"
    }
   ],
   "source": [
    "merged_euro"
   ]
  },
  {
   "cell_type": "code",
   "execution_count": 85,
   "id": "09006c70",
   "metadata": {},
   "outputs": [
    {
     "data": {
      "text/plain": [
       "3455"
      ]
     },
     "execution_count": 85,
     "metadata": {},
     "output_type": "execute_result"
    }
   ],
   "source": [
    "merged_euro['site_id'].nunique()"
   ]
  },
  {
   "cell_type": "code",
   "execution_count": 86,
   "id": "e919949e",
   "metadata": {},
   "outputs": [
    {
     "data": {
      "text/plain": [
       "3455"
      ]
     },
     "execution_count": 86,
     "metadata": {},
     "output_type": "execute_result"
    }
   ],
   "source": [
    "formatted_weather['site_id'].nunique()"
   ]
  },
  {
   "cell_type": "code",
   "execution_count": 87,
   "id": "47053c6c",
   "metadata": {},
   "outputs": [
    {
     "data": {
      "text/plain": [
       "3281"
      ]
     },
     "execution_count": 87,
     "metadata": {},
     "output_type": "execute_result"
    }
   ],
   "source": [
    "unmutual_sites['site_id'].nunique()"
   ]
  },
  {
   "cell_type": "markdown",
   "id": "0fe06b1c",
   "metadata": {},
   "source": [
    "Problem is with the merge on mutual sites. "
   ]
  },
  {
   "cell_type": "code",
   "execution_count": 95,
   "id": "d82b2365",
   "metadata": {},
   "outputs": [],
   "source": [
    "def train_species_models(full_plant_data, full_weather_data):\n",
    "    # Separate weather data into train and test\n",
    "    weather_training = full_weather_data[full_weather_data['year'] < high_cutoff_year]\n",
    "    weather_test = full_weather_data[full_weather_data['year'] >= high_cutoff_year]\n",
    "    \n",
    "    species_prediction_dict = {}\n",
    "    species_list = full_plant_data['formatted_sci_name'].unique()\n",
    "    print(species_list)\n",
    "\n",
    "    for s in tqdm(species_list):\n",
    "        print(\"\\n\\n\", s)\n",
    "        species_train_df = full_plant_data.query('formatted_sci_name == \"{}\" and year < {}'.format(s, high_cutoff_year))\n",
    "        \n",
    "        if len(species_train_df) <= 10:\n",
    "            print(\"not enough training data\")\n",
    "            continue        \n",
    "\n",
    "        species_test_df = full_plant_data.query('formatted_sci_name == \"{}\" and year >= {}'.format(s, high_cutoff_year))\n",
    "\n",
    "        if len(species_test_df) == 0:\n",
    "            print(\"No test data for {}\".format(s))\n",
    "            # make predictions and compare to the mean ripeness day at each site\n",
    "            species_test_df = make_test_df(species_train_df)\n",
    "\n",
    "        if len(species_test_df) == 0:\n",
    "            print(\"No test data for {}\".format(s))\n",
    "            #print(species_test_df)\n",
    "            \n",
    "        filtered_weather_test = weather_test[weather_test['site_id'].isin(species_test_df['site_id'])]\n",
    "        \n",
    "        #print(species_train_df, weather_training)\n",
    "        #print(species_test_df)\n",
    "        #print(filtered_weather_test)\n",
    "        print(np.sort(species_test_df['site_id'].unique()))\n",
    "        print(np.sort(filtered_weather_test['site_id'].unique()))\n",
    "\n",
    "        predictions = train_ripeness_small(species_train_df, weather_training,\n",
    "                            species_test_df, weather_test)\n",
    "\n",
    "        #break\n",
    "        \n",
    "        species_prediction_dict[s] = predictions\n",
    "        \n",
    "    # gets a list of all the prediction dataframes from the species model\n",
    "    df_list = [i['prediction_df'] for i in species_prediction_dict.values()]\n",
    "\n",
    "    full_prediction_df = pd.concat(df_list)\n",
    "\n",
    "    full_prediction_df['abs_error'] = np.abs(full_prediction_df['doy'] - full_prediction_df['flowering_day'])\n",
    "    \n",
    "    print(score_model(full_prediction_df))\n",
    "    \n",
    "    return full_prediction_df\n"
   ]
  },
  {
   "cell_type": "code",
   "execution_count": 96,
   "id": "29ff04a6",
   "metadata": {},
   "outputs": [],
   "source": [
    "euro_observations = filtered_plants[filtered_plants['site_id'].isin(merged_euro['site_id'])]\n"
   ]
  },
  {
   "cell_type": "code",
   "execution_count": 103,
   "id": "6154f970",
   "metadata": {
    "scrolled": true
   },
   "outputs": [
    {
     "name": "stdout",
     "output_type": "stream",
     "text": [
      "['Rubus' 'Rubus occidentalis' 'Ficus' 'Ficus carica' 'Ficus citrifolia'\n",
      " 'Ficus macrophylla' 'Ficus sycomorus' 'Olea europaea' 'Olea europea'\n",
      " 'Olea' 'Morus rubra' 'Morus nigra' 'Morus' 'Morus alba' 'Morus macroura'\n",
      " 'Morus australis' 'Amelanchier alnifolia' 'Amelanchier arborea'\n",
      " 'Amelanchier canadensis' 'Amelanchier grandiflora' 'Amelanchier laevis'\n",
      " 'Amelanchier utahensis' 'Amelanchier' 'Citrus' 'Citrus jambhiri'\n",
      " 'Citrus limon' 'Rubus idaeus' 'Rubus ellipticus' 'Rubus hayata'\n",
      " 'Rubus odoratus' 'Rubus phoenicolasius' 'Rubus rolfei' 'Citrus aurantium'\n",
      " 'Citrus sinensis' 'Prunus americana' 'Prunus domestica' 'Prunus maritima'\n",
      " 'Prunus nigra' 'Prunus cerasifera' 'Prunus' 'Prunus angustifolia'\n",
      " 'Prunus cocomilia' 'Prunus salicina' 'Prunus subcordata'\n",
      " 'Prunus mexicana' 'Prunus rivularis' 'Eriobotrya japonica'\n",
      " 'Malus sieboldii' 'Malus' 'Malus pumila' 'Malus domestica'\n",
      " 'Malus sylvestris' 'Malus coronaria' \"Malus '\" 'Malus sieversii'\n",
      " 'Malus baccata' 'Malus ioensis' 'Malus hupehensis' 'Malus tschonoskii'\n",
      " 'Malus fusca' 'Malus angustifolia' 'Rosmarinus officinalis' 'Juglans'\n",
      " 'Juglans regia' 'Juglans cinerea' 'Juglans hindsii' 'Juglans major'\n",
      " 'Juglans nigra' 'Prunus serotina' 'Prunus virginiana' 'Prunus yedoensis'\n",
      " 'Prunus ilicifolia' 'Prunus cerasus' 'Prunus emarginata'\n",
      " 'Prunus pensylvanica' 'Prunus laurocerasus' 'Prunus serrulata'\n",
      " 'Prunus avium' 'Cornus mas' 'Ehretia tinifolia' 'Elaeagnus multiflora'\n",
      " 'Prunus fruticosa' 'Prunus maackii' 'Prunus mahaleb' 'Prunus padus'\n",
      " 'Prunus subhirtella' 'Prunus tomentosa' 'Diospyros virginiana'\n",
      " 'Diospyros' 'Diospyros kaki' 'Pyrus communis' 'Pyrus'\n",
      " 'Pyrus amygdaliformis' 'Pyrus pyraster' 'Pyrus pyrifolia']\n"
     ]
    },
    {
     "name": "stderr",
     "output_type": "stream",
     "text": [
      "\r",
      "  0%|                                                                                                                                                                              | 0/95 [00:00<?, ?it/s]"
     ]
    },
    {
     "name": "stdout",
     "output_type": "stream",
     "text": [
      "\n",
      "\n",
      " Rubus\n",
      "['320348' '3522702' '3742808' '3862697' '3872695' '3892655' '3982550'\n",
      " '4002770' '4022828' '4092786' '4202683' '4232749' '4232889' '4302743'\n",
      " '4302782' '4302784' '4302823' '4312824' '4352714' '4552374' '4823583'\n",
      " '5232462' '5343578' '5343579']\n",
      "['320348' '3522702' '3742808' '3862697' '3872695' '3892655' '3982550'\n",
      " '4002770' '4022828' '4092786' '4202683' '4232749' '4232889' '4302743'\n",
      " '4302782' '4302784' '4302823' '4312824' '4352714' '4552374' '4823583'\n",
      " '5232462' '5343578' '5343579']\n",
      "running model ThermalTime\n"
     ]
    },
    {
     "name": "stderr",
     "output_type": "stream",
     "text": [
      "\r",
      "  1%|█▋                                                                                                                                                                    | 1/95 [00:00<01:25,  1.10it/s]"
     ]
    },
    {
     "name": "stdout",
     "output_type": "stream",
     "text": [
      "<pyPhenology.models.thermaltime.ThermalTime object at 0x21ff88310>\n",
      "making predictions for model ThermalTime\n",
      "[183. 181. 190. 193. 165. 165. 184. 181. 178. 184. 246. 202. 288. 192.\n",
      " 173. 214. 159. 191. 191. 196. 187. 214. 216. 136. 305. 305. 305. 274.\n",
      " 191. 195.]\n",
      "[183 183 183 183 183 183 183 183 183 183 183 183 183 183 183 183 183 183\n",
      " 183 183 183 183 183 183 183 183 183 183 183 183]\n",
      "model ThermalTime got a MAE of 31.533333333333335\n",
      "model ThermalTime got an RMSE of 50.20557737941075\n",
      "model ThermalTime's median error is: 12.5\n",
      "Ripeness Day: 183.0\n",
      "\n",
      "\n",
      " Rubus occidentalis\n",
      "['4152695' '4172746' '4202720' '4312782' '4322801']\n",
      "['4152695' '4172746' '4202720' '4312782' '4322801']\n",
      "running model ThermalTime\n"
     ]
    },
    {
     "name": "stderr",
     "output_type": "stream",
     "text": [
      "\r",
      "  2%|███▍                                                                                                                                                                  | 2/95 [00:03<02:42,  1.74s/it]"
     ]
    },
    {
     "name": "stdout",
     "output_type": "stream",
     "text": [
      "<pyPhenology.models.thermaltime.ThermalTime object at 0x21ff9cc90>\n",
      "making predictions for model ThermalTime\n",
      "[164. 189. 189. 189. 184. 189. 191. 191. 191. 187.]\n",
      "[183 183 183 183 183 183 214 214 214 183]\n",
      "model ThermalTime got a MAE of 11.7\n",
      "model ThermalTime got an RMSE of 14.522396496446445\n",
      "model ThermalTime's median error is: 6.0\n",
      "Ripeness Day: 192.3\n",
      "\n",
      "\n",
      " Ficus\n",
      "['3502750' '3662381' '3802387' '45258' '4552373' '4552374' '4573594'\n",
      " '4752377' '4873580' '4922369']\n",
      "['3502750' '3662381' '3802387' '45258' '4552373' '4552374' '4573594'\n",
      " '4752377' '4873580' '4922369']\n",
      "running model ThermalTime\n"
     ]
    },
    {
     "name": "stderr",
     "output_type": "stream",
     "text": [
      "  2%|███▍                                                                                                                                                                  | 2/95 [00:04<03:43,  2.40s/it]\n"
     ]
    },
    {
     "ename": "KeyboardInterrupt",
     "evalue": "",
     "output_type": "error",
     "traceback": [
      "\u001b[0;31m---------------------------------------------------------------------------\u001b[0m",
      "\u001b[0;31mKeyboardInterrupt\u001b[0m                         Traceback (most recent call last)",
      "Cell \u001b[0;32mIn[103], line 1\u001b[0m\n\u001b[0;32m----> 1\u001b[0m normal_training_euro \u001b[38;5;241m=\u001b[39m train_species_models(euro_observations, formatted_weather)\n",
      "Cell \u001b[0;32mIn[95], line 37\u001b[0m, in \u001b[0;36mtrain_species_models\u001b[0;34m(full_plant_data, full_weather_data)\u001b[0m\n\u001b[1;32m     34\u001b[0m \u001b[38;5;28mprint\u001b[39m(np\u001b[38;5;241m.\u001b[39msort(species_test_df[\u001b[38;5;124m'\u001b[39m\u001b[38;5;124msite_id\u001b[39m\u001b[38;5;124m'\u001b[39m]\u001b[38;5;241m.\u001b[39munique()))\n\u001b[1;32m     35\u001b[0m \u001b[38;5;28mprint\u001b[39m(np\u001b[38;5;241m.\u001b[39msort(filtered_weather_test[\u001b[38;5;124m'\u001b[39m\u001b[38;5;124msite_id\u001b[39m\u001b[38;5;124m'\u001b[39m]\u001b[38;5;241m.\u001b[39munique()))\n\u001b[0;32m---> 37\u001b[0m predictions \u001b[38;5;241m=\u001b[39m train_ripeness_small(species_train_df, weather_training,\n\u001b[1;32m     38\u001b[0m                     species_test_df, weather_test)\n\u001b[1;32m     40\u001b[0m \u001b[38;5;66;03m#break\u001b[39;00m\n\u001b[1;32m     42\u001b[0m species_prediction_dict[s] \u001b[38;5;241m=\u001b[39m predictions\n",
      "Cell \u001b[0;32mIn[2], line 28\u001b[0m, in \u001b[0;36mtrain_ripeness_small\u001b[0;34m(observations, predictors, test_observations, test_predictors, model_name)\u001b[0m\n\u001b[1;32m     26\u001b[0m Model \u001b[38;5;241m=\u001b[39m utils\u001b[38;5;241m.\u001b[39mload_model(model_name)\n\u001b[1;32m     27\u001b[0m model \u001b[38;5;241m=\u001b[39m Model()\n\u001b[0;32m---> 28\u001b[0m model\u001b[38;5;241m.\u001b[39mfit(observations, predictors, optimizer_params\u001b[38;5;241m=\u001b[39m\u001b[38;5;124m'\u001b[39m\u001b[38;5;124mpractical\u001b[39m\u001b[38;5;124m'\u001b[39m)\n\u001b[1;32m     30\u001b[0m \u001b[38;5;28mprint\u001b[39m(model)\n\u001b[1;32m     32\u001b[0m \u001b[38;5;28mprint\u001b[39m(\u001b[38;5;124m\"\u001b[39m\u001b[38;5;124mmaking predictions for model \u001b[39m\u001b[38;5;132;01m{m}\u001b[39;00m\u001b[38;5;124m\"\u001b[39m\u001b[38;5;241m.\u001b[39mformat(m\u001b[38;5;241m=\u001b[39mmodel_name))        \n",
      "File \u001b[0;32m~/opt/anaconda3/envs/seasonality/lib/python3.11/site-packages/pyPhenology/models/base.py:73\u001b[0m, in \u001b[0;36mBaseModel.fit\u001b[0;34m(self, observations, predictors, loss_function, method, optimizer_params, verbose, debug, **kwargs)\u001b[0m\n\u001b[1;32m     70\u001b[0m \u001b[38;5;28;01mif\u001b[39;00m verbose:\n\u001b[1;32m     71\u001b[0m     fitting_start \u001b[38;5;241m=\u001b[39m time\u001b[38;5;241m.\u001b[39mtime()\n\u001b[0;32m---> 73\u001b[0m \u001b[38;5;28mself\u001b[39m\u001b[38;5;241m.\u001b[39m_fitted_params \u001b[38;5;241m=\u001b[39m utils\u001b[38;5;241m.\u001b[39moptimize\u001b[38;5;241m.\u001b[39mfit_parameters(function_to_minimize\u001b[38;5;241m=\u001b[39m\u001b[38;5;28mself\u001b[39m\u001b[38;5;241m.\u001b[39m_scipy_error,\n\u001b[1;32m     74\u001b[0m                                                     bounds\u001b[38;5;241m=\u001b[39m\u001b[38;5;28mself\u001b[39m\u001b[38;5;241m.\u001b[39m_scipy_bounds(),\n\u001b[1;32m     75\u001b[0m                                                     method\u001b[38;5;241m=\u001b[39mmethod,\n\u001b[1;32m     76\u001b[0m                                                     results_translator\u001b[38;5;241m=\u001b[39m\u001b[38;5;28mself\u001b[39m\u001b[38;5;241m.\u001b[39m_translate_scipy_parameters,\n\u001b[1;32m     77\u001b[0m                                                     optimizer_params\u001b[38;5;241m=\u001b[39moptimizer_params,\n\u001b[1;32m     78\u001b[0m                                                     verbose\u001b[38;5;241m=\u001b[39mverbose)\n\u001b[1;32m     79\u001b[0m \u001b[38;5;28;01mif\u001b[39;00m verbose:\n\u001b[1;32m     80\u001b[0m     total_fit_time \u001b[38;5;241m=\u001b[39m \u001b[38;5;28mround\u001b[39m(time\u001b[38;5;241m.\u001b[39mtime() \u001b[38;5;241m-\u001b[39m fitting_start, \u001b[38;5;241m5\u001b[39m)\n",
      "File \u001b[0;32m~/opt/anaconda3/envs/seasonality/lib/python3.11/site-packages/pyPhenology/models/utils/optimize.py:135\u001b[0m, in \u001b[0;36mfit_parameters\u001b[0;34m(function_to_minimize, bounds, method, results_translator, optimizer_params, verbose)\u001b[0m\n\u001b[1;32m    131\u001b[0m \u001b[38;5;28;01mif\u001b[39;00m method \u001b[38;5;241m==\u001b[39m \u001b[38;5;124m'\u001b[39m\u001b[38;5;124mDE\u001b[39m\u001b[38;5;124m'\u001b[39m:\n\u001b[1;32m    132\u001b[0m     optimizer_params \u001b[38;5;241m=\u001b[39m validate_optimizer_parameters(optimizer_method\u001b[38;5;241m=\u001b[39mmethod,\n\u001b[1;32m    133\u001b[0m                                                      optimizer_params\u001b[38;5;241m=\u001b[39moptimizer_params)\n\u001b[0;32m--> 135\u001b[0m     optimize_output \u001b[38;5;241m=\u001b[39m optimize\u001b[38;5;241m.\u001b[39mdifferential_evolution(function_to_minimize,\n\u001b[1;32m    136\u001b[0m                                                       bounds\u001b[38;5;241m=\u001b[39mbounds,\n\u001b[1;32m    137\u001b[0m                                                       \u001b[38;5;241m*\u001b[39m\u001b[38;5;241m*\u001b[39moptimizer_params)\n\u001b[1;32m    138\u001b[0m     fitted_parameters \u001b[38;5;241m=\u001b[39m results_translator(optimize_output[\u001b[38;5;124m'\u001b[39m\u001b[38;5;124mx\u001b[39m\u001b[38;5;124m'\u001b[39m])\n\u001b[1;32m    140\u001b[0m \u001b[38;5;28;01melif\u001b[39;00m method \u001b[38;5;241m==\u001b[39m \u001b[38;5;124m'\u001b[39m\u001b[38;5;124mBH\u001b[39m\u001b[38;5;124m'\u001b[39m:\n",
      "File \u001b[0;32m~/opt/anaconda3/envs/seasonality/lib/python3.11/site-packages/scipy/optimize/_differentialevolution.py:397\u001b[0m, in \u001b[0;36mdifferential_evolution\u001b[0;34m(func, bounds, args, strategy, maxiter, popsize, tol, mutation, recombination, seed, callback, disp, polish, init, atol, updating, workers, constraints, x0, integrality, vectorized)\u001b[0m\n\u001b[1;32m    380\u001b[0m \u001b[38;5;66;03m# using a context manager means that any created Pool objects are\u001b[39;00m\n\u001b[1;32m    381\u001b[0m \u001b[38;5;66;03m# cleared up.\u001b[39;00m\n\u001b[1;32m    382\u001b[0m \u001b[38;5;28;01mwith\u001b[39;00m DifferentialEvolutionSolver(func, bounds, args\u001b[38;5;241m=\u001b[39margs,\n\u001b[1;32m    383\u001b[0m                                  strategy\u001b[38;5;241m=\u001b[39mstrategy,\n\u001b[1;32m    384\u001b[0m                                  maxiter\u001b[38;5;241m=\u001b[39mmaxiter,\n\u001b[0;32m   (...)\u001b[0m\n\u001b[1;32m    395\u001b[0m                                  integrality\u001b[38;5;241m=\u001b[39mintegrality,\n\u001b[1;32m    396\u001b[0m                                  vectorized\u001b[38;5;241m=\u001b[39mvectorized) \u001b[38;5;28;01mas\u001b[39;00m solver:\n\u001b[0;32m--> 397\u001b[0m     ret \u001b[38;5;241m=\u001b[39m solver\u001b[38;5;241m.\u001b[39msolve()\n\u001b[1;32m    399\u001b[0m \u001b[38;5;28;01mreturn\u001b[39;00m ret\n",
      "File \u001b[0;32m~/opt/anaconda3/envs/seasonality/lib/python3.11/site-packages/scipy/optimize/_differentialevolution.py:998\u001b[0m, in \u001b[0;36mDifferentialEvolutionSolver.solve\u001b[0;34m(self)\u001b[0m\n\u001b[1;32m    995\u001b[0m \u001b[38;5;28;01mfor\u001b[39;00m nit \u001b[38;5;129;01min\u001b[39;00m \u001b[38;5;28mrange\u001b[39m(\u001b[38;5;241m1\u001b[39m, \u001b[38;5;28mself\u001b[39m\u001b[38;5;241m.\u001b[39mmaxiter \u001b[38;5;241m+\u001b[39m \u001b[38;5;241m1\u001b[39m):\n\u001b[1;32m    996\u001b[0m     \u001b[38;5;66;03m# evolve the population by a generation\u001b[39;00m\n\u001b[1;32m    997\u001b[0m     \u001b[38;5;28;01mtry\u001b[39;00m:\n\u001b[0;32m--> 998\u001b[0m         \u001b[38;5;28mnext\u001b[39m(\u001b[38;5;28mself\u001b[39m)\n\u001b[1;32m    999\u001b[0m     \u001b[38;5;28;01mexcept\u001b[39;00m \u001b[38;5;167;01mStopIteration\u001b[39;00m:\n\u001b[1;32m   1000\u001b[0m         warning_flag \u001b[38;5;241m=\u001b[39m \u001b[38;5;28;01mTrue\u001b[39;00m\n",
      "File \u001b[0;32m~/opt/anaconda3/envs/seasonality/lib/python3.11/site-packages/scipy/optimize/_differentialevolution.py:1385\u001b[0m, in \u001b[0;36mDifferentialEvolutionSolver.__next__\u001b[0;34m(self)\u001b[0m\n\u001b[1;32m   1383\u001b[0m     feasible \u001b[38;5;241m=\u001b[39m \u001b[38;5;28;01mTrue\u001b[39;00m\n\u001b[1;32m   1384\u001b[0m     cv \u001b[38;5;241m=\u001b[39m np\u001b[38;5;241m.\u001b[39matleast_2d([\u001b[38;5;241m0.\u001b[39m])\n\u001b[0;32m-> 1385\u001b[0m     energy \u001b[38;5;241m=\u001b[39m \u001b[38;5;28mself\u001b[39m\u001b[38;5;241m.\u001b[39mfunc(parameters)\n\u001b[1;32m   1386\u001b[0m     \u001b[38;5;28mself\u001b[39m\u001b[38;5;241m.\u001b[39m_nfev \u001b[38;5;241m+\u001b[39m\u001b[38;5;241m=\u001b[39m \u001b[38;5;241m1\u001b[39m\n\u001b[1;32m   1388\u001b[0m \u001b[38;5;66;03m# compare trial and population member\u001b[39;00m\n",
      "File \u001b[0;32m~/opt/anaconda3/envs/seasonality/lib/python3.11/site-packages/scipy/_lib/_util.py:372\u001b[0m, in \u001b[0;36m_FunctionWrapper.__call__\u001b[0;34m(self, x)\u001b[0m\n\u001b[1;32m    371\u001b[0m \u001b[38;5;28;01mdef\u001b[39;00m \u001b[38;5;21m__call__\u001b[39m(\u001b[38;5;28mself\u001b[39m, x):\n\u001b[0;32m--> 372\u001b[0m     \u001b[38;5;28;01mreturn\u001b[39;00m \u001b[38;5;28mself\u001b[39m\u001b[38;5;241m.\u001b[39mf(x, \u001b[38;5;241m*\u001b[39m\u001b[38;5;28mself\u001b[39m\u001b[38;5;241m.\u001b[39margs)\n",
      "File \u001b[0;32m~/opt/anaconda3/envs/seasonality/lib/python3.11/site-packages/pyPhenology/models/base.py:363\u001b[0m, in \u001b[0;36mBaseModel._scipy_error\u001b[0;34m(self, x)\u001b[0m\n\u001b[1;32m    360\u001b[0m \u001b[38;5;28;01mif\u001b[39;00m \u001b[38;5;28mself\u001b[39m\u001b[38;5;241m.\u001b[39mdebug:\n\u001b[1;32m    361\u001b[0m     \u001b[38;5;28mself\u001b[39m\u001b[38;5;241m.\u001b[39mmodel_timings\u001b[38;5;241m.\u001b[39mappend(time\u001b[38;5;241m.\u001b[39mtime() \u001b[38;5;241m-\u001b[39m start)\n\u001b[0;32m--> 363\u001b[0m \u001b[38;5;28;01mreturn\u001b[39;00m \u001b[38;5;28mself\u001b[39m\u001b[38;5;241m.\u001b[39mloss_function(\u001b[38;5;28mself\u001b[39m\u001b[38;5;241m.\u001b[39mobs_fitting, doy_estimates)\n",
      "File \u001b[0;32m~/opt/anaconda3/envs/seasonality/lib/python3.11/site-packages/pyPhenology/models/utils/optimize.py:5\u001b[0m, in \u001b[0;36mrmse_loss\u001b[0;34m(obs, pred)\u001b[0m\n\u001b[1;32m      4\u001b[0m \u001b[38;5;28;01mdef\u001b[39;00m \u001b[38;5;21mrmse_loss\u001b[39m(obs, pred):\n\u001b[0;32m----> 5\u001b[0m     \u001b[38;5;28;01mreturn\u001b[39;00m np\u001b[38;5;241m.\u001b[39msqrt(np\u001b[38;5;241m.\u001b[39mmean((obs \u001b[38;5;241m-\u001b[39m pred)\u001b[38;5;241m*\u001b[39m\u001b[38;5;241m*\u001b[39m\u001b[38;5;241m2\u001b[39m))\n",
      "File \u001b[0;32m~/opt/anaconda3/envs/seasonality/lib/python3.11/site-packages/numpy/core/fromnumeric.py:3504\u001b[0m, in \u001b[0;36mmean\u001b[0;34m(a, axis, dtype, out, keepdims, where)\u001b[0m\n\u001b[1;32m   3501\u001b[0m     \u001b[38;5;28;01melse\u001b[39;00m:\n\u001b[1;32m   3502\u001b[0m         \u001b[38;5;28;01mreturn\u001b[39;00m mean(axis\u001b[38;5;241m=\u001b[39maxis, dtype\u001b[38;5;241m=\u001b[39mdtype, out\u001b[38;5;241m=\u001b[39mout, \u001b[38;5;241m*\u001b[39m\u001b[38;5;241m*\u001b[39mkwargs)\n\u001b[0;32m-> 3504\u001b[0m \u001b[38;5;28;01mreturn\u001b[39;00m _methods\u001b[38;5;241m.\u001b[39m_mean(a, axis\u001b[38;5;241m=\u001b[39maxis, dtype\u001b[38;5;241m=\u001b[39mdtype,\n\u001b[1;32m   3505\u001b[0m                       out\u001b[38;5;241m=\u001b[39mout, \u001b[38;5;241m*\u001b[39m\u001b[38;5;241m*\u001b[39mkwargs)\n",
      "File \u001b[0;32m~/opt/anaconda3/envs/seasonality/lib/python3.11/site-packages/numpy/core/_methods.py:118\u001b[0m, in \u001b[0;36m_mean\u001b[0;34m(a, axis, dtype, out, keepdims, where)\u001b[0m\n\u001b[1;32m    115\u001b[0m         dtype \u001b[38;5;241m=\u001b[39m mu\u001b[38;5;241m.\u001b[39mdtype(\u001b[38;5;124m'\u001b[39m\u001b[38;5;124mf4\u001b[39m\u001b[38;5;124m'\u001b[39m)\n\u001b[1;32m    116\u001b[0m         is_float16_result \u001b[38;5;241m=\u001b[39m \u001b[38;5;28;01mTrue\u001b[39;00m\n\u001b[0;32m--> 118\u001b[0m ret \u001b[38;5;241m=\u001b[39m umr_sum(arr, axis, dtype, out, keepdims, where\u001b[38;5;241m=\u001b[39mwhere)\n\u001b[1;32m    119\u001b[0m \u001b[38;5;28;01mif\u001b[39;00m \u001b[38;5;28misinstance\u001b[39m(ret, mu\u001b[38;5;241m.\u001b[39mndarray):\n\u001b[1;32m    120\u001b[0m     \u001b[38;5;28;01mwith\u001b[39;00m _no_nep50_warning():\n",
      "\u001b[0;31mKeyboardInterrupt\u001b[0m: "
     ]
    }
   ],
   "source": [
    "normal_training_euro = train_species_models(euro_observations, formatted_weather)"
   ]
  },
  {
   "cell_type": "code",
   "execution_count": 104,
   "id": "a5b277bc",
   "metadata": {},
   "outputs": [
    {
     "name": "stdout",
     "output_type": "stream",
     "text": [
      "['Rubus' 'Rubus occidentalis' 'Ficus' 'Ficus carica' 'Ficus citrifolia'\n",
      " 'Ficus macrophylla' 'Ficus sycomorus' 'Olea europaea' 'Olea europea'\n",
      " 'Olea' 'Morus rubra' 'Morus nigra' 'Morus' 'Morus alba' 'Morus macroura'\n",
      " 'Morus australis' 'Amelanchier alnifolia' 'Amelanchier arborea'\n",
      " 'Amelanchier canadensis' 'Amelanchier grandiflora' 'Amelanchier laevis'\n",
      " 'Amelanchier utahensis' 'Amelanchier' 'Citrus' 'Citrus jambhiri'\n",
      " 'Citrus limon' 'Rubus idaeus' 'Rubus ellipticus' 'Rubus hayata'\n",
      " 'Rubus odoratus' 'Rubus phoenicolasius' 'Rubus rolfei' 'Citrus aurantium'\n",
      " 'Citrus sinensis' 'Prunus americana' 'Prunus domestica' 'Prunus maritima'\n",
      " 'Prunus nigra' 'Prunus cerasifera' 'Prunus' 'Prunus angustifolia'\n",
      " 'Prunus cocomilia' 'Prunus salicina' 'Prunus subcordata'\n",
      " 'Prunus mexicana' 'Prunus rivularis' 'Eriobotrya japonica'\n",
      " 'Malus sieboldii' 'Malus' 'Malus pumila' 'Malus domestica'\n",
      " 'Malus sylvestris' 'Malus coronaria' \"Malus '\" 'Malus sieversii'\n",
      " 'Malus baccata' 'Malus ioensis' 'Malus hupehensis' 'Malus tschonoskii'\n",
      " 'Malus fusca' 'Malus angustifolia' 'Rosmarinus officinalis' 'Juglans'\n",
      " 'Juglans regia' 'Juglans cinerea' 'Juglans hindsii' 'Juglans major'\n",
      " 'Juglans nigra' 'Prunus serotina' 'Prunus virginiana' 'Prunus yedoensis'\n",
      " 'Prunus ilicifolia' 'Prunus cerasus' 'Prunus emarginata'\n",
      " 'Prunus pensylvanica' 'Prunus laurocerasus' 'Prunus serrulata'\n",
      " 'Prunus avium' 'Cornus mas' 'Ehretia tinifolia' 'Elaeagnus multiflora'\n",
      " 'Prunus fruticosa' 'Prunus maackii' 'Prunus mahaleb' 'Prunus padus'\n",
      " 'Prunus subhirtella' 'Prunus tomentosa' 'Diospyros virginiana'\n",
      " 'Diospyros' 'Diospyros kaki' 'Pyrus communis' 'Pyrus'\n",
      " 'Pyrus amygdaliformis' 'Pyrus pyraster' 'Pyrus pyrifolia']\n"
     ]
    },
    {
     "name": "stderr",
     "output_type": "stream",
     "text": [
      "\r",
      "  0%|                                                                                                                                                                              | 0/95 [00:00<?, ?it/s]"
     ]
    },
    {
     "name": "stdout",
     "output_type": "stream",
     "text": [
      "\n",
      "\n",
      " Rubus\n",
      "['320348' '3522702' '3742808' '3862697' '3872695' '3892655' '3982550'\n",
      " '4002770' '4022828' '4092786' '4202683' '4232749' '4232889' '4302743'\n",
      " '4302782' '4302784' '4302823' '4312824' '4352714' '4552374' '4823583'\n",
      " '5232462' '5343578' '5343579']\n",
      "['320348' '3522702' '3742808' '3862697' '3872695' '3892655' '3982550'\n",
      " '4002770' '4022828' '4092786' '4202683' '4232749' '4232889' '4302743'\n",
      " '4302782' '4302784' '4302823' '4312824' '4352714' '4552374' '4823583'\n",
      " '5232462' '5343578' '5343579']\n",
      "running model ThermalTime\n"
     ]
    },
    {
     "name": "stderr",
     "output_type": "stream",
     "text": [
      "\r",
      "  0%|                                                                                                                                                                              | 0/95 [00:06<?, ?it/s]"
     ]
    },
    {
     "name": "stdout",
     "output_type": "stream",
     "text": [
      "<pyPhenology.models.thermaltime.ThermalTime object at 0x222534fd0>\n",
      "making predictions for model ThermalTime\n",
      "        site_id   latitude    doy    year  genus     lon_360  phenophase  \\\n",
      "19      4202683  42.000443  183.0  2022.0  Rubus  268.349632         516   \n",
      "20      4312824  43.123822  181.0  2022.0  Rubus  282.422069         516   \n",
      "22      3522702  35.219765  190.0  2022.0  Rubus  270.150501         516   \n",
      "23      4302743  43.026309  193.0  2022.0  Rubus  274.317216         516   \n",
      "25      3742808  37.417095  165.0  2022.0  Rubus  280.809241         516   \n",
      "26      3742808  37.403063  165.0  2022.0  Rubus  280.766240         516   \n",
      "28      4302823  43.017546  184.0  2022.0  Rubus  282.252708         516   \n",
      "29      4302823  43.017546  181.0  2022.0  Rubus  282.252708         516   \n",
      "30      4232749  42.307718  178.0  2022.0  Rubus  274.887183         516   \n",
      "31      4092786  40.863599  184.0  2022.0  Rubus  278.645318         516   \n",
      "32      4232749  42.301902  246.0  2022.0  Rubus  274.869641         516   \n",
      "33      4232889  42.322520  202.0  2022.0  Rubus  288.881026         516   \n",
      "34       320348  32.041780  288.0  2022.0  Rubus   34.813339         516   \n",
      "75      4352714  43.465085  192.0  2022.0  Rubus  271.415410         516   \n",
      "108067  4823583  48.213756  173.0  2022.0  Rubus  358.304859         516   \n",
      "108068  3982550  39.834264  214.0  2022.0  Rubus  254.971543         516   \n",
      "108098  3862697  38.637533  159.0  2022.0  Rubus  269.686410         516   \n",
      "108099  5343579  53.382048  191.0  2022.0  Rubus  357.857139         516   \n",
      "108100  4302782  42.979480  191.0  2022.0  Rubus  278.215056         516   \n",
      "108101  4552374  45.504375  196.0  2022.0  Rubus  237.382059         516   \n",
      "108103  4022828  40.192069  187.0  2022.0  Rubus  282.799092         516   \n",
      "108104  3982550  39.834361  214.0  2022.0  Rubus  254.971551         516   \n",
      "108105  5232462  52.299665  216.0  2022.0  Rubus  246.176445         516   \n",
      "108106  3892655  38.882239  136.0  2022.0  Rubus  265.482938         516   \n",
      "108108  4002770  39.991253  305.0  2022.0  Rubus  277.000209         516   \n",
      "108109  4002770  39.994214  305.0  2022.0  Rubus  277.001128         516   \n",
      "108110  4002770  39.994285  305.0  2022.0  Rubus  277.001018         516   \n",
      "108146  3872695  38.678677  274.0  2022.0  Rubus  269.471458         516   \n",
      "108148  5343578  53.373763  191.0  2022.0  Rubus  357.836915         516   \n",
      "108149  4302784  42.985256  195.0  2022.0  Rubus  278.395713         516   \n",
      "\n",
      "       formatted_sci_name  rounded_lat  rounded_lon coordstring  \n",
      "19                  Rubus         42.0        268.3   42.0268.3  \n",
      "20                  Rubus         43.1        282.4   43.1282.4  \n",
      "22                  Rubus         35.2        270.2   35.2270.2  \n",
      "23                  Rubus         43.0        274.3   43.0274.3  \n",
      "25                  Rubus         37.4        280.8   37.4280.8  \n",
      "26                  Rubus         37.4        280.8   37.4280.8  \n",
      "28                  Rubus         43.0        282.3   43.0282.3  \n",
      "29                  Rubus         43.0        282.3   43.0282.3  \n",
      "30                  Rubus         42.3        274.9   42.3274.9  \n",
      "31                  Rubus         40.9        278.6   40.9278.6  \n",
      "32                  Rubus         42.3        274.9   42.3274.9  \n",
      "33                  Rubus         42.3        288.9   42.3288.9  \n",
      "34                  Rubus         32.0         34.8    32.034.8  \n",
      "75                  Rubus         43.5        271.4   43.5271.4  \n",
      "108067              Rubus         48.2        358.3   48.2358.3  \n",
      "108068              Rubus         39.8        255.0   39.8255.0  \n",
      "108098              Rubus         38.6        269.7   38.6269.7  \n",
      "108099              Rubus         53.4        357.9   53.4357.9  \n",
      "108100              Rubus         43.0        278.2   43.0278.2  \n",
      "108101              Rubus         45.5        237.4   45.5237.4  \n",
      "108103              Rubus         40.2        282.8   40.2282.8  \n",
      "108104              Rubus         39.8        255.0   39.8255.0  \n",
      "108105              Rubus         52.3        246.2   52.3246.2  \n",
      "108106              Rubus         38.9        265.5   38.9265.5  \n",
      "108108              Rubus         40.0        277.0   40.0277.0  \n",
      "108109              Rubus         40.0        277.0   40.0277.0  \n",
      "108110              Rubus         40.0        277.0   40.0277.0  \n",
      "108146              Rubus         38.7        269.5   38.7269.5  \n",
      "108148              Rubus         53.4        357.8   53.4357.8  \n",
      "108149              Rubus         43.0        278.4   43.0278.4  \n",
      "          temperature  year  doy  latitude  longitude coordstring  site_id\n",
      "497520           -8.3  2022    1      43.7      280.6   43.7280.6  4372806\n",
      "497521          -10.8  2022    1      43.1      279.6   43.1279.6  4312796\n",
      "497522           -5.4  2022    1      40.0      276.9   40.0276.9  4002769\n",
      "497523           -6.6  2022    1      40.4      280.1   40.4280.1  4042801\n",
      "497524           -7.9  2022    1      43.2      289.1   43.2289.1  4322891\n",
      "...               ...   ...  ...       ...        ...         ...      ...\n",
      "14505931          5.2  2022  361      54.5        9.6     54.59.6    54596\n",
      "14505932          3.6  2022  362      54.5        9.6     54.59.6    54596\n",
      "14505933          5.8  2022  363      54.5        9.6     54.59.6    54596\n",
      "14505934          7.4  2022  364      54.5        9.6     54.59.6    54596\n",
      "14505935          6.2  2022  365      54.5        9.6     54.59.6    54596\n",
      "\n",
      "[94238 rows x 7 columns]\n",
      "[183. 181. 190. 193. 165. 165. 184. 181. 178. 184. 246. 202. 288. 192.\n",
      " 173. 214. 159. 191. 191. 196. 187. 214. 216. 136. 305. 305. 305. 274.\n",
      " 191. 195.]\n",
      "[]\n"
     ]
    },
    {
     "name": "stderr",
     "output_type": "stream",
     "text": [
      "\n"
     ]
    },
    {
     "ename": "ValueError",
     "evalue": "operands could not be broadcast together with shapes (30,) (0,) ",
     "output_type": "error",
     "traceback": [
      "\u001b[0;31m---------------------------------------------------------------------------\u001b[0m",
      "\u001b[0;31mValueError\u001b[0m                                Traceback (most recent call last)",
      "Cell \u001b[0;32mIn[104], line 1\u001b[0m\n\u001b[0;32m----> 1\u001b[0m normal_training_euro \u001b[38;5;241m=\u001b[39m train_species_models(euro_observations, merged_euro)\n",
      "Cell \u001b[0;32mIn[95], line 37\u001b[0m, in \u001b[0;36mtrain_species_models\u001b[0;34m(full_plant_data, full_weather_data)\u001b[0m\n\u001b[1;32m     34\u001b[0m \u001b[38;5;28mprint\u001b[39m(np\u001b[38;5;241m.\u001b[39msort(species_test_df[\u001b[38;5;124m'\u001b[39m\u001b[38;5;124msite_id\u001b[39m\u001b[38;5;124m'\u001b[39m]\u001b[38;5;241m.\u001b[39munique()))\n\u001b[1;32m     35\u001b[0m \u001b[38;5;28mprint\u001b[39m(np\u001b[38;5;241m.\u001b[39msort(filtered_weather_test[\u001b[38;5;124m'\u001b[39m\u001b[38;5;124msite_id\u001b[39m\u001b[38;5;124m'\u001b[39m]\u001b[38;5;241m.\u001b[39munique()))\n\u001b[0;32m---> 37\u001b[0m predictions \u001b[38;5;241m=\u001b[39m train_ripeness_small(species_train_df, weather_training,\n\u001b[1;32m     38\u001b[0m                     species_test_df, weather_test)\n\u001b[1;32m     40\u001b[0m \u001b[38;5;66;03m#break\u001b[39;00m\n\u001b[1;32m     42\u001b[0m species_prediction_dict[s] \u001b[38;5;241m=\u001b[39m predictions\n",
      "Cell \u001b[0;32mIn[2], line 44\u001b[0m, in \u001b[0;36mtrain_ripeness_small\u001b[0;34m(observations, predictors, test_observations, test_predictors, model_name)\u001b[0m\n\u001b[1;32m     41\u001b[0m \u001b[38;5;28mprint\u001b[39m(preds)\n\u001b[1;32m     43\u001b[0m \u001b[38;5;66;03m# Various error types\u001b[39;00m\n\u001b[0;32m---> 44\u001b[0m model_mae \u001b[38;5;241m=\u001b[39m mae(test_days, preds)\n\u001b[1;32m     45\u001b[0m model_rmse \u001b[38;5;241m=\u001b[39m rmse(test_days, preds)\n\u001b[1;32m     46\u001b[0m median_error \u001b[38;5;241m=\u001b[39m np\u001b[38;5;241m.\u001b[39mmedian(np\u001b[38;5;241m.\u001b[39mabs(test_days \u001b[38;5;241m-\u001b[39m preds))\n",
      "File \u001b[0;32m~/Documents/DFG_2023/dfg-seasons/modelling/model_helpers.py:45\u001b[0m, in \u001b[0;36mmae\u001b[0;34m(y1, y2)\u001b[0m\n\u001b[1;32m     44\u001b[0m \u001b[38;5;28;01mdef\u001b[39;00m \u001b[38;5;21mmae\u001b[39m(y1, y2):\n\u001b[0;32m---> 45\u001b[0m         \u001b[38;5;28;01mreturn\u001b[39;00m np\u001b[38;5;241m.\u001b[39mmean(np\u001b[38;5;241m.\u001b[39mabs(y1 \u001b[38;5;241m-\u001b[39m y2))\n",
      "\u001b[0;31mValueError\u001b[0m: operands could not be broadcast together with shapes (30,) (0,) "
     ]
    }
   ],
   "source": [
    "normal_training_euro = train_species_models(euro_observations, merged_euro)"
   ]
  },
  {
   "cell_type": "code",
   "execution_count": 105,
   "id": "a4f9d7d6",
   "metadata": {},
   "outputs": [
    {
     "data": {
      "text/html": [
       "<div>\n",
       "<style scoped>\n",
       "    .dataframe tbody tr th:only-of-type {\n",
       "        vertical-align: middle;\n",
       "    }\n",
       "\n",
       "    .dataframe tbody tr th {\n",
       "        vertical-align: top;\n",
       "    }\n",
       "\n",
       "    .dataframe thead th {\n",
       "        text-align: right;\n",
       "    }\n",
       "</style>\n",
       "<table border=\"1\" class=\"dataframe\">\n",
       "  <thead>\n",
       "    <tr style=\"text-align: right;\">\n",
       "      <th></th>\n",
       "      <th>temperature</th>\n",
       "      <th>year</th>\n",
       "      <th>doy</th>\n",
       "      <th>latitude</th>\n",
       "      <th>longitude</th>\n",
       "      <th>coordstring</th>\n",
       "      <th>site_id</th>\n",
       "    </tr>\n",
       "  </thead>\n",
       "  <tbody>\n",
       "    <tr>\n",
       "      <th>0</th>\n",
       "      <td>-5.445190</td>\n",
       "      <td>2010</td>\n",
       "      <td>1</td>\n",
       "      <td>43.7</td>\n",
       "      <td>280.6</td>\n",
       "      <td>43.7280.6</td>\n",
       "      <td>4372806</td>\n",
       "    </tr>\n",
       "    <tr>\n",
       "      <th>1</th>\n",
       "      <td>-6.786987</td>\n",
       "      <td>2010</td>\n",
       "      <td>1</td>\n",
       "      <td>43.1</td>\n",
       "      <td>279.6</td>\n",
       "      <td>43.1279.6</td>\n",
       "      <td>4312796</td>\n",
       "    </tr>\n",
       "    <tr>\n",
       "      <th>2</th>\n",
       "      <td>-4.749878</td>\n",
       "      <td>2010</td>\n",
       "      <td>1</td>\n",
       "      <td>40.0</td>\n",
       "      <td>276.9</td>\n",
       "      <td>40.0276.9</td>\n",
       "      <td>4002769</td>\n",
       "    </tr>\n",
       "    <tr>\n",
       "      <th>3</th>\n",
       "      <td>-5.156128</td>\n",
       "      <td>2010</td>\n",
       "      <td>1</td>\n",
       "      <td>40.4</td>\n",
       "      <td>280.1</td>\n",
       "      <td>40.4280.1</td>\n",
       "      <td>4042801</td>\n",
       "    </tr>\n",
       "    <tr>\n",
       "      <th>4</th>\n",
       "      <td>-6.206909</td>\n",
       "      <td>2010</td>\n",
       "      <td>1</td>\n",
       "      <td>43.2</td>\n",
       "      <td>289.1</td>\n",
       "      <td>43.2289.1</td>\n",
       "      <td>4322891</td>\n",
       "    </tr>\n",
       "    <tr>\n",
       "      <th>...</th>\n",
       "      <td>...</td>\n",
       "      <td>...</td>\n",
       "      <td>...</td>\n",
       "      <td>...</td>\n",
       "      <td>...</td>\n",
       "      <td>...</td>\n",
       "      <td>...</td>\n",
       "    </tr>\n",
       "    <tr>\n",
       "      <th>538975</th>\n",
       "      <td>1.518219</td>\n",
       "      <td>2022</td>\n",
       "      <td>336</td>\n",
       "      <td>48.1</td>\n",
       "      <td>236.5</td>\n",
       "      <td>48.1236.5</td>\n",
       "      <td>4812365</td>\n",
       "    </tr>\n",
       "    <tr>\n",
       "      <th>538976</th>\n",
       "      <td>-0.026703</td>\n",
       "      <td>2022</td>\n",
       "      <td>336</td>\n",
       "      <td>50.5</td>\n",
       "      <td>16.9</td>\n",
       "      <td>50.516.9</td>\n",
       "      <td>505169</td>\n",
       "    </tr>\n",
       "    <tr>\n",
       "      <th>538977</th>\n",
       "      <td>5.483063</td>\n",
       "      <td>2022</td>\n",
       "      <td>336</td>\n",
       "      <td>48.5</td>\n",
       "      <td>356.1</td>\n",
       "      <td>48.5356.1</td>\n",
       "      <td>4853561</td>\n",
       "    </tr>\n",
       "    <tr>\n",
       "      <th>538978</th>\n",
       "      <td>1.860016</td>\n",
       "      <td>2022</td>\n",
       "      <td>336</td>\n",
       "      <td>47.2</td>\n",
       "      <td>237.6</td>\n",
       "      <td>47.2237.6</td>\n",
       "      <td>4722376</td>\n",
       "    </tr>\n",
       "    <tr>\n",
       "      <th>538979</th>\n",
       "      <td>4.086578</td>\n",
       "      <td>2022</td>\n",
       "      <td>336</td>\n",
       "      <td>35.4</td>\n",
       "      <td>280.8</td>\n",
       "      <td>35.4280.8</td>\n",
       "      <td>3542808</td>\n",
       "    </tr>\n",
       "  </tbody>\n",
       "</table>\n",
       "<p>538980 rows × 7 columns</p>\n",
       "</div>"
      ],
      "text/plain": [
       "        temperature  year  doy  latitude  longitude coordstring  site_id\n",
       "0         -5.445190  2010    1      43.7      280.6   43.7280.6  4372806\n",
       "1         -6.786987  2010    1      43.1      279.6   43.1279.6  4312796\n",
       "2         -4.749878  2010    1      40.0      276.9   40.0276.9  4002769\n",
       "3         -5.156128  2010    1      40.4      280.1   40.4280.1  4042801\n",
       "4         -6.206909  2010    1      43.2      289.1   43.2289.1  4322891\n",
       "...             ...   ...  ...       ...        ...         ...      ...\n",
       "538975     1.518219  2022  336      48.1      236.5   48.1236.5  4812365\n",
       "538976    -0.026703  2022  336      50.5       16.9    50.516.9   505169\n",
       "538977     5.483063  2022  336      48.5      356.1   48.5356.1  4853561\n",
       "538978     1.860016  2022  336      47.2      237.6   47.2237.6  4722376\n",
       "538979     4.086578  2022  336      35.4      280.8   35.4280.8  3542808\n",
       "\n",
       "[538980 rows x 7 columns]"
      ]
     },
     "execution_count": 105,
     "metadata": {},
     "output_type": "execute_result"
    }
   ],
   "source": [
    "formatted_weather"
   ]
  },
  {
   "cell_type": "code",
   "execution_count": 112,
   "id": "ded606dc",
   "metadata": {},
   "outputs": [
    {
     "data": {
      "text/plain": [
       "2747"
      ]
     },
     "execution_count": 112,
     "metadata": {},
     "output_type": "execute_result"
    }
   ],
   "source": [
    "sum(np.sort(merged_euro['site_id'].unique()) == np.sort(formatted_weather['site_id'].unique()))"
   ]
  },
  {
   "cell_type": "code",
   "execution_count": 116,
   "id": "cf0c6f8a",
   "metadata": {},
   "outputs": [
    {
     "data": {
      "text/html": [
       "<div>\n",
       "<style scoped>\n",
       "    .dataframe tbody tr th:only-of-type {\n",
       "        vertical-align: middle;\n",
       "    }\n",
       "\n",
       "    .dataframe tbody tr th {\n",
       "        vertical-align: top;\n",
       "    }\n",
       "\n",
       "    .dataframe thead th {\n",
       "        text-align: right;\n",
       "    }\n",
       "</style>\n",
       "<table border=\"1\" class=\"dataframe\">\n",
       "  <thead>\n",
       "    <tr style=\"text-align: right;\">\n",
       "      <th></th>\n",
       "      <th>temperature</th>\n",
       "      <th>year</th>\n",
       "      <th>doy</th>\n",
       "      <th>latitude</th>\n",
       "      <th>longitude</th>\n",
       "      <th>coordstring</th>\n",
       "      <th>site_id</th>\n",
       "    </tr>\n",
       "  </thead>\n",
       "  <tbody>\n",
       "    <tr>\n",
       "      <th>0</th>\n",
       "      <td>-5.4</td>\n",
       "      <td>2010</td>\n",
       "      <td>1</td>\n",
       "      <td>43.7</td>\n",
       "      <td>280.6</td>\n",
       "      <td>43.7280.6</td>\n",
       "      <td>4372806</td>\n",
       "    </tr>\n",
       "    <tr>\n",
       "      <th>1</th>\n",
       "      <td>-6.8</td>\n",
       "      <td>2010</td>\n",
       "      <td>1</td>\n",
       "      <td>43.1</td>\n",
       "      <td>279.6</td>\n",
       "      <td>43.1279.6</td>\n",
       "      <td>4312796</td>\n",
       "    </tr>\n",
       "    <tr>\n",
       "      <th>2</th>\n",
       "      <td>-4.7</td>\n",
       "      <td>2010</td>\n",
       "      <td>1</td>\n",
       "      <td>40.0</td>\n",
       "      <td>276.9</td>\n",
       "      <td>40.0276.9</td>\n",
       "      <td>4002769</td>\n",
       "    </tr>\n",
       "    <tr>\n",
       "      <th>3</th>\n",
       "      <td>-5.2</td>\n",
       "      <td>2010</td>\n",
       "      <td>1</td>\n",
       "      <td>40.4</td>\n",
       "      <td>280.1</td>\n",
       "      <td>40.4280.1</td>\n",
       "      <td>4042801</td>\n",
       "    </tr>\n",
       "    <tr>\n",
       "      <th>4</th>\n",
       "      <td>-6.2</td>\n",
       "      <td>2010</td>\n",
       "      <td>1</td>\n",
       "      <td>43.2</td>\n",
       "      <td>289.1</td>\n",
       "      <td>43.2289.1</td>\n",
       "      <td>4322891</td>\n",
       "    </tr>\n",
       "    <tr>\n",
       "      <th>...</th>\n",
       "      <td>...</td>\n",
       "      <td>...</td>\n",
       "      <td>...</td>\n",
       "      <td>...</td>\n",
       "      <td>...</td>\n",
       "      <td>...</td>\n",
       "      <td>...</td>\n",
       "    </tr>\n",
       "    <tr>\n",
       "      <th>14505931</th>\n",
       "      <td>5.2</td>\n",
       "      <td>2022</td>\n",
       "      <td>361</td>\n",
       "      <td>54.5</td>\n",
       "      <td>9.6</td>\n",
       "      <td>54.59.6</td>\n",
       "      <td>54596</td>\n",
       "    </tr>\n",
       "    <tr>\n",
       "      <th>14505932</th>\n",
       "      <td>3.6</td>\n",
       "      <td>2022</td>\n",
       "      <td>362</td>\n",
       "      <td>54.5</td>\n",
       "      <td>9.6</td>\n",
       "      <td>54.59.6</td>\n",
       "      <td>54596</td>\n",
       "    </tr>\n",
       "    <tr>\n",
       "      <th>14505933</th>\n",
       "      <td>5.8</td>\n",
       "      <td>2022</td>\n",
       "      <td>363</td>\n",
       "      <td>54.5</td>\n",
       "      <td>9.6</td>\n",
       "      <td>54.59.6</td>\n",
       "      <td>54596</td>\n",
       "    </tr>\n",
       "    <tr>\n",
       "      <th>14505934</th>\n",
       "      <td>7.4</td>\n",
       "      <td>2022</td>\n",
       "      <td>364</td>\n",
       "      <td>54.5</td>\n",
       "      <td>9.6</td>\n",
       "      <td>54.59.6</td>\n",
       "      <td>54596</td>\n",
       "    </tr>\n",
       "    <tr>\n",
       "      <th>14505935</th>\n",
       "      <td>6.2</td>\n",
       "      <td>2022</td>\n",
       "      <td>365</td>\n",
       "      <td>54.5</td>\n",
       "      <td>9.6</td>\n",
       "      <td>54.59.6</td>\n",
       "      <td>54596</td>\n",
       "    </tr>\n",
       "  </tbody>\n",
       "</table>\n",
       "<p>1280762 rows × 7 columns</p>\n",
       "</div>"
      ],
      "text/plain": [
       "          temperature  year  doy  latitude  longitude coordstring  site_id\n",
       "0                -5.4  2010    1      43.7      280.6   43.7280.6  4372806\n",
       "1                -6.8  2010    1      43.1      279.6   43.1279.6  4312796\n",
       "2                -4.7  2010    1      40.0      276.9   40.0276.9  4002769\n",
       "3                -5.2  2010    1      40.4      280.1   40.4280.1  4042801\n",
       "4                -6.2  2010    1      43.2      289.1   43.2289.1  4322891\n",
       "...               ...   ...  ...       ...        ...         ...      ...\n",
       "14505931          5.2  2022  361      54.5        9.6     54.59.6    54596\n",
       "14505932          3.6  2022  362      54.5        9.6     54.59.6    54596\n",
       "14505933          5.8  2022  363      54.5        9.6     54.59.6    54596\n",
       "14505934          7.4  2022  364      54.5        9.6     54.59.6    54596\n",
       "14505935          6.2  2022  365      54.5        9.6     54.59.6    54596\n",
       "\n",
       "[1280762 rows x 7 columns]"
      ]
     },
     "execution_count": 116,
     "metadata": {},
     "output_type": "execute_result"
    }
   ],
   "source": [
    "merged_euro[merged_euro['site_id'].isin(formatted_weather['site_id'])]"
   ]
  },
  {
   "cell_type": "code",
   "execution_count": 117,
   "id": "92bdcd5e",
   "metadata": {},
   "outputs": [
    {
     "data": {
      "text/html": [
       "<div>\n",
       "<style scoped>\n",
       "    .dataframe tbody tr th:only-of-type {\n",
       "        vertical-align: middle;\n",
       "    }\n",
       "\n",
       "    .dataframe tbody tr th {\n",
       "        vertical-align: top;\n",
       "    }\n",
       "\n",
       "    .dataframe thead th {\n",
       "        text-align: right;\n",
       "    }\n",
       "</style>\n",
       "<table border=\"1\" class=\"dataframe\">\n",
       "  <thead>\n",
       "    <tr style=\"text-align: right;\">\n",
       "      <th></th>\n",
       "      <th>temperature</th>\n",
       "      <th>year</th>\n",
       "      <th>doy</th>\n",
       "      <th>latitude</th>\n",
       "      <th>longitude</th>\n",
       "      <th>coordstring</th>\n",
       "      <th>site_id</th>\n",
       "    </tr>\n",
       "  </thead>\n",
       "  <tbody>\n",
       "    <tr>\n",
       "      <th>0</th>\n",
       "      <td>-5.4</td>\n",
       "      <td>2010</td>\n",
       "      <td>1</td>\n",
       "      <td>43.7</td>\n",
       "      <td>280.6</td>\n",
       "      <td>43.7280.6</td>\n",
       "      <td>4372806</td>\n",
       "    </tr>\n",
       "    <tr>\n",
       "      <th>1</th>\n",
       "      <td>-6.8</td>\n",
       "      <td>2010</td>\n",
       "      <td>1</td>\n",
       "      <td>43.1</td>\n",
       "      <td>279.6</td>\n",
       "      <td>43.1279.6</td>\n",
       "      <td>4312796</td>\n",
       "    </tr>\n",
       "    <tr>\n",
       "      <th>2</th>\n",
       "      <td>-4.7</td>\n",
       "      <td>2010</td>\n",
       "      <td>1</td>\n",
       "      <td>40.0</td>\n",
       "      <td>276.9</td>\n",
       "      <td>40.0276.9</td>\n",
       "      <td>4002769</td>\n",
       "    </tr>\n",
       "    <tr>\n",
       "      <th>3</th>\n",
       "      <td>-5.2</td>\n",
       "      <td>2010</td>\n",
       "      <td>1</td>\n",
       "      <td>40.4</td>\n",
       "      <td>280.1</td>\n",
       "      <td>40.4280.1</td>\n",
       "      <td>4042801</td>\n",
       "    </tr>\n",
       "    <tr>\n",
       "      <th>4</th>\n",
       "      <td>-6.2</td>\n",
       "      <td>2010</td>\n",
       "      <td>1</td>\n",
       "      <td>43.2</td>\n",
       "      <td>289.1</td>\n",
       "      <td>43.2289.1</td>\n",
       "      <td>4322891</td>\n",
       "    </tr>\n",
       "    <tr>\n",
       "      <th>...</th>\n",
       "      <td>...</td>\n",
       "      <td>...</td>\n",
       "      <td>...</td>\n",
       "      <td>...</td>\n",
       "      <td>...</td>\n",
       "      <td>...</td>\n",
       "      <td>...</td>\n",
       "    </tr>\n",
       "    <tr>\n",
       "      <th>14505931</th>\n",
       "      <td>5.2</td>\n",
       "      <td>2022</td>\n",
       "      <td>361</td>\n",
       "      <td>54.5</td>\n",
       "      <td>9.6</td>\n",
       "      <td>54.59.6</td>\n",
       "      <td>54596</td>\n",
       "    </tr>\n",
       "    <tr>\n",
       "      <th>14505932</th>\n",
       "      <td>3.6</td>\n",
       "      <td>2022</td>\n",
       "      <td>362</td>\n",
       "      <td>54.5</td>\n",
       "      <td>9.6</td>\n",
       "      <td>54.59.6</td>\n",
       "      <td>54596</td>\n",
       "    </tr>\n",
       "    <tr>\n",
       "      <th>14505933</th>\n",
       "      <td>5.8</td>\n",
       "      <td>2022</td>\n",
       "      <td>363</td>\n",
       "      <td>54.5</td>\n",
       "      <td>9.6</td>\n",
       "      <td>54.59.6</td>\n",
       "      <td>54596</td>\n",
       "    </tr>\n",
       "    <tr>\n",
       "      <th>14505934</th>\n",
       "      <td>7.4</td>\n",
       "      <td>2022</td>\n",
       "      <td>364</td>\n",
       "      <td>54.5</td>\n",
       "      <td>9.6</td>\n",
       "      <td>54.59.6</td>\n",
       "      <td>54596</td>\n",
       "    </tr>\n",
       "    <tr>\n",
       "      <th>14505935</th>\n",
       "      <td>6.2</td>\n",
       "      <td>2022</td>\n",
       "      <td>365</td>\n",
       "      <td>54.5</td>\n",
       "      <td>9.6</td>\n",
       "      <td>54.59.6</td>\n",
       "      <td>54596</td>\n",
       "    </tr>\n",
       "  </tbody>\n",
       "</table>\n",
       "<p>1285509 rows × 7 columns</p>\n",
       "</div>"
      ],
      "text/plain": [
       "          temperature  year  doy  latitude  longitude coordstring  site_id\n",
       "0                -5.4  2010    1      43.7      280.6   43.7280.6  4372806\n",
       "1                -6.8  2010    1      43.1      279.6   43.1279.6  4312796\n",
       "2                -4.7  2010    1      40.0      276.9   40.0276.9  4002769\n",
       "3                -5.2  2010    1      40.4      280.1   40.4280.1  4042801\n",
       "4                -6.2  2010    1      43.2      289.1   43.2289.1  4322891\n",
       "...               ...   ...  ...       ...        ...         ...      ...\n",
       "14505931          5.2  2022  361      54.5        9.6     54.59.6    54596\n",
       "14505932          3.6  2022  362      54.5        9.6     54.59.6    54596\n",
       "14505933          5.8  2022  363      54.5        9.6     54.59.6    54596\n",
       "14505934          7.4  2022  364      54.5        9.6     54.59.6    54596\n",
       "14505935          6.2  2022  365      54.5        9.6     54.59.6    54596\n",
       "\n",
       "[1285509 rows x 7 columns]"
      ]
     },
     "execution_count": 117,
     "metadata": {},
     "output_type": "execute_result"
    }
   ],
   "source": [
    "merged_euro"
   ]
  },
  {
   "cell_type": "code",
   "execution_count": 118,
   "id": "8864c026",
   "metadata": {},
   "outputs": [
    {
     "data": {
      "text/plain": [
       "3455"
      ]
     },
     "execution_count": 118,
     "metadata": {},
     "output_type": "execute_result"
    }
   ],
   "source": [
    "merged_euro['site_id'].nunique()"
   ]
  },
  {
   "cell_type": "code",
   "execution_count": 119,
   "id": "725ab6ae",
   "metadata": {},
   "outputs": [
    {
     "data": {
      "text/plain": [
       "3455"
      ]
     },
     "execution_count": 119,
     "metadata": {},
     "output_type": "execute_result"
    }
   ],
   "source": [
    "formatted_weather['site_id'].nunique()"
   ]
  },
  {
   "cell_type": "code",
   "execution_count": 138,
   "id": "a8fd5907",
   "metadata": {},
   "outputs": [
    {
     "name": "stderr",
     "output_type": "stream",
     "text": [
      "100%|█████████████████████████████████████████████████████████████████████████████████████████████████████████████████████████████████████████████████████████████████| 3455/3455 [04:25<00:00, 13.03it/s]\n"
     ]
    }
   ],
   "source": [
    "## Don't run this, produces nothing\n",
    "\n",
    "for s in tqdm(merged_euro['site_id'].unique()):\n",
    "    site_df = merged_euro.query('site_id == {}'.format(s))\n",
    "    \n",
    "    for y in site_df['year'].unique():\n",
    "        site_df_y = site_df.query('year == {}'.format(y))\n",
    "        \n",
    "        if len(site_df_y) != 365 or len(site_df_y) != 366 or len(site_df_y) != 12:\n",
    "            print(s, y, len(site_df_y))"
   ]
  },
  {
   "cell_type": "code",
   "execution_count": 139,
   "id": "150ddfa5",
   "metadata": {},
   "outputs": [
    {
     "name": "stderr",
     "output_type": "stream",
     "text": [
      "  0%|                                                                                                                                                                    | 2/3455 [00:00<04:27, 12.91it/s]"
     ]
    },
    {
     "name": "stdout",
     "output_type": "stream",
     "text": [
      "4372806 2022 0\n",
      "4312796 2022 0\n",
      "4002769 2022 0\n"
     ]
    },
    {
     "name": "stderr",
     "output_type": "stream",
     "text": [
      "  0%|▎                                                                                                                                                                   | 6/3455 [00:00<04:17, 13.37it/s]"
     ]
    },
    {
     "name": "stdout",
     "output_type": "stream",
     "text": [
      "4042801 2022 0\n",
      "4322891 2022 0\n",
      "4112861 2022 0\n"
     ]
    },
    {
     "name": "stderr",
     "output_type": "stream",
     "text": [
      "\r",
      "  0%|▍                                                                                                                                                                   | 8/3455 [00:00<04:17, 13.39it/s]"
     ]
    },
    {
     "name": "stdout",
     "output_type": "stream",
     "text": [
      "4242887 2022 0\n",
      "3242782 2022 0\n",
      "3882818 2022 0\n"
     ]
    },
    {
     "name": "stderr",
     "output_type": "stream",
     "text": [
      "  0%|▌                                                                                                                                                                  | 12/3455 [00:00<04:29, 12.79it/s]"
     ]
    },
    {
     "name": "stdout",
     "output_type": "stream",
     "text": [
      "4703587 2022 0\n",
      "4052801 2022 0\n",
      "4032798 2022 0\n"
     ]
    },
    {
     "name": "stderr",
     "output_type": "stream",
     "text": [
      "\r",
      "  0%|▋                                                                                                                                                                  | 14/3455 [00:01<04:28, 12.82it/s]"
     ]
    },
    {
     "name": "stdout",
     "output_type": "stream",
     "text": [
      "4212683 2022 0\n",
      "4342795 2022 0\n",
      "4202683 2022 0\n"
     ]
    },
    {
     "name": "stderr",
     "output_type": "stream",
     "text": [
      "  1%|▊                                                                                                                                                                  | 18/3455 [00:01<04:19, 13.24it/s]"
     ]
    },
    {
     "name": "stdout",
     "output_type": "stream",
     "text": [
      "4312824 2022 0\n",
      "3522702 2022 0\n",
      "4302743 2022 0\n"
     ]
    },
    {
     "name": "stderr",
     "output_type": "stream",
     "text": [
      "\r",
      "  1%|▉                                                                                                                                                                  | 20/3455 [00:01<04:18, 13.30it/s]"
     ]
    },
    {
     "name": "stdout",
     "output_type": "stream",
     "text": [
      "4122786 2022 0\n",
      "3742808 2022 0\n",
      "4342796 2022 0\n"
     ]
    },
    {
     "name": "stderr",
     "output_type": "stream",
     "text": [
      "  1%|█▏                                                                                                                                                                 | 24/3455 [00:01<04:15, 13.43it/s]"
     ]
    },
    {
     "name": "stdout",
     "output_type": "stream",
     "text": [
      "4302823 2022 0\n",
      "4232749 2022 0\n",
      "4092786 2022 0\n"
     ]
    },
    {
     "name": "stderr",
     "output_type": "stream",
     "text": [
      "\r",
      "  1%|█▏                                                                                                                                                                 | 26/3455 [00:01<04:15, 13.41it/s]"
     ]
    },
    {
     "name": "stdout",
     "output_type": "stream",
     "text": [
      "4232889 2022 0\n",
      "320348 2022 0\n",
      "4472668 2022 0\n"
     ]
    },
    {
     "name": "stderr",
     "output_type": "stream",
     "text": [
      "  1%|█▍                                                                                                                                                                 | 30/3455 [00:02<04:13, 13.49it/s]"
     ]
    },
    {
     "name": "stdout",
     "output_type": "stream",
     "text": [
      "4472669 2022 0\n",
      "4182724 2022 0\n",
      "4192720 2022 0\n"
     ]
    },
    {
     "name": "stderr",
     "output_type": "stream",
     "text": [
      "\r",
      "  1%|█▌                                                                                                                                                                 | 32/3455 [00:02<04:14, 13.46it/s]"
     ]
    },
    {
     "name": "stdout",
     "output_type": "stream",
     "text": [
      "4232721 2022 0\n",
      "4312704 2022 0\n",
      "4472667 2022 0\n"
     ]
    },
    {
     "name": "stderr",
     "output_type": "stream",
     "text": [
      "  1%|█▋                                                                                                                                                                 | 36/3455 [00:02<04:12, 13.55it/s]"
     ]
    },
    {
     "name": "stdout",
     "output_type": "stream",
     "text": [
      "3732381 2022 0\n",
      "4412660 2022 0\n",
      "4152694 2022 0\n"
     ]
    },
    {
     "name": "stderr",
     "output_type": "stream",
     "text": [
      "\r",
      "  1%|█▊                                                                                                                                                                 | 38/3455 [00:02<04:13, 13.47it/s]"
     ]
    },
    {
     "name": "stdout",
     "output_type": "stream",
     "text": [
      "4082821 2022 0\n",
      "4342703 2022 0\n",
      "4182787 2022 0\n"
     ]
    },
    {
     "name": "stderr",
     "output_type": "stream",
     "text": [
      "  1%|█▉                                                                                                                                                                 | 42/3455 [00:03<04:13, 13.49it/s]"
     ]
    },
    {
     "name": "stdout",
     "output_type": "stream",
     "text": [
      "3232698 2022 0\n",
      "4272757 2022 0\n",
      "3972741 2022 0\n"
     ]
    },
    {
     "name": "stderr",
     "output_type": "stream",
     "text": [
      "\r",
      "  1%|██                                                                                                                                                                 | 44/3455 [00:03<04:13, 13.46it/s]"
     ]
    },
    {
     "name": "stdout",
     "output_type": "stream",
     "text": [
      "3692664 2022 0\n",
      "4492667 2022 0\n",
      "3982742 2022 0\n"
     ]
    },
    {
     "name": "stderr",
     "output_type": "stream",
     "text": [
      "  1%|██▎                                                                                                                                                                | 48/3455 [00:03<04:13, 13.46it/s]"
     ]
    },
    {
     "name": "stdout",
     "output_type": "stream",
     "text": [
      "3982743 2022 0\n",
      "4352714 2022 0\n",
      "4552659 2022 0\n"
     ]
    },
    {
     "name": "stderr",
     "output_type": "stream",
     "text": [
      "\r",
      "  1%|██▎                                                                                                                                                                | 50/3455 [00:03<04:12, 13.46it/s]"
     ]
    },
    {
     "name": "stdout",
     "output_type": "stream",
     "text": [
      "4292832 2022 0\n",
      "3922735 2022 0\n",
      "3902824 2022 0\n"
     ]
    },
    {
     "name": "stderr",
     "output_type": "stream",
     "text": [
      "  2%|██▌                                                                                                                                                                | 54/3455 [00:04<04:13, 13.44it/s]"
     ]
    },
    {
     "name": "stdout",
     "output_type": "stream",
     "text": [
      "4312706 2022 0\n",
      "4212682 2022 0\n",
      "4272863 2022 0\n"
     ]
    },
    {
     "name": "stderr",
     "output_type": "stream",
     "text": [
      "\r",
      "  2%|██▋                                                                                                                                                                | 56/3455 [00:04<04:12, 13.45it/s]"
     ]
    },
    {
     "name": "stdout",
     "output_type": "stream",
     "text": [
      "4302787 2022 0\n",
      "4482667 2022 0\n",
      "3982736 2022 0\n"
     ]
    },
    {
     "name": "stderr",
     "output_type": "stream",
     "text": [
      "  2%|██▊                                                                                                                                                                | 60/3455 [00:04<04:10, 13.53it/s]"
     ]
    },
    {
     "name": "stdout",
     "output_type": "stream",
     "text": [
      "4302722 2022 0\n",
      "4462715 2022 0\n",
      "4252891 2022 0\n"
     ]
    },
    {
     "name": "stderr",
     "output_type": "stream",
     "text": [
      "\r",
      "  2%|██▉                                                                                                                                                                | 62/3455 [00:04<04:12, 13.46it/s]"
     ]
    },
    {
     "name": "stdout",
     "output_type": "stream",
     "text": [
      "4152730 2022 0\n",
      "4262890 2022 0\n",
      "4362877 2022 0\n"
     ]
    },
    {
     "name": "stderr",
     "output_type": "stream",
     "text": [
      "  2%|███                                                                                                                                                                | 66/3455 [00:04<04:11, 13.47it/s]"
     ]
    },
    {
     "name": "stdout",
     "output_type": "stream",
     "text": [
      "4232888 2022 0\n",
      "4012770 2022 0\n",
      "4042769 2022 0\n"
     ]
    },
    {
     "name": "stderr",
     "output_type": "stream",
     "text": [
      "\r",
      "  2%|███▏                                                                                                                                                               | 68/3455 [00:05<04:11, 13.46it/s]"
     ]
    },
    {
     "name": "stdout",
     "output_type": "stream",
     "text": [
      "4302744 2022 0\n",
      "4272861 2022 0\n",
      "3612658 2022 0\n"
     ]
    },
    {
     "name": "stderr",
     "output_type": "stream",
     "text": [
      "  2%|███▍                                                                                                                                                               | 72/3455 [00:05<04:12, 13.41it/s]"
     ]
    },
    {
     "name": "stdout",
     "output_type": "stream",
     "text": [
      "4152695 2022 0\n",
      "4202720 2022 0\n",
      "4312782 2022 0\n"
     ]
    },
    {
     "name": "stderr",
     "output_type": "stream",
     "text": [
      "\r",
      "  2%|███▍                                                                                                                                                               | 74/3455 [00:05<04:11, 13.45it/s]"
     ]
    },
    {
     "name": "stdout",
     "output_type": "stream",
     "text": [
      "4322801 2022 0\n",
      "4172746 2022 0\n",
      "4012771 2022 0\n"
     ]
    },
    {
     "name": "stderr",
     "output_type": "stream",
     "text": [
      "  2%|███▋                                                                                                                                                               | 78/3455 [00:05<04:08, 13.57it/s]"
     ]
    },
    {
     "name": "stdout",
     "output_type": "stream",
     "text": [
      "4012769 2022 0\n",
      "4132742 2022 0\n",
      "4202835 2022 0\n"
     ]
    },
    {
     "name": "stderr",
     "output_type": "stream",
     "text": [
      "\r",
      "  2%|███▊                                                                                                                                                               | 80/3455 [00:05<04:09, 13.51it/s]"
     ]
    },
    {
     "name": "stdout",
     "output_type": "stream",
     "text": [
      "4312744 2022 0\n",
      "4272755 2022 0\n",
      "4172741 2022 0\n"
     ]
    },
    {
     "name": "stderr",
     "output_type": "stream",
     "text": [
      "  2%|███▉                                                                                                                                                               | 84/3455 [00:06<04:09, 13.50it/s]"
     ]
    },
    {
     "name": "stdout",
     "output_type": "stream",
     "text": [
      "4142783 2022 0\n",
      "4232762 2022 0\n",
      "4082822 2022 0\n"
     ]
    },
    {
     "name": "stderr",
     "output_type": "stream",
     "text": [
      "\r",
      "  2%|████                                                                                                                                                               | 86/3455 [00:06<04:09, 13.49it/s]"
     ]
    },
    {
     "name": "stdout",
     "output_type": "stream",
     "text": [
      "4142782 2022 0\n",
      "4362895 2022 0\n",
      "4392811 2022 0\n"
     ]
    },
    {
     "name": "stderr",
     "output_type": "stream",
     "text": [
      "  3%|████▏                                                                                                                                                              | 90/3455 [00:06<04:08, 13.56it/s]"
     ]
    },
    {
     "name": "stdout",
     "output_type": "stream",
     "text": [
      "4152725 2022 0\n",
      "4063568 2022 0\n",
      "421191 2022 0\n"
     ]
    },
    {
     "name": "stderr",
     "output_type": "stream",
     "text": [
      "\r",
      "  3%|████▎                                                                                                                                                              | 92/3455 [00:06<04:08, 13.53it/s]"
     ]
    },
    {
     "name": "stdout",
     "output_type": "stream",
     "text": [
      "424193 2022 0\n",
      "3802815 2022 0\n",
      "3422414 2022 0\n"
     ]
    },
    {
     "name": "stderr",
     "output_type": "stream",
     "text": [
      "  3%|████▌                                                                                                                                                              | 96/3455 [00:07<04:06, 13.61it/s]"
     ]
    },
    {
     "name": "stdout",
     "output_type": "stream",
     "text": [
      "3742379 2022 0\n",
      "3352480 2022 0\n",
      "3392420 2022 0\n"
     ]
    },
    {
     "name": "stderr",
     "output_type": "stream",
     "text": [
      "\r",
      "  3%|████▌                                                                                                                                                              | 98/3455 [00:07<04:07, 13.56it/s]"
     ]
    },
    {
     "name": "stdout",
     "output_type": "stream",
     "text": [
      "4552374 2022 0\n",
      "3422416 2022 0\n",
      "3862385 2022 0\n"
     ]
    },
    {
     "name": "stderr",
     "output_type": "stream",
     "text": [
      "  3%|████▊                                                                                                                                                             | 102/3455 [00:07<04:07, 13.57it/s]"
     ]
    },
    {
     "name": "stdout",
     "output_type": "stream",
     "text": [
      "3832373 2022 0\n",
      "4772377 2022 0\n",
      "3062637 2022 0\n"
     ]
    },
    {
     "name": "stderr",
     "output_type": "stream",
     "text": [
      "\r",
      "  3%|████▉                                                                                                                                                             | 104/3455 [00:07<04:07, 13.54it/s]"
     ]
    },
    {
     "name": "stdout",
     "output_type": "stream",
     "text": [
      "4752377 2022 0\n",
      "3802387 2022 0\n",
      "-4281475 2022 0\n"
     ]
    },
    {
     "name": "stderr",
     "output_type": "stream",
     "text": [
      "  3%|█████                                                                                                                                                             | 108/3455 [00:08<04:06, 13.57it/s]"
     ]
    },
    {
     "name": "stdout",
     "output_type": "stream",
     "text": [
      "-3681443 2022 0\n",
      "-3501386 2022 0\n",
      "3032623 2022 0\n"
     ]
    },
    {
     "name": "stderr",
     "output_type": "stream",
     "text": [
      "\r",
      "  3%|█████▏                                                                                                                                                            | 110/3455 [00:08<04:07, 13.50it/s]"
     ]
    },
    {
     "name": "stdout",
     "output_type": "stream",
     "text": [
      "3512700 2022 0\n",
      "3402416 2022 0\n",
      "52202 2022 0\n"
     ]
    },
    {
     "name": "stderr",
     "output_type": "stream",
     "text": [
      "  3%|█████▎                                                                                                                                                            | 114/3455 [00:08<04:07, 13.51it/s]"
     ]
    },
    {
     "name": "stdout",
     "output_type": "stream",
     "text": [
      "43844 2022 0\n",
      "4542373 2022 0\n",
      "4562374 2022 0\n"
     ]
    },
    {
     "name": "stderr",
     "output_type": "stream",
     "text": [
      "\r",
      "  3%|█████▍                                                                                                                                                            | 116/3455 [00:08<04:06, 13.52it/s]"
     ]
    },
    {
     "name": "stdout",
     "output_type": "stream",
     "text": [
      "4493593 2022 0\n",
      "3752381 2022 0\n",
      "-3491386 2022 0\n"
     ]
    },
    {
     "name": "stderr",
     "output_type": "stream",
     "text": [
      "  3%|█████▋                                                                                                                                                            | 120/3455 [00:08<04:07, 13.48it/s]"
     ]
    },
    {
     "name": "stdout",
     "output_type": "stream",
     "text": [
      "4552373 2022 0\n",
      "-3781449 2022 0\n",
      "4063514 2022 0\n"
     ]
    },
    {
     "name": "stderr",
     "output_type": "stream",
     "text": [
      "\r",
      "  4%|█████▋                                                                                                                                                            | 122/3455 [00:09<04:07, 13.44it/s]"
     ]
    },
    {
     "name": "stdout",
     "output_type": "stream",
     "text": [
      "43639 2022 0\n",
      "5143574 2022 0\n",
      "48725 2022 0\n"
     ]
    },
    {
     "name": "stderr",
     "output_type": "stream",
     "text": [
      "  4%|█████▉                                                                                                                                                            | 126/3455 [00:09<04:05, 13.55it/s]"
     ]
    },
    {
     "name": "stdout",
     "output_type": "stream",
     "text": [
      "48724 2022 0\n",
      "3832742 2022 0\n",
      "43739 2022 0\n"
     ]
    },
    {
     "name": "stderr",
     "output_type": "stream",
     "text": [
      "\r",
      "  4%|██████                                                                                                                                                            | 128/3455 [00:09<04:06, 13.48it/s]"
     ]
    },
    {
     "name": "stdout",
     "output_type": "stream",
     "text": [
      "3762826 2022 0\n",
      "3852383 2022 0\n",
      "5133577 2022 0\n"
     ]
    },
    {
     "name": "stderr",
     "output_type": "stream",
     "text": [
      "  4%|██████▏                                                                                                                                                           | 132/3455 [00:09<04:07, 13.44it/s]"
     ]
    },
    {
     "name": "stdout",
     "output_type": "stream",
     "text": [
      "3862386 2022 0\n",
      "-3531492 2022 0\n",
      "-3781450 2022 0\n"
     ]
    },
    {
     "name": "stderr",
     "output_type": "stream",
     "text": [
      "\r",
      "  4%|██████▎                                                                                                                                                           | 134/3455 [00:09<04:07, 13.41it/s]"
     ]
    },
    {
     "name": "stdout",
     "output_type": "stream",
     "text": [
      "-3571473 2022 0\n",
      "2982646 2022 0\n",
      "4732375 2022 0\n"
     ]
    },
    {
     "name": "stderr",
     "output_type": "stream",
     "text": [
      "  4%|██████▍                                                                                                                                                           | 138/3455 [00:10<04:06, 13.47it/s]"
     ]
    },
    {
     "name": "stdout",
     "output_type": "stream",
     "text": [
      "52201 2022 0\n",
      "3002699 2022 0\n",
      "43670 2022 0\n"
     ]
    },
    {
     "name": "stderr",
     "output_type": "stream",
     "text": [
      "\r",
      "  4%|██████▌                                                                                                                                                           | 140/3455 [00:10<04:05, 13.48it/s]"
     ]
    },
    {
     "name": "stdout",
     "output_type": "stream",
     "text": [
      "4483595 2022 0\n",
      "45849 2022 0\n",
      "4002848 2022 0\n"
     ]
    },
    {
     "name": "stderr",
     "output_type": "stream",
     "text": [
      "  4%|██████▊                                                                                                                                                           | 144/3455 [00:10<04:03, 13.57it/s]"
     ]
    },
    {
     "name": "stdout",
     "output_type": "stream",
     "text": [
      "3532393 2022 0\n",
      "317349 2022 0\n",
      "42630 2022 0\n"
     ]
    },
    {
     "name": "stderr",
     "output_type": "stream",
     "text": [
      "\r",
      "  4%|██████▊                                                                                                                                                           | 146/3455 [00:10<04:04, 13.51it/s]"
     ]
    },
    {
     "name": "stdout",
     "output_type": "stream",
     "text": [
      "-4041756 2022 0\n",
      "318352 2022 0\n",
      "43845 2022 0\n"
     ]
    },
    {
     "name": "stderr",
     "output_type": "stream",
     "text": [
      "  4%|███████                                                                                                                                                           | 150/3455 [00:11<04:03, 13.58it/s]"
     ]
    },
    {
     "name": "stdout",
     "output_type": "stream",
     "text": [
      "43950 2022 0\n",
      "4882375 2022 0\n",
      "3892830 2022 0\n"
     ]
    },
    {
     "name": "stderr",
     "output_type": "stream",
     "text": [
      "\r",
      "  4%|███████▏                                                                                                                                                          | 152/3455 [00:11<04:07, 13.37it/s]"
     ]
    },
    {
     "name": "stdout",
     "output_type": "stream",
     "text": [
      "3552791 2022 0\n",
      "3722832 2022 0\n",
      "3612447 2022 0\n"
     ]
    },
    {
     "name": "stderr",
     "output_type": "stream",
     "text": [
      "  5%|███████▎                                                                                                                                                          | 156/3455 [00:11<04:09, 13.22it/s]"
     ]
    },
    {
     "name": "stdout",
     "output_type": "stream",
     "text": [
      "3022622 2022 0\n",
      "3422417 2022 0\n",
      "4063513 2022 0\n"
     ]
    },
    {
     "name": "stderr",
     "output_type": "stream",
     "text": [
      "\r",
      "  5%|███████▍                                                                                                                                                          | 158/3455 [00:11<04:08, 13.29it/s]"
     ]
    },
    {
     "name": "stdout",
     "output_type": "stream",
     "text": [
      "3972382 2022 0\n",
      "5173578 2022 0\n",
      "43315 2022 0\n"
     ]
    },
    {
     "name": "stderr",
     "output_type": "stream",
     "text": [
      "  5%|███████▌                                                                                                                                                          | 162/3455 [00:12<04:04, 13.48it/s]"
     ]
    },
    {
     "name": "stdout",
     "output_type": "stream",
     "text": [
      "43415 2022 0\n",
      "-3191159 2022 0\n",
      "398158 2022 0\n"
     ]
    },
    {
     "name": "stderr",
     "output_type": "stream",
     "text": [
      "\r",
      "  5%|███████▋                                                                                                                                                          | 164/3455 [00:12<04:03, 13.52it/s]"
     ]
    },
    {
     "name": "stdout",
     "output_type": "stream",
     "text": [
      "3932834 2022 0\n",
      "3742381 2022 0\n",
      "4462367 2022 0\n"
     ]
    },
    {
     "name": "stderr",
     "output_type": "stream",
     "text": [
      "  5%|███████▉                                                                                                                                                          | 168/3455 [00:12<04:03, 13.51it/s]"
     ]
    },
    {
     "name": "stdout",
     "output_type": "stream",
     "text": [
      "3842386 2022 0\n",
      "4573594 2022 0\n",
      "4242367 2022 0\n"
     ]
    },
    {
     "name": "stderr",
     "output_type": "stream",
     "text": [
      "\r",
      "  5%|███████▉                                                                                                                                                          | 170/3455 [00:12<04:05, 13.39it/s]"
     ]
    },
    {
     "name": "stdout",
     "output_type": "stream",
     "text": [
      "4242366 2022 0\n",
      "4723584 2022 0\n",
      "49106 2022 0\n"
     ]
    },
    {
     "name": "stderr",
     "output_type": "stream",
     "text": [
      "  5%|████████▏                                                                                                                                                         | 174/3455 [00:12<04:13, 12.96it/s]"
     ]
    },
    {
     "name": "stdout",
     "output_type": "stream",
     "text": [
      "3562774 2022 0\n",
      "-3521491 2022 0\n",
      "43614 2022 0\n"
     ]
    },
    {
     "name": "stderr",
     "output_type": "stream",
     "text": [
      "\r",
      "  5%|████████▎                                                                                                                                                         | 176/3455 [00:13<04:11, 13.06it/s]"
     ]
    },
    {
     "name": "stdout",
     "output_type": "stream",
     "text": [
      "-3771450 2022 0\n",
      "4922369 2022 0\n",
      "4873580 2022 0\n"
     ]
    },
    {
     "name": "stderr",
     "output_type": "stream",
     "text": [
      "  5%|████████▍                                                                                                                                                         | 180/3455 [00:13<04:05, 13.33it/s]"
     ]
    },
    {
     "name": "stdout",
     "output_type": "stream",
     "text": [
      "3502750 2022 0\n",
      "45258 2022 0\n",
      "3662381 2022 0\n"
     ]
    },
    {
     "name": "stderr",
     "output_type": "stream",
     "text": [
      "\r",
      "  5%|████████▌                                                                                                                                                         | 182/3455 [00:13<04:06, 13.30it/s]"
     ]
    },
    {
     "name": "stdout",
     "output_type": "stream",
     "text": [
      "-2623018 2022 0\n",
      "2972777 2022 0\n",
      "4562373 2022 0\n"
     ]
    },
    {
     "name": "stderr",
     "output_type": "stream",
     "text": [
      "  5%|████████▋                                                                                                                                                         | 186/3455 [00:13<04:02, 13.49it/s]"
     ]
    },
    {
     "name": "stdout",
     "output_type": "stream",
     "text": [
      "3272428 2022 0\n",
      "3412416 2022 0\n",
      "3402420 2022 0\n"
     ]
    },
    {
     "name": "stderr",
     "output_type": "stream",
     "text": [
      "\r",
      "  5%|████████▊                                                                                                                                                         | 188/3455 [00:13<04:03, 13.44it/s]"
     ]
    },
    {
     "name": "stdout",
     "output_type": "stream",
     "text": [
      "1932609 2022 0\n",
      "2972647 2022 0\n",
      "51311 2022 0\n"
     ]
    },
    {
     "name": "stderr",
     "output_type": "stream",
     "text": [
      "  6%|█████████                                                                                                                                                         | 192/3455 [00:14<04:01, 13.52it/s]"
     ]
    },
    {
     "name": "stdout",
     "output_type": "stream",
     "text": [
      "47587 2022 0\n",
      "3512793 2022 0\n",
      "4932369 2022 0\n"
     ]
    },
    {
     "name": "stderr",
     "output_type": "stream",
     "text": [
      "\r",
      "  6%|█████████                                                                                                                                                         | 194/3455 [00:14<04:01, 13.49it/s]"
     ]
    },
    {
     "name": "stdout",
     "output_type": "stream",
     "text": [
      "-3342894 2022 0\n",
      "4463590 2022 0\n",
      "50631 2022 0\n"
     ]
    },
    {
     "name": "stderr",
     "output_type": "stream",
     "text": [
      "  6%|█████████▎                                                                                                                                                        | 198/3455 [00:14<04:01, 13.51it/s]"
     ]
    },
    {
     "name": "stdout",
     "output_type": "stream",
     "text": [
      "3792377 2022 0\n",
      "-2731530 2022 0\n",
      "3842380 2022 0\n"
     ]
    },
    {
     "name": "stderr",
     "output_type": "stream",
     "text": [
      "\r",
      "  6%|█████████▍                                                                                                                                                        | 200/3455 [00:14<04:00, 13.51it/s]"
     ]
    },
    {
     "name": "stdout",
     "output_type": "stream",
     "text": [
      "43919 2022 0\n",
      "48723 2022 0\n",
      "-3191158 2022 0\n"
     ]
    },
    {
     "name": "stderr",
     "output_type": "stream",
     "text": [
      "  6%|█████████▌                                                                                                                                                        | 204/3455 [00:15<04:00, 13.51it/s]"
     ]
    },
    {
     "name": "stdout",
     "output_type": "stream",
     "text": [
      "3752825 2022 0\n",
      "3392419 2022 0\n",
      "45257 2022 0\n"
     ]
    },
    {
     "name": "stderr",
     "output_type": "stream",
     "text": [
      "\r",
      "  6%|█████████▋                                                                                                                                                        | 206/3455 [00:15<04:00, 13.52it/s]"
     ]
    },
    {
     "name": "stdout",
     "output_type": "stream",
     "text": [
      "3472772 2022 0\n",
      "321348 2022 0\n",
      "3522792 2022 0\n"
     ]
    },
    {
     "name": "stderr",
     "output_type": "stream",
     "text": [
      "  6%|█████████▊                                                                                                                                                        | 210/3455 [00:15<03:59, 13.53it/s]"
     ]
    },
    {
     "name": "stdout",
     "output_type": "stream",
     "text": [
      "47485 2022 0\n",
      "-3791452 2022 0\n",
      "4402369 2022 0\n"
     ]
    },
    {
     "name": "stderr",
     "output_type": "stream",
     "text": [
      "\r",
      "  6%|█████████▉                                                                                                                                                        | 212/3455 [00:15<04:00, 13.50it/s]"
     ]
    },
    {
     "name": "stdout",
     "output_type": "stream",
     "text": [
      "3752826 2022 0\n",
      "4653582 2022 0\n",
      "3322724 2022 0\n"
     ]
    },
    {
     "name": "stderr",
     "output_type": "stream",
     "text": [
      "  6%|██████████▏                                                                                                                                                       | 216/3455 [00:16<04:00, 13.48it/s]"
     ]
    },
    {
     "name": "stdout",
     "output_type": "stream",
     "text": [
      "3912830 2022 0\n",
      "4702372 2022 0\n",
      "3602812 2022 0\n"
     ]
    },
    {
     "name": "stderr",
     "output_type": "stream",
     "text": [
      "\r",
      "  6%|██████████▏                                                                                                                                                       | 218/3455 [00:16<04:00, 13.43it/s]"
     ]
    },
    {
     "name": "stdout",
     "output_type": "stream",
     "text": [
      "3762825 2022 0\n",
      "3342481 2022 0\n",
      "3712383 2022 0\n"
     ]
    },
    {
     "name": "stderr",
     "output_type": "stream",
     "text": [
      "  6%|██████████▍                                                                                                                                                       | 222/3455 [00:16<03:59, 13.48it/s]"
     ]
    },
    {
     "name": "stdout",
     "output_type": "stream",
     "text": [
      "4552372 2022 0\n",
      "2631278 2022 0\n",
      "42729 2022 0\n"
     ]
    },
    {
     "name": "stderr",
     "output_type": "stream",
     "text": [
      "\r",
      "  6%|██████████▌                                                                                                                                                       | 224/3455 [00:16<04:00, 13.44it/s]"
     ]
    },
    {
     "name": "stdout",
     "output_type": "stream",
     "text": [
      "-3291517 2022 0\n",
      "3412421 2022 0\n",
      "43516 2022 0\n"
     ]
    },
    {
     "name": "stderr",
     "output_type": "stream",
     "text": [
      "  7%|██████████▋                                                                                                                                                       | 228/3455 [00:16<04:05, 13.14it/s]"
     ]
    },
    {
     "name": "stdout",
     "output_type": "stream",
     "text": [
      "3222490 2022 0\n",
      "3802379 2022 0\n",
      "3412419 2022 0\n"
     ]
    },
    {
     "name": "stderr",
     "output_type": "stream",
     "text": [
      "\r",
      "  7%|██████████▊                                                                                                                                                       | 230/3455 [00:17<04:03, 13.22it/s]"
     ]
    },
    {
     "name": "stdout",
     "output_type": "stream",
     "text": [
      "3412418 2022 0\n",
      "3752377 2022 0\n",
      "434110 2022 0\n"
     ]
    },
    {
     "name": "stderr",
     "output_type": "stream",
     "text": [
      "  7%|██████████▉                                                                                                                                                       | 234/3455 [00:17<04:00, 13.39it/s]"
     ]
    },
    {
     "name": "stdout",
     "output_type": "stream",
     "text": [
      "3372426 2022 0\n",
      "41418 2022 0\n",
      "41821 2022 0\n"
     ]
    },
    {
     "name": "stderr",
     "output_type": "stream",
     "text": [
      "\r",
      "  7%|███████████                                                                                                                                                       | 236/3455 [00:17<04:00, 13.38it/s]"
     ]
    },
    {
     "name": "stdout",
     "output_type": "stream",
     "text": [
      "41110 2022 0\n",
      "42130 2022 0\n",
      "41619 2022 0\n"
     ]
    },
    {
     "name": "stderr",
     "output_type": "stream",
     "text": [
      "  7%|███████████▎                                                                                                                                                      | 240/3455 [00:17<03:59, 13.41it/s]"
     ]
    },
    {
     "name": "stdout",
     "output_type": "stream",
     "text": [
      "41420 2022 0\n",
      "41522 2022 0\n",
      "42210 2022 0\n"
     ]
    },
    {
     "name": "stderr",
     "output_type": "stream",
     "text": [
      "\r",
      "  7%|███████████▎                                                                                                                                                      | 242/3455 [00:18<03:59, 13.40it/s]"
     ]
    },
    {
     "name": "stdout",
     "output_type": "stream",
     "text": [
      "41209 2022 0\n",
      "41307 2022 0\n",
      "41705 2022 0\n"
     ]
    },
    {
     "name": "stderr",
     "output_type": "stream",
     "text": [
      "  7%|███████████▌                                                                                                                                                      | 246/3455 [00:18<03:59, 13.40it/s]"
     ]
    },
    {
     "name": "stdout",
     "output_type": "stream",
     "text": [
      "42015 2022 0\n",
      "41511 2022 0\n",
      "41722 2022 0\n"
     ]
    },
    {
     "name": "stderr",
     "output_type": "stream",
     "text": [
      "\r",
      "  7%|███████████▋                                                                                                                                                      | 248/3455 [00:18<03:58, 13.44it/s]"
     ]
    },
    {
     "name": "stdout",
     "output_type": "stream",
     "text": [
      "3903561 2022 0\n",
      "428180 2022 0\n",
      "369102 2022 0\n"
     ]
    },
    {
     "name": "stderr",
     "output_type": "stream",
     "text": [
      "  7%|███████████▊                                                                                                                                                      | 252/3455 [00:18<03:57, 13.47it/s]"
     ]
    },
    {
     "name": "stdout",
     "output_type": "stream",
     "text": [
      "3662383 2022 0\n",
      "-3601470 2022 0\n",
      "-3211161 2022 0\n"
     ]
    },
    {
     "name": "stderr",
     "output_type": "stream",
     "text": [
      "\r",
      "  7%|███████████▉                                                                                                                                                      | 254/3455 [00:18<03:58, 13.45it/s]"
     ]
    },
    {
     "name": "stdout",
     "output_type": "stream",
     "text": [
      "3742380 2022 0\n",
      "3462399 2022 0\n",
      "-4141471 2022 0\n"
     ]
    },
    {
     "name": "stderr",
     "output_type": "stream",
     "text": [
      "  7%|████████████                                                                                                                                                      | 258/3455 [00:19<03:57, 13.45it/s]"
     ]
    },
    {
     "name": "stdout",
     "output_type": "stream",
     "text": [
      "-3791451 2022 0\n",
      "3002698 2022 0\n",
      "381240 2022 0\n"
     ]
    },
    {
     "name": "stderr",
     "output_type": "stream",
     "text": [
      "\r",
      "  8%|████████████▏                                                                                                                                                     | 260/3455 [00:19<03:56, 13.48it/s]"
     ]
    },
    {
     "name": "stdout",
     "output_type": "stream",
     "text": [
      "-3761447 2022 0\n",
      "-3391512 2022 0\n",
      "-3201158 2022 0\n"
     ]
    },
    {
     "name": "stderr",
     "output_type": "stream",
     "text": [
      "  8%|████████████▍                                                                                                                                                     | 264/3455 [00:19<03:56, 13.49it/s]"
     ]
    },
    {
     "name": "stdout",
     "output_type": "stream",
     "text": [
      "4062376 2022 0\n",
      "3852382 2022 0\n",
      "3832380 2022 0\n"
     ]
    },
    {
     "name": "stderr",
     "output_type": "stream",
     "text": [
      "\r",
      "  8%|████████████▍                                                                                                                                                     | 266/3455 [00:19<03:57, 13.45it/s]"
     ]
    },
    {
     "name": "stdout",
     "output_type": "stream",
     "text": [
      "3222491 2022 0\n",
      "3422418 2022 0\n",
      "-3291516 2022 0\n"
     ]
    },
    {
     "name": "stderr",
     "output_type": "stream",
     "text": [
      "  8%|████████████▋                                                                                                                                                     | 270/3455 [00:20<03:55, 13.53it/s]"
     ]
    },
    {
     "name": "stdout",
     "output_type": "stream",
     "text": [
      "3672402 2022 0\n",
      "-3691747 2022 0\n",
      "-3781451 2022 0\n"
     ]
    },
    {
     "name": "stderr",
     "output_type": "stream",
     "text": [
      "\r",
      "  8%|████████████▊                                                                                                                                                     | 272/3455 [00:20<03:55, 13.53it/s]"
     ]
    },
    {
     "name": "stdout",
     "output_type": "stream",
     "text": [
      "320350 2022 0\n",
      "3852373 2022 0\n",
      "-3771451 2022 0\n"
     ]
    },
    {
     "name": "stderr",
     "output_type": "stream",
     "text": [
      "  8%|████████████▉                                                                                                                                                     | 276/3455 [00:20<03:55, 13.52it/s]"
     ]
    },
    {
     "name": "stdout",
     "output_type": "stream",
     "text": [
      "3792379 2022 0\n",
      "-3511433 2022 0\n",
      "3732380 2022 0\n"
     ]
    },
    {
     "name": "stderr",
     "output_type": "stream",
     "text": [
      "\r",
      "  8%|█████████████                                                                                                                                                     | 278/3455 [00:20<03:55, 13.51it/s]"
     ]
    },
    {
     "name": "stdout",
     "output_type": "stream",
     "text": [
      "-3291518 2022 0\n",
      "3642386 2022 0\n",
      "-3201159 2022 0\n"
     ]
    },
    {
     "name": "stderr",
     "output_type": "stream",
     "text": [
      "  8%|█████████████▏                                                                                                                                                    | 282/3455 [00:20<03:53, 13.56it/s]"
     ]
    },
    {
     "name": "stdout",
     "output_type": "stream",
     "text": [
      "3002700 2022 0\n",
      "4122641 2022 0\n",
      "3702837 2022 0\n"
     ]
    },
    {
     "name": "stderr",
     "output_type": "stream",
     "text": [
      "\r",
      "  8%|█████████████▎                                                                                                                                                    | 284/3455 [00:21<03:54, 13.52it/s]"
     ]
    },
    {
     "name": "stdout",
     "output_type": "stream",
     "text": [
      "3482776 2022 0\n",
      "3212789 2022 0\n",
      "2972644 2022 0\n"
     ]
    },
    {
     "name": "stderr",
     "output_type": "stream",
     "text": [
      "  8%|█████████████▌                                                                                                                                                    | 288/3455 [00:21<03:52, 13.64it/s]"
     ]
    },
    {
     "name": "stdout",
     "output_type": "stream",
     "text": [
      "2972643 2022 0\n",
      "-3431509 2022 0\n",
      "-3391510 2022 0\n"
     ]
    },
    {
     "name": "stderr",
     "output_type": "stream",
     "text": [
      "\r",
      "  8%|█████████████▌                                                                                                                                                    | 290/3455 [00:21<03:53, 13.57it/s]"
     ]
    },
    {
     "name": "stdout",
     "output_type": "stream",
     "text": [
      "-3391511 2022 0\n",
      "4813586 2022 0\n",
      "-3441509 2022 0\n"
     ]
    },
    {
     "name": "stderr",
     "output_type": "stream",
     "text": [
      "  9%|█████████████▊                                                                                                                                                    | 294/3455 [00:21<03:53, 13.53it/s]"
     ]
    },
    {
     "name": "stdout",
     "output_type": "stream",
     "text": [
      "-3211158 2022 0\n",
      "-2033197 2022 0\n",
      "4302705 2022 0\n"
     ]
    },
    {
     "name": "stderr",
     "output_type": "stream",
     "text": [
      "\r",
      "  9%|█████████████▉                                                                                                                                                    | 296/3455 [00:22<03:54, 13.49it/s]"
     ]
    },
    {
     "name": "stdout",
     "output_type": "stream",
     "text": [
      "5143577 2022 0\n",
      "4152723 2022 0\n",
      "5153599 2022 0\n"
     ]
    },
    {
     "name": "stderr",
     "output_type": "stream",
     "text": [
      "  9%|██████████████                                                                                                                                                    | 300/3455 [00:22<03:53, 13.53it/s]"
     ]
    },
    {
     "name": "stdout",
     "output_type": "stream",
     "text": [
      "4232769 2022 0\n",
      "4142860 2022 0\n",
      "4332800 2022 0\n"
     ]
    },
    {
     "name": "stderr",
     "output_type": "stream",
     "text": [
      "\r",
      "  9%|██████████████▏                                                                                                                                                   | 302/3455 [00:22<03:53, 13.52it/s]"
     ]
    },
    {
     "name": "stdout",
     "output_type": "stream",
     "text": [
      "4222764 2022 0\n",
      "4372803 2022 0\n",
      "4562864 2022 0\n"
     ]
    },
    {
     "name": "stderr",
     "output_type": "stream",
     "text": [
      "  9%|██████████████▎                                                                                                                                                   | 306/3455 [00:22<03:51, 13.61it/s]"
     ]
    },
    {
     "name": "stdout",
     "output_type": "stream",
     "text": [
      "4242888 2022 0\n",
      "4502669 2022 0\n",
      "4202723 2022 0\n"
     ]
    },
    {
     "name": "stderr",
     "output_type": "stream",
     "text": [
      "\r",
      "  9%|██████████████▍                                                                                                                                                   | 308/3455 [00:22<03:51, 13.60it/s]"
     ]
    },
    {
     "name": "stdout",
     "output_type": "stream",
     "text": [
      "518195 2022 0\n",
      "4492669 2022 0\n",
      "4322824 2022 0\n"
     ]
    },
    {
     "name": "stderr",
     "output_type": "stream",
     "text": [
      "  9%|██████████████▋                                                                                                                                                   | 312/3455 [00:23<03:50, 13.62it/s]"
     ]
    },
    {
     "name": "stdout",
     "output_type": "stream",
     "text": [
      "4312738 2022 0\n",
      "3622640 2022 0\n",
      "4502667 2022 0\n"
     ]
    },
    {
     "name": "stderr",
     "output_type": "stream",
     "text": [
      "\r",
      "  9%|██████████████▋                                                                                                                                                   | 314/3455 [00:23<03:53, 13.47it/s]"
     ]
    },
    {
     "name": "stdout",
     "output_type": "stream",
     "text": [
      "4132871 2022 0\n",
      "3952826 2022 0\n",
      "4242889 2022 0\n"
     ]
    },
    {
     "name": "stderr",
     "output_type": "stream",
     "text": [
      "  9%|██████████████▉                                                                                                                                                   | 318/3455 [00:23<03:53, 13.46it/s]"
     ]
    },
    {
     "name": "stdout",
     "output_type": "stream",
     "text": [
      "4202684 2022 0\n",
      "4242778 2022 0\n",
      "4062857 2022 0\n"
     ]
    },
    {
     "name": "stderr",
     "output_type": "stream",
     "text": [
      "\r",
      "  9%|███████████████                                                                                                                                                   | 320/3455 [00:23<03:53, 13.45it/s]"
     ]
    },
    {
     "name": "stdout",
     "output_type": "stream",
     "text": [
      "4192723 2022 0\n",
      "3862698 2022 0\n",
      "3662652 2022 0\n"
     ]
    },
    {
     "name": "stderr",
     "output_type": "stream",
     "text": [
      "  9%|███████████████▏                                                                                                                                                  | 324/3455 [00:24<03:51, 13.50it/s]"
     ]
    },
    {
     "name": "stdout",
     "output_type": "stream",
     "text": [
      "4192722 2022 0\n",
      "4262770 2022 0\n",
      "4292716 2022 0\n"
     ]
    },
    {
     "name": "stderr",
     "output_type": "stream",
     "text": [
      "\r",
      "  9%|███████████████▎                                                                                                                                                  | 326/3455 [00:24<03:51, 13.49it/s]"
     ]
    },
    {
     "name": "stdout",
     "output_type": "stream",
     "text": [
      "3912824 2022 0\n",
      "4232770 2022 0\n",
      "4072860 2022 0\n"
     ]
    },
    {
     "name": "stderr",
     "output_type": "stream",
     "text": [
      " 10%|███████████████▍                                                                                                                                                  | 330/3455 [00:24<03:51, 13.50it/s]"
     ]
    },
    {
     "name": "stdout",
     "output_type": "stream",
     "text": [
      "4412665 2022 0\n",
      "4242765 2022 0\n",
      "4342797 2022 0\n"
     ]
    },
    {
     "name": "stderr",
     "output_type": "stream",
     "text": [
      "\r",
      " 10%|███████████████▌                                                                                                                                                  | 332/3455 [00:24<03:53, 13.40it/s]"
     ]
    },
    {
     "name": "stdout",
     "output_type": "stream",
     "text": [
      "4202722 2022 0\n",
      "4502666 2022 0\n",
      "4542843 2022 0\n"
     ]
    },
    {
     "name": "stderr",
     "output_type": "stream",
     "text": [
      " 10%|███████████████▊                                                                                                                                                  | 336/3455 [00:24<03:51, 13.45it/s]"
     ]
    },
    {
     "name": "stdout",
     "output_type": "stream",
     "text": [
      "3892655 2022 0\n",
      "3632659 2022 0\n",
      "4502668 2022 0\n"
     ]
    },
    {
     "name": "stderr",
     "output_type": "stream",
     "text": [
      "\r",
      " 10%|███████████████▊                                                                                                                                                  | 338/3455 [00:25<03:52, 13.42it/s]"
     ]
    },
    {
     "name": "stdout",
     "output_type": "stream",
     "text": [
      "4062860 2022 0\n",
      "3482777 2022 0\n",
      "3592626 2022 0\n"
     ]
    },
    {
     "name": "stderr",
     "output_type": "stream",
     "text": [
      " 10%|████████████████                                                                                                                                                  | 342/3455 [00:25<03:50, 13.53it/s]"
     ]
    },
    {
     "name": "stdout",
     "output_type": "stream",
     "text": [
      "4232882 2022 0\n",
      "4022828 2022 0\n",
      "4122640 2022 0\n"
     ]
    },
    {
     "name": "stderr",
     "output_type": "stream",
     "text": [
      "\r",
      " 10%|████████████████▏                                                                                                                                                 | 344/3455 [00:25<03:53, 13.32it/s]"
     ]
    },
    {
     "name": "stdout",
     "output_type": "stream",
     "text": [
      "4082601 2022 0\n",
      "4222768 2022 0\n",
      "4232763 2022 0\n"
     ]
    },
    {
     "name": "stderr",
     "output_type": "stream",
     "text": [
      " 10%|████████████████▎                                                                                                                                                 | 348/3455 [00:25<03:53, 13.32it/s]"
     ]
    },
    {
     "name": "stdout",
     "output_type": "stream",
     "text": [
      "4292771 2022 0\n",
      "4222763 2022 0\n",
      "3852811 2022 0\n"
     ]
    },
    {
     "name": "stderr",
     "output_type": "stream",
     "text": [
      "\r",
      " 10%|████████████████▍                                                                                                                                                 | 350/3455 [00:26<03:52, 13.38it/s]"
     ]
    },
    {
     "name": "stdout",
     "output_type": "stream",
     "text": [
      "4152782 2022 0\n",
      "3832554 2022 0\n",
      "4172684 2022 0\n"
     ]
    },
    {
     "name": "stderr",
     "output_type": "stream",
     "text": [
      " 10%|████████████████▌                                                                                                                                                 | 354/3455 [00:26<03:50, 13.43it/s]"
     ]
    },
    {
     "name": "stdout",
     "output_type": "stream",
     "text": [
      "4002770 2022 0\n",
      "4102776 2022 0\n",
      "454119 2022 0\n"
     ]
    },
    {
     "name": "stderr",
     "output_type": "stream",
     "text": [
      "\r",
      " 10%|████████████████▋                                                                                                                                                 | 356/3455 [00:26<03:52, 13.36it/s]"
     ]
    },
    {
     "name": "stdout",
     "output_type": "stream",
     "text": [
      "3932822 2022 0\n",
      "3872697 2022 0\n",
      "3762824 2022 0\n"
     ]
    },
    {
     "name": "stderr",
     "output_type": "stream",
     "text": [
      " 10%|████████████████▉                                                                                                                                                 | 360/3455 [00:26<03:51, 13.37it/s]"
     ]
    },
    {
     "name": "stdout",
     "output_type": "stream",
     "text": [
      "4022674 2022 0\n",
      "3882695 2022 0\n",
      "3822743 2022 0\n"
     ]
    },
    {
     "name": "stderr",
     "output_type": "stream",
     "text": [
      "\r",
      " 10%|████████████████▉                                                                                                                                                 | 362/3455 [00:26<03:52, 13.32it/s]"
     ]
    },
    {
     "name": "stdout",
     "output_type": "stream",
     "text": [
      "3832825 2022 0\n",
      "4042800 2022 0\n",
      "3512699 2022 0\n"
     ]
    },
    {
     "name": "stderr",
     "output_type": "stream",
     "text": [
      " 11%|█████████████████▏                                                                                                                                                | 366/3455 [00:27<03:50, 13.42it/s]"
     ]
    },
    {
     "name": "stdout",
     "output_type": "stream",
     "text": [
      "3642658 2022 0\n",
      "3922829 2022 0\n",
      "3602811 2022 0\n"
     ]
    },
    {
     "name": "stderr",
     "output_type": "stream",
     "text": [
      "\r",
      " 11%|█████████████████▎                                                                                                                                                | 368/3455 [00:27<03:50, 13.42it/s]"
     ]
    },
    {
     "name": "stdout",
     "output_type": "stream",
     "text": [
      "3902830 2022 0\n",
      "3802755 2022 0\n",
      "3632601 2022 0\n"
     ]
    },
    {
     "name": "stderr",
     "output_type": "stream",
     "text": [
      " 11%|█████████████████▍                                                                                                                                                | 372/3455 [00:27<03:51, 13.34it/s]"
     ]
    },
    {
     "name": "stdout",
     "output_type": "stream",
     "text": [
      "4012718 2022 0\n",
      "3902652 2022 0\n",
      "3552624 2022 0\n"
     ]
    },
    {
     "name": "stderr",
     "output_type": "stream",
     "text": [
      "\r",
      " 11%|█████████████████▌                                                                                                                                                | 374/3455 [00:27<03:55, 13.06it/s]"
     ]
    },
    {
     "name": "stdout",
     "output_type": "stream",
     "text": [
      "2942614 2022 0\n",
      "3822742 2022 0\n",
      "3892654 2022 0\n"
     ]
    },
    {
     "name": "stderr",
     "output_type": "stream",
     "text": [
      " 11%|█████████████████▋                                                                                                                                                | 378/3455 [00:28<03:51, 13.29it/s]"
     ]
    },
    {
     "name": "stdout",
     "output_type": "stream",
     "text": [
      "3582814 2022 0\n",
      "3582813 2022 0\n",
      "3042757 2022 0\n"
     ]
    },
    {
     "name": "stderr",
     "output_type": "stream",
     "text": [
      "\r",
      " 11%|█████████████████▊                                                                                                                                                | 380/3455 [00:28<03:51, 13.30it/s]"
     ]
    },
    {
     "name": "stdout",
     "output_type": "stream",
     "text": [
      "3712464 2022 0\n",
      "3282430 2022 0\n",
      "3282429 2022 0\n"
     ]
    },
    {
     "name": "stderr",
     "output_type": "stream",
     "text": [
      " 11%|██████████████████                                                                                                                                                | 384/3455 [00:28<03:48, 13.43it/s]"
     ]
    },
    {
     "name": "stdout",
     "output_type": "stream",
     "text": [
      "3612802 2022 0\n",
      "319348 2022 0\n",
      "3312633 2022 0\n"
     ]
    },
    {
     "name": "stderr",
     "output_type": "stream",
     "text": [
      "\r",
      " 11%|██████████████████                                                                                                                                                | 386/3455 [00:28<03:47, 13.46it/s]"
     ]
    },
    {
     "name": "stdout",
     "output_type": "stream",
     "text": [
      "329132 2022 0\n",
      "-2721530 2022 0\n",
      "-4321469 2022 0\n"
     ]
    },
    {
     "name": "stderr",
     "output_type": "stream",
     "text": [
      " 11%|██████████████████▎                                                                                                                                               | 390/3455 [00:29<03:45, 13.56it/s]"
     ]
    },
    {
     "name": "stdout",
     "output_type": "stream",
     "text": [
      "3712667 2022 0\n",
      "-3331491 2022 0\n",
      "-3181158 2022 0\n"
     ]
    },
    {
     "name": "stderr",
     "output_type": "stream",
     "text": [
      "\r",
      " 11%|██████████████████▍                                                                                                                                               | 392/3455 [00:29<03:46, 13.54it/s]"
     ]
    },
    {
     "name": "stdout",
     "output_type": "stream",
     "text": [
      "50844 2022 0\n",
      "4212885 2022 0\n",
      "4062549 2022 0\n"
     ]
    },
    {
     "name": "stderr",
     "output_type": "stream",
     "text": [
      " 11%|██████████████████▌                                                                                                                                               | 396/3455 [00:29<03:45, 13.56it/s]"
     ]
    },
    {
     "name": "stdout",
     "output_type": "stream",
     "text": [
      "4332801 2022 0\n",
      "4152859 2022 0\n",
      "-3531491 2022 0\n"
     ]
    },
    {
     "name": "stderr",
     "output_type": "stream",
     "text": [
      "\r",
      " 12%|██████████████████▋                                                                                                                                               | 398/3455 [00:29<03:46, 13.53it/s]"
     ]
    },
    {
     "name": "stdout",
     "output_type": "stream",
     "text": [
      "4352795 2022 0\n",
      "4262765 2022 0\n",
      "4302720 2022 0\n"
     ]
    },
    {
     "name": "stderr",
     "output_type": "stream",
     "text": [
      " 12%|██████████████████▊                                                                                                                                               | 402/3455 [00:29<03:45, 13.53it/s]"
     ]
    },
    {
     "name": "stdout",
     "output_type": "stream",
     "text": [
      "4042841 2022 0\n",
      "4292743 2022 0\n",
      "4082603 2022 0\n"
     ]
    },
    {
     "name": "stderr",
     "output_type": "stream",
     "text": [
      "\r",
      " 12%|██████████████████▉                                                                                                                                               | 404/3455 [00:30<03:45, 13.51it/s]"
     ]
    },
    {
     "name": "stdout",
     "output_type": "stream",
     "text": [
      "4292744 2022 0\n",
      "511170 2022 0\n",
      "4332802 2022 0\n"
     ]
    },
    {
     "name": "stderr",
     "output_type": "stream",
     "text": [
      " 12%|███████████████████▏                                                                                                                                              | 408/3455 [00:30<03:45, 13.52it/s]"
     ]
    },
    {
     "name": "stdout",
     "output_type": "stream",
     "text": [
      "4192724 2022 0\n",
      "4302719 2022 0\n",
      "4152783 2022 0\n"
     ]
    },
    {
     "name": "stderr",
     "output_type": "stream",
     "text": [
      "\r",
      " 12%|███████████████████▏                                                                                                                                              | 410/3455 [00:30<03:45, 13.53it/s]"
     ]
    },
    {
     "name": "stdout",
     "output_type": "stream",
     "text": [
      "3612732 2022 0\n",
      "4042731 2022 0\n",
      "4172885 2022 0\n"
     ]
    },
    {
     "name": "stderr",
     "output_type": "stream",
     "text": [
      " 12%|███████████████████▍                                                                                                                                              | 414/3455 [00:30<03:46, 13.42it/s]"
     ]
    },
    {
     "name": "stdout",
     "output_type": "stream",
     "text": [
      "4072481 2022 0\n",
      "3912829 2022 0\n",
      "4382805 2022 0\n"
     ]
    },
    {
     "name": "stderr",
     "output_type": "stream",
     "text": [
      "\r",
      " 12%|███████████████████▌                                                                                                                                              | 416/3455 [00:30<03:46, 13.39it/s]"
     ]
    },
    {
     "name": "stdout",
     "output_type": "stream",
     "text": [
      "4102861 2022 0\n",
      "4172719 2022 0\n",
      "4172764 2022 0\n"
     ]
    },
    {
     "name": "stderr",
     "output_type": "stream",
     "text": [
      " 12%|███████████████████▋                                                                                                                                              | 420/3455 [00:31<03:44, 13.51it/s]"
     ]
    },
    {
     "name": "stdout",
     "output_type": "stream",
     "text": [
      "4372807 2022 0\n",
      "3992770 2022 0\n",
      "4112786 2022 0\n"
     ]
    },
    {
     "name": "stderr",
     "output_type": "stream",
     "text": [
      "\r",
      " 12%|███████████████████▊                                                                                                                                              | 422/3455 [00:31<03:45, 13.47it/s]"
     ]
    },
    {
     "name": "stdout",
     "output_type": "stream",
     "text": [
      "3682837 2022 0\n",
      "4002850 2022 0\n",
      "4222888 2022 0\n"
     ]
    },
    {
     "name": "stderr",
     "output_type": "stream",
     "text": [
      " 12%|███████████████████▉                                                                                                                                              | 426/3455 [00:31<03:44, 13.51it/s]"
     ]
    },
    {
     "name": "stdout",
     "output_type": "stream",
     "text": [
      "4312720 2022 0\n",
      "4082481 2022 0\n",
      "4172723 2022 0\n"
     ]
    },
    {
     "name": "stderr",
     "output_type": "stream",
     "text": [
      "\r",
      " 12%|████████████████████                                                                                                                                              | 428/3455 [00:31<03:44, 13.50it/s]"
     ]
    },
    {
     "name": "stdout",
     "output_type": "stream",
     "text": [
      "4102478 2022 0\n",
      "4002851 2022 0\n",
      "3892829 2022 0\n"
     ]
    },
    {
     "name": "stderr",
     "output_type": "stream",
     "text": [
      " 13%|████████████████████▎                                                                                                                                             | 432/3455 [00:32<03:43, 13.53it/s]"
     ]
    },
    {
     "name": "stdout",
     "output_type": "stream",
     "text": [
      "4092852 2022 0\n",
      "4032483 2022 0\n",
      "4082482 2022 0\n"
     ]
    },
    {
     "name": "stderr",
     "output_type": "stream",
     "text": [
      "\r",
      " 13%|████████████████████▎                                                                                                                                             | 434/3455 [00:32<03:44, 13.47it/s]"
     ]
    },
    {
     "name": "stdout",
     "output_type": "stream",
     "text": [
      "3912832 2022 0\n",
      "3552625 2022 0\n",
      "43513 2022 0\n"
     ]
    },
    {
     "name": "stderr",
     "output_type": "stream",
     "text": [
      " 13%|████████████████████▌                                                                                                                                             | 438/3455 [00:32<03:43, 13.49it/s]"
     ]
    },
    {
     "name": "stdout",
     "output_type": "stream",
     "text": [
      "3852372 2022 0\n",
      "4072704 2022 0\n",
      "3682839 2022 0\n"
     ]
    },
    {
     "name": "stderr",
     "output_type": "stream",
     "text": [
      "\r",
      " 13%|████████████████████▋                                                                                                                                             | 440/3455 [00:32<03:44, 13.46it/s]"
     ]
    },
    {
     "name": "stdout",
     "output_type": "stream",
     "text": [
      "3692837 2022 0\n",
      "3902648 2022 0\n",
      "3992850 2022 0\n"
     ]
    },
    {
     "name": "stderr",
     "output_type": "stream",
     "text": [
      " 13%|████████████████████▊                                                                                                                                             | 444/3455 [00:33<03:42, 13.54it/s]"
     ]
    },
    {
     "name": "stdout",
     "output_type": "stream",
     "text": [
      "3682838 2022 0\n",
      "357513 2022 0\n",
      "3372756 2022 0\n"
     ]
    },
    {
     "name": "stderr",
     "output_type": "stream",
     "text": [
      "\r",
      " 13%|████████████████████▉                                                                                                                                             | 446/3455 [00:33<03:43, 13.47it/s]"
     ]
    },
    {
     "name": "stdout",
     "output_type": "stream",
     "text": [
      "3582736 2022 0\n",
      "3372757 2022 0\n",
      "3682402 2022 0\n"
     ]
    },
    {
     "name": "stderr",
     "output_type": "stream",
     "text": [
      " 13%|█████████████████████                                                                                                                                             | 450/3455 [00:33<03:42, 13.48it/s]"
     ]
    },
    {
     "name": "stdout",
     "output_type": "stream",
     "text": [
      "3282801 2022 0\n",
      "2782773 2022 0\n",
      "2802773 2022 0\n"
     ]
    },
    {
     "name": "stderr",
     "output_type": "stream",
     "text": [
      "\r",
      " 13%|█████████████████████▏                                                                                                                                            | 452/3455 [00:33<03:43, 13.45it/s]"
     ]
    },
    {
     "name": "stdout",
     "output_type": "stream",
     "text": [
      "-4291473 2022 0\n",
      "4782378 2022 0\n",
      "3772383 2022 0\n"
     ]
    },
    {
     "name": "stderr",
     "output_type": "stream",
     "text": [
      " 13%|█████████████████████▍                                                                                                                                            | 456/3455 [00:33<03:42, 13.49it/s]"
     ]
    },
    {
     "name": "stdout",
     "output_type": "stream",
     "text": [
      "-258283 2022 0\n",
      "-3142958 2022 0\n",
      "-3181160 2022 0\n"
     ]
    },
    {
     "name": "stderr",
     "output_type": "stream",
     "text": [
      "\r",
      " 13%|█████████████████████▍                                                                                                                                            | 458/3455 [00:34<03:42, 13.46it/s]"
     ]
    },
    {
     "name": "stdout",
     "output_type": "stream",
     "text": [
      "-3461508 2022 0\n",
      "-3381512 2022 0\n",
      "-2661531 2022 0\n"
     ]
    },
    {
     "name": "stderr",
     "output_type": "stream",
     "text": [
      " 13%|█████████████████████▋                                                                                                                                            | 462/3455 [00:34<03:39, 13.62it/s]"
     ]
    },
    {
     "name": "stdout",
     "output_type": "stream",
     "text": [
      "43646 2022 0\n",
      "-2353133 2022 0\n",
      "5193597 2022 0\n"
     ]
    },
    {
     "name": "stderr",
     "output_type": "stream",
     "text": [
      "\r",
      " 13%|█████████████████████▊                                                                                                                                            | 464/3455 [00:34<03:40, 13.56it/s]"
     ]
    },
    {
     "name": "stdout",
     "output_type": "stream",
     "text": [
      "4292787 2022 0\n",
      "4262755 2022 0\n",
      "4012717 2022 0\n"
     ]
    },
    {
     "name": "stderr",
     "output_type": "stream",
     "text": [
      " 14%|█████████████████████▉                                                                                                                                            | 468/3455 [00:34<03:41, 13.49it/s]"
     ]
    },
    {
     "name": "stdout",
     "output_type": "stream",
     "text": [
      "4172899 2022 0\n",
      "4002547 2022 0\n",
      "4172710 2022 0\n"
     ]
    },
    {
     "name": "stderr",
     "output_type": "stream",
     "text": [
      "\r",
      " 14%|██████████████████████                                                                                                                                            | 470/3455 [00:34<03:41, 13.47it/s]"
     ]
    },
    {
     "name": "stdout",
     "output_type": "stream",
     "text": [
      "4172709 2022 0\n",
      "4202713 2022 0\n",
      "4552375 2022 0\n"
     ]
    },
    {
     "name": "stderr",
     "output_type": "stream",
     "text": [
      " 14%|██████████████████████▏                                                                                                                                           | 474/3455 [00:35<03:40, 13.51it/s]"
     ]
    },
    {
     "name": "stdout",
     "output_type": "stream",
     "text": [
      "4012836 2022 0\n",
      "4552864 2022 0\n",
      "4312705 2022 0\n"
     ]
    },
    {
     "name": "stderr",
     "output_type": "stream",
     "text": [
      "\r",
      " 14%|██████████████████████▎                                                                                                                                           | 476/3455 [00:35<03:40, 13.51it/s]"
     ]
    },
    {
     "name": "stdout",
     "output_type": "stream",
     "text": [
      "466156 2022 0\n",
      "4162663 2022 0\n",
      "4262874 2022 0\n"
     ]
    },
    {
     "name": "stderr",
     "output_type": "stream",
     "text": [
      " 14%|██████████████████████▌                                                                                                                                           | 480/3455 [00:35<03:40, 13.51it/s]"
     ]
    },
    {
     "name": "stdout",
     "output_type": "stream",
     "text": [
      "4262768 2022 0\n",
      "4282863 2022 0\n",
      "4162873 2022 0\n"
     ]
    },
    {
     "name": "stderr",
     "output_type": "stream",
     "text": [
      "\r",
      " 14%|██████████████████████▌                                                                                                                                           | 482/3455 [00:35<03:40, 13.48it/s]"
     ]
    },
    {
     "name": "stdout",
     "output_type": "stream",
     "text": [
      "3882829 2022 0\n",
      "3892699 2022 0\n",
      "4762377 2022 0\n"
     ]
    },
    {
     "name": "stderr",
     "output_type": "stream",
     "text": [
      " 14%|██████████████████████▊                                                                                                                                           | 486/3455 [00:36<03:39, 13.53it/s]"
     ]
    },
    {
     "name": "stdout",
     "output_type": "stream",
     "text": [
      "4272864 2022 0\n",
      "3952385 2022 0\n",
      "3832743 2022 0\n"
     ]
    },
    {
     "name": "stderr",
     "output_type": "stream",
     "text": [
      "\r",
      " 14%|██████████████████████▉                                                                                                                                           | 488/3455 [00:36<03:40, 13.47it/s]"
     ]
    },
    {
     "name": "stdout",
     "output_type": "stream",
     "text": [
      "4042482 2022 0\n",
      "4252890 2022 0\n",
      "3932833 2022 0\n"
     ]
    },
    {
     "name": "stderr",
     "output_type": "stream",
     "text": [
      " 14%|███████████████████████                                                                                                                                           | 492/3455 [00:36<03:38, 13.59it/s]"
     ]
    },
    {
     "name": "stdout",
     "output_type": "stream",
     "text": [
      "3632758 2022 0\n",
      "3352732 2022 0\n",
      "3912755 2022 0\n"
     ]
    },
    {
     "name": "stderr",
     "output_type": "stream",
     "text": [
      "\r",
      " 14%|███████████████████████▏                                                                                                                                          | 494/3455 [00:36<03:38, 13.55it/s]"
     ]
    },
    {
     "name": "stdout",
     "output_type": "stream",
     "text": [
      "3522626 2022 0\n",
      "3622641 2022 0\n",
      "3902829 2022 0\n"
     ]
    },
    {
     "name": "stderr",
     "output_type": "stream",
     "text": [
      " 14%|███████████████████████▎                                                                                                                                          | 498/3455 [00:37<03:37, 13.59it/s]"
     ]
    },
    {
     "name": "stdout",
     "output_type": "stream",
     "text": [
      "3912658 2022 0\n",
      "3782378 2022 0\n",
      "3862697 2022 0\n"
     ]
    },
    {
     "name": "stderr",
     "output_type": "stream",
     "text": [
      "\r",
      " 14%|███████████████████████▍                                                                                                                                          | 500/3455 [00:37<03:38, 13.54it/s]"
     ]
    },
    {
     "name": "stdout",
     "output_type": "stream",
     "text": [
      "3602761 2022 0\n",
      "3972381 2022 0\n",
      "2982643 2022 0\n"
     ]
    },
    {
     "name": "stderr",
     "output_type": "stream",
     "text": [
      " 15%|███████████████████████▋                                                                                                                                          | 504/3455 [00:37<03:36, 13.62it/s]"
     ]
    },
    {
     "name": "stdout",
     "output_type": "stream",
     "text": [
      "3392766 2022 0\n",
      "3382757 2022 0\n",
      "3382756 2022 0\n"
     ]
    },
    {
     "name": "stderr",
     "output_type": "stream",
     "text": [
      "\r",
      " 15%|███████████████████████▋                                                                                                                                          | 506/3455 [00:37<03:37, 13.55it/s]"
     ]
    },
    {
     "name": "stdout",
     "output_type": "stream",
     "text": [
      "3042623 2022 0\n",
      "2992699 2022 0\n",
      "2972646 2022 0\n"
     ]
    },
    {
     "name": "stderr",
     "output_type": "stream",
     "text": [
      " 15%|███████████████████████▉                                                                                                                                          | 510/3455 [00:37<03:36, 13.59it/s]"
     ]
    },
    {
     "name": "stdout",
     "output_type": "stream",
     "text": [
      "-2751530 2022 0\n",
      "-262280 2022 0\n",
      "-3401511 2022 0\n"
     ]
    },
    {
     "name": "stderr",
     "output_type": "stream",
     "text": [
      "\r",
      " 15%|████████████████████████                                                                                                                                          | 512/3455 [00:38<03:36, 13.57it/s]"
     ]
    },
    {
     "name": "stdout",
     "output_type": "stream",
     "text": [
      "-262281 2022 0\n",
      "43715 2022 0\n",
      "4673581 2022 0\n"
     ]
    },
    {
     "name": "stderr",
     "output_type": "stream",
     "text": [
      " 15%|████████████████████████▏                                                                                                                                         | 516/3455 [00:38<03:37, 13.54it/s]"
     ]
    },
    {
     "name": "stdout",
     "output_type": "stream",
     "text": [
      "4272868 2022 0\n",
      "4352798 2022 0\n",
      "3972736 2022 0\n"
     ]
    },
    {
     "name": "stderr",
     "output_type": "stream",
     "text": [
      "\r",
      " 15%|████████████████████████▎                                                                                                                                         | 518/3455 [00:38<03:37, 13.48it/s]"
     ]
    },
    {
     "name": "stdout",
     "output_type": "stream",
     "text": [
      "3522625 2022 0\n",
      "4062481 2022 0\n",
      "4212717 2022 0\n"
     ]
    },
    {
     "name": "stderr",
     "output_type": "stream",
     "text": [
      " 15%|████████████████████████▍                                                                                                                                         | 522/3455 [00:38<03:36, 13.53it/s]"
     ]
    },
    {
     "name": "stdout",
     "output_type": "stream",
     "text": [
      "4232887 2022 0\n",
      "4052800 2022 0\n",
      "3872389 2022 0\n"
     ]
    },
    {
     "name": "stderr",
     "output_type": "stream",
     "text": [
      "\r",
      " 15%|████████████████████████▌                                                                                                                                         | 524/3455 [00:38<03:37, 13.48it/s]"
     ]
    },
    {
     "name": "stdout",
     "output_type": "stream",
     "text": [
      "3892652 2022 0\n",
      "4112712 2022 0\n",
      "3912835 2022 0\n"
     ]
    },
    {
     "name": "stderr",
     "output_type": "stream",
     "text": [
      " 15%|████████████████████████▊                                                                                                                                         | 528/3455 [00:39<03:35, 13.59it/s]"
     ]
    },
    {
     "name": "stdout",
     "output_type": "stream",
     "text": [
      "4583591 2022 0\n",
      "4012845 2022 0\n",
      "4202860 2022 0\n"
     ]
    },
    {
     "name": "stderr",
     "output_type": "stream",
     "text": [
      "\r",
      " 15%|████████████████████████▊                                                                                                                                         | 530/3455 [00:39<03:35, 13.55it/s]"
     ]
    },
    {
     "name": "stdout",
     "output_type": "stream",
     "text": [
      "475190 2022 0\n",
      "3892677 2022 0\n",
      "3902676 2022 0\n"
     ]
    },
    {
     "name": "stderr",
     "output_type": "stream",
     "text": [
      " 15%|█████████████████████████                                                                                                                                         | 534/3455 [00:39<03:36, 13.51it/s]"
     ]
    },
    {
     "name": "stdout",
     "output_type": "stream",
     "text": [
      "3902677 2022 0\n",
      "4082633 2022 0\n",
      "3872829 2022 0\n"
     ]
    },
    {
     "name": "stderr",
     "output_type": "stream",
     "text": [
      "\r",
      " 16%|█████████████████████████▏                                                                                                                                        | 536/3455 [00:39<03:37, 13.43it/s]"
     ]
    },
    {
     "name": "stdout",
     "output_type": "stream",
     "text": [
      "458132 2022 0\n",
      "3992848 2022 0\n",
      "4483594 2022 0\n"
     ]
    },
    {
     "name": "stderr",
     "output_type": "stream",
     "text": [
      " 16%|█████████████████████████▎                                                                                                                                        | 540/3455 [00:40<03:35, 13.50it/s]"
     ]
    },
    {
     "name": "stdout",
     "output_type": "stream",
     "text": [
      "3532683 2022 0\n",
      "4012846 2022 0\n",
      "3812741 2022 0\n"
     ]
    },
    {
     "name": "stderr",
     "output_type": "stream",
     "text": [
      "\r",
      " 16%|█████████████████████████▍                                                                                                                                        | 542/3455 [00:40<03:36, 13.48it/s]"
     ]
    },
    {
     "name": "stdout",
     "output_type": "stream",
     "text": [
      "3572814 2022 0\n",
      "3262764 2022 0\n",
      "2742774 2022 0\n"
     ]
    },
    {
     "name": "stderr",
     "output_type": "stream",
     "text": [
      " 16%|█████████████████████████▌                                                                                                                                        | 546/3455 [00:40<03:35, 13.50it/s]"
     ]
    },
    {
     "name": "stdout",
     "output_type": "stream",
     "text": [
      "3002648 2022 0\n",
      "2982645 2022 0\n",
      "4562863 2022 0\n"
     ]
    },
    {
     "name": "stderr",
     "output_type": "stream",
     "text": [
      "\r",
      " 16%|█████████████████████████▋                                                                                                                                        | 548/3455 [00:40<03:35, 13.49it/s]"
     ]
    },
    {
     "name": "stdout",
     "output_type": "stream",
     "text": [
      "-3443036 2022 0\n",
      "-3381507 2022 0\n",
      "5163599 2022 0\n"
     ]
    },
    {
     "name": "stderr",
     "output_type": "stream",
     "text": [
      " 16%|█████████████████████████▉                                                                                                                                        | 552/3455 [00:41<03:38, 13.28it/s]"
     ]
    },
    {
     "name": "stdout",
     "output_type": "stream",
     "text": [
      "-2761528 2022 0\n",
      "4813584 2022 0\n",
      "48821 2022 0\n"
     ]
    },
    {
     "name": "stderr",
     "output_type": "stream",
     "text": [
      "\r",
      " 16%|█████████████████████████▉                                                                                                                                        | 554/3455 [00:41<03:36, 13.37it/s]"
     ]
    },
    {
     "name": "stdout",
     "output_type": "stream",
     "text": [
      "4172737 2022 0\n",
      "4232710 2022 0\n",
      "4092872 2022 0\n"
     ]
    },
    {
     "name": "stderr",
     "output_type": "stream",
     "text": [
      " 16%|██████████████████████████▏                                                                                                                                       | 558/3455 [00:41<03:37, 13.29it/s]"
     ]
    },
    {
     "name": "stdout",
     "output_type": "stream",
     "text": [
      "3852697 2022 0\n",
      "4172722 2022 0\n",
      "45749 2022 0\n"
     ]
    },
    {
     "name": "stderr",
     "output_type": "stream",
     "text": [
      "\r",
      " 16%|██████████████████████████▎                                                                                                                                       | 560/3455 [00:41<03:36, 13.35it/s]"
     ]
    },
    {
     "name": "stdout",
     "output_type": "stream",
     "text": [
      "4232720 2022 0\n",
      "4272754 2022 0\n",
      "4312825 2022 0\n"
     ]
    },
    {
     "name": "stderr",
     "output_type": "stream",
     "text": [
      " 16%|██████████████████████████▍                                                                                                                                       | 564/3455 [00:41<03:35, 13.42it/s]"
     ]
    },
    {
     "name": "stdout",
     "output_type": "stream",
     "text": [
      "4222744 2022 0\n",
      "4182718 2022 0\n",
      "4232862 2022 0\n"
     ]
    },
    {
     "name": "stderr",
     "output_type": "stream",
     "text": [
      "\r",
      " 16%|██████████████████████████▌                                                                                                                                       | 566/3455 [00:42<03:35, 13.43it/s]"
     ]
    },
    {
     "name": "stdout",
     "output_type": "stream",
     "text": [
      "4102862 2022 0\n",
      "4142871 2022 0\n",
      "4132640 2022 0\n"
     ]
    },
    {
     "name": "stderr",
     "output_type": "stream",
     "text": [
      " 16%|██████████████████████████▋                                                                                                                                       | 570/3455 [00:42<03:33, 13.50it/s]"
     ]
    },
    {
     "name": "stdout",
     "output_type": "stream",
     "text": [
      "50843 2022 0\n",
      "4162763 2022 0\n",
      "4312707 2022 0\n"
     ]
    },
    {
     "name": "stderr",
     "output_type": "stream",
     "text": [
      "\r",
      " 17%|██████████████████████████▊                                                                                                                                       | 572/3455 [00:42<03:33, 13.53it/s]"
     ]
    },
    {
     "name": "stdout",
     "output_type": "stream",
     "text": [
      "3882655 2022 0\n",
      "3952753 2022 0\n",
      "522210 2022 0\n"
     ]
    },
    {
     "name": "stderr",
     "output_type": "stream",
     "text": [
      " 17%|███████████████████████████                                                                                                                                       | 576/3455 [00:42<03:33, 13.51it/s]"
     ]
    },
    {
     "name": "stdout",
     "output_type": "stream",
     "text": [
      "4112866 2022 0\n",
      "4082861 2022 0\n",
      "4162662 2022 0\n"
     ]
    },
    {
     "name": "stderr",
     "output_type": "stream",
     "text": [
      "\r",
      " 17%|███████████████████████████                                                                                                                                       | 578/3455 [00:42<03:32, 13.51it/s]"
     ]
    },
    {
     "name": "stdout",
     "output_type": "stream",
     "text": [
      "46350 2022 0\n",
      "4092859 2022 0\n",
      "523209 2022 0\n"
     ]
    },
    {
     "name": "stderr",
     "output_type": "stream",
     "text": [
      " 17%|███████████████████████████▎                                                                                                                                      | 582/3455 [00:43<03:32, 13.55it/s]"
     ]
    },
    {
     "name": "stdout",
     "output_type": "stream",
     "text": [
      "4622408 2022 0\n",
      "4632407 2022 0\n",
      "3452475 2022 0\n"
     ]
    },
    {
     "name": "stderr",
     "output_type": "stream",
     "text": [
      "\r",
      " 17%|███████████████████████████▍                                                                                                                                      | 584/3455 [00:43<03:32, 13.51it/s]"
     ]
    },
    {
     "name": "stdout",
     "output_type": "stream",
     "text": [
      "4082859 2022 0\n",
      "4022378 2022 0\n",
      "3992744 2022 0\n"
     ]
    },
    {
     "name": "stderr",
     "output_type": "stream",
     "text": [
      " 17%|███████████████████████████▌                                                                                                                                      | 588/3455 [00:43<03:32, 13.50it/s]"
     ]
    },
    {
     "name": "stdout",
     "output_type": "stream",
     "text": [
      "3772825 2022 0\n",
      "3812815 2022 0\n",
      "3832744 2022 0\n"
     ]
    },
    {
     "name": "stderr",
     "output_type": "stream",
     "text": [
      "\r",
      " 17%|███████████████████████████▋                                                                                                                                      | 590/3455 [00:43<03:32, 13.47it/s]"
     ]
    },
    {
     "name": "stdout",
     "output_type": "stream",
     "text": [
      "3592809 2022 0\n",
      "3902828 2022 0\n",
      "2962693 2022 0\n"
     ]
    },
    {
     "name": "stderr",
     "output_type": "stream",
     "text": [
      " 17%|███████████████████████████▊                                                                                                                                      | 594/3455 [00:44<03:31, 13.53it/s]"
     ]
    },
    {
     "name": "stdout",
     "output_type": "stream",
     "text": [
      "2621277 2022 0\n",
      "2862787 2022 0\n",
      "-3352894 2022 0\n"
     ]
    },
    {
     "name": "stderr",
     "output_type": "stream",
     "text": [
      "\r",
      " 17%|███████████████████████████▉                                                                                                                                      | 596/3455 [00:44<03:31, 13.49it/s]"
     ]
    },
    {
     "name": "stdout",
     "output_type": "stream",
     "text": [
      "-3342895 2022 0\n",
      "48432 2022 0\n",
      "46565 2022 0\n"
     ]
    },
    {
     "name": "stderr",
     "output_type": "stream",
     "text": [
      " 17%|████████████████████████████▏                                                                                                                                     | 600/3455 [00:44<03:30, 13.58it/s]"
     ]
    },
    {
     "name": "stdout",
     "output_type": "stream",
     "text": [
      "3742378 2022 0\n",
      "4172786 2022 0\n",
      "4282738 2022 0\n"
     ]
    },
    {
     "name": "stderr",
     "output_type": "stream",
     "text": [
      "\r",
      " 17%|████████████████████████████▏                                                                                                                                     | 602/3455 [00:44<03:30, 13.54it/s]"
     ]
    },
    {
     "name": "stdout",
     "output_type": "stream",
     "text": [
      "4192721 2022 0\n",
      "4082664 2022 0\n",
      "4072861 2022 0\n"
     ]
    },
    {
     "name": "stderr",
     "output_type": "stream",
     "text": [
      " 18%|████████████████████████████▍                                                                                                                                     | 606/3455 [00:45<03:31, 13.44it/s]"
     ]
    },
    {
     "name": "stdout",
     "output_type": "stream",
     "text": [
      "4082862 2022 0\n",
      "4032860 2022 0\n",
      "43615 2022 0\n"
     ]
    },
    {
     "name": "stderr",
     "output_type": "stream",
     "text": [
      "\r",
      " 18%|████████████████████████████▌                                                                                                                                     | 608/3455 [00:45<03:32, 13.41it/s]"
     ]
    },
    {
     "name": "stdout",
     "output_type": "stream",
     "text": [
      "43937 2022 0\n",
      "4492666 2022 0\n",
      "4022845 2022 0\n"
     ]
    },
    {
     "name": "stderr",
     "output_type": "stream",
     "text": [
      " 18%|████████████████████████████▋                                                                                                                                     | 612/3455 [00:45<03:29, 13.58it/s]"
     ]
    },
    {
     "name": "stdout",
     "output_type": "stream",
     "text": [
      "4092861 2022 0\n",
      "45748 2022 0\n",
      "4032841 2022 0\n"
     ]
    },
    {
     "name": "stderr",
     "output_type": "stream",
     "text": [
      "\r",
      " 18%|████████████████████████████▊                                                                                                                                     | 614/3455 [00:45<03:29, 13.55it/s]"
     ]
    },
    {
     "name": "stdout",
     "output_type": "stream",
     "text": [
      "3892624 2022 0\n",
      "4002771 2022 0\n",
      "3992849 2022 0\n"
     ]
    },
    {
     "name": "stderr",
     "output_type": "stream",
     "text": [
      " 18%|████████████████████████████▉                                                                                                                                     | 618/3455 [00:45<03:30, 13.49it/s]"
     ]
    },
    {
     "name": "stdout",
     "output_type": "stream",
     "text": [
      "3732801 2022 0\n",
      "407229 2022 0\n",
      "3412424 2022 0\n"
     ]
    },
    {
     "name": "stderr",
     "output_type": "stream",
     "text": [
      "\r",
      " 18%|█████████████████████████████                                                                                                                                     | 620/3455 [00:46<03:30, 13.47it/s]"
     ]
    },
    {
     "name": "stdout",
     "output_type": "stream",
     "text": [
      "3022623 2022 0\n",
      "-3332937 2022 0\n",
      "4062703 2022 0\n"
     ]
    },
    {
     "name": "stderr",
     "output_type": "stream",
     "text": [
      " 18%|█████████████████████████████▎                                                                                                                                    | 624/3455 [00:46<03:28, 13.58it/s]"
     ]
    },
    {
     "name": "stdout",
     "output_type": "stream",
     "text": [
      "4072703 2022 0\n",
      "-2371339 2022 0\n",
      "-2731529 2022 0\n"
     ]
    },
    {
     "name": "stderr",
     "output_type": "stream",
     "text": [
      "\r",
      " 18%|█████████████████████████████▎                                                                                                                                    | 626/3455 [00:46<03:28, 13.54it/s]"
     ]
    },
    {
     "name": "stdout",
     "output_type": "stream",
     "text": [
      "-2741529 2022 0\n",
      "48505 2022 0\n",
      "4252763 2022 0\n"
     ]
    },
    {
     "name": "stderr",
     "output_type": "stream",
     "text": [
      " 18%|█████████████████████████████▌                                                                                                                                    | 630/3455 [00:46<03:28, 13.53it/s]"
     ]
    },
    {
     "name": "stdout",
     "output_type": "stream",
     "text": [
      "5153598 2022 0\n",
      "4813583 2022 0\n",
      "4222717 2022 0\n"
     ]
    },
    {
     "name": "stderr",
     "output_type": "stream",
     "text": [
      "\r",
      " 18%|█████████████████████████████▋                                                                                                                                    | 632/3455 [00:46<03:29, 13.49it/s]"
     ]
    },
    {
     "name": "stdout",
     "output_type": "stream",
     "text": [
      "4382809 2022 0\n",
      "4042553 2022 0\n",
      "4222720 2022 0\n"
     ]
    },
    {
     "name": "stderr",
     "output_type": "stream",
     "text": [
      " 18%|█████████████████████████████▊                                                                                                                                    | 636/3455 [00:47<03:27, 13.58it/s]"
     ]
    },
    {
     "name": "stdout",
     "output_type": "stream",
     "text": [
      "4032801 2022 0\n",
      "4242769 2022 0\n",
      "3972740 2022 0\n"
     ]
    },
    {
     "name": "stderr",
     "output_type": "stream",
     "text": [
      "\r",
      " 18%|█████████████████████████████▉                                                                                                                                    | 638/3455 [00:47<03:27, 13.57it/s]"
     ]
    },
    {
     "name": "stdout",
     "output_type": "stream",
     "text": [
      "3052757 2022 0\n",
      "4052377 2022 0\n",
      "4222721 2022 0\n"
     ]
    },
    {
     "name": "stderr",
     "output_type": "stream",
     "text": [
      " 19%|██████████████████████████████                                                                                                                                    | 642/3455 [00:47<03:27, 13.54it/s]"
     ]
    },
    {
     "name": "stdout",
     "output_type": "stream",
     "text": [
      "501200 2022 0\n",
      "4052853 2022 0\n",
      "4122646 2022 0\n"
     ]
    },
    {
     "name": "stderr",
     "output_type": "stream",
     "text": [
      "\r",
      " 19%|██████████████████████████████▏                                                                                                                                   | 644/3455 [00:47<03:27, 13.52it/s]"
     ]
    },
    {
     "name": "stdout",
     "output_type": "stream",
     "text": [
      "4062861 2022 0\n",
      "4202663 2022 0\n",
      "4202664 2022 0\n"
     ]
    },
    {
     "name": "stderr",
     "output_type": "stream",
     "text": [
      " 19%|██████████████████████████████▍                                                                                                                                   | 648/3455 [00:48<03:31, 13.29it/s]"
     ]
    },
    {
     "name": "stdout",
     "output_type": "stream",
     "text": [
      "3842775 2022 0\n",
      "4182886 2022 0\n",
      "4162685 2022 0\n"
     ]
    },
    {
     "name": "stderr",
     "output_type": "stream",
     "text": [
      "\r",
      " 19%|██████████████████████████████▍                                                                                                                                   | 650/3455 [00:48<03:31, 13.29it/s]"
     ]
    },
    {
     "name": "stdout",
     "output_type": "stream",
     "text": [
      "3892828 2022 0\n",
      "3902754 2022 0\n",
      "4112750 2022 0\n"
     ]
    },
    {
     "name": "stderr",
     "output_type": "stream",
     "text": [
      " 19%|██████████████████████████████▋                                                                                                                                   | 654/3455 [00:48<03:27, 13.49it/s]"
     ]
    },
    {
     "name": "stdout",
     "output_type": "stream",
     "text": [
      "4002858 2022 0\n",
      "4112865 2022 0\n",
      "4422660 2022 0\n"
     ]
    },
    {
     "name": "stderr",
     "output_type": "stream",
     "text": [
      "\r",
      " 19%|██████████████████████████████▊                                                                                                                                   | 656/3455 [00:48<03:27, 13.50it/s]"
     ]
    },
    {
     "name": "stdout",
     "output_type": "stream",
     "text": [
      "4242766 2022 0\n",
      "4062695 2022 0\n",
      "4262761 2022 0\n"
     ]
    },
    {
     "name": "stderr",
     "output_type": "stream",
     "text": [
      " 19%|██████████████████████████████▉                                                                                                                                   | 660/3455 [00:49<03:26, 13.55it/s]"
     ]
    },
    {
     "name": "stdout",
     "output_type": "stream",
     "text": [
      "4312763 2022 0\n",
      "4182717 2022 0\n",
      "3902647 2022 0\n"
     ]
    },
    {
     "name": "stderr",
     "output_type": "stream",
     "text": [
      "\r",
      " 19%|███████████████████████████████                                                                                                                                   | 662/3455 [00:49<03:26, 13.51it/s]"
     ]
    },
    {
     "name": "stdout",
     "output_type": "stream",
     "text": [
      "4172739 2022 0\n",
      "4302788 2022 0\n",
      "4162684 2022 0\n"
     ]
    },
    {
     "name": "stderr",
     "output_type": "stream",
     "text": [
      " 19%|███████████████████████████████▏                                                                                                                                  | 666/3455 [00:49<03:24, 13.66it/s]"
     ]
    },
    {
     "name": "stdout",
     "output_type": "stream",
     "text": [
      "4002548 2022 0\n",
      "4082870 2022 0\n",
      "4002549 2022 0\n"
     ]
    },
    {
     "name": "stderr",
     "output_type": "stream",
     "text": [
      "\r",
      " 19%|███████████████████████████████▎                                                                                                                                  | 668/3455 [00:49<03:25, 13.58it/s]"
     ]
    },
    {
     "name": "stdout",
     "output_type": "stream",
     "text": [
      "3812755 2022 0\n",
      "4362702 2022 0\n",
      "3852695 2022 0\n"
     ]
    },
    {
     "name": "stderr",
     "output_type": "stream",
     "text": [
      " 19%|███████████████████████████████▌                                                                                                                                  | 672/3455 [00:49<03:25, 13.54it/s]"
     ]
    },
    {
     "name": "stdout",
     "output_type": "stream",
     "text": [
      "4132789 2022 0\n",
      "3982549 2022 0\n",
      "4622407 2022 0\n"
     ]
    },
    {
     "name": "stderr",
     "output_type": "stream",
     "text": [
      "\r",
      " 20%|███████████████████████████████▌                                                                                                                                  | 674/3455 [00:50<03:26, 13.48it/s]"
     ]
    },
    {
     "name": "stdout",
     "output_type": "stream",
     "text": [
      "3622733 2022 0\n",
      "3282622 2022 0\n",
      "3162629 2022 0\n"
     ]
    },
    {
     "name": "stderr",
     "output_type": "stream",
     "text": [
      " 20%|███████████████████████████████▊                                                                                                                                  | 678/3455 [00:50<03:26, 13.47it/s]"
     ]
    },
    {
     "name": "stdout",
     "output_type": "stream",
     "text": [
      "2802776 2022 0\n",
      "3672403 2022 0\n",
      "286771 2022 0\n"
     ]
    },
    {
     "name": "stderr",
     "output_type": "stream",
     "text": [
      "\r",
      " 20%|███████████████████████████████▉                                                                                                                                  | 680/3455 [00:50<03:26, 13.43it/s]"
     ]
    },
    {
     "name": "stdout",
     "output_type": "stream",
     "text": [
      "-2861535 2022 0\n",
      "4552426 2022 0\n",
      "4462668 2022 0\n"
     ]
    },
    {
     "name": "stderr",
     "output_type": "stream",
     "text": [
      " 20%|████████████████████████████████                                                                                                                                  | 684/3455 [00:50<03:27, 13.34it/s]"
     ]
    },
    {
     "name": "stdout",
     "output_type": "stream",
     "text": [
      "4302838 2022 0\n",
      "4562430 2022 0\n",
      "4512451 2022 0\n"
     ]
    },
    {
     "name": "stderr",
     "output_type": "stream",
     "text": [
      "\r",
      " 20%|████████████████████████████████▏                                                                                                                                 | 686/3455 [00:50<03:27, 13.33it/s]"
     ]
    },
    {
     "name": "stdout",
     "output_type": "stream",
     "text": [
      "6492121 2022 0\n",
      "4732678 2022 0\n",
      "4852460 2022 0\n"
     ]
    },
    {
     "name": "stderr",
     "output_type": "stream",
     "text": [
      " 20%|████████████████████████████████▎                                                                                                                                 | 690/3455 [00:51<03:27, 13.33it/s]"
     ]
    },
    {
     "name": "stdout",
     "output_type": "stream",
     "text": [
      "4192719 2022 0\n",
      "4262648 2022 0\n",
      "4752665 2022 0\n"
     ]
    },
    {
     "name": "stderr",
     "output_type": "stream",
     "text": [
      "\r",
      " 20%|████████████████████████████████▍                                                                                                                                 | 692/3455 [00:51<03:27, 13.32it/s]"
     ]
    },
    {
     "name": "stdout",
     "output_type": "stream",
     "text": [
      "4372493 2022 0\n",
      "4712666 2022 0\n",
      "3992739 2022 0\n"
     ]
    },
    {
     "name": "stderr",
     "output_type": "stream",
     "text": [
      " 20%|████████████████████████████████▋                                                                                                                                 | 696/3455 [00:51<03:27, 13.31it/s]"
     ]
    },
    {
     "name": "stdout",
     "output_type": "stream",
     "text": [
      "4562369 2022 0\n",
      "4352493 2022 0\n",
      "4312893 2022 0\n"
     ]
    },
    {
     "name": "stderr",
     "output_type": "stream",
     "text": [
      "\r",
      " 20%|████████████████████████████████▋                                                                                                                                 | 698/3455 [00:51<03:26, 13.33it/s]"
     ]
    },
    {
     "name": "stdout",
     "output_type": "stream",
     "text": [
      "4112738 2022 0\n",
      "4002739 2022 0\n",
      "4492674 2022 0\n"
     ]
    },
    {
     "name": "stderr",
     "output_type": "stream",
     "text": [
      " 20%|████████████████████████████████▉                                                                                                                                 | 702/3455 [00:52<03:25, 13.40it/s]"
     ]
    },
    {
     "name": "stdout",
     "output_type": "stream",
     "text": [
      "3622783 2022 0\n",
      "3782801 2022 0\n",
      "3982738 2022 0\n"
     ]
    },
    {
     "name": "stderr",
     "output_type": "stream",
     "text": [
      "\r",
      " 20%|█████████████████████████████████                                                                                                                                 | 704/3455 [00:52<03:25, 13.38it/s]"
     ]
    },
    {
     "name": "stdout",
     "output_type": "stream",
     "text": [
      "4062845 2022 0\n",
      "3082716 2022 0\n",
      "3962736 2022 0\n"
     ]
    },
    {
     "name": "stderr",
     "output_type": "stream",
     "text": [
      " 20%|█████████████████████████████████▏                                                                                                                                | 708/3455 [00:52<03:25, 13.37it/s]"
     ]
    },
    {
     "name": "stdout",
     "output_type": "stream",
     "text": [
      "4022771 2022 0\n",
      "4432914 2022 0\n",
      "3992738 2022 0\n"
     ]
    },
    {
     "name": "stderr",
     "output_type": "stream",
     "text": [
      "\r",
      " 21%|█████████████████████████████████▎                                                                                                                                | 710/3455 [00:52<03:25, 13.34it/s]"
     ]
    },
    {
     "name": "stdout",
     "output_type": "stream",
     "text": [
      "4542668 2022 0\n",
      "3782825 2022 0\n",
      "4062843 2022 0\n"
     ]
    },
    {
     "name": "stderr",
     "output_type": "stream",
     "text": [
      " 21%|█████████████████████████████████▍                                                                                                                                | 714/3455 [00:53<03:26, 13.28it/s]"
     ]
    },
    {
     "name": "stdout",
     "output_type": "stream",
     "text": [
      "4012858 2022 0\n",
      "4042852 2022 0\n",
      "4072864 2022 0\n"
     ]
    },
    {
     "name": "stderr",
     "output_type": "stream",
     "text": [
      "\r",
      " 21%|█████████████████████████████████▌                                                                                                                                | 716/3455 [00:53<03:25, 13.30it/s]"
     ]
    },
    {
     "name": "stdout",
     "output_type": "stream",
     "text": [
      "4232873 2022 0\n",
      "4132737 2022 0\n",
      "3842818 2022 0\n"
     ]
    },
    {
     "name": "stderr",
     "output_type": "stream",
     "text": [
      " 21%|█████████████████████████████████▊                                                                                                                                | 720/3455 [00:53<03:25, 13.32it/s]"
     ]
    },
    {
     "name": "stdout",
     "output_type": "stream",
     "text": [
      "4232864 2022 0\n",
      "3562769 2022 0\n",
      "3562766 2022 0\n"
     ]
    },
    {
     "name": "stderr",
     "output_type": "stream",
     "text": [
      "\r",
      " 21%|█████████████████████████████████▊                                                                                                                                | 722/3455 [00:53<03:25, 13.33it/s]"
     ]
    },
    {
     "name": "stdout",
     "output_type": "stream",
     "text": [
      "4172738 2022 0\n",
      "3872824 2022 0\n",
      "3912806 2022 0\n"
     ]
    },
    {
     "name": "stderr",
     "output_type": "stream",
     "text": [
      " 21%|██████████████████████████████████                                                                                                                                | 726/3455 [00:53<03:24, 13.32it/s]"
     ]
    },
    {
     "name": "stdout",
     "output_type": "stream",
     "text": [
      "3902806 2022 0\n",
      "4362436 2022 0\n",
      "4172480 2022 0\n"
     ]
    },
    {
     "name": "stderr",
     "output_type": "stream",
     "text": [
      "\r",
      " 21%|██████████████████████████████████▏                                                                                                                               | 728/3455 [00:54<03:24, 13.30it/s]"
     ]
    },
    {
     "name": "stdout",
     "output_type": "stream",
     "text": [
      "47486 2022 0\n",
      "4122861 2022 0\n",
      "3922734 2022 0\n"
     ]
    },
    {
     "name": "stderr",
     "output_type": "stream",
     "text": [
      " 21%|██████████████████████████████████▎                                                                                                                               | 732/3455 [00:54<03:22, 13.46it/s]"
     ]
    },
    {
     "name": "stdout",
     "output_type": "stream",
     "text": [
      "4262862 2022 0\n",
      "4182719 2022 0\n",
      "4322826 2022 0\n"
     ]
    },
    {
     "name": "stderr",
     "output_type": "stream",
     "text": [
      "\r",
      " 21%|██████████████████████████████████▍                                                                                                                               | 734/3455 [00:54<03:21, 13.50it/s]"
     ]
    },
    {
     "name": "stdout",
     "output_type": "stream",
     "text": [
      "4492668 2022 0\n",
      "4302706 2022 0\n",
      "4422835 2022 0\n"
     ]
    },
    {
     "name": "stderr",
     "output_type": "stream",
     "text": [
      " 21%|██████████████████████████████████▌                                                                                                                               | 738/3455 [00:54<03:21, 13.51it/s]"
     ]
    },
    {
     "name": "stdout",
     "output_type": "stream",
     "text": [
      "3962551 2022 0\n",
      "4252835 2022 0\n",
      "3912754 2022 0\n"
     ]
    },
    {
     "name": "stderr",
     "output_type": "stream",
     "text": [
      "\r",
      " 21%|██████████████████████████████████▋                                                                                                                               | 740/3455 [00:54<03:21, 13.49it/s]"
     ]
    },
    {
     "name": "stdout",
     "output_type": "stream",
     "text": [
      "4532842 2022 0\n",
      "4082860 2022 0\n",
      "3902656 2022 0\n"
     ]
    },
    {
     "name": "stderr",
     "output_type": "stream",
     "text": [
      " 22%|██████████████████████████████████▉                                                                                                                               | 744/3455 [00:55<03:20, 13.51it/s]"
     ]
    },
    {
     "name": "stdout",
     "output_type": "stream",
     "text": [
      "3772708 2022 0\n",
      "3912831 2022 0\n",
      "3892831 2022 0\n"
     ]
    },
    {
     "name": "stderr",
     "output_type": "stream",
     "text": [
      "\r",
      " 22%|██████████████████████████████████▉                                                                                                                               | 746/3455 [00:55<03:20, 13.51it/s]"
     ]
    },
    {
     "name": "stdout",
     "output_type": "stream",
     "text": [
      "3802754 2022 0\n",
      "3602658 2022 0\n",
      "46679 2022 0\n"
     ]
    },
    {
     "name": "stderr",
     "output_type": "stream",
     "text": [
      " 22%|███████████████████████████████████▏                                                                                                                              | 750/3455 [00:55<03:21, 13.41it/s]"
     ]
    },
    {
     "name": "stdout",
     "output_type": "stream",
     "text": [
      "4212719 2022 0\n",
      "4362806 2022 0\n",
      "4202719 2022 0\n"
     ]
    },
    {
     "name": "stderr",
     "output_type": "stream",
     "text": [
      "\r",
      " 22%|███████████████████████████████████▎                                                                                                                              | 752/3455 [00:55<03:21, 13.38it/s]"
     ]
    },
    {
     "name": "stdout",
     "output_type": "stream",
     "text": [
      "4352794 2022 0\n",
      "3972551 2022 0\n",
      "4772426 2022 0\n"
     ]
    },
    {
     "name": "stderr",
     "output_type": "stream",
     "text": [
      " 22%|███████████████████████████████████▍                                                                                                                              | 756/3455 [00:56<03:19, 13.53it/s]"
     ]
    },
    {
     "name": "stdout",
     "output_type": "stream",
     "text": [
      "49372 2022 0\n",
      "4212832 2022 0\n",
      "4272756 2022 0\n"
     ]
    },
    {
     "name": "stderr",
     "output_type": "stream",
     "text": [
      "\r",
      " 22%|███████████████████████████████████▌                                                                                                                              | 758/3455 [00:56<03:19, 13.52it/s]"
     ]
    },
    {
     "name": "stdout",
     "output_type": "stream",
     "text": [
      "4242835 2022 0\n",
      "4172718 2022 0\n",
      "45848 2022 0\n"
     ]
    },
    {
     "name": "stderr",
     "output_type": "stream",
     "text": [
      " 22%|███████████████████████████████████▋                                                                                                                              | 762/3455 [00:56<03:19, 13.48it/s]"
     ]
    },
    {
     "name": "stdout",
     "output_type": "stream",
     "text": [
      "4272862 2022 0\n",
      "4772376 2022 0\n",
      "4292811 2022 0\n"
     ]
    },
    {
     "name": "stderr",
     "output_type": "stream",
     "text": [
      "\r",
      " 22%|███████████████████████████████████▊                                                                                                                              | 764/3455 [00:56<03:19, 13.47it/s]"
     ]
    },
    {
     "name": "stdout",
     "output_type": "stream",
     "text": [
      "4292834 2022 0\n",
      "4322800 2022 0\n",
      "3782376 2022 0\n"
     ]
    },
    {
     "name": "stderr",
     "output_type": "stream",
     "text": [
      " 22%|████████████████████████████████████                                                                                                                              | 768/3455 [00:57<03:18, 13.52it/s]"
     ]
    },
    {
     "name": "stdout",
     "output_type": "stream",
     "text": [
      "4072862 2022 0\n",
      "3992824 2022 0\n",
      "4352712 2022 0\n"
     ]
    },
    {
     "name": "stderr",
     "output_type": "stream",
     "text": [
      "\r",
      " 22%|████████████████████████████████████                                                                                                                              | 770/3455 [00:57<03:18, 13.52it/s]"
     ]
    },
    {
     "name": "stdout",
     "output_type": "stream",
     "text": [
      "3972549 2022 0\n",
      "3912735 2022 0\n",
      "4322802 2022 0\n"
     ]
    },
    {
     "name": "stderr",
     "output_type": "stream",
     "text": [
      " 22%|████████████████████████████████████▎                                                                                                                             | 774/3455 [00:57<03:16, 13.61it/s]"
     ]
    },
    {
     "name": "stdout",
     "output_type": "stream",
     "text": [
      "4592864 2022 0\n",
      "4152785 2022 0\n",
      "4202712 2022 0\n"
     ]
    },
    {
     "name": "stderr",
     "output_type": "stream",
     "text": [
      "\r",
      " 22%|████████████████████████████████████▍                                                                                                                             | 776/3455 [00:57<03:17, 13.57it/s]"
     ]
    },
    {
     "name": "stdout",
     "output_type": "stream",
     "text": [
      "4322720 2022 0\n",
      "3312429 2022 0\n",
      "3732382 2022 0\n"
     ]
    },
    {
     "name": "stderr",
     "output_type": "stream",
     "text": [
      " 23%|████████████████████████████████████▌                                                                                                                             | 780/3455 [00:57<03:23, 13.16it/s]"
     ]
    },
    {
     "name": "stdout",
     "output_type": "stream",
     "text": [
      "3772382 2022 0\n",
      "3432415 2022 0\n",
      "3432407 2022 0\n"
     ]
    },
    {
     "name": "stderr",
     "output_type": "stream",
     "text": [
      "\r",
      " 23%|████████████████████████████████████▋                                                                                                                             | 782/3455 [00:58<03:22, 13.20it/s]"
     ]
    },
    {
     "name": "stdout",
     "output_type": "stream",
     "text": [
      "3802377 2022 0\n",
      "-3691748 2022 0\n",
      "3762377 2022 0\n"
     ]
    },
    {
     "name": "stderr",
     "output_type": "stream",
     "text": [
      " 23%|████████████████████████████████████▊                                                                                                                             | 786/3455 [00:58<03:20, 13.33it/s]"
     ]
    },
    {
     "name": "stdout",
     "output_type": "stream",
     "text": [
      "-3211160 2022 0\n",
      "2992787 2022 0\n",
      "3702380 2022 0\n"
     ]
    },
    {
     "name": "stderr",
     "output_type": "stream",
     "text": [
      "\r",
      " 23%|████████████████████████████████████▉                                                                                                                             | 788/3455 [00:58<03:20, 13.32it/s]"
     ]
    },
    {
     "name": "stdout",
     "output_type": "stream",
     "text": [
      "3402421 2022 0\n",
      "3762376 2022 0\n",
      "3792375 2022 0\n"
     ]
    },
    {
     "name": "stderr",
     "output_type": "stream",
     "text": [
      " 23%|█████████████████████████████████████▏                                                                                                                            | 792/3455 [00:58<03:18, 13.43it/s]"
     ]
    },
    {
     "name": "stdout",
     "output_type": "stream",
     "text": [
      "-3471508 2022 0\n",
      "3392416 2022 0\n",
      "-3291513 2022 0\n"
     ]
    },
    {
     "name": "stderr",
     "output_type": "stream",
     "text": [
      "\r",
      " 23%|█████████████████████████████████████▏                                                                                                                            | 794/3455 [00:58<03:18, 13.41it/s]"
     ]
    },
    {
     "name": "stdout",
     "output_type": "stream",
     "text": [
      "-3591501 2022 0\n",
      "3952384 2022 0\n",
      "3452415 2022 0\n"
     ]
    },
    {
     "name": "stderr",
     "output_type": "stream",
     "text": [
      " 23%|█████████████████████████████████████▍                                                                                                                            | 798/3455 [00:59<03:16, 13.51it/s]"
     ]
    },
    {
     "name": "stdout",
     "output_type": "stream",
     "text": [
      "3862388 2022 0\n",
      "3692403 2022 0\n",
      "3422415 2022 0\n"
     ]
    },
    {
     "name": "stderr",
     "output_type": "stream",
     "text": [
      "\r",
      " 23%|█████████████████████████████████████▌                                                                                                                            | 800/3455 [00:59<03:16, 13.53it/s]"
     ]
    },
    {
     "name": "stdout",
     "output_type": "stream",
     "text": [
      "3392421 2022 0\n",
      "3512394 2022 0\n",
      "3382417 2022 0\n"
     ]
    },
    {
     "name": "stderr",
     "output_type": "stream",
     "text": [
      " 23%|█████████████████████████████████████▋                                                                                                                            | 804/3455 [00:59<03:15, 13.55it/s]"
     ]
    },
    {
     "name": "stdout",
     "output_type": "stream",
     "text": [
      "4023516 2022 0\n",
      "3302800 2022 0\n",
      "-3781448 2022 0\n"
     ]
    },
    {
     "name": "stderr",
     "output_type": "stream",
     "text": [
      "\r",
      " 23%|█████████████████████████████████████▊                                                                                                                            | 806/3455 [00:59<03:15, 13.52it/s]"
     ]
    },
    {
     "name": "stdout",
     "output_type": "stream",
     "text": [
      "-3111509 2022 0\n",
      "-3781408 2022 0\n",
      "3732395 2022 0\n"
     ]
    },
    {
     "name": "stderr",
     "output_type": "stream",
     "text": [
      " 23%|█████████████████████████████████████▉                                                                                                                            | 810/3455 [01:00<03:15, 13.52it/s]"
     ]
    },
    {
     "name": "stdout",
     "output_type": "stream",
     "text": [
      "3202789 2022 0\n",
      "3682401 2022 0\n",
      "3722380 2022 0\n"
     ]
    },
    {
     "name": "stderr",
     "output_type": "stream",
     "text": [
      "\r",
      " 24%|██████████████████████████████████████                                                                                                                            | 812/3455 [01:00<03:15, 13.51it/s]"
     ]
    },
    {
     "name": "stdout",
     "output_type": "stream",
     "text": [
      "3722381 2022 0\n",
      "3032622 2022 0\n",
      "-3371509 2022 0\n"
     ]
    },
    {
     "name": "stderr",
     "output_type": "stream",
     "text": [
      " 24%|██████████████████████████████████████▎                                                                                                                           | 816/3455 [01:00<03:15, 13.50it/s]"
     ]
    },
    {
     "name": "stdout",
     "output_type": "stream",
     "text": [
      "411235 2022 0\n",
      "3412417 2022 0\n",
      "2972645 2022 0\n"
     ]
    },
    {
     "name": "stderr",
     "output_type": "stream",
     "text": [
      "\r",
      " 24%|██████████████████████████████████████▎                                                                                                                           | 818/3455 [01:00<03:15, 13.48it/s]"
     ]
    },
    {
     "name": "stdout",
     "output_type": "stream",
     "text": [
      "-3811451 2022 0\n",
      "1472688 2022 0\n",
      "3382421 2022 0\n"
     ]
    },
    {
     "name": "stderr",
     "output_type": "stream",
     "text": [
      " 24%|██████████████████████████████████████▌                                                                                                                           | 822/3455 [01:01<03:18, 13.25it/s]"
     ]
    },
    {
     "name": "stdout",
     "output_type": "stream",
     "text": [
      "3863599 2022 0\n",
      "3772389 2022 0\n",
      "3412422 2022 0\n"
     ]
    },
    {
     "name": "stderr",
     "output_type": "stream",
     "text": [
      "\r",
      " 24%|██████████████████████████████████████▋                                                                                                                           | 824/3455 [01:01<03:17, 13.32it/s]"
     ]
    },
    {
     "name": "stdout",
     "output_type": "stream",
     "text": [
      "3392418 2022 0\n",
      "-3761438 2022 0\n",
      "3382419 2022 0\n"
     ]
    },
    {
     "name": "stderr",
     "output_type": "stream",
     "text": [
      " 24%|██████████████████████████████████████▊                                                                                                                           | 828/3455 [01:01<03:14, 13.50it/s]"
     ]
    },
    {
     "name": "stdout",
     "output_type": "stream",
     "text": [
      "3382418 2022 0\n",
      "-3211159 2022 0\n",
      "3702379 2022 0\n"
     ]
    },
    {
     "name": "stderr",
     "output_type": "stream",
     "text": [
      "\r",
      " 24%|██████████████████████████████████████▉                                                                                                                           | 830/3455 [01:01<03:14, 13.47it/s]"
     ]
    },
    {
     "name": "stdout",
     "output_type": "stream",
     "text": [
      "3382431 2022 0\n",
      "-3721753 2022 0\n",
      "4062856 2022 0\n"
     ]
    },
    {
     "name": "stderr",
     "output_type": "stream",
     "text": [
      " 24%|███████████████████████████████████████                                                                                                                           | 834/3455 [01:01<03:14, 13.48it/s]"
     ]
    },
    {
     "name": "stdout",
     "output_type": "stream",
     "text": [
      "-339185 2022 0\n",
      "3462395 2022 0\n",
      "3402419 2022 0\n"
     ]
    },
    {
     "name": "stderr",
     "output_type": "stream",
     "text": [
      "\r",
      " 24%|███████████████████████████████████████▏                                                                                                                          | 836/3455 [01:02<03:14, 13.45it/s]"
     ]
    },
    {
     "name": "stdout",
     "output_type": "stream",
     "text": [
      "3402423 2022 0\n",
      "3412428 2022 0\n",
      "3402428 2022 0\n"
     ]
    },
    {
     "name": "stderr",
     "output_type": "stream",
     "text": [
      " 24%|███████████████████████████████████████▍                                                                                                                          | 840/3455 [01:02<03:13, 13.55it/s]"
     ]
    },
    {
     "name": "stdout",
     "output_type": "stream",
     "text": [
      "417127 2022 0\n",
      "-3791755 2022 0\n",
      "-1931468 2022 0\n"
     ]
    },
    {
     "name": "stderr",
     "output_type": "stream",
     "text": [
      "\r",
      " 24%|███████████████████████████████████████▍                                                                                                                          | 842/3455 [01:02<03:13, 13.52it/s]"
     ]
    },
    {
     "name": "stdout",
     "output_type": "stream",
     "text": [
      "-3171158 2022 0\n",
      "-3231161 2022 0\n",
      "3862383 2022 0\n"
     ]
    },
    {
     "name": "stderr",
     "output_type": "stream",
     "text": [
      " 24%|███████████████████████████████████████▋                                                                                                                          | 846/3455 [01:02<03:12, 13.53it/s]"
     ]
    },
    {
     "name": "stdout",
     "output_type": "stream",
     "text": [
      "3792376 2022 0\n",
      "3752375 2022 0\n",
      "3372437 2022 0\n"
     ]
    },
    {
     "name": "stderr",
     "output_type": "stream",
     "text": [
      "\r",
      " 25%|███████████████████████████████████████▊                                                                                                                          | 848/3455 [01:03<03:12, 13.52it/s]"
     ]
    },
    {
     "name": "stdout",
     "output_type": "stream",
     "text": [
      "3822379 2022 0\n",
      "3302429 2022 0\n",
      "3712380 2022 0\n"
     ]
    },
    {
     "name": "stderr",
     "output_type": "stream",
     "text": [
      " 25%|███████████████████████████████████████▉                                                                                                                          | 852/3455 [01:03<03:12, 13.53it/s]"
     ]
    },
    {
     "name": "stdout",
     "output_type": "stream",
     "text": [
      "3412420 2022 0\n",
      "5972085 2022 0\n",
      "6472031 2022 0\n"
     ]
    },
    {
     "name": "stderr",
     "output_type": "stream",
     "text": [
      "\r",
      " 25%|████████████████████████████████████████                                                                                                                          | 854/3455 [01:03<03:12, 13.51it/s]"
     ]
    },
    {
     "name": "stdout",
     "output_type": "stream",
     "text": [
      "4452753 2022 0\n",
      "4682632 2022 0\n",
      "4092481 2022 0\n"
     ]
    },
    {
     "name": "stderr",
     "output_type": "stream",
     "text": [
      " 25%|████████████████████████████████████████▏                                                                                                                         | 858/3455 [01:03<03:12, 13.51it/s]"
     ]
    },
    {
     "name": "stdout",
     "output_type": "stream",
     "text": [
      "4823583 2022 0\n",
      "3982550 2022 0\n",
      "4742372 2022 0\n"
     ]
    },
    {
     "name": "stderr",
     "output_type": "stream",
     "text": [
      "\r",
      " 25%|████████████████████████████████████████▎                                                                                                                         | 860/3455 [01:03<03:12, 13.48it/s]"
     ]
    },
    {
     "name": "stdout",
     "output_type": "stream",
     "text": [
      "50132 2022 0\n",
      "4002484 2022 0\n",
      "5293563 2022 0\n"
     ]
    },
    {
     "name": "stderr",
     "output_type": "stream",
     "text": [
      " 25%|████████████████████████████████████████▌                                                                                                                         | 864/3455 [01:04<03:10, 13.58it/s]"
     ]
    },
    {
     "name": "stdout",
     "output_type": "stream",
     "text": [
      "4603000 2022 0\n",
      "5343579 2022 0\n",
      "4272890 2022 0\n"
     ]
    },
    {
     "name": "stderr",
     "output_type": "stream",
     "text": [
      "\r",
      " 25%|████████████████████████████████████████▌                                                                                                                         | 866/3455 [01:04<03:10, 13.56it/s]"
     ]
    },
    {
     "name": "stdout",
     "output_type": "stream",
     "text": [
      "4442914 2022 0\n",
      "5733578 2022 0\n",
      "4562841 2022 0\n"
     ]
    },
    {
     "name": "stderr",
     "output_type": "stream",
     "text": [
      " 25%|████████████████████████████████████████▊                                                                                                                         | 870/3455 [01:04<03:10, 13.60it/s]"
     ]
    },
    {
     "name": "stdout",
     "output_type": "stream",
     "text": [
      "5363576 2022 0\n",
      "5243581 2022 0\n",
      "5343580 2022 0\n"
     ]
    },
    {
     "name": "stderr",
     "output_type": "stream",
     "text": [
      "\r",
      " 25%|████████████████████████████████████████▉                                                                                                                         | 872/3455 [01:04<03:10, 13.56it/s]"
     ]
    },
    {
     "name": "stdout",
     "output_type": "stream",
     "text": [
      "4362438 2022 0\n",
      "4212723 2022 0\n",
      "5023549 2022 0\n"
     ]
    },
    {
     "name": "stderr",
     "output_type": "stream",
     "text": [
      " 25%|█████████████████████████████████████████                                                                                                                         | 876/3455 [01:05<03:09, 13.59it/s]"
     ]
    },
    {
     "name": "stdout",
     "output_type": "stream",
     "text": [
      "4112785 2022 0\n",
      "6492122 2022 0\n",
      "3912530 2022 0\n"
     ]
    },
    {
     "name": "stderr",
     "output_type": "stream",
     "text": [
      "\r",
      " 25%|█████████████████████████████████████████▏                                                                                                                        | 878/3455 [01:05<03:10, 13.52it/s]"
     ]
    },
    {
     "name": "stdout",
     "output_type": "stream",
     "text": [
      "4302782 2022 0\n",
      "5232462 2022 0\n",
      "5613561 2022 0\n"
     ]
    },
    {
     "name": "stderr",
     "output_type": "stream",
     "text": [
      " 26%|█████████████████████████████████████████▎                                                                                                                        | 882/3455 [01:05<03:09, 13.56it/s]"
     ]
    },
    {
     "name": "stdout",
     "output_type": "stream",
     "text": [
      "4542374 2022 0\n",
      "4082871 2022 0\n",
      "5593568 2022 0\n"
     ]
    },
    {
     "name": "stderr",
     "output_type": "stream",
     "text": [
      "\r",
      " 26%|█████████████████████████████████████████▍                                                                                                                        | 884/3455 [01:05<03:10, 13.52it/s]"
     ]
    },
    {
     "name": "stdout",
     "output_type": "stream",
     "text": [
      "5173577 2022 0\n",
      "4162664 2022 0\n",
      "5623568 2022 0\n"
     ]
    },
    {
     "name": "stderr",
     "output_type": "stream",
     "text": [
      " 26%|█████████████████████████████████████████▋                                                                                                                        | 888/3455 [01:05<03:08, 13.59it/s]"
     ]
    },
    {
     "name": "stdout",
     "output_type": "stream",
     "text": [
      "5773565 2022 0\n",
      "51137 2022 0\n",
      "3522683 2022 0\n"
     ]
    },
    {
     "name": "stderr",
     "output_type": "stream",
     "text": [
      "\r",
      " 26%|█████████████████████████████████████████▋                                                                                                                        | 890/3455 [01:06<03:09, 13.54it/s]"
     ]
    },
    {
     "name": "stdout",
     "output_type": "stream",
     "text": [
      "3962535 2022 0\n",
      "4112864 2022 0\n",
      "49116 2022 0\n"
     ]
    },
    {
     "name": "stderr",
     "output_type": "stream",
     "text": [
      " 26%|█████████████████████████████████████████▉                                                                                                                        | 894/3455 [01:06<03:08, 13.58it/s]"
     ]
    },
    {
     "name": "stdout",
     "output_type": "stream",
     "text": [
      "4292862 2022 0\n",
      "4452888 2022 0\n",
      "52450 2022 0\n"
     ]
    },
    {
     "name": "stderr",
     "output_type": "stream",
     "text": [
      "\r",
      " 26%|██████████████████████████████████████████                                                                                                                        | 896/3455 [01:06<03:08, 13.55it/s]"
     ]
    },
    {
     "name": "stdout",
     "output_type": "stream",
     "text": [
      "3872695 2022 0\n",
      "5343578 2022 0\n",
      "4302784 2022 0\n"
     ]
    },
    {
     "name": "stderr",
     "output_type": "stream",
     "text": [
      " 26%|██████████████████████████████████████████▏                                                                                                                       | 900/3455 [01:06<03:08, 13.54it/s]"
     ]
    },
    {
     "name": "stdout",
     "output_type": "stream",
     "text": [
      "4492670 2022 0\n",
      "4162716 2022 0\n",
      "3972550 2022 0\n"
     ]
    },
    {
     "name": "stderr",
     "output_type": "stream",
     "text": [
      "\r",
      " 26%|██████████████████████████████████████████▎                                                                                                                       | 902/3455 [01:06<03:09, 13.50it/s]"
     ]
    },
    {
     "name": "stdout",
     "output_type": "stream",
     "text": [
      "4132869 2022 0\n",
      "48415 2022 0\n",
      "44639 2022 0\n"
     ]
    },
    {
     "name": "stderr",
     "output_type": "stream",
     "text": [
      " 26%|██████████████████████████████████████████▍                                                                                                                       | 906/3455 [01:07<03:08, 13.53it/s]"
     ]
    },
    {
     "name": "stdout",
     "output_type": "stream",
     "text": [
      "4362802 2022 0\n",
      "4352801 2022 0\n",
      "4612417 2022 0\n"
     ]
    },
    {
     "name": "stderr",
     "output_type": "stream",
     "text": [
      "\r",
      " 26%|██████████████████████████████████████████▌                                                                                                                       | 908/3455 [01:07<03:08, 13.53it/s]"
     ]
    },
    {
     "name": "stdout",
     "output_type": "stream",
     "text": [
      "5593570 2022 0\n",
      "5362465 2022 0\n",
      "4352492 2022 0\n"
     ]
    },
    {
     "name": "stderr",
     "output_type": "stream",
     "text": [
      " 26%|██████████████████████████████████████████▊                                                                                                                       | 912/3455 [01:07<03:09, 13.40it/s]"
     ]
    },
    {
     "name": "stdout",
     "output_type": "stream",
     "text": [
      "45629 2022 0\n",
      "4532374 2022 0\n",
      "4612998 2022 0\n"
     ]
    },
    {
     "name": "stderr",
     "output_type": "stream",
     "text": [
      "\r",
      " 26%|██████████████████████████████████████████▊                                                                                                                       | 914/3455 [01:07<03:09, 13.40it/s]"
     ]
    },
    {
     "name": "stdout",
     "output_type": "stream",
     "text": [
      "4312823 2022 0\n",
      "4682687 2022 0\n",
      "4312826 2022 0\n"
     ]
    },
    {
     "name": "stderr",
     "output_type": "stream",
     "text": [
      " 27%|███████████████████████████████████████████                                                                                                                       | 918/3455 [01:08<03:08, 13.48it/s]"
     ]
    },
    {
     "name": "stdout",
     "output_type": "stream",
     "text": [
      "3912827 2022 0\n",
      "3882551 2022 0\n",
      "3762757 2022 0\n"
     ]
    },
    {
     "name": "stderr",
     "output_type": "stream",
     "text": [
      "\r",
      " 27%|███████████████████████████████████████████▏                                                                                                                      | 920/3455 [01:08<03:09, 13.41it/s]"
     ]
    },
    {
     "name": "stdout",
     "output_type": "stream",
     "text": [
      "4012849 2022 0\n",
      "4162872 2022 0\n",
      "3852817 2022 0\n"
     ]
    },
    {
     "name": "stderr",
     "output_type": "stream",
     "text": [
      " 27%|███████████████████████████████████████████▎                                                                                                                      | 924/3455 [01:08<03:07, 13.50it/s]"
     ]
    },
    {
     "name": "stdout",
     "output_type": "stream",
     "text": [
      "4182872 2022 0\n",
      "4402840 2022 0\n",
      "3982842 2022 0\n"
     ]
    },
    {
     "name": "stderr",
     "output_type": "stream",
     "text": [
      "\r",
      " 27%|███████████████████████████████████████████▍                                                                                                                      | 926/3455 [01:08<03:07, 13.50it/s]"
     ]
    },
    {
     "name": "stdout",
     "output_type": "stream",
     "text": [
      "4422861 2022 0\n",
      "4412863 2022 0\n",
      "3912828 2022 0\n"
     ]
    },
    {
     "name": "stderr",
     "output_type": "stream",
     "text": [
      " 27%|███████████████████████████████████████████▌                                                                                                                      | 930/3455 [01:09<03:06, 13.56it/s]"
     ]
    },
    {
     "name": "stdout",
     "output_type": "stream",
     "text": [
      "3952833 2022 0\n",
      "4132860 2022 0\n",
      "3922827 2022 0\n"
     ]
    },
    {
     "name": "stderr",
     "output_type": "stream",
     "text": [
      "\r",
      " 27%|███████████████████████████████████████████▋                                                                                                                      | 932/3455 [01:09<03:06, 13.52it/s]"
     ]
    },
    {
     "name": "stdout",
     "output_type": "stream",
     "text": [
      "4632361 2022 0\n",
      "4072857 2022 0\n",
      "4082856 2022 0\n"
     ]
    },
    {
     "name": "stderr",
     "output_type": "stream",
     "text": [
      " 27%|███████████████████████████████████████████▉                                                                                                                      | 936/3455 [01:09<03:06, 13.54it/s]"
     ]
    },
    {
     "name": "stdout",
     "output_type": "stream",
     "text": [
      "4002852 2022 0\n",
      "4142879 2022 0\n",
      "4022846 2022 0\n"
     ]
    },
    {
     "name": "stderr",
     "output_type": "stream",
     "text": [
      "\r",
      " 27%|███████████████████████████████████████████▉                                                                                                                      | 938/3455 [01:09<03:06, 13.49it/s]"
     ]
    },
    {
     "name": "stdout",
     "output_type": "stream",
     "text": [
      "4022847 2022 0\n",
      "4112862 2022 0\n",
      "4112857 2022 0\n"
     ]
    },
    {
     "name": "stderr",
     "output_type": "stream",
     "text": [
      " 27%|████████████████████████████████████████████▏                                                                                                                     | 942/3455 [01:09<03:05, 13.52it/s]"
     ]
    },
    {
     "name": "stdout",
     "output_type": "stream",
     "text": [
      "4082867 2022 0\n",
      "3962825 2022 0\n",
      "4172861 2022 0\n"
     ]
    },
    {
     "name": "stderr",
     "output_type": "stream",
     "text": [
      "\r",
      " 27%|████████████████████████████████████████████▎                                                                                                                     | 944/3455 [01:10<03:06, 13.49it/s]"
     ]
    },
    {
     "name": "stdout",
     "output_type": "stream",
     "text": [
      "4522372 2022 0\n",
      "42031 2022 0\n",
      "41524 2022 0\n"
     ]
    },
    {
     "name": "stderr",
     "output_type": "stream",
     "text": [
      " 27%|████████████████████████████████████████████▍                                                                                                                     | 948/3455 [01:10<03:05, 13.50it/s]"
     ]
    },
    {
     "name": "stdout",
     "output_type": "stream",
     "text": [
      "2962779 2022 0\n",
      "3372420 2022 0\n",
      "3442409 2022 0\n"
     ]
    },
    {
     "name": "stderr",
     "output_type": "stream",
     "text": [
      "\r",
      " 27%|████████████████████████████████████████████▌                                                                                                                     | 950/3455 [01:10<03:05, 13.49it/s]"
     ]
    },
    {
     "name": "stdout",
     "output_type": "stream",
     "text": [
      "-3121511 2022 0\n",
      "3392425 2022 0\n",
      "3772379 2022 0\n"
     ]
    },
    {
     "name": "stderr",
     "output_type": "stream",
     "text": [
      " 28%|████████████████████████████████████████████▋                                                                                                                     | 954/3455 [01:10<03:07, 13.33it/s]"
     ]
    },
    {
     "name": "stdout",
     "output_type": "stream",
     "text": [
      "3412425 2022 0\n",
      "2862776 2022 0\n",
      "3352476 2022 0\n"
     ]
    },
    {
     "name": "stderr",
     "output_type": "stream",
     "text": [
      "\r",
      " 28%|████████████████████████████████████████████▊                                                                                                                     | 956/3455 [01:11<03:06, 13.38it/s]"
     ]
    },
    {
     "name": "stdout",
     "output_type": "stream",
     "text": [
      "3442408 2022 0\n",
      "2792775 2022 0\n",
      "321349 2022 0\n"
     ]
    },
    {
     "name": "stderr",
     "output_type": "stream",
     "text": [
      " 28%|█████████████████████████████████████████████                                                                                                                     | 960/3455 [01:11<03:05, 13.42it/s]"
     ]
    },
    {
     "name": "stdout",
     "output_type": "stream",
     "text": [
      "3342482 2022 0\n",
      "419125 2022 0\n",
      "3422419 2022 0\n"
     ]
    },
    {
     "name": "stderr",
     "output_type": "stream",
     "text": [
      "\r",
      " 28%|█████████████████████████████████████████████                                                                                                                     | 962/3455 [01:11<03:05, 13.44it/s]"
     ]
    },
    {
     "name": "stdout",
     "output_type": "stream",
     "text": [
      "-2453083 2022 0\n",
      "3372422 2022 0\n",
      "3802375 2022 0\n"
     ]
    },
    {
     "name": "stderr",
     "output_type": "stream",
     "text": [
      " 28%|█████████████████████████████████████████████▎                                                                                                                    | 966/3455 [01:11<03:04, 13.50it/s]"
     ]
    },
    {
     "name": "stdout",
     "output_type": "stream",
     "text": [
      "2972642 2022 0\n",
      "3862371 2022 0\n",
      "3342476 2022 0\n"
     ]
    },
    {
     "name": "stderr",
     "output_type": "stream",
     "text": [
      "\r",
      " 28%|█████████████████████████████████████████████▍                                                                                                                    | 968/3455 [01:11<03:05, 13.44it/s]"
     ]
    },
    {
     "name": "stdout",
     "output_type": "stream",
     "text": [
      "3402426 2022 0\n",
      "3342483 2022 0\n",
      "43159 2022 0\n"
     ]
    },
    {
     "name": "stderr",
     "output_type": "stream",
     "text": [
      " 28%|█████████████████████████████████████████████▌                                                                                                                    | 972/3455 [01:12<03:03, 13.54it/s]"
     ]
    },
    {
     "name": "stdout",
     "output_type": "stream",
     "text": [
      "3882370 2022 0\n",
      "3723564 2022 0\n",
      "3743540 2022 0\n"
     ]
    },
    {
     "name": "stderr",
     "output_type": "stream",
     "text": [
      "\r",
      " 28%|█████████████████████████████████████████████▋                                                                                                                    | 974/3455 [01:12<03:03, 13.54it/s]"
     ]
    },
    {
     "name": "stdout",
     "output_type": "stream",
     "text": [
      "3432408 2022 0\n",
      "3883509 2022 0\n",
      "3412426 2022 0\n"
     ]
    },
    {
     "name": "stderr",
     "output_type": "stream",
     "text": [
      " 28%|█████████████████████████████████████████████▊                                                                                                                    | 978/3455 [01:12<03:03, 13.52it/s]"
     ]
    },
    {
     "name": "stdout",
     "output_type": "stream",
     "text": [
      "3772390 2022 0\n",
      "3352423 2022 0\n",
      "3462396 2022 0\n"
     ]
    },
    {
     "name": "stderr",
     "output_type": "stream",
     "text": [
      "\r",
      " 28%|█████████████████████████████████████████████▉                                                                                                                    | 980/3455 [01:12<03:03, 13.48it/s]"
     ]
    },
    {
     "name": "stdout",
     "output_type": "stream",
     "text": [
      "365305 2022 0\n",
      "39627 2022 0\n",
      "-3511386 2022 0\n"
     ]
    },
    {
     "name": "stderr",
     "output_type": "stream",
     "text": [
      " 28%|██████████████████████████████████████████████▏                                                                                                                   | 984/3455 [01:13<03:02, 13.53it/s]"
     ]
    },
    {
     "name": "stdout",
     "output_type": "stream",
     "text": [
      "3362423 2022 0\n",
      "3693566 2022 0\n",
      "3422410 2022 0\n"
     ]
    },
    {
     "name": "stderr",
     "output_type": "stream",
     "text": [
      "\r",
      " 29%|██████████████████████████████████████████████▏                                                                                                                   | 986/3455 [01:13<03:02, 13.54it/s]"
     ]
    },
    {
     "name": "stdout",
     "output_type": "stream",
     "text": [
      "-2051646 2022 0\n",
      "3402418 2022 0\n",
      "3722382 2022 0\n"
     ]
    },
    {
     "name": "stderr",
     "output_type": "stream",
     "text": [
      " 29%|██████████████████████████████████████████████▍                                                                                                                   | 990/3455 [01:13<03:02, 13.50it/s]"
     ]
    },
    {
     "name": "stdout",
     "output_type": "stream",
     "text": [
      "3693565 2022 0\n",
      "3042688 2022 0\n",
      "43161 2022 0\n"
     ]
    },
    {
     "name": "stderr",
     "output_type": "stream",
     "text": [
      "\r",
      " 29%|██████████████████████████████████████████████▌                                                                                                                   | 992/3455 [01:13<03:02, 13.50it/s]"
     ]
    },
    {
     "name": "stdout",
     "output_type": "stream",
     "text": [
      "4912380 2022 0\n",
      "3962549 2022 0\n",
      "4812672 2022 0\n"
     ]
    },
    {
     "name": "stderr",
     "output_type": "stream",
     "text": [
      " 29%|██████████████████████████████████████████████▋                                                                                                                   | 996/3455 [01:13<03:01, 13.52it/s]"
     ]
    },
    {
     "name": "stdout",
     "output_type": "stream",
     "text": [
      "3482482 2022 0\n",
      "3602815 2022 0\n",
      "4402637 2022 0\n"
     ]
    },
    {
     "name": "stderr",
     "output_type": "stream",
     "text": [
      "\r",
      " 29%|██████████████████████████████████████████████▊                                                                                                                   | 998/3455 [01:14<03:01, 13.51it/s]"
     ]
    },
    {
     "name": "stdout",
     "output_type": "stream",
     "text": [
      "3512534 2022 0\n",
      "478132 2022 0\n",
      "480152 2022 0\n"
     ]
    },
    {
     "name": "stderr",
     "output_type": "stream",
     "text": [
      " 29%|██████████████████████████████████████████████▋                                                                                                                  | 1002/3455 [01:14<03:01, 13.53it/s]"
     ]
    },
    {
     "name": "stdout",
     "output_type": "stream",
     "text": [
      "468136 2022 0\n",
      "478165 2022 0\n",
      "467137 2022 0\n"
     ]
    },
    {
     "name": "stderr",
     "output_type": "stream",
     "text": [
      "\r",
      " 29%|██████████████████████████████████████████████▊                                                                                                                  | 1004/3455 [01:14<03:01, 13.48it/s]"
     ]
    },
    {
     "name": "stdout",
     "output_type": "stream",
     "text": [
      "468135 2022 0\n",
      "478153 2022 0\n",
      "483146 2022 0\n"
     ]
    },
    {
     "name": "stderr",
     "output_type": "stream",
     "text": [
      " 29%|██████████████████████████████████████████████▉                                                                                                                  | 1008/3455 [01:14<03:01, 13.49it/s]"
     ]
    },
    {
     "name": "stdout",
     "output_type": "stream",
     "text": [
      "483134 2022 0\n",
      "466132 2022 0\n",
      "467144 2022 0\n"
     ]
    },
    {
     "name": "stderr",
     "output_type": "stream",
     "text": [
      "\r",
      " 29%|███████████████████████████████████████████████                                                                                                                  | 1010/3455 [01:14<03:00, 13.52it/s]"
     ]
    },
    {
     "name": "stdout",
     "output_type": "stream",
     "text": [
      "486164 2022 0\n",
      "471157 2022 0\n",
      "485166 2022 0\n"
     ]
    },
    {
     "name": "stderr",
     "output_type": "stream",
     "text": [
      " 29%|███████████████████████████████████████████████▎                                                                                                                 | 1014/3455 [01:15<03:00, 13.49it/s]"
     ]
    },
    {
     "name": "stdout",
     "output_type": "stream",
     "text": [
      "467151 2022 0\n",
      "471137 2022 0\n",
      "467153 2022 0\n"
     ]
    },
    {
     "name": "stderr",
     "output_type": "stream",
     "text": [
      "\r",
      " 29%|███████████████████████████████████████████████▎                                                                                                                 | 1016/3455 [01:15<03:01, 13.47it/s]"
     ]
    },
    {
     "name": "stdout",
     "output_type": "stream",
     "text": [
      "474162 2022 0\n",
      "467138 2022 0\n",
      "484143 2022 0\n"
     ]
    },
    {
     "name": "stderr",
     "output_type": "stream",
     "text": [
      " 30%|███████████████████████████████████████████████▌                                                                                                                 | 1020/3455 [01:15<02:59, 13.58it/s]"
     ]
    },
    {
     "name": "stdout",
     "output_type": "stream",
     "text": [
      "474136 2022 0\n",
      "470144 2022 0\n",
      "474124 2022 0\n"
     ]
    },
    {
     "name": "stderr",
     "output_type": "stream",
     "text": [
      "\r",
      " 30%|███████████████████████████████████████████████▌                                                                                                                 | 1022/3455 [01:15<02:59, 13.53it/s]"
     ]
    },
    {
     "name": "stdout",
     "output_type": "stream",
     "text": [
      "484149 2022 0\n",
      "488156 2022 0\n",
      "468144 2022 0\n"
     ]
    },
    {
     "name": "stderr",
     "output_type": "stream",
     "text": [
      " 30%|███████████████████████████████████████████████▊                                                                                                                 | 1026/3455 [01:16<02:58, 13.64it/s]"
     ]
    },
    {
     "name": "stdout",
     "output_type": "stream",
     "text": [
      "478149 2022 0\n",
      "472126 2022 0\n",
      "471139 2022 0\n"
     ]
    },
    {
     "name": "stderr",
     "output_type": "stream",
     "text": [
      "\r",
      " 30%|███████████████████████████████████████████████▉                                                                                                                 | 1028/3455 [01:16<02:58, 13.58it/s]"
     ]
    },
    {
     "name": "stdout",
     "output_type": "stream",
     "text": [
      "488155 2022 0\n",
      "490150 2022 0\n",
      "480156 2022 0\n"
     ]
    },
    {
     "name": "stderr",
     "output_type": "stream",
     "text": [
      " 30%|████████████████████████████████████████████████                                                                                                                 | 1032/3455 [01:16<02:58, 13.54it/s]"
     ]
    },
    {
     "name": "stdout",
     "output_type": "stream",
     "text": [
      "476127 2022 0\n",
      "481144 2022 0\n",
      "483167 2022 0\n"
     ]
    },
    {
     "name": "stderr",
     "output_type": "stream",
     "text": [
      "\r",
      " 30%|████████████████████████████████████████████████▏                                                                                                                | 1034/3455 [01:16<02:59, 13.51it/s]"
     ]
    },
    {
     "name": "stdout",
     "output_type": "stream",
     "text": [
      "475139 2022 0\n",
      "478130 2022 0\n",
      "479132 2022 0\n"
     ]
    },
    {
     "name": "stderr",
     "output_type": "stream",
     "text": [
      " 30%|████████████████████████████████████████████████▎                                                                                                                | 1038/3455 [01:17<02:58, 13.52it/s]"
     ]
    },
    {
     "name": "stdout",
     "output_type": "stream",
     "text": [
      "480159 2022 0\n",
      "466138 2022 0\n",
      "469152 2022 0\n"
     ]
    },
    {
     "name": "stderr",
     "output_type": "stream",
     "text": [
      "\r",
      " 30%|████████████████████████████████████████████████▍                                                                                                                | 1040/3455 [01:17<02:58, 13.52it/s]"
     ]
    },
    {
     "name": "stdout",
     "output_type": "stream",
     "text": [
      "474128 2022 0\n",
      "479141 2022 0\n",
      "473117 2022 0\n"
     ]
    },
    {
     "name": "stderr",
     "output_type": "stream",
     "text": [
      " 30%|████████████████████████████████████████████████▋                                                                                                                | 1044/3455 [01:17<02:58, 13.53it/s]"
     ]
    },
    {
     "name": "stdout",
     "output_type": "stream",
     "text": [
      "471144 2022 0\n",
      "476122 2022 0\n",
      "439184 2022 0\n"
     ]
    },
    {
     "name": "stderr",
     "output_type": "stream",
     "text": [
      "\r",
      " 30%|████████████████████████████████████████████████▋                                                                                                                | 1046/3455 [01:17<02:58, 13.52it/s]"
     ]
    },
    {
     "name": "stdout",
     "output_type": "stream",
     "text": [
      "433178 2022 0\n",
      "445187 2022 0\n",
      "484181 2022 0\n"
     ]
    },
    {
     "name": "stderr",
     "output_type": "stream",
     "text": [
      " 30%|████████████████████████████████████████████████▉                                                                                                                | 1050/3455 [01:17<02:58, 13.47it/s]"
     ]
    },
    {
     "name": "stdout",
     "output_type": "stream",
     "text": [
      "486181 2022 0\n",
      "484176 2022 0\n",
      "490203 2022 0\n"
     ]
    },
    {
     "name": "stderr",
     "output_type": "stream",
     "text": [
      "\r",
      " 30%|█████████████████████████████████████████████████                                                                                                                | 1052/3455 [01:18<02:58, 13.43it/s]"
     ]
    },
    {
     "name": "stdout",
     "output_type": "stream",
     "text": [
      "487178 2022 0\n",
      "483194 2022 0\n",
      "488222 2022 0\n"
     ]
    },
    {
     "name": "stderr",
     "output_type": "stream",
     "text": [
      " 31%|█████████████████████████████████████████████████▏                                                                                                               | 1056/3455 [01:18<02:58, 13.46it/s]"
     ]
    },
    {
     "name": "stdout",
     "output_type": "stream",
     "text": [
      "489200 2022 0\n",
      "479174 2022 0\n",
      "482186 2022 0\n"
     ]
    },
    {
     "name": "stderr",
     "output_type": "stream",
     "text": [
      "\r",
      " 31%|█████████████████████████████████████████████████▎                                                                                                               | 1058/3455 [01:18<02:58, 13.44it/s]"
     ]
    },
    {
     "name": "stdout",
     "output_type": "stream",
     "text": [
      "487203 2022 0\n",
      "488198 2022 0\n",
      "484192 2022 0\n"
     ]
    },
    {
     "name": "stderr",
     "output_type": "stream",
     "text": [
      " 31%|█████████████████████████████████████████████████▍                                                                                                               | 1062/3455 [01:18<02:57, 13.45it/s]"
     ]
    },
    {
     "name": "stdout",
     "output_type": "stream",
     "text": [
      "480173 2022 0\n",
      "483173 2022 0\n",
      "485183 2022 0\n"
     ]
    },
    {
     "name": "stderr",
     "output_type": "stream",
     "text": [
      "\r",
      " 31%|█████████████████████████████████████████████████▌                                                                                                               | 1064/3455 [01:18<02:57, 13.44it/s]"
     ]
    },
    {
     "name": "stdout",
     "output_type": "stream",
     "text": [
      "478185 2022 0\n",
      "490183 2022 0\n",
      "486201 2022 0\n"
     ]
    },
    {
     "name": "stderr",
     "output_type": "stream",
     "text": [
      " 31%|█████████████████████████████████████████████████▊                                                                                                               | 1068/3455 [01:19<02:56, 13.52it/s]"
     ]
    },
    {
     "name": "stdout",
     "output_type": "stream",
     "text": [
      "484217 2022 0\n",
      "487205 2022 0\n",
      "486188 2022 0\n"
     ]
    },
    {
     "name": "stderr",
     "output_type": "stream",
     "text": [
      "\r",
      " 31%|█████████████████████████████████████████████████▊                                                                                                               | 1070/3455 [01:19<02:56, 13.52it/s]"
     ]
    },
    {
     "name": "stdout",
     "output_type": "stream",
     "text": [
      "486183 2022 0\n",
      "481190 2022 0\n",
      "485188 2022 0\n"
     ]
    },
    {
     "name": "stderr",
     "output_type": "stream",
     "text": [
      " 31%|██████████████████████████████████████████████████                                                                                                               | 1074/3455 [01:19<02:55, 13.54it/s]"
     ]
    },
    {
     "name": "stdout",
     "output_type": "stream",
     "text": [
      "487200 2022 0\n",
      "486189 2022 0\n",
      "484218 2022 0\n"
     ]
    },
    {
     "name": "stderr",
     "output_type": "stream",
     "text": [
      "\r",
      " 31%|██████████████████████████████████████████████████▏                                                                                                              | 1076/3455 [01:19<02:56, 13.49it/s]"
     ]
    },
    {
     "name": "stdout",
     "output_type": "stream",
     "text": [
      "486216 2022 0\n",
      "489218 2022 0\n",
      "486204 2022 0\n"
     ]
    },
    {
     "name": "stderr",
     "output_type": "stream",
     "text": [
      " 31%|██████████████████████████████████████████████████▎                                                                                                              | 1080/3455 [01:20<02:55, 13.57it/s]"
     ]
    },
    {
     "name": "stdout",
     "output_type": "stream",
     "text": [
      "487216 2022 0\n",
      "486215 2022 0\n",
      "491215 2022 0\n"
     ]
    },
    {
     "name": "stderr",
     "output_type": "stream",
     "text": [
      "\r",
      " 31%|██████████████████████████████████████████████████▍                                                                                                              | 1082/3455 [01:20<02:55, 13.51it/s]"
     ]
    },
    {
     "name": "stdout",
     "output_type": "stream",
     "text": [
      "487209 2022 0\n",
      "491207 2022 0\n",
      "482200 2022 0\n"
     ]
    },
    {
     "name": "stderr",
     "output_type": "stream",
     "text": [
      " 31%|██████████████████████████████████████████████████▌                                                                                                              | 1086/3455 [01:20<02:55, 13.51it/s]"
     ]
    },
    {
     "name": "stdout",
     "output_type": "stream",
     "text": [
      "489189 2022 0\n",
      "492204 2022 0\n",
      "488179 2022 0\n"
     ]
    },
    {
     "name": "stderr",
     "output_type": "stream",
     "text": [
      "\r",
      " 31%|██████████████████████████████████████████████████▋                                                                                                              | 1088/3455 [01:20<02:55, 13.50it/s]"
     ]
    },
    {
     "name": "stdout",
     "output_type": "stream",
     "text": [
      "487195 2022 0\n",
      "488195 2022 0\n",
      "493188 2022 0\n"
     ]
    },
    {
     "name": "stderr",
     "output_type": "stream",
     "text": [
      " 32%|██████████████████████████████████████████████████▉                                                                                                              | 1092/3455 [01:21<02:56, 13.37it/s]"
     ]
    },
    {
     "name": "stdout",
     "output_type": "stream",
     "text": [
      "486172 2022 0\n",
      "484197 2022 0\n",
      "483184 2022 0\n"
     ]
    },
    {
     "name": "stderr",
     "output_type": "stream",
     "text": [
      "\r",
      " 32%|██████████████████████████████████████████████████▉                                                                                                              | 1094/3455 [01:21<02:56, 13.41it/s]"
     ]
    },
    {
     "name": "stdout",
     "output_type": "stream",
     "text": [
      "489212 2022 0\n",
      "487214 2022 0\n",
      "487170 2022 0\n"
     ]
    },
    {
     "name": "stderr",
     "output_type": "stream",
     "text": [
      " 32%|███████████████████████████████████████████████████▏                                                                                                             | 1098/3455 [01:21<02:54, 13.52it/s]"
     ]
    },
    {
     "name": "stdout",
     "output_type": "stream",
     "text": [
      "490202 2022 0\n",
      "487218 2022 0\n",
      "488211 2022 0\n"
     ]
    },
    {
     "name": "stderr",
     "output_type": "stream",
     "text": [
      "\r",
      " 32%|███████████████████████████████████████████████████▎                                                                                                             | 1100/3455 [01:21<02:53, 13.55it/s]"
     ]
    },
    {
     "name": "stdout",
     "output_type": "stream",
     "text": [
      "490210 2022 0\n",
      "486190 2022 0\n",
      "487177 2022 0\n"
     ]
    },
    {
     "name": "stderr",
     "output_type": "stream",
     "text": [
      " 32%|███████████████████████████████████████████████████▍                                                                                                             | 1104/3455 [01:21<02:53, 13.58it/s]"
     ]
    },
    {
     "name": "stdout",
     "output_type": "stream",
     "text": [
      "490182 2022 0\n",
      "488189 2022 0\n",
      "492193 2022 0\n"
     ]
    },
    {
     "name": "stderr",
     "output_type": "stream",
     "text": [
      "\r",
      " 32%|███████████████████████████████████████████████████▌                                                                                                             | 1106/3455 [01:22<02:54, 13.49it/s]"
     ]
    },
    {
     "name": "stdout",
     "output_type": "stream",
     "text": [
      "491182 2022 0\n",
      "483178 2022 0\n",
      "486202 2022 0\n"
     ]
    },
    {
     "name": "stderr",
     "output_type": "stream",
     "text": [
      " 32%|███████████████████████████████████████████████████▋                                                                                                             | 1110/3455 [01:22<02:53, 13.51it/s]"
     ]
    },
    {
     "name": "stdout",
     "output_type": "stream",
     "text": [
      "491208 2022 0\n",
      "482182 2022 0\n",
      "488185 2022 0\n"
     ]
    },
    {
     "name": "stderr",
     "output_type": "stream",
     "text": [
      "\r",
      " 32%|███████████████████████████████████████████████████▊                                                                                                             | 1112/3455 [01:22<02:53, 13.52it/s]"
     ]
    },
    {
     "name": "stdout",
     "output_type": "stream",
     "text": [
      "490195 2022 0\n",
      "495194 2022 0\n",
      "474153 2022 0\n"
     ]
    },
    {
     "name": "stderr",
     "output_type": "stream",
     "text": [
      " 32%|████████████████████████████████████████████████████                                                                                                             | 1116/3455 [01:22<02:52, 13.55it/s]"
     ]
    },
    {
     "name": "stdout",
     "output_type": "stream",
     "text": [
      "477162 2022 0\n",
      "466135 2022 0\n",
      "471155 2022 0\n"
     ]
    },
    {
     "name": "stderr",
     "output_type": "stream",
     "text": [
      "\r",
      " 32%|████████████████████████████████████████████████████                                                                                                             | 1118/3455 [01:22<02:52, 13.53it/s]"
     ]
    },
    {
     "name": "stdout",
     "output_type": "stream",
     "text": [
      "481137 2022 0\n",
      "448159 2022 0\n",
      "440174 2022 0\n"
     ]
    },
    {
     "name": "stderr",
     "output_type": "stream",
     "text": [
      " 32%|████████████████████████████████████████████████████▎                                                                                                            | 1122/3455 [01:23<02:52, 13.56it/s]"
     ]
    },
    {
     "name": "stdout",
     "output_type": "stream",
     "text": [
      "456172 2022 0\n",
      "453153 2022 0\n",
      "445154 2022 0\n"
     ]
    },
    {
     "name": "stderr",
     "output_type": "stream",
     "text": [
      "\r",
      " 33%|████████████████████████████████████████████████████▍                                                                                                            | 1124/3455 [01:23<02:53, 13.47it/s]"
     ]
    },
    {
     "name": "stdout",
     "output_type": "stream",
     "text": [
      "452141 2022 0\n",
      "428195 2022 0\n",
      "428190 2022 0\n"
     ]
    },
    {
     "name": "stderr",
     "output_type": "stream",
     "text": [
      " 33%|████████████████████████████████████████████████████▌                                                                                                            | 1128/3455 [01:23<02:52, 13.48it/s]"
     ]
    },
    {
     "name": "stdout",
     "output_type": "stream",
     "text": [
      "424189 2022 0\n",
      "486168 2022 0\n",
      "481153 2022 0\n"
     ]
    },
    {
     "name": "stderr",
     "output_type": "stream",
     "text": [
      "\r",
      " 33%|████████████████████████████████████████████████████▋                                                                                                            | 1130/3455 [01:23<02:52, 13.47it/s]"
     ]
    },
    {
     "name": "stdout",
     "output_type": "stream",
     "text": [
      "47198 2022 0\n",
      "482156 2022 0\n",
      "473109 2022 0\n"
     ]
    },
    {
     "name": "stderr",
     "output_type": "stream",
     "text": [
      " 33%|████████████████████████████████████████████████████▊                                                                                                            | 1134/3455 [01:24<02:51, 13.56it/s]"
     ]
    },
    {
     "name": "stdout",
     "output_type": "stream",
     "text": [
      "469145 2022 0\n",
      "473116 2022 0\n",
      "479131 2022 0\n"
     ]
    },
    {
     "name": "stderr",
     "output_type": "stream",
     "text": [
      "\r",
      " 33%|████████████████████████████████████████████████████▉                                                                                                            | 1136/3455 [01:24<02:51, 13.54it/s]"
     ]
    },
    {
     "name": "stdout",
     "output_type": "stream",
     "text": [
      "4232371 2022 0\n",
      "4842378 2022 0\n",
      "4092359 2022 0\n"
     ]
    },
    {
     "name": "stderr",
     "output_type": "stream",
     "text": [
      " 33%|█████████████████████████████████████████████████████                                                                                                            | 1140/3455 [01:24<02:51, 13.52it/s]"
     ]
    },
    {
     "name": "stdout",
     "output_type": "stream",
     "text": [
      "4022716 2022 0\n",
      "3992551 2022 0\n",
      "3992550 2022 0\n"
     ]
    },
    {
     "name": "stderr",
     "output_type": "stream",
     "text": [
      "\r",
      " 33%|█████████████████████████████████████████████████████▏                                                                                                           | 1142/3455 [01:24<02:51, 13.45it/s]"
     ]
    },
    {
     "name": "stdout",
     "output_type": "stream",
     "text": [
      "3892551 2022 0\n",
      "3312632 2022 0\n",
      "3842373 2022 0\n"
     ]
    },
    {
     "name": "stderr",
     "output_type": "stream",
     "text": [
      " 33%|█████████████████████████████████████████████████████▍                                                                                                           | 1146/3455 [01:25<02:50, 13.52it/s]"
     ]
    },
    {
     "name": "stdout",
     "output_type": "stream",
     "text": [
      "3502396 2022 0\n",
      "4112481 2022 0\n",
      "4402676 2022 0\n"
     ]
    },
    {
     "name": "stderr",
     "output_type": "stream",
     "text": [
      "\r",
      " 33%|█████████████████████████████████████████████████████▍                                                                                                           | 1148/3455 [01:25<02:51, 13.48it/s]"
     ]
    },
    {
     "name": "stdout",
     "output_type": "stream",
     "text": [
      "4393595 2022 0\n",
      "3722667 2022 0\n",
      "4022483 2022 0\n"
     ]
    },
    {
     "name": "stderr",
     "output_type": "stream",
     "text": [
      " 33%|█████████████████████████████████████████████████████▋                                                                                                           | 1152/3455 [01:25<02:50, 13.53it/s]"
     ]
    },
    {
     "name": "stdout",
     "output_type": "stream",
     "text": [
      "4282892 2022 0\n",
      "51909 2022 0\n",
      "3802374 2022 0\n"
     ]
    },
    {
     "name": "stderr",
     "output_type": "stream",
     "text": [
      "\r",
      " 33%|█████████████████████████████████████████████████████▊                                                                                                           | 1154/3455 [01:25<02:51, 13.43it/s]"
     ]
    },
    {
     "name": "stdout",
     "output_type": "stream",
     "text": [
      "4932372 2022 0\n",
      "-3831461 2022 0\n",
      "-3821461 2022 0\n"
     ]
    },
    {
     "name": "stderr",
     "output_type": "stream",
     "text": [
      " 34%|█████████████████████████████████████████████████████▉                                                                                                           | 1158/3455 [01:25<02:51, 13.38it/s]"
     ]
    },
    {
     "name": "stdout",
     "output_type": "stream",
     "text": [
      "484142 2022 0\n",
      "4852383 2022 0\n",
      "4022484 2022 0\n"
     ]
    },
    {
     "name": "stderr",
     "output_type": "stream",
     "text": [
      "\r",
      " 34%|██████████████████████████████████████████████████████                                                                                                           | 1160/3455 [01:26<02:51, 13.40it/s]"
     ]
    },
    {
     "name": "stdout",
     "output_type": "stream",
     "text": [
      "4532841 2022 0\n",
      "4552371 2022 0\n",
      "-3541491 2022 0\n"
     ]
    },
    {
     "name": "stderr",
     "output_type": "stream",
     "text": [
      " 34%|██████████████████████████████████████████████████████▏                                                                                                          | 1164/3455 [01:26<02:50, 13.44it/s]"
     ]
    },
    {
     "name": "stdout",
     "output_type": "stream",
     "text": [
      "-3341496 2022 0\n",
      "-3521492 2022 0\n",
      "-3661495 2022 0\n"
     ]
    },
    {
     "name": "stderr",
     "output_type": "stream",
     "text": [
      "\r",
      " 34%|██████████████████████████████████████████████████████▎                                                                                                          | 1166/3455 [01:26<02:50, 13.44it/s]"
     ]
    },
    {
     "name": "stdout",
     "output_type": "stream",
     "text": [
      "4442373 2022 0\n",
      "5203592 2022 0\n",
      "5093587 2022 0\n"
     ]
    },
    {
     "name": "stderr",
     "output_type": "stream",
     "text": [
      " 34%|██████████████████████████████████████████████████████▌                                                                                                          | 1170/3455 [01:26<02:48, 13.53it/s]"
     ]
    },
    {
     "name": "stdout",
     "output_type": "stream",
     "text": [
      "-3811428 2022 0\n",
      "-3791418 2022 0\n",
      "-3791424 2022 0\n"
     ]
    },
    {
     "name": "stderr",
     "output_type": "stream",
     "text": [
      "\r",
      " 34%|██████████████████████████████████████████████████████▌                                                                                                          | 1172/3455 [01:26<02:48, 13.51it/s]"
     ]
    },
    {
     "name": "stdout",
     "output_type": "stream",
     "text": [
      "4752376 2022 0\n",
      "5263584 2022 0\n",
      "4772379 2022 0\n"
     ]
    },
    {
     "name": "stderr",
     "output_type": "stream",
     "text": [
      " 34%|██████████████████████████████████████████████████████▊                                                                                                          | 1176/3455 [01:27<02:48, 13.50it/s]"
     ]
    },
    {
     "name": "stdout",
     "output_type": "stream",
     "text": [
      "5323571 2022 0\n",
      "5403589 2022 0\n",
      "3942529 2022 0\n"
     ]
    },
    {
     "name": "stderr",
     "output_type": "stream",
     "text": [
      "\r",
      " 34%|██████████████████████████████████████████████████████▉                                                                                                          | 1178/3455 [01:27<02:48, 13.49it/s]"
     ]
    },
    {
     "name": "stdout",
     "output_type": "stream",
     "text": [
      "4022549 2022 0\n",
      "5273580 2022 0\n",
      "-4281473 2022 0\n"
     ]
    },
    {
     "name": "stderr",
     "output_type": "stream",
     "text": [
      " 34%|███████████████████████████████████████████████████████                                                                                                          | 1182/3455 [01:27<02:49, 13.43it/s]"
     ]
    },
    {
     "name": "stdout",
     "output_type": "stream",
     "text": [
      "-3831465 2022 0\n",
      "-4271473 2022 0\n",
      "4172482 2022 0\n"
     ]
    },
    {
     "name": "stderr",
     "output_type": "stream",
     "text": [
      "\r",
      " 34%|███████████████████████████████████████████████████████▏                                                                                                         | 1184/3455 [01:27<02:52, 13.16it/s]"
     ]
    },
    {
     "name": "stdout",
     "output_type": "stream",
     "text": [
      "-3771420 2022 0\n",
      "4542372 2022 0\n",
      "-3491489 2022 0\n"
     ]
    },
    {
     "name": "stderr",
     "output_type": "stream",
     "text": [
      " 34%|███████████████████████████████████████████████████████▎                                                                                                         | 1188/3455 [01:28<02:49, 13.34it/s]"
     ]
    },
    {
     "name": "stdout",
     "output_type": "stream",
     "text": [
      "-3771449 2022 0\n",
      "-4151472 2022 0\n",
      "-4141472 2022 0\n"
     ]
    },
    {
     "name": "stderr",
     "output_type": "stream",
     "text": [
      "\r",
      " 34%|███████████████████████████████████████████████████████▍                                                                                                         | 1190/3455 [01:28<02:49, 13.33it/s]"
     ]
    },
    {
     "name": "stdout",
     "output_type": "stream",
     "text": [
      "5093586 2022 0\n",
      "51500 2022 0\n",
      "5203597 2022 0\n"
     ]
    },
    {
     "name": "stderr",
     "output_type": "stream",
     "text": [
      " 35%|███████████████████████████████████████████████████████▋                                                                                                         | 1194/3455 [01:28<02:48, 13.42it/s]"
     ]
    },
    {
     "name": "stdout",
     "output_type": "stream",
     "text": [
      "5633566 2022 0\n",
      "5143599 2022 0\n",
      "3522533 2022 0\n"
     ]
    },
    {
     "name": "stderr",
     "output_type": "stream",
     "text": [
      "\r",
      " 35%|███████████████████████████████████████████████████████▋                                                                                                         | 1196/3455 [01:28<02:48, 13.44it/s]"
     ]
    },
    {
     "name": "stdout",
     "output_type": "stream",
     "text": [
      "-3681442 2022 0\n",
      "3502810 2022 0\n",
      "2882777 2022 0\n"
     ]
    },
    {
     "name": "stderr",
     "output_type": "stream",
     "text": [
      " 35%|███████████████████████████████████████████████████████▉                                                                                                         | 1200/3455 [01:29<02:46, 13.53it/s]"
     ]
    },
    {
     "name": "stdout",
     "output_type": "stream",
     "text": [
      "3022784 2022 0\n",
      "2962777 2022 0\n",
      "3032625 2022 0\n"
     ]
    },
    {
     "name": "stderr",
     "output_type": "stream",
     "text": [
      "\r",
      " 35%|████████████████████████████████████████████████████████                                                                                                         | 1202/3455 [01:29<02:46, 13.52it/s]"
     ]
    },
    {
     "name": "stdout",
     "output_type": "stream",
     "text": [
      "3402635 2022 0\n",
      "4772374 2022 0\n",
      "47773 2022 0\n"
     ]
    },
    {
     "name": "stderr",
     "output_type": "stream",
     "text": [
      " 35%|████████████████████████████████████████████████████████▏                                                                                                        | 1206/3455 [01:29<02:46, 13.52it/s]"
     ]
    },
    {
     "name": "stdout",
     "output_type": "stream",
     "text": [
      "5303588 2022 0\n",
      "5153575 2022 0\n",
      "52315 2022 0\n"
     ]
    },
    {
     "name": "stderr",
     "output_type": "stream",
     "text": [
      "\r",
      " 35%|████████████████████████████████████████████████████████▎                                                                                                        | 1208/3455 [01:29<02:46, 13.50it/s]"
     ]
    },
    {
     "name": "stdout",
     "output_type": "stream",
     "text": [
      "5273581 2022 0\n",
      "5333573 2022 0\n",
      "5153574 2022 0\n"
     ]
    },
    {
     "name": "stderr",
     "output_type": "stream",
     "text": [
      " 35%|████████████████████████████████████████████████████████▍                                                                                                        | 1212/3455 [01:29<02:46, 13.51it/s]"
     ]
    },
    {
     "name": "stdout",
     "output_type": "stream",
     "text": [
      "5373573 2022 0\n",
      "4813582 2022 0\n",
      "49161 2022 0\n"
     ]
    },
    {
     "name": "stderr",
     "output_type": "stream",
     "text": [
      "\r",
      " 35%|████████████████████████████████████████████████████████▌                                                                                                        | 1214/3455 [01:30<02:46, 13.46it/s]"
     ]
    },
    {
     "name": "stdout",
     "output_type": "stream",
     "text": [
      "5183587 2022 0\n",
      "510157 2022 0\n",
      "5153597 2022 0\n"
     ]
    },
    {
     "name": "stderr",
     "output_type": "stream",
     "text": [
      " 35%|████████████████████████████████████████████████████████▊                                                                                                        | 1218/3455 [01:30<02:46, 13.43it/s]"
     ]
    },
    {
     "name": "stdout",
     "output_type": "stream",
     "text": [
      "499223 2022 0\n",
      "549239 2022 0\n",
      "5113587 2022 0\n"
     ]
    },
    {
     "name": "stderr",
     "output_type": "stream",
     "text": [
      "\r",
      " 35%|████████████████████████████████████████████████████████▊                                                                                                        | 1220/3455 [01:30<02:46, 13.42it/s]"
     ]
    },
    {
     "name": "stdout",
     "output_type": "stream",
     "text": [
      "47407 2022 0\n",
      "525134 2022 0\n",
      "5593557 2022 0\n"
     ]
    },
    {
     "name": "stderr",
     "output_type": "stream",
     "text": [
      " 35%|█████████████████████████████████████████████████████████                                                                                                        | 1224/3455 [01:30<02:46, 13.42it/s]"
     ]
    },
    {
     "name": "stdout",
     "output_type": "stream",
     "text": [
      "519155 2022 0\n",
      "48823 2022 0\n",
      "500200 2022 0\n"
     ]
    },
    {
     "name": "stderr",
     "output_type": "stream",
     "text": [
      "\r",
      " 35%|█████████████████████████████████████████████████████████▏                                                                                                       | 1226/3455 [01:31<02:45, 13.44it/s]"
     ]
    },
    {
     "name": "stdout",
     "output_type": "stream",
     "text": [
      "5593566 2022 0\n",
      "4672428 2022 0\n",
      "3822374 2022 0\n"
     ]
    },
    {
     "name": "stderr",
     "output_type": "stream",
     "text": [
      " 36%|█████████████████████████████████████████████████████████▎                                                                                                       | 1230/3455 [01:31<02:44, 13.51it/s]"
     ]
    },
    {
     "name": "stdout",
     "output_type": "stream",
     "text": [
      "432279 2022 0\n",
      "513124 2022 0\n",
      "4572489 2022 0\n"
     ]
    },
    {
     "name": "stderr",
     "output_type": "stream",
     "text": [
      "\r",
      " 36%|█████████████████████████████████████████████████████████▍                                                                                                       | 1232/3455 [01:31<02:44, 13.50it/s]"
     ]
    },
    {
     "name": "stdout",
     "output_type": "stream",
     "text": [
      "3832374 2022 0\n",
      "43714 2022 0\n",
      "43772 2022 0\n"
     ]
    },
    {
     "name": "stderr",
     "output_type": "stream",
     "text": [
      " 36%|█████████████████████████████████████████████████████████▌                                                                                                       | 1236/3455 [01:31<02:44, 13.52it/s]"
     ]
    },
    {
     "name": "stdout",
     "output_type": "stream",
     "text": [
      "514128 2022 0\n",
      "4762379 2022 0\n",
      "48922 2022 0\n"
     ]
    },
    {
     "name": "stderr",
     "output_type": "stream",
     "text": [
      "\r",
      " 36%|█████████████████████████████████████████████████████████▋                                                                                                       | 1238/3455 [01:31<02:45, 13.39it/s]"
     ]
    },
    {
     "name": "stdout",
     "output_type": "stream",
     "text": [
      "483109 2022 0\n",
      "516190 2022 0\n",
      "4672370 2022 0\n"
     ]
    },
    {
     "name": "stderr",
     "output_type": "stream",
     "text": [
      " 36%|█████████████████████████████████████████████████████████▉                                                                                                       | 1242/3455 [01:32<02:44, 13.48it/s]"
     ]
    },
    {
     "name": "stdout",
     "output_type": "stream",
     "text": [
      "516165 2022 0\n",
      "49923 2022 0\n",
      "5093588 2022 0\n"
     ]
    },
    {
     "name": "stderr",
     "output_type": "stream",
     "text": [
      "\r",
      " 36%|█████████████████████████████████████████████████████████▉                                                                                                       | 1244/3455 [01:32<02:44, 13.48it/s]"
     ]
    },
    {
     "name": "stdout",
     "output_type": "stream",
     "text": [
      "4672430 2022 0\n",
      "4572373 2022 0\n",
      "47677 2022 0\n"
     ]
    },
    {
     "name": "stderr",
     "output_type": "stream",
     "text": [
      " 36%|██████████████████████████████████████████████████████████▏                                                                                                      | 1248/3455 [01:32<02:43, 13.48it/s]"
     ]
    },
    {
     "name": "stdout",
     "output_type": "stream",
     "text": [
      "4412369 2022 0\n",
      "3832387 2022 0\n",
      "4922360 2022 0\n"
     ]
    },
    {
     "name": "stderr",
     "output_type": "stream",
     "text": [
      "\r",
      " 36%|██████████████████████████████████████████████████████████▏                                                                                                      | 1250/3455 [01:32<02:44, 13.42it/s]"
     ]
    },
    {
     "name": "stdout",
     "output_type": "stream",
     "text": [
      "2832777 2022 0\n",
      "3032645 2022 0\n",
      "3292633 2022 0\n"
     ]
    },
    {
     "name": "stderr",
     "output_type": "stream",
     "text": [
      " 36%|██████████████████████████████████████████████████████████▍                                                                                                      | 1254/3455 [01:33<02:43, 13.43it/s]"
     ]
    },
    {
     "name": "stdout",
     "output_type": "stream",
     "text": [
      "3292628 2022 0\n",
      "43122 2022 0\n",
      "514159 2022 0\n"
     ]
    },
    {
     "name": "stderr",
     "output_type": "stream",
     "text": [
      "\r",
      " 36%|██████████████████████████████████████████████████████████▌                                                                                                      | 1256/3455 [01:33<02:43, 13.41it/s]"
     ]
    },
    {
     "name": "stdout",
     "output_type": "stream",
     "text": [
      "47260 2022 0\n",
      "4753594 2022 0\n",
      "518117 2022 0\n"
     ]
    },
    {
     "name": "stderr",
     "output_type": "stream",
     "text": [
      " 36%|██████████████████████████████████████████████████████████▋                                                                                                      | 1260/3455 [01:33<02:42, 13.48it/s]"
     ]
    },
    {
     "name": "stdout",
     "output_type": "stream",
     "text": [
      "4922374 2022 0\n",
      "544186 2022 0\n",
      "49270 2022 0\n"
     ]
    },
    {
     "name": "stderr",
     "output_type": "stream",
     "text": [
      "\r",
      " 37%|██████████████████████████████████████████████████████████▊                                                                                                      | 1262/3455 [01:33<02:43, 13.43it/s]"
     ]
    },
    {
     "name": "stdout",
     "output_type": "stream",
     "text": [
      "4723585 2022 0\n",
      "517195 2022 0\n",
      "-4161472 2022 0\n"
     ]
    },
    {
     "name": "stderr",
     "output_type": "stream",
     "text": [
      " 37%|██████████████████████████████████████████████████████████▉                                                                                                      | 1266/3455 [01:33<02:43, 13.38it/s]"
     ]
    },
    {
     "name": "stdout",
     "output_type": "stream",
     "text": [
      "522211 2022 0\n",
      "484100 2022 0\n",
      "5203593 2022 0\n"
     ]
    },
    {
     "name": "stderr",
     "output_type": "stream",
     "text": [
      "\r",
      " 37%|███████████████████████████████████████████████████████████                                                                                                      | 1268/3455 [01:34<02:43, 13.41it/s]"
     ]
    },
    {
     "name": "stdout",
     "output_type": "stream",
     "text": [
      "52113 2022 0\n",
      "543187 2022 0\n",
      "522209 2022 0\n"
     ]
    },
    {
     "name": "stderr",
     "output_type": "stream",
     "text": [
      " 37%|███████████████████████████████████████████████████████████▎                                                                                                     | 1272/3455 [01:34<02:41, 13.50it/s]"
     ]
    },
    {
     "name": "stdout",
     "output_type": "stream",
     "text": [
      "49043 2022 0\n",
      "523211 2022 0\n",
      "48924 2022 0\n"
     ]
    },
    {
     "name": "stderr",
     "output_type": "stream",
     "text": [
      "\r",
      " 37%|███████████████████████████████████████████████████████████▎                                                                                                     | 1274/3455 [01:34<02:41, 13.48it/s]"
     ]
    },
    {
     "name": "stdout",
     "output_type": "stream",
     "text": [
      "532167 2022 0\n",
      "406230 2022 0\n",
      "48920 2022 0\n"
     ]
    },
    {
     "name": "stderr",
     "output_type": "stream",
     "text": [
      " 37%|███████████████████████████████████████████████████████████▌                                                                                                     | 1278/3455 [01:34<02:41, 13.47it/s]"
     ]
    },
    {
     "name": "stdout",
     "output_type": "stream",
     "text": [
      "524169 2022 0\n",
      "476212 2022 0\n",
      "50630 2022 0\n"
     ]
    },
    {
     "name": "stderr",
     "output_type": "stream",
     "text": [
      "\r",
      " 37%|███████████████████████████████████████████████████████████▋                                                                                                     | 1280/3455 [01:35<02:42, 13.37it/s]"
     ]
    },
    {
     "name": "stdout",
     "output_type": "stream",
     "text": [
      "501145 2022 0\n",
      "3902831 2022 0\n",
      "4392438 2022 0\n"
     ]
    },
    {
     "name": "stderr",
     "output_type": "stream",
     "text": [
      " 37%|███████████████████████████████████████████████████████████▊                                                                                                     | 1284/3455 [01:35<02:42, 13.35it/s]"
     ]
    },
    {
     "name": "stdout",
     "output_type": "stream",
     "text": [
      "3792378 2022 0\n",
      "4482744 2022 0\n",
      "3542409 2022 0\n"
     ]
    },
    {
     "name": "stderr",
     "output_type": "stream",
     "text": [
      "\r",
      " 37%|███████████████████████████████████████████████████████████▉                                                                                                     | 1286/3455 [01:35<02:42, 13.33it/s]"
     ]
    },
    {
     "name": "stdout",
     "output_type": "stream",
     "text": [
      "3772386 2022 0\n",
      "3872371 2022 0\n",
      "49021 2022 0\n"
     ]
    },
    {
     "name": "stderr",
     "output_type": "stream",
     "text": [
      " 37%|████████████████████████████████████████████████████████████                                                                                                     | 1290/3455 [01:35<02:42, 13.30it/s]"
     ]
    },
    {
     "name": "stdout",
     "output_type": "stream",
     "text": [
      "4073516 2022 0\n",
      "52802 2022 0\n",
      "-3831433 2022 0\n",
      "3752378 2022 0\n"
     ]
    },
    {
     "name": "stderr",
     "output_type": "stream",
     "text": [
      " 37%|████████████████████████████████████████████████████████████▎                                                                                                    | 1294/3455 [01:36<02:43, 13.20it/s]"
     ]
    },
    {
     "name": "stdout",
     "output_type": "stream",
     "text": [
      "-3561492 2022 0\n",
      "-3521490 2022 0\n",
      "-3511490 2022 0\n"
     ]
    },
    {
     "name": "stderr",
     "output_type": "stream",
     "text": [
      "\r",
      " 38%|████████████████████████████████████████████████████████████▍                                                                                                    | 1296/3455 [01:36<02:45, 13.01it/s]"
     ]
    },
    {
     "name": "stdout",
     "output_type": "stream",
     "text": [
      "4852366 2022 0\n",
      "47431 2022 0\n",
      "43612 2022 0\n"
     ]
    },
    {
     "name": "stderr",
     "output_type": "stream",
     "text": [
      " 38%|████████████████████████████████████████████████████████████▌                                                                                                    | 1300/3455 [01:36<02:44, 13.06it/s]"
     ]
    },
    {
     "name": "stdout",
     "output_type": "stream",
     "text": [
      "3572541 2022 0\n",
      "570236 2022 0\n",
      "4042483 2022 0\n"
     ]
    },
    {
     "name": "stderr",
     "output_type": "stream",
     "text": [
      "\r",
      " 38%|████████████████████████████████████████████████████████████▋                                                                                                    | 1302/3455 [01:36<02:44, 13.06it/s]"
     ]
    },
    {
     "name": "stdout",
     "output_type": "stream",
     "text": [
      "50756 2022 0\n",
      "3832377 2022 0\n",
      "5183577 2022 0\n"
     ]
    },
    {
     "name": "stderr",
     "output_type": "stream",
     "text": [
      " 38%|████████████████████████████████████████████████████████████▊                                                                                                    | 1306/3455 [01:37<02:43, 13.14it/s]"
     ]
    },
    {
     "name": "stdout",
     "output_type": "stream",
     "text": [
      "5323560 2022 0\n",
      "3992547 2022 0\n",
      "5263559 2022 0\n"
     ]
    },
    {
     "name": "stderr",
     "output_type": "stream",
     "text": [
      "\r",
      " 38%|████████████████████████████████████████████████████████████▉                                                                                                    | 1308/3455 [01:37<02:43, 13.12it/s]"
     ]
    },
    {
     "name": "stdout",
     "output_type": "stream",
     "text": [
      "3962550 2022 0\n",
      "4222373 2022 0\n",
      "51592 2022 0\n"
     ]
    },
    {
     "name": "stderr",
     "output_type": "stream",
     "text": [
      " 38%|█████████████████████████████████████████████████████████████▏                                                                                                   | 1312/3455 [01:37<02:43, 13.13it/s]"
     ]
    },
    {
     "name": "stdout",
     "output_type": "stream",
     "text": [
      "4302812 2022 0\n",
      "3972548 2022 0\n",
      "43461 2022 0\n"
     ]
    },
    {
     "name": "stderr",
     "output_type": "stream",
     "text": [
      "\r",
      " 38%|█████████████████████████████████████████████████████████████▏                                                                                                   | 1314/3455 [01:37<02:43, 13.12it/s]"
     ]
    },
    {
     "name": "stdout",
     "output_type": "stream",
     "text": [
      "43922 2022 0\n",
      "50552 2022 0\n",
      "49020 2022 0\n"
     ]
    },
    {
     "name": "stderr",
     "output_type": "stream",
     "text": [
      " 38%|█████████████████████████████████████████████████████████████▍                                                                                                   | 1318/3455 [01:37<02:42, 13.18it/s]"
     ]
    },
    {
     "name": "stdout",
     "output_type": "stream",
     "text": [
      "5763564 2022 0\n",
      "4362437 2022 0\n",
      "52300 2022 0\n"
     ]
    },
    {
     "name": "stderr",
     "output_type": "stream",
     "text": [
      "\r",
      " 38%|█████████████████████████████████████████████████████████████▌                                                                                                   | 1320/3455 [01:38<02:41, 13.22it/s]"
     ]
    },
    {
     "name": "stdout",
     "output_type": "stream",
     "text": [
      "43918 2022 0\n",
      "4743597 2022 0\n",
      "4842363 2022 0\n"
     ]
    },
    {
     "name": "stderr",
     "output_type": "stream",
     "text": [
      " 38%|█████████████████████████████████████████████████████████████▋                                                                                                   | 1324/3455 [01:38<02:40, 13.28it/s]"
     ]
    },
    {
     "name": "stdout",
     "output_type": "stream",
     "text": [
      "4232370 2022 0\n",
      "547253 2022 0\n",
      "-4281476 2022 0\n"
     ]
    },
    {
     "name": "stderr",
     "output_type": "stream",
     "text": [
      "\r",
      " 38%|█████████████████████████████████████████████████████████████▊                                                                                                   | 1326/3455 [01:38<02:40, 13.30it/s]"
     ]
    },
    {
     "name": "stdout",
     "output_type": "stream",
     "text": [
      "-4141462 2022 0\n",
      "4052550 2022 0\n",
      "4463589 2022 0\n"
     ]
    },
    {
     "name": "stderr",
     "output_type": "stream",
     "text": [
      " 38%|█████████████████████████████████████████████████████████████▉                                                                                                   | 1330/3455 [01:38<02:38, 13.41it/s]"
     ]
    },
    {
     "name": "stdout",
     "output_type": "stream",
     "text": [
      "47408 2022 0\n",
      "46712 2022 0\n",
      "4382369 2022 0\n"
     ]
    },
    {
     "name": "stderr",
     "output_type": "stream",
     "text": [
      "\r",
      " 39%|██████████████████████████████████████████████████████████████                                                                                                   | 1332/3455 [01:38<02:38, 13.42it/s]"
     ]
    },
    {
     "name": "stdout",
     "output_type": "stream",
     "text": [
      "4122639 2022 0\n",
      "4222382 2022 0\n",
      "4532419 2022 0\n"
     ]
    },
    {
     "name": "stderr",
     "output_type": "stream",
     "text": [
      " 39%|██████████████████████████████████████████████████████████████▎                                                                                                  | 1336/3455 [01:39<02:37, 13.45it/s]"
     ]
    },
    {
     "name": "stdout",
     "output_type": "stream",
     "text": [
      "-4031756 2022 0\n",
      "45733 2022 0\n",
      "46348 2022 0\n"
     ]
    },
    {
     "name": "stderr",
     "output_type": "stream",
     "text": [
      "\r",
      " 39%|██████████████████████████████████████████████████████████████▎                                                                                                  | 1338/3455 [01:39<02:37, 13.48it/s]"
     ]
    },
    {
     "name": "stdout",
     "output_type": "stream",
     "text": [
      "4992406 2022 0\n",
      "5283576 2022 0\n",
      "3892552 2022 0\n"
     ]
    },
    {
     "name": "stderr",
     "output_type": "stream",
     "text": [
      " 39%|██████████████████████████████████████████████████████████████▌                                                                                                  | 1342/3455 [01:39<02:35, 13.57it/s]"
     ]
    },
    {
     "name": "stdout",
     "output_type": "stream",
     "text": [
      "3772381 2022 0\n",
      "5193593 2022 0\n",
      "3492598 2022 0\n"
     ]
    },
    {
     "name": "stderr",
     "output_type": "stream",
     "text": [
      "\r",
      " 39%|██████████████████████████████████████████████████████████████▋                                                                                                  | 1344/3455 [01:39<02:35, 13.54it/s]"
     ]
    },
    {
     "name": "stdout",
     "output_type": "stream",
     "text": [
      "2852785 2022 0\n",
      "2982650 2022 0\n",
      "3052758 2022 0\n"
     ]
    },
    {
     "name": "stderr",
     "output_type": "stream",
     "text": [
      " 39%|██████████████████████████████████████████████████████████████▊                                                                                                  | 1348/3455 [01:40<02:35, 13.55it/s]"
     ]
    },
    {
     "name": "stdout",
     "output_type": "stream",
     "text": [
      "3883507 2022 0\n",
      "1932608 2022 0\n",
      "44949 2022 0\n"
     ]
    },
    {
     "name": "stderr",
     "output_type": "stream",
     "text": [
      "\r",
      " 39%|██████████████████████████████████████████████████████████████▉                                                                                                  | 1350/3455 [01:40<02:35, 13.54it/s]"
     ]
    },
    {
     "name": "stdout",
     "output_type": "stream",
     "text": [
      "410290 2022 0\n",
      "2822773 2022 0\n",
      "2922778 2022 0\n"
     ]
    },
    {
     "name": "stderr",
     "output_type": "stream",
     "text": [
      " 39%|███████████████████████████████████████████████████████████████                                                                                                  | 1354/3455 [01:40<02:35, 13.54it/s]"
     ]
    },
    {
     "name": "stdout",
     "output_type": "stream",
     "text": [
      "2972776 2022 0\n",
      "2802774 2022 0\n",
      "2862788 2022 0\n"
     ]
    },
    {
     "name": "stderr",
     "output_type": "stream",
     "text": [
      "\r",
      " 39%|███████████████████████████████████████████████████████████████▏                                                                                                 | 1356/3455 [01:40<02:36, 13.45it/s]"
     ]
    },
    {
     "name": "stdout",
     "output_type": "stream",
     "text": [
      "2862786 2022 0\n",
      "3072718 2022 0\n",
      "3042727 2022 0\n"
     ]
    },
    {
     "name": "stderr",
     "output_type": "stream",
     "text": [
      " 39%|███████████████████████████████████████████████████████████████▎                                                                                                 | 1360/3455 [01:41<02:34, 13.53it/s]"
     ]
    },
    {
     "name": "stdout",
     "output_type": "stream",
     "text": [
      "-3381511 2022 0\n",
      "-3501179 2022 0\n",
      "-3541492 2022 0\n"
     ]
    },
    {
     "name": "stderr",
     "output_type": "stream",
     "text": [
      "\r",
      " 39%|███████████████████████████████████████████████████████████████▍                                                                                                 | 1362/3455 [01:41<02:34, 13.51it/s]"
     ]
    },
    {
     "name": "stdout",
     "output_type": "stream",
     "text": [
      "2872786 2022 0\n",
      "3272429 2022 0\n",
      "2962776 2022 0\n"
     ]
    },
    {
     "name": "stderr",
     "output_type": "stream",
     "text": [
      " 40%|███████████████████████████████████████████████████████████████▋                                                                                                 | 1366/3455 [01:41<02:34, 13.56it/s]"
     ]
    },
    {
     "name": "stdout",
     "output_type": "stream",
     "text": [
      "3852386 2022 0\n",
      "3571397 2022 0\n",
      "2792773 2022 0\n"
     ]
    },
    {
     "name": "stderr",
     "output_type": "stream",
     "text": [
      "\r",
      " 40%|███████████████████████████████████████████████████████████████▋                                                                                                 | 1368/3455 [01:41<02:33, 13.55it/s]"
     ]
    },
    {
     "name": "stdout",
     "output_type": "stream",
     "text": [
      "-3531386 2022 0\n",
      "3282800 2022 0\n",
      "2852786 2022 0\n"
     ]
    },
    {
     "name": "stderr",
     "output_type": "stream",
     "text": [
      " 40%|███████████████████████████████████████████████████████████████▉                                                                                                 | 1372/3455 [01:41<02:38, 13.17it/s]"
     ]
    },
    {
     "name": "stdout",
     "output_type": "stream",
     "text": [
      "2802772 2022 0\n",
      "3012648 2022 0\n",
      "3062718 2022 0\n"
     ]
    },
    {
     "name": "stderr",
     "output_type": "stream",
     "text": [
      "\r",
      " 40%|████████████████████████████████████████████████████████████████                                                                                                 | 1374/3455 [01:42<02:37, 13.22it/s]"
     ]
    },
    {
     "name": "stdout",
     "output_type": "stream",
     "text": [
      "3412423 2022 0\n",
      "3532394 2022 0\n",
      "2952615 2022 0\n"
     ]
    },
    {
     "name": "stderr",
     "output_type": "stream",
     "text": [
      " 40%|████████████████████████████████████████████████████████████████▏                                                                                                | 1378/3455 [01:42<02:35, 13.38it/s]"
     ]
    },
    {
     "name": "stdout",
     "output_type": "stream",
     "text": [
      "48923 2022 0\n",
      "2582597 2022 0\n",
      "3422412 2022 0\n"
     ]
    },
    {
     "name": "stderr",
     "output_type": "stream",
     "text": [
      "\r",
      " 40%|████████████████████████████████████████████████████████████████▎                                                                                                | 1380/3455 [01:42<02:35, 13.33it/s]"
     ]
    },
    {
     "name": "stdout",
     "output_type": "stream",
     "text": [
      "410226 2022 0\n",
      "3392417 2022 0\n",
      "2802775 2022 0\n"
     ]
    },
    {
     "name": "stderr",
     "output_type": "stream",
     "text": [
      " 40%|████████████████████████████████████████████████████████████████▍                                                                                                | 1384/3455 [01:42<02:34, 13.37it/s]"
     ]
    },
    {
     "name": "stdout",
     "output_type": "stream",
     "text": [
      "2812775 2022 0\n",
      "4062377 2022 0\n",
      "3842375 2022 0\n"
     ]
    },
    {
     "name": "stderr",
     "output_type": "stream",
     "text": [
      "\r",
      " 40%|████████████████████████████████████████████████████████████████▌                                                                                                | 1386/3455 [01:42<02:34, 13.43it/s]"
     ]
    },
    {
     "name": "stdout",
     "output_type": "stream",
     "text": [
      "3902734 2022 0\n",
      "4512720 2022 0\n",
      "4332768 2022 0\n"
     ]
    },
    {
     "name": "stderr",
     "output_type": "stream",
     "text": [
      " 40%|████████████████████████████████████████████████████████████████▊                                                                                                | 1390/3455 [01:43<02:32, 13.52it/s]"
     ]
    },
    {
     "name": "stdout",
     "output_type": "stream",
     "text": [
      "4912376 2022 0\n",
      "4902379 2022 0\n",
      "4902374 2022 0\n"
     ]
    },
    {
     "name": "stderr",
     "output_type": "stream",
     "text": [
      "\r",
      " 40%|████████████████████████████████████████████████████████████████▊                                                                                                | 1392/3455 [01:43<02:33, 13.48it/s]"
     ]
    },
    {
     "name": "stdout",
     "output_type": "stream",
     "text": [
      "4512673 2022 0\n",
      "4682679 2022 0\n",
      "4692460 2022 0\n"
     ]
    },
    {
     "name": "stderr",
     "output_type": "stream",
     "text": [
      " 40%|█████████████████████████████████████████████████████████████████                                                                                                | 1396/3455 [01:43<02:33, 13.43it/s]"
     ]
    },
    {
     "name": "stdout",
     "output_type": "stream",
     "text": [
      "4242863 2022 0\n",
      "4912377 2022 0\n",
      "4912372 2022 0\n"
     ]
    },
    {
     "name": "stderr",
     "output_type": "stream",
     "text": [
      "\r",
      " 40%|█████████████████████████████████████████████████████████████████▏                                                                                               | 1398/3455 [01:43<02:33, 13.41it/s]"
     ]
    },
    {
     "name": "stdout",
     "output_type": "stream",
     "text": [
      "4432860 2022 0\n",
      "4922381 2022 0\n",
      "4912379 2022 0\n"
     ]
    },
    {
     "name": "stderr",
     "output_type": "stream",
     "text": [
      " 41%|█████████████████████████████████████████████████████████████████▎                                                                                               | 1402/3455 [01:44<02:32, 13.44it/s]"
     ]
    },
    {
     "name": "stdout",
     "output_type": "stream",
     "text": [
      "3732799 2022 0\n",
      "4322815 2022 0\n",
      "4532906 2022 0\n"
     ]
    },
    {
     "name": "stderr",
     "output_type": "stream",
     "text": [
      "\r",
      " 41%|█████████████████████████████████████████████████████████████████▍                                                                                               | 1404/3455 [01:44<02:32, 13.42it/s]"
     ]
    },
    {
     "name": "stdout",
     "output_type": "stream",
     "text": [
      "4242877 2022 0\n",
      "4902376 2022 0\n",
      "4092869 2022 0\n"
     ]
    },
    {
     "name": "stderr",
     "output_type": "stream",
     "text": [
      " 41%|█████████████████████████████████████████████████████████████████▌                                                                                               | 1408/3455 [01:44<02:32, 13.40it/s]"
     ]
    },
    {
     "name": "stdout",
     "output_type": "stream",
     "text": [
      "3732521 2022 0\n",
      "4912378 2022 0\n",
      "4902377 2022 0\n"
     ]
    },
    {
     "name": "stderr",
     "output_type": "stream",
     "text": [
      "\r",
      " 41%|█████████████████████████████████████████████████████████████████▋                                                                                               | 1410/3455 [01:44<02:32, 13.37it/s]"
     ]
    },
    {
     "name": "stdout",
     "output_type": "stream",
     "text": [
      "4922371 2022 0\n",
      "4842374 2022 0\n",
      "3512533 2022 0\n"
     ]
    },
    {
     "name": "stderr",
     "output_type": "stream",
     "text": [
      " 41%|█████████████████████████████████████████████████████████████████▉                                                                                               | 1414/3455 [01:45<02:31, 13.46it/s]"
     ]
    },
    {
     "name": "stdout",
     "output_type": "stream",
     "text": [
      "4332811 2022 0\n",
      "4032390 2022 0\n",
      "4442364 2022 0\n"
     ]
    },
    {
     "name": "stderr",
     "output_type": "stream",
     "text": [
      "\r",
      " 41%|█████████████████████████████████████████████████████████████████▉                                                                                               | 1416/3455 [01:45<02:31, 13.43it/s]"
     ]
    },
    {
     "name": "stdout",
     "output_type": "stream",
     "text": [
      "4252886 2022 0\n",
      "4442917 2022 0\n",
      "4912381 2022 0\n"
     ]
    },
    {
     "name": "stderr",
     "output_type": "stream",
     "text": [
      " 41%|██████████████████████████████████████████████████████████████████▏                                                                                              | 1420/3455 [01:45<02:31, 13.47it/s]"
     ]
    },
    {
     "name": "stdout",
     "output_type": "stream",
     "text": [
      "3812816 2022 0\n",
      "3952551 2022 0\n",
      "4232744 2022 0\n"
     ]
    },
    {
     "name": "stderr",
     "output_type": "stream",
     "text": [
      "\r",
      " 41%|██████████████████████████████████████████████████████████████████▎                                                                                              | 1422/3455 [01:45<02:31, 13.40it/s]"
     ]
    },
    {
     "name": "stdout",
     "output_type": "stream",
     "text": [
      "4752381 2022 0\n",
      "4442716 2022 0\n",
      "4662480 2022 0\n"
     ]
    },
    {
     "name": "stderr",
     "output_type": "stream",
     "text": [
      " 41%|██████████████████████████████████████████████████████████████████▍                                                                                              | 1426/3455 [01:45<02:31, 13.43it/s]"
     ]
    },
    {
     "name": "stdout",
     "output_type": "stream",
     "text": [
      "4912375 2022 0\n",
      "4312811 2022 0\n",
      "4172663 2022 0\n"
     ]
    },
    {
     "name": "stderr",
     "output_type": "stream",
     "text": [
      "\r",
      " 41%|██████████████████████████████████████████████████████████████████▌                                                                                              | 1428/3455 [01:46<02:31, 13.40it/s]"
     ]
    },
    {
     "name": "stdout",
     "output_type": "stream",
     "text": [
      "4402890 2022 0\n",
      "4912374 2022 0\n",
      "4062482 2022 0\n"
     ]
    },
    {
     "name": "stderr",
     "output_type": "stream",
     "text": [
      " 41%|██████████████████████████████████████████████████████████████████▋                                                                                              | 1432/3455 [01:46<02:30, 13.41it/s]"
     ]
    },
    {
     "name": "stdout",
     "output_type": "stream",
     "text": [
      "3902741 2022 0\n",
      "4482368 2022 0\n",
      "4572500 2022 0\n"
     ]
    },
    {
     "name": "stderr",
     "output_type": "stream",
     "text": [
      "\r",
      " 42%|██████████████████████████████████████████████████████████████████▊                                                                                              | 1434/3455 [01:46<02:30, 13.39it/s]"
     ]
    },
    {
     "name": "stdout",
     "output_type": "stream",
     "text": [
      "3552775 2022 0\n",
      "3572540 2022 0\n",
      "4292594 2022 0\n"
     ]
    },
    {
     "name": "stderr",
     "output_type": "stream",
     "text": [
      " 42%|███████████████████████████████████████████████████████████████████                                                                                              | 1438/3455 [01:46<02:30, 13.38it/s]"
     ]
    },
    {
     "name": "stdout",
     "output_type": "stream",
     "text": [
      "4502676 2022 0\n",
      "4222716 2022 0\n",
      "480131 2022 0\n"
     ]
    },
    {
     "name": "stderr",
     "output_type": "stream",
     "text": [
      "\r",
      " 42%|███████████████████████████████████████████████████████████████████                                                                                              | 1440/3455 [01:47<02:29, 13.47it/s]"
     ]
    },
    {
     "name": "stdout",
     "output_type": "stream",
     "text": [
      "472155 2022 0\n",
      "478151 2022 0\n",
      "482167 2022 0\n"
     ]
    },
    {
     "name": "stderr",
     "output_type": "stream",
     "text": [
      " 42%|███████████████████████████████████████████████████████████████████▎                                                                                             | 1444/3455 [01:47<02:28, 13.53it/s]"
     ]
    },
    {
     "name": "stdout",
     "output_type": "stream",
     "text": [
      "483156 2022 0\n",
      "487161 2022 0\n",
      "490102 2022 0\n"
     ]
    },
    {
     "name": "stderr",
     "output_type": "stream",
     "text": [
      "\r",
      " 42%|███████████████████████████████████████████████████████████████████▍                                                                                             | 1446/3455 [01:47<02:28, 13.53it/s]"
     ]
    },
    {
     "name": "stdout",
     "output_type": "stream",
     "text": [
      "48695 2022 0\n",
      "49091 2022 0\n",
      "484128 2022 0\n"
     ]
    },
    {
     "name": "stderr",
     "output_type": "stream",
     "text": [
      " 42%|███████████████████████████████████████████████████████████████████▌                                                                                             | 1450/3455 [01:47<02:29, 13.45it/s]"
     ]
    },
    {
     "name": "stdout",
     "output_type": "stream",
     "text": [
      "49685 2022 0\n",
      "48580 2022 0\n",
      "52073 2022 0\n"
     ]
    },
    {
     "name": "stderr",
     "output_type": "stream",
     "text": [
      "\r",
      " 42%|███████████████████████████████████████████████████████████████████▋                                                                                             | 1452/3455 [01:47<02:29, 13.43it/s]"
     ]
    },
    {
     "name": "stdout",
     "output_type": "stream",
     "text": [
      "49787 2022 0\n",
      "50080 2022 0\n",
      "48991 2022 0\n"
     ]
    },
    {
     "name": "stderr",
     "output_type": "stream",
     "text": [
      " 42%|███████████████████████████████████████████████████████████████████▊                                                                                             | 1456/3455 [01:48<02:28, 13.42it/s]"
     ]
    },
    {
     "name": "stdout",
     "output_type": "stream",
     "text": [
      "489126 2022 0\n",
      "49587 2022 0\n",
      "542100 2022 0\n"
     ]
    },
    {
     "name": "stderr",
     "output_type": "stream",
     "text": [
      "\r",
      " 42%|███████████████████████████████████████████████████████████████████▉                                                                                             | 1458/3455 [01:48<02:29, 13.39it/s]"
     ]
    },
    {
     "name": "stdout",
     "output_type": "stream",
     "text": [
      "488130 2022 0\n",
      "488128 2022 0\n",
      "50290 2022 0\n"
     ]
    },
    {
     "name": "stderr",
     "output_type": "stream",
     "text": [
      " 42%|████████████████████████████████████████████████████████████████████▏                                                                                            | 1462/3455 [01:48<02:28, 13.40it/s]"
     ]
    },
    {
     "name": "stdout",
     "output_type": "stream",
     "text": [
      "49388 2022 0\n",
      "49087 2022 0\n",
      "479120 2022 0\n"
     ]
    },
    {
     "name": "stderr",
     "output_type": "stream",
     "text": [
      "\r",
      " 42%|████████████████████████████████████████████████████████████████████▏                                                                                            | 1464/3455 [01:48<02:28, 13.42it/s]"
     ]
    },
    {
     "name": "stdout",
     "output_type": "stream",
     "text": [
      "488113 2022 0\n",
      "486104 2022 0\n",
      "51873 2022 0\n"
     ]
    },
    {
     "name": "stderr",
     "output_type": "stream",
     "text": [
      " 42%|████████████████████████████████████████████████████████████████████▍                                                                                            | 1468/3455 [01:49<02:27, 13.45it/s]"
     ]
    },
    {
     "name": "stdout",
     "output_type": "stream",
     "text": [
      "49293 2022 0\n",
      "484103 2022 0\n",
      "49094 2022 0\n"
     ]
    },
    {
     "name": "stderr",
     "output_type": "stream",
     "text": [
      "\r",
      " 43%|████████████████████████████████████████████████████████████████████▌                                                                                            | 1470/3455 [01:49<02:28, 13.34it/s]"
     ]
    },
    {
     "name": "stdout",
     "output_type": "stream",
     "text": [
      "47676 2022 0\n",
      "488105 2022 0\n",
      "522141 2022 0\n"
     ]
    },
    {
     "name": "stderr",
     "output_type": "stream",
     "text": [
      " 43%|████████████████████████████████████████████████████████████████████▋                                                                                            | 1474/3455 [01:49<02:27, 13.44it/s]"
     ]
    },
    {
     "name": "stdout",
     "output_type": "stream",
     "text": [
      "50583 2022 0\n",
      "520101 2022 0\n",
      "50189 2022 0\n"
     ]
    },
    {
     "name": "stderr",
     "output_type": "stream",
     "text": [
      "\r",
      " 43%|████████████████████████████████████████████████████████████████████▊                                                                                            | 1476/3455 [01:49<02:27, 13.43it/s]"
     ]
    },
    {
     "name": "stdout",
     "output_type": "stream",
     "text": [
      "500108 2022 0\n",
      "497100 2022 0\n",
      "52389 2022 0\n"
     ]
    },
    {
     "name": "stderr",
     "output_type": "stream",
     "text": [
      " 43%|████████████████████████████████████████████████████████████████████▉                                                                                            | 1480/3455 [01:49<02:26, 13.49it/s]"
     ]
    },
    {
     "name": "stdout",
     "output_type": "stream",
     "text": [
      "50588 2022 0\n",
      "49191 2022 0\n",
      "49598 2022 0\n"
     ]
    },
    {
     "name": "stderr",
     "output_type": "stream",
     "text": [
      "\r",
      " 43%|█████████████████████████████████████████████████████████████████████                                                                                            | 1482/3455 [01:50<02:26, 13.44it/s]"
     ]
    },
    {
     "name": "stdout",
     "output_type": "stream",
     "text": [
      "523104 2022 0\n",
      "52388 2022 0\n",
      "508100 2022 0\n"
     ]
    },
    {
     "name": "stderr",
     "output_type": "stream",
     "text": [
      " 43%|█████████████████████████████████████████████████████████████████████▏                                                                                           | 1486/3455 [01:50<02:25, 13.55it/s]"
     ]
    },
    {
     "name": "stdout",
     "output_type": "stream",
     "text": [
      "51494 2022 0\n",
      "496102 2022 0\n",
      "504104 2022 0\n"
     ]
    },
    {
     "name": "stderr",
     "output_type": "stream",
     "text": [
      "\r",
      " 43%|█████████████████████████████████████████████████████████████████████▎                                                                                           | 1488/3455 [01:50<02:26, 13.45it/s]"
     ]
    },
    {
     "name": "stdout",
     "output_type": "stream",
     "text": [
      "533139 2022 0\n",
      "496118 2022 0\n",
      "490112 2022 0\n"
     ]
    },
    {
     "name": "stderr",
     "output_type": "stream",
     "text": [
      " 43%|█████████████████████████████████████████████████████████████████████▌                                                                                           | 1492/3455 [01:50<02:26, 13.40it/s]"
     ]
    },
    {
     "name": "stdout",
     "output_type": "stream",
     "text": [
      "497102 2022 0\n",
      "51492 2022 0\n",
      "50264 2022 0\n"
     ]
    },
    {
     "name": "stderr",
     "output_type": "stream",
     "text": [
      "\r",
      " 43%|█████████████████████████████████████████████████████████████████████▌                                                                                           | 1494/3455 [01:51<02:27, 13.30it/s]"
     ]
    },
    {
     "name": "stdout",
     "output_type": "stream",
     "text": [
      "488135 2022 0\n",
      "492114 2022 0\n",
      "53385 2022 0\n"
     ]
    },
    {
     "name": "stderr",
     "output_type": "stream",
     "text": [
      " 43%|█████████████████████████████████████████████████████████████████████▊                                                                                           | 1498/3455 [01:51<02:27, 13.26it/s]"
     ]
    },
    {
     "name": "stdout",
     "output_type": "stream",
     "text": [
      "491129 2022 0\n",
      "483119 2022 0\n",
      "485118 2022 0\n"
     ]
    },
    {
     "name": "stderr",
     "output_type": "stream",
     "text": [
      "\r",
      " 43%|█████████████████████████████████████████████████████████████████████▉                                                                                           | 1500/3455 [01:51<02:27, 13.24it/s]"
     ]
    },
    {
     "name": "stdout",
     "output_type": "stream",
     "text": [
      "480121 2022 0\n",
      "487120 2022 0\n",
      "484124 2022 0\n"
     ]
    },
    {
     "name": "stderr",
     "output_type": "stream",
     "text": [
      " 44%|██████████████████████████████████████████████████████████████████████                                                                                           | 1504/3455 [01:51<02:26, 13.28it/s]"
     ]
    },
    {
     "name": "stdout",
     "output_type": "stream",
     "text": [
      "490115 2022 0\n",
      "51099 2022 0\n",
      "494105 2022 0\n"
     ]
    },
    {
     "name": "stderr",
     "output_type": "stream",
     "text": [
      "\r",
      " 44%|██████████████████████████████████████████████████████████████████████▏                                                                                          | 1506/3455 [01:51<02:26, 13.33it/s]"
     ]
    },
    {
     "name": "stdout",
     "output_type": "stream",
     "text": [
      "520143 2022 0\n",
      "499113 2022 0\n",
      "484114 2022 0\n"
     ]
    },
    {
     "name": "stderr",
     "output_type": "stream",
     "text": [
      " 44%|██████████████████████████████████████████████████████████████████████▎                                                                                          | 1510/3455 [01:52<02:25, 13.40it/s]"
     ]
    },
    {
     "name": "stdout",
     "output_type": "stream",
     "text": [
      "49988 2022 0\n",
      "500110 2022 0\n",
      "527102 2022 0\n"
     ]
    },
    {
     "name": "stderr",
     "output_type": "stream",
     "text": [
      "\r",
      " 44%|██████████████████████████████████████████████████████████████████████▍                                                                                          | 1512/3455 [01:52<02:25, 13.35it/s]"
     ]
    },
    {
     "name": "stdout",
     "output_type": "stream",
     "text": [
      "482107 2022 0\n",
      "502104 2022 0\n",
      "480102 2022 0\n"
     ]
    },
    {
     "name": "stderr",
     "output_type": "stream",
     "text": [
      " 44%|██████████████████████████████████████████████████████████████████████▋                                                                                          | 1516/3455 [01:52<02:25, 13.36it/s]"
     ]
    },
    {
     "name": "stdout",
     "output_type": "stream",
     "text": [
      "530140 2022 0\n",
      "51599 2022 0\n",
      "53399 2022 0\n"
     ]
    },
    {
     "name": "stderr",
     "output_type": "stream",
     "text": [
      "\r",
      " 44%|██████████████████████████████████████████████████████████████████████▋                                                                                          | 1518/3455 [01:52<02:25, 13.30it/s]"
     ]
    },
    {
     "name": "stdout",
     "output_type": "stream",
     "text": [
      "51094 2022 0\n",
      "527142 2022 0\n",
      "499110 2022 0\n"
     ]
    },
    {
     "name": "stderr",
     "output_type": "stream",
     "text": [
      " 44%|██████████████████████████████████████████████████████████████████████▉                                                                                          | 1522/3455 [01:53<02:25, 13.31it/s]"
     ]
    },
    {
     "name": "stdout",
     "output_type": "stream",
     "text": [
      "490110 2022 0\n",
      "493108 2022 0\n",
      "478120 2022 0\n"
     ]
    },
    {
     "name": "stderr",
     "output_type": "stream",
     "text": [
      "\r",
      " 44%|███████████████████████████████████████████████████████████████████████                                                                                          | 1524/3455 [01:53<02:25, 13.30it/s]"
     ]
    },
    {
     "name": "stdout",
     "output_type": "stream",
     "text": [
      "493128 2022 0\n",
      "479110 2022 0\n",
      "491125 2022 0\n"
     ]
    },
    {
     "name": "stderr",
     "output_type": "stream",
     "text": [
      " 44%|███████████████████████████████████████████████████████████████████████▏                                                                                         | 1528/3455 [01:53<02:24, 13.29it/s]"
     ]
    },
    {
     "name": "stdout",
     "output_type": "stream",
     "text": [
      "487102 2022 0\n",
      "499119 2022 0\n",
      "522110 2022 0\n"
     ]
    },
    {
     "name": "stderr",
     "output_type": "stream",
     "text": [
      "\r",
      " 44%|███████████████████████████████████████████████████████████████████████▎                                                                                         | 1530/3455 [01:53<02:24, 13.31it/s]"
     ]
    },
    {
     "name": "stdout",
     "output_type": "stream",
     "text": [
      "53282 2022 0\n",
      "51484 2022 0\n",
      "503119 2022 0\n"
     ]
    },
    {
     "name": "stderr",
     "output_type": "stream",
     "text": [
      " 44%|███████████████████████████████████████████████████████████████████████▍                                                                                         | 1534/3455 [01:54<02:23, 13.35it/s]"
     ]
    },
    {
     "name": "stdout",
     "output_type": "stream",
     "text": [
      "524130 2022 0\n",
      "528130 2022 0\n",
      "494127 2022 0\n"
     ]
    },
    {
     "name": "stderr",
     "output_type": "stream",
     "text": [
      "\r",
      " 44%|███████████████████████████████████████████████████████████████████████▌                                                                                         | 1536/3455 [01:54<02:23, 13.36it/s]"
     ]
    },
    {
     "name": "stdout",
     "output_type": "stream",
     "text": [
      "493119 2022 0\n",
      "53279 2022 0\n",
      "475103 2022 0\n"
     ]
    },
    {
     "name": "stderr",
     "output_type": "stream",
     "text": [
      " 45%|███████████████████████████████████████████████████████████████████████▊                                                                                         | 1540/3455 [01:54<02:21, 13.54it/s]"
     ]
    },
    {
     "name": "stdout",
     "output_type": "stream",
     "text": [
      "498120 2022 0\n",
      "51290 2022 0\n",
      "478109 2022 0\n"
     ]
    },
    {
     "name": "stderr",
     "output_type": "stream",
     "text": [
      "\r",
      " 45%|███████████████████████████████████████████████████████████████████████▊                                                                                         | 1542/3455 [01:54<02:21, 13.53it/s]"
     ]
    },
    {
     "name": "stdout",
     "output_type": "stream",
     "text": [
      "535105 2022 0\n",
      "541108 2022 0\n",
      "54492 2022 0\n"
     ]
    },
    {
     "name": "stderr",
     "output_type": "stream",
     "text": [
      " 45%|████████████████████████████████████████████████████████████████████████                                                                                         | 1546/3455 [01:54<02:20, 13.55it/s]"
     ]
    },
    {
     "name": "stdout",
     "output_type": "stream",
     "text": [
      "51498 2022 0\n",
      "504108 2022 0\n",
      "500112 2022 0\n"
     ]
    },
    {
     "name": "stderr",
     "output_type": "stream",
     "text": [
      "\r",
      " 45%|████████████████████████████████████████████████████████████████████████▏                                                                                        | 1548/3455 [01:55<02:20, 13.55it/s]"
     ]
    },
    {
     "name": "stdout",
     "output_type": "stream",
     "text": [
      "503105 2022 0\n",
      "477114 2022 0\n",
      "495117 2022 0\n"
     ]
    },
    {
     "name": "stderr",
     "output_type": "stream",
     "text": [
      " 45%|████████████████████████████████████████████████████████████████████████▎                                                                                        | 1552/3455 [01:55<02:19, 13.60it/s]"
     ]
    },
    {
     "name": "stdout",
     "output_type": "stream",
     "text": [
      "545111 2022 0\n",
      "50694 2022 0\n",
      "485101 2022 0\n"
     ]
    },
    {
     "name": "stderr",
     "output_type": "stream",
     "text": [
      "\r",
      " 45%|████████████████████████████████████████████████████████████████████████▍                                                                                        | 1554/3455 [01:55<02:19, 13.61it/s]"
     ]
    },
    {
     "name": "stdout",
     "output_type": "stream",
     "text": [
      "499124 2022 0\n",
      "51998 2022 0\n",
      "537132 2022 0\n"
     ]
    },
    {
     "name": "stderr",
     "output_type": "stream",
     "text": [
      " 45%|████████████████████████████████████████████████████████████████████████▌                                                                                        | 1558/3455 [01:55<02:21, 13.42it/s]"
     ]
    },
    {
     "name": "stdout",
     "output_type": "stream",
     "text": [
      "494114 2022 0\n",
      "50981 2022 0\n",
      "500121 2022 0\n"
     ]
    },
    {
     "name": "stderr",
     "output_type": "stream",
     "text": [
      "\r",
      " 45%|████████████████████████████████████████████████████████████████████████▋                                                                                        | 1560/3455 [01:55<02:20, 13.46it/s]"
     ]
    },
    {
     "name": "stdout",
     "output_type": "stream",
     "text": [
      "501116 2022 0\n",
      "49973 2022 0\n",
      "480109 2022 0\n"
     ]
    },
    {
     "name": "stderr",
     "output_type": "stream",
     "text": [
      " 45%|████████████████████████████████████████████████████████████████████████▉                                                                                        | 1564/3455 [01:56<02:19, 13.54it/s]"
     ]
    },
    {
     "name": "stdout",
     "output_type": "stream",
     "text": [
      "491127 2022 0\n",
      "501119 2022 0\n",
      "498116 2022 0\n"
     ]
    },
    {
     "name": "stderr",
     "output_type": "stream",
     "text": [
      "\r",
      " 45%|████████████████████████████████████████████████████████████████████████▉                                                                                        | 1566/3455 [01:56<02:19, 13.51it/s]"
     ]
    },
    {
     "name": "stdout",
     "output_type": "stream",
     "text": [
      "49199 2022 0\n",
      "488138 2022 0\n",
      "53888 2022 0\n"
     ]
    },
    {
     "name": "stderr",
     "output_type": "stream",
     "text": [
      " 45%|█████████████████████████████████████████████████████████████████████████▏                                                                                       | 1570/3455 [01:56<02:19, 13.52it/s]"
     ]
    },
    {
     "name": "stdout",
     "output_type": "stream",
     "text": [
      "49786 2022 0\n",
      "514142 2022 0\n",
      "49684 2022 0\n"
     ]
    },
    {
     "name": "stderr",
     "output_type": "stream",
     "text": [
      "\r",
      " 45%|█████████████████████████████████████████████████████████████████████████▎                                                                                       | 1572/3455 [01:56<02:19, 13.49it/s]"
     ]
    },
    {
     "name": "stdout",
     "output_type": "stream",
     "text": [
      "49485 2022 0\n",
      "48882 2022 0\n",
      "487108 2022 0\n"
     ]
    },
    {
     "name": "stderr",
     "output_type": "stream",
     "text": [
      " 46%|█████████████████████████████████████████████████████████████████████████▍                                                                                       | 1576/3455 [01:57<02:19, 13.48it/s]"
     ]
    },
    {
     "name": "stdout",
     "output_type": "stream",
     "text": [
      "49790 2022 0\n",
      "525104 2022 0\n",
      "52084 2022 0\n"
     ]
    },
    {
     "name": "stderr",
     "output_type": "stream",
     "text": [
      "\r",
      " 46%|█████████████████████████████████████████████████████████████████████████▌                                                                                       | 1578/3455 [01:57<02:19, 13.50it/s]"
     ]
    },
    {
     "name": "stdout",
     "output_type": "stream",
     "text": [
      "481105 2022 0\n",
      "492103 2022 0\n",
      "50787 2022 0\n"
     ]
    },
    {
     "name": "stderr",
     "output_type": "stream",
     "text": [
      " 46%|█████████████████████████████████████████████████████████████████████████▋                                                                                       | 1582/3455 [01:57<02:18, 13.50it/s]"
     ]
    },
    {
     "name": "stdout",
     "output_type": "stream",
     "text": [
      "50276 2022 0\n",
      "486122 2022 0\n",
      "486136 2022 0\n"
     ]
    },
    {
     "name": "stderr",
     "output_type": "stream",
     "text": [
      "\r",
      " 46%|█████████████████████████████████████████████████████████████████████████▊                                                                                       | 1584/3455 [01:57<02:18, 13.48it/s]"
     ]
    },
    {
     "name": "stdout",
     "output_type": "stream",
     "text": [
      "538122 2022 0\n",
      "50293 2022 0\n",
      "49184 2022 0\n"
     ]
    },
    {
     "name": "stderr",
     "output_type": "stream",
     "text": [
      " 46%|█████████████████████████████████████████████████████████████████████████▉                                                                                       | 1588/3455 [01:58<02:19, 13.39it/s]"
     ]
    },
    {
     "name": "stdout",
     "output_type": "stream",
     "text": [
      "530106 2022 0\n",
      "486103 2022 0\n",
      "530134 2022 0\n"
     ]
    },
    {
     "name": "stderr",
     "output_type": "stream",
     "text": [
      "\r",
      " 46%|██████████████████████████████████████████████████████████████████████████                                                                                       | 1590/3455 [01:58<02:19, 13.41it/s]"
     ]
    },
    {
     "name": "stdout",
     "output_type": "stream",
     "text": [
      "49890 2022 0\n",
      "486100 2022 0\n",
      "48482 2022 0\n"
     ]
    },
    {
     "name": "stderr",
     "output_type": "stream",
     "text": [
      " 46%|██████████████████████████████████████████████████████████████████████████▎                                                                                      | 1594/3455 [01:58<02:19, 13.29it/s]"
     ]
    },
    {
     "name": "stdout",
     "output_type": "stream",
     "text": [
      "496124 2022 0\n",
      "51087 2022 0\n",
      "502102 2022 0\n"
     ]
    },
    {
     "name": "stderr",
     "output_type": "stream",
     "text": [
      "\r",
      " 46%|██████████████████████████████████████████████████████████████████████████▎                                                                                      | 1596/3455 [01:58<02:19, 13.32it/s]"
     ]
    },
    {
     "name": "stdout",
     "output_type": "stream",
     "text": [
      "52693 2022 0\n",
      "49497 2022 0\n",
      "48698 2022 0\n"
     ]
    },
    {
     "name": "stderr",
     "output_type": "stream",
     "text": [
      " 46%|██████████████████████████████████████████████████████████████████████████▌                                                                                      | 1600/3455 [01:58<02:18, 13.44it/s]"
     ]
    },
    {
     "name": "stdout",
     "output_type": "stream",
     "text": [
      "49886 2022 0\n",
      "50298 2022 0\n",
      "477129 2022 0\n"
     ]
    },
    {
     "name": "stderr",
     "output_type": "stream",
     "text": [
      "\r",
      " 46%|██████████████████████████████████████████████████████████████████████████▋                                                                                      | 1602/3455 [01:59<02:17, 13.44it/s]"
     ]
    },
    {
     "name": "stdout",
     "output_type": "stream",
     "text": [
      "51395 2022 0\n",
      "53083 2022 0\n",
      "541134 2022 0\n"
     ]
    },
    {
     "name": "stderr",
     "output_type": "stream",
     "text": [
      " 46%|██████████████████████████████████████████████████████████████████████████▊                                                                                      | 1606/3455 [01:59<02:16, 13.57it/s]"
     ]
    },
    {
     "name": "stdout",
     "output_type": "stream",
     "text": [
      "476105 2022 0\n",
      "487123 2022 0\n",
      "494126 2022 0\n"
     ]
    },
    {
     "name": "stderr",
     "output_type": "stream",
     "text": [
      "\r",
      " 47%|██████████████████████████████████████████████████████████████████████████▉                                                                                      | 1608/3455 [01:59<02:16, 13.53it/s]"
     ]
    },
    {
     "name": "stdout",
     "output_type": "stream",
     "text": [
      "50593 2022 0\n",
      "49276 2022 0\n",
      "51666 2022 0\n"
     ]
    },
    {
     "name": "stderr",
     "output_type": "stream",
     "text": [
      " 47%|███████████████████████████████████████████████████████████████████████████                                                                                      | 1612/3455 [01:59<02:15, 13.55it/s]"
     ]
    },
    {
     "name": "stdout",
     "output_type": "stream",
     "text": [
      "48379 2022 0\n",
      "52988 2022 0\n",
      "50873 2022 0\n"
     ]
    },
    {
     "name": "stderr",
     "output_type": "stream",
     "text": [
      "\r",
      " 47%|███████████████████████████████████████████████████████████████████████████▏                                                                                     | 1614/3455 [01:59<02:16, 13.50it/s]"
     ]
    },
    {
     "name": "stdout",
     "output_type": "stream",
     "text": [
      "50968 2022 0\n",
      "51297 2022 0\n",
      "478126 2022 0\n"
     ]
    },
    {
     "name": "stderr",
     "output_type": "stream",
     "text": [
      " 47%|███████████████████████████████████████████████████████████████████████████▍                                                                                     | 1618/3455 [02:00<02:16, 13.51it/s]"
     ]
    },
    {
     "name": "stdout",
     "output_type": "stream",
     "text": [
      "50895 2022 0\n",
      "52785 2022 0\n",
      "488133 2022 0\n"
     ]
    },
    {
     "name": "stderr",
     "output_type": "stream",
     "text": [
      "\r",
      " 47%|███████████████████████████████████████████████████████████████████████████▍                                                                                     | 1620/3455 [02:00<02:15, 13.50it/s]"
     ]
    },
    {
     "name": "stdout",
     "output_type": "stream",
     "text": [
      "489132 2022 0\n",
      "531101 2022 0\n",
      "49796 2022 0\n"
     ]
    },
    {
     "name": "stderr",
     "output_type": "stream",
     "text": [
      " 47%|███████████████████████████████████████████████████████████████████████████▋                                                                                     | 1624/3455 [02:00<02:15, 13.55it/s]"
     ]
    },
    {
     "name": "stdout",
     "output_type": "stream",
     "text": [
      "48090 2022 0\n",
      "503117 2022 0\n",
      "48381 2022 0\n"
     ]
    },
    {
     "name": "stderr",
     "output_type": "stream",
     "text": [
      "\r",
      " 47%|███████████████████████████████████████████████████████████████████████████▊                                                                                     | 1626/3455 [02:00<02:17, 13.27it/s]"
     ]
    },
    {
     "name": "stdout",
     "output_type": "stream",
     "text": [
      "52691 2022 0\n",
      "48883 2022 0\n",
      "496112 2022 0\n"
     ]
    },
    {
     "name": "stderr",
     "output_type": "stream",
     "text": [
      " 47%|███████████████████████████████████████████████████████████████████████████▉                                                                                     | 1630/3455 [02:01<02:17, 13.24it/s]"
     ]
    },
    {
     "name": "stdout",
     "output_type": "stream",
     "text": [
      "536114 2022 0\n",
      "49866 2022 0\n",
      "53195 2022 0\n"
     ]
    },
    {
     "name": "stderr",
     "output_type": "stream",
     "text": [
      "\r",
      " 47%|████████████████████████████████████████████████████████████████████████████                                                                                     | 1632/3455 [02:01<02:17, 13.22it/s]"
     ]
    },
    {
     "name": "stdout",
     "output_type": "stream",
     "text": [
      "49578 2022 0\n",
      "522142 2022 0\n",
      "50286 2022 0\n"
     ]
    },
    {
     "name": "stderr",
     "output_type": "stream",
     "text": [
      " 47%|████████████████████████████████████████████████████████████████████████████▏                                                                                    | 1636/3455 [02:01<02:16, 13.35it/s]"
     ]
    },
    {
     "name": "stdout",
     "output_type": "stream",
     "text": [
      "49576 2022 0\n",
      "522101 2022 0\n",
      "51784 2022 0\n"
     ]
    },
    {
     "name": "stderr",
     "output_type": "stream",
     "text": [
      "\r",
      " 47%|████████████████████████████████████████████████████████████████████████████▎                                                                                    | 1638/3455 [02:01<02:16, 13.36it/s]"
     ]
    },
    {
     "name": "stdout",
     "output_type": "stream",
     "text": [
      "53787 2022 0\n",
      "522106 2022 0\n",
      "51567 2022 0\n"
     ]
    },
    {
     "name": "stderr",
     "output_type": "stream",
     "text": [
      " 48%|████████████████████████████████████████████████████████████████████████████▌                                                                                    | 1642/3455 [02:02<02:14, 13.46it/s]"
     ]
    },
    {
     "name": "stdout",
     "output_type": "stream",
     "text": [
      "51792 2022 0\n",
      "539103 2022 0\n",
      "530141 2022 0\n"
     ]
    },
    {
     "name": "stderr",
     "output_type": "stream",
     "text": [
      "\r",
      " 48%|████████████████████████████████████████████████████████████████████████████▌                                                                                    | 1644/3455 [02:02<02:15, 13.40it/s]"
     ]
    },
    {
     "name": "stdout",
     "output_type": "stream",
     "text": [
      "532108 2022 0\n",
      "529104 2022 0\n",
      "48397 2022 0\n"
     ]
    },
    {
     "name": "stderr",
     "output_type": "stream",
     "text": [
      " 48%|████████████████████████████████████████████████████████████████████████████▊                                                                                    | 1648/3455 [02:02<02:13, 13.51it/s]"
     ]
    },
    {
     "name": "stdout",
     "output_type": "stream",
     "text": [
      "51978 2022 0\n",
      "48688 2022 0\n",
      "49476 2022 0\n"
     ]
    },
    {
     "name": "stderr",
     "output_type": "stream",
     "text": [
      "\r",
      " 48%|████████████████████████████████████████████████████████████████████████████▉                                                                                    | 1650/3455 [02:02<02:15, 13.34it/s]"
     ]
    },
    {
     "name": "stdout",
     "output_type": "stream",
     "text": [
      "522107 2022 0\n",
      "536107 2022 0\n",
      "52199 2022 0\n"
     ]
    },
    {
     "name": "stderr",
     "output_type": "stream",
     "text": [
      " 48%|█████████████████████████████████████████████████████████████████████████████                                                                                    | 1654/3455 [02:02<02:13, 13.46it/s]"
     ]
    },
    {
     "name": "stdout",
     "output_type": "stream",
     "text": [
      "48989 2022 0\n",
      "53595 2022 0\n",
      "531106 2022 0\n"
     ]
    },
    {
     "name": "stderr",
     "output_type": "stream",
     "text": [
      "\r",
      " 48%|█████████████████████████████████████████████████████████████████████████████▏                                                                                   | 1656/3455 [02:03<02:14, 13.35it/s]"
     ]
    },
    {
     "name": "stdout",
     "output_type": "stream",
     "text": [
      "480117 2022 0\n",
      "53577 2022 0\n",
      "52471 2022 0\n"
     ]
    },
    {
     "name": "stderr",
     "output_type": "stream",
     "text": [
      " 48%|█████████████████████████████████████████████████████████████████████████████▎                                                                                   | 1660/3455 [02:03<02:13, 13.43it/s]"
     ]
    },
    {
     "name": "stdout",
     "output_type": "stream",
     "text": [
      "51178 2022 0\n",
      "489116 2022 0\n",
      "47887 2022 0\n"
     ]
    },
    {
     "name": "stderr",
     "output_type": "stream",
     "text": [
      "\r",
      " 48%|█████████████████████████████████████████████████████████████████████████████▍                                                                                   | 1662/3455 [02:03<02:13, 13.41it/s]"
     ]
    },
    {
     "name": "stdout",
     "output_type": "stream",
     "text": [
      "51287 2022 0\n",
      "516101 2022 0\n",
      "478108 2022 0\n"
     ]
    },
    {
     "name": "stderr",
     "output_type": "stream",
     "text": [
      " 48%|█████████████████████████████████████████████████████████████████████████████▋                                                                                   | 1666/3455 [02:03<02:13, 13.44it/s]"
     ]
    },
    {
     "name": "stdout",
     "output_type": "stream",
     "text": [
      "49188 2022 0\n",
      "492128 2022 0\n",
      "51693 2022 0\n"
     ]
    },
    {
     "name": "stderr",
     "output_type": "stream",
     "text": [
      "\r",
      " 48%|█████████████████████████████████████████████████████████████████████████████▋                                                                                   | 1668/3455 [02:03<02:12, 13.48it/s]"
     ]
    },
    {
     "name": "stdout",
     "output_type": "stream",
     "text": [
      "50668 2022 0\n",
      "48582 2022 0\n",
      "518143 2022 0\n"
     ]
    },
    {
     "name": "stderr",
     "output_type": "stream",
     "text": [
      " 48%|█████████████████████████████████████████████████████████████████████████████▉                                                                                   | 1672/3455 [02:04<02:12, 13.48it/s]"
     ]
    },
    {
     "name": "stdout",
     "output_type": "stream",
     "text": [
      "476107 2022 0\n",
      "48492 2022 0\n",
      "500103 2022 0\n"
     ]
    },
    {
     "name": "stderr",
     "output_type": "stream",
     "text": [
      "\r",
      " 48%|██████████████████████████████████████████████████████████████████████████████                                                                                   | 1674/3455 [02:04<02:12, 13.47it/s]"
     ]
    },
    {
     "name": "stdout",
     "output_type": "stream",
     "text": [
      "49985 2022 0\n",
      "49474 2022 0\n",
      "497119 2022 0\n"
     ]
    },
    {
     "name": "stderr",
     "output_type": "stream",
     "text": [
      " 49%|██████████████████████████████████████████████████████████████████████████████▏                                                                                  | 1678/3455 [02:04<02:11, 13.55it/s]"
     ]
    },
    {
     "name": "stdout",
     "output_type": "stream",
     "text": [
      "50299 2022 0\n",
      "492118 2022 0\n",
      "52189 2022 0\n"
     ]
    },
    {
     "name": "stderr",
     "output_type": "stream",
     "text": [
      "\r",
      " 49%|██████████████████████████████████████████████████████████████████████████████▎                                                                                  | 1680/3455 [02:04<02:11, 13.45it/s]"
     ]
    },
    {
     "name": "stdout",
     "output_type": "stream",
     "text": [
      "51763 2022 0\n",
      "50081 2022 0\n",
      "49096 2022 0\n"
     ]
    },
    {
     "name": "stderr",
     "output_type": "stream",
     "text": [
      " 49%|██████████████████████████████████████████████████████████████████████████████▍                                                                                  | 1684/3455 [02:05<02:11, 13.48it/s]"
     ]
    },
    {
     "name": "stdout",
     "output_type": "stream",
     "text": [
      "51474 2022 0\n",
      "54194 2022 0\n",
      "52686 2022 0\n"
     ]
    },
    {
     "name": "stderr",
     "output_type": "stream",
     "text": [
      "\r",
      " 49%|██████████████████████████████████████████████████████████████████████████████▌                                                                                  | 1686/3455 [02:05<02:11, 13.49it/s]"
     ]
    },
    {
     "name": "stdout",
     "output_type": "stream",
     "text": [
      "518101 2022 0\n",
      "54690 2022 0\n",
      "52997 2022 0\n"
     ]
    },
    {
     "name": "stderr",
     "output_type": "stream",
     "text": [
      " 49%|██████████████████████████████████████████████████████████████████████████████▊                                                                                  | 1690/3455 [02:05<02:10, 13.51it/s]"
     ]
    },
    {
     "name": "stdout",
     "output_type": "stream",
     "text": [
      "537108 2022 0\n",
      "53497 2022 0\n",
      "51362 2022 0\n"
     ]
    },
    {
     "name": "stderr",
     "output_type": "stream",
     "text": [
      "\r",
      " 49%|██████████████████████████████████████████████████████████████████████████████▊                                                                                  | 1692/3455 [02:05<02:11, 13.43it/s]"
     ]
    },
    {
     "name": "stdout",
     "output_type": "stream",
     "text": [
      "48085 2022 0\n",
      "500107 2022 0\n",
      "52080 2022 0\n"
     ]
    },
    {
     "name": "stderr",
     "output_type": "stream",
     "text": [
      " 49%|███████████████████████████████████████████████████████████████████████████████                                                                                  | 1696/3455 [02:06<02:10, 13.44it/s]"
     ]
    },
    {
     "name": "stdout",
     "output_type": "stream",
     "text": [
      "503118 2022 0\n",
      "48686 2022 0\n",
      "48483 2022 0\n"
     ]
    },
    {
     "name": "stderr",
     "output_type": "stream",
     "text": [
      "\r",
      " 49%|███████████████████████████████████████████████████████████████████████████████▏                                                                                 | 1698/3455 [02:06<02:10, 13.42it/s]"
     ]
    },
    {
     "name": "stdout",
     "output_type": "stream",
     "text": [
      "53793 2022 0\n",
      "53078 2022 0\n",
      "50663 2022 0\n"
     ]
    },
    {
     "name": "stderr",
     "output_type": "stream",
     "text": [
      " 49%|███████████████████████████████████████████████████████████████████████████████▎                                                                                 | 1702/3455 [02:06<02:09, 13.48it/s]"
     ]
    },
    {
     "name": "stdout",
     "output_type": "stream",
     "text": [
      "480126 2022 0\n",
      "48298 2022 0\n",
      "51662 2022 0\n"
     ]
    },
    {
     "name": "stderr",
     "output_type": "stream",
     "text": [
      "\r",
      " 49%|███████████████████████████████████████████████████████████████████████████████▍                                                                                 | 1704/3455 [02:06<02:09, 13.48it/s]"
     ]
    },
    {
     "name": "stdout",
     "output_type": "stream",
     "text": [
      "47792 2022 0\n",
      "51984 2022 0\n",
      "52494 2022 0\n"
     ]
    },
    {
     "name": "stderr",
     "output_type": "stream",
     "text": [
      " 49%|███████████████████████████████████████████████████████████████████████████████▌                                                                                 | 1708/3455 [02:06<02:09, 13.46it/s]"
     ]
    },
    {
     "name": "stdout",
     "output_type": "stream",
     "text": [
      "50480 2022 0\n",
      "489120 2022 0\n",
      "52892 2022 0\n"
     ]
    },
    {
     "name": "stderr",
     "output_type": "stream",
     "text": [
      "\r",
      " 49%|███████████████████████████████████████████████████████████████████████████████▋                                                                                 | 1710/3455 [02:07<02:09, 13.44it/s]"
     ]
    },
    {
     "name": "stdout",
     "output_type": "stream",
     "text": [
      "50979 2022 0\n",
      "531139 2022 0\n",
      "47784 2022 0\n"
     ]
    },
    {
     "name": "stderr",
     "output_type": "stream",
     "text": [
      " 50%|███████████████████████████████████████████████████████████████████████████████▊                                                                                 | 1714/3455 [02:07<02:08, 13.52it/s]"
     ]
    },
    {
     "name": "stdout",
     "output_type": "stream",
     "text": [
      "51091 2022 0\n",
      "48388 2022 0\n",
      "51590 2022 0\n"
     ]
    },
    {
     "name": "stderr",
     "output_type": "stream",
     "text": [
      "\r",
      " 50%|███████████████████████████████████████████████████████████████████████████████▉                                                                                 | 1716/3455 [02:07<02:08, 13.49it/s]"
     ]
    },
    {
     "name": "stdout",
     "output_type": "stream",
     "text": [
      "54791 2022 0\n",
      "523108 2022 0\n",
      "484122 2022 0\n"
     ]
    },
    {
     "name": "stderr",
     "output_type": "stream",
     "text": [
      " 50%|████████████████████████████████████████████████████████████████████████████████▏                                                                                | 1720/3455 [02:07<02:08, 13.47it/s]"
     ]
    },
    {
     "name": "stdout",
     "output_type": "stream",
     "text": [
      "52688 2022 0\n",
      "48885 2022 0\n",
      "50083 2022 0\n"
     ]
    },
    {
     "name": "stderr",
     "output_type": "stream",
     "text": [
      "\r",
      " 50%|████████████████████████████████████████████████████████████████████████████████▏                                                                                | 1722/3455 [02:07<02:08, 13.44it/s]"
     ]
    },
    {
     "name": "stdout",
     "output_type": "stream",
     "text": [
      "48176 2022 0\n",
      "51882 2022 0\n",
      "52380 2022 0\n"
     ]
    },
    {
     "name": "stderr",
     "output_type": "stream",
     "text": [
      " 50%|████████████████████████████████████████████████████████████████████████████████▍                                                                                | 1726/3455 [02:08<02:09, 13.38it/s]"
     ]
    },
    {
     "name": "stdout",
     "output_type": "stream",
     "text": [
      "48681 2022 0\n",
      "48886 2022 0\n",
      "49080 2022 0\n"
     ]
    },
    {
     "name": "stderr",
     "output_type": "stream",
     "text": [
      "\r",
      " 50%|████████████████████████████████████████████████████████████████████████████████▌                                                                                | 1728/3455 [02:08<02:08, 13.42it/s]"
     ]
    },
    {
     "name": "stdout",
     "output_type": "stream",
     "text": [
      "526123 2022 0\n",
      "486116 2022 0\n",
      "49899 2022 0\n"
     ]
    },
    {
     "name": "stderr",
     "output_type": "stream",
     "text": [
      " 50%|████████████████████████████████████████████████████████████████████████████████▋                                                                                | 1732/3455 [02:08<02:08, 13.45it/s]"
     ]
    },
    {
     "name": "stdout",
     "output_type": "stream",
     "text": [
      "535106 2022 0\n",
      "50698 2022 0\n",
      "50888 2022 0\n"
     ]
    },
    {
     "name": "stderr",
     "output_type": "stream",
     "text": [
      "\r",
      " 50%|████████████████████████████████████████████████████████████████████████████████▊                                                                                | 1734/3455 [02:08<02:07, 13.49it/s]"
     ]
    },
    {
     "name": "stdout",
     "output_type": "stream",
     "text": [
      "50683 2022 0\n",
      "490119 2022 0\n",
      "523130 2022 0\n"
     ]
    },
    {
     "name": "stderr",
     "output_type": "stream",
     "text": [
      " 50%|████████████████████████████████████████████████████████████████████████████████▉                                                                                | 1738/3455 [02:09<02:06, 13.55it/s]"
     ]
    },
    {
     "name": "stdout",
     "output_type": "stream",
     "text": [
      "53799 2022 0\n",
      "488132 2022 0\n",
      "47878 2022 0\n"
     ]
    },
    {
     "name": "stderr",
     "output_type": "stream",
     "text": [
      "\r",
      " 50%|█████████████████████████████████████████████████████████████████████████████████                                                                                | 1740/3455 [02:09<02:06, 13.54it/s]"
     ]
    },
    {
     "name": "stdout",
     "output_type": "stream",
     "text": [
      "50196 2022 0\n",
      "48584 2022 0\n",
      "504116 2022 0\n"
     ]
    },
    {
     "name": "stderr",
     "output_type": "stream",
     "text": [
      " 50%|█████████████████████████████████████████████████████████████████████████████████▎                                                                               | 1744/3455 [02:09<02:06, 13.57it/s]"
     ]
    },
    {
     "name": "stdout",
     "output_type": "stream",
     "text": [
      "51897 2022 0\n",
      "49788 2022 0\n",
      "48481 2022 0\n"
     ]
    },
    {
     "name": "stderr",
     "output_type": "stream",
     "text": [
      "\r",
      " 51%|█████████████████████████████████████████████████████████████████████████████████▎                                                                               | 1746/3455 [02:09<02:06, 13.54it/s]"
     ]
    },
    {
     "name": "stdout",
     "output_type": "stream",
     "text": [
      "499100 2022 0\n",
      "53695 2022 0\n",
      "47988 2022 0\n"
     ]
    },
    {
     "name": "stderr",
     "output_type": "stream",
     "text": [
      " 51%|█████████████████████████████████████████████████████████████████████████████████▌                                                                               | 1750/3455 [02:10<02:06, 13.50it/s]"
     ]
    },
    {
     "name": "stdout",
     "output_type": "stream",
     "text": [
      "505100 2022 0\n",
      "478113 2022 0\n",
      "48990 2022 0\n"
     ]
    },
    {
     "name": "stderr",
     "output_type": "stream",
     "text": [
      "\r",
      " 51%|█████████████████████████████████████████████████████████████████████████████████▋                                                                               | 1752/3455 [02:10<02:06, 13.50it/s]"
     ]
    },
    {
     "name": "stdout",
     "output_type": "stream",
     "text": [
      "49569 2022 0\n",
      "49480 2022 0\n",
      "494103 2022 0\n"
     ]
    },
    {
     "name": "stderr",
     "output_type": "stream",
     "text": [
      " 51%|█████████████████████████████████████████████████████████████████████████████████▊                                                                               | 1756/3455 [02:10<02:05, 13.51it/s]"
     ]
    },
    {
     "name": "stdout",
     "output_type": "stream",
     "text": [
      "495100 2022 0\n",
      "49885 2022 0\n",
      "48590 2022 0\n"
     ]
    },
    {
     "name": "stderr",
     "output_type": "stream",
     "text": [
      "\r",
      " 51%|█████████████████████████████████████████████████████████████████████████████████▉                                                                               | 1758/3455 [02:10<02:05, 13.47it/s]"
     ]
    },
    {
     "name": "stdout",
     "output_type": "stream",
     "text": [
      "532141 2022 0\n",
      "50994 2022 0\n",
      "53180 2022 0\n"
     ]
    },
    {
     "name": "stderr",
     "output_type": "stream",
     "text": [
      " 51%|██████████████████████████████████████████████████████████████████████████████████                                                                               | 1762/3455 [02:10<02:06, 13.43it/s]"
     ]
    },
    {
     "name": "stdout",
     "output_type": "stream",
     "text": [
      "51896 2022 0\n",
      "49279 2022 0\n",
      "52973 2022 0\n"
     ]
    },
    {
     "name": "stderr",
     "output_type": "stream",
     "text": [
      "\r",
      " 51%|██████████████████████████████████████████████████████████████████████████████████▏                                                                              | 1764/3455 [02:11<02:05, 13.42it/s]"
     ]
    },
    {
     "name": "stdout",
     "output_type": "stream",
     "text": [
      "48177 2022 0\n",
      "47976 2022 0\n",
      "512144 2022 0\n"
     ]
    },
    {
     "name": "stderr",
     "output_type": "stream",
     "text": [
      " 51%|██████████████████████████████████████████████████████████████████████████████████▍                                                                              | 1768/3455 [02:11<02:05, 13.46it/s]"
     ]
    },
    {
     "name": "stdout",
     "output_type": "stream",
     "text": [
      "514126 2022 0\n",
      "519117 2022 0\n",
      "525120 2022 0\n"
     ]
    },
    {
     "name": "stderr",
     "output_type": "stream",
     "text": [
      "\r",
      " 51%|██████████████████████████████████████████████████████████████████████████████████▍                                                                              | 1770/3455 [02:11<02:05, 13.45it/s]"
     ]
    },
    {
     "name": "stdout",
     "output_type": "stream",
     "text": [
      "504106 2022 0\n",
      "509114 2022 0\n",
      "510140 2022 0\n"
     ]
    },
    {
     "name": "stderr",
     "output_type": "stream",
     "text": [
      " 51%|██████████████████████████████████████████████████████████████████████████████████▋                                                                              | 1774/3455 [02:11<02:05, 13.43it/s]"
     ]
    },
    {
     "name": "stdout",
     "output_type": "stream",
     "text": [
      "496106 2022 0\n",
      "508104 2022 0\n",
      "525141 2022 0\n"
     ]
    },
    {
     "name": "stderr",
     "output_type": "stream",
     "text": [
      "\r",
      " 51%|██████████████████████████████████████████████████████████████████████████████████▊                                                                              | 1776/3455 [02:12<02:04, 13.45it/s]"
     ]
    },
    {
     "name": "stdout",
     "output_type": "stream",
     "text": [
      "513150 2022 0\n",
      "510128 2022 0\n",
      "513132 2022 0\n"
     ]
    },
    {
     "name": "stderr",
     "output_type": "stream",
     "text": [
      " 52%|██████████████████████████████████████████████████████████████████████████████████▉                                                                              | 1780/3455 [02:12<02:03, 13.51it/s]"
     ]
    },
    {
     "name": "stdout",
     "output_type": "stream",
     "text": [
      "511123 2022 0\n",
      "509130 2022 0\n",
      "535136 2022 0\n"
     ]
    },
    {
     "name": "stderr",
     "output_type": "stream",
     "text": [
      "\r",
      " 52%|███████████████████████████████████████████████████████████████████████████████████                                                                              | 1782/3455 [02:12<02:04, 13.45it/s]"
     ]
    },
    {
     "name": "stdout",
     "output_type": "stream",
     "text": [
      "511131 2022 0\n",
      "503112 2022 0\n",
      "535127 2022 0\n"
     ]
    },
    {
     "name": "stderr",
     "output_type": "stream",
     "text": [
      " 52%|███████████████████████████████████████████████████████████████████████████████████▏                                                                             | 1786/3455 [02:12<02:03, 13.52it/s]"
     ]
    },
    {
     "name": "stdout",
     "output_type": "stream",
     "text": [
      "511147 2022 0\n",
      "502107 2022 0\n",
      "49469 2022 0\n"
     ]
    },
    {
     "name": "stderr",
     "output_type": "stream",
     "text": [
      "\r",
      " 52%|███████████████████████████████████████████████████████████████████████████████████▎                                                                             | 1788/3455 [02:12<02:03, 13.51it/s]"
     ]
    },
    {
     "name": "stdout",
     "output_type": "stream",
     "text": [
      "509126 2022 0\n",
      "509124 2022 0\n",
      "480120 2022 0\n"
     ]
    },
    {
     "name": "stderr",
     "output_type": "stream",
     "text": [
      " 52%|███████████████████████████████████████████████████████████████████████████████████▌                                                                             | 1792/3455 [02:13<02:02, 13.55it/s]"
     ]
    },
    {
     "name": "stdout",
     "output_type": "stream",
     "text": [
      "513110 2022 0\n",
      "505123 2022 0\n",
      "524108 2022 0\n"
     ]
    },
    {
     "name": "stderr",
     "output_type": "stream",
     "text": [
      "\r",
      " 52%|███████████████████████████████████████████████████████████████████████████████████▌                                                                             | 1794/3455 [02:13<02:02, 13.52it/s]"
     ]
    },
    {
     "name": "stdout",
     "output_type": "stream",
     "text": [
      "495114 2022 0\n",
      "507130 2022 0\n",
      "53794 2022 0\n"
     ]
    },
    {
     "name": "stderr",
     "output_type": "stream",
     "text": [
      " 52%|███████████████████████████████████████████████████████████████████████████████████▊                                                                             | 1798/3455 [02:13<02:03, 13.44it/s]"
     ]
    },
    {
     "name": "stdout",
     "output_type": "stream",
     "text": [
      "508117 2022 0\n",
      "539132 2022 0\n",
      "52072 2022 0\n"
     ]
    },
    {
     "name": "stderr",
     "output_type": "stream",
     "text": [
      "\r",
      " 52%|███████████████████████████████████████████████████████████████████████████████████▉                                                                             | 1800/3455 [02:13<02:03, 13.42it/s]"
     ]
    },
    {
     "name": "stdout",
     "output_type": "stream",
     "text": [
      "496122 2022 0\n",
      "498112 2022 0\n",
      "508140 2022 0\n"
     ]
    },
    {
     "name": "stderr",
     "output_type": "stream",
     "text": [
      " 52%|████████████████████████████████████████████████████████████████████████████████████                                                                             | 1804/3455 [02:14<02:02, 13.48it/s]"
     ]
    },
    {
     "name": "stdout",
     "output_type": "stream",
     "text": [
      "507126 2022 0\n",
      "521118 2022 0\n",
      "513100 2022 0\n"
     ]
    },
    {
     "name": "stderr",
     "output_type": "stream",
     "text": [
      "\r",
      " 52%|████████████████████████████████████████████████████████████████████████████████████▏                                                                            | 1806/3455 [02:14<02:03, 13.32it/s]"
     ]
    },
    {
     "name": "stdout",
     "output_type": "stream",
     "text": [
      "509112 2022 0\n",
      "508108 2022 0\n",
      "50277 2022 0\n"
     ]
    },
    {
     "name": "stderr",
     "output_type": "stream",
     "text": [
      " 52%|████████████████████████████████████████████████████████████████████████████████████▎                                                                            | 1810/3455 [02:14<02:02, 13.45it/s]"
     ]
    },
    {
     "name": "stdout",
     "output_type": "stream",
     "text": [
      "506116 2022 0\n",
      "48092 2022 0\n",
      "508138 2022 0\n"
     ]
    },
    {
     "name": "stderr",
     "output_type": "stream",
     "text": [
      "\r",
      " 52%|████████████████████████████████████████████████████████████████████████████████████▍                                                                            | 1812/3455 [02:14<02:02, 13.43it/s]"
     ]
    },
    {
     "name": "stdout",
     "output_type": "stream",
     "text": [
      "535140 2022 0\n",
      "51299 2022 0\n",
      "511113 2022 0\n"
     ]
    },
    {
     "name": "stderr",
     "output_type": "stream",
     "text": [
      " 53%|████████████████████████████████████████████████████████████████████████████████████▌                                                                            | 1816/3455 [02:14<02:01, 13.47it/s]"
     ]
    },
    {
     "name": "stdout",
     "output_type": "stream",
     "text": [
      "525146 2022 0\n",
      "47895 2022 0\n",
      "47679 2022 0\n"
     ]
    },
    {
     "name": "stderr",
     "output_type": "stream",
     "text": [
      "\r",
      " 53%|████████████████████████████████████████████████████████████████████████████████████▋                                                                            | 1818/3455 [02:15<02:01, 13.48it/s]"
     ]
    },
    {
     "name": "stdout",
     "output_type": "stream",
     "text": [
      "531126 2022 0\n",
      "513108 2022 0\n",
      "507128 2022 0\n"
     ]
    },
    {
     "name": "stderr",
     "output_type": "stream",
     "text": [
      " 53%|████████████████████████████████████████████████████████████████████████████████████▉                                                                            | 1822/3455 [02:15<02:03, 13.27it/s]"
     ]
    },
    {
     "name": "stdout",
     "output_type": "stream",
     "text": [
      "536138 2022 0\n",
      "49976 2022 0\n",
      "50267 2022 0\n"
     ]
    },
    {
     "name": "stderr",
     "output_type": "stream",
     "text": [
      "\r",
      " 53%|████████████████████████████████████████████████████████████████████████████████████▉                                                                            | 1824/3455 [02:15<02:02, 13.30it/s]"
     ]
    },
    {
     "name": "stdout",
     "output_type": "stream",
     "text": [
      "508122 2022 0\n",
      "539128 2022 0\n",
      "511128 2022 0\n"
     ]
    },
    {
     "name": "stderr",
     "output_type": "stream",
     "text": [
      " 53%|█████████████████████████████████████████████████████████████████████████████████████▏                                                                           | 1828/3455 [02:15<02:00, 13.46it/s]"
     ]
    },
    {
     "name": "stdout",
     "output_type": "stream",
     "text": [
      "508101 2022 0\n",
      "51778 2022 0\n",
      "50883 2022 0\n"
     ]
    },
    {
     "name": "stderr",
     "output_type": "stream",
     "text": [
      "\r",
      " 53%|█████████████████████████████████████████████████████████████████████████████████████▎                                                                           | 1830/3455 [02:16<02:01, 13.37it/s]"
     ]
    },
    {
     "name": "stdout",
     "output_type": "stream",
     "text": [
      "512114 2022 0\n",
      "519128 2022 0\n",
      "529118 2022 0\n"
     ]
    },
    {
     "name": "stderr",
     "output_type": "stream",
     "text": [
      " 53%|█████████████████████████████████████████████████████████████████████████████████████▍                                                                           | 1834/3455 [02:16<02:00, 13.45it/s]"
     ]
    },
    {
     "name": "stdout",
     "output_type": "stream",
     "text": [
      "50070 2022 0\n",
      "492100 2022 0\n",
      "542127 2022 0\n"
     ]
    },
    {
     "name": "stderr",
     "output_type": "stream",
     "text": [
      "\r",
      " 53%|█████████████████████████████████████████████████████████████████████████████████████▌                                                                           | 1836/3455 [02:16<02:00, 13.45it/s]"
     ]
    },
    {
     "name": "stdout",
     "output_type": "stream",
     "text": [
      "494124 2022 0\n",
      "505108 2022 0\n",
      "50082 2022 0\n"
     ]
    },
    {
     "name": "stderr",
     "output_type": "stream",
     "text": [
      " 53%|█████████████████████████████████████████████████████████████████████████████████████▋                                                                           | 1840/3455 [02:16<01:59, 13.53it/s]"
     ]
    },
    {
     "name": "stdout",
     "output_type": "stream",
     "text": [
      "49182 2022 0\n",
      "51776 2022 0\n",
      "52089 2022 0\n"
     ]
    },
    {
     "name": "stderr",
     "output_type": "stream",
     "text": [
      "\r",
      " 53%|█████████████████████████████████████████████████████████████████████████████████████▊                                                                           | 1842/3455 [02:16<01:59, 13.55it/s]"
     ]
    },
    {
     "name": "stdout",
     "output_type": "stream",
     "text": [
      "52580 2022 0\n",
      "533119 2022 0\n",
      "52288 2022 0\n"
     ]
    },
    {
     "name": "stderr",
     "output_type": "stream",
     "text": [
      " 53%|██████████████████████████████████████████████████████████████████████████████████████                                                                           | 1846/3455 [02:17<01:58, 13.55it/s]"
     ]
    },
    {
     "name": "stdout",
     "output_type": "stream",
     "text": [
      "502110 2022 0\n",
      "52496 2022 0\n",
      "51687 2022 0\n"
     ]
    },
    {
     "name": "stderr",
     "output_type": "stream",
     "text": [
      "\r",
      " 53%|██████████████████████████████████████████████████████████████████████████████████████                                                                           | 1848/3455 [02:17<01:58, 13.54it/s]"
     ]
    },
    {
     "name": "stdout",
     "output_type": "stream",
     "text": [
      "49664 2022 0\n",
      "52792 2022 0\n",
      "50898 2022 0\n"
     ]
    },
    {
     "name": "stderr",
     "output_type": "stream",
     "text": [
      " 54%|██████████████████████████████████████████████████████████████████████████████████████▎                                                                          | 1852/3455 [02:17<01:58, 13.54it/s]"
     ]
    },
    {
     "name": "stdout",
     "output_type": "stream",
     "text": [
      "507108 2022 0\n",
      "514105 2022 0\n",
      "506111 2022 0\n"
     ]
    },
    {
     "name": "stderr",
     "output_type": "stream",
     "text": [
      "\r",
      " 54%|██████████████████████████████████████████████████████████████████████████████████████▍                                                                          | 1854/3455 [02:17<01:58, 13.51it/s]"
     ]
    },
    {
     "name": "stdout",
     "output_type": "stream",
     "text": [
      "537103 2022 0\n",
      "524115 2022 0\n",
      "49673 2022 0\n"
     ]
    },
    {
     "name": "stderr",
     "output_type": "stream",
     "text": [
      " 54%|██████████████████████████████████████████████████████████████████████████████████████▌                                                                          | 1858/3455 [02:18<01:58, 13.51it/s]"
     ]
    },
    {
     "name": "stdout",
     "output_type": "stream",
     "text": [
      "51296 2022 0\n",
      "506100 2022 0\n",
      "51486 2022 0\n"
     ]
    },
    {
     "name": "stderr",
     "output_type": "stream",
     "text": [
      "\r",
      " 54%|██████████████████████████████████████████████████████████████████████████████████████▋                                                                          | 1860/3455 [02:18<01:58, 13.49it/s]"
     ]
    },
    {
     "name": "stdout",
     "output_type": "stream",
     "text": [
      "51692 2022 0\n",
      "518103 2022 0\n",
      "502111 2022 0\n"
     ]
    },
    {
     "name": "stderr",
     "output_type": "stream",
     "text": [
      " 54%|██████████████████████████████████████████████████████████████████████████████████████▊                                                                          | 1864/3455 [02:18<01:57, 13.50it/s]"
     ]
    },
    {
     "name": "stdout",
     "output_type": "stream",
     "text": [
      "506126 2022 0\n",
      "505128 2022 0\n",
      "53678 2022 0\n"
     ]
    },
    {
     "name": "stderr",
     "output_type": "stream",
     "text": [
      "\r",
      " 54%|██████████████████████████████████████████████████████████████████████████████████████▉                                                                          | 1866/3455 [02:18<01:58, 13.46it/s]"
     ]
    },
    {
     "name": "stdout",
     "output_type": "stream",
     "text": [
      "47996 2022 0\n",
      "47879 2022 0\n",
      "50073 2022 0\n"
     ]
    },
    {
     "name": "stderr",
     "output_type": "stream",
     "text": [
      " 54%|███████████████████████████████████████████████████████████████████████████████████████▏                                                                         | 1870/3455 [02:18<01:57, 13.54it/s]"
     ]
    },
    {
     "name": "stdout",
     "output_type": "stream",
     "text": [
      "48790 2022 0\n",
      "483108 2022 0\n",
      "512118 2022 0\n"
     ]
    },
    {
     "name": "stderr",
     "output_type": "stream",
     "text": [
      "\r",
      " 54%|███████████████████████████████████████████████████████████████████████████████████████▏                                                                         | 1872/3455 [02:19<01:57, 13.51it/s]"
     ]
    },
    {
     "name": "stdout",
     "output_type": "stream",
     "text": [
      "50279 2022 0\n",
      "53382 2022 0\n",
      "50768 2022 0\n"
     ]
    },
    {
     "name": "stderr",
     "output_type": "stream",
     "text": [
      " 54%|███████████████████████████████████████████████████████████████████████████████████████▍                                                                         | 1876/3455 [02:19<01:56, 13.60it/s]"
     ]
    },
    {
     "name": "stdout",
     "output_type": "stream",
     "text": [
      "51076 2022 0\n",
      "488101 2022 0\n",
      "53095 2022 0\n"
     ]
    },
    {
     "name": "stderr",
     "output_type": "stream",
     "text": [
      "\r",
      " 54%|███████████████████████████████████████████████████████████████████████████████████████▌                                                                         | 1878/3455 [02:19<01:56, 13.55it/s]"
     ]
    },
    {
     "name": "stdout",
     "output_type": "stream",
     "text": [
      "48793 2022 0\n",
      "47876 2022 0\n",
      "528142 2022 0\n"
     ]
    },
    {
     "name": "stderr",
     "output_type": "stream",
     "text": [
      " 54%|███████████████████████████████████████████████████████████████████████████████████████▋                                                                         | 1882/3455 [02:19<01:56, 13.53it/s]"
     ]
    },
    {
     "name": "stdout",
     "output_type": "stream",
     "text": [
      "513126 2022 0\n",
      "49868 2022 0\n",
      "521112 2022 0\n"
     ]
    },
    {
     "name": "stderr",
     "output_type": "stream",
     "text": [
      "\r",
      " 55%|███████████████████████████████████████████████████████████████████████████████████████▊                                                                         | 1884/3455 [02:20<01:56, 13.50it/s]"
     ]
    },
    {
     "name": "stdout",
     "output_type": "stream",
     "text": [
      "518132 2022 0\n",
      "517130 2022 0\n",
      "529134 2022 0\n"
     ]
    },
    {
     "name": "stderr",
     "output_type": "stream",
     "text": [
      " 55%|███████████████████████████████████████████████████████████████████████████████████████▉                                                                         | 1888/3455 [02:20<01:55, 13.60it/s]"
     ]
    },
    {
     "name": "stdout",
     "output_type": "stream",
     "text": [
      "533142 2022 0\n",
      "515117 2022 0\n",
      "512111 2022 0\n"
     ]
    },
    {
     "name": "stderr",
     "output_type": "stream",
     "text": [
      "\r",
      " 55%|████████████████████████████████████████████████████████████████████████████████████████                                                                         | 1890/3455 [02:20<01:55, 13.55it/s]"
     ]
    },
    {
     "name": "stdout",
     "output_type": "stream",
     "text": [
      "526138 2022 0\n",
      "516121 2022 0\n",
      "527118 2022 0\n"
     ]
    },
    {
     "name": "stderr",
     "output_type": "stream",
     "text": [
      " 55%|████████████████████████████████████████████████████████████████████████████████████████▎                                                                        | 1894/3455 [02:20<01:55, 13.56it/s]"
     ]
    },
    {
     "name": "stdout",
     "output_type": "stream",
     "text": [
      "513143 2022 0\n",
      "510130 2022 0\n",
      "52477 2022 0\n"
     ]
    },
    {
     "name": "stderr",
     "output_type": "stream",
     "text": [
      "\r",
      " 55%|████████████████████████████████████████████████████████████████████████████████████████▎                                                                        | 1896/3455 [02:20<01:55, 13.52it/s]"
     ]
    },
    {
     "name": "stdout",
     "output_type": "stream",
     "text": [
      "533122 2022 0\n",
      "512138 2022 0\n",
      "508115 2022 0\n"
     ]
    },
    {
     "name": "stderr",
     "output_type": "stream",
     "text": [
      " 55%|████████████████████████████████████████████████████████████████████████████████████████▌                                                                        | 1900/3455 [02:21<01:54, 13.56it/s]"
     ]
    },
    {
     "name": "stdout",
     "output_type": "stream",
     "text": [
      "518126 2022 0\n",
      "512110 2022 0\n",
      "522120 2022 0\n"
     ]
    },
    {
     "name": "stderr",
     "output_type": "stream",
     "text": [
      "\r",
      " 55%|████████████████████████████████████████████████████████████████████████████████████████▋                                                                        | 1902/3455 [02:21<01:54, 13.55it/s]"
     ]
    },
    {
     "name": "stdout",
     "output_type": "stream",
     "text": [
      "522113 2022 0\n",
      "510107 2022 0\n",
      "516102 2022 0\n"
     ]
    },
    {
     "name": "stderr",
     "output_type": "stream",
     "text": [
      " 55%|████████████████████████████████████████████████████████████████████████████████████████▊                                                                        | 1906/3455 [02:21<01:54, 13.57it/s]"
     ]
    },
    {
     "name": "stdout",
     "output_type": "stream",
     "text": [
      "507124 2022 0\n",
      "517113 2022 0\n",
      "520146 2022 0\n"
     ]
    },
    {
     "name": "stderr",
     "output_type": "stream",
     "text": [
      "\r",
      " 55%|████████████████████████████████████████████████████████████████████████████████████████▉                                                                        | 1908/3455 [02:21<01:54, 13.52it/s]"
     ]
    },
    {
     "name": "stdout",
     "output_type": "stream",
     "text": [
      "530127 2022 0\n",
      "483131 2022 0\n",
      "536111 2022 0\n"
     ]
    },
    {
     "name": "stderr",
     "output_type": "stream",
     "text": [
      " 55%|█████████████████████████████████████████████████████████████████████████████████████████                                                                        | 1912/3455 [02:22<01:53, 13.54it/s]"
     ]
    },
    {
     "name": "stdout",
     "output_type": "stream",
     "text": [
      "517115 2022 0\n",
      "528133 2022 0\n",
      "509128 2022 0\n"
     ]
    },
    {
     "name": "stderr",
     "output_type": "stream",
     "text": [
      "\r",
      " 55%|█████████████████████████████████████████████████████████████████████████████████████████▏                                                                       | 1914/3455 [02:22<01:53, 13.56it/s]"
     ]
    },
    {
     "name": "stdout",
     "output_type": "stream",
     "text": [
      "50296 2022 0\n",
      "538110 2022 0\n",
      "541121 2022 0\n"
     ]
    },
    {
     "name": "stderr",
     "output_type": "stream",
     "text": [
      " 56%|█████████████████████████████████████████████████████████████████████████████████████████▍                                                                       | 1918/3455 [02:22<01:53, 13.57it/s]"
     ]
    },
    {
     "name": "stdout",
     "output_type": "stream",
     "text": [
      "510126 2022 0\n",
      "511108 2022 0\n",
      "514117 2022 0\n"
     ]
    },
    {
     "name": "stderr",
     "output_type": "stream",
     "text": [
      "\r",
      " 56%|█████████████████████████████████████████████████████████████████████████████████████████▍                                                                       | 1920/3455 [02:22<01:53, 13.52it/s]"
     ]
    },
    {
     "name": "stdout",
     "output_type": "stream",
     "text": [
      "511114 2022 0\n",
      "514108 2022 0\n",
      "510147 2022 0\n"
     ]
    },
    {
     "name": "stderr",
     "output_type": "stream",
     "text": [
      " 56%|█████████████████████████████████████████████████████████████████████████████████████████▋                                                                       | 1924/3455 [02:22<01:52, 13.56it/s]"
     ]
    },
    {
     "name": "stdout",
     "output_type": "stream",
     "text": [
      "514120 2022 0\n",
      "510120 2022 0\n",
      "538121 2022 0\n"
     ]
    },
    {
     "name": "stderr",
     "output_type": "stream",
     "text": [
      "\r",
      " 56%|█████████████████████████████████████████████████████████████████████████████████████████▋                                                                       | 1926/3455 [02:23<01:53, 13.44it/s]"
     ]
    },
    {
     "name": "stdout",
     "output_type": "stream",
     "text": [
      "508114 2022 0\n",
      "517126 2022 0\n",
      "508110 2022 0\n"
     ]
    },
    {
     "name": "stderr",
     "output_type": "stream",
     "text": [
      " 56%|█████████████████████████████████████████████████████████████████████████████████████████▉                                                                       | 1930/3455 [02:23<01:53, 13.48it/s]"
     ]
    },
    {
     "name": "stdout",
     "output_type": "stream",
     "text": [
      "50676 2022 0\n",
      "512134 2022 0\n",
      "524112 2022 0\n"
     ]
    },
    {
     "name": "stderr",
     "output_type": "stream",
     "text": [
      "\r",
      " 56%|██████████████████████████████████████████████████████████████████████████████████████████                                                                       | 1932/3455 [02:23<01:53, 13.40it/s]"
     ]
    },
    {
     "name": "stdout",
     "output_type": "stream",
     "text": [
      "52183 2022 0\n",
      "507122 2022 0\n",
      "507109 2022 0\n"
     ]
    },
    {
     "name": "stderr",
     "output_type": "stream",
     "text": [
      " 56%|██████████████████████████████████████████████████████████████████████████████████████████▏                                                                      | 1936/3455 [02:23<01:52, 13.45it/s]"
     ]
    },
    {
     "name": "stdout",
     "output_type": "stream",
     "text": [
      "543124 2022 0\n",
      "510124 2022 0\n",
      "49889 2022 0\n"
     ]
    },
    {
     "name": "stderr",
     "output_type": "stream",
     "text": [
      "\r",
      " 56%|██████████████████████████████████████████████████████████████████████████████████████████▎                                                                      | 1938/3455 [02:24<01:52, 13.45it/s]"
     ]
    },
    {
     "name": "stdout",
     "output_type": "stream",
     "text": [
      "506130 2022 0\n",
      "512103 2022 0\n",
      "50497 2022 0\n"
     ]
    },
    {
     "name": "stderr",
     "output_type": "stream",
     "text": [
      " 56%|██████████████████████████████████████████████████████████████████████████████████████████▍                                                                      | 1942/3455 [02:24<01:52, 13.50it/s]"
     ]
    },
    {
     "name": "stdout",
     "output_type": "stream",
     "text": [
      "516129 2022 0\n",
      "510137 2022 0\n",
      "513131 2022 0\n"
     ]
    },
    {
     "name": "stderr",
     "output_type": "stream",
     "text": [
      "\r",
      " 56%|██████████████████████████████████████████████████████████████████████████████████████████▌                                                                      | 1944/3455 [02:24<01:52, 13.45it/s]"
     ]
    },
    {
     "name": "stdout",
     "output_type": "stream",
     "text": [
      "521116 2022 0\n",
      "528112 2022 0\n",
      "514127 2022 0\n"
     ]
    },
    {
     "name": "stderr",
     "output_type": "stream",
     "text": [
      " 56%|██████████████████████████████████████████████████████████████████████████████████████████▊                                                                      | 1948/3455 [02:24<01:51, 13.53it/s]"
     ]
    },
    {
     "name": "stdout",
     "output_type": "stream",
     "text": [
      "509121 2022 0\n",
      "507113 2022 0\n",
      "533127 2022 0\n"
     ]
    },
    {
     "name": "stderr",
     "output_type": "stream",
     "text": [
      "\r",
      " 56%|██████████████████████████████████████████████████████████████████████████████████████████▊                                                                      | 1950/3455 [02:24<01:51, 13.49it/s]"
     ]
    },
    {
     "name": "stdout",
     "output_type": "stream",
     "text": [
      "544135 2022 0\n",
      "526119 2022 0\n",
      "51374 2022 0\n"
     ]
    },
    {
     "name": "stderr",
     "output_type": "stream",
     "text": [
      " 57%|███████████████████████████████████████████████████████████████████████████████████████████                                                                      | 1954/3455 [02:25<01:50, 13.54it/s]"
     ]
    },
    {
     "name": "stdout",
     "output_type": "stream",
     "text": [
      "51860 2022 0\n",
      "479126 2022 0\n",
      "534107 2022 0\n"
     ]
    },
    {
     "name": "stderr",
     "output_type": "stream",
     "text": [
      "\r",
      " 57%|███████████████████████████████████████████████████████████████████████████████████████████▏                                                                     | 1956/3455 [02:25<01:50, 13.53it/s]"
     ]
    },
    {
     "name": "stdout",
     "output_type": "stream",
     "text": [
      "523114 2022 0\n",
      "541131 2022 0\n",
      "491118 2022 0\n"
     ]
    },
    {
     "name": "stderr",
     "output_type": "stream",
     "text": [
      " 57%|███████████████████████████████████████████████████████████████████████████████████████████▎                                                                     | 1960/3455 [02:25<01:50, 13.55it/s]"
     ]
    },
    {
     "name": "stdout",
     "output_type": "stream",
     "text": [
      "516136 2022 0\n",
      "512150 2022 0\n",
      "508102 2022 0\n"
     ]
    },
    {
     "name": "stderr",
     "output_type": "stream",
     "text": [
      "\r",
      " 57%|███████████████████████████████████████████████████████████████████████████████████████████▍                                                                     | 1962/3455 [02:25<01:51, 13.45it/s]"
     ]
    },
    {
     "name": "stdout",
     "output_type": "stream",
     "text": [
      "490111 2022 0\n",
      "511132 2022 0\n",
      "486138 2022 0\n"
     ]
    },
    {
     "name": "stderr",
     "output_type": "stream",
     "text": [
      " 57%|███████████████████████████████████████████████████████████████████████████████████████████▌                                                                     | 1966/3455 [02:26<01:50, 13.48it/s]"
     ]
    },
    {
     "name": "stdout",
     "output_type": "stream",
     "text": [
      "509104 2022 0\n",
      "516109 2022 0\n",
      "521117 2022 0\n"
     ]
    },
    {
     "name": "stderr",
     "output_type": "stream",
     "text": [
      "\r",
      " 57%|███████████████████████████████████████████████████████████████████████████████████████████▋                                                                     | 1968/3455 [02:26<01:50, 13.41it/s]"
     ]
    },
    {
     "name": "stdout",
     "output_type": "stream",
     "text": [
      "508106 2022 0\n",
      "512104 2022 0\n",
      "50395 2022 0\n"
     ]
    },
    {
     "name": "stderr",
     "output_type": "stream",
     "text": [
      " 57%|███████████████████████████████████████████████████████████████████████████████████████████▉                                                                     | 1972/3455 [02:26<01:50, 13.44it/s]"
     ]
    },
    {
     "name": "stdout",
     "output_type": "stream",
     "text": [
      "49593 2022 0\n",
      "51173 2022 0\n",
      "500120 2022 0\n"
     ]
    },
    {
     "name": "stderr",
     "output_type": "stream",
     "text": [
      "\r",
      " 57%|███████████████████████████████████████████████████████████████████████████████████████████▉                                                                     | 1974/3455 [02:26<01:50, 13.38it/s]"
     ]
    },
    {
     "name": "stdout",
     "output_type": "stream",
     "text": [
      "48581 2022 0\n",
      "52287 2022 0\n",
      "49291 2022 0\n"
     ]
    },
    {
     "name": "stderr",
     "output_type": "stream",
     "text": [
      " 57%|████████████████████████████████████████████████████████████████████████████████████████████▏                                                                    | 1978/3455 [02:26<01:49, 13.47it/s]"
     ]
    },
    {
     "name": "stdout",
     "output_type": "stream",
     "text": [
      "518136 2022 0\n",
      "48792 2022 0\n",
      "49473 2022 0\n"
     ]
    },
    {
     "name": "stderr",
     "output_type": "stream",
     "text": [
      "\r",
      " 57%|████████████████████████████████████████████████████████████████████████████████████████████▎                                                                    | 1980/3455 [02:27<01:49, 13.49it/s]"
     ]
    },
    {
     "name": "stdout",
     "output_type": "stream",
     "text": [
      "48487 2022 0\n",
      "508127 2022 0\n",
      "51464 2022 0\n"
     ]
    },
    {
     "name": "stderr",
     "output_type": "stream",
     "text": [
      " 57%|████████████████████████████████████████████████████████████████████████████████████████████▍                                                                    | 1984/3455 [02:27<01:48, 13.61it/s]"
     ]
    },
    {
     "name": "stdout",
     "output_type": "stream",
     "text": [
      "50863 2022 0\n",
      "51466 2022 0\n",
      "504122 2022 0\n"
     ]
    },
    {
     "name": "stderr",
     "output_type": "stream",
     "text": [
      "\r",
      " 57%|████████████████████████████████████████████████████████████████████████████████████████████▌                                                                    | 1986/3455 [02:27<01:48, 13.58it/s]"
     ]
    },
    {
     "name": "stdout",
     "output_type": "stream",
     "text": [
      "54291 2022 0\n",
      "50192 2022 0\n",
      "510110 2022 0\n"
     ]
    },
    {
     "name": "stderr",
     "output_type": "stream",
     "text": [
      " 58%|████████████████████████████████████████████████████████████████████████████████████████████▋                                                                    | 1990/3455 [02:27<01:49, 13.44it/s]"
     ]
    },
    {
     "name": "stdout",
     "output_type": "stream",
     "text": [
      "477104 2022 0\n",
      "518110 2022 0\n",
      "49273 2022 0\n"
     ]
    },
    {
     "name": "stderr",
     "output_type": "stream",
     "text": [
      "\r",
      " 58%|████████████████████████████████████████████████████████████████████████████████████████████▊                                                                    | 1992/3455 [02:28<01:49, 13.30it/s]"
     ]
    },
    {
     "name": "stdout",
     "output_type": "stream",
     "text": [
      "49493 2022 0\n",
      "496123 2022 0\n",
      "50076 2022 0\n"
     ]
    },
    {
     "name": "stderr",
     "output_type": "stream",
     "text": [
      " 58%|█████████████████████████████████████████████████████████████████████████████████████████████                                                                    | 1996/3455 [02:28<01:48, 13.47it/s]"
     ]
    },
    {
     "name": "stdout",
     "output_type": "stream",
     "text": [
      "48781 2022 0\n",
      "529108 2022 0\n",
      "542126 2022 0\n"
     ]
    },
    {
     "name": "stderr",
     "output_type": "stream",
     "text": [
      "\r",
      " 58%|█████████████████████████████████████████████████████████████████████████████████████████████                                                                    | 1998/3455 [02:28<01:48, 13.46it/s]"
     ]
    },
    {
     "name": "stdout",
     "output_type": "stream",
     "text": [
      "49966 2022 0\n",
      "49390 2022 0\n",
      "541122 2022 0\n"
     ]
    },
    {
     "name": "stderr",
     "output_type": "stream",
     "text": [
      " 58%|█████████████████████████████████████████████████████████████████████████████████████████████▎                                                                   | 2002/3455 [02:28<01:47, 13.50it/s]"
     ]
    },
    {
     "name": "stdout",
     "output_type": "stream",
     "text": [
      "510114 2022 0\n",
      "50862 2022 0\n",
      "534131 2022 0\n"
     ]
    },
    {
     "name": "stderr",
     "output_type": "stream",
     "text": [
      "\r",
      " 58%|█████████████████████████████████████████████████████████████████████████████████████████████▍                                                                   | 2004/3455 [02:28<01:47, 13.50it/s]"
     ]
    },
    {
     "name": "stdout",
     "output_type": "stream",
     "text": [
      "48194 2022 0\n",
      "54091 2022 0\n",
      "50068 2022 0\n"
     ]
    },
    {
     "name": "stderr",
     "output_type": "stream",
     "text": [
      " 58%|█████████████████████████████████████████████████████████████████████████████████████████████▌                                                                   | 2008/3455 [02:29<01:46, 13.53it/s]"
     ]
    },
    {
     "name": "stdout",
     "output_type": "stream",
     "text": [
      "483118 2022 0\n",
      "54694 2022 0\n",
      "48295 2022 0\n"
     ]
    },
    {
     "name": "stderr",
     "output_type": "stream",
     "text": [
      "\r",
      " 58%|█████████████████████████████████████████████████████████████████████████████████████████████▋                                                                   | 2010/3455 [02:29<01:47, 13.44it/s]"
     ]
    },
    {
     "name": "stdout",
     "output_type": "stream",
     "text": [
      "50092 2022 0\n",
      "527104 2022 0\n",
      "52193 2022 0\n"
     ]
    },
    {
     "name": "stderr",
     "output_type": "stream",
     "text": [
      " 58%|█████████████████████████████████████████████████████████████████████████████████████████████▊                                                                   | 2014/3455 [02:29<01:47, 13.42it/s]"
     ]
    },
    {
     "name": "stdout",
     "output_type": "stream",
     "text": [
      "52486 2022 0\n",
      "529102 2022 0\n",
      "51380 2022 0\n"
     ]
    },
    {
     "name": "stderr",
     "output_type": "stream",
     "text": [
      "\r",
      " 58%|█████████████████████████████████████████████████████████████████████████████████████████████▉                                                                   | 2016/3455 [02:29<01:47, 13.40it/s]"
     ]
    },
    {
     "name": "stdout",
     "output_type": "stream",
     "text": [
      "52590 2022 0\n",
      "49376 2022 0\n",
      "51068 2022 0\n"
     ]
    },
    {
     "name": "stderr",
     "output_type": "stream",
     "text": [
      " 58%|██████████████████████████████████████████████████████████████████████████████████████████████▏                                                                  | 2020/3455 [02:30<01:46, 13.47it/s]"
     ]
    },
    {
     "name": "stdout",
     "output_type": "stream",
     "text": [
      "53779 2022 0\n",
      "51485 2022 0\n",
      "47699 2022 0\n"
     ]
    },
    {
     "name": "stderr",
     "output_type": "stream",
     "text": [
      "\r",
      " 59%|██████████████████████████████████████████████████████████████████████████████████████████████▏                                                                  | 2022/3455 [02:30<01:46, 13.45it/s]"
     ]
    },
    {
     "name": "stdout",
     "output_type": "stream",
     "text": [
      "51891 2022 0\n",
      "51790 2022 0\n",
      "517146 2022 0\n"
     ]
    },
    {
     "name": "stderr",
     "output_type": "stream",
     "text": [
      " 59%|██████████████████████████████████████████████████████████████████████████████████████████████▍                                                                  | 2026/3455 [02:30<01:45, 13.50it/s]"
     ]
    },
    {
     "name": "stdout",
     "output_type": "stream",
     "text": [
      "51267 2022 0\n",
      "477110 2022 0\n",
      "510144 2022 0\n"
     ]
    },
    {
     "name": "stderr",
     "output_type": "stream",
     "text": [
      "\r",
      " 59%|██████████████████████████████████████████████████████████████████████████████████████████████▌                                                                  | 2028/3455 [02:30<01:45, 13.49it/s]"
     ]
    },
    {
     "name": "stdout",
     "output_type": "stream",
     "text": [
      "526104 2022 0\n",
      "530112 2022 0\n",
      "51095 2022 0\n"
     ]
    },
    {
     "name": "stderr",
     "output_type": "stream",
     "text": [
      " 59%|██████████████████████████████████████████████████████████████████████████████████████████████▋                                                                  | 2032/3455 [02:30<01:44, 13.55it/s]"
     ]
    },
    {
     "name": "stdout",
     "output_type": "stream",
     "text": [
      "486129 2022 0\n",
      "541130 2022 0\n",
      "487106 2022 0\n"
     ]
    },
    {
     "name": "stderr",
     "output_type": "stream",
     "text": [
      "\r",
      " 59%|██████████████████████████████████████████████████████████████████████████████████████████████▊                                                                  | 2034/3455 [02:31<01:44, 13.55it/s]"
     ]
    },
    {
     "name": "stdout",
     "output_type": "stream",
     "text": [
      "476130 2022 0\n",
      "48493 2022 0\n",
      "50399 2022 0\n"
     ]
    },
    {
     "name": "stderr",
     "output_type": "stream",
     "text": [
      " 59%|██████████████████████████████████████████████████████████████████████████████████████████████▉                                                                  | 2038/3455 [02:31<01:44, 13.59it/s]"
     ]
    },
    {
     "name": "stdout",
     "output_type": "stream",
     "text": [
      "50468 2022 0\n",
      "492120 2022 0\n",
      "50964 2022 0\n"
     ]
    },
    {
     "name": "stderr",
     "output_type": "stream",
     "text": [
      "\r",
      " 59%|███████████████████████████████████████████████████████████████████████████████████████████████                                                                  | 2040/3455 [02:31<01:44, 13.54it/s]"
     ]
    },
    {
     "name": "stdout",
     "output_type": "stream",
     "text": [
      "489124 2022 0\n",
      "50891 2022 0\n",
      "512107 2022 0\n"
     ]
    },
    {
     "name": "stderr",
     "output_type": "stream",
     "text": [
      " 59%|███████████████████████████████████████████████████████████████████████████████████████████████▏                                                                 | 2044/3455 [02:31<01:46, 13.23it/s]"
     ]
    },
    {
     "name": "stdout",
     "output_type": "stream",
     "text": [
      "51195 2022 0\n",
      "513101 2022 0\n",
      "511117 2022 0\n"
     ]
    },
    {
     "name": "stderr",
     "output_type": "stream",
     "text": [
      "\r",
      " 59%|███████████████████████████████████████████████████████████████████████████████████████████████▎                                                                 | 2046/3455 [02:32<01:45, 13.30it/s]"
     ]
    },
    {
     "name": "stdout",
     "output_type": "stream",
     "text": [
      "528100 2022 0\n",
      "487133 2022 0\n",
      "50366 2022 0\n"
     ]
    },
    {
     "name": "stderr",
     "output_type": "stream",
     "text": [
      " 59%|███████████████████████████████████████████████████████████████████████████████████████████████▌                                                                 | 2050/3455 [02:32<01:44, 13.49it/s]"
     ]
    },
    {
     "name": "stdout",
     "output_type": "stream",
     "text": [
      "516147 2022 0\n",
      "47984 2022 0\n",
      "524117 2022 0\n"
     ]
    },
    {
     "name": "stderr",
     "output_type": "stream",
     "text": [
      "\r",
      " 59%|███████████████████████████████████████████████████████████████████████████████████████████████▌                                                                 | 2052/3455 [02:32<01:44, 13.47it/s]"
     ]
    },
    {
     "name": "stdout",
     "output_type": "stream",
     "text": [
      "486108 2022 0\n",
      "50995 2022 0\n",
      "478121 2022 0\n"
     ]
    },
    {
     "name": "stderr",
     "output_type": "stream",
     "text": [
      " 60%|███████████████████████████████████████████████████████████████████████████████████████████████▊                                                                 | 2056/3455 [02:32<01:44, 13.41it/s]"
     ]
    },
    {
     "name": "stdout",
     "output_type": "stream",
     "text": [
      "52782 2022 0\n",
      "534123 2022 0\n",
      "52478 2022 0\n"
     ]
    },
    {
     "name": "stderr",
     "output_type": "stream",
     "text": [
      "\r",
      " 60%|███████████████████████████████████████████████████████████████████████████████████████████████▉                                                                 | 2058/3455 [02:32<01:44, 13.37it/s]"
     ]
    },
    {
     "name": "stdout",
     "output_type": "stream",
     "text": [
      "514136 2022 0\n",
      "53280 2022 0\n",
      "50864 2022 0\n"
     ]
    },
    {
     "name": "stderr",
     "output_type": "stream",
     "text": [
      " 60%|████████████████████████████████████████████████████████████████████████████████████████████████                                                                 | 2062/3455 [02:33<01:43, 13.40it/s]"
     ]
    },
    {
     "name": "stdout",
     "output_type": "stream",
     "text": [
      "50878 2022 0\n",
      "50288 2022 0\n",
      "519100 2022 0\n"
     ]
    },
    {
     "name": "stderr",
     "output_type": "stream",
     "text": [
      "\r",
      " 60%|████████████████████████████████████████████████████████████████████████████████████████████████▏                                                                | 2064/3455 [02:33<01:44, 13.30it/s]"
     ]
    },
    {
     "name": "stdout",
     "output_type": "stream",
     "text": [
      "520102 2022 0\n",
      "52082 2022 0\n",
      "52371 2022 0\n"
     ]
    },
    {
     "name": "stderr",
     "output_type": "stream",
     "text": [
      " 60%|████████████████████████████████████████████████████████████████████████████████████████████████▎                                                                | 2068/3455 [02:33<01:44, 13.27it/s]"
     ]
    },
    {
     "name": "stdout",
     "output_type": "stream",
     "text": [
      "533136 2022 0\n",
      "524101 2022 0\n",
      "53193 2022 0\n"
     ]
    },
    {
     "name": "stderr",
     "output_type": "stream",
     "text": [
      "\r",
      " 60%|████████████████████████████████████████████████████████████████████████████████████████████████▍                                                                | 2070/3455 [02:33<01:44, 13.26it/s]"
     ]
    },
    {
     "name": "stdout",
     "output_type": "stream",
     "text": [
      "48498 2022 0\n",
      "530135 2022 0\n",
      "526131 2022 0\n"
     ]
    },
    {
     "name": "stderr",
     "output_type": "stream",
     "text": [
      " 60%|████████████████████████████████████████████████████████████████████████████████████████████████▋                                                                | 2074/3455 [02:34<01:43, 13.40it/s]"
     ]
    },
    {
     "name": "stdout",
     "output_type": "stream",
     "text": [
      "49972 2022 0\n",
      "489110 2022 0\n",
      "51683 2022 0\n"
     ]
    },
    {
     "name": "stderr",
     "output_type": "stream",
     "text": [
      "\r",
      " 60%|████████████████████████████████████████████████████████████████████████████████████████████████▋                                                                | 2076/3455 [02:34<01:43, 13.28it/s]"
     ]
    },
    {
     "name": "stdout",
     "output_type": "stream",
     "text": [
      "51665 2022 0\n",
      "52197 2022 0\n",
      "488116 2022 0\n"
     ]
    },
    {
     "name": "stderr",
     "output_type": "stream",
     "text": [
      " 60%|████████████████████████████████████████████████████████████████████████████████████████████████▉                                                                | 2080/3455 [02:34<01:42, 13.42it/s]"
     ]
    },
    {
     "name": "stdout",
     "output_type": "stream",
     "text": [
      "53592 2022 0\n",
      "49564 2022 0\n",
      "50782 2022 0\n"
     ]
    },
    {
     "name": "stderr",
     "output_type": "stream",
     "text": [
      "\r",
      " 60%|█████████████████████████████████████████████████████████████████████████████████████████████████                                                                | 2082/3455 [02:34<01:42, 13.39it/s]"
     ]
    },
    {
     "name": "stdout",
     "output_type": "stream",
     "text": [
      "51084 2022 0\n",
      "50678 2022 0\n",
      "49468 2022 0\n"
     ]
    },
    {
     "name": "stderr",
     "output_type": "stream",
     "text": [
      " 60%|█████████████████████████████████████████████████████████████████████████████████████████████████▏                                                               | 2086/3455 [02:35<01:43, 13.23it/s]"
     ]
    },
    {
     "name": "stdout",
     "output_type": "stream",
     "text": [
      "49990 2022 0\n",
      "53486 2022 0\n",
      "49875 2022 0\n"
     ]
    },
    {
     "name": "stderr",
     "output_type": "stream",
     "text": [
      "\r",
      " 60%|█████████████████████████████████████████████████████████████████████████████████████████████████▎                                                               | 2088/3455 [02:35<01:43, 13.24it/s]"
     ]
    },
    {
     "name": "stdout",
     "output_type": "stream",
     "text": [
      "51670 2022 0\n",
      "51564 2022 0\n",
      "48893 2022 0\n"
     ]
    },
    {
     "name": "stderr",
     "output_type": "stream",
     "text": [
      " 61%|█████████████████████████████████████████████████████████████████████████████████████████████████▍                                                               | 2092/3455 [02:35<01:43, 13.23it/s]"
     ]
    },
    {
     "name": "stdout",
     "output_type": "stream",
     "text": [
      "537100 2022 0\n",
      "482128 2022 0\n",
      "512101 2022 0\n"
     ]
    },
    {
     "name": "stderr",
     "output_type": "stream",
     "text": [
      "\r",
      " 61%|█████████████████████████████████████████████████████████████████████████████████████████████████▌                                                               | 2094/3455 [02:35<01:43, 13.15it/s]"
     ]
    },
    {
     "name": "stdout",
     "output_type": "stream",
     "text": [
      "512100 2022 0\n",
      "508129 2022 0\n",
      "50780 2022 0\n"
     ]
    },
    {
     "name": "stderr",
     "output_type": "stream",
     "text": [
      " 61%|█████████████████████████████████████████████████████████████████████████████████████████████████▊                                                               | 2098/3455 [02:35<01:42, 13.18it/s]"
     ]
    },
    {
     "name": "stdout",
     "output_type": "stream",
     "text": [
      "49678 2022 0\n",
      "50688 2022 0\n",
      "50886 2022 0\n"
     ]
    },
    {
     "name": "stderr",
     "output_type": "stream",
     "text": [
      "\r",
      " 61%|█████████████████████████████████████████████████████████████████████████████████████████████████▊                                                               | 2100/3455 [02:36<01:47, 12.58it/s]"
     ]
    },
    {
     "name": "stdout",
     "output_type": "stream",
     "text": [
      "51967 2022 0\n",
      "54698 2022 0\n",
      "491126 2022 0\n"
     ]
    },
    {
     "name": "stderr",
     "output_type": "stream",
     "text": [
      " 61%|██████████████████████████████████████████████████████████████████████████████████████████████████                                                               | 2104/3455 [02:36<01:50, 12.27it/s]"
     ]
    },
    {
     "name": "stdout",
     "output_type": "stream",
     "text": [
      "521102 2022 0\n",
      "504109 2022 0\n",
      "543105 2022 0\n"
     ]
    },
    {
     "name": "stderr",
     "output_type": "stream",
     "text": [
      "\r",
      " 61%|██████████████████████████████████████████████████████████████████████████████████████████████████▏                                                              | 2106/3455 [02:36<01:50, 12.24it/s]"
     ]
    },
    {
     "name": "stdout",
     "output_type": "stream",
     "text": [
      "518102 2022 0\n",
      "47791 2022 0\n",
      "52674 2022 0\n"
     ]
    },
    {
     "name": "stderr",
     "output_type": "stream",
     "text": [
      " 61%|██████████████████████████████████████████████████████████████████████████████████████████████████▎                                                              | 2110/3455 [02:36<01:49, 12.30it/s]"
     ]
    },
    {
     "name": "stdout",
     "output_type": "stream",
     "text": [
      "542111 2022 0\n",
      "509132 2022 0\n",
      "53798 2022 0\n"
     ]
    },
    {
     "name": "stderr",
     "output_type": "stream",
     "text": [
      "\r",
      " 61%|██████████████████████████████████████████████████████████████████████████████████████████████████▍                                                              | 2112/3455 [02:37<01:50, 12.17it/s]"
     ]
    },
    {
     "name": "stdout",
     "output_type": "stream",
     "text": [
      "49496 2022 0\n",
      "52875 2022 0\n",
      "497113 2022 0\n"
     ]
    },
    {
     "name": "stderr",
     "output_type": "stream",
     "text": [
      " 61%|██████████████████████████████████████████████████████████████████████████████████████████████████▌                                                              | 2116/3455 [02:37<01:49, 12.28it/s]"
     ]
    },
    {
     "name": "stdout",
     "output_type": "stream",
     "text": [
      "541123 2022 0\n",
      "49499 2022 0\n",
      "50372 2022 0\n"
     ]
    },
    {
     "name": "stderr",
     "output_type": "stream",
     "text": [
      "\r",
      " 61%|██████████████████████████████████████████████████████████████████████████████████████████████████▋                                                              | 2118/3455 [02:37<01:48, 12.34it/s]"
     ]
    },
    {
     "name": "stdout",
     "output_type": "stream",
     "text": [
      "490122 2022 0\n",
      "495108 2022 0\n",
      "47893 2022 0\n"
     ]
    },
    {
     "name": "stderr",
     "output_type": "stream",
     "text": [
      " 61%|██████████████████████████████████████████████████████████████████████████████████████████████████▉                                                              | 2122/3455 [02:37<01:47, 12.36it/s]"
     ]
    },
    {
     "name": "stdout",
     "output_type": "stream",
     "text": [
      "481126 2022 0\n",
      "474113 2022 0\n",
      "53189 2022 0\n"
     ]
    },
    {
     "name": "stderr",
     "output_type": "stream",
     "text": [
      "\r",
      " 61%|██████████████████████████████████████████████████████████████████████████████████████████████████▉                                                              | 2124/3455 [02:38<01:46, 12.51it/s]"
     ]
    },
    {
     "name": "stdout",
     "output_type": "stream",
     "text": [
      "512133 2022 0\n",
      "499116 2022 0\n",
      "514103 2022 0\n"
     ]
    },
    {
     "name": "stderr",
     "output_type": "stream",
     "text": [
      " 62%|███████████████████████████████████████████████████████████████████████████████████████████████████▏                                                             | 2128/3455 [02:38<01:43, 12.83it/s]"
     ]
    },
    {
     "name": "stdout",
     "output_type": "stream",
     "text": [
      "53491 2022 0\n",
      "500114 2022 0\n",
      "513112 2022 0\n"
     ]
    },
    {
     "name": "stderr",
     "output_type": "stream",
     "text": [
      "\r",
      " 62%|███████████████████████████████████████████████████████████████████████████████████████████████████▎                                                             | 2130/3455 [02:38<01:44, 12.73it/s]"
     ]
    },
    {
     "name": "stdout",
     "output_type": "stream",
     "text": [
      "502103 2022 0\n",
      "544132 2022 0\n",
      "524109 2022 0\n"
     ]
    },
    {
     "name": "stderr",
     "output_type": "stream",
     "text": [
      " 62%|███████████████████████████████████████████████████████████████████████████████████████████████████▍                                                             | 2134/3455 [02:38<01:42, 12.88it/s]"
     ]
    },
    {
     "name": "stdout",
     "output_type": "stream",
     "text": [
      "542108 2022 0\n",
      "50178 2022 0\n",
      "51082 2022 0\n"
     ]
    },
    {
     "name": "stderr",
     "output_type": "stream",
     "text": [
      "\r",
      " 62%|███████████████████████████████████████████████████████████████████████████████████████████████████▌                                                             | 2136/3455 [02:38<01:41, 12.97it/s]"
     ]
    },
    {
     "name": "stdout",
     "output_type": "stream",
     "text": [
      "51787 2022 0\n",
      "50374 2022 0\n",
      "51677 2022 0\n"
     ]
    },
    {
     "name": "stderr",
     "output_type": "stream",
     "text": [
      " 62%|███████████████████████████████████████████████████████████████████████████████████████████████████▋                                                             | 2140/3455 [02:39<01:40, 13.13it/s]"
     ]
    },
    {
     "name": "stdout",
     "output_type": "stream",
     "text": [
      "50885 2022 0\n",
      "516111 2022 0\n",
      "50664 2022 0\n"
     ]
    },
    {
     "name": "stderr",
     "output_type": "stream",
     "text": [
      "\r",
      " 62%|███████████████████████████████████████████████████████████████████████████████████████████████████▊                                                             | 2142/3455 [02:39<01:40, 13.03it/s]"
     ]
    },
    {
     "name": "stdout",
     "output_type": "stream",
     "text": [
      "50982 2022 0\n",
      "49382 2022 0\n",
      "52294 2022 0\n"
     ]
    },
    {
     "name": "stderr",
     "output_type": "stream",
     "text": [
      " 62%|████████████████████████████████████████████████████████████████████████████████████████████████████                                                             | 2146/3455 [02:39<01:41, 12.85it/s]"
     ]
    },
    {
     "name": "stdout",
     "output_type": "stream",
     "text": [
      "507114 2022 0\n",
      "526102 2022 0\n",
      "53090 2022 0\n"
     ]
    },
    {
     "name": "stderr",
     "output_type": "stream",
     "text": [
      "\r",
      " 62%|████████████████████████████████████████████████████████████████████████████████████████████████████                                                             | 2148/3455 [02:39<01:42, 12.79it/s]"
     ]
    },
    {
     "name": "stdout",
     "output_type": "stream",
     "text": [
      "478117 2022 0\n",
      "526113 2022 0\n",
      "49280 2022 0\n"
     ]
    },
    {
     "name": "stderr",
     "output_type": "stream",
     "text": [
      " 62%|████████████████████████████████████████████████████████████████████████████████████████████████████▎                                                            | 2152/3455 [02:40<01:45, 12.37it/s]"
     ]
    },
    {
     "name": "stdout",
     "output_type": "stream",
     "text": [
      "49581 2022 0\n",
      "481117 2022 0\n",
      "511104 2022 0\n"
     ]
    },
    {
     "name": "stderr",
     "output_type": "stream",
     "text": [
      "\r",
      " 62%|████████████████████████████████████████████████████████████████████████████████████████████████████▎                                                            | 2154/3455 [02:40<01:44, 12.46it/s]"
     ]
    },
    {
     "name": "stdout",
     "output_type": "stream",
     "text": [
      "521125 2022 0\n",
      "51093 2022 0\n",
      "527114 2022 0\n"
     ]
    },
    {
     "name": "stderr",
     "output_type": "stream",
     "text": [
      " 62%|████████████████████████████████████████████████████████████████████████████████████████████████████▌                                                            | 2158/3455 [02:40<01:43, 12.52it/s]"
     ]
    },
    {
     "name": "stdout",
     "output_type": "stream",
     "text": [
      "513102 2022 0\n",
      "50777 2022 0\n",
      "50686 2022 0\n"
     ]
    },
    {
     "name": "stderr",
     "output_type": "stream",
     "text": [
      "\r",
      " 63%|████████████████████████████████████████████████████████████████████████████████████████████████████▋                                                            | 2160/3455 [02:40<01:42, 12.66it/s]"
     ]
    },
    {
     "name": "stdout",
     "output_type": "stream",
     "text": [
      "516145 2022 0\n",
      "54594 2022 0\n",
      "540107 2022 0\n"
     ]
    },
    {
     "name": "stderr",
     "output_type": "stream",
     "text": [
      " 63%|████████████████████████████████████████████████████████████████████████████████████████████████████▊                                                            | 2164/3455 [02:41<01:41, 12.77it/s]"
     ]
    },
    {
     "name": "stdout",
     "output_type": "stream",
     "text": [
      "479112 2022 0\n",
      "49799 2022 0\n",
      "518114 2022 0\n"
     ]
    },
    {
     "name": "stderr",
     "output_type": "stream",
     "text": [
      "\r",
      " 63%|████████████████████████████████████████████████████████████████████████████████████████████████████▉                                                            | 2166/3455 [02:41<01:40, 12.79it/s]"
     ]
    },
    {
     "name": "stdout",
     "output_type": "stream",
     "text": [
      "506103 2022 0\n",
      "514111 2022 0\n",
      "53676 2022 0\n"
     ]
    },
    {
     "name": "stderr",
     "output_type": "stream",
     "text": [
      " 63%|█████████████████████████████████████████████████████████████████████████████████████████████████████                                                            | 2170/3455 [02:41<01:40, 12.79it/s]"
     ]
    },
    {
     "name": "stdout",
     "output_type": "stream",
     "text": [
      "50774 2022 0\n",
      "479121 2022 0\n",
      "522105 2022 0\n"
     ]
    },
    {
     "name": "stderr",
     "output_type": "stream",
     "text": [
      "\r",
      " 63%|█████████████████████████████████████████████████████████████████████████████████████████████████████▏                                                           | 2172/3455 [02:41<01:40, 12.72it/s]"
     ]
    },
    {
     "name": "stdout",
     "output_type": "stream",
     "text": [
      "49483 2022 0\n",
      "497101 2022 0\n",
      "534103 2022 0\n"
     ]
    },
    {
     "name": "stderr",
     "output_type": "stream",
     "text": [
      " 63%|█████████████████████████████████████████████████████████████████████████████████████████████████████▍                                                           | 2176/3455 [02:42<01:41, 12.57it/s]"
     ]
    },
    {
     "name": "stdout",
     "output_type": "stream",
     "text": [
      "506107 2022 0\n",
      "50893 2022 0\n",
      "52076 2022 0\n"
     ]
    },
    {
     "name": "stderr",
     "output_type": "stream",
     "text": [
      "\r",
      " 63%|█████████████████████████████████████████████████████████████████████████████████████████████████████▍                                                           | 2178/3455 [02:42<01:40, 12.67it/s]"
     ]
    },
    {
     "name": "stdout",
     "output_type": "stream",
     "text": [
      "48680 2022 0\n",
      "540126 2022 0\n",
      "53397 2022 0\n"
     ]
    },
    {
     "name": "stderr",
     "output_type": "stream",
     "text": [
      " 63%|█████████████████████████████████████████████████████████████████████████████████████████████████████▋                                                           | 2182/3455 [02:42<01:39, 12.81it/s]"
     ]
    },
    {
     "name": "stdout",
     "output_type": "stream",
     "text": [
      "544127 2022 0\n",
      "54895 2022 0\n",
      "506119 2022 0\n"
     ]
    },
    {
     "name": "stderr",
     "output_type": "stream",
     "text": [
      "\r",
      " 63%|█████████████████████████████████████████████████████████████████████████████████████████████████████▊                                                           | 2184/3455 [02:42<01:39, 12.75it/s]"
     ]
    },
    {
     "name": "stdout",
     "output_type": "stream",
     "text": [
      "512145 2022 0\n",
      "488110 2022 0\n",
      "50089 2022 0\n"
     ]
    },
    {
     "name": "stderr",
     "output_type": "stream",
     "text": [
      " 63%|█████████████████████████████████████████████████████████████████████████████████████████████████████▉                                                           | 2188/3455 [02:43<01:39, 12.79it/s]"
     ]
    },
    {
     "name": "stdout",
     "output_type": "stream",
     "text": [
      "51476 2022 0\n",
      "497122 2022 0\n",
      "488103 2022 0\n"
     ]
    },
    {
     "name": "stderr",
     "output_type": "stream",
     "text": [
      "\r",
      " 63%|██████████████████████████████████████████████████████████████████████████████████████████████████████                                                           | 2190/3455 [02:43<01:39, 12.76it/s]"
     ]
    },
    {
     "name": "stdout",
     "output_type": "stream",
     "text": [
      "543100 2022 0\n",
      "534100 2022 0\n",
      "49579 2022 0\n"
     ]
    },
    {
     "name": "stderr",
     "output_type": "stream",
     "text": [
      " 64%|██████████████████████████████████████████████████████████████████████████████████████████████████████▏                                                          | 2194/3455 [02:43<01:39, 12.71it/s]"
     ]
    },
    {
     "name": "stdout",
     "output_type": "stream",
     "text": [
      "489109 2022 0\n",
      "538126 2022 0\n",
      "52292 2022 0\n"
     ]
    },
    {
     "name": "stderr",
     "output_type": "stream",
     "text": [
      "\r",
      " 64%|██████████████████████████████████████████████████████████████████████████████████████████████████████▎                                                          | 2196/3455 [02:43<01:39, 12.65it/s]"
     ]
    },
    {
     "name": "stdout",
     "output_type": "stream",
     "text": [
      "48386 2022 0\n",
      "49766 2022 0\n",
      "530121 2022 0\n"
     ]
    },
    {
     "name": "stderr",
     "output_type": "stream",
     "text": [
      " 64%|██████████████████████████████████████████████████████████████████████████████████████████████████████▌                                                          | 2200/3455 [02:44<01:39, 12.57it/s]"
     ]
    },
    {
     "name": "stdout",
     "output_type": "stream",
     "text": [
      "539107 2022 0\n",
      "510148 2022 0\n",
      "50969 2022 0\n"
     ]
    },
    {
     "name": "stderr",
     "output_type": "stream",
     "text": [
      "\r",
      " 64%|██████████████████████████████████████████████████████████████████████████████████████████████████████▌                                                          | 2202/3455 [02:44<01:38, 12.72it/s]"
     ]
    },
    {
     "name": "stdout",
     "output_type": "stream",
     "text": [
      "49090 2022 0\n",
      "500104 2022 0\n",
      "538124 2022 0\n"
     ]
    },
    {
     "name": "stderr",
     "output_type": "stream",
     "text": [
      " 64%|██████████████████████████████████████████████████████████████████████████████████████████████████████▊                                                          | 2206/3455 [02:44<01:36, 12.96it/s]"
     ]
    },
    {
     "name": "stdout",
     "output_type": "stream",
     "text": [
      "47682 2022 0\n",
      "500118 2022 0\n",
      "517134 2022 0\n"
     ]
    },
    {
     "name": "stderr",
     "output_type": "stream",
     "text": [
      "\r",
      " 64%|██████████████████████████████████████████████████████████████████████████████████████████████████████▉                                                          | 2208/3455 [02:44<01:36, 12.86it/s]"
     ]
    },
    {
     "name": "stdout",
     "output_type": "stream",
     "text": [
      "519146 2022 0\n",
      "52685 2022 0\n",
      "48290 2022 0\n"
     ]
    },
    {
     "name": "stderr",
     "output_type": "stream",
     "text": [
      " 64%|███████████████████████████████████████████████████████████████████████████████████████████████████████                                                          | 2212/3455 [02:44<01:34, 13.15it/s]"
     ]
    },
    {
     "name": "stdout",
     "output_type": "stream",
     "text": [
      "497111 2022 0\n",
      "49873 2022 0\n",
      "54597 2022 0\n"
     ]
    },
    {
     "name": "stderr",
     "output_type": "stream",
     "text": [
      "\r",
      " 64%|███████████████████████████████████████████████████████████████████████████████████████████████████████▏                                                         | 2214/3455 [02:45<01:35, 13.00it/s]"
     ]
    },
    {
     "name": "stdout",
     "output_type": "stream",
     "text": [
      "479105 2022 0\n",
      "50284 2022 0\n",
      "535111 2022 0\n"
     ]
    },
    {
     "name": "stderr",
     "output_type": "stream",
     "text": [
      " 64%|███████████████████████████████████████████████████████████████████████████████████████████████████████▎                                                         | 2218/3455 [02:45<01:36, 12.87it/s]"
     ]
    },
    {
     "name": "stdout",
     "output_type": "stream",
     "text": [
      "50491 2022 0\n",
      "516138 2022 0\n",
      "52671 2022 0\n"
     ]
    },
    {
     "name": "stderr",
     "output_type": "stream",
     "text": [
      "\r",
      " 64%|███████████████████████████████████████████████████████████████████████████████████████████████████████▍                                                         | 2220/3455 [02:45<01:35, 12.94it/s]"
     ]
    },
    {
     "name": "stdout",
     "output_type": "stream",
     "text": [
      "49494 2022 0\n",
      "511136 2022 0\n",
      "492110 2022 0\n"
     ]
    },
    {
     "name": "stderr",
     "output_type": "stream",
     "text": [
      " 64%|███████████████████████████████████████████████████████████████████████████████████████████████████████▋                                                         | 2224/3455 [02:45<01:36, 12.78it/s]"
     ]
    },
    {
     "name": "stdout",
     "output_type": "stream",
     "text": [
      "528120 2022 0\n",
      "498105 2022 0\n",
      "47898 2022 0\n"
     ]
    },
    {
     "name": "stderr",
     "output_type": "stream",
     "text": [
      "\r",
      " 64%|███████████████████████████████████████████████████████████████████████████████████████████████████████▋                                                         | 2226/3455 [02:46<01:37, 12.64it/s]"
     ]
    },
    {
     "name": "stdout",
     "output_type": "stream",
     "text": [
      "51389 2022 0\n",
      "48282 2022 0\n",
      "526135 2022 0\n"
     ]
    },
    {
     "name": "stderr",
     "output_type": "stream",
     "text": [
      " 65%|███████████████████████████████████████████████████████████████████████████████████████████████████████▉                                                         | 2230/3455 [02:46<01:36, 12.63it/s]"
     ]
    },
    {
     "name": "stdout",
     "output_type": "stream",
     "text": [
      "515100 2022 0\n",
      "49586 2022 0\n",
      "50672 2022 0\n"
     ]
    },
    {
     "name": "stderr",
     "output_type": "stream",
     "text": [
      "\r",
      " 65%|████████████████████████████████████████████████████████████████████████████████████████████████████████                                                         | 2232/3455 [02:46<01:35, 12.83it/s]"
     ]
    },
    {
     "name": "stdout",
     "output_type": "stream",
     "text": [
      "503108 2022 0\n",
      "50071 2022 0\n",
      "492105 2022 0\n"
     ]
    },
    {
     "name": "stderr",
     "output_type": "stream",
     "text": [
      " 65%|████████████████████████████████████████████████████████████████████████████████████████████████████████▏                                                        | 2236/3455 [02:46<01:35, 12.80it/s]"
     ]
    },
    {
     "name": "stdout",
     "output_type": "stream",
     "text": [
      "490107 2022 0\n",
      "506104 2022 0\n",
      "52177 2022 0\n"
     ]
    },
    {
     "name": "stderr",
     "output_type": "stream",
     "text": [
      "\r",
      " 65%|████████████████████████████████████████████████████████████████████████████████████████████████████████▎                                                        | 2238/3455 [02:46<01:34, 12.82it/s]"
     ]
    },
    {
     "name": "stdout",
     "output_type": "stream",
     "text": [
      "494116 2022 0\n",
      "517140 2022 0\n",
      "539102 2022 0\n"
     ]
    },
    {
     "name": "stderr",
     "output_type": "stream",
     "text": [
      " 65%|████████████████████████████████████████████████████████████████████████████████████████████████████████▍                                                        | 2242/3455 [02:47<01:33, 12.93it/s]"
     ]
    },
    {
     "name": "stdout",
     "output_type": "stream",
     "text": [
      "531119 2022 0\n",
      "486125 2022 0\n",
      "47778 2022 0\n"
     ]
    },
    {
     "name": "stderr",
     "output_type": "stream",
     "text": [
      "\r",
      " 65%|████████████████████████████████████████████████████████████████████████████████████████████████████████▌                                                        | 2244/3455 [02:47<01:33, 12.93it/s]"
     ]
    },
    {
     "name": "stdout",
     "output_type": "stream",
     "text": [
      "50587 2022 0\n",
      "50469 2022 0\n",
      "518122 2022 0\n"
     ]
    },
    {
     "name": "stderr",
     "output_type": "stream",
     "text": [
      " 65%|████████████████████████████████████████████████████████████████████████████████████████████████████████▊                                                        | 2248/3455 [02:47<01:34, 12.82it/s]"
     ]
    },
    {
     "name": "stdout",
     "output_type": "stream",
     "text": [
      "490105 2022 0\n",
      "524138 2022 0\n",
      "50976 2022 0\n"
     ]
    },
    {
     "name": "stderr",
     "output_type": "stream",
     "text": [
      "\r",
      " 65%|████████████████████████████████████████████████████████████████████████████████████████████████████████▊                                                        | 2250/3455 [02:47<01:34, 12.80it/s]"
     ]
    },
    {
     "name": "stdout",
     "output_type": "stream",
     "text": [
      "524127 2022 0\n",
      "50570 2022 0\n",
      "50392 2022 0\n"
     ]
    },
    {
     "name": "stderr",
     "output_type": "stream",
     "text": [
      " 65%|█████████████████████████████████████████████████████████████████████████████████████████████████████████                                                        | 2254/3455 [02:48<01:34, 12.71it/s]"
     ]
    },
    {
     "name": "stdout",
     "output_type": "stream",
     "text": [
      "530128 2022 0\n",
      "482110 2022 0\n",
      "529128 2022 0\n"
     ]
    },
    {
     "name": "stderr",
     "output_type": "stream",
     "text": [
      "\r",
      " 65%|█████████████████████████████████████████████████████████████████████████████████████████████████████████▏                                                       | 2256/3455 [02:48<01:34, 12.74it/s]"
     ]
    },
    {
     "name": "stdout",
     "output_type": "stream",
     "text": [
      "51072 2022 0\n",
      "49083 2022 0\n",
      "538112 2022 0\n"
     ]
    },
    {
     "name": "stderr",
     "output_type": "stream",
     "text": [
      " 65%|█████████████████████████████████████████████████████████████████████████████████████████████████████████▎                                                       | 2260/3455 [02:48<01:31, 13.04it/s]"
     ]
    },
    {
     "name": "stdout",
     "output_type": "stream",
     "text": [
      "53376 2022 0\n",
      "52378 2022 0\n",
      "539137 2022 0\n"
     ]
    },
    {
     "name": "stderr",
     "output_type": "stream",
     "text": [
      "\r",
      " 65%|█████████████████████████████████████████████████████████████████████████████████████████████████████████▍                                                       | 2262/3455 [02:48<01:31, 12.99it/s]"
     ]
    },
    {
     "name": "stdout",
     "output_type": "stream",
     "text": [
      "52595 2022 0\n",
      "511139 2022 0\n",
      "52587 2022 0\n"
     ]
    },
    {
     "name": "stderr",
     "output_type": "stream",
     "text": [
      " 66%|█████████████████████████████████████████████████████████████████████████████████████████████████████████▌                                                       | 2266/3455 [02:49<01:31, 13.02it/s]"
     ]
    },
    {
     "name": "stdout",
     "output_type": "stream",
     "text": [
      "539129 2022 0\n",
      "50383 2022 0\n",
      "53488 2022 0\n"
     ]
    },
    {
     "name": "stderr",
     "output_type": "stream",
     "text": [
      "\r",
      " 66%|█████████████████████████████████████████████████████████████████████████████████████████████████████████▋                                                       | 2268/3455 [02:49<01:32, 12.83it/s]"
     ]
    },
    {
     "name": "stdout",
     "output_type": "stream",
     "text": [
      "486135 2022 0\n",
      "51867 2022 0\n",
      "501103 2022 0\n"
     ]
    },
    {
     "name": "stderr",
     "output_type": "stream",
     "text": [
      " 66%|█████████████████████████████████████████████████████████████████████████████████████████████████████████▊                                                       | 2272/3455 [02:49<01:31, 12.88it/s]"
     ]
    },
    {
     "name": "stdout",
     "output_type": "stream",
     "text": [
      "51999 2022 0\n",
      "529136 2022 0\n",
      "524106 2022 0\n"
     ]
    },
    {
     "name": "stderr",
     "output_type": "stream",
     "text": [
      "\r",
      " 66%|█████████████████████████████████████████████████████████████████████████████████████████████████████████▉                                                       | 2274/3455 [02:49<01:32, 12.78it/s]"
     ]
    },
    {
     "name": "stdout",
     "output_type": "stream",
     "text": [
      "530138 2022 0\n",
      "50475 2022 0\n",
      "539138 2022 0\n"
     ]
    },
    {
     "name": "stderr",
     "output_type": "stream",
     "text": [
      " 66%|██████████████████████████████████████████████████████████████████████████████████████████████████████████▏                                                      | 2278/3455 [02:50<01:32, 12.78it/s]"
     ]
    },
    {
     "name": "stdout",
     "output_type": "stream",
     "text": [
      "53087 2022 0\n",
      "50388 2022 0\n",
      "486134 2022 0\n"
     ]
    },
    {
     "name": "stderr",
     "output_type": "stream",
     "text": [
      "\r",
      " 66%|██████████████████████████████████████████████████████████████████████████████████████████████████████████▏                                                      | 2280/3455 [02:50<01:33, 12.59it/s]"
     ]
    },
    {
     "name": "stdout",
     "output_type": "stream",
     "text": [
      "513122 2022 0\n",
      "517120 2022 0\n",
      "511130 2022 0\n"
     ]
    },
    {
     "name": "stderr",
     "output_type": "stream",
     "text": [
      " 66%|██████████████████████████████████████████████████████████████████████████████████████████████████████████▍                                                      | 2284/3455 [02:50<01:36, 12.13it/s]"
     ]
    },
    {
     "name": "stdout",
     "output_type": "stream",
     "text": [
      "504107 2022 0\n",
      "50967 2022 0\n",
      "494120 2022 0\n"
     ]
    },
    {
     "name": "stderr",
     "output_type": "stream",
     "text": [
      "\r",
      " 66%|██████████████████████████████████████████████████████████████████████████████████████████████████████████▌                                                      | 2286/3455 [02:50<01:35, 12.18it/s]"
     ]
    },
    {
     "name": "stdout",
     "output_type": "stream",
     "text": [
      "49295 2022 0\n",
      "520139 2022 0\n",
      "481100 2022 0\n"
     ]
    },
    {
     "name": "stderr",
     "output_type": "stream",
     "text": [
      " 66%|██████████████████████████████████████████████████████████████████████████████████████████████████████████▋                                                      | 2290/3455 [02:51<01:32, 12.62it/s]"
     ]
    },
    {
     "name": "stdout",
     "output_type": "stream",
     "text": [
      "524126 2022 0\n",
      "50670 2022 0\n",
      "536120 2022 0\n"
     ]
    },
    {
     "name": "stderr",
     "output_type": "stream",
     "text": [
      "\r",
      " 66%|██████████████████████████████████████████████████████████████████████████████████████████████████████████▊                                                      | 2292/3455 [02:51<01:31, 12.68it/s]"
     ]
    },
    {
     "name": "stdout",
     "output_type": "stream",
     "text": [
      "544136 2022 0\n",
      "54299 2022 0\n",
      "532102 2022 0\n"
     ]
    },
    {
     "name": "stderr",
     "output_type": "stream",
     "text": [
      " 66%|██████████████████████████████████████████████████████████████████████████████████████████████████████████▉                                                      | 2296/3455 [02:51<01:30, 12.79it/s]"
     ]
    },
    {
     "name": "stdout",
     "output_type": "stream",
     "text": [
      "492112 2022 0\n",
      "510125 2022 0\n",
      "48697 2022 0\n"
     ]
    },
    {
     "name": "stderr",
     "output_type": "stream",
     "text": [
      "\r",
      " 67%|███████████████████████████████████████████████████████████████████████████████████████████████████████████                                                      | 2298/3455 [02:51<01:30, 12.83it/s]"
     ]
    },
    {
     "name": "stdout",
     "output_type": "stream",
     "text": [
      "507116 2022 0\n",
      "52778 2022 0\n",
      "535120 2022 0\n"
     ]
    },
    {
     "name": "stderr",
     "output_type": "stream",
     "text": [
      " 67%|███████████████████████████████████████████████████████████████████████████████████████████████████████████▎                                                     | 2302/3455 [02:51<01:29, 12.92it/s]"
     ]
    },
    {
     "name": "stdout",
     "output_type": "stream",
     "text": [
      "49994 2022 0\n",
      "492109 2022 0\n",
      "487103 2022 0\n"
     ]
    },
    {
     "name": "stderr",
     "output_type": "stream",
     "text": [
      "\r",
      " 67%|███████████████████████████████████████████████████████████████████████████████████████████████████████████▎                                                     | 2304/3455 [02:52<01:29, 12.88it/s]"
     ]
    },
    {
     "name": "stdout",
     "output_type": "stream",
     "text": [
      "47885 2022 0\n",
      "481115 2022 0\n",
      "48895 2022 0\n"
     ]
    },
    {
     "name": "stderr",
     "output_type": "stream",
     "text": [
      " 67%|███████████████████████████████████████████████████████████████████████████████████████████████████████████▌                                                     | 2308/3455 [02:52<01:28, 12.92it/s]"
     ]
    },
    {
     "name": "stdout",
     "output_type": "stream",
     "text": [
      "52286 2022 0\n",
      "52099 2022 0\n",
      "52376 2022 0\n"
     ]
    },
    {
     "name": "stderr",
     "output_type": "stream",
     "text": [
      "\r",
      " 67%|███████████████████████████████████████████████████████████████████████████████████████████████████████████▋                                                     | 2310/3455 [02:52<01:28, 12.93it/s]"
     ]
    },
    {
     "name": "stdout",
     "output_type": "stream",
     "text": [
      "485131 2022 0\n",
      "524114 2022 0\n",
      "50860 2022 0\n"
     ]
    },
    {
     "name": "stderr",
     "output_type": "stream",
     "text": [
      " 67%|███████████████████████████████████████████████████████████████████████████████████████████████████████████▊                                                     | 2314/3455 [02:52<01:27, 13.06it/s]"
     ]
    },
    {
     "name": "stdout",
     "output_type": "stream",
     "text": [
      "48887 2022 0\n",
      "512141 2022 0\n",
      "49881 2022 0\n"
     ]
    },
    {
     "name": "stderr",
     "output_type": "stream",
     "text": [
      "\r",
      " 67%|███████████████████████████████████████████████████████████████████████████████████████████████████████████▉                                                     | 2316/3455 [02:53<01:28, 12.94it/s]"
     ]
    },
    {
     "name": "stdout",
     "output_type": "stream",
     "text": [
      "537110 2022 0\n",
      "51271 2022 0\n",
      "520117 2022 0\n"
     ]
    },
    {
     "name": "stderr",
     "output_type": "stream",
     "text": [
      " 67%|████████████████████████████████████████████████████████████████████████████████████████████████████████████                                                     | 2320/3455 [02:53<01:28, 12.86it/s]"
     ]
    },
    {
     "name": "stdout",
     "output_type": "stream",
     "text": [
      "527141 2022 0\n",
      "511138 2022 0\n",
      "50681 2022 0\n"
     ]
    },
    {
     "name": "stderr",
     "output_type": "stream",
     "text": [
      "\r",
      " 67%|████████████████████████████████████████████████████████████████████████████████████████████████████████████▏                                                    | 2322/3455 [02:53<01:29, 12.70it/s]"
     ]
    },
    {
     "name": "stdout",
     "output_type": "stream",
     "text": [
      "49397 2022 0\n",
      "478104 2022 0\n",
      "49978 2022 0\n"
     ]
    },
    {
     "name": "stderr",
     "output_type": "stream",
     "text": [
      " 67%|████████████████████████████████████████████████████████████████████████████████████████████████████████████▍                                                    | 2326/3455 [02:53<01:27, 12.86it/s]"
     ]
    },
    {
     "name": "stdout",
     "output_type": "stream",
     "text": [
      "50063 2022 0\n",
      "511121 2022 0\n",
      "49970 2022 0\n"
     ]
    },
    {
     "name": "stderr",
     "output_type": "stream",
     "text": [
      "\r",
      " 67%|████████████████████████████████████████████████████████████████████████████████████████████████████████████▍                                                    | 2328/3455 [02:54<01:28, 12.76it/s]"
     ]
    },
    {
     "name": "stdout",
     "output_type": "stream",
     "text": [
      "487135 2022 0\n",
      "51269 2022 0\n",
      "514137 2022 0\n"
     ]
    },
    {
     "name": "stderr",
     "output_type": "stream",
     "text": [
      " 67%|████████████████████████████████████████████████████████████████████████████████████████████████████████████▋                                                    | 2332/3455 [02:54<01:28, 12.75it/s]"
     ]
    },
    {
     "name": "stdout",
     "output_type": "stream",
     "text": [
      "51765 2022 0\n",
      "504119 2022 0\n",
      "51276 2022 0\n"
     ]
    },
    {
     "name": "stderr",
     "output_type": "stream",
     "text": [
      "\r",
      " 68%|████████████████████████████████████████████████████████████████████████████████████████████████████████████▊                                                    | 2334/3455 [02:54<01:28, 12.67it/s]"
     ]
    },
    {
     "name": "stdout",
     "output_type": "stream",
     "text": [
      "529141 2022 0\n",
      "520119 2022 0\n",
      "50882 2022 0\n"
     ]
    },
    {
     "name": "stderr",
     "output_type": "stream",
     "text": [
      " 68%|████████████████████████████████████████████████████████████████████████████████████████████████████████████▉                                                    | 2338/3455 [02:54<01:27, 12.76it/s]"
     ]
    },
    {
     "name": "stdout",
     "output_type": "stream",
     "text": [
      "53073 2022 0\n",
      "531111 2022 0\n",
      "483203 2022 0\n"
     ]
    },
    {
     "name": "stderr",
     "output_type": "stream",
     "text": [
      "\r",
      " 68%|█████████████████████████████████████████████████████████████████████████████████████████████████████████████                                                    | 2340/3455 [02:54<01:28, 12.66it/s]"
     ]
    },
    {
     "name": "stdout",
     "output_type": "stream",
     "text": [
      "492219 2022 0\n",
      "474151 2022 0\n",
      "472148 2022 0\n"
     ]
    },
    {
     "name": "stderr",
     "output_type": "stream",
     "text": [
      " 68%|█████████████████████████████████████████████████████████████████████████████████████████████████████████████▏                                                   | 2344/3455 [02:55<01:26, 12.86it/s]"
     ]
    },
    {
     "name": "stdout",
     "output_type": "stream",
     "text": [
      "52098 2022 0\n",
      "49288 2022 0\n",
      "50684 2022 0\n"
     ]
    },
    {
     "name": "stderr",
     "output_type": "stream",
     "text": [
      "\r",
      " 68%|█████████████████████████████████████████████████████████████████████████████████████████████████████████████▎                                                   | 2346/3455 [02:55<01:26, 12.83it/s]"
     ]
    },
    {
     "name": "stdout",
     "output_type": "stream",
     "text": [
      "484133 2022 0\n",
      "49274 2022 0\n",
      "50767 2022 0\n"
     ]
    },
    {
     "name": "stderr",
     "output_type": "stream",
     "text": [
      " 68%|█████████████████████████████████████████████████████████████████████████████████████████████████████████████▌                                                   | 2350/3455 [02:55<01:26, 12.82it/s]"
     ]
    },
    {
     "name": "stdout",
     "output_type": "stream",
     "text": [
      "485107 2022 0\n",
      "48699 2022 0\n",
      "484117 2022 0\n"
     ]
    },
    {
     "name": "stderr",
     "output_type": "stream",
     "text": [
      "\r",
      " 68%|█████████████████████████████████████████████████████████████████████████████████████████████████████████████▌                                                   | 2352/3455 [02:55<01:26, 12.71it/s]"
     ]
    },
    {
     "name": "stdout",
     "output_type": "stream",
     "text": [
      "484109 2022 0\n",
      "482101 2022 0\n",
      "49590 2022 0\n"
     ]
    },
    {
     "name": "stderr",
     "output_type": "stream",
     "text": [
      " 68%|█████████████████████████████████████████████████████████████████████████████████████████████████████████████▊                                                   | 2356/3455 [02:56<01:26, 12.77it/s]"
     ]
    },
    {
     "name": "stdout",
     "output_type": "stream",
     "text": [
      "52085 2022 0\n",
      "48088 2022 0\n",
      "49592 2022 0\n"
     ]
    },
    {
     "name": "stderr",
     "output_type": "stream",
     "text": [
      "\r",
      " 68%|█████████████████████████████████████████████████████████████████████████████████████████████████████████████▉                                                   | 2358/3455 [02:56<01:24, 12.94it/s]"
     ]
    },
    {
     "name": "stdout",
     "output_type": "stream",
     "text": [
      "477103 2022 0\n",
      "53679 2022 0\n",
      "477102 2022 0\n"
     ]
    },
    {
     "name": "stderr",
     "output_type": "stream",
     "text": [
      " 68%|██████████████████████████████████████████████████████████████████████████████████████████████████████████████                                                   | 2362/3455 [02:56<01:25, 12.73it/s]"
     ]
    },
    {
     "name": "stdout",
     "output_type": "stream",
     "text": [
      "50697 2022 0\n",
      "50069 2022 0\n",
      "48080 2022 0\n"
     ]
    },
    {
     "name": "stderr",
     "output_type": "stream",
     "text": [
      "\r",
      " 68%|██████████████████████████████████████████████████████████████████████████████████████████████████████████████▏                                                  | 2364/3455 [02:56<01:25, 12.69it/s]"
     ]
    },
    {
     "name": "stdout",
     "output_type": "stream",
     "text": [
      "50478 2022 0\n",
      "536104 2022 0\n",
      "50283 2022 0\n"
     ]
    },
    {
     "name": "stderr",
     "output_type": "stream",
     "text": [
      " 69%|██████████████████████████████████████████████████████████████████████████████████████████████████████████████▎                                                  | 2368/3455 [02:57<01:26, 12.63it/s]"
     ]
    },
    {
     "name": "stdout",
     "output_type": "stream",
     "text": [
      "51278 2022 0\n",
      "498100 2022 0\n",
      "49769 2022 0\n"
     ]
    },
    {
     "name": "stderr",
     "output_type": "stream",
     "text": [
      "\r",
      " 69%|██████████████████████████████████████████████████████████████████████████████████████████████████████████████▍                                                  | 2370/3455 [02:57<01:25, 12.69it/s]"
     ]
    },
    {
     "name": "stdout",
     "output_type": "stream",
     "text": [
      "51863 2022 0\n",
      "515136 2022 0\n",
      "528106 2022 0\n"
     ]
    },
    {
     "name": "stderr",
     "output_type": "stream",
     "text": [
      " 69%|██████████████████████████████████████████████████████████████████████████████████████████████████████████████▋                                                  | 2374/3455 [02:57<01:25, 12.67it/s]"
     ]
    },
    {
     "name": "stdout",
     "output_type": "stream",
     "text": [
      "53580 2022 0\n",
      "52087 2022 0\n",
      "50669 2022 0\n"
     ]
    },
    {
     "name": "stderr",
     "output_type": "stream",
     "text": [
      "\r",
      " 69%|██████████████████████████████████████████████████████████████████████████████████████████████████████████████▋                                                  | 2376/3455 [02:57<01:27, 12.34it/s]"
     ]
    },
    {
     "name": "stdout",
     "output_type": "stream",
     "text": [
      "50662 2022 0\n",
      "52181 2022 0\n",
      "51190 2022 0\n"
     ]
    },
    {
     "name": "stderr",
     "output_type": "stream",
     "text": [
      " 69%|██████████████████████████████████████████████████████████████████████████████████████████████████████████████▉                                                  | 2380/3455 [02:58<01:25, 12.50it/s]"
     ]
    },
    {
     "name": "stdout",
     "output_type": "stream",
     "text": [
      "474103 2022 0\n",
      "54097 2022 0\n",
      "537118 2022 0\n"
     ]
    },
    {
     "name": "stderr",
     "output_type": "stream",
     "text": [
      "\r",
      " 69%|██████████████████████████████████████████████████████████████████████████████████████████████████████████████▉                                                  | 2382/3455 [02:58<01:25, 12.57it/s]"
     ]
    },
    {
     "name": "stdout",
     "output_type": "stream",
     "text": [
      "515129 2022 0\n",
      "54488 2022 0\n",
      "50786 2022 0\n"
     ]
    },
    {
     "name": "stderr",
     "output_type": "stream",
     "text": [
      " 69%|███████████████████████████████████████████████████████████████████████████████████████████████████████████████▏                                                 | 2386/3455 [02:58<01:23, 12.84it/s]"
     ]
    },
    {
     "name": "stdout",
     "output_type": "stream",
     "text": [
      "53492 2022 0\n",
      "541105 2022 0\n",
      "53995 2022 0\n"
     ]
    },
    {
     "name": "stderr",
     "output_type": "stream",
     "text": [
      "\r",
      " 69%|███████████████████████████████████████████████████████████████████████████████████████████████████████████████▎                                                 | 2388/3455 [02:58<01:23, 12.82it/s]"
     ]
    },
    {
     "name": "stdout",
     "output_type": "stream",
     "text": [
      "54495 2022 0\n",
      "50385 2022 0\n",
      "52993 2022 0\n"
     ]
    },
    {
     "name": "stderr",
     "output_type": "stream",
     "text": [
      " 69%|███████████████████████████████████████████████████████████████████████████████████████████████████████████████▍                                                 | 2392/3455 [02:59<01:25, 12.48it/s]"
     ]
    },
    {
     "name": "stdout",
     "output_type": "stream",
     "text": [
      "515116 2022 0\n",
      "532132 2022 0\n",
      "520112 2022 0\n"
     ]
    },
    {
     "name": "stderr",
     "output_type": "stream",
     "text": [
      "\r",
      " 69%|███████████████████████████████████████████████████████████████████████████████████████████████████████████████▌                                                 | 2394/3455 [02:59<01:24, 12.61it/s]"
     ]
    },
    {
     "name": "stdout",
     "output_type": "stream",
     "text": [
      "516110 2022 0\n",
      "517107 2022 0\n",
      "515146 2022 0\n"
     ]
    },
    {
     "name": "stderr",
     "output_type": "stream",
     "text": [
      " 69%|███████████████████████████████████████████████████████████████████████████████████████████████████████████████▋                                                 | 2398/3455 [02:59<01:25, 12.31it/s]"
     ]
    },
    {
     "name": "stdout",
     "output_type": "stream",
     "text": [
      "516107 2022 0\n",
      "51885 2022 0\n",
      "505126 2022 0\n"
     ]
    },
    {
     "name": "stderr",
     "output_type": "stream",
     "text": [
      "\r",
      " 69%|███████████████████████████████████████████████████████████████████████████████████████████████████████████████▊                                                 | 2400/3455 [02:59<01:24, 12.50it/s]"
     ]
    },
    {
     "name": "stdout",
     "output_type": "stream",
     "text": [
      "49891 2022 0\n",
      "506127 2022 0\n",
      "53675 2022 0\n"
     ]
    },
    {
     "name": "stderr",
     "output_type": "stream",
     "text": [
      " 70%|████████████████████████████████████████████████████████████████████████████████████████████████████████████████                                                 | 2404/3455 [03:00<01:23, 12.61it/s]"
     ]
    },
    {
     "name": "stdout",
     "output_type": "stream",
     "text": [
      "50464 2022 0\n",
      "520135 2022 0\n",
      "520107 2022 0\n"
     ]
    },
    {
     "name": "stderr",
     "output_type": "stream",
     "text": [
      "\r",
      " 70%|████████████████████████████████████████████████████████████████████████████████████████████████████████████████                                                 | 2406/3455 [03:00<01:22, 12.64it/s]"
     ]
    },
    {
     "name": "stdout",
     "output_type": "stream",
     "text": [
      "48289 2022 0\n",
      "48589 2022 0\n",
      "486111 2022 0\n"
     ]
    },
    {
     "name": "stderr",
     "output_type": "stream",
     "text": [
      " 70%|████████████████████████████████████████████████████████████████████████████████████████████████████████████████▎                                                | 2410/3455 [03:00<01:23, 12.53it/s]"
     ]
    },
    {
     "name": "stdout",
     "output_type": "stream",
     "text": [
      "50790 2022 0\n",
      "49895 2022 0\n",
      "49782 2022 0\n"
     ]
    },
    {
     "name": "stderr",
     "output_type": "stream",
     "text": [
      "\r",
      " 70%|████████████████████████████████████████████████████████████████████████████████████████████████████████████████▍                                                | 2412/3455 [03:00<01:24, 12.39it/s]"
     ]
    },
    {
     "name": "stdout",
     "output_type": "stream",
     "text": [
      "518104 2022 0\n",
      "479127 2022 0\n",
      "538102 2022 0\n"
     ]
    },
    {
     "name": "stderr",
     "output_type": "stream",
     "text": [
      " 70%|████████████████████████████████████████████████████████████████████████████████████████████████████████████████▌                                                | 2416/3455 [03:01<01:26, 11.99it/s]"
     ]
    },
    {
     "name": "stdout",
     "output_type": "stream",
     "text": [
      "50367 2022 0\n",
      "49278 2022 0\n",
      "50961 2022 0\n"
     ]
    },
    {
     "name": "stderr",
     "output_type": "stream",
     "text": [
      "\r",
      " 70%|████████████████████████████████████████████████████████████████████████████████████████████████████████████████▋                                                | 2418/3455 [03:01<01:24, 12.26it/s]"
     ]
    },
    {
     "name": "stdout",
     "output_type": "stream",
     "text": [
      "49770 2022 0\n",
      "50890 2022 0\n",
      "52397 2022 0\n"
     ]
    },
    {
     "name": "stderr",
     "output_type": "stream",
     "text": [
      " 70%|████████████████████████████████████████████████████████████████████████████████████████████████████████████████▊                                                | 2422/3455 [03:01<01:24, 12.17it/s]"
     ]
    },
    {
     "name": "stdout",
     "output_type": "stream",
     "text": [
      "50973 2022 0\n",
      "53998 2022 0\n",
      "495107 2022 0\n"
     ]
    },
    {
     "name": "stderr",
     "output_type": "stream",
     "text": [
      "\r",
      " 70%|████████████████████████████████████████████████████████████████████████████████████████████████████████████████▉                                                | 2424/3455 [03:01<01:25, 11.99it/s]"
     ]
    },
    {
     "name": "stdout",
     "output_type": "stream",
     "text": [
      "49876 2022 0\n",
      "507120 2022 0\n",
      "510138 2022 0\n"
     ]
    },
    {
     "name": "stderr",
     "output_type": "stream",
     "text": [
      " 70%|█████████████████████████████████████████████████████████████████████████████████████████████████████████████████▏                                               | 2428/3455 [03:02<01:25, 12.05it/s]"
     ]
    },
    {
     "name": "stdout",
     "output_type": "stream",
     "text": [
      "53688 2022 0\n",
      "51483 2022 0\n",
      "49470 2022 0\n"
     ]
    },
    {
     "name": "stderr",
     "output_type": "stream",
     "text": [
      "\r",
      " 70%|█████████████████████████████████████████████████████████████████████████████████████████████████████████████████▏                                               | 2430/3455 [03:02<01:24, 12.19it/s]"
     ]
    },
    {
     "name": "stdout",
     "output_type": "stream",
     "text": [
      "523107 2022 0\n",
      "51988 2022 0\n",
      "52285 2022 0\n"
     ]
    },
    {
     "name": "stderr",
     "output_type": "stream",
     "text": [
      " 70%|█████████████████████████████████████████████████████████████████████████████████████████████████████████████████▍                                               | 2434/3455 [03:02<01:22, 12.35it/s]"
     ]
    },
    {
     "name": "stdout",
     "output_type": "stream",
     "text": [
      "51980 2022 0\n",
      "48986 2022 0\n",
      "52698 2022 0\n"
     ]
    },
    {
     "name": "stderr",
     "output_type": "stream",
     "text": [
      "\r",
      " 71%|█████████████████████████████████████████████████████████████████████████████████████████████████████████████████▌                                               | 2436/3455 [03:02<01:22, 12.29it/s]"
     ]
    },
    {
     "name": "stdout",
     "output_type": "stream",
     "text": [
      "508121 2022 0\n",
      "51762 2022 0\n",
      "532122 2022 0\n"
     ]
    },
    {
     "name": "stderr",
     "output_type": "stream",
     "text": [
      " 71%|█████████████████████████████████████████████████████████████████████████████████████████████████████████████████▋                                               | 2440/3455 [03:02<01:21, 12.41it/s]"
     ]
    },
    {
     "name": "stdout",
     "output_type": "stream",
     "text": [
      "50065 2022 0\n",
      "51696 2022 0\n",
      "547100 2022 0\n"
     ]
    },
    {
     "name": "stderr",
     "output_type": "stream",
     "text": [
      "\r",
      " 71%|█████████████████████████████████████████████████████████████████████████████████████████████████████████████████▊                                               | 2442/3455 [03:03<01:20, 12.54it/s]"
     ]
    },
    {
     "name": "stdout",
     "output_type": "stream",
     "text": [
      "530130 2022 0\n",
      "529124 2022 0\n",
      "52395 2022 0\n"
     ]
    },
    {
     "name": "stderr",
     "output_type": "stream",
     "text": [
      " 71%|█████████████████████████████████████████████████████████████████████████████████████████████████████████████████▉                                               | 2446/3455 [03:03<01:18, 12.79it/s]"
     ]
    },
    {
     "name": "stdout",
     "output_type": "stream",
     "text": [
      "51583 2022 0\n",
      "49275 2022 0\n",
      "538115 2022 0\n"
     ]
    },
    {
     "name": "stderr",
     "output_type": "stream",
     "text": [
      "\r",
      " 71%|██████████████████████████████████████████████████████████████████████████████████████████████████████████████████                                               | 2448/3455 [03:03<01:18, 12.91it/s]"
     ]
    },
    {
     "name": "stdout",
     "output_type": "stream",
     "text": [
      "541118 2022 0\n",
      "513128 2022 0\n",
      "518107 2022 0\n"
     ]
    },
    {
     "name": "stderr",
     "output_type": "stream",
     "text": [
      " 71%|██████████████████████████████████████████████████████████████████████████████████████████████████████████████████▎                                              | 2452/3455 [03:03<01:20, 12.50it/s]"
     ]
    },
    {
     "name": "stdout",
     "output_type": "stream",
     "text": [
      "54498 2022 0\n",
      "53287 2022 0\n",
      "537125 2022 0\n"
     ]
    },
    {
     "name": "stderr",
     "output_type": "stream",
     "text": [
      "\r",
      " 71%|██████████████████████████████████████████████████████████████████████████████████████████████████████████████████▎                                              | 2454/3455 [03:04<01:20, 12.48it/s]"
     ]
    },
    {
     "name": "stdout",
     "output_type": "stream",
     "text": [
      "49791 2022 0\n",
      "521129 2022 0\n",
      "51268 2022 0\n"
     ]
    },
    {
     "name": "stderr",
     "output_type": "stream",
     "text": [
      " 71%|██████████████████████████████████████████████████████████████████████████████████████████████████████████████████▌                                              | 2458/3455 [03:04<01:17, 12.85it/s]"
     ]
    },
    {
     "name": "stdout",
     "output_type": "stream",
     "text": [
      "504127 2022 0\n",
      "520113 2022 0\n",
      "50871 2022 0\n"
     ]
    },
    {
     "name": "stderr",
     "output_type": "stream",
     "text": [
      "\r",
      " 71%|██████████████████████████████████████████████████████████████████████████████████████████████████████████████████▋                                              | 2460/3455 [03:04<01:17, 12.91it/s]"
     ]
    },
    {
     "name": "stdout",
     "output_type": "stream",
     "text": [
      "528138 2022 0\n",
      "51681 2022 0\n",
      "49784 2022 0\n"
     ]
    },
    {
     "name": "stderr",
     "output_type": "stream",
     "text": [
      " 71%|██████████████████████████████████████████████████████████████████████████████████████████████████████████████████▊                                              | 2464/3455 [03:04<01:15, 13.06it/s]"
     ]
    },
    {
     "name": "stdout",
     "output_type": "stream",
     "text": [
      "51877 2022 0\n",
      "49585 2022 0\n",
      "538116 2022 0\n"
     ]
    },
    {
     "name": "stderr",
     "output_type": "stream",
     "text": [
      "\r",
      " 71%|██████████████████████████████████████████████████████████████████████████████████████████████████████████████████▉                                              | 2466/3455 [03:04<01:16, 12.95it/s]"
     ]
    },
    {
     "name": "stdout",
     "output_type": "stream",
     "text": [
      "509107 2022 0\n",
      "49565 2022 0\n",
      "535102 2022 0\n"
     ]
    },
    {
     "name": "stderr",
     "output_type": "stream",
     "text": [
      " 71%|███████████████████████████████████████████████████████████████████████████████████████████████████████████████████                                              | 2470/3455 [03:05<01:17, 12.65it/s]"
     ]
    },
    {
     "name": "stdout",
     "output_type": "stream",
     "text": [
      "495111 2022 0\n",
      "50562 2022 0\n",
      "51088 2022 0\n"
     ]
    },
    {
     "name": "stderr",
     "output_type": "stream",
     "text": [
      "\r",
      " 72%|███████████████████████████████████████████████████████████████████████████████████████████████████████████████████▏                                             | 2472/3455 [03:05<01:17, 12.64it/s]"
     ]
    },
    {
     "name": "stdout",
     "output_type": "stream",
     "text": [
      "54297 2022 0\n",
      "536133 2022 0\n",
      "54890 2022 0\n"
     ]
    },
    {
     "name": "stderr",
     "output_type": "stream",
     "text": [
      " 72%|███████████████████████████████████████████████████████████████████████████████████████████████████████████████████▍                                             | 2476/3455 [03:05<01:16, 12.80it/s]"
     ]
    },
    {
     "name": "stdout",
     "output_type": "stream",
     "text": [
      "53373 2022 0\n",
      "4113586 2022 0\n",
      "470154 2022 0\n"
     ]
    },
    {
     "name": "stderr",
     "output_type": "stream",
     "text": [
      "\r",
      " 72%|███████████████████████████████████████████████████████████████████████████████████████████████████████████████████▍                                             | 2478/3455 [03:05<01:16, 12.84it/s]"
     ]
    },
    {
     "name": "stdout",
     "output_type": "stream",
     "text": [
      "42408 2022 0\n",
      "42224 2022 0\n",
      "42321 2022 0\n"
     ]
    },
    {
     "name": "stderr",
     "output_type": "stream",
     "text": [
      " 72%|███████████████████████████████████████████████████████████████████████████████████████████████████████████████████▋                                             | 2482/3455 [03:06<01:16, 12.68it/s]"
     ]
    },
    {
     "name": "stdout",
     "output_type": "stream",
     "text": [
      "42708 2022 0\n",
      "4333580 2022 0\n",
      "4843557 2022 0\n"
     ]
    },
    {
     "name": "stderr",
     "output_type": "stream",
     "text": [
      "\r",
      " 72%|███████████████████████████████████████████████████████████████████████████████████████████████████████████████████▊                                             | 2484/3455 [03:06<01:16, 12.66it/s]"
     ]
    },
    {
     "name": "stdout",
     "output_type": "stream",
     "text": [
      "5293588 2022 0\n",
      "-3761439 2022 0\n",
      "4582515 2022 0\n"
     ]
    },
    {
     "name": "stderr",
     "output_type": "stream",
     "text": [
      " 72%|███████████████████████████████████████████████████████████████████████████████████████████████████████████████████▉                                             | 2488/3455 [03:06<01:15, 12.75it/s]"
     ]
    },
    {
     "name": "stdout",
     "output_type": "stream",
     "text": [
      "4772378 2022 0\n",
      "3902654 2022 0\n",
      "3902653 2022 0\n"
     ]
    },
    {
     "name": "stderr",
     "output_type": "stream",
     "text": [
      "\r",
      " 72%|████████████████████████████████████████████████████████████████████████████████████████████████████████████████████                                             | 2490/3455 [03:06<01:16, 12.62it/s]"
     ]
    },
    {
     "name": "stdout",
     "output_type": "stream",
     "text": [
      "4302721 2022 0\n",
      "4552843 2022 0\n",
      "3782381 2022 0\n"
     ]
    },
    {
     "name": "stderr",
     "output_type": "stream",
     "text": [
      " 72%|████████████████████████████████████████████████████████████████████████████████████████████████████████████████████▏                                            | 2494/3455 [03:07<01:15, 12.79it/s]"
     ]
    },
    {
     "name": "stdout",
     "output_type": "stream",
     "text": [
      "4552844 2022 0\n",
      "4502670 2022 0\n",
      "4552845 2022 0\n"
     ]
    },
    {
     "name": "stderr",
     "output_type": "stream",
     "text": [
      "\r",
      " 72%|████████████████████████████████████████████████████████████████████████████████████████████████████████████████████▎                                            | 2496/3455 [03:07<01:14, 12.90it/s]"
     ]
    },
    {
     "name": "stdout",
     "output_type": "stream",
     "text": [
      "4733577 2022 0\n",
      "5212533 2022 0\n",
      "5112459 2022 0\n"
     ]
    },
    {
     "name": "stderr",
     "output_type": "stream",
     "text": [
      " 72%|████████████████████████████████████████████████████████████████████████████████████████████████████████████████████▍                                            | 2500/3455 [03:07<01:12, 13.19it/s]"
     ]
    },
    {
     "name": "stdout",
     "output_type": "stream",
     "text": [
      "5112458 2022 0\n",
      "4542844 2022 0\n",
      "5052553 2022 0\n"
     ]
    },
    {
     "name": "stderr",
     "output_type": "stream",
     "text": [
      "\r",
      " 72%|████████████████████████████████████████████████████████████████████████████████████████████████████████████████████▌                                            | 2502/3455 [03:07<01:12, 13.19it/s]"
     ]
    },
    {
     "name": "stdout",
     "output_type": "stream",
     "text": [
      "4843588 2022 0\n",
      "4772432 2022 0\n",
      "5163598 2022 0\n"
     ]
    },
    {
     "name": "stderr",
     "output_type": "stream",
     "text": [
      " 73%|████████████████████████████████████████████████████████████████████████████████████████████████████████████████████▊                                            | 2506/3455 [03:08<01:10, 13.39it/s]"
     ]
    },
    {
     "name": "stdout",
     "output_type": "stream",
     "text": [
      "4292722 2022 0\n",
      "5583555 2022 0\n",
      "5583557 2022 0\n"
     ]
    },
    {
     "name": "stderr",
     "output_type": "stream",
     "text": [
      "\r",
      " 73%|████████████████████████████████████████████████████████████████████████████████████████████████████████████████████▊                                            | 2508/3455 [03:08<01:10, 13.37it/s]"
     ]
    },
    {
     "name": "stdout",
     "output_type": "stream",
     "text": [
      "3492482 2022 0\n",
      "4242875 2022 0\n",
      "48876 2022 0\n"
     ]
    },
    {
     "name": "stderr",
     "output_type": "stream",
     "text": [
      " 73%|█████████████████████████████████████████████████████████████████████████████████████████████████████████████████████                                            | 2512/3455 [03:08<01:10, 13.43it/s]"
     ]
    },
    {
     "name": "stdout",
     "output_type": "stream",
     "text": [
      "5493585 2022 0\n",
      "4242884 2022 0\n",
      "51144 2022 0\n"
     ]
    },
    {
     "name": "stderr",
     "output_type": "stream",
     "text": [
      "\r",
      " 73%|█████████████████████████████████████████████████████████████████████████████████████████████████████████████████████▏                                           | 2514/3455 [03:08<01:10, 13.40it/s]"
     ]
    },
    {
     "name": "stdout",
     "output_type": "stream",
     "text": [
      "5423596 2022 0\n",
      "5483585 2022 0\n",
      "3862827 2022 0\n"
     ]
    },
    {
     "name": "stderr",
     "output_type": "stream",
     "text": [
      " 73%|█████████████████████████████████████████████████████████████████████████████████████████████████████████████████████▎                                           | 2518/3455 [03:08<01:09, 13.47it/s]"
     ]
    },
    {
     "name": "stdout",
     "output_type": "stream",
     "text": [
      "512170 2022 0\n",
      "4282891 2022 0\n",
      "5153579 2022 0\n"
     ]
    },
    {
     "name": "stderr",
     "output_type": "stream",
     "text": [
      "\r",
      " 73%|█████████████████████████████████████████████████████████████████████████████████████████████████████████████████████▍                                           | 2520/3455 [03:09<01:09, 13.52it/s]"
     ]
    },
    {
     "name": "stdout",
     "output_type": "stream",
     "text": [
      "50449 2022 0\n",
      "4332720 2022 0\n",
      "3912654 2022 0\n"
     ]
    },
    {
     "name": "stderr",
     "output_type": "stream",
     "text": [
      " 73%|█████████████████████████████████████████████████████████████████████████████████████████████████████████████████████▌                                           | 2524/3455 [03:09<01:08, 13.56it/s]"
     ]
    },
    {
     "name": "stdout",
     "output_type": "stream",
     "text": [
      "4472865 2022 0\n",
      "4322721 2022 0\n",
      "511171 2022 0\n"
     ]
    },
    {
     "name": "stderr",
     "output_type": "stream",
     "text": [
      "\r",
      " 73%|█████████████████████████████████████████████████████████████████████████████████████████████████████████████████████▋                                           | 2526/3455 [03:09<01:08, 13.51it/s]"
     ]
    },
    {
     "name": "stdout",
     "output_type": "stream",
     "text": [
      "4252765 2022 0\n",
      "4252766 2022 0\n",
      "4242873 2022 0\n"
     ]
    },
    {
     "name": "stderr",
     "output_type": "stream",
     "text": [
      " 73%|█████████████████████████████████████████████████████████████████████████████████████████████████████████████████████▉                                           | 2530/3455 [03:09<01:08, 13.50it/s]"
     ]
    },
    {
     "name": "stdout",
     "output_type": "stream",
     "text": [
      "4292868 2022 0\n",
      "4962351 2022 0\n",
      "4232875 2022 0\n"
     ]
    },
    {
     "name": "stderr",
     "output_type": "stream",
     "text": [
      "\r",
      " 73%|█████████████████████████████████████████████████████████████████████████████████████████████████████████████████████▉                                           | 2532/3455 [03:10<01:08, 13.48it/s]"
     ]
    },
    {
     "name": "stdout",
     "output_type": "stream",
     "text": [
      "4442817 2022 0\n",
      "4402387 2022 0\n",
      "47351 2022 0\n"
     ]
    },
    {
     "name": "stderr",
     "output_type": "stream",
     "text": [
      " 73%|██████████████████████████████████████████████████████████████████████████████████████████████████████████████████████▏                                          | 2536/3455 [03:10<01:07, 13.55it/s]"
     ]
    },
    {
     "name": "stdout",
     "output_type": "stream",
     "text": [
      "4002702 2022 0\n",
      "4602934 2022 0\n",
      "3972552 2022 0\n"
     ]
    },
    {
     "name": "stderr",
     "output_type": "stream",
     "text": [
      "\r",
      " 73%|██████████████████████████████████████████████████████████████████████████████████████████████████████████████████████▎                                          | 2538/3455 [03:10<01:07, 13.50it/s]"
     ]
    },
    {
     "name": "stdout",
     "output_type": "stream",
     "text": [
      "5163583 2022 0\n",
      "4162738 2022 0\n",
      "5163582 2022 0\n"
     ]
    },
    {
     "name": "stderr",
     "output_type": "stream",
     "text": [
      " 74%|██████████████████████████████████████████████████████████████████████████████████████████████████████████████████████▍                                          | 2542/3455 [03:10<01:07, 13.51it/s]"
     ]
    },
    {
     "name": "stdout",
     "output_type": "stream",
     "text": [
      "3892553 2022 0\n",
      "5043559 2022 0\n",
      "4052731 2022 0\n"
     ]
    },
    {
     "name": "stderr",
     "output_type": "stream",
     "text": [
      "\r",
      " 74%|██████████████████████████████████████████████████████████████████████████████████████████████████████████████████████▌                                          | 2544/3455 [03:10<01:07, 13.47it/s]"
     ]
    },
    {
     "name": "stdout",
     "output_type": "stream",
     "text": [
      "4332830 2022 0\n",
      "50329 2022 0\n",
      "50327 2022 0\n"
     ]
    },
    {
     "name": "stderr",
     "output_type": "stream",
     "text": [
      " 74%|██████████████████████████████████████████████████████████████████████████████████████████████████████████████████████▋                                          | 2548/3455 [03:11<01:06, 13.54it/s]"
     ]
    },
    {
     "name": "stdout",
     "output_type": "stream",
     "text": [
      "4893021 2022 0\n",
      "4903021 2022 0\n",
      "4903020 2022 0\n"
     ]
    },
    {
     "name": "stderr",
     "output_type": "stream",
     "text": [
      "\r",
      " 74%|██████████████████████████████████████████████████████████████████████████████████████████████████████████████████████▊                                          | 2550/3455 [03:11<01:06, 13.53it/s]"
     ]
    },
    {
     "name": "stdout",
     "output_type": "stream",
     "text": [
      "4893020 2022 0\n",
      "47048 2022 0\n",
      "502190 2022 0\n"
     ]
    },
    {
     "name": "stderr",
     "output_type": "stream",
     "text": [
      " 74%|███████████████████████████████████████████████████████████████████████████████████████████████████████████████████████                                          | 2554/3455 [03:11<01:06, 13.46it/s]"
     ]
    },
    {
     "name": "stdout",
     "output_type": "stream",
     "text": [
      "4252762 2022 0\n",
      "3302631 2022 0\n",
      "4532362 2022 0\n"
     ]
    },
    {
     "name": "stderr",
     "output_type": "stream",
     "text": [
      "\r",
      " 74%|███████████████████████████████████████████████████████████████████████████████████████████████████████████████████████                                          | 2556/3455 [03:11<01:07, 13.41it/s]"
     ]
    },
    {
     "name": "stdout",
     "output_type": "stream",
     "text": [
      "-4052869 2022 0\n",
      "4242874 2022 0\n",
      "52402 2022 0\n"
     ]
    },
    {
     "name": "stderr",
     "output_type": "stream",
     "text": [
      " 74%|███████████████████████████████████████████████████████████████████████████████████████████████████████████████████████▎                                         | 2560/3455 [03:12<01:06, 13.45it/s]"
     ]
    },
    {
     "name": "stdout",
     "output_type": "stream",
     "text": [
      "4152868 2022 0\n",
      "4842708 2022 0\n",
      "4362804 2022 0\n"
     ]
    },
    {
     "name": "stderr",
     "output_type": "stream",
     "text": [
      "\r",
      " 74%|███████████████████████████████████████████████████████████████████████████████████████████████████████████████████████▍                                         | 2562/3455 [03:12<01:06, 13.45it/s]"
     ]
    },
    {
     "name": "stdout",
     "output_type": "stream",
     "text": [
      "5102460 2022 0\n",
      "4262658 2022 0\n",
      "5353586 2022 0\n"
     ]
    },
    {
     "name": "stderr",
     "output_type": "stream",
     "text": [
      " 74%|███████████████████████████████████████████████████████████████████████████████████████████████████████████████████████▌                                         | 2566/3455 [03:12<01:06, 13.43it/s]"
     ]
    },
    {
     "name": "stdout",
     "output_type": "stream",
     "text": [
      "4162863 2022 0\n",
      "4572361 2022 0\n",
      "48002 2022 0\n"
     ]
    },
    {
     "name": "stderr",
     "output_type": "stream",
     "text": [
      "\r",
      " 74%|███████████████████████████████████████████████████████████████████████████████████████████████████████████████████████▋                                         | 2568/3455 [03:12<01:06, 13.40it/s]"
     ]
    },
    {
     "name": "stdout",
     "output_type": "stream",
     "text": [
      "4002551 2022 0\n",
      "3882692 2022 0\n",
      "4012548 2022 0\n"
     ]
    },
    {
     "name": "stderr",
     "output_type": "stream",
     "text": [
      " 74%|███████████████████████████████████████████████████████████████████████████████████████████████████████████████████████▊                                         | 2572/3455 [03:12<01:05, 13.45it/s]"
     ]
    },
    {
     "name": "stdout",
     "output_type": "stream",
     "text": [
      "4242721 2022 0\n",
      "4733576 2022 0\n",
      "52401 2022 0\n"
     ]
    },
    {
     "name": "stderr",
     "output_type": "stream",
     "text": [
      "\r",
      " 75%|███████████████████████████████████████████████████████████████████████████████████████████████████████████████████████▉                                         | 2574/3455 [03:13<01:06, 13.33it/s]"
     ]
    },
    {
     "name": "stdout",
     "output_type": "stream",
     "text": [
      "3522483 2022 0\n",
      "3992549 2022 0\n",
      "-3521493 2022 0\n"
     ]
    },
    {
     "name": "stderr",
     "output_type": "stream",
     "text": [
      " 75%|████████████████████████████████████████████████████████████████████████████████████████████████████████████████████████▏                                        | 2578/3455 [03:13<01:05, 13.42it/s]"
     ]
    },
    {
     "name": "stdout",
     "output_type": "stream",
     "text": [
      "-3511493 2022 0\n",
      "4342649 2022 0\n",
      "4022550 2022 0\n"
     ]
    },
    {
     "name": "stderr",
     "output_type": "stream",
     "text": [
      "\r",
      " 75%|████████████████████████████████████████████████████████████████████████████████████████████████████████████████████████▏                                        | 2580/3455 [03:13<01:05, 13.44it/s]"
     ]
    },
    {
     "name": "stdout",
     "output_type": "stream",
     "text": [
      "5323576 2022 0\n",
      "4542842 2022 0\n",
      "5343586 2022 0\n"
     ]
    },
    {
     "name": "stderr",
     "output_type": "stream",
     "text": [
      " 75%|████████████████████████████████████████████████████████████████████████████████████████████████████████████████████████▍                                        | 2584/3455 [03:13<01:04, 13.41it/s]"
     ]
    },
    {
     "name": "stdout",
     "output_type": "stream",
     "text": [
      "5343585 2022 0\n",
      "4212830 2022 0\n",
      "4162724 2022 0\n"
     ]
    },
    {
     "name": "stderr",
     "output_type": "stream",
     "text": [
      "\r",
      " 75%|████████████████████████████████████████████████████████████████████████████████████████████████████████████████████████▌                                        | 2586/3455 [03:14<01:04, 13.42it/s]"
     ]
    },
    {
     "name": "stdout",
     "output_type": "stream",
     "text": [
      "4052505 2022 0\n",
      "5313576 2022 0\n",
      "3952836 2022 0\n"
     ]
    },
    {
     "name": "stderr",
     "output_type": "stream",
     "text": [
      " 75%|████████████████████████████████████████████████████████████████████████████████████████████████████████████████████████▋                                        | 2590/3455 [03:14<01:04, 13.50it/s]"
     ]
    },
    {
     "name": "stdout",
     "output_type": "stream",
     "text": [
      "3542626 2022 0\n",
      "4322808 2022 0\n",
      "4982629 2022 0\n"
     ]
    },
    {
     "name": "stderr",
     "output_type": "stream",
     "text": [
      "\r",
      " 75%|████████████████████████████████████████████████████████████████████████████████████████████████████████████████████████▊                                        | 2592/3455 [03:14<01:04, 13.46it/s]"
     ]
    },
    {
     "name": "stdout",
     "output_type": "stream",
     "text": [
      "4152863 2022 0\n",
      "4352797 2022 0\n",
      "494119 2022 0\n"
     ]
    },
    {
     "name": "stderr",
     "output_type": "stream",
     "text": [
      " 75%|████████████████████████████████████████████████████████████████████████████████████████████████████████████████████████▉                                        | 2596/3455 [03:14<01:03, 13.47it/s]"
     ]
    },
    {
     "name": "stdout",
     "output_type": "stream",
     "text": [
      "4312721 2022 0\n",
      "52102 2022 0\n",
      "4182871 2022 0\n"
     ]
    },
    {
     "name": "stderr",
     "output_type": "stream",
     "text": [
      "\r",
      " 75%|█████████████████████████████████████████████████████████████████████████████████████████████████████████████████████████                                        | 2598/3455 [03:14<01:03, 13.41it/s]"
     ]
    },
    {
     "name": "stdout",
     "output_type": "stream",
     "text": [
      "4692373 2022 0\n",
      "3922818 2022 0\n",
      "3612641 2022 0\n"
     ]
    },
    {
     "name": "stderr",
     "output_type": "stream",
     "text": [
      " 75%|█████████████████████████████████████████████████████████████████████████████████████████████████████████████████████████▎                                       | 2602/3455 [03:15<01:03, 13.49it/s]"
     ]
    },
    {
     "name": "stdout",
     "output_type": "stream",
     "text": [
      "4002833 2022 0\n",
      "4863579 2022 0\n",
      "5233599 2022 0\n"
     ]
    },
    {
     "name": "stderr",
     "output_type": "stream",
     "text": [
      "\r",
      " 75%|█████████████████████████████████████████████████████████████████████████████████████████████████████████████████████████▎                                       | 2604/3455 [03:15<01:02, 13.54it/s]"
     ]
    },
    {
     "name": "stdout",
     "output_type": "stream",
     "text": [
      "5162400 2022 0\n",
      "3842783 2022 0\n",
      "4772427 2022 0\n"
     ]
    },
    {
     "name": "stderr",
     "output_type": "stream",
     "text": [
      " 75%|█████████████████████████████████████████████████████████████████████████████████████████████████████████████████████████▌                                       | 2608/3455 [03:15<01:02, 13.56it/s]"
     ]
    },
    {
     "name": "stdout",
     "output_type": "stream",
     "text": [
      "4452762 2022 0\n",
      "5073565 2022 0\n",
      "5323578 2022 0\n"
     ]
    },
    {
     "name": "stderr",
     "output_type": "stream",
     "text": [
      "\r",
      " 76%|█████████████████████████████████████████████████████████████████████████████████████████████████████████████████████████▌                                       | 2610/3455 [03:15<01:02, 13.49it/s]"
     ]
    },
    {
     "name": "stdout",
     "output_type": "stream",
     "text": [
      "4222890 2022 0\n",
      "4152784 2022 0\n",
      "-3471497 2022 0\n"
     ]
    },
    {
     "name": "stderr",
     "output_type": "stream",
     "text": [
      " 76%|█████████████████████████████████████████████████████████████████████████████████████████████████████████████████████████▊                                       | 2614/3455 [03:16<01:01, 13.57it/s]"
     ]
    },
    {
     "name": "stdout",
     "output_type": "stream",
     "text": [
      "-4321471 2022 0\n",
      "48761 2022 0\n",
      "5383596 2022 0\n"
     ]
    },
    {
     "name": "stderr",
     "output_type": "stream",
     "text": [
      "\r",
      " 76%|█████████████████████████████████████████████████████████████████████████████████████████████████████████████████████████▉                                       | 2616/3455 [03:16<01:02, 13.53it/s]"
     ]
    },
    {
     "name": "stdout",
     "output_type": "stream",
     "text": [
      "4262721 2022 0\n",
      "4252659 2022 0\n",
      "4212650 2022 0\n"
     ]
    },
    {
     "name": "stderr",
     "output_type": "stream",
     "text": [
      " 76%|██████████████████████████████████████████████████████████████████████████████████████████████████████████████████████████                                       | 2620/3455 [03:16<01:01, 13.57it/s]"
     ]
    },
    {
     "name": "stdout",
     "output_type": "stream",
     "text": [
      "4232748 2022 0\n",
      "3882552 2022 0\n",
      "5143567 2022 0\n"
     ]
    },
    {
     "name": "stderr",
     "output_type": "stream",
     "text": [
      "\r",
      " 76%|██████████████████████████████████████████████████████████████████████████████████████████████████████████████████████████▏                                      | 2622/3455 [03:16<01:02, 13.28it/s]"
     ]
    },
    {
     "name": "stdout",
     "output_type": "stream",
     "text": [
      "3722796 2022 0\n",
      "4522368 2022 0\n",
      "5243560 2022 0\n"
     ]
    },
    {
     "name": "stderr",
     "output_type": "stream",
     "text": [
      " 76%|██████████████████████████████████████████████████████████████████████████████████████████████████████████████████████████▎                                      | 2626/3455 [03:17<01:03, 13.14it/s]"
     ]
    },
    {
     "name": "stdout",
     "output_type": "stream",
     "text": [
      "4762378 2022 0\n",
      "4562658 2022 0\n",
      "3842845 2022 0\n"
     ]
    },
    {
     "name": "stderr",
     "output_type": "stream",
     "text": [
      "\r",
      " 76%|██████████████████████████████████████████████████████████████████████████████████████████████████████████████████████████▍                                      | 2628/3455 [03:17<01:02, 13.26it/s]"
     ]
    },
    {
     "name": "stdout",
     "output_type": "stream",
     "text": [
      "4012768 2022 0\n",
      "48551 2022 0\n",
      "4123514 2022 0\n"
     ]
    },
    {
     "name": "stderr",
     "output_type": "stream",
     "text": [
      " 76%|██████████████████████████████████████████████████████████████████████████████████████████████████████████████████████████▋                                      | 2632/3455 [03:17<01:02, 13.27it/s]"
     ]
    },
    {
     "name": "stdout",
     "output_type": "stream",
     "text": [
      "3522534 2022 0\n",
      "4242737 2022 0\n",
      "5183592 2022 0\n"
     ]
    },
    {
     "name": "stderr",
     "output_type": "stream",
     "text": [
      "\r",
      " 76%|██████████████████████████████████████████████████████████████████████████████████████████████████████████████████████████▋                                      | 2634/3455 [03:17<01:03, 12.87it/s]"
     ]
    },
    {
     "name": "stdout",
     "output_type": "stream",
     "text": [
      "3542768 2022 0\n",
      "4242770 2022 0\n",
      "4542841 2022 0\n"
     ]
    },
    {
     "name": "stderr",
     "output_type": "stream",
     "text": [
      " 76%|██████████████████████████████████████████████████████████████████████████████████████████████████████████████████████████▉                                      | 2638/3455 [03:17<01:04, 12.63it/s]"
     ]
    },
    {
     "name": "stdout",
     "output_type": "stream",
     "text": [
      "3512567 2022 0\n",
      "5153568 2022 0\n",
      "5583556 2022 0\n"
     ]
    },
    {
     "name": "stderr",
     "output_type": "stream",
     "text": [
      "\r",
      " 76%|███████████████████████████████████████████████████████████████████████████████████████████████████████████████████████████                                      | 2640/3455 [03:18<01:05, 12.40it/s]"
     ]
    },
    {
     "name": "stdout",
     "output_type": "stream",
     "text": [
      "3542767 2022 0\n",
      "4282886 2022 0\n",
      "5193596 2022 0\n"
     ]
    },
    {
     "name": "stderr",
     "output_type": "stream",
     "text": [
      " 77%|███████████████████████████████████████████████████████████████████████████████████████████████████████████████████████████▏                                     | 2644/3455 [03:18<01:02, 12.90it/s]"
     ]
    },
    {
     "name": "stdout",
     "output_type": "stream",
     "text": [
      "4752487 2022 0\n",
      "3992823 2022 0\n",
      "4292720 2022 0\n"
     ]
    },
    {
     "name": "stderr",
     "output_type": "stream",
     "text": [
      "\r",
      " 77%|███████████████████████████████████████████████████████████████████████████████████████████████████████████████████████████▎                                     | 2646/3455 [03:18<01:02, 13.01it/s]"
     ]
    },
    {
     "name": "stdout",
     "output_type": "stream",
     "text": [
      "3892653 2022 0\n",
      "4112784 2022 0\n",
      "52211 2022 0\n"
     ]
    },
    {
     "name": "stderr",
     "output_type": "stream",
     "text": [
      " 77%|███████████████████████████████████████████████████████████████████████████████████████████████████████████████████████████▍                                     | 2650/3455 [03:18<01:01, 13.12it/s]"
     ]
    },
    {
     "name": "stdout",
     "output_type": "stream",
     "text": [
      "4362897 2022 0\n",
      "4192860 2022 0\n",
      "518194 2022 0\n"
     ]
    },
    {
     "name": "stderr",
     "output_type": "stream",
     "text": [
      "\r",
      " 77%|███████████████████████████████████████████████████████████████████████████████████████████████████████████████████████████▌                                     | 2652/3455 [03:19<01:00, 13.25it/s]"
     ]
    },
    {
     "name": "stdout",
     "output_type": "stream",
     "text": [
      "3912756 2022 0\n",
      "4323594 2022 0\n",
      "4323595 2022 0\n"
     ]
    },
    {
     "name": "stderr",
     "output_type": "stream",
     "text": [
      " 77%|███████████████████████████████████████████████████████████████████████████████████████████████████████████████████████████▊                                     | 2656/3455 [03:19<01:00, 13.12it/s]"
     ]
    },
    {
     "name": "stdout",
     "output_type": "stream",
     "text": [
      "4333597 2022 0\n",
      "3902657 2022 0\n",
      "48929 2022 0\n"
     ]
    },
    {
     "name": "stderr",
     "output_type": "stream",
     "text": [
      "\r",
      " 77%|███████████████████████████████████████████████████████████████████████████████████████████████████████████████████████████▊                                     | 2658/3455 [03:19<01:01, 12.94it/s]"
     ]
    },
    {
     "name": "stdout",
     "output_type": "stream",
     "text": [
      "4242771 2022 0\n",
      "47688 2022 0\n",
      "3982551 2022 0\n"
     ]
    },
    {
     "name": "stderr",
     "output_type": "stream",
     "text": [
      " 77%|████████████████████████████████████████████████████████████████████████████████████████████████████████████████████████████                                     | 2662/3455 [03:19<01:02, 12.71it/s]"
     ]
    },
    {
     "name": "stdout",
     "output_type": "stream",
     "text": [
      "4302811 2022 0\n",
      "6482123 2022 0\n",
      "5593556 2022 0\n"
     ]
    },
    {
     "name": "stderr",
     "output_type": "stream",
     "text": [
      "\r",
      " 77%|████████████████████████████████████████████████████████████████████████████████████████████████████████████████████████████▏                                    | 2664/3455 [03:19<01:03, 12.50it/s]"
     ]
    },
    {
     "name": "stdout",
     "output_type": "stream",
     "text": [
      "51602 2022 0\n",
      "4642874 2022 0\n",
      "47187 2022 0\n"
     ]
    },
    {
     "name": "stderr",
     "output_type": "stream",
     "text": [
      " 77%|████████████████████████████████████████████████████████████████████████████████████████████████████████████████████████████▎                                    | 2668/3455 [03:20<01:04, 12.25it/s]"
     ]
    },
    {
     "name": "stdout",
     "output_type": "stream",
     "text": [
      "5353570 2022 0\n",
      "5503583 2022 0\n",
      "3892698 2022 0\n"
     ]
    },
    {
     "name": "stderr",
     "output_type": "stream",
     "text": [
      "\r",
      " 77%|████████████████████████████████████████████████████████████████████████████████████████████████████████████████████████████▍                                    | 2670/3455 [03:20<01:04, 12.21it/s]"
     ]
    },
    {
     "name": "stdout",
     "output_type": "stream",
     "text": [
      "4963584 2022 0\n",
      "4252888 2022 0\n",
      "5183598 2022 0\n"
     ]
    },
    {
     "name": "stderr",
     "output_type": "stream",
     "text": [
      " 77%|████████████████████████████████████████████████████████████████████████████████████████████████████████████████████████████▌                                    | 2674/3455 [03:20<01:02, 12.48it/s]"
     ]
    },
    {
     "name": "stdout",
     "output_type": "stream",
     "text": [
      "4322706 2022 0\n",
      "4972472 2022 0\n",
      "5643566 2022 0\n"
     ]
    },
    {
     "name": "stderr",
     "output_type": "stream",
     "text": [
      "\r",
      " 77%|████████████████████████████████████████████████████████████████████████████████████████████████████████████████████████████▋                                    | 2676/3455 [03:20<01:02, 12.48it/s]"
     ]
    },
    {
     "name": "stdout",
     "output_type": "stream",
     "text": [
      "45831 2022 0\n",
      "4272766 2022 0\n",
      "-3531494 2022 0\n"
     ]
    },
    {
     "name": "stderr",
     "output_type": "stream",
     "text": [
      " 78%|████████████████████████████████████████████████████████████████████████████████████████████████████████████████████████████▉                                    | 2680/3455 [03:21<01:02, 12.41it/s]"
     ]
    },
    {
     "name": "stdout",
     "output_type": "stream",
     "text": [
      "-4301471 2022 0\n",
      "5043562 2022 0\n",
      "3952402 2022 0\n"
     ]
    },
    {
     "name": "stderr",
     "output_type": "stream",
     "text": [
      "\r",
      " 78%|████████████████████████████████████████████████████████████████████████████████████████████████████████████████████████████▉                                    | 2682/3455 [03:21<01:02, 12.34it/s]"
     ]
    },
    {
     "name": "stdout",
     "output_type": "stream",
     "text": [
      "4172664 2022 0\n",
      "4833584 2022 0\n",
      "598176 2022 0\n"
     ]
    },
    {
     "name": "stderr",
     "output_type": "stream",
     "text": [
      " 78%|█████████████████████████████████████████████████████████████████████████████████████████████████████████████████████████████▏                                   | 2686/3455 [03:21<01:03, 12.14it/s]"
     ]
    },
    {
     "name": "stdout",
     "output_type": "stream",
     "text": [
      "5243588 2022 0\n",
      "4773573 2022 0\n",
      "4552861 2022 0\n"
     ]
    },
    {
     "name": "stderr",
     "output_type": "stream",
     "text": [
      "\r",
      " 78%|█████████████████████████████████████████████████████████████████████████████████████████████████████████████████████████████▎                                   | 2688/3455 [03:21<01:03, 12.14it/s]"
     ]
    },
    {
     "name": "stdout",
     "output_type": "stream",
     "text": [
      "4172787 2022 0\n",
      "4162786 2022 0\n",
      "3522791 2022 0\n"
     ]
    },
    {
     "name": "stderr",
     "output_type": "stream",
     "text": [
      " 78%|█████████████████████████████████████████████████████████████████████████████████████████████████████████████████████████████▍                                   | 2692/3455 [03:22<01:02, 12.24it/s]"
     ]
    },
    {
     "name": "stdout",
     "output_type": "stream",
     "text": [
      "4342705 2022 0\n",
      "4263589 2022 0\n",
      "-4121463 2022 0\n"
     ]
    },
    {
     "name": "stderr",
     "output_type": "stream",
     "text": [
      "\r",
      " 78%|█████████████████████████████████████████████████████████████████████████████████████████████████████████████████████████████▌                                   | 2694/3455 [03:22<01:02, 12.21it/s]"
     ]
    },
    {
     "name": "stdout",
     "output_type": "stream",
     "text": [
      "5173598 2022 0\n",
      "3992548 2022 0\n",
      "3952549 2022 0\n"
     ]
    },
    {
     "name": "stderr",
     "output_type": "stream",
     "text": [
      " 78%|█████████████████████████████████████████████████████████████████████████████████████████████████████████████████████████████▋                                   | 2698/3455 [03:22<01:01, 12.30it/s]"
     ]
    },
    {
     "name": "stdout",
     "output_type": "stream",
     "text": [
      "51207 2022 0\n",
      "47588 2022 0\n",
      "3872553 2022 0\n"
     ]
    },
    {
     "name": "stderr",
     "output_type": "stream",
     "text": [
      "\r",
      " 78%|█████████████████████████████████████████████████████████████████████████████████████████████████████████████████████████████▊                                   | 2700/3455 [03:22<01:01, 12.27it/s]"
     ]
    },
    {
     "name": "stdout",
     "output_type": "stream",
     "text": [
      "4412684 2022 0\n",
      "4242692 2022 0\n",
      "4172673 2022 0\n"
     ]
    },
    {
     "name": "stderr",
     "output_type": "stream",
     "text": [
      " 78%|██████████████████████████████████████████████████████████████████████████████████████████████████████████████████████████████                                   | 2704/3455 [03:23<01:00, 12.31it/s]"
     ]
    },
    {
     "name": "stdout",
     "output_type": "stream",
     "text": [
      "4412370 2022 0\n",
      "4282750 2022 0\n",
      "51591 2022 0\n"
     ]
    },
    {
     "name": "stderr",
     "output_type": "stream",
     "text": [
      "\r",
      " 78%|██████████████████████████████████████████████████████████████████████████████████████████████████████████████████████████████                                   | 2706/3455 [03:23<01:00, 12.35it/s]"
     ]
    },
    {
     "name": "stdout",
     "output_type": "stream",
     "text": [
      "4622969 2022 0\n",
      "4432388 2022 0\n",
      "46219 2022 0\n"
     ]
    },
    {
     "name": "stderr",
     "output_type": "stream",
     "text": [
      " 78%|██████████████████████████████████████████████████████████████████████████████████████████████████████████████████████████████▎                                  | 2710/3455 [03:23<00:59, 12.50it/s]"
     ]
    },
    {
     "name": "stdout",
     "output_type": "stream",
     "text": [
      "4842376 2022 0\n",
      "4142781 2022 0\n",
      "5343570 2022 0\n"
     ]
    },
    {
     "name": "stderr",
     "output_type": "stream",
     "text": [
      "\r",
      " 78%|██████████████████████████████████████████████████████████████████████████████████████████████████████████████████████████████▍                                  | 2712/3455 [03:23<00:58, 12.70it/s]"
     ]
    },
    {
     "name": "stdout",
     "output_type": "stream",
     "text": [
      "4792378 2022 0\n",
      "4052549 2022 0\n",
      "559242 2022 0\n"
     ]
    },
    {
     "name": "stderr",
     "output_type": "stream",
     "text": [
      " 79%|██████████████████████████████████████████████████████████████████████████████████████████████████████████████████████████████▌                                  | 2716/3455 [03:24<00:57, 12.87it/s]"
     ]
    },
    {
     "name": "stdout",
     "output_type": "stream",
     "text": [
      "3822755 2022 0\n",
      "3822754 2022 0\n",
      "3812375 2022 0\n"
     ]
    },
    {
     "name": "stderr",
     "output_type": "stream",
     "text": [
      "\r",
      " 79%|██████████████████████████████████████████████████████████████████████████████████████████████████████████████████████████████▋                                  | 2718/3455 [03:24<00:57, 12.90it/s]"
     ]
    },
    {
     "name": "stdout",
     "output_type": "stream",
     "text": [
      "50530 2022 0\n",
      "4512372 2022 0\n",
      "50431 2022 0\n"
     ]
    },
    {
     "name": "stderr",
     "output_type": "stream",
     "text": [
      " 79%|██████████████████████████████████████████████████████████████████████████████████████████████████████████████████████████████▊                                  | 2722/3455 [03:24<00:56, 12.96it/s]"
     ]
    },
    {
     "name": "stdout",
     "output_type": "stream",
     "text": [
      "524142 2022 0\n",
      "4632639 2022 0\n",
      "5343571 2022 0\n"
     ]
    },
    {
     "name": "stderr",
     "output_type": "stream",
     "text": [
      "\r",
      " 79%|██████████████████████████████████████████████████████████████████████████████████████████████████████████████████████████████▉                                  | 2724/3455 [03:24<00:56, 12.89it/s]"
     ]
    },
    {
     "name": "stdout",
     "output_type": "stream",
     "text": [
      "4252885 2022 0\n",
      "5173561 2022 0\n",
      "52111 2022 0\n"
     ]
    },
    {
     "name": "stderr",
     "output_type": "stream",
     "text": [
      " 79%|███████████████████████████████████████████████████████████████████████████████████████████████████████████████████████████████                                  | 2728/3455 [03:25<00:55, 13.00it/s]"
     ]
    },
    {
     "name": "stdout",
     "output_type": "stream",
     "text": [
      "3522484 2022 0\n",
      "4132377 2022 0\n",
      "4332745 2022 0\n"
     ]
    },
    {
     "name": "stderr",
     "output_type": "stream",
     "text": [
      "\r",
      " 79%|███████████████████████████████████████████████████████████████████████████████████████████████████████████████████████████████▏                                 | 2730/3455 [03:25<00:56, 12.94it/s]"
     ]
    },
    {
     "name": "stdout",
     "output_type": "stream",
     "text": [
      "5143597 2022 0\n",
      "4573595 2022 0\n",
      "3392614 2022 0\n"
     ]
    },
    {
     "name": "stderr",
     "output_type": "stream",
     "text": [
      " 79%|███████████████████████████████████████████████████████████████████████████████████████████████████████████████████████████████▍                                 | 2734/3455 [03:25<00:57, 12.54it/s]"
     ]
    },
    {
     "name": "stdout",
     "output_type": "stream",
     "text": [
      "557377 2022 0\n",
      "4062801 2022 0\n",
      "4382370 2022 0\n"
     ]
    },
    {
     "name": "stderr",
     "output_type": "stream",
     "text": [
      "\r",
      " 79%|███████████████████████████████████████████████████████████████████████████████████████████████████████████████████████████████▍                                 | 2736/3455 [03:25<00:57, 12.54it/s]"
     ]
    },
    {
     "name": "stdout",
     "output_type": "stream",
     "text": [
      "4322821 2022 0\n",
      "4272695 2022 0\n",
      "4702371 2022 0\n"
     ]
    },
    {
     "name": "stderr",
     "output_type": "stream",
     "text": [
      " 79%|███████████████████████████████████████████████████████████████████████████████████████████████████████████████████████████████▋                                 | 2740/3455 [03:26<00:56, 12.60it/s]"
     ]
    },
    {
     "name": "stdout",
     "output_type": "stream",
     "text": [
      "5193579 2022 0\n",
      "4252889 2022 0\n",
      "4552865 2022 0\n"
     ]
    },
    {
     "name": "stderr",
     "output_type": "stream",
     "text": [
      "\r",
      " 79%|███████████████████████████████████████████████████████████████████████████████████████████████████████████████████████████████▊                                 | 2742/3455 [03:26<00:56, 12.65it/s]"
     ]
    },
    {
     "name": "stdout",
     "output_type": "stream",
     "text": [
      "4182638 2022 0\n",
      "5153576 2022 0\n",
      "4532864 2022 0\n"
     ]
    },
    {
     "name": "stderr",
     "output_type": "stream",
     "text": [
      " 79%|███████████████████████████████████████████████████████████████████████████████████████████████████████████████████████████████▉                                 | 2746/3455 [03:26<00:57, 12.31it/s]"
     ]
    },
    {
     "name": "stdout",
     "output_type": "stream",
     "text": [
      "4793556 2022 0\n",
      "4803559 2022 0\n",
      "4343599 2022 0\n"
     ]
    },
    {
     "name": "stderr",
     "output_type": "stream",
     "text": [
      "\r",
      " 80%|████████████████████████████████████████████████████████████████████████████████████████████████████████████████████████████████                                 | 2748/3455 [03:26<00:56, 12.54it/s]"
     ]
    },
    {
     "name": "stdout",
     "output_type": "stream",
     "text": [
      "5353577 2022 0\n",
      "5343577 2022 0\n",
      "5353579 2022 0\n"
     ]
    },
    {
     "name": "stderr",
     "output_type": "stream",
     "text": [
      " 80%|████████████████████████████████████████████████████████████████████████████████████████████████████████████████████████████████▏                                | 2752/3455 [03:27<00:56, 12.52it/s]"
     ]
    },
    {
     "name": "stdout",
     "output_type": "stream",
     "text": [
      "46061 2022 0\n",
      "4272884 2022 0\n",
      "4302839 2022 0\n"
     ]
    },
    {
     "name": "stderr",
     "output_type": "stream",
     "text": [
      "\r",
      " 80%|████████████████████████████████████████████████████████████████████████████████████████████████████████████████████████████████▎                                | 2754/3455 [03:27<00:55, 12.55it/s]"
     ]
    },
    {
     "name": "stdout",
     "output_type": "stream",
     "text": [
      "4422716 2022 0\n",
      "49143 2022 0\n",
      "50146 2022 0\n"
     ]
    },
    {
     "name": "stderr",
     "output_type": "stream",
     "text": [
      " 80%|████████████████████████████████████████████████████████████████████████████████████████████████████████████████████████████████▌                                | 2758/3455 [03:27<00:54, 12.70it/s]"
     ]
    },
    {
     "name": "stdout",
     "output_type": "stream",
     "text": [
      "5223584 2022 0\n",
      "-4421698 2022 0\n",
      "4312857 2022 0\n"
     ]
    },
    {
     "name": "stderr",
     "output_type": "stream",
     "text": [
      "\r",
      " 80%|████████████████████████████████████████████████████████████████████████████████████████████████████████████████████████████████▌                                | 2760/3455 [03:27<00:54, 12.81it/s]"
     ]
    },
    {
     "name": "stdout",
     "output_type": "stream",
     "text": [
      "4362870 2022 0\n",
      "4212664 2022 0\n",
      "4492913 2022 0\n"
     ]
    },
    {
     "name": "stderr",
     "output_type": "stream",
     "text": [
      " 80%|████████████████████████████████████████████████████████████████████████████████████████████████████████████████████████████████▊                                | 2764/3455 [03:27<00:54, 12.73it/s]"
     ]
    },
    {
     "name": "stdout",
     "output_type": "stream",
     "text": [
      "4883565 2022 0\n",
      "4182723 2022 0\n",
      "4402368 2022 0\n"
     ]
    },
    {
     "name": "stderr",
     "output_type": "stream",
     "text": [
      "\r",
      " 80%|████████████████████████████████████████████████████████████████████████████████████████████████████████████████████████████████▉                                | 2766/3455 [03:28<00:53, 12.78it/s]"
     ]
    },
    {
     "name": "stdout",
     "output_type": "stream",
     "text": [
      "-4031757 2022 0\n",
      "3942826 2022 0\n",
      "3872387 2022 0\n"
     ]
    },
    {
     "name": "stderr",
     "output_type": "stream",
     "text": [
      " 80%|█████████████████████████████████████████████████████████████████████████████████████████████████████████████████████████████████                                | 2770/3455 [03:28<00:52, 12.93it/s]"
     ]
    },
    {
     "name": "stdout",
     "output_type": "stream",
     "text": [
      "4172869 2022 0\n",
      "575244 2022 0\n",
      "4342633 2022 0\n"
     ]
    },
    {
     "name": "stderr",
     "output_type": "stream",
     "text": [
      "\r",
      " 80%|█████████████████████████████████████████████████████████████████████████████████████████████████████████████████████████████████▏                               | 2772/3455 [03:28<00:52, 12.98it/s]"
     ]
    },
    {
     "name": "stdout",
     "output_type": "stream",
     "text": [
      "4802435 2022 0\n",
      "-3701442 2022 0\n",
      "3902826 2022 0\n"
     ]
    },
    {
     "name": "stderr",
     "output_type": "stream",
     "text": [
      " 80%|█████████████████████████████████████████████████████████████████████████████████████████████████████████████████████████████████▎                               | 2776/3455 [03:28<00:52, 12.99it/s]"
     ]
    },
    {
     "name": "stdout",
     "output_type": "stream",
     "text": [
      "512161 2022 0\n",
      "3362581 2022 0\n",
      "511169 2022 0\n"
     ]
    },
    {
     "name": "stderr",
     "output_type": "stream",
     "text": [
      "\r",
      " 80%|█████████████████████████████████████████████████████████████████████████████████████████████████████████████████████████████████▍                               | 2778/3455 [03:29<00:52, 12.91it/s]"
     ]
    },
    {
     "name": "stdout",
     "output_type": "stream",
     "text": [
      "4412889 2022 0\n",
      "544171 2022 0\n",
      "4492370 2022 0\n"
     ]
    },
    {
     "name": "stderr",
     "output_type": "stream",
     "text": [
      " 81%|█████████████████████████████████████████████████████████████████████████████████████████████████████████████████████████████████▋                               | 2782/3455 [03:29<00:52, 12.84it/s]"
     ]
    },
    {
     "name": "stdout",
     "output_type": "stream",
     "text": [
      "4372438 2022 0\n",
      "4762433 2022 0\n",
      "4042858 2022 0\n"
     ]
    },
    {
     "name": "stderr",
     "output_type": "stream",
     "text": [
      "\r",
      " 81%|█████████████████████████████████████████████████████████████████████████████████████████████████████████████████████████████████▋                               | 2784/3455 [03:29<00:52, 12.80it/s]"
     ]
    },
    {
     "name": "stdout",
     "output_type": "stream",
     "text": [
      "4712715 2022 0\n",
      "50248 2022 0\n",
      "-4271469 2022 0\n"
     ]
    },
    {
     "name": "stderr",
     "output_type": "stream",
     "text": [
      " 81%|█████████████████████████████████████████████████████████████████████████████████████████████████████████████████████████████████▉                               | 2788/3455 [03:29<00:53, 12.43it/s]"
     ]
    },
    {
     "name": "stdout",
     "output_type": "stream",
     "text": [
      "2612799 2022 0\n",
      "4212874 2022 0\n",
      "523210 2022 0\n"
     ]
    },
    {
     "name": "stderr",
     "output_type": "stream",
     "text": [
      "\r",
      " 81%|██████████████████████████████████████████████████████████████████████████████████████████████████████████████████████████████████                               | 2790/3455 [03:29<00:52, 12.60it/s]"
     ]
    },
    {
     "name": "stdout",
     "output_type": "stream",
     "text": [
      "3772711 2022 0\n",
      "3772710 2022 0\n",
      "3882697 2022 0\n"
     ]
    },
    {
     "name": "stderr",
     "output_type": "stream",
     "text": [
      " 81%|██████████████████████████████████████████████████████████████████████████████████████████████████████████████████████████████████▏                              | 2794/3455 [03:30<00:52, 12.67it/s]"
     ]
    },
    {
     "name": "stdout",
     "output_type": "stream",
     "text": [
      "4212807 2022 0\n",
      "4242768 2022 0\n",
      "4142691 2022 0\n"
     ]
    },
    {
     "name": "stderr",
     "output_type": "stream",
     "text": [
      "\r",
      " 81%|██████████████████████████████████████████████████████████████████████████████████████████████████████████████████████████████████▎                              | 2796/3455 [03:30<00:51, 12.84it/s]"
     ]
    },
    {
     "name": "stdout",
     "output_type": "stream",
     "text": [
      "5352465 2022 0\n",
      "4372877 2022 0\n",
      "4002847 2022 0\n"
     ]
    },
    {
     "name": "stderr",
     "output_type": "stream",
     "text": [
      " 81%|██████████████████████████████████████████████████████████████████████████████████████████████████████████████████████████████████▍                              | 2800/3455 [03:30<00:51, 12.78it/s]"
     ]
    },
    {
     "name": "stdout",
     "output_type": "stream",
     "text": [
      "4372897 2022 0\n",
      "4552863 2022 0\n",
      "503188 2022 0\n"
     ]
    },
    {
     "name": "stderr",
     "output_type": "stream",
     "text": [
      "\r",
      " 81%|██████████████████████████████████████████████████████████████████████████████████████████████████████████████████████████████████▌                              | 2802/3455 [03:30<00:50, 12.82it/s]"
     ]
    },
    {
     "name": "stdout",
     "output_type": "stream",
     "text": [
      "531192 2022 0\n",
      "3922532 2022 0\n",
      "4182873 2022 0\n"
     ]
    },
    {
     "name": "stderr",
     "output_type": "stream",
     "text": [
      " 81%|██████████████████████████████████████████████████████████████████████████████████████████████████████████████████████████████████▊                              | 2806/3455 [03:31<00:50, 12.87it/s]"
     ]
    },
    {
     "name": "stdout",
     "output_type": "stream",
     "text": [
      "557132 2022 0\n",
      "4072482 2022 0\n",
      "4182869 2022 0\n"
     ]
    },
    {
     "name": "stderr",
     "output_type": "stream",
     "text": [
      "\r",
      " 81%|██████████████████████████████████████████████████████████████████████████████████████████████████████████████████████████████████▊                              | 2808/3455 [03:31<00:50, 12.69it/s]"
     ]
    },
    {
     "name": "stdout",
     "output_type": "stream",
     "text": [
      "4372896 2022 0\n",
      "4102662 2022 0\n",
      "4262887 2022 0\n"
     ]
    },
    {
     "name": "stderr",
     "output_type": "stream",
     "text": [
      " 81%|███████████████████████████████████████████████████████████████████████████████████████████████████████████████████████████████████                              | 2812/3455 [03:31<00:49, 13.09it/s]"
     ]
    },
    {
     "name": "stdout",
     "output_type": "stream",
     "text": [
      "4282885 2022 0\n",
      "3942484 2022 0\n",
      "4682370 2022 0\n"
     ]
    },
    {
     "name": "stderr",
     "output_type": "stream",
     "text": [
      "\r",
      " 81%|███████████████████████████████████████████████████████████████████████████████████████████████████████████████████████████████████▏                             | 2814/3455 [03:31<00:48, 13.14it/s]"
     ]
    },
    {
     "name": "stdout",
     "output_type": "stream",
     "text": [
      "5423555 2022 0\n",
      "50947 2022 0\n",
      "4172788 2022 0\n"
     ]
    },
    {
     "name": "stderr",
     "output_type": "stream",
     "text": [
      " 82%|███████████████████████████████████████████████████████████████████████████████████████████████████████████████████████████████████▎                             | 2818/3455 [03:32<00:48, 13.27it/s]"
     ]
    },
    {
     "name": "stdout",
     "output_type": "stream",
     "text": [
      "4532843 2022 0\n",
      "47489 2022 0\n",
      "4843572 2022 0\n"
     ]
    },
    {
     "name": "stderr",
     "output_type": "stream",
     "text": [
      "\r",
      " 82%|███████████████████████████████████████████████████████████████████████████████████████████████████████████████████████████████████▍                             | 2820/3455 [03:32<00:48, 13.06it/s]"
     ]
    },
    {
     "name": "stdout",
     "output_type": "stream",
     "text": [
      "548252 2022 0\n",
      "4062859 2022 0\n",
      "3642544 2022 0\n"
     ]
    },
    {
     "name": "stderr",
     "output_type": "stream",
     "text": [
      " 82%|███████████████████████████████████████████████████████████████████████████████████████████████████████████████████████████████████▌                             | 2824/3455 [03:32<00:49, 12.80it/s]"
     ]
    },
    {
     "name": "stdout",
     "output_type": "stream",
     "text": [
      "52449 2022 0\n",
      "-4271474 2022 0\n",
      "-3761417 2022 0\n"
     ]
    },
    {
     "name": "stderr",
     "output_type": "stream",
     "text": [
      "\r",
      " 82%|███████████████████████████████████████████████████████████████████████████████████████████████████████████████████████████████████▋                             | 2826/3455 [03:32<00:49, 12.69it/s]"
     ]
    },
    {
     "name": "stdout",
     "output_type": "stream",
     "text": [
      "523145 2022 0\n",
      "4372805 2022 0\n",
      "-3051517 2022 0\n"
     ]
    },
    {
     "name": "stderr",
     "output_type": "stream",
     "text": [
      " 82%|███████████████████████████████████████████████████████████████████████████████████████████████████████████████████████████████████▉                             | 2830/3455 [03:33<00:49, 12.72it/s]"
     ]
    },
    {
     "name": "stdout",
     "output_type": "stream",
     "text": [
      "4122481 2022 0\n",
      "4002737 2022 0\n",
      "4492369 2022 0\n"
     ]
    },
    {
     "name": "stderr",
     "output_type": "stream",
     "text": [
      "\r",
      " 82%|███████████████████████████████████████████████████████████████████████████████████████████████████████████████████████████████████▉                             | 2832/3455 [03:33<00:49, 12.50it/s]"
     ]
    },
    {
     "name": "stdout",
     "output_type": "stream",
     "text": [
      "-4151471 2022 0\n",
      "-3501389 2022 0\n",
      "46949 2022 0\n"
     ]
    },
    {
     "name": "stderr",
     "output_type": "stream",
     "text": [
      " 82%|████████████████████████████████████████████████████████████████████████████████████████████████████████████████████████████████████▏                            | 2836/3455 [03:33<00:49, 12.40it/s]"
     ]
    },
    {
     "name": "stdout",
     "output_type": "stream",
     "text": [
      "48810 2022 0\n",
      "3912734 2022 0\n",
      "5353572 2022 0\n"
     ]
    },
    {
     "name": "stderr",
     "output_type": "stream",
     "text": [
      "\r",
      " 82%|████████████████████████████████████████████████████████████████████████████████████████████████████████████████████████████████████▏                            | 2838/3455 [03:33<00:49, 12.39it/s]"
     ]
    },
    {
     "name": "stdout",
     "output_type": "stream",
     "text": [
      "4292705 2022 0\n",
      "3992740 2022 0\n",
      "3882694 2022 0\n"
     ]
    },
    {
     "name": "stderr",
     "output_type": "stream",
     "text": [
      " 82%|████████████████████████████████████████████████████████████████████████████████████████████████████████████████████████████████████▍                            | 2842/3455 [03:34<00:48, 12.72it/s]"
     ]
    },
    {
     "name": "stdout",
     "output_type": "stream",
     "text": [
      "-4111457 2022 0\n",
      "4863014 2022 0\n",
      "4362847 2022 0\n"
     ]
    },
    {
     "name": "stderr",
     "output_type": "stream",
     "text": [
      "\r",
      " 82%|████████████████████████████████████████████████████████████████████████████████████████████████████████████████████████████████████▌                            | 2844/3455 [03:34<00:47, 12.78it/s]"
     ]
    },
    {
     "name": "stdout",
     "output_type": "stream",
     "text": [
      "4922370 2022 0\n",
      "5383584 2022 0\n",
      "3912655 2022 0\n"
     ]
    },
    {
     "name": "stderr",
     "output_type": "stream",
     "text": [
      " 82%|████████████████████████████████████████████████████████████████████████████████████████████████████████████████████████████████████▋                            | 2848/3455 [03:34<00:47, 12.88it/s]"
     ]
    },
    {
     "name": "stdout",
     "output_type": "stream",
     "text": [
      "-4561707 2022 0\n",
      "-4571684 2022 0\n",
      "-4501687 2022 0\n"
     ]
    },
    {
     "name": "stderr",
     "output_type": "stream",
     "text": [
      "\r",
      " 82%|████████████████████████████████████████████████████████████████████████████████████████████████████████████████████████████████████▊                            | 2850/3455 [03:34<00:46, 12.88it/s]"
     ]
    },
    {
     "name": "stdout",
     "output_type": "stream",
     "text": [
      "-4481695 2022 0\n",
      "-3521473 2022 0\n",
      "4002780 2022 0\n"
     ]
    },
    {
     "name": "stderr",
     "output_type": "stream",
     "text": [
      " 83%|████████████████████████████████████████████████████████████████████████████████████████████████████████████████████████████████████▉                            | 2854/3455 [03:34<00:46, 12.89it/s]"
     ]
    },
    {
     "name": "stdout",
     "output_type": "stream",
     "text": [
      "4842365 2022 0\n",
      "45359 2022 0\n",
      "45360 2022 0\n"
     ]
    },
    {
     "name": "stderr",
     "output_type": "stream",
     "text": [
      "\r",
      " 83%|█████████████████████████████████████████████████████████████████████████████████████████████████████████████████████████████████████                            | 2856/3455 [03:35<00:46, 12.84it/s]"
     ]
    },
    {
     "name": "stdout",
     "output_type": "stream",
     "text": [
      "4082786 2022 0\n",
      "3852696 2022 0\n",
      "3792754 2022 0\n"
     ]
    },
    {
     "name": "stderr",
     "output_type": "stream",
     "text": [
      " 83%|█████████████████████████████████████████████████████████████████████████████████████████████████████████████████████████████████████▎                           | 2860/3455 [03:35<00:47, 12.64it/s]"
     ]
    },
    {
     "name": "stdout",
     "output_type": "stream",
     "text": [
      "5383587 2022 0\n",
      "4322746 2022 0\n",
      "3962553 2022 0\n"
     ]
    },
    {
     "name": "stderr",
     "output_type": "stream",
     "text": [
      "\r",
      " 83%|█████████████████████████████████████████████████████████████████████████████████████████████████████████████████████████████████████▎                           | 2862/3455 [03:35<00:46, 12.65it/s]"
     ]
    },
    {
     "name": "stdout",
     "output_type": "stream",
     "text": [
      "4382883 2022 0\n",
      "4973583 2022 0\n",
      "50131 2022 0\n"
     ]
    },
    {
     "name": "stderr",
     "output_type": "stream",
     "text": [
      " 83%|█████████████████████████████████████████████████████████████████████████████████████████████████████████████████████████████████████▌                           | 2866/3455 [03:35<00:47, 12.47it/s]"
     ]
    },
    {
     "name": "stdout",
     "output_type": "stream",
     "text": [
      "5343569 2022 0\n",
      "5113582 2022 0\n",
      "4392901 2022 0\n"
     ]
    },
    {
     "name": "stderr",
     "output_type": "stream",
     "text": [
      "\r",
      " 83%|█████████████████████████████████████████████████████████████████████████████████████████████████████████████████████████████████████▋                           | 2868/3455 [03:36<00:46, 12.63it/s]"
     ]
    },
    {
     "name": "stdout",
     "output_type": "stream",
     "text": [
      "605223 2022 0\n",
      "4322705 2022 0\n",
      "5193585 2022 0\n"
     ]
    },
    {
     "name": "stderr",
     "output_type": "stream",
     "text": [
      " 83%|█████████████████████████████████████████████████████████████████████████████████████████████████████████████████████████████████████▊                           | 2872/3455 [03:36<00:45, 12.91it/s]"
     ]
    },
    {
     "name": "stdout",
     "output_type": "stream",
     "text": [
      "4682434 2022 0\n",
      "4802425 2022 0\n",
      "3352780 2022 0\n"
     ]
    },
    {
     "name": "stderr",
     "output_type": "stream",
     "text": [
      "\r",
      " 83%|█████████████████████████████████████████████████████████████████████████████████████████████████████████████████████████████████████▉                           | 2874/3455 [03:36<00:45, 12.90it/s]"
     ]
    },
    {
     "name": "stdout",
     "output_type": "stream",
     "text": [
      "4712714 2022 0\n",
      "4512668 2022 0\n",
      "4242719 2022 0\n"
     ]
    },
    {
     "name": "stderr",
     "output_type": "stream",
     "text": [
      " 83%|██████████████████████████████████████████████████████████████████████████████████████████████████████████████████████████████████████                           | 2878/3455 [03:36<00:44, 12.88it/s]"
     ]
    },
    {
     "name": "stdout",
     "output_type": "stream",
     "text": [
      "-3781457 2022 0\n",
      "-3791454 2022 0\n",
      "4212841 2022 0\n"
     ]
    },
    {
     "name": "stderr",
     "output_type": "stream",
     "text": [
      "\r",
      " 83%|██████████████████████████████████████████████████████████████████████████████████████████████████████████████████████████████████████▏                          | 2880/3455 [03:37<00:45, 12.77it/s]"
     ]
    },
    {
     "name": "stdout",
     "output_type": "stream",
     "text": [
      "4362884 2022 0\n",
      "4762426 2022 0\n",
      "5102459 2022 0\n"
     ]
    },
    {
     "name": "stderr",
     "output_type": "stream",
     "text": [
      " 83%|██████████████████████████████████████████████████████████████████████████████████████████████████████████████████████████████████████▍                          | 2884/3455 [03:37<00:44, 12.94it/s]"
     ]
    },
    {
     "name": "stdout",
     "output_type": "stream",
     "text": [
      "-3831416 2022 0\n",
      "46018 2022 0\n",
      "5143590 2022 0\n"
     ]
    },
    {
     "name": "stderr",
     "output_type": "stream",
     "text": [
      "\r",
      " 84%|██████████████████████████████████████████████████████████████████████████████████████████████████████████████████████████████████████▍                          | 2886/3455 [03:37<00:43, 12.99it/s]"
     ]
    },
    {
     "name": "stdout",
     "output_type": "stream",
     "text": [
      "4132639 2022 0\n",
      "459136 2022 0\n",
      "3572813 2022 0\n"
     ]
    },
    {
     "name": "stderr",
     "output_type": "stream",
     "text": [
      " 84%|██████████████████████████████████████████████████████████████████████████████████████████████████████████████████████████████████████▋                          | 2890/3455 [03:37<00:43, 13.00it/s]"
     ]
    },
    {
     "name": "stdout",
     "output_type": "stream",
     "text": [
      "3512747 2022 0\n",
      "3012622 2022 0\n",
      "-3831452 2022 0\n"
     ]
    },
    {
     "name": "stderr",
     "output_type": "stream",
     "text": [
      "\r",
      " 84%|██████████████████████████████████████████████████████████████████████████████████████████████████████████████████████████████████████▊                          | 2892/3455 [03:37<00:43, 13.05it/s]"
     ]
    },
    {
     "name": "stdout",
     "output_type": "stream",
     "text": [
      "3772806 2022 0\n",
      "-3341513 2022 0\n",
      "3852385 2022 0\n"
     ]
    },
    {
     "name": "stderr",
     "output_type": "stream",
     "text": [
      " 84%|██████████████████████████████████████████████████████████████████████████████████████████████████████████████████████████████████████▉                          | 2896/3455 [03:38<00:42, 13.10it/s]"
     ]
    },
    {
     "name": "stdout",
     "output_type": "stream",
     "text": [
      "5493571 2022 0\n",
      "3362422 2022 0\n",
      "-3801452 2022 0\n"
     ]
    },
    {
     "name": "stderr",
     "output_type": "stream",
     "text": [
      "\r",
      " 84%|███████████████████████████████████████████████████████████████████████████████████████████████████████████████████████████████████████                          | 2898/3455 [03:38<00:42, 13.09it/s]"
     ]
    },
    {
     "name": "stdout",
     "output_type": "stream",
     "text": [
      "3822378 2022 0\n",
      "-2761533 2022 0\n",
      "-3811762 2022 0\n",
      "-3891753 2022 0\n"
     ]
    },
    {
     "name": "stderr",
     "output_type": "stream",
     "text": [
      " 84%|███████████████████████████████████████████████████████████████████████████████████████████████████████████████████████████████████████▏                         | 2902/3455 [03:38<00:42, 12.97it/s]"
     ]
    },
    {
     "name": "stdout",
     "output_type": "stream",
     "text": [
      "-3931743 2022 0\n",
      "-3781753 2022 0\n",
      "-4111468 2022 0\n"
     ]
    },
    {
     "name": "stderr",
     "output_type": "stream",
     "text": [
      " 84%|███████████████████████████████████████████████████████████████████████████████████████████████████████████████████████████████████████▍                         | 2906/3455 [03:39<00:41, 13.09it/s]"
     ]
    },
    {
     "name": "stdout",
     "output_type": "stream",
     "text": [
      "-4541677 2022 0\n",
      "-4131740 2022 0\n",
      "476191 2022 0\n"
     ]
    },
    {
     "name": "stderr",
     "output_type": "stream",
     "text": [
      "\r",
      " 84%|███████████████████████████████████████████████████████████████████████████████████████████████████████████████████████████████████████▌                         | 2908/3455 [03:39<00:42, 12.91it/s]"
     ]
    },
    {
     "name": "stdout",
     "output_type": "stream",
     "text": [
      "3612640 2022 0\n",
      "3322426 2022 0\n",
      "46968 2022 0\n"
     ]
    },
    {
     "name": "stderr",
     "output_type": "stream",
     "text": [
      " 84%|███████████████████████████████████████████████████████████████████████████████████████████████████████████████████████████████████████▋                         | 2912/3455 [03:39<00:41, 13.02it/s]"
     ]
    },
    {
     "name": "stdout",
     "output_type": "stream",
     "text": [
      "47459 2022 0\n",
      "3572812 2022 0\n",
      "4562388 2022 0\n"
     ]
    },
    {
     "name": "stderr",
     "output_type": "stream",
     "text": [
      "\r",
      " 84%|███████████████████████████████████████████████████████████████████████████████████████████████████████████████████████████████████████▊                         | 2914/3455 [03:39<00:41, 12.94it/s]"
     ]
    },
    {
     "name": "stdout",
     "output_type": "stream",
     "text": [
      "501197 2022 0\n",
      "3982849 2022 0\n",
      "4452371 2022 0\n"
     ]
    },
    {
     "name": "stderr",
     "output_type": "stream",
     "text": [
      " 84%|███████████████████████████████████████████████████████████████████████████████████████████████████████████████████████████████████████▉                         | 2918/3455 [03:39<00:41, 12.98it/s]"
     ]
    },
    {
     "name": "stdout",
     "output_type": "stream",
     "text": [
      "43116 2022 0\n",
      "43514 2022 0\n",
      "50747 2022 0\n"
     ]
    },
    {
     "name": "stderr",
     "output_type": "stream",
     "text": [
      "\r",
      " 85%|████████████████████████████████████████████████████████████████████████████████████████████████████████████████████████████████████████                         | 2920/3455 [03:40<00:41, 12.97it/s]"
     ]
    },
    {
     "name": "stdout",
     "output_type": "stream",
     "text": [
      "3442407 2022 0\n",
      "43939 2022 0\n",
      "49947 2022 0\n"
     ]
    },
    {
     "name": "stderr",
     "output_type": "stream",
     "text": [
      " 85%|████████████████████████████████████████████████████████████████████████████████████████████████████████████████████████████████████████▎                        | 2924/3455 [03:40<00:40, 13.04it/s]"
     ]
    },
    {
     "name": "stdout",
     "output_type": "stream",
     "text": [
      "50548 2022 0\n",
      "45627 2022 0\n",
      "50535 2022 0\n"
     ]
    },
    {
     "name": "stderr",
     "output_type": "stream",
     "text": [
      "\r",
      " 85%|████████████████████████████████████████████████████████████████████████████████████████████████████████████████████████████████████████▎                        | 2926/3455 [03:40<00:40, 13.07it/s]"
     ]
    },
    {
     "name": "stdout",
     "output_type": "stream",
     "text": [
      "45558 2022 0\n",
      "45659 2022 0\n",
      "45832 2022 0\n"
     ]
    },
    {
     "name": "stderr",
     "output_type": "stream",
     "text": [
      " 85%|████████████████████████████████████████████████████████████████████████████████████████████████████████████████████████████████████████▌                        | 2930/3455 [03:40<00:40, 13.12it/s]"
     ]
    },
    {
     "name": "stdout",
     "output_type": "stream",
     "text": [
      "43757 2022 0\n",
      "50634 2022 0\n",
      "4902372 2022 0\n"
     ]
    },
    {
     "name": "stderr",
     "output_type": "stream",
     "text": [
      "\r",
      " 85%|████████████████████████████████████████████████████████████████████████████████████████████████████████████████████████████████████████▋                        | 2932/3455 [03:41<00:39, 13.18it/s]"
     ]
    },
    {
     "name": "stdout",
     "output_type": "stream",
     "text": [
      "468134 2022 0\n",
      "4813594 2022 0\n",
      "49661 2022 0\n"
     ]
    },
    {
     "name": "stderr",
     "output_type": "stream",
     "text": [
      " 85%|████████████████████████████████████████████████████████████████████████████████████████████████████████████████████████████████████████▊                        | 2936/3455 [03:41<00:39, 13.10it/s]"
     ]
    },
    {
     "name": "stdout",
     "output_type": "stream",
     "text": [
      "3872386 2022 0\n",
      "4372808 2022 0\n",
      "3612630 2022 0\n"
     ]
    },
    {
     "name": "stderr",
     "output_type": "stream",
     "text": [
      "\r",
      " 85%|████████████████████████████████████████████████████████████████████████████████████████████████████████████████████████████████████████▉                        | 2938/3455 [03:41<00:39, 13.08it/s]"
     ]
    },
    {
     "name": "stdout",
     "output_type": "stream",
     "text": [
      "4242720 2022 0\n",
      "3892846 2022 0\n",
      "4312828 2022 0\n"
     ]
    },
    {
     "name": "stderr",
     "output_type": "stream",
     "text": [
      " 85%|█████████████████████████████████████████████████████████████████████████████████████████████████████████████████████████████████████████                        | 2942/3455 [03:41<00:39, 13.00it/s]"
     ]
    },
    {
     "name": "stdout",
     "output_type": "stream",
     "text": [
      "4312843 2022 0\n",
      "4112749 2022 0\n",
      "4352802 2022 0\n"
     ]
    },
    {
     "name": "stderr",
     "output_type": "stream",
     "text": [
      "\r",
      " 85%|█████████████████████████████████████████████████████████████████████████████████████████████████████████████████████████████████████████▏                       | 2944/3455 [03:41<00:39, 12.87it/s]"
     ]
    },
    {
     "name": "stdout",
     "output_type": "stream",
     "text": [
      "4132864 2022 0\n",
      "4052842 2022 0\n",
      "4162887 2022 0\n"
     ]
    },
    {
     "name": "stderr",
     "output_type": "stream",
     "text": [
      " 85%|█████████████████████████████████████████████████████████████████████████████████████████████████████████████████████████████████████████▎                       | 2948/3455 [03:42<00:38, 13.08it/s]"
     ]
    },
    {
     "name": "stdout",
     "output_type": "stream",
     "text": [
      "4532651 2022 0\n",
      "4152719 2022 0\n",
      "4132782 2022 0\n"
     ]
    },
    {
     "name": "stderr",
     "output_type": "stream",
     "text": [
      "\r",
      " 85%|█████████████████████████████████████████████████████████████████████████████████████████████████████████████████████████████████████████▍                       | 2950/3455 [03:42<00:38, 13.10it/s]"
     ]
    },
    {
     "name": "stdout",
     "output_type": "stream",
     "text": [
      "3892826 2022 0\n",
      "3942848 2022 0\n",
      "3802725 2022 0\n"
     ]
    },
    {
     "name": "stderr",
     "output_type": "stream",
     "text": [
      " 85%|█████████████████████████████████████████████████████████████████████████████████████████████████████████████████████████████████████████▋                       | 2954/3455 [03:42<00:38, 13.11it/s]"
     ]
    },
    {
     "name": "stdout",
     "output_type": "stream",
     "text": [
      "3772627 2022 0\n",
      "3732833 2022 0\n",
      "3802758 2022 0\n"
     ]
    },
    {
     "name": "stderr",
     "output_type": "stream",
     "text": [
      "\r",
      " 86%|█████████████████████████████████████████████████████████████████████████████████████████████████████████████████████████████████████████▋                       | 2956/3455 [03:42<00:38, 13.08it/s]"
     ]
    },
    {
     "name": "stdout",
     "output_type": "stream",
     "text": [
      "3612809 2022 0\n",
      "4162764 2022 0\n",
      "3992737 2022 0\n"
     ]
    },
    {
     "name": "stderr",
     "output_type": "stream",
     "text": [
      " 86%|█████████████████████████████████████████████████████████████████████████████████████████████████████████████████████████████████████████▉                       | 2960/3455 [03:43<00:38, 12.98it/s]"
     ]
    },
    {
     "name": "stdout",
     "output_type": "stream",
     "text": [
      "3922834 2022 0\n",
      "4142780 2022 0\n",
      "3652775 2022 0\n"
     ]
    },
    {
     "name": "stderr",
     "output_type": "stream",
     "text": [
      "\r",
      " 86%|██████████████████████████████████████████████████████████████████████████████████████████████████████████████████████████████████████████                       | 2962/3455 [03:43<00:37, 13.02it/s]"
     ]
    },
    {
     "name": "stdout",
     "output_type": "stream",
     "text": [
      "3772821 2022 0\n",
      "3842697 2022 0\n",
      "3832745 2022 0\n"
     ]
    },
    {
     "name": "stderr",
     "output_type": "stream",
     "text": [
      " 86%|██████████████████████████████████████████████████████████████████████████████████████████████████████████████████████████████████████████▏                      | 2966/3455 [03:43<00:37, 13.06it/s]"
     ]
    },
    {
     "name": "stdout",
     "output_type": "stream",
     "text": [
      "4142788 2022 0\n",
      "4142787 2022 0\n",
      "3732671 2022 0\n"
     ]
    },
    {
     "name": "stderr",
     "output_type": "stream",
     "text": [
      "\r",
      " 86%|██████████████████████████████████████████████████████████████████████████████████████████████████████████████████████████████████████████▎                      | 2968/3455 [03:43<00:37, 13.02it/s]"
     ]
    },
    {
     "name": "stdout",
     "output_type": "stream",
     "text": [
      "4312864 2022 0\n",
      "4672691 2022 0\n",
      "4182885 2022 0\n"
     ]
    },
    {
     "name": "stderr",
     "output_type": "stream",
     "text": [
      " 86%|██████████████████████████████████████████████████████████████████████████████████████████████████████████████████████████████████████████▍                      | 2972/3455 [03:44<00:39, 12.24it/s]"
     ]
    },
    {
     "name": "stdout",
     "output_type": "stream",
     "text": [
      "4192885 2022 0\n",
      "3402754 2022 0\n",
      "3922634 2022 0\n"
     ]
    },
    {
     "name": "stderr",
     "output_type": "stream",
     "text": [
      "\r",
      " 86%|██████████████████████████████████████████████████████████████████████████████████████████████████████████████████████████████████████████▌                      | 2974/3455 [03:44<00:38, 12.41it/s]"
     ]
    },
    {
     "name": "stdout",
     "output_type": "stream",
     "text": [
      "3702834 2022 0\n",
      "4002758 2022 0\n",
      "4582373 2022 0\n"
     ]
    },
    {
     "name": "stderr",
     "output_type": "stream",
     "text": [
      " 86%|██████████████████████████████████████████████████████████████████████████████████████████████████████████████████████████████████████████▊                      | 2978/3455 [03:44<00:37, 12.74it/s]"
     ]
    },
    {
     "name": "stdout",
     "output_type": "stream",
     "text": [
      "4492368 2022 0\n",
      "3912643 2022 0\n",
      "3942834 2022 0\n"
     ]
    },
    {
     "name": "stderr",
     "output_type": "stream",
     "text": [
      "\r",
      " 86%|██████████████████████████████████████████████████████████████████████████████████████████████████████████████████████████████████████████▊                      | 2980/3455 [03:44<00:36, 12.86it/s]"
     ]
    },
    {
     "name": "stdout",
     "output_type": "stream",
     "text": [
      "4062846 2022 0\n",
      "3882624 2022 0\n",
      "3992741 2022 0\n"
     ]
    },
    {
     "name": "stderr",
     "output_type": "stream",
     "text": [
      " 86%|███████████████████████████████████████████████████████████████████████████████████████████████████████████████████████████████████████████                      | 2984/3455 [03:45<00:37, 12.52it/s]"
     ]
    },
    {
     "name": "stdout",
     "output_type": "stream",
     "text": [
      "4362805 2022 0\n",
      "4593595 2022 0\n",
      "50237 2022 0\n"
     ]
    },
    {
     "name": "stderr",
     "output_type": "stream",
     "text": [
      "\r",
      " 86%|███████████████████████████████████████████████████████████████████████████████████████████████████████████████████████████████████████████▏                     | 2986/3455 [03:45<00:38, 12.31it/s]"
     ]
    },
    {
     "name": "stdout",
     "output_type": "stream",
     "text": [
      "50658 2022 0\n",
      "50027 2022 0\n",
      "49240 2022 0\n"
     ]
    },
    {
     "name": "stderr",
     "output_type": "stream",
     "text": [
      " 87%|███████████████████████████████████████████████████████████████████████████████████████████████████████████████████████████████████████████▎                     | 2990/3455 [03:45<00:37, 12.30it/s]"
     ]
    },
    {
     "name": "stdout",
     "output_type": "stream",
     "text": [
      "50723 2022 0\n",
      "4333574 2022 0\n",
      "50348 2022 0\n"
     ]
    },
    {
     "name": "stderr",
     "output_type": "stream",
     "text": [
      "\r",
      " 87%|███████████████████████████████████████████████████████████████████████████████████████████████████████████████████████████████████████████▍                     | 2992/3455 [03:45<00:36, 12.53it/s]"
     ]
    },
    {
     "name": "stdout",
     "output_type": "stream",
     "text": [
      "4462433 2022 0\n",
      "4482662 2022 0\n",
      "4302864 2022 0\n"
     ]
    },
    {
     "name": "stderr",
     "output_type": "stream",
     "text": [
      " 87%|███████████████████████████████████████████████████████████████████████████████████████████████████████████████████████████████████████████▌                     | 2996/3455 [03:46<00:35, 12.99it/s]"
     ]
    },
    {
     "name": "stdout",
     "output_type": "stream",
     "text": [
      "3562762 2022 0\n",
      "3882827 2022 0\n",
      "2812776 2022 0\n"
     ]
    },
    {
     "name": "stderr",
     "output_type": "stream",
     "text": [
      "\r",
      " 87%|███████████████████████████████████████████████████████████████████████████████████████████████████████████████████████████████████████████▋                     | 2998/3455 [03:46<00:34, 13.10it/s]"
     ]
    },
    {
     "name": "stdout",
     "output_type": "stream",
     "text": [
      "4002546 2022 0\n",
      "4632685 2022 0\n",
      "6492123 2022 0\n"
     ]
    },
    {
     "name": "stderr",
     "output_type": "stream",
     "text": [
      " 87%|███████████████████████████████████████████████████████████████████████████████████████████████████████████████████████████████████████████▉                     | 3002/3455 [03:46<00:34, 13.27it/s]"
     ]
    },
    {
     "name": "stdout",
     "output_type": "stream",
     "text": [
      "3402758 2022 0\n",
      "3962801 2022 0\n",
      "4252365 2022 0\n"
     ]
    },
    {
     "name": "stderr",
     "output_type": "stream",
     "text": [
      "\r",
      " 87%|███████████████████████████████████████████████████████████████████████████████████████████████████████████████████████████████████████████▉                     | 3004/3455 [03:46<00:34, 13.25it/s]"
     ]
    },
    {
     "name": "stdout",
     "output_type": "stream",
     "text": [
      "4262381 2022 0\n",
      "5852252 2022 0\n",
      "4172859 2022 0\n"
     ]
    },
    {
     "name": "stderr",
     "output_type": "stream",
     "text": [
      " 87%|████████████████████████████████████████████████████████████████████████████████████████████████████████████████████████████████████████████▏                    | 3008/3455 [03:46<00:33, 13.34it/s]"
     ]
    },
    {
     "name": "stdout",
     "output_type": "stream",
     "text": [
      "4432861 2022 0\n",
      "3522766 2022 0\n",
      "4272892 2022 0\n"
     ]
    },
    {
     "name": "stderr",
     "output_type": "stream",
     "text": [
      "\r",
      " 87%|████████████████████████████████████████████████████████████████████████████████████████████████████████████████████████████████████████████▎                    | 3010/3455 [03:47<00:33, 13.19it/s]"
     ]
    },
    {
     "name": "stdout",
     "output_type": "stream",
     "text": [
      "4492672 2022 0\n",
      "3562776 2022 0\n",
      "4372634 2022 0\n"
     ]
    },
    {
     "name": "stderr",
     "output_type": "stream",
     "text": [
      " 87%|████████████████████████████████████████████████████████████████████████████████████████████████████████████████████████████████████████████▍                    | 3014/3455 [03:47<00:33, 13.36it/s]"
     ]
    },
    {
     "name": "stdout",
     "output_type": "stream",
     "text": [
      "4002799 2022 0\n",
      "4202701 2022 0\n",
      "4702653 2022 0\n"
     ]
    },
    {
     "name": "stderr",
     "output_type": "stream",
     "text": [
      "\r",
      " 87%|████████████████████████████████████████████████████████████████████████████████████████████████████████████████████████████████████████████▌                    | 3016/3455 [03:47<00:32, 13.38it/s]"
     ]
    },
    {
     "name": "stdout",
     "output_type": "stream",
     "text": [
      "4022547 2022 0\n",
      "4202715 2022 0\n",
      "4702480 2022 0\n"
     ]
    },
    {
     "name": "stderr",
     "output_type": "stream",
     "text": [
      " 87%|████████████████████████████████████████████████████████████████████████████████████████████████████████████████████████████████████████████▋                    | 3020/3455 [03:47<00:32, 13.35it/s]"
     ]
    },
    {
     "name": "stdout",
     "output_type": "stream",
     "text": [
      "3552767 2022 0\n",
      "4172385 2022 0\n",
      "3562765 2022 0\n"
     ]
    },
    {
     "name": "stderr",
     "output_type": "stream",
     "text": [
      "\r",
      " 87%|████████████████████████████████████████████████████████████████████████████████████████████████████████████████████████████████████████████▊                    | 3022/3455 [03:47<00:32, 13.37it/s]"
     ]
    },
    {
     "name": "stdout",
     "output_type": "stream",
     "text": [
      "4492817 2022 0\n",
      "3552770 2022 0\n",
      "4032846 2022 0\n"
     ]
    },
    {
     "name": "stderr",
     "output_type": "stream",
     "text": [
      " 88%|█████████████████████████████████████████████████████████████████████████████████████████████████████████████████████████████████████████████                    | 3026/3455 [03:48<00:31, 13.41it/s]"
     ]
    },
    {
     "name": "stdout",
     "output_type": "stream",
     "text": [
      "3242651 2022 0\n",
      "3462810 2022 0\n",
      "4012840 2022 0\n"
     ]
    },
    {
     "name": "stderr",
     "output_type": "stream",
     "text": [
      "\r",
      " 88%|█████████████████████████████████████████████████████████████████████████████████████████████████████████████████████████████████████████████                    | 3028/3455 [03:48<00:31, 13.40it/s]"
     ]
    },
    {
     "name": "stdout",
     "output_type": "stream",
     "text": [
      "4822509 2022 0\n",
      "4692651 2022 0\n",
      "3172771 2022 0\n"
     ]
    },
    {
     "name": "stderr",
     "output_type": "stream",
     "text": [
      " 88%|█████████████████████████████████████████████████████████████████████████████████████████████████████████████████████████████████████████████▎                   | 3032/3455 [03:48<00:31, 13.42it/s]"
     ]
    },
    {
     "name": "stdout",
     "output_type": "stream",
     "text": [
      "4482888 2022 0\n",
      "3952401 2022 0\n",
      "3712796 2022 0\n"
     ]
    },
    {
     "name": "stderr",
     "output_type": "stream",
     "text": [
      "\r",
      " 88%|█████████████████████████████████████████████████████████████████████████████████████████████████████████████████████████████████████████████▍                   | 3034/3455 [03:48<00:31, 13.40it/s]"
     ]
    },
    {
     "name": "stdout",
     "output_type": "stream",
     "text": [
      "4222683 2022 0\n",
      "4332887 2022 0\n",
      "4482512 2022 0\n"
     ]
    },
    {
     "name": "stderr",
     "output_type": "stream",
     "text": [
      " 88%|█████████████████████████████████████████████████████████████████████████████████████████████████████████████████████████████████████████████▌                   | 3038/3455 [03:49<00:31, 13.41it/s]"
     ]
    },
    {
     "name": "stdout",
     "output_type": "stream",
     "text": [
      "3752750 2022 0\n",
      "6132105 2022 0\n",
      "3952552 2022 0\n"
     ]
    },
    {
     "name": "stderr",
     "output_type": "stream",
     "text": [
      "\r",
      " 88%|█████████████████████████████████████████████████████████████████████████████████████████████████████████████████████████████████████████████▋                   | 3040/3455 [03:49<00:30, 13.42it/s]"
     ]
    },
    {
     "name": "stdout",
     "output_type": "stream",
     "text": [
      "3852816 2022 0\n",
      "4162750 2022 0\n",
      "4492685 2022 0\n"
     ]
    },
    {
     "name": "stderr",
     "output_type": "stream",
     "text": [
      " 88%|█████████████████████████████████████████████████████████████████████████████████████████████████████████████████████████████████████████████▊                   | 3044/3455 [03:49<00:30, 13.47it/s]"
     ]
    },
    {
     "name": "stdout",
     "output_type": "stream",
     "text": [
      "3922531 2022 0\n",
      "4282721 2022 0\n",
      "3072703 2022 0\n"
     ]
    },
    {
     "name": "stderr",
     "output_type": "stream",
     "text": [
      "\r",
      " 88%|█████████████████████████████████████████████████████████████████████████████████████████████████████████████████████████████████████████████▉                   | 3046/3455 [03:49<00:30, 13.42it/s]"
     ]
    },
    {
     "name": "stdout",
     "output_type": "stream",
     "text": [
      "3042724 2022 0\n",
      "4842405 2022 0\n",
      "4762665 2022 0\n"
     ]
    },
    {
     "name": "stderr",
     "output_type": "stream",
     "text": [
      " 88%|██████████████████████████████████████████████████████████████████████████████████████████████████████████████████████████████████████████████▏                  | 3050/3455 [03:50<00:30, 13.37it/s]"
     ]
    },
    {
     "name": "stdout",
     "output_type": "stream",
     "text": [
      "3962525 2022 0\n",
      "3982825 2022 0\n",
      "3032701 2022 0\n"
     ]
    },
    {
     "name": "stderr",
     "output_type": "stream",
     "text": [
      "\r",
      " 88%|██████████████████████████████████████████████████████████████████████████████████████████████████████████████████████████████████████████████▏                  | 3052/3455 [03:50<00:30, 13.35it/s]"
     ]
    },
    {
     "name": "stdout",
     "output_type": "stream",
     "text": [
      "3552774 2022 0\n",
      "466154 2022 0\n",
      "471156 2022 0\n"
     ]
    },
    {
     "name": "stderr",
     "output_type": "stream",
     "text": [
      " 88%|██████████████████████████████████████████████████████████████████████████████████████████████████████████████████████████████████████████████▍                  | 3056/3455 [03:50<00:29, 13.40it/s]"
     ]
    },
    {
     "name": "stdout",
     "output_type": "stream",
     "text": [
      "479164 2022 0\n",
      "479133 2022 0\n",
      "53098 2022 0\n"
     ]
    },
    {
     "name": "stderr",
     "output_type": "stream",
     "text": [
      "\r",
      " 89%|██████████████████████████████████████████████████████████████████████████████████████████████████████████████████████████████████████████████▌                  | 3058/3455 [03:50<00:29, 13.28it/s]"
     ]
    },
    {
     "name": "stdout",
     "output_type": "stream",
     "text": [
      "49084 2022 0\n",
      "52171 2022 0\n",
      "49687 2022 0\n"
     ]
    },
    {
     "name": "stderr",
     "output_type": "stream",
     "text": [
      "\r",
      " 89%|██████████████████████████████████████████████████████████████████████████████████████████████████████████████████████████████████████████████▌                  | 3060/3455 [03:50<00:29, 13.26it/s]"
     ]
    },
    {
     "name": "stdout",
     "output_type": "stream",
     "text": [
      "51888 2022 0\n",
      "511109 2022 0\n"
     ]
    },
    {
     "name": "stderr",
     "output_type": "stream",
     "text": [
      "\r",
      " 89%|██████████████████████████████████████████████████████████████████████████████████████████████████████████████████████████████████████████████▋                  | 3062/3455 [03:51<00:33, 11.61it/s]"
     ]
    },
    {
     "name": "stdout",
     "output_type": "stream",
     "text": [
      "533113 2022 0\n",
      "49981 2022 0\n"
     ]
    },
    {
     "name": "stderr",
     "output_type": "stream",
     "text": [
      " 89%|██████████████████████████████████████████████████████████████████████████████████████████████████████████████████████████████████████████████▊                  | 3066/3455 [03:51<00:33, 11.49it/s]"
     ]
    },
    {
     "name": "stdout",
     "output_type": "stream",
     "text": [
      "501114 2022 0\n",
      "514148 2022 0\n",
      "50188 2022 0\n"
     ]
    },
    {
     "name": "stderr",
     "output_type": "stream",
     "text": [
      "\r",
      " 89%|██████████████████████████████████████████████████████████████████████████████████████████████████████████████████████████████████████████████▉                  | 3068/3455 [03:51<00:32, 11.83it/s]"
     ]
    },
    {
     "name": "stdout",
     "output_type": "stream",
     "text": [
      "528125 2022 0\n",
      "454182 2022 0\n",
      "491190 2022 0\n"
     ]
    },
    {
     "name": "stderr",
     "output_type": "stream",
     "text": [
      " 89%|███████████████████████████████████████████████████████████████████████████████████████████████████████████████████████████████████████████████▏                 | 3072/3455 [03:51<00:32, 11.62it/s]"
     ]
    },
    {
     "name": "stdout",
     "output_type": "stream",
     "text": [
      "46974 2022 0\n",
      "3922741 2022 0\n",
      "48826 2022 0\n"
     ]
    },
    {
     "name": "stderr",
     "output_type": "stream",
     "text": [
      "\r",
      " 89%|███████████████████████████████████████████████████████████████████████████████████████████████████████████████████████████████████████████████▏                 | 3074/3455 [03:52<00:33, 11.44it/s]"
     ]
    },
    {
     "name": "stdout",
     "output_type": "stream",
     "text": [
      "4322825 2022 0\n",
      "3292428 2022 0\n",
      "4552369 2022 0\n"
     ]
    },
    {
     "name": "stderr",
     "output_type": "stream",
     "text": [
      " 89%|███████████████████████████████████████████████████████████████████████████████████████████████████████████████████████████████████████████████▍                 | 3078/3455 [03:52<00:32, 11.71it/s]"
     ]
    },
    {
     "name": "stdout",
     "output_type": "stream",
     "text": [
      "-2303165 2022 0\n",
      "52614 2022 0\n",
      "5243584 2022 0\n"
     ]
    },
    {
     "name": "stderr",
     "output_type": "stream",
     "text": [
      "\r",
      " 89%|███████████████████████████████████████████████████████████████████████████████████████████████████████████████████████████████████████████████▌                 | 3080/3455 [03:52<00:30, 12.17it/s]"
     ]
    },
    {
     "name": "stdout",
     "output_type": "stream",
     "text": [
      "5383589 2022 0\n",
      "5243585 2022 0\n",
      "5263581 2022 0\n"
     ]
    },
    {
     "name": "stderr",
     "output_type": "stream",
     "text": [
      " 89%|███████████████████████████████████████████████████████████████████████████████████████████████████████████████████████████████████████████████▋                 | 3084/3455 [03:52<00:29, 12.40it/s]"
     ]
    },
    {
     "name": "stdout",
     "output_type": "stream",
     "text": [
      "5423588 2022 0\n",
      "47871 2022 0\n",
      "482143 2022 0\n"
     ]
    },
    {
     "name": "stderr",
     "output_type": "stream",
     "text": [
      "\r",
      " 89%|███████████████████████████████████████████████████████████████████████████████████████████████████████████████████████████████████████████████▊                 | 3086/3455 [03:53<00:29, 12.33it/s]"
     ]
    },
    {
     "name": "stdout",
     "output_type": "stream",
     "text": [
      "4452868 2022 0\n",
      "3942385 2022 0\n",
      "47350 2022 0\n"
     ]
    },
    {
     "name": "stderr",
     "output_type": "stream",
     "text": [
      " 89%|███████████████████████████████████████████████████████████████████████████████████████████████████████████████████████████████████████████████▉                 | 3090/3455 [03:53<00:29, 12.42it/s]"
     ]
    },
    {
     "name": "stdout",
     "output_type": "stream",
     "text": [
      "45862 2022 0\n",
      "4452372 2022 0\n",
      "527137 2022 0\n"
     ]
    },
    {
     "name": "stderr",
     "output_type": "stream",
     "text": [
      "\r",
      " 89%|████████████████████████████████████████████████████████████████████████████████████████████████████████████████████████████████████████████████                 | 3092/3455 [03:53<00:28, 12.55it/s]"
     ]
    },
    {
     "name": "stdout",
     "output_type": "stream",
     "text": [
      "4412368 2022 0\n",
      "4502370 2022 0\n",
      "4863562 2022 0\n"
     ]
    },
    {
     "name": "stderr",
     "output_type": "stream",
     "text": [
      " 90%|████████████████████████████████████████████████████████████████████████████████████████████████████████████████████████████████████████████████▎                | 3096/3455 [03:53<00:28, 12.75it/s]"
     ]
    },
    {
     "name": "stdout",
     "output_type": "stream",
     "text": [
      "48678 2022 0\n",
      "4612416 2022 0\n",
      "4203520 2022 0\n"
     ]
    },
    {
     "name": "stderr",
     "output_type": "stream",
     "text": [
      "\r",
      " 90%|████████████████████████████████████████████████████████████████████████████████████████████████████████████████████████████████████████████████▎                | 3098/3455 [03:53<00:28, 12.72it/s]"
     ]
    },
    {
     "name": "stdout",
     "output_type": "stream",
     "text": [
      "49370 2022 0\n",
      "557125 2022 0\n",
      "4933593 2022 0\n"
     ]
    },
    {
     "name": "stderr",
     "output_type": "stream",
     "text": [
      " 90%|████████████████████████████████████████████████████████████████████████████████████████████████████████████████████████████████████████████████▌                | 3102/3455 [03:54<00:27, 12.77it/s]"
     ]
    },
    {
     "name": "stdout",
     "output_type": "stream",
     "text": [
      "50755 2022 0\n",
      "47450 2022 0\n",
      "4623592 2022 0\n"
     ]
    },
    {
     "name": "stderr",
     "output_type": "stream",
     "text": [
      "\r",
      " 90%|████████████████████████████████████████████████████████████████████████████████████████████████████████████████████████████████████████████████▋                | 3104/3455 [03:54<00:27, 12.77it/s]"
     ]
    },
    {
     "name": "stdout",
     "output_type": "stream",
     "text": [
      "4623589 2022 0\n",
      "46606 2022 0\n",
      "4472368 2022 0\n"
     ]
    },
    {
     "name": "stderr",
     "output_type": "stream",
     "text": [
      " 90%|████████████████████████████████████████████████████████████████████████████████████████████████████████████████████████████████████████████████▊                | 3108/3455 [03:54<00:26, 13.10it/s]"
     ]
    },
    {
     "name": "stdout",
     "output_type": "stream",
     "text": [
      "5093585 2022 0\n",
      "4622440 2022 0\n",
      "52517 2022 0\n"
     ]
    },
    {
     "name": "stderr",
     "output_type": "stream",
     "text": [
      "\r",
      " 90%|████████████████████████████████████████████████████████████████████████████████████████████████████████████████████████████████████████████████▉                | 3110/3455 [03:54<00:26, 13.08it/s]"
     ]
    },
    {
     "name": "stdout",
     "output_type": "stream",
     "text": [
      "5253567 2022 0\n",
      "45148 2022 0\n",
      "5143598 2022 0\n"
     ]
    },
    {
     "name": "stderr",
     "output_type": "stream",
     "text": [
      " 90%|█████████████████████████████████████████████████████████████████████████████████████████████████████████████████████████████████████████████████                | 3114/3455 [03:55<00:25, 13.12it/s]"
     ]
    },
    {
     "name": "stdout",
     "output_type": "stream",
     "text": [
      "44151 2022 0\n",
      "48341 2022 0\n",
      "4643595 2022 0\n"
     ]
    },
    {
     "name": "stderr",
     "output_type": "stream",
     "text": [
      "\r",
      " 90%|█████████████████████████████████████████████████████████████████████████████████████████████████████████████████████████████████████████████████▏               | 3116/3455 [03:55<00:25, 13.19it/s]"
     ]
    },
    {
     "name": "stdout",
     "output_type": "stream",
     "text": [
      "4782426 2022 0\n",
      "50232 2022 0\n",
      "4623593 2022 0\n"
     ]
    },
    {
     "name": "stderr",
     "output_type": "stream",
     "text": [
      " 90%|█████████████████████████████████████████████████████████████████████████████████████████████████████████████████████████████████████████████████▍               | 3120/3455 [03:55<00:25, 13.21it/s]"
     ]
    },
    {
     "name": "stdout",
     "output_type": "stream",
     "text": [
      "50252 2022 0\n",
      "5503584 2022 0\n",
      "5213593 2022 0\n"
     ]
    },
    {
     "name": "stderr",
     "output_type": "stream",
     "text": [
      "\r",
      " 90%|█████████████████████████████████████████████████████████████████████████████████████████████████████████████████████████████████████████████████▍               | 3122/3455 [03:55<00:25, 13.17it/s]"
     ]
    },
    {
     "name": "stdout",
     "output_type": "stream",
     "text": [
      "5583558 2022 0\n",
      "3962403 2022 0\n",
      "5213587 2022 0\n"
     ]
    },
    {
     "name": "stderr",
     "output_type": "stream",
     "text": [
      " 90%|█████████████████████████████████████████████████████████████████████████████████████████████████████████████████████████████████████████████████▋               | 3126/3455 [03:56<00:24, 13.20it/s]"
     ]
    },
    {
     "name": "stdout",
     "output_type": "stream",
     "text": [
      "514115 2022 0\n",
      "5173575 2022 0\n",
      "507179 2022 0\n"
     ]
    },
    {
     "name": "stderr",
     "output_type": "stream",
     "text": [
      "\r",
      " 91%|█████████████████████████████████████████████████████████████████████████████████████████████████████████████████████████████████████████████████▊               | 3128/3455 [03:56<00:24, 13.26it/s]"
     ]
    },
    {
     "name": "stdout",
     "output_type": "stream",
     "text": [
      "445261 2022 0\n",
      "466157 2022 0\n",
      "46886 2022 0\n"
     ]
    },
    {
     "name": "stderr",
     "output_type": "stream",
     "text": [
      " 91%|█████████████████████████████████████████████████████████████████████████████████████████████████████████████████████████████████████████████████▉               | 3132/3455 [03:56<00:24, 12.97it/s]"
     ]
    },
    {
     "name": "stdout",
     "output_type": "stream",
     "text": [
      "47074 2022 0\n",
      "502189 2022 0\n",
      "5243582 2022 0\n"
     ]
    },
    {
     "name": "stderr",
     "output_type": "stream",
     "text": [
      "\r",
      " 91%|██████████████████████████████████████████████████████████████████████████████████████████████████████████████████████████████████████████████████               | 3134/3455 [03:56<00:24, 12.93it/s]"
     ]
    },
    {
     "name": "stdout",
     "output_type": "stream",
     "text": [
      "48626 2022 0\n",
      "513225 2022 0\n",
      "447166 2022 0\n"
     ]
    },
    {
     "name": "stderr",
     "output_type": "stream",
     "text": [
      " 91%|██████████████████████████████████████████████████████████████████████████████████████████████████████████████████████████████████████████████████▏              | 3138/3455 [03:57<00:24, 13.13it/s]"
     ]
    },
    {
     "name": "stdout",
     "output_type": "stream",
     "text": [
      "50656 2022 0\n",
      "4823570 2022 0\n",
      "45177 2022 0\n"
     ]
    },
    {
     "name": "stderr",
     "output_type": "stream",
     "text": [
      "\r",
      " 91%|██████████████████████████████████████████████████████████████████████████████████████████████████████████████████████████████████████████████████▎              | 3140/3455 [03:57<00:23, 13.21it/s]"
     ]
    },
    {
     "name": "stdout",
     "output_type": "stream",
     "text": [
      "48721 2022 0\n",
      "48872 2022 0\n",
      "50758 2022 0\n"
     ]
    },
    {
     "name": "stderr",
     "output_type": "stream",
     "text": [
      " 91%|██████████████████████████████████████████████████████████████████████████████████████████████████████████████████████████████████████████████████▌              | 3144/3455 [03:57<00:24, 12.92it/s]"
     ]
    },
    {
     "name": "stdout",
     "output_type": "stream",
     "text": [
      "50657 2022 0\n",
      "50542 2022 0\n",
      "45297 2022 0\n"
     ]
    },
    {
     "name": "stderr",
     "output_type": "stream",
     "text": [
      "\r",
      " 91%|██████████████████████████████████████████████████████████████████████████████████████████████████████████████████████████████████████████████████▌              | 3146/3455 [03:57<00:23, 12.88it/s]"
     ]
    },
    {
     "name": "stdout",
     "output_type": "stream",
     "text": [
      "5143576 2022 0\n",
      "4863578 2022 0\n",
      "602249 2022 0\n"
     ]
    },
    {
     "name": "stderr",
     "output_type": "stream",
     "text": [
      " 91%|██████████████████████████████████████████████████████████████████████████████████████████████████████████████████████████████████████████████████▊              | 3150/3455 [03:57<00:24, 12.69it/s]"
     ]
    },
    {
     "name": "stdout",
     "output_type": "stream",
     "text": [
      "4633590 2022 0\n",
      "3452427 2022 0\n",
      "4512728 2022 0\n"
     ]
    },
    {
     "name": "stderr",
     "output_type": "stream",
     "text": [
      "\r",
      " 91%|██████████████████████████████████████████████████████████████████████████████████████████████████████████████████████████████████████████████████▉              | 3152/3455 [03:58<00:24, 12.61it/s]"
     ]
    },
    {
     "name": "stdout",
     "output_type": "stream",
     "text": [
      "4232709 2022 0\n",
      "484155 2022 0\n",
      "3652383 2022 0\n"
     ]
    },
    {
     "name": "stderr",
     "output_type": "stream",
     "text": [
      " 91%|███████████████████████████████████████████████████████████████████████████████████████████████████████████████████████████████████████████████████              | 3156/3455 [03:58<00:23, 12.66it/s]"
     ]
    },
    {
     "name": "stdout",
     "output_type": "stream",
     "text": [
      "4572411 2022 0\n",
      "4032849 2022 0\n",
      "4772429 2022 0\n"
     ]
    },
    {
     "name": "stderr",
     "output_type": "stream",
     "text": [
      "\r",
      " 91%|███████████████████████████████████████████████████████████████████████████████████████████████████████████████████████████████████████████████████▏             | 3158/3455 [03:58<00:23, 12.59it/s]"
     ]
    },
    {
     "name": "stdout",
     "output_type": "stream",
     "text": [
      "558133 2022 0\n",
      "5112460 2022 0\n",
      "5212534 2022 0\n"
     ]
    },
    {
     "name": "stderr",
     "output_type": "stream",
     "text": [
      " 92%|███████████████████████████████████████████████████████████████████████████████████████████████████████████████████████████████████████████████████▎             | 3162/3455 [03:58<00:23, 12.60it/s]"
     ]
    },
    {
     "name": "stdout",
     "output_type": "stream",
     "text": [
      "4122552 2022 0\n",
      "4572864 2022 0\n",
      "4572490 2022 0\n"
     ]
    },
    {
     "name": "stderr",
     "output_type": "stream",
     "text": [
      "\r",
      " 92%|███████████████████████████████████████████████████████████████████████████████████████████████████████████████████████████████████████████████████▍             | 3164/3455 [03:59<00:22, 12.66it/s]"
     ]
    },
    {
     "name": "stdout",
     "output_type": "stream",
     "text": [
      "3902832 2022 0\n",
      "3202647 2022 0\n",
      "3582811 2022 0\n"
     ]
    },
    {
     "name": "stderr",
     "output_type": "stream",
     "text": [
      " 92%|███████████████████████████████████████████████████████████████████████████████████████████████████████████████████████████████████████████████████▋             | 3168/3455 [03:59<00:25, 11.25it/s]"
     ]
    },
    {
     "name": "stdout",
     "output_type": "stream",
     "text": [
      "3992736 2022 0\n",
      "3012701 2022 0\n",
      "3592812 2022 0\n"
     ]
    },
    {
     "name": "stderr",
     "output_type": "stream",
     "text": [
      "\r",
      " 92%|███████████████████████████████████████████████████████████████████████████████████████████████████████████████████████████████████████████████████▋             | 3170/3455 [03:59<00:24, 11.57it/s]"
     ]
    },
    {
     "name": "stdout",
     "output_type": "stream",
     "text": [
      "3512806 2022 0\n",
      "3802789 2022 0\n",
      "3012645 2022 0\n"
     ]
    },
    {
     "name": "stderr",
     "output_type": "stream",
     "text": [
      " 92%|███████████████████████████████████████████████████████████████████████████████████████████████████████████████████████████████████████████████████▉             | 3174/3455 [03:59<00:23, 11.80it/s]"
     ]
    },
    {
     "name": "stdout",
     "output_type": "stream",
     "text": [
      "3962738 2022 0\n",
      "3872846 2022 0\n",
      "2902787 2022 0\n"
     ]
    },
    {
     "name": "stderr",
     "output_type": "stream",
     "text": [
      "\r",
      " 92%|███████████████████████████████████████████████████████████████████████████████████████████████████████████████████████████████████████████████████▉             | 3176/3455 [04:00<00:24, 11.35it/s]"
     ]
    },
    {
     "name": "stdout",
     "output_type": "stream",
     "text": [
      "3932366 2022 0\n",
      "3572774 2022 0\n",
      "3412791 2022 0\n"
     ]
    },
    {
     "name": "stderr",
     "output_type": "stream",
     "text": [
      " 92%|████████████████████████████████████████████████████████████████████████████████████████████████████████████████████████████████████████████████████▏            | 3180/3455 [04:00<00:23, 11.68it/s]"
     ]
    },
    {
     "name": "stdout",
     "output_type": "stream",
     "text": [
      "3952731 2022 0\n",
      "3522789 2022 0\n",
      "3612801 2022 0\n"
     ]
    },
    {
     "name": "stderr",
     "output_type": "stream",
     "text": [
      "\r",
      " 92%|████████████████████████████████████████████████████████████████████████████████████████████████████████████████████████████████████████████████████▎            | 3182/3455 [04:00<00:23, 11.71it/s]"
     ]
    },
    {
     "name": "stdout",
     "output_type": "stream",
     "text": [
      "3582812 2022 0\n",
      "3262635 2022 0\n",
      "3612805 2022 0\n"
     ]
    },
    {
     "name": "stderr",
     "output_type": "stream",
     "text": [
      "\r",
      " 92%|████████████████████████████████████████████████████████████████████████████████████████████████████████████████████████████████████████████████████▎            | 3184/3455 [04:00<00:24, 11.25it/s]"
     ]
    },
    {
     "name": "stdout",
     "output_type": "stream",
     "text": [
      "3512675 2022 0\n",
      "3322725 2022 0\n"
     ]
    },
    {
     "name": "stderr",
     "output_type": "stream",
     "text": [
      "\r",
      " 92%|████████████████████████████████████████████████████████████████████████████████████████████████████████████████████████████████████████████████████▍            | 3186/3455 [04:01<00:25, 10.49it/s]"
     ]
    },
    {
     "name": "stdout",
     "output_type": "stream",
     "text": [
      "4162723 2022 0\n",
      "3402774 2022 0\n"
     ]
    },
    {
     "name": "stderr",
     "output_type": "stream",
     "text": [
      " 92%|████████████████████████████████████████████████████████████████████████████████████████████████████████████████████████████████████████████████████▋            | 3190/3455 [04:01<00:25, 10.21it/s]"
     ]
    },
    {
     "name": "stdout",
     "output_type": "stream",
     "text": [
      "3902691 2022 0\n",
      "2902790 2022 0\n",
      "3972737 2022 0\n"
     ]
    },
    {
     "name": "stderr",
     "output_type": "stream",
     "text": [
      "\r",
      " 92%|████████████████████████████████████████████████████████████████████████████████████████████████████████████████████████████████████████████████████▋            | 3192/3455 [04:01<00:24, 10.55it/s]"
     ]
    },
    {
     "name": "stdout",
     "output_type": "stream",
     "text": [
      "3312724 2022 0\n",
      "3882825 2022 0\n",
      "3812743 2022 0\n"
     ]
    },
    {
     "name": "stderr",
     "output_type": "stream",
     "text": [
      " 93%|████████████████████████████████████████████████████████████████████████████████████████████████████████████████████████████████████████████████████▉            | 3196/3455 [04:02<00:24, 10.48it/s]"
     ]
    },
    {
     "name": "stdout",
     "output_type": "stream",
     "text": [
      "3712803 2022 0\n",
      "3722384 2022 0\n",
      "3722800 2022 0\n"
     ]
    },
    {
     "name": "stderr",
     "output_type": "stream",
     "text": [
      "\r",
      " 93%|█████████████████████████████████████████████████████████████████████████████████████████████████████████████████████████████████████████████████████            | 3198/3455 [04:02<00:24, 10.53it/s]"
     ]
    },
    {
     "name": "stdout",
     "output_type": "stream",
     "text": [
      "441100 2022 0\n",
      "439104 2022 0\n",
      "3501356 2022 0\n"
     ]
    },
    {
     "name": "stderr",
     "output_type": "stream",
     "text": [
      " 93%|█████████████████████████████████████████████████████████████████████████████████████████████████████████████████████████████████████████████████████▏           | 3202/3455 [04:02<00:22, 11.02it/s]"
     ]
    },
    {
     "name": "stdout",
     "output_type": "stream",
     "text": [
      "3511348 2022 0\n",
      "3262745 2022 0\n",
      "3882828 2022 0\n"
     ]
    },
    {
     "name": "stderr",
     "output_type": "stream",
     "text": [
      "\r",
      " 93%|█████████████████████████████████████████████████████████████████████████████████████████████████████████████████████████████████████████████████████▎           | 3204/3455 [04:02<00:22, 11.38it/s]"
     ]
    },
    {
     "name": "stdout",
     "output_type": "stream",
     "text": [
      "3822830 2022 0\n",
      "3922755 2022 0\n",
      "3392753 2022 0\n"
     ]
    },
    {
     "name": "stderr",
     "output_type": "stream",
     "text": [
      " 93%|█████████████████████████████████████████████████████████████████████████████████████████████████████████████████████████████████████████████████████▍           | 3208/3455 [04:03<00:20, 11.99it/s]"
     ]
    },
    {
     "name": "stdout",
     "output_type": "stream",
     "text": [
      "4152664 2022 0\n",
      "3592811 2022 0\n",
      "3922831 2022 0\n"
     ]
    },
    {
     "name": "stderr",
     "output_type": "stream",
     "text": [
      "\r",
      " 93%|█████████████████████████████████████████████████████████████████████████████████████████████████████████████████████████████████████████████████████▌           | 3210/3455 [04:03<00:20, 12.12it/s]"
     ]
    },
    {
     "name": "stdout",
     "output_type": "stream",
     "text": [
      "3922832 2022 0\n",
      "3922753 2022 0\n",
      "3512792 2022 0\n"
     ]
    },
    {
     "name": "stderr",
     "output_type": "stream",
     "text": [
      " 93%|█████████████████████████████████████████████████████████████████████████████████████████████████████████████████████████████████████████████████████▊           | 3214/3455 [04:03<00:19, 12.39it/s]"
     ]
    },
    {
     "name": "stdout",
     "output_type": "stream",
     "text": [
      "3042756 2022 0\n",
      "3052756 2022 0\n",
      "3732834 2022 0\n"
     ]
    },
    {
     "name": "stderr",
     "output_type": "stream",
     "text": [
      "\r",
      " 93%|█████████████████████████████████████████████████████████████████████████████████████████████████████████████████████████████████████████████████████▊           | 3216/3455 [04:03<00:19, 12.34it/s]"
     ]
    },
    {
     "name": "stdout",
     "output_type": "stream",
     "text": [
      "3522806 2022 0\n",
      "3502787 2022 0\n",
      "3882830 2022 0\n"
     ]
    },
    {
     "name": "stderr",
     "output_type": "stream",
     "text": [
      " 93%|██████████████████████████████████████████████████████████████████████████████████████████████████████████████████████████████████████████████████████           | 3220/3455 [04:04<00:18, 12.61it/s]"
     ]
    },
    {
     "name": "stdout",
     "output_type": "stream",
     "text": [
      "3882832 2022 0\n",
      "3872831 2022 0\n",
      "3722835 2022 0\n"
     ]
    },
    {
     "name": "stderr",
     "output_type": "stream",
     "text": [
      "\r",
      " 93%|██████████████████████████████████████████████████████████████████████████████████████████████████████████████████████████████████████████████████████▏          | 3222/3455 [04:04<00:18, 12.58it/s]"
     ]
    },
    {
     "name": "stdout",
     "output_type": "stream",
     "text": [
      "3982843 2022 0\n",
      "3492777 2022 0\n",
      "3712679 2022 0\n"
     ]
    },
    {
     "name": "stderr",
     "output_type": "stream",
     "text": [
      " 93%|██████████████████████████████████████████████████████████████████████████████████████████████████████████████████████████████████████████████████████▎          | 3226/3455 [04:04<00:18, 12.64it/s]"
     ]
    },
    {
     "name": "stdout",
     "output_type": "stream",
     "text": [
      "4032831 2022 0\n",
      "3592810 2022 0\n",
      "3872832 2022 0\n"
     ]
    },
    {
     "name": "stderr",
     "output_type": "stream",
     "text": [
      "\r",
      " 93%|██████████████████████████████████████████████████████████████████████████████████████████████████████████████████████████████████████████████████████▍          | 3228/3455 [04:04<00:17, 12.64it/s]"
     ]
    },
    {
     "name": "stdout",
     "output_type": "stream",
     "text": [
      "3532682 2022 0\n",
      "3902827 2022 0\n",
      "3572711 2022 0\n"
     ]
    },
    {
     "name": "stderr",
     "output_type": "stream",
     "text": [
      " 94%|██████████████████████████████████████████████████████████████████████████████████████████████████████████████████████████████████████████████████████▌          | 3232/3455 [04:04<00:17, 12.43it/s]"
     ]
    },
    {
     "name": "stdout",
     "output_type": "stream",
     "text": [
      "3232501 2022 0\n",
      "4482686 2022 0\n",
      "3582773 2022 0\n"
     ]
    },
    {
     "name": "stderr",
     "output_type": "stream",
     "text": [
      "\r",
      " 94%|██████████████████████████████████████████████████████████████████████████████████████████████████████████████████████████████████████████████████████▋          | 3234/3455 [04:05<00:17, 12.37it/s]"
     ]
    },
    {
     "name": "stdout",
     "output_type": "stream",
     "text": [
      "3612798 2022 0\n",
      "54987 2022 0\n",
      "48078 2022 0\n"
     ]
    },
    {
     "name": "stderr",
     "output_type": "stream",
     "text": [
      " 94%|██████████████████████████████████████████████████████████████████████████████████████████████████████████████████████████████████████████████████████▉          | 3238/3455 [04:05<00:17, 12.28it/s]"
     ]
    },
    {
     "name": "stdout",
     "output_type": "stream",
     "text": [
      "51775 2022 0\n",
      "460166 2022 0\n",
      "5343538 2022 0\n"
     ]
    },
    {
     "name": "stderr",
     "output_type": "stream",
     "text": [
      "\r",
      " 94%|██████████████████████████████████████████████████████████████████████████████████████████████████████████████████████████████████████████████████████▉          | 3240/3455 [04:05<00:17, 12.30it/s]"
     ]
    },
    {
     "name": "stdout",
     "output_type": "stream",
     "text": [
      "46568 2022 0\n",
      "4182663 2022 0\n",
      "49073 2022 0\n"
     ]
    },
    {
     "name": "stderr",
     "output_type": "stream",
     "text": [
      " 94%|███████████████████████████████████████████████████████████████████████████████████████████████████████████████████████████████████████████████████████▏         | 3244/3455 [04:05<00:16, 12.55it/s]"
     ]
    },
    {
     "name": "stdout",
     "output_type": "stream",
     "text": [
      "517194 2022 0\n",
      "3382758 2022 0\n",
      "3852822 2022 0\n"
     ]
    },
    {
     "name": "stderr",
     "output_type": "stream",
     "text": [
      "\r",
      " 94%|███████████████████████████████████████████████████████████████████████████████████████████████████████████████████████████████████████████████████████▎         | 3246/3455 [04:06<00:16, 12.79it/s]"
     ]
    },
    {
     "name": "stdout",
     "output_type": "stream",
     "text": [
      "536100 2022 0\n",
      "3622732 2022 0\n",
      "4032859 2022 0\n"
     ]
    },
    {
     "name": "stderr",
     "output_type": "stream",
     "text": [
      " 94%|███████████████████████████████████████████████████████████████████████████████████████████████████████████████████████████████████████████████████████▍         | 3250/3455 [04:06<00:15, 12.82it/s]"
     ]
    },
    {
     "name": "stdout",
     "output_type": "stream",
     "text": [
      "-3521494 2022 0\n",
      "4212374 2022 0\n",
      "5222534 2022 0\n"
     ]
    },
    {
     "name": "stderr",
     "output_type": "stream",
     "text": [
      "\r",
      " 94%|███████████████████████████████████████████████████████████████████████████████████████████████████████████████████████████████████████████████████████▌         | 3252/3455 [04:06<00:15, 12.71it/s]"
     ]
    },
    {
     "name": "stdout",
     "output_type": "stream",
     "text": [
      "49852 2022 0\n",
      "4192886 2022 0\n",
      "4452720 2022 0\n"
     ]
    },
    {
     "name": "stderr",
     "output_type": "stream",
     "text": [
      " 94%|███████████████████████████████████████████████████████████████████████████████████████████████████████████████████████████████████████████████████████▋         | 3256/3455 [04:06<00:15, 12.93it/s]"
     ]
    },
    {
     "name": "stdout",
     "output_type": "stream",
     "text": [
      "4322744 2022 0\n",
      "3112623 2022 0\n",
      "5122455 2022 0\n"
     ]
    },
    {
     "name": "stderr",
     "output_type": "stream",
     "text": [
      "\r",
      " 94%|███████████████████████████████████████████████████████████████████████████████████████████████████████████████████████████████████████████████████████▊         | 3258/3455 [04:07<00:15, 13.09it/s]"
     ]
    },
    {
     "name": "stdout",
     "output_type": "stream",
     "text": [
      "49203 2022 0\n",
      "4292804 2022 0\n",
      "544187 2022 0\n"
     ]
    },
    {
     "name": "stderr",
     "output_type": "stream",
     "text": [
      " 94%|████████████████████████████████████████████████████████████████████████████████████████████████████████████████████████████████████████████████████████         | 3262/3455 [04:07<00:14, 12.95it/s]"
     ]
    },
    {
     "name": "stdout",
     "output_type": "stream",
     "text": [
      "539276 2022 0\n",
      "46970 2022 0\n",
      "4302888 2022 0\n"
     ]
    },
    {
     "name": "stderr",
     "output_type": "stream",
     "text": [
      "\r",
      " 94%|████████████████████████████████████████████████████████████████████████████████████████████████████████████████████████████████████████████████████████         | 3264/3455 [04:07<00:14, 12.84it/s]"
     ]
    },
    {
     "name": "stdout",
     "output_type": "stream",
     "text": [
      "4212799 2022 0\n",
      "3732800 2022 0\n",
      "44326 2022 0\n"
     ]
    },
    {
     "name": "stderr",
     "output_type": "stream",
     "text": [
      " 95%|████████████████████████████████████████████████████████████████████████████████████████████████████████████████████████████████████████████████████████▎        | 3268/3455 [04:07<00:14, 12.81it/s]"
     ]
    },
    {
     "name": "stdout",
     "output_type": "stream",
     "text": [
      "3432737 2022 0\n",
      "4152696 2022 0\n",
      "50730 2022 0\n"
     ]
    },
    {
     "name": "stderr",
     "output_type": "stream",
     "text": [
      "\r",
      " 95%|████████████████████████████████████████████████████████████████████████████████████████████████████████████████████████████████████████████████████████▍        | 3270/3455 [04:07<00:14, 12.63it/s]"
     ]
    },
    {
     "name": "stdout",
     "output_type": "stream",
     "text": [
      "44854 2022 0\n",
      "382204 2022 0\n",
      "4042549 2022 0\n"
     ]
    },
    {
     "name": "stderr",
     "output_type": "stream",
     "text": [
      " 95%|████████████████████████████████████████████████████████████████████████████████████████████████████████████████████████████████████████████████████████▌        | 3274/3455 [04:08<00:13, 12.99it/s]"
     ]
    },
    {
     "name": "stdout",
     "output_type": "stream",
     "text": [
      "4002768 2022 0\n",
      "4562371 2022 0\n",
      "3562624 2022 0\n"
     ]
    },
    {
     "name": "stderr",
     "output_type": "stream",
     "text": [
      "\r",
      " 95%|████████████████████████████████████████████████████████████████████████████████████████████████████████████████████████████████████████████████████████▋        | 3276/3455 [04:08<00:14, 12.77it/s]"
     ]
    },
    {
     "name": "stdout",
     "output_type": "stream",
     "text": [
      "4192718 2022 0\n",
      "4812365 2022 0\n",
      "505169 2022 0\n"
     ]
    },
    {
     "name": "stderr",
     "output_type": "stream",
     "text": [
      " 95%|████████████████████████████████████████████████████████████████████████████████████████████████████████████████████████████████████████████████████████▊        | 3280/3455 [04:08<00:14, 12.25it/s]"
     ]
    },
    {
     "name": "stdout",
     "output_type": "stream",
     "text": [
      "4853561 2022 0\n",
      "4722376 2022 0\n",
      "3542808 2022 0\n"
     ]
    },
    {
     "name": "stderr",
     "output_type": "stream",
     "text": [
      "\r",
      " 95%|████████████████████████████████████████████████████████████████████████████████████████████████████████████████████████████████████████████████████████▉        | 3282/3455 [04:08<00:14, 11.60it/s]"
     ]
    },
    {
     "name": "stdout",
     "output_type": "stream",
     "text": [
      "50084 2022 0\n",
      "49374 2022 0\n",
      "531231 2022 0\n"
     ]
    },
    {
     "name": "stderr",
     "output_type": "stream",
     "text": [
      " 95%|█████████████████████████████████████████████████████████████████████████████████████████████████████████████████████████████████████████████████████████        | 3286/3455 [04:09<00:14, 11.80it/s]"
     ]
    },
    {
     "name": "stdout",
     "output_type": "stream",
     "text": [
      "544185 2022 0\n",
      "532144 2022 0\n",
      "541132 2022 0\n"
     ]
    },
    {
     "name": "stderr",
     "output_type": "stream",
     "text": [
      "\r",
      " 95%|█████████████████████████████████████████████████████████████████████████████████████████████████████████████████████████████████████████████████████████▏       | 3288/3455 [04:09<00:13, 12.01it/s]"
     ]
    },
    {
     "name": "stdout",
     "output_type": "stream",
     "text": [
      "51293 2022 0\n",
      "513121 2022 0\n",
      "511146 2022 0\n"
     ]
    },
    {
     "name": "stderr",
     "output_type": "stream",
     "text": [
      " 95%|█████████████████████████████████████████████████████████████████████████████████████████████████████████████████████████████████████████████████████████▍       | 3292/3455 [04:09<00:13, 12.40it/s]"
     ]
    },
    {
     "name": "stdout",
     "output_type": "stream",
     "text": [
      "50265 2022 0\n",
      "503102 2022 0\n",
      "49596 2022 0\n"
     ]
    },
    {
     "name": "stderr",
     "output_type": "stream",
     "text": [
      "\r",
      " 95%|█████████████████████████████████████████████████████████████████████████████████████████████████████████████████████████████████████████████████████████▍       | 3294/3455 [04:09<00:12, 12.44it/s]"
     ]
    },
    {
     "name": "stdout",
     "output_type": "stream",
     "text": [
      "50331 2022 0\n",
      "522144 2022 0\n",
      "494204 2022 0\n"
     ]
    },
    {
     "name": "stderr",
     "output_type": "stream",
     "text": [
      " 95%|█████████████████████████████████████████████████████████████████████████████████████████████████████████████████████████████████████████████████████████▋       | 3298/3455 [04:10<00:12, 12.54it/s]"
     ]
    },
    {
     "name": "stdout",
     "output_type": "stream",
     "text": [
      "46566 2022 0\n",
      "482115 2022 0\n",
      "543102 2022 0\n"
     ]
    },
    {
     "name": "stderr",
     "output_type": "stream",
     "text": [
      "\r",
      " 96%|█████████████████████████████████████████████████████████████████████████████████████████████████████████████████████████████████████████████████████████▊       | 3300/3455 [04:10<00:12, 12.49it/s]"
     ]
    },
    {
     "name": "stdout",
     "output_type": "stream",
     "text": [
      "53471 2022 0\n",
      "490121 2022 0\n",
      "483132 2022 0\n"
     ]
    },
    {
     "name": "stderr",
     "output_type": "stream",
     "text": [
      " 96%|█████████████████████████████████████████████████████████████████████████████████████████████████████████████████████████████████████████████████████████▉       | 3304/3455 [04:10<00:12, 12.38it/s]"
     ]
    },
    {
     "name": "stdout",
     "output_type": "stream",
     "text": [
      "50185 2022 0\n",
      "51165 2022 0\n",
      "48485 2022 0\n"
     ]
    },
    {
     "name": "stderr",
     "output_type": "stream",
     "text": [
      "\r",
      " 96%|██████████████████████████████████████████████████████████████████████████████████████████████████████████████████████████████████████████████████████████       | 3306/3455 [04:10<00:12, 12.29it/s]"
     ]
    },
    {
     "name": "stdout",
     "output_type": "stream",
     "text": [
      "49186 2022 0\n",
      "493106 2022 0\n",
      "53474 2022 0\n"
     ]
    },
    {
     "name": "stderr",
     "output_type": "stream",
     "text": [
      " 96%|██████████████████████████████████████████████████████████████████████████████████████████████████████████████████████████████████████████████████████████▏      | 3310/3455 [04:11<00:11, 12.75it/s]"
     ]
    },
    {
     "name": "stdout",
     "output_type": "stream",
     "text": [
      "526101 2022 0\n",
      "532133 2022 0\n",
      "496115 2022 0\n"
     ]
    },
    {
     "name": "stderr",
     "output_type": "stream",
     "text": [
      "\r",
      " 96%|██████████████████████████████████████████████████████████████████████████████████████████████████████████████████████████████████████████████████████████▎      | 3312/3455 [04:11<00:11, 12.96it/s]"
     ]
    },
    {
     "name": "stdout",
     "output_type": "stream",
     "text": [
      "49285 2022 0\n",
      "52092 2022 0\n",
      "51272 2022 0\n"
     ]
    },
    {
     "name": "stderr",
     "output_type": "stream",
     "text": [
      " 96%|██████████████████████████████████████████████████████████████████████████████████████████████████████████████████████████████████████████████████████████▌      | 3316/3455 [04:11<00:10, 12.89it/s]"
     ]
    },
    {
     "name": "stdout",
     "output_type": "stream",
     "text": [
      "483122 2022 0\n",
      "504113 2022 0\n",
      "51174 2022 0\n"
     ]
    },
    {
     "name": "stderr",
     "output_type": "stream",
     "text": [
      "\r",
      " 96%|██████████████████████████████████████████████████████████████████████████████████████████████████████████████████████████████████████████████████████████▌      | 3318/3455 [04:11<00:10, 12.84it/s]"
     ]
    },
    {
     "name": "stdout",
     "output_type": "stream",
     "text": [
      "50184 2022 0\n",
      "49481 2022 0\n",
      "50394 2022 0\n"
     ]
    },
    {
     "name": "stderr",
     "output_type": "stream",
     "text": [
      " 96%|██████████████████████████████████████████████████████████████████████████████████████████████████████████████████████████████████████████████████████████▊      | 3322/3455 [04:12<00:10, 12.47it/s]"
     ]
    },
    {
     "name": "stdout",
     "output_type": "stream",
     "text": [
      "480122 2022 0\n",
      "49676 2022 0\n",
      "486113 2022 0\n"
     ]
    },
    {
     "name": "stderr",
     "output_type": "stream",
     "text": [
      "\r",
      " 96%|██████████████████████████████████████████████████████████████████████████████████████████████████████████████████████████████████████████████████████████▉      | 3324/3455 [04:12<00:10, 12.63it/s]"
     ]
    },
    {
     "name": "stdout",
     "output_type": "stream",
     "text": [
      "50690 2022 0\n",
      "535134 2022 0\n",
      "51396 2022 0\n"
     ]
    },
    {
     "name": "stderr",
     "output_type": "stream",
     "text": [
      " 96%|███████████████████████████████████████████████████████████████████████████████████████████████████████████████████████████████████████████████████████████      | 3328/3455 [04:12<00:09, 12.81it/s]"
     ]
    },
    {
     "name": "stdout",
     "output_type": "stream",
     "text": [
      "494111 2022 0\n",
      "485134 2022 0\n",
      "49662 2022 0\n"
     ]
    },
    {
     "name": "stderr",
     "output_type": "stream",
     "text": [
      "\r",
      " 96%|███████████████████████████████████████████████████████████████████████████████████████████████████████████████████████████████████████████████████████████▏     | 3330/3455 [04:12<00:09, 12.90it/s]"
     ]
    },
    {
     "name": "stdout",
     "output_type": "stream",
     "text": [
      "52192 2022 0\n",
      "50186 2022 0\n",
      "505104 2022 0\n"
     ]
    },
    {
     "name": "stderr",
     "output_type": "stream",
     "text": [
      " 96%|███████████████████████████████████████████████████████████████████████████████████████████████████████████████████████████████████████████████████████████▎     | 3334/3455 [04:13<00:09, 13.09it/s]"
     ]
    },
    {
     "name": "stdout",
     "output_type": "stream",
     "text": [
      "543131 2022 0\n",
      "515131 2022 0\n",
      "49272 2022 0\n"
     ]
    },
    {
     "name": "stderr",
     "output_type": "stream",
     "text": [
      "\r",
      " 97%|███████████████████████████████████████████████████████████████████████████████████████████████████████████████████████████████████████████████████████████▍     | 3336/3455 [04:13<00:09, 13.20it/s]"
     ]
    },
    {
     "name": "stdout",
     "output_type": "stream",
     "text": [
      "52273 2022 0\n",
      "50373 2022 0\n",
      "54390 2022 0\n"
     ]
    },
    {
     "name": "stderr",
     "output_type": "stream",
     "text": [
      " 97%|███████████████████████████████████████████████████████████████████████████████████████████████████████████████████████████████████████████████████████████▋     | 3340/3455 [04:13<00:08, 13.42it/s]"
     ]
    },
    {
     "name": "stdout",
     "output_type": "stream",
     "text": [
      "49472 2022 0\n",
      "50086 2022 0\n",
      "494101 2022 0\n"
     ]
    },
    {
     "name": "stderr",
     "output_type": "stream",
     "text": [
      "\r",
      " 97%|███████████████████████████████████████████████████████████████████████████████████████████████████████████████████████████████████████████████████████████▋     | 3342/3455 [04:13<00:08, 13.41it/s]"
     ]
    },
    {
     "name": "stdout",
     "output_type": "stream",
     "text": [
      "513125 2022 0\n",
      "50666 2022 0\n",
      "54586 2022 0\n"
     ]
    },
    {
     "name": "stderr",
     "output_type": "stream",
     "text": [
      " 97%|███████████████████████████████████████████████████████████████████████████████████████████████████████████████████████████████████████████████████████████▉     | 3346/3455 [04:13<00:08, 13.39it/s]"
     ]
    },
    {
     "name": "stdout",
     "output_type": "stream",
     "text": [
      "512123 2022 0\n",
      "51180 2022 0\n",
      "542124 2022 0\n"
     ]
    },
    {
     "name": "stderr",
     "output_type": "stream",
     "text": [
      "\r",
      " 97%|████████████████████████████████████████████████████████████████████████████████████████████████████████████████████████████████████████████████████████████     | 3348/3455 [04:14<00:08, 13.33it/s]"
     ]
    },
    {
     "name": "stdout",
     "output_type": "stream",
     "text": [
      "51482 2022 0\n",
      "526111 2022 0\n",
      "51572 2022 0\n"
     ]
    },
    {
     "name": "stderr",
     "output_type": "stream",
     "text": [
      " 97%|████████████████████████████████████████████████████████████████████████████████████████████████████████████████████████████████████████████████████████████▏    | 3352/3455 [04:14<00:07, 13.29it/s]"
     ]
    },
    {
     "name": "stdout",
     "output_type": "stream",
     "text": [
      "49681 2022 0\n",
      "50585 2022 0\n",
      "50476 2022 0\n"
     ]
    },
    {
     "name": "stderr",
     "output_type": "stream",
     "text": [
      "\r",
      " 97%|████████████████████████████████████████████████████████████████████████████████████████████████████████████████████████████████████████████████████████████▎    | 3354/3455 [04:14<00:07, 13.31it/s]"
     ]
    },
    {
     "name": "stdout",
     "output_type": "stream",
     "text": [
      "52291 2022 0\n",
      "514113 2022 0\n",
      "511133 2022 0\n"
     ]
    },
    {
     "name": "stderr",
     "output_type": "stream",
     "text": [
      " 97%|████████████████████████████████████████████████████████████████████████████████████████████████████████████████████████████████████████████████████████████▍    | 3358/3455 [04:14<00:07, 13.40it/s]"
     ]
    },
    {
     "name": "stdout",
     "output_type": "stream",
     "text": [
      "485126 2022 0\n",
      "504115 2022 0\n",
      "534104 2022 0\n"
     ]
    },
    {
     "name": "stderr",
     "output_type": "stream",
     "text": [
      "\r",
      " 97%|████████████████████████████████████████████████████████████████████████████████████████████████████████████████████████████████████████████████████████████▌    | 3360/3455 [04:15<00:07, 13.40it/s]"
     ]
    },
    {
     "name": "stdout",
     "output_type": "stream",
     "text": [
      "51495 2022 0\n",
      "482123 2022 0\n",
      "481114 2022 0\n"
     ]
    },
    {
     "name": "stderr",
     "output_type": "stream",
     "text": [
      " 97%|████████████████████████████████████████████████████████████████████████████████████████████████████████████████████████████████████████████████████████████▊    | 3364/3455 [04:15<00:06, 13.29it/s]"
     ]
    },
    {
     "name": "stdout",
     "output_type": "stream",
     "text": [
      "513144 2022 0\n",
      "52281 2022 0\n",
      "482102 2022 0\n"
     ]
    },
    {
     "name": "stderr",
     "output_type": "stream",
     "text": [
      "\r",
      " 97%|████████████████████████████████████████████████████████████████████████████████████████████████████████████████████████████████████████████████████████████▊    | 3366/3455 [04:15<00:06, 13.10it/s]"
     ]
    },
    {
     "name": "stdout",
     "output_type": "stream",
     "text": [
      "54196 2022 0\n",
      "49271 2022 0\n",
      "49296 2022 0\n"
     ]
    },
    {
     "name": "stderr",
     "output_type": "stream",
     "text": [
      " 98%|█████████████████████████████████████████████████████████████████████████████████████████████████████████████████████████████████████████████████████████████    | 3370/3455 [04:15<00:06, 13.05it/s]"
     ]
    },
    {
     "name": "stdout",
     "output_type": "stream",
     "text": [
      "49192 2022 0\n",
      "493123 2022 0\n",
      "53182 2022 0\n"
     ]
    },
    {
     "name": "stderr",
     "output_type": "stream",
     "text": [
      "\r",
      " 98%|█████████████████████████████████████████████████████████████████████████████████████████████████████████████████████████████████████████████████████████████▏   | 3372/3455 [04:15<00:06, 13.11it/s]"
     ]
    },
    {
     "name": "stdout",
     "output_type": "stream",
     "text": [
      "52280 2022 0\n",
      "48684 2022 0\n",
      "49283 2022 0\n"
     ]
    },
    {
     "name": "stderr",
     "output_type": "stream",
     "text": [
      " 98%|█████████████████████████████████████████████████████████████████████████████████████████████████████████████████████████████████████████████████████████████▎   | 3376/3455 [04:16<00:06, 13.07it/s]"
     ]
    },
    {
     "name": "stdout",
     "output_type": "stream",
     "text": [
      "541102 2022 0\n",
      "524133 2022 0\n",
      "515111 2022 0\n"
     ]
    },
    {
     "name": "stderr",
     "output_type": "stream",
     "text": [
      "\r",
      " 98%|█████████████████████████████████████████████████████████████████████████████████████████████████████████████████████████████████████████████████████████████▍   | 3378/3455 [04:16<00:05, 13.12it/s]"
     ]
    },
    {
     "name": "stdout",
     "output_type": "stream",
     "text": [
      "475111 2022 0\n",
      "503122 2022 0\n",
      "524132 2022 0\n"
     ]
    },
    {
     "name": "stderr",
     "output_type": "stream",
     "text": [
      " 98%|█████████████████████████████████████████████████████████████████████████████████████████████████████████████████████████████████████████████████████████████▌   | 3382/3455 [04:16<00:05, 13.19it/s]"
     ]
    },
    {
     "name": "stdout",
     "output_type": "stream",
     "text": [
      "52185 2022 0\n",
      "47674 2022 0\n",
      "515114 2022 0\n"
     ]
    },
    {
     "name": "stderr",
     "output_type": "stream",
     "text": [
      "\r",
      " 98%|█████████████████████████████████████████████████████████████████████████████████████████████████████████████████████████████████████████████████████████████▋   | 3384/3455 [04:16<00:05, 13.22it/s]"
     ]
    },
    {
     "name": "stdout",
     "output_type": "stream",
     "text": [
      "504103 2022 0\n",
      "49670 2022 0\n",
      "491124 2022 0\n"
     ]
    },
    {
     "name": "stderr",
     "output_type": "stream",
     "text": [
      " 98%|█████████████████████████████████████████████████████████████████████████████████████████████████████████████████████████████████████████████████████████████▉   | 3388/3455 [04:17<00:05, 13.25it/s]"
     ]
    },
    {
     "name": "stdout",
     "output_type": "stream",
     "text": [
      "492121 2022 0\n",
      "504111 2022 0\n",
      "525114 2022 0\n"
     ]
    },
    {
     "name": "stderr",
     "output_type": "stream",
     "text": [
      "\r",
      " 98%|█████████████████████████████████████████████████████████████████████████████████████████████████████████████████████████████████████████████████████████████▉   | 3390/3455 [04:17<00:04, 13.31it/s]"
     ]
    },
    {
     "name": "stdout",
     "output_type": "stream",
     "text": [
      "50576 2022 0\n",
      "51171 2022 0\n",
      "512105 2022 0\n"
     ]
    },
    {
     "name": "stderr",
     "output_type": "stream",
     "text": [
      " 98%|██████████████████████████████████████████████████████████████████████████████████████████████████████████████████████████████████████████████████████████████▏  | 3394/3455 [04:17<00:04, 13.27it/s]"
     ]
    },
    {
     "name": "stdout",
     "output_type": "stream",
     "text": [
      "521111 2022 0\n",
      "48592 2022 0\n",
      "491101 2022 0\n"
     ]
    },
    {
     "name": "stderr",
     "output_type": "stream",
     "text": [
      "\r",
      " 98%|██████████████████████████████████████████████████████████████████████████████████████████████████████████████████████████████████████████████████████████████▎  | 3396/3455 [04:17<00:04, 13.13it/s]"
     ]
    },
    {
     "name": "stdout",
     "output_type": "stream",
     "text": [
      "48281 2022 0\n",
      "522104 2022 0\n",
      "49482 2022 0\n"
     ]
    },
    {
     "name": "stderr",
     "output_type": "stream",
     "text": [
      " 98%|██████████████████████████████████████████████████████████████████████████████████████████████████████████████████████████████████████████████████████████████▍  | 3400/3455 [04:18<00:04, 13.02it/s]"
     ]
    },
    {
     "name": "stdout",
     "output_type": "stream",
     "text": [
      "510121 2022 0\n",
      "490131 2022 0\n",
      "532104 2022 0\n"
     ]
    },
    {
     "name": "stderr",
     "output_type": "stream",
     "text": [
      "\r",
      " 98%|██████████████████████████████████████████████████████████████████████████████████████████████████████████████████████████████████████████████████████████████▌  | 3402/3455 [04:18<00:04, 12.78it/s]"
     ]
    },
    {
     "name": "stdout",
     "output_type": "stream",
     "text": [
      "53480 2022 0\n",
      "522122 2022 0\n",
      "505102 2022 0\n"
     ]
    },
    {
     "name": "stderr",
     "output_type": "stream",
     "text": [
      " 99%|██████████████████████████████████████████████████████████████████████████████████████████████████████████████████████████████████████████████████████████████▋  | 3406/3455 [04:18<00:03, 12.92it/s]"
     ]
    },
    {
     "name": "stdout",
     "output_type": "stream",
     "text": [
      "50281 2022 0\n",
      "52276 2022 0\n",
      "514104 2022 0\n"
     ]
    },
    {
     "name": "stderr",
     "output_type": "stream",
     "text": [
      "\r",
      " 99%|██████████████████████████████████████████████████████████████████████████████████████████████████████████████████████████████████████████████████████████████▊  | 3408/3455 [04:18<00:03, 12.84it/s]"
     ]
    },
    {
     "name": "stdout",
     "output_type": "stream",
     "text": [
      "53185 2022 0\n",
      "51283 2022 0\n",
      "484104 2022 0\n"
     ]
    },
    {
     "name": "stderr",
     "output_type": "stream",
     "text": [
      " 99%|██████████████████████████████████████████████████████████████████████████████████████████████████████████████████████████████████████████████████████████████▉  | 3412/3455 [04:19<00:03, 12.68it/s]"
     ]
    },
    {
     "name": "stdout",
     "output_type": "stream",
     "text": [
      "491102 2022 0\n",
      "500116 2022 0\n",
      "484130 2022 0\n"
     ]
    },
    {
     "name": "stderr",
     "output_type": "stream",
     "text": [
      "\r",
      " 99%|███████████████████████████████████████████████████████████████████████████████████████████████████████████████████████████████████████████████████████████████  | 3414/3455 [04:19<00:03, 12.70it/s]"
     ]
    },
    {
     "name": "stdout",
     "output_type": "stream",
     "text": [
      "504120 2022 0\n",
      "480113 2022 0\n",
      "50170 2022 0\n"
     ]
    },
    {
     "name": "stderr",
     "output_type": "stream",
     "text": [
      " 99%|███████████████████████████████████████████████████████████████████████████████████████████████████████████████████████████████████████████████████████████████▎ | 3418/3455 [04:19<00:02, 12.90it/s]"
     ]
    },
    {
     "name": "stdout",
     "output_type": "stream",
     "text": [
      "52375 2022 0\n",
      "51085 2022 0\n",
      "515102 2022 0\n"
     ]
    },
    {
     "name": "stderr",
     "output_type": "stream",
     "text": [
      "\r",
      " 99%|███████████████████████████████████████████████████████████████████████████████████████████████████████████████████████████████████████████████████████████████▎ | 3420/3455 [04:19<00:02, 12.77it/s]"
     ]
    },
    {
     "name": "stdout",
     "output_type": "stream",
     "text": [
      "510105 2022 0\n",
      "50482 2022 0\n",
      "41316 2022 0\n"
     ]
    },
    {
     "name": "stderr",
     "output_type": "stream",
     "text": [
      " 99%|███████████████████████████████████████████████████████████████████████████████████████████████████████████████████████████████████████████████████████████████▌ | 3424/3455 [04:19<00:02, 12.84it/s]"
     ]
    },
    {
     "name": "stdout",
     "output_type": "stream",
     "text": [
      "42021 2022 0\n",
      "42331 2022 0\n",
      "506123 2022 0\n"
     ]
    },
    {
     "name": "stderr",
     "output_type": "stream",
     "text": [
      "\r",
      " 99%|███████████████████████████████████████████████████████████████████████████████████████████████████████████████████████████████████████████████████████████████▋ | 3426/3455 [04:20<00:02, 12.86it/s]"
     ]
    },
    {
     "name": "stdout",
     "output_type": "stream",
     "text": [
      "505112 2022 0\n",
      "51580 2022 0\n",
      "52573 2022 0\n"
     ]
    },
    {
     "name": "stderr",
     "output_type": "stream",
     "text": [
      " 99%|███████████████████████████████████████████████████████████████████████████████████████████████████████████████████████████████████████████████████████████████▊ | 3430/3455 [04:20<00:01, 13.07it/s]"
     ]
    },
    {
     "name": "stdout",
     "output_type": "stream",
     "text": [
      "482164 2022 0\n",
      "445113 2022 0\n",
      "59296 2022 0\n"
     ]
    },
    {
     "name": "stderr",
     "output_type": "stream",
     "text": [
      "\r",
      " 99%|███████████████████████████████████████████████████████████████████████████████████████████████████████████████████████████████████████████████████████████████▉ | 3432/3455 [04:20<00:01, 13.07it/s]"
     ]
    },
    {
     "name": "stdout",
     "output_type": "stream",
     "text": [
      "480162 2022 0\n",
      "486150 2022 0\n",
      "483143 2022 0\n"
     ]
    },
    {
     "name": "stderr",
     "output_type": "stream",
     "text": [
      " 99%|████████████████████████████████████████████████████████████████████████████████████████████████████████████████████████████████████████████████████████████████ | 3436/3455 [04:20<00:01, 13.12it/s]"
     ]
    },
    {
     "name": "stdout",
     "output_type": "stream",
     "text": [
      "483164 2022 0\n",
      "475141 2022 0\n",
      "475152 2022 0\n"
     ]
    },
    {
     "name": "stderr",
     "output_type": "stream",
     "text": [
      "\r",
      "100%|████████████████████████████████████████████████████████████████████████████████████████████████████████████████████████████████████████████████████████████████▏| 3438/3455 [04:21<00:01, 13.09it/s]"
     ]
    },
    {
     "name": "stdout",
     "output_type": "stream",
     "text": [
      "475160 2022 0\n",
      "475161 2022 0\n",
      "476161 2022 0\n"
     ]
    },
    {
     "name": "stderr",
     "output_type": "stream",
     "text": [
      "100%|████████████████████████████████████████████████████████████████████████████████████████████████████████████████████████████████████████████████████████████████▍| 3442/3455 [04:21<00:00, 13.08it/s]"
     ]
    },
    {
     "name": "stdout",
     "output_type": "stream",
     "text": [
      "473103 2022 0\n",
      "472114 2022 0\n",
      "473114 2022 0\n"
     ]
    },
    {
     "name": "stderr",
     "output_type": "stream",
     "text": [
      "\r",
      "100%|████████████████████████████████████████████████████████████████████████████████████████████████████████████████████████████████████████████████████████████████▍| 3444/3455 [04:21<00:00, 12.89it/s]"
     ]
    },
    {
     "name": "stdout",
     "output_type": "stream",
     "text": [
      "471106 2022 0\n",
      "471154 2022 0\n",
      "466140 2022 0\n"
     ]
    },
    {
     "name": "stderr",
     "output_type": "stream",
     "text": [
      "100%|████████████████████████████████████████████████████████████████████████████████████████████████████████████████████████████████████████████████████████████████▋| 3448/3455 [04:21<00:00, 12.81it/s]"
     ]
    },
    {
     "name": "stdout",
     "output_type": "stream",
     "text": [
      "464135 2022 0\n",
      "482165 2022 0\n",
      "482163 2022 0\n"
     ]
    },
    {
     "name": "stderr",
     "output_type": "stream",
     "text": [
      "\r",
      "100%|████████████████████████████████████████████████████████████████████████████████████████████████████████████████████████████████████████████████████████████████▊| 3450/3455 [04:21<00:00, 12.87it/s]"
     ]
    },
    {
     "name": "stdout",
     "output_type": "stream",
     "text": [
      "466145 2022 0\n",
      "472161 2022 0\n",
      "494185 2022 0\n"
     ]
    },
    {
     "name": "stderr",
     "output_type": "stream",
     "text": [
      "100%|████████████████████████████████████████████████████████████████████████████████████████████████████████████████████████████████████████████████████████████████▉| 3454/3455 [04:22<00:00, 12.97it/s]"
     ]
    },
    {
     "name": "stdout",
     "output_type": "stream",
     "text": [
      "494193 2022 0\n",
      "503190 2022 0\n",
      "54591 2022 0\n"
     ]
    },
    {
     "name": "stderr",
     "output_type": "stream",
     "text": [
      "\r",
      "100%|█████████████████████████████████████████████████████████████████████████████████████████████████████████████████████████████████████████████████████████████████| 3455/3455 [04:22<00:00, 13.17it/s]"
     ]
    },
    {
     "name": "stdout",
     "output_type": "stream",
     "text": [
      "54596 2022 0\n"
     ]
    },
    {
     "name": "stderr",
     "output_type": "stream",
     "text": [
      "\n"
     ]
    }
   ],
   "source": [
    "for s in tqdm(merged_euro['site_id'].unique()):\n",
    "    site_df = merged_euro.query('site_id == {}'.format(s))\n",
    "    \n",
    "    site_df_y = site_df.query('year == 2022'.format(y))\n",
    "        \n",
    "    if len(site_df_y) != 365 or len(site_df_y) != 366 or len(site_df_y) != 12:\n",
    "        print(s, y, len(site_df_y))"
   ]
  },
  {
   "cell_type": "code",
   "execution_count": 142,
   "id": "e0146a56",
   "metadata": {},
   "outputs": [
    {
     "data": {
      "text/html": [
       "<div>\n",
       "<style scoped>\n",
       "    .dataframe tbody tr th:only-of-type {\n",
       "        vertical-align: middle;\n",
       "    }\n",
       "\n",
       "    .dataframe tbody tr th {\n",
       "        vertical-align: top;\n",
       "    }\n",
       "\n",
       "    .dataframe thead th {\n",
       "        text-align: right;\n",
       "    }\n",
       "</style>\n",
       "<table border=\"1\" class=\"dataframe\">\n",
       "  <thead>\n",
       "    <tr style=\"text-align: right;\">\n",
       "      <th></th>\n",
       "      <th>temperature</th>\n",
       "      <th>year</th>\n",
       "      <th>doy</th>\n",
       "      <th>latitude</th>\n",
       "      <th>longitude</th>\n",
       "      <th>coordstring</th>\n",
       "      <th>site_id</th>\n",
       "    </tr>\n",
       "  </thead>\n",
       "  <tbody>\n",
       "    <tr>\n",
       "      <th>0</th>\n",
       "      <td>-5.445190</td>\n",
       "      <td>2010</td>\n",
       "      <td>1</td>\n",
       "      <td>43.7</td>\n",
       "      <td>280.6</td>\n",
       "      <td>43.7280.6</td>\n",
       "      <td>4372806</td>\n",
       "    </tr>\n",
       "    <tr>\n",
       "      <th>1</th>\n",
       "      <td>-6.786987</td>\n",
       "      <td>2010</td>\n",
       "      <td>1</td>\n",
       "      <td>43.1</td>\n",
       "      <td>279.6</td>\n",
       "      <td>43.1279.6</td>\n",
       "      <td>4312796</td>\n",
       "    </tr>\n",
       "    <tr>\n",
       "      <th>2</th>\n",
       "      <td>-4.749878</td>\n",
       "      <td>2010</td>\n",
       "      <td>1</td>\n",
       "      <td>40.0</td>\n",
       "      <td>276.9</td>\n",
       "      <td>40.0276.9</td>\n",
       "      <td>4002769</td>\n",
       "    </tr>\n",
       "    <tr>\n",
       "      <th>3</th>\n",
       "      <td>-5.156128</td>\n",
       "      <td>2010</td>\n",
       "      <td>1</td>\n",
       "      <td>40.4</td>\n",
       "      <td>280.1</td>\n",
       "      <td>40.4280.1</td>\n",
       "      <td>4042801</td>\n",
       "    </tr>\n",
       "    <tr>\n",
       "      <th>4</th>\n",
       "      <td>-6.206909</td>\n",
       "      <td>2010</td>\n",
       "      <td>1</td>\n",
       "      <td>43.2</td>\n",
       "      <td>289.1</td>\n",
       "      <td>43.2289.1</td>\n",
       "      <td>4322891</td>\n",
       "    </tr>\n",
       "    <tr>\n",
       "      <th>...</th>\n",
       "      <td>...</td>\n",
       "      <td>...</td>\n",
       "      <td>...</td>\n",
       "      <td>...</td>\n",
       "      <td>...</td>\n",
       "      <td>...</td>\n",
       "      <td>...</td>\n",
       "    </tr>\n",
       "    <tr>\n",
       "      <th>538975</th>\n",
       "      <td>1.518219</td>\n",
       "      <td>2022</td>\n",
       "      <td>336</td>\n",
       "      <td>48.1</td>\n",
       "      <td>236.5</td>\n",
       "      <td>48.1236.5</td>\n",
       "      <td>4812365</td>\n",
       "    </tr>\n",
       "    <tr>\n",
       "      <th>538976</th>\n",
       "      <td>-0.026703</td>\n",
       "      <td>2022</td>\n",
       "      <td>336</td>\n",
       "      <td>50.5</td>\n",
       "      <td>16.9</td>\n",
       "      <td>50.516.9</td>\n",
       "      <td>505169</td>\n",
       "    </tr>\n",
       "    <tr>\n",
       "      <th>538977</th>\n",
       "      <td>5.483063</td>\n",
       "      <td>2022</td>\n",
       "      <td>336</td>\n",
       "      <td>48.5</td>\n",
       "      <td>356.1</td>\n",
       "      <td>48.5356.1</td>\n",
       "      <td>4853561</td>\n",
       "    </tr>\n",
       "    <tr>\n",
       "      <th>538978</th>\n",
       "      <td>1.860016</td>\n",
       "      <td>2022</td>\n",
       "      <td>336</td>\n",
       "      <td>47.2</td>\n",
       "      <td>237.6</td>\n",
       "      <td>47.2237.6</td>\n",
       "      <td>4722376</td>\n",
       "    </tr>\n",
       "    <tr>\n",
       "      <th>538979</th>\n",
       "      <td>4.086578</td>\n",
       "      <td>2022</td>\n",
       "      <td>336</td>\n",
       "      <td>35.4</td>\n",
       "      <td>280.8</td>\n",
       "      <td>35.4280.8</td>\n",
       "      <td>3542808</td>\n",
       "    </tr>\n",
       "  </tbody>\n",
       "</table>\n",
       "<p>512071 rows × 7 columns</p>\n",
       "</div>"
      ],
      "text/plain": [
       "        temperature  year  doy  latitude  longitude coordstring  site_id\n",
       "0         -5.445190  2010    1      43.7      280.6   43.7280.6  4372806\n",
       "1         -6.786987  2010    1      43.1      279.6   43.1279.6  4312796\n",
       "2         -4.749878  2010    1      40.0      276.9   40.0276.9  4002769\n",
       "3         -5.156128  2010    1      40.4      280.1   40.4280.1  4042801\n",
       "4         -6.206909  2010    1      43.2      289.1   43.2289.1  4322891\n",
       "...             ...   ...  ...       ...        ...         ...      ...\n",
       "538975     1.518219  2022  336      48.1      236.5   48.1236.5  4812365\n",
       "538976    -0.026703  2022  336      50.5       16.9    50.516.9   505169\n",
       "538977     5.483063  2022  336      48.5      356.1   48.5356.1  4853561\n",
       "538978     1.860016  2022  336      47.2      237.6   47.2237.6  4722376\n",
       "538979     4.086578  2022  336      35.4      280.8   35.4280.8  3542808\n",
       "\n",
       "[512071 rows x 7 columns]"
      ]
     },
     "execution_count": 142,
     "metadata": {},
     "output_type": "execute_result"
    }
   ],
   "source": [
    "formatted_weather[formatted_weather.index.isin(merged_euro.index)]"
   ]
  },
  {
   "cell_type": "code",
   "execution_count": 143,
   "id": "2df91361",
   "metadata": {},
   "outputs": [
    {
     "data": {
      "text/html": [
       "<div>\n",
       "<style scoped>\n",
       "    .dataframe tbody tr th:only-of-type {\n",
       "        vertical-align: middle;\n",
       "    }\n",
       "\n",
       "    .dataframe tbody tr th {\n",
       "        vertical-align: top;\n",
       "    }\n",
       "\n",
       "    .dataframe thead th {\n",
       "        text-align: right;\n",
       "    }\n",
       "</style>\n",
       "<table border=\"1\" class=\"dataframe\">\n",
       "  <thead>\n",
       "    <tr style=\"text-align: right;\">\n",
       "      <th></th>\n",
       "      <th>temperature</th>\n",
       "      <th>year</th>\n",
       "      <th>doy</th>\n",
       "      <th>latitude</th>\n",
       "      <th>longitude</th>\n",
       "      <th>coordstring</th>\n",
       "      <th>site_id</th>\n",
       "    </tr>\n",
       "  </thead>\n",
       "  <tbody>\n",
       "    <tr>\n",
       "      <th>0</th>\n",
       "      <td>-5.445190</td>\n",
       "      <td>2010</td>\n",
       "      <td>1</td>\n",
       "      <td>43.7</td>\n",
       "      <td>280.6</td>\n",
       "      <td>43.7280.6</td>\n",
       "      <td>4372806</td>\n",
       "    </tr>\n",
       "    <tr>\n",
       "      <th>1</th>\n",
       "      <td>-6.786987</td>\n",
       "      <td>2010</td>\n",
       "      <td>1</td>\n",
       "      <td>43.1</td>\n",
       "      <td>279.6</td>\n",
       "      <td>43.1279.6</td>\n",
       "      <td>4312796</td>\n",
       "    </tr>\n",
       "    <tr>\n",
       "      <th>2</th>\n",
       "      <td>-4.749878</td>\n",
       "      <td>2010</td>\n",
       "      <td>1</td>\n",
       "      <td>40.0</td>\n",
       "      <td>276.9</td>\n",
       "      <td>40.0276.9</td>\n",
       "      <td>4002769</td>\n",
       "    </tr>\n",
       "    <tr>\n",
       "      <th>3</th>\n",
       "      <td>-5.156128</td>\n",
       "      <td>2010</td>\n",
       "      <td>1</td>\n",
       "      <td>40.4</td>\n",
       "      <td>280.1</td>\n",
       "      <td>40.4280.1</td>\n",
       "      <td>4042801</td>\n",
       "    </tr>\n",
       "    <tr>\n",
       "      <th>4</th>\n",
       "      <td>-6.206909</td>\n",
       "      <td>2010</td>\n",
       "      <td>1</td>\n",
       "      <td>43.2</td>\n",
       "      <td>289.1</td>\n",
       "      <td>43.2289.1</td>\n",
       "      <td>4322891</td>\n",
       "    </tr>\n",
       "    <tr>\n",
       "      <th>...</th>\n",
       "      <td>...</td>\n",
       "      <td>...</td>\n",
       "      <td>...</td>\n",
       "      <td>...</td>\n",
       "      <td>...</td>\n",
       "      <td>...</td>\n",
       "      <td>...</td>\n",
       "    </tr>\n",
       "    <tr>\n",
       "      <th>538975</th>\n",
       "      <td>1.518219</td>\n",
       "      <td>2022</td>\n",
       "      <td>336</td>\n",
       "      <td>48.1</td>\n",
       "      <td>236.5</td>\n",
       "      <td>48.1236.5</td>\n",
       "      <td>4812365</td>\n",
       "    </tr>\n",
       "    <tr>\n",
       "      <th>538976</th>\n",
       "      <td>-0.026703</td>\n",
       "      <td>2022</td>\n",
       "      <td>336</td>\n",
       "      <td>50.5</td>\n",
       "      <td>16.9</td>\n",
       "      <td>50.516.9</td>\n",
       "      <td>505169</td>\n",
       "    </tr>\n",
       "    <tr>\n",
       "      <th>538977</th>\n",
       "      <td>5.483063</td>\n",
       "      <td>2022</td>\n",
       "      <td>336</td>\n",
       "      <td>48.5</td>\n",
       "      <td>356.1</td>\n",
       "      <td>48.5356.1</td>\n",
       "      <td>4853561</td>\n",
       "    </tr>\n",
       "    <tr>\n",
       "      <th>538978</th>\n",
       "      <td>1.860016</td>\n",
       "      <td>2022</td>\n",
       "      <td>336</td>\n",
       "      <td>47.2</td>\n",
       "      <td>237.6</td>\n",
       "      <td>47.2237.6</td>\n",
       "      <td>4722376</td>\n",
       "    </tr>\n",
       "    <tr>\n",
       "      <th>538979</th>\n",
       "      <td>4.086578</td>\n",
       "      <td>2022</td>\n",
       "      <td>336</td>\n",
       "      <td>35.4</td>\n",
       "      <td>280.8</td>\n",
       "      <td>35.4280.8</td>\n",
       "      <td>3542808</td>\n",
       "    </tr>\n",
       "  </tbody>\n",
       "</table>\n",
       "<p>538980 rows × 7 columns</p>\n",
       "</div>"
      ],
      "text/plain": [
       "        temperature  year  doy  latitude  longitude coordstring  site_id\n",
       "0         -5.445190  2010    1      43.7      280.6   43.7280.6  4372806\n",
       "1         -6.786987  2010    1      43.1      279.6   43.1279.6  4312796\n",
       "2         -4.749878  2010    1      40.0      276.9   40.0276.9  4002769\n",
       "3         -5.156128  2010    1      40.4      280.1   40.4280.1  4042801\n",
       "4         -6.206909  2010    1      43.2      289.1   43.2289.1  4322891\n",
       "...             ...   ...  ...       ...        ...         ...      ...\n",
       "538975     1.518219  2022  336      48.1      236.5   48.1236.5  4812365\n",
       "538976    -0.026703  2022  336      50.5       16.9    50.516.9   505169\n",
       "538977     5.483063  2022  336      48.5      356.1   48.5356.1  4853561\n",
       "538978     1.860016  2022  336      47.2      237.6   47.2237.6  4722376\n",
       "538979     4.086578  2022  336      35.4      280.8   35.4280.8  3542808\n",
       "\n",
       "[538980 rows x 7 columns]"
      ]
     },
     "execution_count": 143,
     "metadata": {},
     "output_type": "execute_result"
    }
   ],
   "source": [
    "formatted_weather"
   ]
  },
  {
   "cell_type": "code",
   "execution_count": 144,
   "id": "6aa8123c",
   "metadata": {},
   "outputs": [
    {
     "data": {
      "text/html": [
       "<div>\n",
       "<style scoped>\n",
       "    .dataframe tbody tr th:only-of-type {\n",
       "        vertical-align: middle;\n",
       "    }\n",
       "\n",
       "    .dataframe tbody tr th {\n",
       "        vertical-align: top;\n",
       "    }\n",
       "\n",
       "    .dataframe thead th {\n",
       "        text-align: right;\n",
       "    }\n",
       "</style>\n",
       "<table border=\"1\" class=\"dataframe\">\n",
       "  <thead>\n",
       "    <tr style=\"text-align: right;\">\n",
       "      <th></th>\n",
       "      <th>temperature</th>\n",
       "      <th>year</th>\n",
       "      <th>doy</th>\n",
       "      <th>latitude</th>\n",
       "      <th>longitude</th>\n",
       "      <th>coordstring</th>\n",
       "      <th>site_id</th>\n",
       "    </tr>\n",
       "  </thead>\n",
       "  <tbody>\n",
       "    <tr>\n",
       "      <th>0</th>\n",
       "      <td>-5.4</td>\n",
       "      <td>2010</td>\n",
       "      <td>1</td>\n",
       "      <td>43.7</td>\n",
       "      <td>280.6</td>\n",
       "      <td>43.7280.6</td>\n",
       "      <td>4372806</td>\n",
       "    </tr>\n",
       "    <tr>\n",
       "      <th>1</th>\n",
       "      <td>-6.8</td>\n",
       "      <td>2010</td>\n",
       "      <td>1</td>\n",
       "      <td>43.1</td>\n",
       "      <td>279.6</td>\n",
       "      <td>43.1279.6</td>\n",
       "      <td>4312796</td>\n",
       "    </tr>\n",
       "    <tr>\n",
       "      <th>2</th>\n",
       "      <td>-4.7</td>\n",
       "      <td>2010</td>\n",
       "      <td>1</td>\n",
       "      <td>40.0</td>\n",
       "      <td>276.9</td>\n",
       "      <td>40.0276.9</td>\n",
       "      <td>4002769</td>\n",
       "    </tr>\n",
       "    <tr>\n",
       "      <th>3</th>\n",
       "      <td>-5.2</td>\n",
       "      <td>2010</td>\n",
       "      <td>1</td>\n",
       "      <td>40.4</td>\n",
       "      <td>280.1</td>\n",
       "      <td>40.4280.1</td>\n",
       "      <td>4042801</td>\n",
       "    </tr>\n",
       "    <tr>\n",
       "      <th>4</th>\n",
       "      <td>-6.2</td>\n",
       "      <td>2010</td>\n",
       "      <td>1</td>\n",
       "      <td>43.2</td>\n",
       "      <td>289.1</td>\n",
       "      <td>43.2289.1</td>\n",
       "      <td>4322891</td>\n",
       "    </tr>\n",
       "    <tr>\n",
       "      <th>...</th>\n",
       "      <td>...</td>\n",
       "      <td>...</td>\n",
       "      <td>...</td>\n",
       "      <td>...</td>\n",
       "      <td>...</td>\n",
       "      <td>...</td>\n",
       "      <td>...</td>\n",
       "    </tr>\n",
       "    <tr>\n",
       "      <th>167217</th>\n",
       "      <td>3.7</td>\n",
       "      <td>2022</td>\n",
       "      <td>361</td>\n",
       "      <td>49.3</td>\n",
       "      <td>7.4</td>\n",
       "      <td>49.37.4</td>\n",
       "      <td>49374</td>\n",
       "    </tr>\n",
       "    <tr>\n",
       "      <th>167218</th>\n",
       "      <td>7.8</td>\n",
       "      <td>2022</td>\n",
       "      <td>362</td>\n",
       "      <td>49.3</td>\n",
       "      <td>7.4</td>\n",
       "      <td>49.37.4</td>\n",
       "      <td>49374</td>\n",
       "    </tr>\n",
       "    <tr>\n",
       "      <th>167219</th>\n",
       "      <td>9.6</td>\n",
       "      <td>2022</td>\n",
       "      <td>363</td>\n",
       "      <td>49.3</td>\n",
       "      <td>7.4</td>\n",
       "      <td>49.37.4</td>\n",
       "      <td>49374</td>\n",
       "    </tr>\n",
       "    <tr>\n",
       "      <th>167220</th>\n",
       "      <td>8.4</td>\n",
       "      <td>2022</td>\n",
       "      <td>364</td>\n",
       "      <td>49.3</td>\n",
       "      <td>7.4</td>\n",
       "      <td>49.37.4</td>\n",
       "      <td>49374</td>\n",
       "    </tr>\n",
       "    <tr>\n",
       "      <th>167221</th>\n",
       "      <td>14.6</td>\n",
       "      <td>2022</td>\n",
       "      <td>365</td>\n",
       "      <td>49.3</td>\n",
       "      <td>7.4</td>\n",
       "      <td>49.37.4</td>\n",
       "      <td>49374</td>\n",
       "    </tr>\n",
       "  </tbody>\n",
       "</table>\n",
       "<p>521174 rows × 7 columns</p>\n",
       "</div>"
      ],
      "text/plain": [
       "        temperature  year  doy  latitude  longitude coordstring  site_id\n",
       "0              -5.4  2010    1      43.7      280.6   43.7280.6  4372806\n",
       "1              -6.8  2010    1      43.1      279.6   43.1279.6  4312796\n",
       "2              -4.7  2010    1      40.0      276.9   40.0276.9  4002769\n",
       "3              -5.2  2010    1      40.4      280.1   40.4280.1  4042801\n",
       "4              -6.2  2010    1      43.2      289.1   43.2289.1  4322891\n",
       "...             ...   ...  ...       ...        ...         ...      ...\n",
       "167217          3.7  2022  361      49.3        7.4     49.37.4    49374\n",
       "167218          7.8  2022  362      49.3        7.4     49.37.4    49374\n",
       "167219          9.6  2022  363      49.3        7.4     49.37.4    49374\n",
       "167220          8.4  2022  364      49.3        7.4     49.37.4    49374\n",
       "167221         14.6  2022  365      49.3        7.4     49.37.4    49374\n",
       "\n",
       "[521174 rows x 7 columns]"
      ]
     },
     "execution_count": 144,
     "metadata": {},
     "output_type": "execute_result"
    }
   ],
   "source": [
    "merged_euro[merged_euro.index.isin(formatted_weather.index)]"
   ]
  },
  {
   "cell_type": "markdown",
   "id": "d157489b",
   "metadata": {},
   "source": [
    "**Mystery of the Missing Predictions**\n",
    "\n",
    "All the sites are in both dataframes (plant and weather). After this, in the predict function, the predictions return an empty list. could be a data formatting issue? The only thing is that formatted_weather works the same, and also has all the sites. \n",
    "\n",
    "It isn't temperature, because they are both in C.\n",
    "\n",
    "It isn't the sites. Both weather dataframes have all the sites in the observation dataframe. \n",
    "\n",
    "It isn't columns. Both weather dataframes have the exact same columns. \n",
    "\n",
    "It isn't NAs. Merged Euro has no NAs. \n",
    "\n",
    "Ok, maybe this is it. Merged Euro contains 5000 rows that contain sites that aren't in formatted weather. This can't be it though, because merged euro has all the correct sites for the species. Is it number of days in the year?\n",
    "\n",
    "Got it – it's number of days in the year. Some sites have >4747 observations. Wait, that isn't quite accurate. \n",
    "\n",
    "Ok, as predicted there's a few sites without 2022 data. That shouldn't make too much of a difference though. \n",
    "\n",
    "It isn't the year, or days in the year. Could it be training / testing it on different weather things? no, because it should be training on the same sites, which should be either monthly or daily. Maybe i'll try inputting a monthly model on days or a daily model on months and see what happens. \n",
    "\n",
    "Not all of formatted weather is in merged_euro.\n",
    "\n",
    "At this point I'm just going to train a separate model on european data instead of trying to merge them."
   ]
  },
  {
   "cell_type": "code",
   "execution_count": 64,
   "id": "87ee3672",
   "metadata": {},
   "outputs": [
    {
     "name": "stdout",
     "output_type": "stream",
     "text": [
      "['Ficus' 'Olea europea' 'Rubus' 'Citrus sinensis' 'Prunus domestica'\n",
      " 'Prunus cerasifera' 'Prunus' 'Malus domestica' 'Malus' 'Malus pumila'\n",
      " 'Juglans' 'Prunus avium' 'Cornus mas' 'Prunus cerasus' 'Pyrus communis'\n",
      " 'Pyrus']\n"
     ]
    },
    {
     "name": "stderr",
     "output_type": "stream",
     "text": [
      "\r",
      "  0%|                                                                                                                                                                              | 0/16 [00:00<?, ?it/s]"
     ]
    },
    {
     "name": "stdout",
     "output_type": "stream",
     "text": [
      "Ficus\n",
      "not enough training data\n",
      "Olea europea\n",
      "not enough training data\n",
      "Rubus\n",
      "not enough training data\n",
      "Citrus sinensis\n",
      "not enough training data\n",
      "Prunus domestica\n",
      "No test data for Prunus domestica\n",
      "   site_id         doy  year\n",
      "0   471106  223.750000  2022\n",
      "1   466145  255.833333  2022\n",
      "2   475141  229.500000  2022\n",
      "3   476161  240.000000  2022\n",
      "4   471154  223.333333  2022\n",
      "5   482165  225.000000  2022\n",
      "6   486150  265.000000  2022\n",
      "7   482164  235.785714  2022\n",
      "8   472114  251.000000  2022\n",
      "9   494185  244.250000  2022\n",
      "10  466140  257.000000  2022\n",
      "11  475161  271.000000  2022\n",
      "12  472161  224.500000  2022\n",
      "13  480162  246.000000  2022\n",
      "14  473103  272.000000  2022\n",
      "15  483143  205.333333  2022\n",
      "16   59296  219.000000  2022\n",
      "17   50331  222.000000  2022\n",
      "        temperature  year  doy  latitude  longitude coordstring site_id\n",
      "498528   260.608398  2022    1      47.1       10.6    47.110.6  471106\n",
      "498530   266.040039  2022    1      46.6       14.5    46.614.5  466145\n",
      "498531   266.297852  2022    1      47.5       14.1    47.514.1  475141\n",
      "498535   271.030273  2022    1      47.6       16.1    47.616.1  476161\n",
      "498564   270.165039  2022    1      47.1       15.4    47.115.4  471154\n",
      "...             ...   ...  ...       ...        ...         ...     ...\n",
      "536675   272.802979  2022  336      48.0       16.2    48.016.2  480162\n",
      "536676   264.554932  2022  336      47.3       10.3    47.310.3  473103\n",
      "536696   272.228760  2022  336      48.3       14.3    48.314.3  483143\n",
      "536774   268.617432  2022  336      59.2        9.6     59.29.6   59296\n",
      "536777   275.338135  2022  336      50.3        3.1     50.33.1   50331\n",
      "\n",
      "[216 rows x 7 columns]\n",
      "['466140' '466145' '471106' '471154' '472114' '472161' '473103' '475141'\n",
      " '475161' '476161' '480162' '482164' '482165' '483143' '486150' '494185'\n",
      " '50331' '59296']\n",
      "['466140' '466145' '471106' '471154' '472114' '472161' '473103' '475141'\n",
      " '475161' '476161' '480162' '482164' '482165' '483143' '486150' '494185'\n",
      " '50331' '59296']\n",
      "running model ThermalTime\n"
     ]
    },
    {
     "name": "stderr",
     "output_type": "stream",
     "text": [
      "\r",
      " 31%|███████████████████████████████████████████████████▉                                                                                                                  | 5/16 [00:01<00:02,  4.39it/s]"
     ]
    },
    {
     "name": "stdout",
     "output_type": "stream",
     "text": [
      "<pyPhenology.models.thermaltime.ThermalTime object at 0x1a2d30a90>\n",
      "making predictions for model ThermalTime\n",
      "[223.75       255.83333333 229.5        240.         223.33333333\n",
      " 225.         265.         235.78571429 251.         244.25\n",
      " 257.         271.         224.5        246.         272.\n",
      " 205.33333333 219.         222.        ]\n",
      "[245 245 245 245 245 245 245 245 245 245 245 245 245 245 245 245 245 245]\n",
      "model ThermalTime got a MAE of 16.96560846560847\n",
      "model ThermalTime got an RMSE of 19.68329531639638\n",
      "model ThermalTime's median error is: 20.0\n",
      "Ripeness Day: 245.0\n",
      "Prunus cerasifera\n",
      "not enough training data\n",
      "Prunus\n",
      "No test data for Prunus\n",
      "  site_id    doy  year\n",
      "0  524133  190.0  2022\n",
      "1  522144  256.0  2022\n",
      "2  544185  234.0  2022\n",
      "3  483143  168.5  2022\n",
      "4   49472  188.6  2022\n",
      "5   46566  180.0  2022\n",
      "        temperature  year  doy  latitude  longitude coordstring site_id\n",
      "498691   272.713867  2022    1      48.3       14.3    48.314.3  483143\n",
      "498844   275.116211  2022    1      52.4       13.3    52.413.3  524133\n",
      "498868   274.854492  2022    1      52.2       14.4    52.214.4  522144\n",
      "498877   273.647461  2022    1      54.4       18.5    54.418.5  544185\n",
      "500786   273.393555  2022    1      49.4        7.2     49.47.2   49472\n",
      "...             ...   ...  ...       ...        ...         ...     ...\n",
      "536849   273.677979  2022  336      52.4       13.3    52.413.3  524133\n",
      "536873   273.738525  2022  336      52.2       14.4    52.214.4  522144\n",
      "536882   272.107666  2022  336      54.4       18.5    54.418.5  544185\n",
      "538791   274.689697  2022  336      49.4        7.2     49.47.2   49472\n",
      "538809   282.201416  2022  336      46.5        6.6     46.56.6   46566\n",
      "\n",
      "[72 rows x 7 columns]\n",
      "['46566' '483143' '49472' '522144' '524133' '544185']\n",
      "['46566' '483143' '49472' '522144' '524133' '544185']\n",
      "running model ThermalTime\n"
     ]
    },
    {
     "name": "stderr",
     "output_type": "stream",
     "text": [
      "\r",
      " 44%|████████████████████████████████████████████████████████████████████████▋                                                                                             | 7/16 [00:04<00:06,  1.44it/s]"
     ]
    },
    {
     "name": "stdout",
     "output_type": "stream",
     "text": [
      "<pyPhenology.models.thermaltime.ThermalTime object at 0x1a2e17950>\n",
      "making predictions for model ThermalTime\n",
      "[190.  256.  234.  168.5 188.6 180. ]\n",
      "[183 183 214 214 214 183]\n",
      "model ThermalTime got a MAE of 28.983333333333334\n",
      "model ThermalTime got an RMSE of 37.64396808697688\n",
      "model ThermalTime's median error is: 22.700000000000003\n",
      "Ripeness Day: 198.5\n",
      "Malus domestica\n",
      "No test data for Malus domestica\n",
      "    site_id         doy  year\n",
      "0    482163  226.333333  2022\n",
      "1    471106  257.500000  2022\n",
      "2    475141  218.000000  2022\n",
      "3    475152  285.500000  2022\n",
      "4    482164  236.333333  2022\n",
      "..      ...         ...   ...\n",
      "147  475160  274.000000  2022\n",
      "148  473103  243.000000  2022\n",
      "149   42331  247.000000  2022\n",
      "150   41316  168.500000  2022\n",
      "151   42021  243.000000  2022\n",
      "\n",
      "[152 rows x 3 columns]\n",
      "        temperature  year  doy  latitude  longitude coordstring site_id\n",
      "497753   275.467773  2022    1      42.3        3.1     42.33.1   42331\n",
      "497761   275.499023  2022    1      41.3        1.6     41.31.6   41316\n",
      "498528   260.608398  2022    1      47.1       10.6    47.110.6  471106\n",
      "498530   266.040039  2022    1      46.6       14.5    46.614.5  466145\n",
      "498531   266.297852  2022    1      47.5       14.1    47.514.1  475141\n",
      "...             ...   ...  ...       ...        ...         ...     ...\n",
      "538125   272.174072  2022  336      48.2       11.5    48.211.5  482115\n",
      "538140   272.728760  2022  336      48.6        8.4     48.68.4   48684\n",
      "538153   272.560791  2022  336      51.1       14.6    51.114.6  511146\n",
      "538160   270.281494  2022  336      47.5       16.0    47.516.0  475160\n",
      "538164   274.527588  2022  336      42.0        2.1     42.02.1   42021\n",
      "\n",
      "[1824 rows x 7 columns]\n",
      "['41316' '42021' '42331' '466140' '466145' '471106' '471154' '472114'\n",
      " '472161' '473103' '475111' '475141' '475152' '475160' '476161' '480113'\n",
      " '480122' '481114' '482102' '482115' '482123' '482163' '482164' '482165'\n",
      " '48281' '483122' '483132' '484104' '484130' '48485' '485126' '485134'\n",
      " '48592' '486113' '48684' '490121' '490131' '491101' '491102' '491124'\n",
      " '49186' '49192' '492121' '49271' '49272' '49283' '49285' '49296' '493106'\n",
      " '493123' '49374' '494101' '494111' '494185' '494193' '49481' '49482'\n",
      " '49596' '496115' '49670' '49676' '49681' '500116' '50084' '50086' '50170'\n",
      " '50184' '50185' '50265' '50281' '503102' '503122' '50373' '50394'\n",
      " '504103' '504111' '504113' '504115' '504120' '50476' '50482' '505102'\n",
      " '505104' '505112' '50576' '50585' '506123' '50666' '50690' '510105'\n",
      " '510121' '51085' '511133' '511146' '51165' '51174' '51180' '512105'\n",
      " '512123' '51272' '51283' '51293' '513121' '513125' '513144' '51396'\n",
      " '514104' '514113' '51482' '51495' '515102' '515111' '515114' '515131'\n",
      " '51572' '51580' '52092' '521111' '52185' '52192' '522104' '522122'\n",
      " '52273' '52276' '52280' '52281' '52291' '52375' '524132' '524133'\n",
      " '525114' '52573' '526101' '526111' '53182' '53185' '532133' '532144'\n",
      " '534104' '53471' '53474' '53480' '535134' '541102' '541132' '54196'\n",
      " '542124' '543102' '543131' '54390' '54591' '54596']\n",
      "['41316' '42021' '42331' '466140' '466145' '471106' '471154' '472114'\n",
      " '472161' '473103' '475111' '475141' '475152' '475160' '476161' '480113'\n",
      " '480122' '481114' '482102' '482115' '482123' '482163' '482164' '482165'\n",
      " '48281' '483122' '483132' '484104' '484130' '48485' '485126' '485134'\n",
      " '48592' '486113' '48684' '490121' '490131' '491101' '491102' '491124'\n",
      " '49186' '49192' '492121' '49271' '49272' '49283' '49285' '49296' '493106'\n",
      " '493123' '49374' '494101' '494111' '494185' '494193' '49481' '49482'\n",
      " '49596' '496115' '49670' '49676' '49681' '500116' '50084' '50086' '50170'\n",
      " '50184' '50185' '50265' '50281' '503102' '503122' '50373' '50394'\n",
      " '504103' '504111' '504113' '504115' '504120' '50476' '50482' '505102'\n",
      " '505104' '505112' '50576' '50585' '506123' '50666' '50690' '510105'\n",
      " '510121' '51085' '511133' '511146' '51165' '51174' '51180' '512105'\n",
      " '512123' '51272' '51283' '51293' '513121' '513125' '513144' '51396'\n",
      " '514104' '514113' '51482' '51495' '515102' '515111' '515114' '515131'\n",
      " '51572' '51580' '52092' '521111' '52185' '52192' '522104' '522122'\n",
      " '52273' '52276' '52280' '52281' '52291' '52375' '524132' '524133'\n",
      " '525114' '52573' '526101' '526111' '53182' '53185' '532133' '532144'\n",
      " '534104' '53471' '53474' '53480' '535134' '541102' '541132' '54196'\n",
      " '542124' '543102' '543131' '54390' '54591' '54596']\n",
      "running model ThermalTime\n"
     ]
    },
    {
     "name": "stderr",
     "output_type": "stream",
     "text": [
      "\r",
      " 50%|███████████████████████████████████████████████████████████████████████████████████                                                                                   | 8/16 [00:06<00:08,  1.07s/it]"
     ]
    },
    {
     "name": "stdout",
     "output_type": "stream",
     "text": [
      "<pyPhenology.models.thermaltime.ThermalTime object at 0x1a2e0b690>\n",
      "making predictions for model ThermalTime\n",
      "[226.33333333 257.5        218.         285.5        236.33333333\n",
      " 264.90909091 266.44444444 241.4        273.28571429 237.625\n",
      " 230.72727273 237.41666667 252.5        259.33333333 247.71428571\n",
      " 241.63636364 257.         246.55555556 239.09090909 252.\n",
      " 210.5        248.5        236.33333333 251.75       242.\n",
      " 250.41176471 242.66666667 239.27272727 248.         246.6\n",
      " 253.47368421 239.94736842 243.         254.9        254.5\n",
      " 255.         238.83333333 233.28571429 265.08333333 238.9\n",
      " 241.5        240.91666667 248.85714286 247.66666667 246.\n",
      " 234.83333333 244.41666667 253.25       243.61904762 238.5\n",
      " 250.66666667 244.55555556 237.92307692 241.33333333 264.125\n",
      " 252.14285714 244.70588235 246.83333333 233.75       242.9\n",
      " 255.8        251.75       219.         251.4        222.4\n",
      " 258.4        244.6        209.         221.61538462 263.83333333\n",
      " 263.42857143 241.33333333 237.91666667 258.75       252.\n",
      " 261.75       224.9        266.         266.         242.77777778\n",
      " 262.2        250.18181818 235.         242.36363636 257.6\n",
      " 261.81818182 236.33333333 255.25       251.54545455 253.33333333\n",
      " 276.         261.33333333 254.9        269.         229.25\n",
      " 246.8        244.75       249.77777778 260.125      260.63636364\n",
      " 233.81818182 238.58333333 256.66666667 219.         244.8\n",
      " 236.375      246.55555556 229.71428571 276.625      241.5\n",
      " 249.8        233.         236.4        221.5        211.66666667\n",
      " 251.         261.25       230.         240.8        224.\n",
      " 256.         232.         257.125      253.125      269.42857143\n",
      " 245.25       267.         274.25       275.8        298.2\n",
      " 273.5        287.33333333 293.6        274.2        285.66666667\n",
      " 283.6        276.         271.5        292.         258.66666667\n",
      " 273.66666667 256.66666667 277.         236.         253.\n",
      " 284.         251.5        274.         243.         247.\n",
      " 168.5        243.        ]\n",
      "[245 245 245 245 214 245 245 245 245 245 245 245 245 245 245 245 245 245\n",
      " 245 245 245 245 245 245 245 245 245 245 245 245 245 245 245 245 245 245\n",
      " 245 245 245 245 245 245 245 245 245 245 245 245 245 245 245 245 245 245\n",
      " 245 245 245 245 245 245 245 245 245 245 245 245 245 245 245 245 245 245\n",
      " 245 245 245 245 245 245 245 245 245 245 245 245 245 245 245 245 245 245\n",
      " 245 245 245 245 245 245 245 245 245 245 245 245 245 245 245 245 245 245\n",
      " 245 245 245 245 245 245 245 245 245 245 245 245 245 245 245 245 245 214\n",
      " 245 245 245 245 245 245 245 245 245 245 245 245 245 245 245 245 245 245\n",
      " 245 245 245 245 245 214 214 214]\n",
      "model ThermalTime got a MAE of 14.378982346648247\n",
      "model ThermalTime got an RMSE of 18.661453519728724\n",
      "model ThermalTime's median error is: 10.525000000000006\n",
      "Ripeness Day: 243.98026315789474\n",
      "Malus\n",
      "not enough training data\n",
      "Malus pumila\n",
      "not enough training data\n",
      "Juglans\n",
      "not enough training data\n",
      "Prunus avium\n",
      "No test data for Prunus avium\n",
      "    site_id         doy  year\n",
      "0    482164  162.555556  2022\n",
      "1    476161  178.333333  2022\n",
      "2    475152  152.000000  2022\n",
      "3    475160  194.333333  2022\n",
      "4    471154  169.000000  2022\n",
      "..      ...         ...   ...\n",
      "112  480122  171.000000  2022\n",
      "113  511146  177.000000  2022\n",
      "114  494185  182.625000  2022\n",
      "115   49662  153.000000  2022\n",
      "116   49472  187.000000  2022\n",
      "\n",
      "[117 rows x 3 columns]\n",
      "        temperature  year  doy  latitude  longitude coordstring site_id\n",
      "498528   260.608398  2022    1      47.1       10.6    47.110.6  471106\n",
      "498530   266.040039  2022    1      46.6       14.5    46.614.5  466145\n",
      "498535   271.030273  2022    1      47.6       16.1    47.616.1  476161\n",
      "498564   270.165039  2022    1      47.1       15.4    47.115.4  471154\n",
      "498567   274.198242  2022    1      48.2       16.5    48.216.5  482165\n",
      "...             ...   ...  ...       ...        ...         ...     ...\n",
      "538600   274.664307  2022  336      49.6        6.2     49.66.2   49662\n",
      "538744   265.035400  2022  336      47.3       11.4    47.311.4  473114\n",
      "538752   274.281494  2022  336      50.1        8.6     50.18.6   50186\n",
      "538759   275.459229  2022  336      51.1        7.1     51.17.1   51171\n",
      "538791   274.689697  2022  336      49.4        7.2     49.47.2   49472\n",
      "\n",
      "[1404 rows x 7 columns]\n",
      "['466140' '466145' '471106' '471154' '472161' '473114' '475152' '475160'\n",
      " '475161' '476161' '480113' '480122' '482102' '482123' '482163' '482164'\n",
      " '482165' '48281' '483132' '484104' '484130' '48485' '485126' '485134'\n",
      " '486113' '486150' '490121' '490131' '491102' '491124' '49186' '49192'\n",
      " '492121' '49271' '49272' '49285' '493106' '493123' '494111' '494185'\n",
      " '49472' '49481' '49596' '49662' '49670' '49676' '49681' '500116' '50086'\n",
      " '50184' '50185' '50186' '50281' '503102' '50373' '50394' '504103'\n",
      " '504111' '504115' '504120' '50482' '505102' '505104' '505112' '50576'\n",
      " '50585' '506123' '50666' '50690' '510105' '510121' '511133' '511146'\n",
      " '51165' '51171' '51174' '51283' '51293' '513125' '513144' '51396'\n",
      " '514104' '514113' '51495' '515102' '515111' '515114' '515131' '51580'\n",
      " '52092' '521111' '52185' '52192' '522104' '522122' '52280' '52281'\n",
      " '52291' '52375' '524132' '524133' '525114' '526101' '526111' '53185'\n",
      " '532104' '532133' '532144' '534104' '53474' '535134' '541102' '542124'\n",
      " '543102' '543131' '54591' '54596']\n",
      "['466140' '466145' '471106' '471154' '472161' '473114' '475152' '475160'\n",
      " '475161' '476161' '480113' '480122' '482102' '482123' '482163' '482164'\n",
      " '482165' '48281' '483132' '484104' '484130' '48485' '485126' '485134'\n",
      " '486113' '486150' '490121' '490131' '491102' '491124' '49186' '49192'\n",
      " '492121' '49271' '49272' '49285' '493106' '493123' '494111' '494185'\n",
      " '49472' '49481' '49596' '49662' '49670' '49676' '49681' '500116' '50086'\n",
      " '50184' '50185' '50186' '50281' '503102' '50373' '50394' '504103'\n",
      " '504111' '504115' '504120' '50482' '505102' '505104' '505112' '50576'\n",
      " '50585' '506123' '50666' '50690' '510105' '510121' '511133' '511146'\n",
      " '51165' '51171' '51174' '51283' '51293' '513125' '513144' '51396'\n",
      " '514104' '514113' '51495' '515102' '515111' '515114' '515131' '51580'\n",
      " '52092' '521111' '52185' '52192' '522104' '522122' '52280' '52281'\n",
      " '52291' '52375' '524132' '524133' '525114' '526101' '526111' '53185'\n",
      " '532104' '532133' '532144' '534104' '53474' '535134' '541102' '542124'\n",
      " '543102' '543131' '54591' '54596']\n",
      "running model ThermalTime\n"
     ]
    },
    {
     "name": "stderr",
     "output_type": "stream",
     "text": [
      "\r",
      " 75%|███████████████████████████████████████████████████████████████████████████████████████████████████████████████████████████▊                                         | 12/16 [00:10<00:03,  1.04it/s]"
     ]
    },
    {
     "name": "stdout",
     "output_type": "stream",
     "text": [
      "<pyPhenology.models.thermaltime.ThermalTime object at 0x1a2e59f10>\n",
      "making predictions for model ThermalTime\n",
      "[162.55555556 178.33333333 152.         194.33333333 169.\n",
      " 154.         154.         176.5        173.         180.75\n",
      " 191.         158.         190.         155.         144.5\n",
      " 143.6        164.         159.2        171.66666667 182.09090909\n",
      " 177.5        164.         177.16666667 175.         200.\n",
      " 172.28571429 165.4        171.33333333 158.4        161.66666667\n",
      " 158.2        167.         175.5        179.         178.\n",
      " 164.6        162.5        181.66666667 167.71428571 179.\n",
      " 174.5        177.         175.5        170.75       177.54545455\n",
      " 179.16666667 165.28571429 179.66666667 178.         182.5\n",
      " 155.5        165.         168.33333333 169.5        175.5\n",
      " 186.66666667 171.         172.2        165.8        190.83333333\n",
      " 183.         174.         183.8        188.         188.16666667\n",
      " 174.2        188.5        200.5        169.25       172.\n",
      " 194.8        192.         181.         183.         173.83333333\n",
      " 179.25       178.33333333 188.16666667 179.66666667 176.66666667\n",
      " 176.8        172.16666667 178.         201.33333333 175.75\n",
      " 175.6        181.8        198.33333333 167.         182.5\n",
      " 186.8        197.         163.         176.16666667 170.\n",
      " 176.         190.5        191.5        187.8        171.\n",
      " 174.         184.5        177.         181.33333333 183.2\n",
      " 181.2        180.         170.         178.         174.33333333\n",
      " 166.         191.5        171.         177.         182.625\n",
      " 153.         187.        ]\n",
      "[153 153 153 153 153 153 183 153 153 183 153 153 153 153 153 153 153 153\n",
      " 153 183 153 153 153 153 153 153 153 153 153 153 153 153 153 153 183 153\n",
      " 153 153 153 153 153 153 153 153 183 183 153 183 153 183 153 153 153 153\n",
      " 153 183 153 153 153 183 153 153 153 183 153 153 183 153 183 153 153 183\n",
      " 183 183 153 153 153 153 153 153 153 153 153 153 153 153 183 183 153 153\n",
      " 183 183 153 153 153 183 153 153 153 153 153 153 153 153 153 153 183 153\n",
      " 183 153 153 183 153 153 153 153 153]\n",
      "model ThermalTime got a MAE of 18.203816862150195\n",
      "model ThermalTime got an RMSE of 21.558655436419823\n",
      "model ThermalTime's median error is: 18.333333333333343\n",
      "Ripeness Day: 159.15384615384616\n",
      "Cornus mas\n",
      "not enough training data\n",
      "Prunus cerasus\n",
      "not enough training data\n",
      "Pyrus communis\n",
      "No test data for Pyrus communis\n",
      "    site_id         doy  year\n",
      "0     49285  251.666667  2022\n",
      "1     50084  259.666667  2022\n",
      "2     50185  240.000000  2022\n",
      "3     54196  255.666667  2022\n",
      "4     50281  263.750000  2022\n",
      "..      ...         ...   ...\n",
      "104  512123  274.666667  2022\n",
      "105   49676  256.600000  2022\n",
      "106  494185  255.500000  2022\n",
      "107  494204  258.666667  2022\n",
      "108  531231  250.000000  2022\n",
      "\n",
      "[109 rows x 3 columns]\n",
      "        temperature  year  doy  latitude  longitude coordstring site_id\n",
      "498632   269.291992  2022    1      49.4       18.5    49.418.5  494185\n",
      "498844   275.116211  2022    1      52.4       13.3    52.413.3  524133\n",
      "498992   273.747070  2022    1      49.2        8.5     49.28.5   49285\n",
      "498997   274.061523  2022    1      50.1        8.5     50.18.5   50185\n",
      "499000   274.249023  2022    1      50.0        8.4     50.08.4   50084\n",
      "...             ...   ...  ...       ...        ...         ...     ...\n",
      "538120   274.978760  2022  336      49.2        8.3     49.28.3   49283\n",
      "538752   274.281494  2022  336      50.1        8.6     50.18.6   50186\n",
      "538759   275.459229  2022  336      51.1        7.1     51.17.1   51171\n",
      "538935   269.820557  2022  336      49.4       20.4    49.420.4  494204\n",
      "538965   271.177979  2022  336      53.1       23.1    53.123.1  531231\n",
      "\n",
      "[1308 rows x 7 columns]\n",
      "['480113' '480122' '482102' '482123' '483122' '483132' '484104' '484130'\n",
      " '48485' '485126' '485134' '48592' '486113' '490121' '490131' '491102'\n",
      " '491124' '49186' '49192' '492121' '49271' '49272' '49283' '49285' '49296'\n",
      " '493106' '493123' '494111' '494185' '494204' '49481' '49596' '49670'\n",
      " '49676' '49681' '500116' '50084' '50170' '50184' '50185' '50186' '50265'\n",
      " '50281' '503102' '503122' '50373' '50394' '504103' '504111' '504115'\n",
      " '504120' '50476' '50482' '505102' '505104' '50576' '50585' '506123'\n",
      " '50690' '510105' '510121' '511133' '51165' '51171' '51174' '512105'\n",
      " '512123' '51283' '51293' '513121' '513125' '51396' '514104' '514113'\n",
      " '51495' '515102' '515111' '515114' '515131' '51580' '521111' '52192'\n",
      " '522104' '522122' '52273' '52276' '52280' '52281' '52291' '52375'\n",
      " '524133' '525114' '526101' '526111' '531231' '53185' '532133' '532144'\n",
      " '534104' '53474' '53480' '535134' '541102' '541132' '54196' '542124'\n",
      " '543131' '54591' '54596']\n",
      "['480113' '480122' '482102' '482123' '483122' '483132' '484104' '484130'\n",
      " '48485' '485126' '485134' '48592' '486113' '490121' '490131' '491102'\n",
      " '491124' '49186' '49192' '492121' '49271' '49272' '49283' '49285' '49296'\n",
      " '493106' '493123' '494111' '494185' '494204' '49481' '49596' '49670'\n",
      " '49676' '49681' '500116' '50084' '50170' '50184' '50185' '50186' '50265'\n",
      " '50281' '503102' '503122' '50373' '50394' '504103' '504111' '504115'\n",
      " '504120' '50476' '50482' '505102' '505104' '50576' '50585' '506123'\n",
      " '50690' '510105' '510121' '511133' '51165' '51171' '51174' '512105'\n",
      " '512123' '51283' '51293' '513121' '513125' '51396' '514104' '514113'\n",
      " '51495' '515102' '515111' '515114' '515131' '51580' '521111' '52192'\n",
      " '522104' '522122' '52273' '52276' '52280' '52281' '52291' '52375'\n",
      " '524133' '525114' '526101' '526111' '531231' '53185' '532133' '532144'\n",
      " '534104' '53474' '53480' '535134' '541102' '541132' '54196' '542124'\n",
      " '543131' '54591' '54596']\n",
      "running model ThermalTime\n"
     ]
    },
    {
     "name": "stderr",
     "output_type": "stream",
     "text": [
      " 88%|████████████████████████████████████████████████████████████████████████████████████████████████████████████████████████████████████████████████▍                    | 14/16 [00:10<00:01,  1.30it/s]\n"
     ]
    },
    {
     "ename": "KeyboardInterrupt",
     "evalue": "",
     "output_type": "error",
     "traceback": [
      "\u001b[0;31m---------------------------------------------------------------------------\u001b[0m",
      "\u001b[0;31mKeyboardInterrupt\u001b[0m                         Traceback (most recent call last)",
      "Cell \u001b[0;32mIn[64], line 1\u001b[0m\n\u001b[0;32m----> 1\u001b[0m normal_training_euro \u001b[38;5;241m=\u001b[39m train_species_models(euro_observations, formatted_weather)\n",
      "Cell \u001b[0;32mIn[61], line 37\u001b[0m, in \u001b[0;36mtrain_species_models\u001b[0;34m(full_plant_data, full_weather_data)\u001b[0m\n\u001b[1;32m     34\u001b[0m \u001b[38;5;28mprint\u001b[39m(np\u001b[38;5;241m.\u001b[39msort(species_test_df[\u001b[38;5;124m'\u001b[39m\u001b[38;5;124msite_id\u001b[39m\u001b[38;5;124m'\u001b[39m]\u001b[38;5;241m.\u001b[39munique()))\n\u001b[1;32m     35\u001b[0m \u001b[38;5;28mprint\u001b[39m(np\u001b[38;5;241m.\u001b[39msort(filtered_weather_test[\u001b[38;5;124m'\u001b[39m\u001b[38;5;124msite_id\u001b[39m\u001b[38;5;124m'\u001b[39m]\u001b[38;5;241m.\u001b[39munique()))\n\u001b[0;32m---> 37\u001b[0m predictions \u001b[38;5;241m=\u001b[39m train_ripeness_small(species_train_df, weather_training,\n\u001b[1;32m     38\u001b[0m                     species_test_df, weather_test)\n\u001b[1;32m     40\u001b[0m \u001b[38;5;66;03m#break\u001b[39;00m\n\u001b[1;32m     42\u001b[0m species_prediction_dict[s] \u001b[38;5;241m=\u001b[39m predictions\n",
      "Cell \u001b[0;32mIn[2], line 28\u001b[0m, in \u001b[0;36mtrain_ripeness_small\u001b[0;34m(observations, predictors, test_observations, test_predictors, model_name)\u001b[0m\n\u001b[1;32m     26\u001b[0m Model \u001b[38;5;241m=\u001b[39m utils\u001b[38;5;241m.\u001b[39mload_model(model_name)\n\u001b[1;32m     27\u001b[0m model \u001b[38;5;241m=\u001b[39m Model()\n\u001b[0;32m---> 28\u001b[0m model\u001b[38;5;241m.\u001b[39mfit(observations, predictors, optimizer_params\u001b[38;5;241m=\u001b[39m\u001b[38;5;124m'\u001b[39m\u001b[38;5;124mpractical\u001b[39m\u001b[38;5;124m'\u001b[39m)\n\u001b[1;32m     30\u001b[0m \u001b[38;5;28mprint\u001b[39m(model)\n\u001b[1;32m     32\u001b[0m \u001b[38;5;28mprint\u001b[39m(\u001b[38;5;124m\"\u001b[39m\u001b[38;5;124mmaking predictions for model \u001b[39m\u001b[38;5;132;01m{m}\u001b[39;00m\u001b[38;5;124m\"\u001b[39m\u001b[38;5;241m.\u001b[39mformat(m\u001b[38;5;241m=\u001b[39mmodel_name))        \n",
      "File \u001b[0;32m~/opt/anaconda3/envs/seasonality/lib/python3.11/site-packages/pyPhenology/models/base.py:73\u001b[0m, in \u001b[0;36mBaseModel.fit\u001b[0;34m(self, observations, predictors, loss_function, method, optimizer_params, verbose, debug, **kwargs)\u001b[0m\n\u001b[1;32m     70\u001b[0m \u001b[38;5;28;01mif\u001b[39;00m verbose:\n\u001b[1;32m     71\u001b[0m     fitting_start \u001b[38;5;241m=\u001b[39m time\u001b[38;5;241m.\u001b[39mtime()\n\u001b[0;32m---> 73\u001b[0m \u001b[38;5;28mself\u001b[39m\u001b[38;5;241m.\u001b[39m_fitted_params \u001b[38;5;241m=\u001b[39m utils\u001b[38;5;241m.\u001b[39moptimize\u001b[38;5;241m.\u001b[39mfit_parameters(function_to_minimize\u001b[38;5;241m=\u001b[39m\u001b[38;5;28mself\u001b[39m\u001b[38;5;241m.\u001b[39m_scipy_error,\n\u001b[1;32m     74\u001b[0m                                                     bounds\u001b[38;5;241m=\u001b[39m\u001b[38;5;28mself\u001b[39m\u001b[38;5;241m.\u001b[39m_scipy_bounds(),\n\u001b[1;32m     75\u001b[0m                                                     method\u001b[38;5;241m=\u001b[39mmethod,\n\u001b[1;32m     76\u001b[0m                                                     results_translator\u001b[38;5;241m=\u001b[39m\u001b[38;5;28mself\u001b[39m\u001b[38;5;241m.\u001b[39m_translate_scipy_parameters,\n\u001b[1;32m     77\u001b[0m                                                     optimizer_params\u001b[38;5;241m=\u001b[39moptimizer_params,\n\u001b[1;32m     78\u001b[0m                                                     verbose\u001b[38;5;241m=\u001b[39mverbose)\n\u001b[1;32m     79\u001b[0m \u001b[38;5;28;01mif\u001b[39;00m verbose:\n\u001b[1;32m     80\u001b[0m     total_fit_time \u001b[38;5;241m=\u001b[39m \u001b[38;5;28mround\u001b[39m(time\u001b[38;5;241m.\u001b[39mtime() \u001b[38;5;241m-\u001b[39m fitting_start, \u001b[38;5;241m5\u001b[39m)\n",
      "File \u001b[0;32m~/opt/anaconda3/envs/seasonality/lib/python3.11/site-packages/pyPhenology/models/utils/optimize.py:135\u001b[0m, in \u001b[0;36mfit_parameters\u001b[0;34m(function_to_minimize, bounds, method, results_translator, optimizer_params, verbose)\u001b[0m\n\u001b[1;32m    131\u001b[0m \u001b[38;5;28;01mif\u001b[39;00m method \u001b[38;5;241m==\u001b[39m \u001b[38;5;124m'\u001b[39m\u001b[38;5;124mDE\u001b[39m\u001b[38;5;124m'\u001b[39m:\n\u001b[1;32m    132\u001b[0m     optimizer_params \u001b[38;5;241m=\u001b[39m validate_optimizer_parameters(optimizer_method\u001b[38;5;241m=\u001b[39mmethod,\n\u001b[1;32m    133\u001b[0m                                                      optimizer_params\u001b[38;5;241m=\u001b[39moptimizer_params)\n\u001b[0;32m--> 135\u001b[0m     optimize_output \u001b[38;5;241m=\u001b[39m optimize\u001b[38;5;241m.\u001b[39mdifferential_evolution(function_to_minimize,\n\u001b[1;32m    136\u001b[0m                                                       bounds\u001b[38;5;241m=\u001b[39mbounds,\n\u001b[1;32m    137\u001b[0m                                                       \u001b[38;5;241m*\u001b[39m\u001b[38;5;241m*\u001b[39moptimizer_params)\n\u001b[1;32m    138\u001b[0m     fitted_parameters \u001b[38;5;241m=\u001b[39m results_translator(optimize_output[\u001b[38;5;124m'\u001b[39m\u001b[38;5;124mx\u001b[39m\u001b[38;5;124m'\u001b[39m])\n\u001b[1;32m    140\u001b[0m \u001b[38;5;28;01melif\u001b[39;00m method \u001b[38;5;241m==\u001b[39m \u001b[38;5;124m'\u001b[39m\u001b[38;5;124mBH\u001b[39m\u001b[38;5;124m'\u001b[39m:\n",
      "File \u001b[0;32m~/opt/anaconda3/envs/seasonality/lib/python3.11/site-packages/scipy/optimize/_differentialevolution.py:397\u001b[0m, in \u001b[0;36mdifferential_evolution\u001b[0;34m(func, bounds, args, strategy, maxiter, popsize, tol, mutation, recombination, seed, callback, disp, polish, init, atol, updating, workers, constraints, x0, integrality, vectorized)\u001b[0m\n\u001b[1;32m    380\u001b[0m \u001b[38;5;66;03m# using a context manager means that any created Pool objects are\u001b[39;00m\n\u001b[1;32m    381\u001b[0m \u001b[38;5;66;03m# cleared up.\u001b[39;00m\n\u001b[1;32m    382\u001b[0m \u001b[38;5;28;01mwith\u001b[39;00m DifferentialEvolutionSolver(func, bounds, args\u001b[38;5;241m=\u001b[39margs,\n\u001b[1;32m    383\u001b[0m                                  strategy\u001b[38;5;241m=\u001b[39mstrategy,\n\u001b[1;32m    384\u001b[0m                                  maxiter\u001b[38;5;241m=\u001b[39mmaxiter,\n\u001b[0;32m   (...)\u001b[0m\n\u001b[1;32m    395\u001b[0m                                  integrality\u001b[38;5;241m=\u001b[39mintegrality,\n\u001b[1;32m    396\u001b[0m                                  vectorized\u001b[38;5;241m=\u001b[39mvectorized) \u001b[38;5;28;01mas\u001b[39;00m solver:\n\u001b[0;32m--> 397\u001b[0m     ret \u001b[38;5;241m=\u001b[39m solver\u001b[38;5;241m.\u001b[39msolve()\n\u001b[1;32m    399\u001b[0m \u001b[38;5;28;01mreturn\u001b[39;00m ret\n",
      "File \u001b[0;32m~/opt/anaconda3/envs/seasonality/lib/python3.11/site-packages/scipy/optimize/_differentialevolution.py:998\u001b[0m, in \u001b[0;36mDifferentialEvolutionSolver.solve\u001b[0;34m(self)\u001b[0m\n\u001b[1;32m    995\u001b[0m \u001b[38;5;28;01mfor\u001b[39;00m nit \u001b[38;5;129;01min\u001b[39;00m \u001b[38;5;28mrange\u001b[39m(\u001b[38;5;241m1\u001b[39m, \u001b[38;5;28mself\u001b[39m\u001b[38;5;241m.\u001b[39mmaxiter \u001b[38;5;241m+\u001b[39m \u001b[38;5;241m1\u001b[39m):\n\u001b[1;32m    996\u001b[0m     \u001b[38;5;66;03m# evolve the population by a generation\u001b[39;00m\n\u001b[1;32m    997\u001b[0m     \u001b[38;5;28;01mtry\u001b[39;00m:\n\u001b[0;32m--> 998\u001b[0m         \u001b[38;5;28mnext\u001b[39m(\u001b[38;5;28mself\u001b[39m)\n\u001b[1;32m    999\u001b[0m     \u001b[38;5;28;01mexcept\u001b[39;00m \u001b[38;5;167;01mStopIteration\u001b[39;00m:\n\u001b[1;32m   1000\u001b[0m         warning_flag \u001b[38;5;241m=\u001b[39m \u001b[38;5;28;01mTrue\u001b[39;00m\n",
      "File \u001b[0;32m~/opt/anaconda3/envs/seasonality/lib/python3.11/site-packages/scipy/optimize/_differentialevolution.py:1385\u001b[0m, in \u001b[0;36mDifferentialEvolutionSolver.__next__\u001b[0;34m(self)\u001b[0m\n\u001b[1;32m   1383\u001b[0m     feasible \u001b[38;5;241m=\u001b[39m \u001b[38;5;28;01mTrue\u001b[39;00m\n\u001b[1;32m   1384\u001b[0m     cv \u001b[38;5;241m=\u001b[39m np\u001b[38;5;241m.\u001b[39matleast_2d([\u001b[38;5;241m0.\u001b[39m])\n\u001b[0;32m-> 1385\u001b[0m     energy \u001b[38;5;241m=\u001b[39m \u001b[38;5;28mself\u001b[39m\u001b[38;5;241m.\u001b[39mfunc(parameters)\n\u001b[1;32m   1386\u001b[0m     \u001b[38;5;28mself\u001b[39m\u001b[38;5;241m.\u001b[39m_nfev \u001b[38;5;241m+\u001b[39m\u001b[38;5;241m=\u001b[39m \u001b[38;5;241m1\u001b[39m\n\u001b[1;32m   1388\u001b[0m \u001b[38;5;66;03m# compare trial and population member\u001b[39;00m\n",
      "File \u001b[0;32m~/opt/anaconda3/envs/seasonality/lib/python3.11/site-packages/scipy/_lib/_util.py:372\u001b[0m, in \u001b[0;36m_FunctionWrapper.__call__\u001b[0;34m(self, x)\u001b[0m\n\u001b[1;32m    371\u001b[0m \u001b[38;5;28;01mdef\u001b[39;00m \u001b[38;5;21m__call__\u001b[39m(\u001b[38;5;28mself\u001b[39m, x):\n\u001b[0;32m--> 372\u001b[0m     \u001b[38;5;28;01mreturn\u001b[39;00m \u001b[38;5;28mself\u001b[39m\u001b[38;5;241m.\u001b[39mf(x, \u001b[38;5;241m*\u001b[39m\u001b[38;5;28mself\u001b[39m\u001b[38;5;241m.\u001b[39margs)\n",
      "File \u001b[0;32m~/opt/anaconda3/envs/seasonality/lib/python3.11/site-packages/pyPhenology/models/base.py:358\u001b[0m, in \u001b[0;36mBaseModel._scipy_error\u001b[0;34m(self, x)\u001b[0m\n\u001b[1;32m    355\u001b[0m \u001b[38;5;28;01mif\u001b[39;00m \u001b[38;5;28mself\u001b[39m\u001b[38;5;241m.\u001b[39mdebug:\n\u001b[1;32m    356\u001b[0m     start \u001b[38;5;241m=\u001b[39m time\u001b[38;5;241m.\u001b[39mtime()\n\u001b[0;32m--> 358\u001b[0m doy_estimates \u001b[38;5;241m=\u001b[39m \u001b[38;5;28mself\u001b[39m\u001b[38;5;241m.\u001b[39m_apply_model(\u001b[38;5;241m*\u001b[39m\u001b[38;5;241m*\u001b[39mdeepcopy(\u001b[38;5;28mself\u001b[39m\u001b[38;5;241m.\u001b[39mfitting_predictors),\n\u001b[1;32m    359\u001b[0m                                   \u001b[38;5;241m*\u001b[39m\u001b[38;5;241m*\u001b[39mparameters)\n\u001b[1;32m    360\u001b[0m \u001b[38;5;28;01mif\u001b[39;00m \u001b[38;5;28mself\u001b[39m\u001b[38;5;241m.\u001b[39mdebug:\n\u001b[1;32m    361\u001b[0m     \u001b[38;5;28mself\u001b[39m\u001b[38;5;241m.\u001b[39mmodel_timings\u001b[38;5;241m.\u001b[39mappend(time\u001b[38;5;241m.\u001b[39mtime() \u001b[38;5;241m-\u001b[39m start)\n",
      "File \u001b[0;32m~/opt/anaconda3/envs/seasonality/lib/python3.11/site-packages/pyPhenology/models/thermaltime.py:53\u001b[0m, in \u001b[0;36mThermalTime._apply_model\u001b[0;34m(self, temperature, doy_series, t1, T, F)\u001b[0m\n\u001b[1;32m     49\u001b[0m temperature[doy_series \u001b[38;5;241m<\u001b[39m t1] \u001b[38;5;241m=\u001b[39m \u001b[38;5;241m0\u001b[39m\n\u001b[1;32m     51\u001b[0m accumulated_gdd \u001b[38;5;241m=\u001b[39m utils\u001b[38;5;241m.\u001b[39mtransforms\u001b[38;5;241m.\u001b[39mforcing_accumulator(temperature)\n\u001b[0;32m---> 53\u001b[0m \u001b[38;5;28;01mreturn\u001b[39;00m utils\u001b[38;5;241m.\u001b[39mtransforms\u001b[38;5;241m.\u001b[39mdoy_estimator(forcing\u001b[38;5;241m=\u001b[39maccumulated_gdd,\n\u001b[1;32m     54\u001b[0m                                       doy_series\u001b[38;5;241m=\u001b[39mdoy_series,\n\u001b[1;32m     55\u001b[0m                                       threshold\u001b[38;5;241m=\u001b[39mF)\n",
      "File \u001b[0;32m~/opt/anaconda3/envs/seasonality/lib/python3.11/site-packages/pyPhenology/models/utils/transforms.py:203\u001b[0m, in \u001b[0;36mdoy_estimator\u001b[0;34m(forcing, doy_series, threshold, non_prediction)\u001b[0m\n\u001b[1;32m    200\u001b[0m \u001b[38;5;66;03m# The index of the doy for each element where F was met\u001b[39;00m\n\u001b[1;32m    201\u001b[0m doy_with_threshold_met \u001b[38;5;241m=\u001b[39m np\u001b[38;5;241m.\u001b[39margmax(forcing \u001b[38;5;241m>\u001b[39m\u001b[38;5;241m=\u001b[39m threshold, axis\u001b[38;5;241m=\u001b[39m\u001b[38;5;241m0\u001b[39m)\n\u001b[0;32m--> 203\u001b[0m doy_final \u001b[38;5;241m=\u001b[39m np\u001b[38;5;241m.\u001b[39mtake(doy_series, doy_with_threshold_met)\n\u001b[1;32m    205\u001b[0m \u001b[38;5;28;01mreturn\u001b[39;00m doy_final\n",
      "File \u001b[0;32m~/opt/anaconda3/envs/seasonality/lib/python3.11/site-packages/numpy/core/fromnumeric.py:192\u001b[0m, in \u001b[0;36mtake\u001b[0;34m(a, indices, axis, out, mode)\u001b[0m\n\u001b[1;32m     95\u001b[0m \u001b[38;5;129m@array_function_dispatch\u001b[39m(_take_dispatcher)\n\u001b[1;32m     96\u001b[0m \u001b[38;5;28;01mdef\u001b[39;00m \u001b[38;5;21mtake\u001b[39m(a, indices, axis\u001b[38;5;241m=\u001b[39m\u001b[38;5;28;01mNone\u001b[39;00m, out\u001b[38;5;241m=\u001b[39m\u001b[38;5;28;01mNone\u001b[39;00m, mode\u001b[38;5;241m=\u001b[39m\u001b[38;5;124m'\u001b[39m\u001b[38;5;124mraise\u001b[39m\u001b[38;5;124m'\u001b[39m):\n\u001b[1;32m     97\u001b[0m     \u001b[38;5;124;03m\"\"\"\u001b[39;00m\n\u001b[1;32m     98\u001b[0m \u001b[38;5;124;03m    Take elements from an array along an axis.\u001b[39;00m\n\u001b[1;32m     99\u001b[0m \n\u001b[0;32m   (...)\u001b[0m\n\u001b[1;32m    190\u001b[0m \u001b[38;5;124;03m           [5, 7]])\u001b[39;00m\n\u001b[1;32m    191\u001b[0m \u001b[38;5;124;03m    \"\"\"\u001b[39;00m\n\u001b[0;32m--> 192\u001b[0m     \u001b[38;5;28;01mreturn\u001b[39;00m _wrapfunc(a, \u001b[38;5;124m'\u001b[39m\u001b[38;5;124mtake\u001b[39m\u001b[38;5;124m'\u001b[39m, indices, axis\u001b[38;5;241m=\u001b[39maxis, out\u001b[38;5;241m=\u001b[39mout, mode\u001b[38;5;241m=\u001b[39mmode)\n",
      "File \u001b[0;32m~/opt/anaconda3/envs/seasonality/lib/python3.11/site-packages/numpy/core/fromnumeric.py:59\u001b[0m, in \u001b[0;36m_wrapfunc\u001b[0;34m(obj, method, *args, **kwds)\u001b[0m\n\u001b[1;32m     56\u001b[0m     \u001b[38;5;28;01mreturn\u001b[39;00m _wrapit(obj, method, \u001b[38;5;241m*\u001b[39margs, \u001b[38;5;241m*\u001b[39m\u001b[38;5;241m*\u001b[39mkwds)\n\u001b[1;32m     58\u001b[0m \u001b[38;5;28;01mtry\u001b[39;00m:\n\u001b[0;32m---> 59\u001b[0m     \u001b[38;5;28;01mreturn\u001b[39;00m bound(\u001b[38;5;241m*\u001b[39margs, \u001b[38;5;241m*\u001b[39m\u001b[38;5;241m*\u001b[39mkwds)\n\u001b[1;32m     60\u001b[0m \u001b[38;5;28;01mexcept\u001b[39;00m \u001b[38;5;167;01mTypeError\u001b[39;00m:\n\u001b[1;32m     61\u001b[0m     \u001b[38;5;66;03m# A TypeError occurs if the object does have such a method in its\u001b[39;00m\n\u001b[1;32m     62\u001b[0m     \u001b[38;5;66;03m# class, but its signature is not identical to that of NumPy's. This\u001b[39;00m\n\u001b[0;32m   (...)\u001b[0m\n\u001b[1;32m     66\u001b[0m     \u001b[38;5;66;03m# Call _wrapit from within the except clause to ensure a potential\u001b[39;00m\n\u001b[1;32m     67\u001b[0m     \u001b[38;5;66;03m# exception has a traceback chain.\u001b[39;00m\n\u001b[1;32m     68\u001b[0m     \u001b[38;5;28;01mreturn\u001b[39;00m _wrapit(obj, method, \u001b[38;5;241m*\u001b[39margs, \u001b[38;5;241m*\u001b[39m\u001b[38;5;241m*\u001b[39mkwds)\n",
      "\u001b[0;31mKeyboardInterrupt\u001b[0m: "
     ]
    }
   ],
   "source": [
    "normal_training_euro = train_species_models(euro_observations, formatted_weather)"
   ]
  },
  {
   "cell_type": "code",
   "execution_count": 433,
   "id": "347da321",
   "metadata": {},
   "outputs": [
    {
     "data": {
      "text/html": [
       "<div>\n",
       "<style scoped>\n",
       "    .dataframe tbody tr th:only-of-type {\n",
       "        vertical-align: middle;\n",
       "    }\n",
       "\n",
       "    .dataframe tbody tr th {\n",
       "        vertical-align: top;\n",
       "    }\n",
       "\n",
       "    .dataframe thead th {\n",
       "        text-align: right;\n",
       "    }\n",
       "</style>\n",
       "<table border=\"1\" class=\"dataframe\">\n",
       "  <thead>\n",
       "    <tr style=\"text-align: right;\">\n",
       "      <th></th>\n",
       "      <th>site_id</th>\n",
       "      <th>latitude</th>\n",
       "      <th>doy</th>\n",
       "      <th>year</th>\n",
       "      <th>genus</th>\n",
       "      <th>lon_360</th>\n",
       "      <th>phenophase</th>\n",
       "      <th>formatted_sci_name</th>\n",
       "      <th>rounded_lat</th>\n",
       "      <th>rounded_lon</th>\n",
       "      <th>coordstring</th>\n",
       "    </tr>\n",
       "  </thead>\n",
       "  <tbody>\n",
       "    <tr>\n",
       "      <th>108121</th>\n",
       "      <td>464135</td>\n",
       "      <td>46.391279</td>\n",
       "      <td>216.0</td>\n",
       "      <td>2018.0</td>\n",
       "      <td>Rubus</td>\n",
       "      <td>13.478218</td>\n",
       "      <td>516</td>\n",
       "      <td>Rubus</td>\n",
       "      <td>46.4</td>\n",
       "      <td>13.5</td>\n",
       "      <td>46.413.5</td>\n",
       "    </tr>\n",
       "  </tbody>\n",
       "</table>\n",
       "</div>"
      ],
      "text/plain": [
       "       site_id   latitude    doy    year  genus    lon_360  phenophase  \\\n",
       "108121  464135  46.391279  216.0  2018.0  Rubus  13.478218         516   \n",
       "\n",
       "       formatted_sci_name  rounded_lat  rounded_lon coordstring  \n",
       "108121              Rubus         46.4         13.5    46.413.5  "
      ]
     },
     "execution_count": 433,
     "metadata": {},
     "output_type": "execute_result"
    }
   ],
   "source": [
    "euro_observations.query('formatted_sci_name == \"Rubus\"')"
   ]
  },
  {
   "cell_type": "code",
   "execution_count": 436,
   "id": "ecd66ff2",
   "metadata": {},
   "outputs": [
    {
     "data": {
      "text/html": [
       "<div>\n",
       "<style scoped>\n",
       "    .dataframe tbody tr th:only-of-type {\n",
       "        vertical-align: middle;\n",
       "    }\n",
       "\n",
       "    .dataframe tbody tr th {\n",
       "        vertical-align: top;\n",
       "    }\n",
       "\n",
       "    .dataframe thead th {\n",
       "        text-align: right;\n",
       "    }\n",
       "</style>\n",
       "<table border=\"1\" class=\"dataframe\">\n",
       "  <thead>\n",
       "    <tr style=\"text-align: right;\">\n",
       "      <th></th>\n",
       "      <th>site_id</th>\n",
       "      <th>latitude</th>\n",
       "      <th>doy</th>\n",
       "      <th>year</th>\n",
       "      <th>genus</th>\n",
       "      <th>lon_360</th>\n",
       "      <th>phenophase</th>\n",
       "      <th>formatted_sci_name</th>\n",
       "      <th>rounded_lat</th>\n",
       "      <th>rounded_lon</th>\n",
       "      <th>coordstring</th>\n",
       "    </tr>\n",
       "  </thead>\n",
       "  <tbody>\n",
       "    <tr>\n",
       "      <th>108121</th>\n",
       "      <td>464135</td>\n",
       "      <td>46.391279</td>\n",
       "      <td>216.0</td>\n",
       "      <td>2018.0</td>\n",
       "      <td>Rubus</td>\n",
       "      <td>13.478218</td>\n",
       "      <td>516</td>\n",
       "      <td>Rubus</td>\n",
       "      <td>46.4</td>\n",
       "      <td>13.5</td>\n",
       "      <td>46.413.5</td>\n",
       "    </tr>\n",
       "  </tbody>\n",
       "</table>\n",
       "</div>"
      ],
      "text/plain": [
       "       site_id   latitude    doy    year  genus    lon_360  phenophase  \\\n",
       "108121  464135  46.391279  216.0  2018.0  Rubus  13.478218         516   \n",
       "\n",
       "       formatted_sci_name  rounded_lat  rounded_lon coordstring  \n",
       "108121              Rubus         46.4         13.5    46.413.5  "
      ]
     },
     "execution_count": 436,
     "metadata": {},
     "output_type": "execute_result"
    }
   ],
   "source": [
    "euro_observations.query('site_id == \"464135\"')"
   ]
  },
  {
   "cell_type": "code",
   "execution_count": 41,
   "id": "e7cbf419",
   "metadata": {},
   "outputs": [
    {
     "data": {
      "text/html": [
       "<div>\n",
       "<style scoped>\n",
       "    .dataframe tbody tr th:only-of-type {\n",
       "        vertical-align: middle;\n",
       "    }\n",
       "\n",
       "    .dataframe tbody tr th {\n",
       "        vertical-align: top;\n",
       "    }\n",
       "\n",
       "    .dataframe thead th {\n",
       "        text-align: right;\n",
       "    }\n",
       "</style>\n",
       "<table border=\"1\" class=\"dataframe\">\n",
       "  <thead>\n",
       "    <tr style=\"text-align: right;\">\n",
       "      <th></th>\n",
       "      <th>temperature</th>\n",
       "      <th>year</th>\n",
       "      <th>doy</th>\n",
       "      <th>latitude</th>\n",
       "      <th>longitude</th>\n",
       "      <th>coordstring</th>\n",
       "      <th>site_id</th>\n",
       "    </tr>\n",
       "  </thead>\n",
       "  <tbody>\n",
       "  </tbody>\n",
       "</table>\n",
       "</div>"
      ],
      "text/plain": [
       "Empty DataFrame\n",
       "Columns: [temperature, year, doy, latitude, longitude, coordstring, site_id]\n",
       "Index: []"
      ]
     },
     "execution_count": 41,
     "metadata": {},
     "output_type": "execute_result"
    }
   ],
   "source": [
    "merged_euro.query('site_id == \"472114\" and year == 2022')"
   ]
  },
  {
   "cell_type": "code",
   "execution_count": 248,
   "id": "d9a8475b",
   "metadata": {
    "collapsed": true
   },
   "outputs": [
    {
     "name": "stderr",
     "output_type": "stream",
     "text": [
      "\r",
      "  0%|                                                                                                                                                                              | 0/95 [00:00<?, ?it/s]"
     ]
    },
    {
     "name": "stdout",
     "output_type": "stream",
     "text": [
      "Rubus\n",
      "running model ThermalTime\n"
     ]
    },
    {
     "name": "stderr",
     "output_type": "stream",
     "text": [
      "\r",
      "  0%|                                                                                                                                                                              | 0/95 [00:03<?, ?it/s]"
     ]
    },
    {
     "name": "stdout",
     "output_type": "stream",
     "text": [
      "<pyPhenology.models.thermaltime.ThermalTime object at 0x1e3674fd0>\n",
      "making predictions for model ThermalTime\n"
     ]
    },
    {
     "name": "stderr",
     "output_type": "stream",
     "text": [
      "\n"
     ]
    },
    {
     "ename": "ValueError",
     "evalue": "operands could not be broadcast together with shapes (30,) (0,) ",
     "output_type": "error",
     "traceback": [
      "\u001b[0;31m---------------------------------------------------------------------------\u001b[0m",
      "\u001b[0;31mValueError\u001b[0m                                Traceback (most recent call last)",
      "Cell \u001b[0;32mIn[248], line 1\u001b[0m\n\u001b[0;32m----> 1\u001b[0m normal_training \u001b[38;5;241m=\u001b[39m train_species_models(filtered_plants, merged_euro)\n\u001b[1;32m      2\u001b[0m aggressive_training \u001b[38;5;241m=\u001b[39m train_species_models(aggressive_filtered_plants, merged_euro)\n",
      "Cell \u001b[0;32mIn[247], line 31\u001b[0m, in \u001b[0;36mtrain_species_models\u001b[0;34m(full_plant_data, full_weather_data)\u001b[0m\n\u001b[1;32m     25\u001b[0m     \u001b[38;5;28mprint\u001b[39m(\u001b[38;5;124m\"\u001b[39m\u001b[38;5;124mNo test data for \u001b[39m\u001b[38;5;132;01m{}\u001b[39;00m\u001b[38;5;124m\"\u001b[39m\u001b[38;5;241m.\u001b[39mformat(s))\n\u001b[1;32m     26\u001b[0m     \u001b[38;5;66;03m#print(species_test_df)\u001b[39;00m\n\u001b[1;32m     27\u001b[0m     \n\u001b[1;32m     28\u001b[0m \u001b[38;5;66;03m#print(species_train_df, weather_training)\u001b[39;00m\n\u001b[1;32m     29\u001b[0m \u001b[38;5;66;03m#print(species_test_df, weather_test)\u001b[39;00m\n\u001b[0;32m---> 31\u001b[0m predictions \u001b[38;5;241m=\u001b[39m train_ripeness_small(species_train_df, weather_training,\n\u001b[1;32m     32\u001b[0m                     species_test_df, weather_test)\n\u001b[1;32m     34\u001b[0m \u001b[38;5;28;01mbreak\u001b[39;00m\n\u001b[1;32m     36\u001b[0m species_prediction_dict[s] \u001b[38;5;241m=\u001b[39m predictions\n",
      "Cell \u001b[0;32mIn[59], line 40\u001b[0m, in \u001b[0;36mtrain_ripeness_small\u001b[0;34m(observations, predictors, test_observations, test_predictors, model_name)\u001b[0m\n\u001b[1;32m     36\u001b[0m test_days \u001b[38;5;241m=\u001b[39m test_observations\u001b[38;5;241m.\u001b[39mdoy\u001b[38;5;241m.\u001b[39mvalues\n\u001b[1;32m     37\u001b[0m \u001b[38;5;66;03m#print(test_days)\u001b[39;00m\n\u001b[1;32m     38\u001b[0m \n\u001b[1;32m     39\u001b[0m \u001b[38;5;66;03m# Various error types\u001b[39;00m\n\u001b[0;32m---> 40\u001b[0m model_mae \u001b[38;5;241m=\u001b[39m mae(test_days, preds)\n\u001b[1;32m     41\u001b[0m model_rmse \u001b[38;5;241m=\u001b[39m rmse(test_days, preds)\n\u001b[1;32m     42\u001b[0m median_error \u001b[38;5;241m=\u001b[39m np\u001b[38;5;241m.\u001b[39mmedian(np\u001b[38;5;241m.\u001b[39mabs(test_days \u001b[38;5;241m-\u001b[39m preds))\n",
      "File \u001b[0;32m~/Documents/DFG_2023/dfg-seasons/modelling/model_helpers.py:45\u001b[0m, in \u001b[0;36mmae\u001b[0;34m(y1, y2)\u001b[0m\n\u001b[1;32m     44\u001b[0m \u001b[38;5;28;01mdef\u001b[39;00m \u001b[38;5;21mmae\u001b[39m(y1, y2):\n\u001b[0;32m---> 45\u001b[0m         \u001b[38;5;28;01mreturn\u001b[39;00m np\u001b[38;5;241m.\u001b[39mmean(np\u001b[38;5;241m.\u001b[39mabs(y1 \u001b[38;5;241m-\u001b[39m y2))\n",
      "\u001b[0;31mValueError\u001b[0m: operands could not be broadcast together with shapes (30,) (0,) "
     ]
    }
   ],
   "source": [
    "normal_training = train_species_models(filtered_plants, merged_euro)\n",
    "aggressive_training = train_species_models(aggressive_filtered_plants, merged_euro)"
   ]
  },
  {
   "cell_type": "markdown",
   "id": "ef1797af",
   "metadata": {},
   "source": [
    "# Model Scoring and Validation"
   ]
  },
  {
   "cell_type": "code",
   "execution_count": 61,
   "id": "a3da17bc",
   "metadata": {
    "collapsed": true
   },
   "outputs": [
    {
     "name": "stdout",
     "output_type": "stream",
     "text": [
      "Rubus 9.5\n",
      "Rubus occidentalis 6.0\n",
      "Ficus 18.0\n",
      "Ficus carica 13.0\n",
      "Ficus citrifolia 39.5\n",
      "Ficus macrophylla 7.0\n",
      "Olea europaea 45.5\n",
      "Olea europea 17.5\n",
      "Olea 32.0\n",
      "Morus rubra 15.5\n",
      "Morus 15.5\n",
      "Morus macroura 35.0\n",
      "Morus alba 7.0\n",
      "Morus nigra 11.5\n",
      "Morus australis 19.0\n",
      "Amelanchier alnifolia 9.0\n",
      "Amelanchier arborea 28.0\n",
      "Amelanchier canadensis 14.0\n",
      "Amelanchier grandiflora 12.5\n",
      "Amelanchier laevis 13.0\n",
      "Amelanchier utahensis 30.875\n",
      "Amelanchier 11.5\n",
      "Citrus 111.0\n",
      "Citrus jambhiri 3.0\n",
      "Citrus limon 63.0\n",
      "Rubus idaeus 14.5\n",
      "Rubus hayata 10.0\n",
      "Rubus phoenicolasius 10.0\n",
      "Rubus rolfei 11.0\n",
      "Citrus aurantium 13.5\n",
      "Citrus sinensis 26.0\n",
      "Prunus americana 37.0\n",
      "Prunus domestica 15.0\n",
      "Prunus maritima 14.5\n",
      "Prunus nigra 55.0\n",
      "Prunus cerasifera 13.5\n",
      "Prunus 29.0\n",
      "Prunus angustifolia 25.0\n",
      "Prunus cocomilia 13.0\n",
      "Prunus salicina 32.0\n",
      "Prunus subcordata 8.0\n",
      "Prunus mexicana 8.5\n",
      "Prunus rivularis 11.0\n",
      "Eriobotrya japonica 49.0\n",
      "Malus sieboldii 56.0\n",
      "Malus 32.0\n",
      "Malus pumila 24.0\n",
      "Malus domestica 9.5\n",
      "Malus sylvestris 14.0\n",
      "Malus coronaria 41.0\n",
      "Malus ' 8.0\n",
      "Malus sieversii 19.0\n",
      "Malus baccata 26.5\n",
      "Malus ioensis 13.0\n",
      "Malus hupehensis 34.0\n",
      "Malus tschonoskii 0.0\n",
      "Malus angustifolia 11.0\n",
      "Rosmarinus officinalis 90.0\n",
      "Juglans 16.5\n",
      "Juglans regia 62.0\n",
      "Juglans cinerea 1.0\n",
      "Juglans hindsii 24.0\n",
      "Juglans major 12.0\n",
      "Juglans nigra 16.0\n",
      "Prunus serotina 13.0\n",
      "Prunus virginiana 15.5\n",
      "Prunus yedoensis 21.0\n",
      "Prunus ilicifolia 65.0\n",
      "Prunus cerasus 26.0\n",
      "Prunus emarginata 11.422222222222217\n",
      "Prunus pensylvanica 18.0\n",
      "Prunus laurocerasus 7.625\n",
      "Prunus serrulata 9.0\n",
      "Prunus avium 6.5\n",
      "Cornus mas 32.0\n",
      "Ehretia tinifolia 5.0\n",
      "Elaeagnus multiflora 1.0\n",
      "Prunus fruticosa 61.0\n",
      "Prunus maackii 13.0\n",
      "Prunus padus 4.0\n",
      "Prunus tomentosa 28.5\n",
      "Diospyros virginiana 16.0\n",
      "Diospyros 36.0\n",
      "Diospyros kaki 18.0\n",
      "Pyrus communis 31.5\n",
      "Pyrus 21.0\n",
      "Pyrus amygdaliformis 4.0\n",
      "Pyrus pyraster 10.0\n",
      "Pyrus pyrifolia 31.0\n"
     ]
    }
   ],
   "source": [
    "for s in species_prediction_dict.keys():\n",
    "    print(s, species_prediction_dict[s]['Median Error'])"
   ]
  },
  {
   "cell_type": "markdown",
   "id": "d7f50d25",
   "metadata": {},
   "source": [
    "TODO for tomorrow: figure out why it's still defaulting to monthly instead of taking some euro data. "
   ]
  },
  {
   "cell_type": "code",
   "execution_count": 74,
   "id": "77d8d177",
   "metadata": {},
   "outputs": [],
   "source": [
    "# gets a list of all the prediction dataframes from the species model\n",
    "df_list = [i['prediction_df'] for i in species_prediction_dict.values()]\n",
    "\n",
    "full_prediction_df = pd.concat(df_list)\n",
    "\n",
    "full_prediction_df['abs_error'] = np.abs(full_prediction_df['doy'] - full_prediction_df['flowering_day'])"
   ]
  },
  {
   "cell_type": "code",
   "execution_count": 114,
   "id": "89b7c44d",
   "metadata": {},
   "outputs": [],
   "source": [
    "## STATS\n",
    "\n",
    "# get confidence intervals for species\n",
    "\n",
    "def calc_confidence_interval():\n",
    "    pass\n",
    "\n",
    "def score_model(prediction_df):\n",
    "    observed = prediction_df['doy']\n",
    "    predicted = prediction_df['flowering_day']\n",
    "    \n",
    "    median_err = np.median(prediction_df['abs_error'])\n",
    "    std = np.std(prediction_df['abs_error'])\n",
    "    \n",
    "    # MAE, RMSE, median\n",
    "    print(\"Error metrics:\")\n",
    "    print(\"MAE:\", mae(observed, predicted))\n",
    "    print(\"RMSE:\", rmse(observed, predicted))\n",
    "    print(\"Median Absolute Error:\", median_err)\n",
    "    \n",
    "    # portion of errors under the median\n",
    "    print(\"Median portion (median error = {})\".format(median_err))\n",
    "    print(len(prediction_df.query('abs_error < {}'.format(median_err))) / len(prediction_df))\n",
    "    \n",
    "    # portion of errors under the SD\n",
    "    print(\"SD portion (SD = {})\".format(std))\n",
    "    print(len(prediction_df.query('abs_error < {}'.format(std))) / len(prediction_df))\n",
    "    \n",
    "    print(\"Month threshold:\")\n",
    "    print(len(prediction_df.query('abs_error < 30')) / len(prediction_df))\n",
    "\n",
    "    # \n",
    "    print(\"2 * SD portion (2SD = {})\".format(2 * std))\n",
    "    print(len(prediction_df.query('abs_error < {}'.format(2 * std))) / len(prediction_df))\n",
    "    \n",
    "\n",
    "# get how \"good\" one sample is compared to the whole sample\n",
    "def calc_error_percentile(sample, full_sample):\n",
    "    sample_median = np.median(sample['abs_error'])\n",
    "    \n",
    "    print(sample_median)\n",
    "    print(1 - len(full_sample.query('abs_error < {}'.format(sample_median))) / len(full_sample))"
   ]
  },
  {
   "cell_type": "code",
   "execution_count": 99,
   "id": "208004b9",
   "metadata": {
    "collapsed": true
   },
   "outputs": [
    {
     "name": "stdout",
     "output_type": "stream",
     "text": [
      "Rubus\n",
      "10.0\n",
      "0.6075816075816076\n",
      "Ficus\n",
      "16.0\n",
      "0.44120744120744115\n",
      "Olea\n",
      "41.0\n",
      "0.14215514215514213\n",
      "Morus\n",
      "13.0\n",
      "0.5135135135135135\n",
      "Amelanchier\n",
      "13.0\n",
      "0.5135135135135135\n",
      "Citrus\n",
      "110.0\n",
      "0.02211302211302213\n",
      "Prunus\n",
      "19.0\n",
      "0.3783783783783784\n",
      "Eriobotrya\n",
      "49.0\n",
      "0.10810810810810811\n",
      "Malus\n",
      "30.0\n",
      "0.23727623727623726\n",
      "Rosmarinus\n",
      "90.0\n",
      "0.03404703404703402\n",
      "Juglans\n",
      "16.0\n",
      "0.44120744120744115\n",
      "Cornus\n",
      "32.0\n",
      "0.2169182169182169\n",
      "Diospyros\n",
      "17.5\n",
      "0.40400140400140405\n",
      "Pyrus\n",
      "28.0\n",
      "0.2628992628992629\n"
     ]
    }
   ],
   "source": [
    "for g in full_prediction_df['genus'].dropna().unique():\n",
    "    g_df = full_prediction_df[full_prediction_df['genus'] == g]\n",
    "    print(g)\n",
    "    calc_error_percentile(g_df, full_prediction_df)"
   ]
  },
  {
   "cell_type": "code",
   "execution_count": 115,
   "id": "3c01de47",
   "metadata": {},
   "outputs": [
    {
     "name": "stdout",
     "output_type": "stream",
     "text": [
      "Error metrics:\n",
      "MAE: 21.891178292476994\n",
      "RMSE: 34.257129283602936\n",
      "Median Absolute Error: 13.0\n",
      "Median portion (median error = 13.0)\n",
      "0.4864864864864865\n",
      "SD portion (SD = 26.35008955811099)\n",
      "0.7237627237627238\n",
      "Month threshold:\n",
      "0.7627237627237627\n",
      "2 * SD portion (2SD = 52.70017911622198)\n",
      "0.9143559143559143\n"
     ]
    }
   ],
   "source": [
    "score_model(full_prediction_df)"
   ]
  },
  {
   "cell_type": "code",
   "execution_count": 85,
   "id": "7189033e",
   "metadata": {},
   "outputs": [
    {
     "data": {
      "text/plain": [
       "26.35008955811099"
      ]
     },
     "execution_count": 85,
     "metadata": {},
     "output_type": "execute_result"
    }
   ],
   "source": [
    "np.std(full_prediction_df['abs_error'])"
   ]
  },
  {
   "cell_type": "code",
   "execution_count": 86,
   "id": "aa938a73",
   "metadata": {},
   "outputs": [
    {
     "data": {
      "text/plain": [
       "(array([470., 425., 304., 309., 200., 180., 106., 135., 102., 114.,  74.,\n",
       "         57.,  38.,  56.,  45.,  22.,  24.,  15.,  17.,  10.,  17.,  11.,\n",
       "          8.,   9.,   2.,  14.,   5.,   6.,   6.,   3.,   5.,  11.,   1.,\n",
       "          0.,   6.,   0.,   1.,   1.,   6.,   8.,   0.,   1.,   6.,   2.,\n",
       "          2.,   4.,   2.,   2.,   2.,   1.,   0.,   1.,   0.,   0.,   0.,\n",
       "          0.,   1.,   0.,   0.,   2.]),\n",
       " array([  0.  ,   3.55,   7.1 ,  10.65,  14.2 ,  17.75,  21.3 ,  24.85,\n",
       "         28.4 ,  31.95,  35.5 ,  39.05,  42.6 ,  46.15,  49.7 ,  53.25,\n",
       "         56.8 ,  60.35,  63.9 ,  67.45,  71.  ,  74.55,  78.1 ,  81.65,\n",
       "         85.2 ,  88.75,  92.3 ,  95.85,  99.4 , 102.95, 106.5 , 110.05,\n",
       "        113.6 , 117.15, 120.7 , 124.25, 127.8 , 131.35, 134.9 , 138.45,\n",
       "        142.  , 145.55, 149.1 , 152.65, 156.2 , 159.75, 163.3 , 166.85,\n",
       "        170.4 , 173.95, 177.5 , 181.05, 184.6 , 188.15, 191.7 , 195.25,\n",
       "        198.8 , 202.35, 205.9 , 209.45, 213.  ]),\n",
       " <BarContainer object of 60 artists>)"
      ]
     },
     "execution_count": 86,
     "metadata": {},
     "output_type": "execute_result"
    },
    {
     "data": {
      "image/png": "[encoded data removed]",
      "text/plain": [
       "<Figure size 432x288 with 1 Axes>"
      ]
     },
     "metadata": {
      "needs_background": "light"
     },
     "output_type": "display_data"
    }
   ],
   "source": [
    "plt.hist(full_prediction_df['abs_error'], bins=60)"
   ]
  },
  {
   "cell_type": "code",
   "execution_count": 102,
   "id": "a7a7cdbc",
   "metadata": {
    "collapsed": true
   },
   "outputs": [
    {
     "data": {
      "text/html": [
       "<div>\n",
       "<style scoped>\n",
       "    .dataframe tbody tr th:only-of-type {\n",
       "        vertical-align: middle;\n",
       "    }\n",
       "\n",
       "    .dataframe tbody tr th {\n",
       "        vertical-align: top;\n",
       "    }\n",
       "\n",
       "    .dataframe thead th {\n",
       "        text-align: right;\n",
       "    }\n",
       "</style>\n",
       "<table border=\"1\" class=\"dataframe\">\n",
       "  <thead>\n",
       "    <tr style=\"text-align: right;\">\n",
       "      <th></th>\n",
       "      <th>site_id</th>\n",
       "      <th>latitude</th>\n",
       "      <th>doy</th>\n",
       "      <th>year</th>\n",
       "      <th>genus</th>\n",
       "      <th>lon_360</th>\n",
       "      <th>phenophase</th>\n",
       "      <th>formatted_sci_name</th>\n",
       "      <th>rounded_lat</th>\n",
       "      <th>rounded_lon</th>\n",
       "      <th>flowering_day</th>\n",
       "      <th>abs_error</th>\n",
       "    </tr>\n",
       "  </thead>\n",
       "  <tbody>\n",
       "    <tr>\n",
       "      <th>36</th>\n",
       "      <td>8</td>\n",
       "      <td>39.910755</td>\n",
       "      <td>62.0</td>\n",
       "      <td>2022.0</td>\n",
       "      <td>Diospyros</td>\n",
       "      <td>273.575810</td>\n",
       "      <td>516.0</td>\n",
       "      <td>Diospyros virginiana</td>\n",
       "      <td>39.9</td>\n",
       "      <td>273.6</td>\n",
       "      <td>275</td>\n",
       "      <td>213.0</td>\n",
       "    </tr>\n",
       "    <tr>\n",
       "      <th>50</th>\n",
       "      <td>2</td>\n",
       "      <td>38.376015</td>\n",
       "      <td>63.0</td>\n",
       "      <td>2022.0</td>\n",
       "      <td>Malus</td>\n",
       "      <td>237.491870</td>\n",
       "      <td>516.0</td>\n",
       "      <td>Malus sieboldii</td>\n",
       "      <td>38.4</td>\n",
       "      <td>237.5</td>\n",
       "      <td>275</td>\n",
       "      <td>212.0</td>\n",
       "    </tr>\n",
       "    <tr>\n",
       "      <th>46</th>\n",
       "      <td>8</td>\n",
       "      <td>39.910755</td>\n",
       "      <td>75.0</td>\n",
       "      <td>2022.0</td>\n",
       "      <td>Diospyros</td>\n",
       "      <td>273.575810</td>\n",
       "      <td>516.0</td>\n",
       "      <td>Diospyros virginiana</td>\n",
       "      <td>39.9</td>\n",
       "      <td>273.6</td>\n",
       "      <td>275</td>\n",
       "      <td>200.0</td>\n",
       "    </tr>\n",
       "    <tr>\n",
       "      <th>542</th>\n",
       "      <td>34</td>\n",
       "      <td>43.008286</td>\n",
       "      <td>63.0</td>\n",
       "      <td>2022.0</td>\n",
       "      <td>Malus</td>\n",
       "      <td>281.216940</td>\n",
       "      <td>516.0</td>\n",
       "      <td>Malus</td>\n",
       "      <td>43.0</td>\n",
       "      <td>281.2</td>\n",
       "      <td>245</td>\n",
       "      <td>182.0</td>\n",
       "    </tr>\n",
       "    <tr>\n",
       "      <th>182</th>\n",
       "      <td>1824168</td>\n",
       "      <td>32.078188</td>\n",
       "      <td>357.0</td>\n",
       "      <td>2022.0</td>\n",
       "      <td>Citrus</td>\n",
       "      <td>34.802053</td>\n",
       "      <td>516.0</td>\n",
       "      <td>Citrus</td>\n",
       "      <td>32.1</td>\n",
       "      <td>34.8</td>\n",
       "      <td>183</td>\n",
       "      <td>174.0</td>\n",
       "    </tr>\n",
       "    <tr>\n",
       "      <th>193</th>\n",
       "      <td>1824165</td>\n",
       "      <td>32.026304</td>\n",
       "      <td>356.0</td>\n",
       "      <td>2022.0</td>\n",
       "      <td>Citrus</td>\n",
       "      <td>278.925524</td>\n",
       "      <td>516.0</td>\n",
       "      <td>Citrus</td>\n",
       "      <td>32.0</td>\n",
       "      <td>278.9</td>\n",
       "      <td>183</td>\n",
       "      <td>173.0</td>\n",
       "    </tr>\n",
       "    <tr>\n",
       "      <th>492</th>\n",
       "      <td>4</td>\n",
       "      <td>34.051340</td>\n",
       "      <td>73.0</td>\n",
       "      <td>2022.0</td>\n",
       "      <td>Olea</td>\n",
       "      <td>241.796875</td>\n",
       "      <td>516.0</td>\n",
       "      <td>Olea europaea</td>\n",
       "      <td>34.1</td>\n",
       "      <td>241.8</td>\n",
       "      <td>245</td>\n",
       "      <td>172.0</td>\n",
       "    </tr>\n",
       "    <tr>\n",
       "      <th>98</th>\n",
       "      <td>1823026</td>\n",
       "      <td>33.922294</td>\n",
       "      <td>289.0</td>\n",
       "      <td>2022.0</td>\n",
       "      <td>Eriobotrya</td>\n",
       "      <td>241.593083</td>\n",
       "      <td>516.0</td>\n",
       "      <td>Eriobotrya japonica</td>\n",
       "      <td>33.9</td>\n",
       "      <td>241.6</td>\n",
       "      <td>122</td>\n",
       "      <td>167.0</td>\n",
       "    </tr>\n",
       "    <tr>\n",
       "      <th>324869</th>\n",
       "      <td>3096</td>\n",
       "      <td>39.997452</td>\n",
       "      <td>108.0</td>\n",
       "      <td>2022.0</td>\n",
       "      <td>Malus</td>\n",
       "      <td>254.717300</td>\n",
       "      <td>516.0</td>\n",
       "      <td>Malus pumila</td>\n",
       "      <td>40.0</td>\n",
       "      <td>254.7</td>\n",
       "      <td>275</td>\n",
       "      <td>167.0</td>\n",
       "    </tr>\n",
       "    <tr>\n",
       "      <th>413</th>\n",
       "      <td>1824101</td>\n",
       "      <td>32.056094</td>\n",
       "      <td>349.0</td>\n",
       "      <td>2022.0</td>\n",
       "      <td>Citrus</td>\n",
       "      <td>34.799296</td>\n",
       "      <td>516.0</td>\n",
       "      <td>Citrus</td>\n",
       "      <td>32.1</td>\n",
       "      <td>34.8</td>\n",
       "      <td>183</td>\n",
       "      <td>166.0</td>\n",
       "    </tr>\n",
       "    <tr>\n",
       "      <th>412</th>\n",
       "      <td>1824100</td>\n",
       "      <td>32.055767</td>\n",
       "      <td>349.0</td>\n",
       "      <td>2022.0</td>\n",
       "      <td>Citrus</td>\n",
       "      <td>34.799269</td>\n",
       "      <td>516.0</td>\n",
       "      <td>Citrus</td>\n",
       "      <td>32.1</td>\n",
       "      <td>34.8</td>\n",
       "      <td>183</td>\n",
       "      <td>166.0</td>\n",
       "    </tr>\n",
       "    <tr>\n",
       "      <th>171</th>\n",
       "      <td>1824020</td>\n",
       "      <td>32.058087</td>\n",
       "      <td>345.0</td>\n",
       "      <td>2022.0</td>\n",
       "      <td>Rosmarinus</td>\n",
       "      <td>34.797155</td>\n",
       "      <td>516.0</td>\n",
       "      <td>Rosmarinus officinalis</td>\n",
       "      <td>32.1</td>\n",
       "      <td>34.8</td>\n",
       "      <td>183</td>\n",
       "      <td>162.0</td>\n",
       "    </tr>\n",
       "    <tr>\n",
       "      <th>153</th>\n",
       "      <td>1822871</td>\n",
       "      <td>32.068332</td>\n",
       "      <td>345.0</td>\n",
       "      <td>2022.0</td>\n",
       "      <td>Citrus</td>\n",
       "      <td>34.800376</td>\n",
       "      <td>516.0</td>\n",
       "      <td>Citrus</td>\n",
       "      <td>32.1</td>\n",
       "      <td>34.8</td>\n",
       "      <td>183</td>\n",
       "      <td>162.0</td>\n",
       "    </tr>\n",
       "    <tr>\n",
       "      <th>324371</th>\n",
       "      <td>1808870</td>\n",
       "      <td>48.671255</td>\n",
       "      <td>85.0</td>\n",
       "      <td>2022.0</td>\n",
       "      <td>Malus</td>\n",
       "      <td>6.141090</td>\n",
       "      <td>516.0</td>\n",
       "      <td>Malus</td>\n",
       "      <td>48.7</td>\n",
       "      <td>6.1</td>\n",
       "      <td>245</td>\n",
       "      <td>160.0</td>\n",
       "    </tr>\n",
       "    <tr>\n",
       "      <th>176</th>\n",
       "      <td>1824016</td>\n",
       "      <td>32.062203</td>\n",
       "      <td>343.0</td>\n",
       "      <td>2022.0</td>\n",
       "      <td>Citrus</td>\n",
       "      <td>34.798322</td>\n",
       "      <td>516.0</td>\n",
       "      <td>Citrus</td>\n",
       "      <td>32.1</td>\n",
       "      <td>34.8</td>\n",
       "      <td>183</td>\n",
       "      <td>160.0</td>\n",
       "    </tr>\n",
       "    <tr>\n",
       "      <th>175</th>\n",
       "      <td>1824000</td>\n",
       "      <td>32.062792</td>\n",
       "      <td>340.0</td>\n",
       "      <td>2022.0</td>\n",
       "      <td>Citrus</td>\n",
       "      <td>34.802305</td>\n",
       "      <td>516.0</td>\n",
       "      <td>Citrus</td>\n",
       "      <td>32.1</td>\n",
       "      <td>34.8</td>\n",
       "      <td>183</td>\n",
       "      <td>157.0</td>\n",
       "    </tr>\n",
       "    <tr>\n",
       "      <th>104</th>\n",
       "      <td>1823999</td>\n",
       "      <td>32.063890</td>\n",
       "      <td>340.0</td>\n",
       "      <td>2022.0</td>\n",
       "      <td>Citrus</td>\n",
       "      <td>34.798299</td>\n",
       "      <td>516.0</td>\n",
       "      <td>Citrus</td>\n",
       "      <td>32.1</td>\n",
       "      <td>34.8</td>\n",
       "      <td>183</td>\n",
       "      <td>157.0</td>\n",
       "    </tr>\n",
       "    <tr>\n",
       "      <th>109</th>\n",
       "      <td>1823971</td>\n",
       "      <td>32.062489</td>\n",
       "      <td>338.0</td>\n",
       "      <td>2022.0</td>\n",
       "      <td>Citrus</td>\n",
       "      <td>34.802367</td>\n",
       "      <td>516.0</td>\n",
       "      <td>Citrus</td>\n",
       "      <td>32.1</td>\n",
       "      <td>34.8</td>\n",
       "      <td>183</td>\n",
       "      <td>155.0</td>\n",
       "    </tr>\n",
       "    <tr>\n",
       "      <th>174</th>\n",
       "      <td>1823972</td>\n",
       "      <td>32.062656</td>\n",
       "      <td>338.0</td>\n",
       "      <td>2022.0</td>\n",
       "      <td>Citrus</td>\n",
       "      <td>34.802191</td>\n",
       "      <td>516.0</td>\n",
       "      <td>Citrus</td>\n",
       "      <td>32.1</td>\n",
       "      <td>34.8</td>\n",
       "      <td>183</td>\n",
       "      <td>155.0</td>\n",
       "    </tr>\n",
       "    <tr>\n",
       "      <th>306</th>\n",
       "      <td>30</td>\n",
       "      <td>42.716637</td>\n",
       "      <td>124.0</td>\n",
       "      <td>2022.0</td>\n",
       "      <td>Malus</td>\n",
       "      <td>286.247665</td>\n",
       "      <td>516.0</td>\n",
       "      <td>Malus sieboldii</td>\n",
       "      <td>42.7</td>\n",
       "      <td>286.2</td>\n",
       "      <td>275</td>\n",
       "      <td>151.0</td>\n",
       "    </tr>\n",
       "    <tr>\n",
       "      <th>171</th>\n",
       "      <td>1823892</td>\n",
       "      <td>32.064837</td>\n",
       "      <td>333.0</td>\n",
       "      <td>2022.0</td>\n",
       "      <td>Citrus</td>\n",
       "      <td>34.807219</td>\n",
       "      <td>516.0</td>\n",
       "      <td>Citrus</td>\n",
       "      <td>32.1</td>\n",
       "      <td>34.8</td>\n",
       "      <td>183</td>\n",
       "      <td>150.0</td>\n",
       "    </tr>\n",
       "    <tr>\n",
       "      <th>173</th>\n",
       "      <td>1823898</td>\n",
       "      <td>32.063346</td>\n",
       "      <td>333.0</td>\n",
       "      <td>2022.0</td>\n",
       "      <td>Citrus</td>\n",
       "      <td>34.809344</td>\n",
       "      <td>516.0</td>\n",
       "      <td>Citrus</td>\n",
       "      <td>32.1</td>\n",
       "      <td>34.8</td>\n",
       "      <td>183</td>\n",
       "      <td>150.0</td>\n",
       "    </tr>\n",
       "    <tr>\n",
       "      <th>172</th>\n",
       "      <td>1823893</td>\n",
       "      <td>32.064512</td>\n",
       "      <td>333.0</td>\n",
       "      <td>2022.0</td>\n",
       "      <td>Citrus</td>\n",
       "      <td>34.807586</td>\n",
       "      <td>516.0</td>\n",
       "      <td>Citrus</td>\n",
       "      <td>32.1</td>\n",
       "      <td>34.8</td>\n",
       "      <td>183</td>\n",
       "      <td>150.0</td>\n",
       "    </tr>\n",
       "    <tr>\n",
       "      <th>108</th>\n",
       "      <td>1823902</td>\n",
       "      <td>32.063275</td>\n",
       "      <td>333.0</td>\n",
       "      <td>2022.0</td>\n",
       "      <td>Citrus</td>\n",
       "      <td>34.807901</td>\n",
       "      <td>516.0</td>\n",
       "      <td>Citrus</td>\n",
       "      <td>32.1</td>\n",
       "      <td>34.8</td>\n",
       "      <td>183</td>\n",
       "      <td>150.0</td>\n",
       "    </tr>\n",
       "    <tr>\n",
       "      <th>107</th>\n",
       "      <td>1823899</td>\n",
       "      <td>32.063952</td>\n",
       "      <td>333.0</td>\n",
       "      <td>2022.0</td>\n",
       "      <td>Citrus</td>\n",
       "      <td>34.807614</td>\n",
       "      <td>516.0</td>\n",
       "      <td>Citrus</td>\n",
       "      <td>32.1</td>\n",
       "      <td>34.8</td>\n",
       "      <td>183</td>\n",
       "      <td>150.0</td>\n",
       "    </tr>\n",
       "    <tr>\n",
       "      <th>106</th>\n",
       "      <td>1823847</td>\n",
       "      <td>32.064916</td>\n",
       "      <td>330.0</td>\n",
       "      <td>2022.0</td>\n",
       "      <td>Citrus</td>\n",
       "      <td>34.804471</td>\n",
       "      <td>516.0</td>\n",
       "      <td>Citrus</td>\n",
       "      <td>32.1</td>\n",
       "      <td>34.8</td>\n",
       "      <td>183</td>\n",
       "      <td>147.0</td>\n",
       "    </tr>\n",
       "    <tr>\n",
       "      <th>167</th>\n",
       "      <td>1823783</td>\n",
       "      <td>32.066431</td>\n",
       "      <td>323.0</td>\n",
       "      <td>2022.0</td>\n",
       "      <td>Citrus</td>\n",
       "      <td>34.801080</td>\n",
       "      <td>516.0</td>\n",
       "      <td>Citrus</td>\n",
       "      <td>32.1</td>\n",
       "      <td>34.8</td>\n",
       "      <td>183</td>\n",
       "      <td>140.0</td>\n",
       "    </tr>\n",
       "    <tr>\n",
       "      <th>169</th>\n",
       "      <td>1823786</td>\n",
       "      <td>32.066700</td>\n",
       "      <td>323.0</td>\n",
       "      <td>2022.0</td>\n",
       "      <td>Citrus</td>\n",
       "      <td>34.801772</td>\n",
       "      <td>516.0</td>\n",
       "      <td>Citrus</td>\n",
       "      <td>32.1</td>\n",
       "      <td>34.8</td>\n",
       "      <td>183</td>\n",
       "      <td>140.0</td>\n",
       "    </tr>\n",
       "    <tr>\n",
       "      <th>105</th>\n",
       "      <td>1823787</td>\n",
       "      <td>32.066792</td>\n",
       "      <td>323.0</td>\n",
       "      <td>2022.0</td>\n",
       "      <td>Citrus</td>\n",
       "      <td>34.801737</td>\n",
       "      <td>516.0</td>\n",
       "      <td>Citrus</td>\n",
       "      <td>32.1</td>\n",
       "      <td>34.8</td>\n",
       "      <td>183</td>\n",
       "      <td>140.0</td>\n",
       "    </tr>\n",
       "    <tr>\n",
       "      <th>166</th>\n",
       "      <td>1823774</td>\n",
       "      <td>32.066141</td>\n",
       "      <td>323.0</td>\n",
       "      <td>2022.0</td>\n",
       "      <td>Citrus</td>\n",
       "      <td>34.799907</td>\n",
       "      <td>516.0</td>\n",
       "      <td>Citrus</td>\n",
       "      <td>32.1</td>\n",
       "      <td>34.8</td>\n",
       "      <td>183</td>\n",
       "      <td>140.0</td>\n",
       "    </tr>\n",
       "    <tr>\n",
       "      <th>165</th>\n",
       "      <td>1823771</td>\n",
       "      <td>32.065201</td>\n",
       "      <td>323.0</td>\n",
       "      <td>2022.0</td>\n",
       "      <td>Citrus</td>\n",
       "      <td>34.798682</td>\n",
       "      <td>516.0</td>\n",
       "      <td>Citrus</td>\n",
       "      <td>32.1</td>\n",
       "      <td>34.8</td>\n",
       "      <td>183</td>\n",
       "      <td>140.0</td>\n",
       "    </tr>\n",
       "    <tr>\n",
       "      <th>170</th>\n",
       "      <td>1823789</td>\n",
       "      <td>32.065146</td>\n",
       "      <td>323.0</td>\n",
       "      <td>2022.0</td>\n",
       "      <td>Citrus</td>\n",
       "      <td>34.803870</td>\n",
       "      <td>516.0</td>\n",
       "      <td>Citrus</td>\n",
       "      <td>32.1</td>\n",
       "      <td>34.8</td>\n",
       "      <td>183</td>\n",
       "      <td>140.0</td>\n",
       "    </tr>\n",
       "    <tr>\n",
       "      <th>168</th>\n",
       "      <td>1823785</td>\n",
       "      <td>32.066633</td>\n",
       "      <td>323.0</td>\n",
       "      <td>2022.0</td>\n",
       "      <td>Citrus</td>\n",
       "      <td>34.801292</td>\n",
       "      <td>516.0</td>\n",
       "      <td>Citrus</td>\n",
       "      <td>32.1</td>\n",
       "      <td>34.8</td>\n",
       "      <td>183</td>\n",
       "      <td>140.0</td>\n",
       "    </tr>\n",
       "    <tr>\n",
       "      <th>170</th>\n",
       "      <td>1823788</td>\n",
       "      <td>32.065718</td>\n",
       "      <td>323.0</td>\n",
       "      <td>2022.0</td>\n",
       "      <td>Rosmarinus</td>\n",
       "      <td>34.803779</td>\n",
       "      <td>516.0</td>\n",
       "      <td>Rosmarinus officinalis</td>\n",
       "      <td>32.1</td>\n",
       "      <td>34.8</td>\n",
       "      <td>183</td>\n",
       "      <td>140.0</td>\n",
       "    </tr>\n",
       "    <tr>\n",
       "      <th>30</th>\n",
       "      <td>1823115</td>\n",
       "      <td>37.018974</td>\n",
       "      <td>291.0</td>\n",
       "      <td>2022.0</td>\n",
       "      <td>Morus</td>\n",
       "      <td>283.699551</td>\n",
       "      <td>516.0</td>\n",
       "      <td>Morus nigra</td>\n",
       "      <td>37.0</td>\n",
       "      <td>283.7</td>\n",
       "      <td>153</td>\n",
       "      <td>138.0</td>\n",
       "    </tr>\n",
       "    <tr>\n",
       "      <th>31</th>\n",
       "      <td>1823045</td>\n",
       "      <td>48.106494</td>\n",
       "      <td>290.0</td>\n",
       "      <td>2022.0</td>\n",
       "      <td>Morus</td>\n",
       "      <td>358.596353</td>\n",
       "      <td>516.0</td>\n",
       "      <td>Morus</td>\n",
       "      <td>48.1</td>\n",
       "      <td>358.6</td>\n",
       "      <td>153</td>\n",
       "      <td>137.0</td>\n",
       "    </tr>\n",
       "    <tr>\n",
       "      <th>1142</th>\n",
       "      <td>2</td>\n",
       "      <td>38.376015</td>\n",
       "      <td>138.0</td>\n",
       "      <td>2022.0</td>\n",
       "      <td>Malus</td>\n",
       "      <td>237.491870</td>\n",
       "      <td>516.0</td>\n",
       "      <td>Malus sieboldii</td>\n",
       "      <td>38.4</td>\n",
       "      <td>237.5</td>\n",
       "      <td>275</td>\n",
       "      <td>137.0</td>\n",
       "    </tr>\n",
       "    <tr>\n",
       "      <th>563</th>\n",
       "      <td>29</td>\n",
       "      <td>43.841540</td>\n",
       "      <td>290.0</td>\n",
       "      <td>2022.0</td>\n",
       "      <td>Amelanchier</td>\n",
       "      <td>290.497960</td>\n",
       "      <td>516.0</td>\n",
       "      <td>Amelanchier arborea</td>\n",
       "      <td>43.8</td>\n",
       "      <td>290.5</td>\n",
       "      <td>153</td>\n",
       "      <td>137.0</td>\n",
       "    </tr>\n",
       "    <tr>\n",
       "      <th>32</th>\n",
       "      <td>1823046</td>\n",
       "      <td>48.105436</td>\n",
       "      <td>290.0</td>\n",
       "      <td>2022.0</td>\n",
       "      <td>Morus</td>\n",
       "      <td>358.617108</td>\n",
       "      <td>516.0</td>\n",
       "      <td>Morus</td>\n",
       "      <td>48.1</td>\n",
       "      <td>358.6</td>\n",
       "      <td>153</td>\n",
       "      <td>137.0</td>\n",
       "    </tr>\n",
       "    <tr>\n",
       "      <th>263288</th>\n",
       "      <td>1824122</td>\n",
       "      <td>37.229664</td>\n",
       "      <td>351.0</td>\n",
       "      <td>2022.0</td>\n",
       "      <td>Prunus</td>\n",
       "      <td>266.708116</td>\n",
       "      <td>516.0</td>\n",
       "      <td>Prunus americana</td>\n",
       "      <td>37.2</td>\n",
       "      <td>266.7</td>\n",
       "      <td>214</td>\n",
       "      <td>137.0</td>\n",
       "    </tr>\n",
       "    <tr>\n",
       "      <th>102</th>\n",
       "      <td>1823531</td>\n",
       "      <td>34.098930</td>\n",
       "      <td>317.0</td>\n",
       "      <td>2022.0</td>\n",
       "      <td>Citrus</td>\n",
       "      <td>242.454116</td>\n",
       "      <td>516.0</td>\n",
       "      <td>Citrus</td>\n",
       "      <td>34.1</td>\n",
       "      <td>242.5</td>\n",
       "      <td>183</td>\n",
       "      <td>134.0</td>\n",
       "    </tr>\n",
       "    <tr>\n",
       "      <th>614</th>\n",
       "      <td>33</td>\n",
       "      <td>39.065994</td>\n",
       "      <td>284.0</td>\n",
       "      <td>2022.0</td>\n",
       "      <td>Amelanchier</td>\n",
       "      <td>283.495100</td>\n",
       "      <td>516.0</td>\n",
       "      <td>Amelanchier arborea</td>\n",
       "      <td>39.1</td>\n",
       "      <td>283.5</td>\n",
       "      <td>153</td>\n",
       "      <td>131.0</td>\n",
       "    </tr>\n",
       "    <tr>\n",
       "      <th>140</th>\n",
       "      <td>1808977</td>\n",
       "      <td>35.115459</td>\n",
       "      <td>91.0</td>\n",
       "      <td>2022.0</td>\n",
       "      <td>Citrus</td>\n",
       "      <td>239.385346</td>\n",
       "      <td>516.0</td>\n",
       "      <td>Citrus</td>\n",
       "      <td>35.1</td>\n",
       "      <td>239.4</td>\n",
       "      <td>214</td>\n",
       "      <td>123.0</td>\n",
       "    </tr>\n",
       "    <tr>\n",
       "      <th>161</th>\n",
       "      <td>1823363</td>\n",
       "      <td>32.982727</td>\n",
       "      <td>306.0</td>\n",
       "      <td>2022.0</td>\n",
       "      <td>Citrus</td>\n",
       "      <td>279.970128</td>\n",
       "      <td>516.0</td>\n",
       "      <td>Citrus</td>\n",
       "      <td>33.0</td>\n",
       "      <td>280.0</td>\n",
       "      <td>183</td>\n",
       "      <td>123.0</td>\n",
       "    </tr>\n",
       "    <tr>\n",
       "      <th>162421</th>\n",
       "      <td>1823592</td>\n",
       "      <td>39.991300</td>\n",
       "      <td>305.0</td>\n",
       "      <td>2022.0</td>\n",
       "      <td>Prunus</td>\n",
       "      <td>277.000543</td>\n",
       "      <td>516.0</td>\n",
       "      <td>Prunus avium</td>\n",
       "      <td>40.0</td>\n",
       "      <td>277.0</td>\n",
       "      <td>183</td>\n",
       "      <td>122.0</td>\n",
       "    </tr>\n",
       "    <tr>\n",
       "      <th>108109</th>\n",
       "      <td>1823580</td>\n",
       "      <td>39.994214</td>\n",
       "      <td>305.0</td>\n",
       "      <td>2022.0</td>\n",
       "      <td>Rubus</td>\n",
       "      <td>277.001128</td>\n",
       "      <td>516.0</td>\n",
       "      <td>Rubus</td>\n",
       "      <td>40.0</td>\n",
       "      <td>277.0</td>\n",
       "      <td>183</td>\n",
       "      <td>122.0</td>\n",
       "    </tr>\n",
       "    <tr>\n",
       "      <th>108108</th>\n",
       "      <td>1823578</td>\n",
       "      <td>39.991253</td>\n",
       "      <td>305.0</td>\n",
       "      <td>2022.0</td>\n",
       "      <td>Rubus</td>\n",
       "      <td>277.000209</td>\n",
       "      <td>516.0</td>\n",
       "      <td>Rubus</td>\n",
       "      <td>40.0</td>\n",
       "      <td>277.0</td>\n",
       "      <td>183</td>\n",
       "      <td>122.0</td>\n",
       "    </tr>\n",
       "    <tr>\n",
       "      <th>108110</th>\n",
       "      <td>1823585</td>\n",
       "      <td>39.994285</td>\n",
       "      <td>305.0</td>\n",
       "      <td>2022.0</td>\n",
       "      <td>Rubus</td>\n",
       "      <td>277.001018</td>\n",
       "      <td>516.0</td>\n",
       "      <td>Rubus</td>\n",
       "      <td>40.0</td>\n",
       "      <td>277.0</td>\n",
       "      <td>183</td>\n",
       "      <td>122.0</td>\n",
       "    </tr>\n",
       "    <tr>\n",
       "      <th>162259</th>\n",
       "      <td>1823220</td>\n",
       "      <td>48.940092</td>\n",
       "      <td>298.0</td>\n",
       "      <td>2022.0</td>\n",
       "      <td>Prunus</td>\n",
       "      <td>2.901764</td>\n",
       "      <td>516.0</td>\n",
       "      <td>Prunus</td>\n",
       "      <td>48.9</td>\n",
       "      <td>2.9</td>\n",
       "      <td>183</td>\n",
       "      <td>115.0</td>\n",
       "    </tr>\n",
       "    <tr>\n",
       "      <th>93</th>\n",
       "      <td>1808571</td>\n",
       "      <td>34.038871</td>\n",
       "      <td>71.0</td>\n",
       "      <td>2022.0</td>\n",
       "      <td>Citrus</td>\n",
       "      <td>241.557108</td>\n",
       "      <td>516.0</td>\n",
       "      <td>Citrus</td>\n",
       "      <td>34.0</td>\n",
       "      <td>241.6</td>\n",
       "      <td>183</td>\n",
       "      <td>112.0</td>\n",
       "    </tr>\n",
       "  </tbody>\n",
       "</table>\n",
       "</div>"
      ],
      "text/plain": [
       "        site_id   latitude    doy    year        genus     lon_360  \\\n",
       "36            8  39.910755   62.0  2022.0    Diospyros  273.575810   \n",
       "50            2  38.376015   63.0  2022.0        Malus  237.491870   \n",
       "46            8  39.910755   75.0  2022.0    Diospyros  273.575810   \n",
       "542          34  43.008286   63.0  2022.0        Malus  281.216940   \n",
       "182     1824168  32.078188  357.0  2022.0       Citrus   34.802053   \n",
       "193     1824165  32.026304  356.0  2022.0       Citrus  278.925524   \n",
       "492           4  34.051340   73.0  2022.0         Olea  241.796875   \n",
       "98      1823026  33.922294  289.0  2022.0   Eriobotrya  241.593083   \n",
       "324869     3096  39.997452  108.0  2022.0        Malus  254.717300   \n",
       "413     1824101  32.056094  349.0  2022.0       Citrus   34.799296   \n",
       "412     1824100  32.055767  349.0  2022.0       Citrus   34.799269   \n",
       "171     1824020  32.058087  345.0  2022.0   Rosmarinus   34.797155   \n",
       "153     1822871  32.068332  345.0  2022.0       Citrus   34.800376   \n",
       "324371  1808870  48.671255   85.0  2022.0        Malus    6.141090   \n",
       "176     1824016  32.062203  343.0  2022.0       Citrus   34.798322   \n",
       "175     1824000  32.062792  340.0  2022.0       Citrus   34.802305   \n",
       "104     1823999  32.063890  340.0  2022.0       Citrus   34.798299   \n",
       "109     1823971  32.062489  338.0  2022.0       Citrus   34.802367   \n",
       "174     1823972  32.062656  338.0  2022.0       Citrus   34.802191   \n",
       "306          30  42.716637  124.0  2022.0        Malus  286.247665   \n",
       "171     1823892  32.064837  333.0  2022.0       Citrus   34.807219   \n",
       "173     1823898  32.063346  333.0  2022.0       Citrus   34.809344   \n",
       "172     1823893  32.064512  333.0  2022.0       Citrus   34.807586   \n",
       "108     1823902  32.063275  333.0  2022.0       Citrus   34.807901   \n",
       "107     1823899  32.063952  333.0  2022.0       Citrus   34.807614   \n",
       "106     1823847  32.064916  330.0  2022.0       Citrus   34.804471   \n",
       "167     1823783  32.066431  323.0  2022.0       Citrus   34.801080   \n",
       "169     1823786  32.066700  323.0  2022.0       Citrus   34.801772   \n",
       "105     1823787  32.066792  323.0  2022.0       Citrus   34.801737   \n",
       "166     1823774  32.066141  323.0  2022.0       Citrus   34.799907   \n",
       "165     1823771  32.065201  323.0  2022.0       Citrus   34.798682   \n",
       "170     1823789  32.065146  323.0  2022.0       Citrus   34.803870   \n",
       "168     1823785  32.066633  323.0  2022.0       Citrus   34.801292   \n",
       "170     1823788  32.065718  323.0  2022.0   Rosmarinus   34.803779   \n",
       "30      1823115  37.018974  291.0  2022.0        Morus  283.699551   \n",
       "31      1823045  48.106494  290.0  2022.0        Morus  358.596353   \n",
       "1142          2  38.376015  138.0  2022.0        Malus  237.491870   \n",
       "563          29  43.841540  290.0  2022.0  Amelanchier  290.497960   \n",
       "32      1823046  48.105436  290.0  2022.0        Morus  358.617108   \n",
       "263288  1824122  37.229664  351.0  2022.0       Prunus  266.708116   \n",
       "102     1823531  34.098930  317.0  2022.0       Citrus  242.454116   \n",
       "614          33  39.065994  284.0  2022.0  Amelanchier  283.495100   \n",
       "140     1808977  35.115459   91.0  2022.0       Citrus  239.385346   \n",
       "161     1823363  32.982727  306.0  2022.0       Citrus  279.970128   \n",
       "162421  1823592  39.991300  305.0  2022.0       Prunus  277.000543   \n",
       "108109  1823580  39.994214  305.0  2022.0        Rubus  277.001128   \n",
       "108108  1823578  39.991253  305.0  2022.0        Rubus  277.000209   \n",
       "108110  1823585  39.994285  305.0  2022.0        Rubus  277.001018   \n",
       "162259  1823220  48.940092  298.0  2022.0       Prunus    2.901764   \n",
       "93      1808571  34.038871   71.0  2022.0       Citrus  241.557108   \n",
       "\n",
       "        phenophase      formatted_sci_name  rounded_lat  rounded_lon  \\\n",
       "36           516.0    Diospyros virginiana         39.9        273.6   \n",
       "50           516.0         Malus sieboldii         38.4        237.5   \n",
       "46           516.0    Diospyros virginiana         39.9        273.6   \n",
       "542          516.0                   Malus         43.0        281.2   \n",
       "182          516.0                  Citrus         32.1         34.8   \n",
       "193          516.0                  Citrus         32.0        278.9   \n",
       "492          516.0           Olea europaea         34.1        241.8   \n",
       "98           516.0     Eriobotrya japonica         33.9        241.6   \n",
       "324869       516.0            Malus pumila         40.0        254.7   \n",
       "413          516.0                  Citrus         32.1         34.8   \n",
       "412          516.0                  Citrus         32.1         34.8   \n",
       "171          516.0  Rosmarinus officinalis         32.1         34.8   \n",
       "153          516.0                  Citrus         32.1         34.8   \n",
       "324371       516.0                   Malus         48.7          6.1   \n",
       "176          516.0                  Citrus         32.1         34.8   \n",
       "175          516.0                  Citrus         32.1         34.8   \n",
       "104          516.0                  Citrus         32.1         34.8   \n",
       "109          516.0                  Citrus         32.1         34.8   \n",
       "174          516.0                  Citrus         32.1         34.8   \n",
       "306          516.0         Malus sieboldii         42.7        286.2   \n",
       "171          516.0                  Citrus         32.1         34.8   \n",
       "173          516.0                  Citrus         32.1         34.8   \n",
       "172          516.0                  Citrus         32.1         34.8   \n",
       "108          516.0                  Citrus         32.1         34.8   \n",
       "107          516.0                  Citrus         32.1         34.8   \n",
       "106          516.0                  Citrus         32.1         34.8   \n",
       "167          516.0                  Citrus         32.1         34.8   \n",
       "169          516.0                  Citrus         32.1         34.8   \n",
       "105          516.0                  Citrus         32.1         34.8   \n",
       "166          516.0                  Citrus         32.1         34.8   \n",
       "165          516.0                  Citrus         32.1         34.8   \n",
       "170          516.0                  Citrus         32.1         34.8   \n",
       "168          516.0                  Citrus         32.1         34.8   \n",
       "170          516.0  Rosmarinus officinalis         32.1         34.8   \n",
       "30           516.0             Morus nigra         37.0        283.7   \n",
       "31           516.0                   Morus         48.1        358.6   \n",
       "1142         516.0         Malus sieboldii         38.4        237.5   \n",
       "563          516.0     Amelanchier arborea         43.8        290.5   \n",
       "32           516.0                   Morus         48.1        358.6   \n",
       "263288       516.0        Prunus americana         37.2        266.7   \n",
       "102          516.0                  Citrus         34.1        242.5   \n",
       "614          516.0     Amelanchier arborea         39.1        283.5   \n",
       "140          516.0                  Citrus         35.1        239.4   \n",
       "161          516.0                  Citrus         33.0        280.0   \n",
       "162421       516.0            Prunus avium         40.0        277.0   \n",
       "108109       516.0                   Rubus         40.0        277.0   \n",
       "108108       516.0                   Rubus         40.0        277.0   \n",
       "108110       516.0                   Rubus         40.0        277.0   \n",
       "162259       516.0                  Prunus         48.9          2.9   \n",
       "93           516.0                  Citrus         34.0        241.6   \n",
       "\n",
       "        flowering_day  abs_error  \n",
       "36                275      213.0  \n",
       "50                275      212.0  \n",
       "46                275      200.0  \n",
       "542               245      182.0  \n",
       "182               183      174.0  \n",
       "193               183      173.0  \n",
       "492               245      172.0  \n",
       "98                122      167.0  \n",
       "324869            275      167.0  \n",
       "413               183      166.0  \n",
       "412               183      166.0  \n",
       "171               183      162.0  \n",
       "153               183      162.0  \n",
       "324371            245      160.0  \n",
       "176               183      160.0  \n",
       "175               183      157.0  \n",
       "104               183      157.0  \n",
       "109               183      155.0  \n",
       "174               183      155.0  \n",
       "306               275      151.0  \n",
       "171               183      150.0  \n",
       "173               183      150.0  \n",
       "172               183      150.0  \n",
       "108               183      150.0  \n",
       "107               183      150.0  \n",
       "106               183      147.0  \n",
       "167               183      140.0  \n",
       "169               183      140.0  \n",
       "105               183      140.0  \n",
       "166               183      140.0  \n",
       "165               183      140.0  \n",
       "170               183      140.0  \n",
       "168               183      140.0  \n",
       "170               183      140.0  \n",
       "30                153      138.0  \n",
       "31                153      137.0  \n",
       "1142              275      137.0  \n",
       "563               153      137.0  \n",
       "32                153      137.0  \n",
       "263288            214      137.0  \n",
       "102               183      134.0  \n",
       "614               153      131.0  \n",
       "140               214      123.0  \n",
       "161               183      123.0  \n",
       "162421            183      122.0  \n",
       "108109            183      122.0  \n",
       "108108            183      122.0  \n",
       "108110            183      122.0  \n",
       "162259            183      115.0  \n",
       "93                183      112.0  "
      ]
     },
     "execution_count": 102,
     "metadata": {},
     "output_type": "execute_result"
    }
   ],
   "source": [
    "full_prediction_df[full_prediction_df['abs_error'] >= 100].sort_values('abs_error', ascending=False)[0:50]"
   ]
  },
  {
   "cell_type": "code",
   "execution_count": 103,
   "id": "e2754d28",
   "metadata": {},
   "outputs": [
    {
     "data": {
      "text/html": [
       "<div>\n",
       "<style scoped>\n",
       "    .dataframe tbody tr th:only-of-type {\n",
       "        vertical-align: middle;\n",
       "    }\n",
       "\n",
       "    .dataframe tbody tr th {\n",
       "        vertical-align: top;\n",
       "    }\n",
       "\n",
       "    .dataframe thead th {\n",
       "        text-align: right;\n",
       "    }\n",
       "</style>\n",
       "<table border=\"1\" class=\"dataframe\">\n",
       "  <thead>\n",
       "    <tr style=\"text-align: right;\">\n",
       "      <th></th>\n",
       "      <th>site_id</th>\n",
       "      <th>latitude</th>\n",
       "      <th>doy</th>\n",
       "      <th>year</th>\n",
       "      <th>genus</th>\n",
       "      <th>lon_360</th>\n",
       "      <th>phenophase</th>\n",
       "      <th>formatted_sci_name</th>\n",
       "      <th>rounded_lat</th>\n",
       "      <th>rounded_lon</th>\n",
       "      <th>flowering_day</th>\n",
       "      <th>abs_error</th>\n",
       "    </tr>\n",
       "  </thead>\n",
       "  <tbody>\n",
       "    <tr>\n",
       "      <th>19</th>\n",
       "      <td>1812903</td>\n",
       "      <td>42.000443</td>\n",
       "      <td>183.0</td>\n",
       "      <td>2022.0</td>\n",
       "      <td>Rubus</td>\n",
       "      <td>268.349632</td>\n",
       "      <td>516.0</td>\n",
       "      <td>Rubus</td>\n",
       "      <td>42.0</td>\n",
       "      <td>268.3</td>\n",
       "      <td>183</td>\n",
       "      <td>0.0</td>\n",
       "    </tr>\n",
       "    <tr>\n",
       "      <th>20</th>\n",
       "      <td>1812992</td>\n",
       "      <td>43.123822</td>\n",
       "      <td>181.0</td>\n",
       "      <td>2022.0</td>\n",
       "      <td>Rubus</td>\n",
       "      <td>282.422069</td>\n",
       "      <td>516.0</td>\n",
       "      <td>Rubus</td>\n",
       "      <td>43.1</td>\n",
       "      <td>282.4</td>\n",
       "      <td>183</td>\n",
       "      <td>2.0</td>\n",
       "    </tr>\n",
       "    <tr>\n",
       "      <th>22</th>\n",
       "      <td>1813012</td>\n",
       "      <td>35.219765</td>\n",
       "      <td>190.0</td>\n",
       "      <td>2022.0</td>\n",
       "      <td>Rubus</td>\n",
       "      <td>270.150501</td>\n",
       "      <td>516.0</td>\n",
       "      <td>Rubus</td>\n",
       "      <td>35.2</td>\n",
       "      <td>270.2</td>\n",
       "      <td>183</td>\n",
       "      <td>7.0</td>\n",
       "    </tr>\n",
       "    <tr>\n",
       "      <th>23</th>\n",
       "      <td>1813095</td>\n",
       "      <td>43.026309</td>\n",
       "      <td>193.0</td>\n",
       "      <td>2022.0</td>\n",
       "      <td>Rubus</td>\n",
       "      <td>274.317216</td>\n",
       "      <td>516.0</td>\n",
       "      <td>Rubus</td>\n",
       "      <td>43.0</td>\n",
       "      <td>274.3</td>\n",
       "      <td>183</td>\n",
       "      <td>10.0</td>\n",
       "    </tr>\n",
       "    <tr>\n",
       "      <th>25</th>\n",
       "      <td>1810562</td>\n",
       "      <td>37.417095</td>\n",
       "      <td>165.0</td>\n",
       "      <td>2022.0</td>\n",
       "      <td>Rubus</td>\n",
       "      <td>280.809241</td>\n",
       "      <td>516.0</td>\n",
       "      <td>Rubus</td>\n",
       "      <td>37.4</td>\n",
       "      <td>280.8</td>\n",
       "      <td>183</td>\n",
       "      <td>18.0</td>\n",
       "    </tr>\n",
       "    <tr>\n",
       "      <th>...</th>\n",
       "      <td>...</td>\n",
       "      <td>...</td>\n",
       "      <td>...</td>\n",
       "      <td>...</td>\n",
       "      <td>...</td>\n",
       "      <td>...</td>\n",
       "      <td>...</td>\n",
       "      <td>...</td>\n",
       "      <td>...</td>\n",
       "      <td>...</td>\n",
       "      <td>...</td>\n",
       "      <td>...</td>\n",
       "    </tr>\n",
       "    <tr>\n",
       "      <th>1</th>\n",
       "      <td>1759647</td>\n",
       "      <td>NaN</td>\n",
       "      <td>240.0</td>\n",
       "      <td>2022.0</td>\n",
       "      <td>NaN</td>\n",
       "      <td>NaN</td>\n",
       "      <td>NaN</td>\n",
       "      <td>NaN</td>\n",
       "      <td>NaN</td>\n",
       "      <td>NaN</td>\n",
       "      <td>275</td>\n",
       "      <td>35.0</td>\n",
       "    </tr>\n",
       "    <tr>\n",
       "      <th>2</th>\n",
       "      <td>1760749</td>\n",
       "      <td>NaN</td>\n",
       "      <td>271.0</td>\n",
       "      <td>2022.0</td>\n",
       "      <td>NaN</td>\n",
       "      <td>NaN</td>\n",
       "      <td>NaN</td>\n",
       "      <td>NaN</td>\n",
       "      <td>NaN</td>\n",
       "      <td>NaN</td>\n",
       "      <td>275</td>\n",
       "      <td>4.0</td>\n",
       "    </tr>\n",
       "    <tr>\n",
       "      <th>0</th>\n",
       "      <td>1769198</td>\n",
       "      <td>NaN</td>\n",
       "      <td>261.0</td>\n",
       "      <td>2022.0</td>\n",
       "      <td>NaN</td>\n",
       "      <td>NaN</td>\n",
       "      <td>NaN</td>\n",
       "      <td>NaN</td>\n",
       "      <td>NaN</td>\n",
       "      <td>NaN</td>\n",
       "      <td>275</td>\n",
       "      <td>14.0</td>\n",
       "    </tr>\n",
       "    <tr>\n",
       "      <th>1</th>\n",
       "      <td>1718728</td>\n",
       "      <td>NaN</td>\n",
       "      <td>281.0</td>\n",
       "      <td>2022.0</td>\n",
       "      <td>NaN</td>\n",
       "      <td>NaN</td>\n",
       "      <td>NaN</td>\n",
       "      <td>NaN</td>\n",
       "      <td>NaN</td>\n",
       "      <td>NaN</td>\n",
       "      <td>275</td>\n",
       "      <td>6.0</td>\n",
       "    </tr>\n",
       "    <tr>\n",
       "      <th>148859</th>\n",
       "      <td>1821277</td>\n",
       "      <td>45.499888</td>\n",
       "      <td>244.0</td>\n",
       "      <td>2022.0</td>\n",
       "      <td>Pyrus</td>\n",
       "      <td>237.365864</td>\n",
       "      <td>516.0</td>\n",
       "      <td>Pyrus pyrifolia</td>\n",
       "      <td>45.5</td>\n",
       "      <td>237.4</td>\n",
       "      <td>275</td>\n",
       "      <td>31.0</td>\n",
       "    </tr>\n",
       "  </tbody>\n",
       "</table>\n",
       "<p>2849 rows × 12 columns</p>\n",
       "</div>"
      ],
      "text/plain": [
       "        site_id   latitude    doy    year  genus     lon_360  phenophase  \\\n",
       "19      1812903  42.000443  183.0  2022.0  Rubus  268.349632       516.0   \n",
       "20      1812992  43.123822  181.0  2022.0  Rubus  282.422069       516.0   \n",
       "22      1813012  35.219765  190.0  2022.0  Rubus  270.150501       516.0   \n",
       "23      1813095  43.026309  193.0  2022.0  Rubus  274.317216       516.0   \n",
       "25      1810562  37.417095  165.0  2022.0  Rubus  280.809241       516.0   \n",
       "...         ...        ...    ...     ...    ...         ...         ...   \n",
       "1       1759647        NaN  240.0  2022.0    NaN         NaN         NaN   \n",
       "2       1760749        NaN  271.0  2022.0    NaN         NaN         NaN   \n",
       "0       1769198        NaN  261.0  2022.0    NaN         NaN         NaN   \n",
       "1       1718728        NaN  281.0  2022.0    NaN         NaN         NaN   \n",
       "148859  1821277  45.499888  244.0  2022.0  Pyrus  237.365864       516.0   \n",
       "\n",
       "       formatted_sci_name  rounded_lat  rounded_lon  flowering_day  abs_error  \n",
       "19                  Rubus         42.0        268.3            183        0.0  \n",
       "20                  Rubus         43.1        282.4            183        2.0  \n",
       "22                  Rubus         35.2        270.2            183        7.0  \n",
       "23                  Rubus         43.0        274.3            183       10.0  \n",
       "25                  Rubus         37.4        280.8            183       18.0  \n",
       "...                   ...          ...          ...            ...        ...  \n",
       "1                     NaN          NaN          NaN            275       35.0  \n",
       "2                     NaN          NaN          NaN            275        4.0  \n",
       "0                     NaN          NaN          NaN            275       14.0  \n",
       "1                     NaN          NaN          NaN            275        6.0  \n",
       "148859    Pyrus pyrifolia         45.5        237.4            275       31.0  \n",
       "\n",
       "[2849 rows x 12 columns]"
      ]
     },
     "execution_count": 103,
     "metadata": {},
     "output_type": "execute_result"
    }
   ],
   "source": [
    "full_prediction_df"
   ]
  },
  {
   "cell_type": "code",
   "execution_count": 104,
   "id": "4e31ffb5",
   "metadata": {},
   "outputs": [
    {
     "data": {
      "text/plain": [
       "0.025974025974025976"
      ]
     },
     "execution_count": 104,
     "metadata": {},
     "output_type": "execute_result"
    }
   ],
   "source": [
    "74 / 2849"
   ]
  },
  {
   "cell_type": "code",
   "execution_count": 106,
   "id": "fe6e9c80",
   "metadata": {
    "collapsed": true
   },
   "outputs": [
    {
     "data": {
      "text/plain": [
       "(array([  34.,   33.,   22.,   44.,   39.,   14.,   33.,   31.,   28.,\n",
       "          34.,   34.,   23.,   44.,   55.,   33.,   38.,   56.,   31.,\n",
       "          31.,   48.,   46.,   35.,   21.,   47.,   38.,   46.,   55.,\n",
       "          56.,   36.,   42.,   42.,   26.,   51.,   55.,   37.,   40.,\n",
       "          56.,   59.,  106.,   87.,  206.,  295.,  286.,  474.,  612.,\n",
       "         590.,  892.,  860.,  653.,  814.,  678.,  470.,  698.,  657.,\n",
       "         616.,  709.,  868.,  590.,  962.,  581.,  771.,  767.,  502.,\n",
       "         816.,  753.,  518.,  721.,  677.,  512.,  833.,  885.,  763.,\n",
       "         846., 1062.,  928., 1064.,  974.,  920.,  855.,  529.,  606.,\n",
       "         387.,  218.,  196.,  149.,   74.,   82.,   68.,   63.,   41.,\n",
       "          45.,   49.,   48.,   49.,   24.,   50.,   28.,   26.,   24.,\n",
       "          17.]),\n",
       " array([  1.  ,   4.65,   8.3 ,  11.95,  15.6 ,  19.25,  22.9 ,  26.55,\n",
       "         30.2 ,  33.85,  37.5 ,  41.15,  44.8 ,  48.45,  52.1 ,  55.75,\n",
       "         59.4 ,  63.05,  66.7 ,  70.35,  74.  ,  77.65,  81.3 ,  84.95,\n",
       "         88.6 ,  92.25,  95.9 ,  99.55, 103.2 , 106.85, 110.5 , 114.15,\n",
       "        117.8 , 121.45, 125.1 , 128.75, 132.4 , 136.05, 139.7 , 143.35,\n",
       "        147.  , 150.65, 154.3 , 157.95, 161.6 , 165.25, 168.9 , 172.55,\n",
       "        176.2 , 179.85, 183.5 , 187.15, 190.8 , 194.45, 198.1 , 201.75,\n",
       "        205.4 , 209.05, 212.7 , 216.35, 220.  , 223.65, 227.3 , 230.95,\n",
       "        234.6 , 238.25, 241.9 , 245.55, 249.2 , 252.85, 256.5 , 260.15,\n",
       "        263.8 , 267.45, 271.1 , 274.75, 278.4 , 282.05, 285.7 , 289.35,\n",
       "        293.  , 296.65, 300.3 , 303.95, 307.6 , 311.25, 314.9 , 318.55,\n",
       "        322.2 , 325.85, 329.5 , 333.15, 336.8 , 340.45, 344.1 , 347.75,\n",
       "        351.4 , 355.05, 358.7 , 362.35, 366.  ]),\n",
       " <BarContainer object of 100 artists>)"
      ]
     },
     "execution_count": 106,
     "metadata": {},
     "output_type": "execute_result"
    },
    {
     "data": {
      "image/png": "[encoded data removed]",
      "text/plain": [
       "<Figure size 432x288 with 1 Axes>"
      ]
     },
     "metadata": {
      "needs_background": "light"
     },
     "output_type": "display_data"
    }
   ],
   "source": [
    "plt.hist(formatted_plants['doy'], bins=100)"
   ]
  },
  {
   "cell_type": "markdown",
   "id": "6478e1e7",
   "metadata": {},
   "source": [
    "Based on this histogram, most of the observations fall between like 150 and 315 days. Very odd. Same is true for the filtered plants. Is it just noise? \n",
    "\n",
    "Could probably cut off days with <20 observations (145 - 314). "
   ]
  },
  {
   "cell_type": "code",
   "execution_count": 107,
   "id": "0c3f8f9b",
   "metadata": {
    "scrolled": true
   },
   "outputs": [
    {
     "data": {
      "text/plain": [
       "(array([ 30.,  17.,  11.,  32.,  34.,  12.,  13.,  10.,  30.,  23.,  26.,\n",
       "         26.,  19.,  30.,  21.,  20.,  33.,  18.,  23.,  26.,  30.,  33.,\n",
       "         22.,  27.,  39.,  56.,  66.,  89., 110., 162., 228., 283., 315.,\n",
       "        527., 588., 642., 646., 626., 642., 597., 527., 499., 525., 454.,\n",
       "        467., 530., 598., 540., 634., 581., 935., 573., 600., 495., 556.,\n",
       "        478., 622., 528., 537., 469., 552., 460., 457., 636., 594., 614.,\n",
       "        901., 704., 730., 896., 774., 686., 901., 648., 648., 494., 474.,\n",
       "        298., 222., 169., 108., 106.,  70.,  68.,  46.,  57.,  43.,  24.,\n",
       "         26.,  39.,  36.,  30.,  27.,  20.,  32.,  17.,  21.,  12.,  22.,\n",
       "         12.]),\n",
       " array([ 60.  ,  63.06,  66.12,  69.18,  72.24,  75.3 ,  78.36,  81.42,\n",
       "         84.48,  87.54,  90.6 ,  93.66,  96.72,  99.78, 102.84, 105.9 ,\n",
       "        108.96, 112.02, 115.08, 118.14, 121.2 , 124.26, 127.32, 130.38,\n",
       "        133.44, 136.5 , 139.56, 142.62, 145.68, 148.74, 151.8 , 154.86,\n",
       "        157.92, 160.98, 164.04, 167.1 , 170.16, 173.22, 176.28, 179.34,\n",
       "        182.4 , 185.46, 188.52, 191.58, 194.64, 197.7 , 200.76, 203.82,\n",
       "        206.88, 209.94, 213.  , 216.06, 219.12, 222.18, 225.24, 228.3 ,\n",
       "        231.36, 234.42, 237.48, 240.54, 243.6 , 246.66, 249.72, 252.78,\n",
       "        255.84, 258.9 , 261.96, 265.02, 268.08, 271.14, 274.2 , 277.26,\n",
       "        280.32, 283.38, 286.44, 289.5 , 292.56, 295.62, 298.68, 301.74,\n",
       "        304.8 , 307.86, 310.92, 313.98, 317.04, 320.1 , 323.16, 326.22,\n",
       "        329.28, 332.34, 335.4 , 338.46, 341.52, 344.58, 347.64, 350.7 ,\n",
       "        353.76, 356.82, 359.88, 362.94, 366.  ]),\n",
       " <BarContainer object of 100 artists>)"
      ]
     },
     "execution_count": 107,
     "metadata": {},
     "output_type": "execute_result"
    },
    {
     "data": {
      "image/png": "[encoded data removed]",
      "text/plain": [
       "<Figure size 432x288 with 1 Axes>"
      ]
     },
     "metadata": {
      "needs_background": "light"
     },
     "output_type": "display_data"
    }
   ],
   "source": [
    "plt.hist(filtered_plants['doy'], bins=100)"
   ]
  },
  {
   "cell_type": "code",
   "execution_count": 110,
   "id": "9beb35ff",
   "metadata": {
    "collapsed": true
   },
   "outputs": [
    {
     "data": {
      "text/plain": [
       "{60.0: 8,\n",
       " 61.0: 5,\n",
       " 62.0: 6,\n",
       " 63.0: 11,\n",
       " 64.0: 4,\n",
       " 65.0: 6,\n",
       " 66.0: 7,\n",
       " 67.0: 5,\n",
       " 68.0: 3,\n",
       " 69.0: 3,\n",
       " 70.0: 8,\n",
       " 71.0: 8,\n",
       " 72.0: 16,\n",
       " 73.0: 14,\n",
       " 74.0: 4,\n",
       " 75.0: 16,\n",
       " 76.0: 4,\n",
       " 77.0: 4,\n",
       " 78.0: 4,\n",
       " 79.0: 4,\n",
       " 80.0: 5,\n",
       " 81.0: 4,\n",
       " 82.0: 3,\n",
       " 83.0: 4,\n",
       " 84.0: 3,\n",
       " 85.0: 8,\n",
       " 86.0: 6,\n",
       " 87.0: 16,\n",
       " 88.0: 9,\n",
       " 89.0: 5,\n",
       " 90.0: 9,\n",
       " 91.0: 9,\n",
       " 92.0: 4,\n",
       " 93.0: 13,\n",
       " 94.0: 8,\n",
       " 95.0: 8,\n",
       " 96.0: 10,\n",
       " 97.0: 8,\n",
       " 98.0: 5,\n",
       " 99.0: 6,\n",
       " 100.0: 10,\n",
       " 101.0: 13,\n",
       " 102.0: 7,\n",
       " 103.0: 10,\n",
       " 104.0: 4,\n",
       " 105.0: 7,\n",
       " 106.0: 8,\n",
       " 107.0: 6,\n",
       " 108.0: 6,\n",
       " 109.0: 8,\n",
       " 110.0: 12,\n",
       " 111.0: 9,\n",
       " 112.0: 4,\n",
       " 113.0: 4,\n",
       " 114.0: 9,\n",
       " 115.0: 5,\n",
       " 116.0: 12,\n",
       " 117.0: 3,\n",
       " 118.0: 8,\n",
       " 119.0: 9,\n",
       " 120.0: 6,\n",
       " 121.0: 11,\n",
       " 122.0: 10,\n",
       " 123.0: 9,\n",
       " 124.0: 11,\n",
       " 125.0: 11,\n",
       " 126.0: 11,\n",
       " 127.0: 11,\n",
       " 128.0: 5,\n",
       " 129.0: 4,\n",
       " 130.0: 13,\n",
       " 131.0: 8,\n",
       " 132.0: 7,\n",
       " 133.0: 12,\n",
       " 134.0: 12,\n",
       " 135.0: 12,\n",
       " 136.0: 15,\n",
       " 137.0: 14,\n",
       " 138.0: 25,\n",
       " 139.0: 17,\n",
       " 140.0: 27,\n",
       " 141.0: 18,\n",
       " 142.0: 21,\n",
       " 143.0: 36,\n",
       " 144.0: 18,\n",
       " 145.0: 35,\n",
       " 146.0: 32,\n",
       " 147.0: 27,\n",
       " 148.0: 51,\n",
       " 149.0: 31,\n",
       " 150.0: 74,\n",
       " 151.0: 57,\n",
       " 152.0: 79,\n",
       " 153.0: 73,\n",
       " 154.0: 76,\n",
       " 155.0: 104,\n",
       " 156.0: 89,\n",
       " 157.0: 90,\n",
       " 158.0: 101,\n",
       " 159.0: 111,\n",
       " 160.0: 103,\n",
       " 161.0: 144,\n",
       " 162.0: 116,\n",
       " 163.0: 132,\n",
       " 164.0: 135,\n",
       " 165.0: 208,\n",
       " 166.0: 187,\n",
       " 167.0: 193,\n",
       " 168.0: 203,\n",
       " 169.0: 235,\n",
       " 170.0: 204,\n",
       " 171.0: 268,\n",
       " 172.0: 170,\n",
       " 173.0: 208,\n",
       " 174.0: 212,\n",
       " 175.0: 213,\n",
       " 176.0: 201,\n",
       " 177.0: 205,\n",
       " 178.0: 219,\n",
       " 179.0: 218,\n",
       " 180.0: 181,\n",
       " 181.0: 214,\n",
       " 182.0: 202,\n",
       " 183.0: 203,\n",
       " 184.0: 171,\n",
       " 185.0: 153,\n",
       " 186.0: 185,\n",
       " 187.0: 155,\n",
       " 188.0: 159,\n",
       " 189.0: 158,\n",
       " 190.0: 137,\n",
       " 191.0: 230,\n",
       " 192.0: 133,\n",
       " 193.0: 163,\n",
       " 194.0: 158,\n",
       " 195.0: 126,\n",
       " 196.0: 209,\n",
       " 197.0: 132,\n",
       " 198.0: 172,\n",
       " 199.0: 190,\n",
       " 200.0: 168,\n",
       " 201.0: 245,\n",
       " 202.0: 175,\n",
       " 203.0: 178,\n",
       " 204.0: 158,\n",
       " 205.0: 177,\n",
       " 206.0: 205,\n",
       " 207.0: 181,\n",
       " 208.0: 219,\n",
       " 209.0: 234,\n",
       " 210.0: 200,\n",
       " 211.0: 206,\n",
       " 212.0: 175,\n",
       " 213.0: 273,\n",
       " 214.0: 244,\n",
       " 215.0: 193,\n",
       " 216.0: 225,\n",
       " 217.0: 210,\n",
       " 218.0: 195,\n",
       " 219.0: 168,\n",
       " 220.0: 168,\n",
       " 221.0: 161,\n",
       " 222.0: 271,\n",
       " 223.0: 136,\n",
       " 224.0: 205,\n",
       " 225.0: 154,\n",
       " 226.0: 167,\n",
       " 227.0: 218,\n",
       " 228.0: 171,\n",
       " 229.0: 156,\n",
       " 230.0: 161,\n",
       " 231.0: 161,\n",
       " 232.0: 287,\n",
       " 233.0: 178,\n",
       " 234.0: 157,\n",
       " 235.0: 151,\n",
       " 236.0: 172,\n",
       " 237.0: 205,\n",
       " 238.0: 186,\n",
       " 239.0: 139,\n",
       " 240.0: 212,\n",
       " 241.0: 152,\n",
       " 242.0: 185,\n",
       " 243.0: 132,\n",
       " 244.0: 179,\n",
       " 245.0: 192,\n",
       " 246.0: 181,\n",
       " 247.0: 123,\n",
       " 248.0: 178,\n",
       " 249.0: 159,\n",
       " 250.0: 161,\n",
       " 251.0: 148,\n",
       " 252.0: 148,\n",
       " 253.0: 293,\n",
       " 254.0: 144,\n",
       " 255.0: 199,\n",
       " 256.0: 155,\n",
       " 257.0: 170,\n",
       " 258.0: 269,\n",
       " 259.0: 218,\n",
       " 260.0: 182,\n",
       " 261.0: 214,\n",
       " 262.0: 182,\n",
       " 263.0: 332,\n",
       " 264.0: 194,\n",
       " 265.0: 193,\n",
       " 266.0: 182,\n",
       " 267.0: 231,\n",
       " 268.0: 291,\n",
       " 269.0: 253,\n",
       " 270.0: 205,\n",
       " 271.0: 272,\n",
       " 272.0: 234,\n",
       " 273.0: 318,\n",
       " 274.0: 344,\n",
       " 275.0: 274,\n",
       " 276.0: 257,\n",
       " 277.0: 243,\n",
       " 278.0: 247,\n",
       " 279.0: 223,\n",
       " 280.0: 216,\n",
       " 281.0: 279,\n",
       " 282.0: 215,\n",
       " 283.0: 407,\n",
       " 284.0: 265,\n",
       " 285.0: 210,\n",
       " 286.0: 173,\n",
       " 287.0: 180,\n",
       " 288.0: 266,\n",
       " 289.0: 202,\n",
       " 290.0: 149,\n",
       " 291.0: 199,\n",
       " 292.0: 146,\n",
       " 293.0: 226,\n",
       " 294.0: 126,\n",
       " 295.0: 122,\n",
       " 296.0: 89,\n",
       " 297.0: 90,\n",
       " 298.0: 119,\n",
       " 299.0: 77,\n",
       " 300.0: 70,\n",
       " 301.0: 75,\n",
       " 302.0: 61,\n",
       " 303.0: 58,\n",
       " 304.0: 50,\n",
       " 305.0: 43,\n",
       " 306.0: 36,\n",
       " 307.0: 29,\n",
       " 308.0: 33,\n",
       " 309.0: 44,\n",
       " 310.0: 29,\n",
       " 311.0: 28,\n",
       " 312.0: 18,\n",
       " 313.0: 24,\n",
       " 314.0: 21,\n",
       " 315.0: 19,\n",
       " 316.0: 16,\n",
       " 317.0: 12,\n",
       " 318.0: 20,\n",
       " 319.0: 15,\n",
       " 320.0: 11,\n",
       " 321.0: 14,\n",
       " 322.0: 15,\n",
       " 323.0: 28,\n",
       " 324.0: 10,\n",
       " 325.0: 20,\n",
       " 326.0: 13,\n",
       " 327.0: 9,\n",
       " 328.0: 6,\n",
       " 329.0: 9,\n",
       " 330.0: 10,\n",
       " 331.0: 10,\n",
       " 332.0: 6,\n",
       " 333.0: 15,\n",
       " 334.0: 13,\n",
       " 335.0: 11,\n",
       " 336.0: 12,\n",
       " 337.0: 8,\n",
       " 338.0: 16,\n",
       " 339.0: 9,\n",
       " 340.0: 12,\n",
       " 341.0: 9,\n",
       " 342.0: 12,\n",
       " 343.0: 7,\n",
       " 344.0: 8,\n",
       " 345.0: 8,\n",
       " 346.0: 7,\n",
       " 347.0: 5,\n",
       " 348.0: 10,\n",
       " 349.0: 10,\n",
       " 350.0: 12,\n",
       " 351.0: 7,\n",
       " 352.0: 5,\n",
       " 353.0: 5,\n",
       " 354.0: 5,\n",
       " 355.0: 6,\n",
       " 356.0: 10,\n",
       " 357.0: 7,\n",
       " 358.0: 3,\n",
       " 359.0: 2,\n",
       " 360.0: 8,\n",
       " 361.0: 10,\n",
       " 362.0: 4,\n",
       " 363.0: 3,\n",
       " 364.0: 4,\n",
       " 365.0: 4,\n",
       " 366.0: 1}"
      ]
     },
     "execution_count": 110,
     "metadata": {},
     "output_type": "execute_result"
    }
   ],
   "source": [
    "dict(filtered_plants.groupby('doy').size())"
   ]
  },
  {
   "cell_type": "code",
   "execution_count": 111,
   "id": "5f8cc250",
   "metadata": {},
   "outputs": [],
   "source": [
    "aggressive_filtered_plants = filtered_plants.query('doy <= 145 and doy >= 314')"
   ]
  },
  {
   "cell_type": "code",
   "execution_count": null,
   "id": "e6c85c32",
   "metadata": {},
   "outputs": [],
   "source": [
    "genus_prediction_dict = {}\n",
    "\n",
    "for s in tqdm(filtered_plants['genus'].unique()):\n",
    "    print(s)\n",
    "    species_train_df = filtered_plants.query('genus == \"{}\" and year < {}'.format(s, high_cutoff_year))\n",
    "    \n",
    "    if len(species_train_df) == 0:\n",
    "        continue\n",
    "    \n",
    "    species_test_df = filtered_plants.query('genus == \"{}\" and year >= {}'.format(s, high_cutoff_year))\n",
    "    \n",
    "    if len(species_test_df) == 0:\n",
    "        # make predictions and compare to the mean ripeness day at each site\n",
    "        species_test_df = make_test_df(species_train_df)\n",
    "    \n",
    "    if len(species_test_df) == 0:\n",
    "        print(\"No test data for {}\".format(s))\n",
    "        #print(species_test_df)\n",
    "        \n",
    "    predictions = train_ripeness_small(species_train_df, weather_training,\n",
    "                        species_test_df, weather_test)\n",
    "    \n",
    "    genus_prediction_dict[s] = predictions"
   ]
  },
  {
   "cell_type": "code",
   "execution_count": null,
   "id": "a4a8f46b",
   "metadata": {},
   "outputs": [],
   "source": []
  }
 ],
 "metadata": {
  "kernelspec": {
   "display_name": "seasonality",
   "language": "python",
   "name": "seasonality"
  },
  "language_info": {
   "codemirror_mode": {
    "name": "ipython",
    "version": 3
   },
   "file_extension": ".py",
   "mimetype": "text/x-python",
   "name": "python",
   "nbconvert_exporter": "python",
   "pygments_lexer": "ipython3",
   "version": "3.11.4"
  }
 },
 "nbformat": 4,
 "nbformat_minor": 5
}
