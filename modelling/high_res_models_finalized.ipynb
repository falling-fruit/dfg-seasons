{
 "cells": [
  {
   "cell_type": "code",
   "execution_count": 1,
   "id": "ae7c5c79",
   "metadata": {},
   "outputs": [],
   "source": [
    "from model_helpers import *\n",
    "\n",
    "import cfgrib\n",
    "import xarray as xr\n",
    "\n",
    "import pandas as pd\n",
    "import numpy as np\n",
    "\n",
    "from pyPhenology import models, utils\n",
    "\n",
    "from tqdm import trange, tqdm\n",
    "\n",
    "import matplotlib.pyplot as plt\n",
    "\n",
    "from warnings import warn\n",
    "import warnings\n",
    "\n",
    "warnings.filterwarnings('ignore')\n",
    "\n",
    "high_cutoff_year = 2022\n",
    "low_cutoff_year = 2010"
   ]
  },
  {
   "cell_type": "code",
   "execution_count": 57,
   "id": "6c9b1714",
   "metadata": {},
   "outputs": [],
   "source": [
    "def make_test_df(train_df):\n",
    "    #print(train_df)\n",
    "    species_sites = train_df['site_id'].unique()\n",
    "        \n",
    "    #print(species_sites)\n",
    "    \n",
    "    site_ripenesses = []\n",
    "\n",
    "    for site in species_sites:\n",
    "        site_df = train_df[train_df['site_id'] == site]\n",
    "\n",
    "        site_ripenesses.append({\n",
    "            'site_id': site,\n",
    "            'doy': np.mean(site_df['doy'])\n",
    "        })\n",
    "\n",
    "    species_test_df = pd.DataFrame(site_ripenesses)\n",
    "    species_test_df['year'] = high_cutoff_year\n",
    "    \n",
    "    return species_test_df\n",
    "\n",
    "# More specific to our uses.\n",
    "def train_ripeness_small(observations, predictors, test_observations, test_predictors, model_name = 'ThermalTime'):\n",
    "\n",
    "    print(\"running model {m}\".format(m=model_name))\n",
    "    Model = utils.load_model(model_name)\n",
    "    model = Model()\n",
    "    model.fit(observations, predictors, optimizer_params='practical')\n",
    "    \n",
    "    print(model)\n",
    "    \n",
    "    print(\"making predictions for model {m}\".format(m=model_name))        \n",
    "    preds = model.predict(test_observations, test_predictors)\n",
    "\n",
    "    #print(preds)\n",
    "    test_days = test_observations.doy.values\n",
    "    #print(test_days)\n",
    "   \n",
    "    # Various error types\n",
    "    model_mae = mae(test_days, preds)\n",
    "    model_rmse = rmse(test_days, preds)\n",
    "    median_error = np.median(np.abs(test_days - preds))\n",
    "\n",
    "    print('model {m} got a MAE of {a}'.format(m=model_name,a=model_mae))\n",
    "    print('model {m} got an RMSE of {a}'.format(m=model_name,a=model_rmse))\n",
    "    print('model {m}\\'s median error is: {a}'.format(m=model_name,a=median_error))\n",
    "\n",
    "    print(\"Ripeness Day: {}\".format(np.mean(preds)))\n",
    "    \n",
    "    ripeness_data = test_observations\n",
    "    ripeness_data['flowering_day'] = preds\n",
    "    \n",
    "    ripeness_dict = {\n",
    "        'model_object': model,\n",
    "        'MAE': model_mae,\n",
    "        'RMSE': model_rmse,\n",
    "        'Median Error': median_error,\n",
    "        'prediction_df': ripeness_dict,\n",
    "    }\n",
    "    \n",
    "    return ripeness_dict"
   ]
  },
  {
   "cell_type": "markdown",
   "id": "6ecd67a2",
   "metadata": {},
   "source": [
    "Idea for corrections: take the lower error between the base error and the year-transformed error.\n",
    "\n",
    "\n",
    "Best Approach is:\n",
    "- High time resolution, correcting for missing data by using averaged data from previous years.\n",
    "- Add European Weather data.\n",
    "- No southern hemisphere. \n",
    "- Corrected error (i.e. date wrapping). \n",
    "\n",
    "Best reporting statistic: what portion of results lie under X.\n",
    "For example, 80% of results lie under 1 STD, 95% lie under 2 STD. \n",
    "Can make a \"confidence score\" from this – percentile error? Ex. This is less error than 90% of things.  "
   ]
  },
  {
   "cell_type": "code",
   "execution_count": 28,
   "id": "87c6b579",
   "metadata": {},
   "outputs": [
    {
     "name": "stdout",
     "output_type": "stream",
     "text": [
      "loading weather data\n",
      "Loading Plant Data\n",
      "filtering weather data\n",
      "formatting weather data\n",
      "formatting date columns\n",
      "correcting leap years\n",
      "adding site IDs to weather data\n",
      "separating weather data\n",
      "formatting plant data\n",
      "filtering plant data\n"
     ]
    }
   ],
   "source": [
    "# Load in high-res weather data\n",
    "print(\"loading weather data\")\n",
    "grib_data = cfgrib.open_datasets('../data/monthly_weather_data.grib')\n",
    "\n",
    "core_data = grib_data[0]\n",
    "\n",
    "print(\"Loading Plant Data\")\n",
    "formatted_plants = pd.read_csv(\"../data/model_training_data/all_plants_formatted.csv\", index_col=0)\n",
    "\n",
    "formatted_plants['rounded_lat'] = np.round(formatted_plants['latitude'], 1)\n",
    "formatted_plants['rounded_lon'] = np.round(formatted_plants['lon_360'], 1)\n",
    "\n",
    "rounded_sites = formatted_plants[['site_id', 'rounded_lat', 'rounded_lon']].drop_duplicates()\n",
    "\n",
    "site_x_vals = xr.DataArray(rounded_sites['rounded_lat'], dims=['site'])\n",
    "site_y_vals = xr.DataArray(rounded_sites['rounded_lon'], dims=['site'])\n",
    "\n",
    "print(\"filtering weather data\")\n",
    "full_weather_data = core_data.sel(latitude=site_x_vals, longitude=site_y_vals, method='nearest').to_dataframe().dropna()\n",
    "\n",
    "print(\"formatting weather data\")\n",
    "formatted_weather = format_weather_data(full_weather_data)\n",
    "\n",
    "formatted_weather['latitude'] = np.round(formatted_weather['latitude'], 1)\n",
    "formatted_weather['longitude'] = np.round(formatted_weather['longitude'], 1)\n",
    "\n",
    "print(\"adding site IDs to weather data\")\n",
    "rounded_sites['coordstring'] = rounded_sites['rounded_lat'].astype(str) + rounded_sites['rounded_lon'].astype(str)\n",
    "formatted_weather['coordstring'] = formatted_weather['latitude'].astype(str) + formatted_weather['longitude'].astype(str)\n",
    "\n",
    "## Add Site ID to the weather data\n",
    "weather_with_sites = pd.merge(formatted_weather, rounded_sites[['coordstring', 'site_id']], on='coordstring')#.drop('coordstring', axis=1)\n",
    "## Separate into training data and testing data\n",
    "\n",
    "# filter out current year\n",
    "print(\"separating weather data\")\n",
    "weather_with_sites = weather_with_sites[weather_with_sites['year'] != 2023]\n",
    "\n",
    "weather_training = weather_with_sites[weather_with_sites['year'] < high_cutoff_year]\n",
    "weather_test = weather_with_sites[weather_with_sites['year'] >= high_cutoff_year]\n",
    "\n",
    "# final formatting steps for plants\n",
    "print(\"formatting plant data\")\n",
    "species_list = formatted_plants['formatted_sci_name'].unique()\n",
    "formatted_plants.drop('species', axis=1, inplace=True)\n",
    "\n",
    "# correct for missing sites\n",
    "weather_sites = weather_with_sites['site_id'].unique()\n",
    "\n",
    "print(\"filtering plant data\")\n",
    "filtered_plants = formatted_plants[(formatted_plants['site_id'].isin(weather_sites)) & \n",
    "                                   (formatted_plants['year'] != 2023) &\n",
    "                                   (formatted_plants['latitude'] > 0) &\n",
    "                                    (formatted_plants['doy'] >= 60)]\n"
   ]
  },
  {
   "cell_type": "markdown",
   "id": "6f5a46fb",
   "metadata": {},
   "source": [
    "TODO: make the europe data rounded to .1 degrees. "
   ]
  },
  {
   "cell_type": "code",
   "execution_count": 4,
   "id": "1048783d",
   "metadata": {},
   "outputs": [],
   "source": [
    "euro_data = load_euro_weather_data(euro_path, '../data/high_res_euro_stations.csv')"
   ]
  },
  {
   "cell_type": "code",
   "execution_count": 5,
   "id": "8c7b0abf",
   "metadata": {},
   "outputs": [],
   "source": [
    "## Merge both weather data. \n",
    "\n",
    "## If site is in europe data, replace it with the european version. \n",
    "\n",
    "# Create a list of \"mutual sites\".\n",
    "euro_coords = euro_data['coordstring'].unique()\n",
    "\n",
    "mutual_sites = weather_with_sites[weather_with_sites['coordstring'].isin(euro_coords)][['site_id', 'coordstring']].drop_duplicates()\n",
    "# Get those sites from europe\n",
    "mutual_sites_euro = euro_data[euro_data['coordstring'].isin(mutual_sites['coordstring'])]\n",
    "mutual_sites_euro = mutual_sites_euro.merge(mutual_sites, on='coordstring')\n",
    "\n",
    "mutual_sites_euro['temperature'] += 272.5\n",
    "\n",
    "# Remove those sites from monthly \n",
    "unmutual_monthly = weather_with_sites[~weather_with_sites['site_id'].isin(mutual_sites)]\n",
    "\n",
    "# rbind the two (a union essentially?)\n",
    "merged_euro = pd.concat([mutual_sites_euro, unmutual_monthly]).drop('station', axis=1).drop_duplicates()\n",
    "\n",
    "merged_euro['temperature'] = np.round(merged_euro['temperature'], 1)\n"
   ]
  },
  {
   "cell_type": "code",
   "execution_count": 6,
   "id": "191d50c4",
   "metadata": {},
   "outputs": [],
   "source": [
    "\n",
    "weather_training = merged_euro[merged_euro['year'] < high_cutoff_year]\n",
    "weather_test = merged_euro[merged_euro['year'] >= high_cutoff_year]"
   ]
  },
  {
   "cell_type": "code",
   "execution_count": 55,
   "id": "f2f2fd1c",
   "metadata": {
    "scrolled": true
   },
   "outputs": [
    {
     "name": "stderr",
     "output_type": "stream",
     "text": [
      "\r",
      "  0%|                                                                                                                                                                              | 0/97 [00:00<?, ?it/s]"
     ]
    },
    {
     "name": "stdout",
     "output_type": "stream",
     "text": [
      "Rubus\n",
      "running model ThermalTime\n"
     ]
    },
    {
     "name": "stderr",
     "output_type": "stream",
     "text": [
      "\r",
      "  1%|█▋                                                                                                                                                                    | 1/97 [00:03<05:30,  3.44s/it]"
     ]
    },
    {
     "name": "stdout",
     "output_type": "stream",
     "text": [
      "making predictions for model ThermalTime\n",
      "[183 183 183 183 183 183 183 183 183 183 183 183 183 183 183 214 183 183\n",
      " 183 214 183 214 214 183 183 183 183 183 183 183]\n",
      "[183. 181. 190. 193. 165. 165. 184. 181. 178. 184. 246. 202. 288. 192.\n",
      " 173. 214. 159. 191. 191. 196. 187. 214. 216. 136. 305. 305. 305. 274.\n",
      " 191. 195.]\n",
      "model ThermalTime got a MAE of 28.6\n",
      "model ThermalTime got an RMSE of 49.24970389081881\n",
      "model ThermalTime's median error is: 9.5\n",
      "Ripeness Day: 187.13333333333333\n",
      "Rubus occidentalis\n",
      "running model ThermalTime\n"
     ]
    },
    {
     "name": "stderr",
     "output_type": "stream",
     "text": [
      "\r",
      "  2%|███▍                                                                                                                                                                  | 2/97 [00:07<06:21,  4.01s/it]"
     ]
    },
    {
     "name": "stdout",
     "output_type": "stream",
     "text": [
      "making predictions for model ThermalTime\n",
      "[183 183 183 183 183 183 214 214 214 183]\n",
      "[164. 189. 189. 189. 184. 189. 191. 191. 191. 187.]\n",
      "model ThermalTime got a MAE of 11.7\n",
      "model ThermalTime got an RMSE of 14.522396496446445\n",
      "model ThermalTime's median error is: 6.0\n",
      "Ripeness Day: 192.3\n",
      "Ficus\n",
      "running model ThermalTime\n"
     ]
    },
    {
     "name": "stderr",
     "output_type": "stream",
     "text": [
      "\r",
      "  3%|█████▏                                                                                                                                                                | 3/97 [00:11<05:44,  3.67s/it]"
     ]
    },
    {
     "name": "stdout",
     "output_type": "stream",
     "text": [
      "making predictions for model ThermalTime\n",
      "[245 245 245 245 245 245 245 245 245 245 245]\n",
      "[240. 210. 227. 229. 229. 248. 270. 270. 281. 239. 300.]\n",
      "model ThermalTime got a MAE of 21.818181818181817\n",
      "model ThermalTime got an RMSE of 26.460948928219075\n",
      "model ThermalTime's median error is: 18.0\n",
      "Ripeness Day: 245.0\n",
      "Ficus auriculata\n",
      "Ficus carica\n",
      "running model ThermalTime\n"
     ]
    },
    {
     "name": "stderr",
     "output_type": "stream",
     "text": [
      "\r",
      "  5%|████████▌                                                                                                                                                             | 5/97 [00:13<03:29,  2.27s/it]"
     ]
    },
    {
     "name": "stdout",
     "output_type": "stream",
     "text": [
      "making predictions for model ThermalTime\n",
      "[245 245 245 275 275 245 245 245 245 245]\n",
      "[180. 232. 236. 278. 248. 258. 258. 248. 205. 335.]\n",
      "model ThermalTime got a MAE of 27.6\n",
      "model ThermalTime got an RMSE of 39.06404996924922\n",
      "model ThermalTime's median error is: 13.0\n",
      "Ripeness Day: 251.0\n",
      "Ficus citrifolia\n",
      "running model ThermalTime\n"
     ]
    },
    {
     "name": "stderr",
     "output_type": "stream",
     "text": [
      "\r",
      "  6%|██████████▎                                                                                                                                                           | 6/97 [00:18<04:42,  3.10s/it]"
     ]
    },
    {
     "name": "stdout",
     "output_type": "stream",
     "text": [
      "making predictions for model ThermalTime\n",
      "[245 245]\n",
      "[201. 280.]\n",
      "model ThermalTime got a MAE of 39.5\n",
      "model ThermalTime got an RMSE of 39.75550276376844\n",
      "model ThermalTime's median error is: 39.5\n",
      "Ripeness Day: 245.0\n",
      "Ficus macrophylla\n",
      "running model ThermalTime\n"
     ]
    },
    {
     "name": "stderr",
     "output_type": "stream",
     "text": [
      "\r",
      "  7%|███████████▉                                                                                                                                                          | 7/97 [00:21<04:25,  2.94s/it]"
     ]
    },
    {
     "name": "stdout",
     "output_type": "stream",
     "text": [
      "making predictions for model ThermalTime\n",
      "[336]\n",
      "[329.]\n",
      "model ThermalTime got a MAE of 7.0\n",
      "model ThermalTime got an RMSE of 7.0\n",
      "model ThermalTime's median error is: 7.0\n",
      "Ripeness Day: 336.0\n",
      "Ficus sycomorus\n",
      "Olea europaea\n",
      "running model ThermalTime\n"
     ]
    },
    {
     "name": "stderr",
     "output_type": "stream",
     "text": [
      "\r",
      "  9%|███████████████▍                                                                                                                                                      | 9/97 [00:23<03:07,  2.13s/it]"
     ]
    },
    {
     "name": "stdout",
     "output_type": "stream",
     "text": [
      "making predictions for model ThermalTime\n",
      "[245 245 245 245 245 245 245 245 245 245 245 245 245 245 245 245 245 245\n",
      " 245 245 245 245 245 245 245 245 245 245 245 245 245 245 245 245 245 245\n",
      " 245 245 245 245 245 245 245 245 245 245]\n",
      "[356. 313. 327. 236. 342. 285. 257. 276. 307. 338. 325. 300. 283. 355.\n",
      " 293. 277. 298. 297. 263. 337. 336. 346. 286. 308. 284. 262. 290. 265.\n",
      " 299. 291. 272. 255. 256.  73. 287. 256. 277. 265. 263. 257. 299. 290.\n",
      " 303. 318. 276. 180.]\n",
      "model ThermalTime got a MAE of 51.76086956521739\n",
      "model ThermalTime got an RMSE of 61.76480635724381\n",
      "model ThermalTime's median error is: 45.5\n",
      "Ripeness Day: 245.0\n",
      "Olea europea\n",
      "running model ThermalTime\n"
     ]
    },
    {
     "name": "stderr",
     "output_type": "stream",
     "text": [
      "\r",
      " 10%|█████████████████                                                                                                                                                    | 10/97 [00:28<04:00,  2.76s/it]"
     ]
    },
    {
     "name": "stdout",
     "output_type": "stream",
     "text": [
      "making predictions for model ThermalTime\n",
      "[275 275 306 275 275 275 275 275 275 306 275 275 275 306 275 306 306 275\n",
      " 275]\n",
      "[294.         282.         329.         292.         197.66666667\n",
      " 284.5        211.         273.5        292.5        304.\n",
      " 285.5        312.         315.5        295.         294.\n",
      " 296.         334.         309.5        328.        ]\n",
      "model ThermalTime got a MAE of 25.333333333333336\n",
      "model ThermalTime got an RMSE of 32.59959996884402\n",
      "model ThermalTime's median error is: 19.0\n",
      "Ripeness Day: 283.1578947368421\n",
      "Olea\n",
      "running model ThermalTime\n"
     ]
    },
    {
     "name": "stderr",
     "output_type": "stream",
     "text": [
      "\r",
      " 11%|██████████████████▋                                                                                                                                                  | 11/97 [00:31<04:16,  2.98s/it]"
     ]
    },
    {
     "name": "stdout",
     "output_type": "stream",
     "text": [
      "making predictions for model ThermalTime\n",
      "[306 306 306 306 306 306 306 306 306 306 306 306 306]\n",
      "[230. 232. 274. 274. 323. 323. 333. 338. 338. 340. 340. 343. 357.]\n",
      "model ThermalTime got a MAE of 38.07692307692308\n",
      "model ThermalTime got an RMSE of 42.00457850502271\n",
      "model ThermalTime's median error is: 32.0\n",
      "Ripeness Day: 306.0\n",
      "Morus rubra\n",
      "running model ThermalTime\n"
     ]
    },
    {
     "name": "stderr",
     "output_type": "stream",
     "text": [
      "\r",
      " 12%|████████████████████▍                                                                                                                                                | 12/97 [00:35<04:18,  3.04s/it]"
     ]
    },
    {
     "name": "stdout",
     "output_type": "stream",
     "text": [
      "making predictions for model ThermalTime\n",
      "[183 183 153 153 153 153 153 153 183 153 153 153]\n",
      "[198. 190. 173. 171. 170. 170. 162. 159. 156. 156. 147. 137.]\n",
      "model ThermalTime got a MAE of 13.416666666666666\n",
      "model ThermalTime got an RMSE of 15.063753405664428\n",
      "model ThermalTime's median error is: 15.5\n",
      "Ripeness Day: 160.5\n",
      "Morus\n",
      "running model ThermalTime\n"
     ]
    },
    {
     "name": "stderr",
     "output_type": "stream",
     "text": [
      "\r",
      " 13%|██████████████████████                                                                                                                                               | 13/97 [00:38<04:35,  3.28s/it]"
     ]
    },
    {
     "name": "stdout",
     "output_type": "stream",
     "text": [
      "making predictions for model ThermalTime\n",
      "[153 153 183 183 183 183 183 183 183 153 153 183 153 183 183 183 153 153\n",
      " 183 183 183 183 183 183 153 183 153 153 183 183 183 183 183 183 183 183\n",
      " 183 183 183 183 183 183 183 153 183 153 183 183 183 183 153 183 153 153\n",
      " 153 153 153 183 183 183 153 183 153 183 153 183 183 153 153 153]\n",
      "[290. 290. 232. 220. 215. 205. 202. 201. 200. 196. 190. 188. 187. 186.\n",
      " 186. 185. 184. 184. 182. 182. 182. 181. 181. 180. 180. 177. 176. 175.\n",
      " 174. 174. 172. 172. 172. 171. 170. 170. 170. 170. 169. 169. 168. 167.\n",
      " 167. 167. 167. 167. 166. 165. 163. 163. 161. 160. 159. 159. 159. 158.\n",
      " 158. 158. 158. 157. 156. 153. 152. 151. 142. 134. 134. 133. 130. 116.]\n",
      "model ThermalTime got a MAE of 20.62857142857143\n",
      "model ThermalTime got an RMSE of 31.23596827834403\n",
      "model ThermalTime's median error is: 15.5\n",
      "Ripeness Day: 172.71428571428572\n",
      "Morus macroura\n",
      "running model ThermalTime\n"
     ]
    },
    {
     "name": "stderr",
     "output_type": "stream",
     "text": [
      "\r",
      " 14%|███████████████████████▊                                                                                                                                             | 14/97 [00:42<04:38,  3.35s/it]"
     ]
    },
    {
     "name": "stdout",
     "output_type": "stream",
     "text": [
      "making predictions for model ThermalTime\n",
      "[153]\n",
      "[148.]\n",
      "model ThermalTime got a MAE of 5.0\n",
      "model ThermalTime got an RMSE of 5.0\n",
      "model ThermalTime's median error is: 5.0\n",
      "Ripeness Day: 153.0\n",
      "Morus alba\n",
      "running model ThermalTime\n"
     ]
    },
    {
     "name": "stderr",
     "output_type": "stream",
     "text": [
      "\r",
      " 15%|█████████████████████████▌                                                                                                                                           | 15/97 [00:46<04:50,  3.54s/it]"
     ]
    },
    {
     "name": "stdout",
     "output_type": "stream",
     "text": [
      "making predictions for model ThermalTime\n",
      "[183 153 153 153 183 183 183 183 183 183 183 183 183 183 183 183 183 183\n",
      " 183 183 183 153 153 183 153 153 153]\n",
      "[204. 200. 200. 195. 189. 189. 189. 185. 185. 180. 180. 180. 178. 178.\n",
      " 178. 178. 176. 176. 173. 168. 166. 164. 162. 160. 154. 138. 120.]\n",
      "model ThermalTime got a MAE of 13.185185185185185\n",
      "model ThermalTime got an RMSE of 18.879736344675063\n",
      "model ThermalTime's median error is: 7.0\n",
      "Ripeness Day: 174.11111111111111\n",
      "Morus nigra\n",
      "running model ThermalTime\n"
     ]
    },
    {
     "name": "stderr",
     "output_type": "stream",
     "text": [
      "\r",
      " 16%|███████████████████████████▏                                                                                                                                         | 16/97 [00:49<04:45,  3.52s/it]"
     ]
    },
    {
     "name": "stdout",
     "output_type": "stream",
     "text": [
      "making predictions for model ThermalTime\n",
      "[153 183 183 183 183 183 183 183 183 183 183 183 183 183 183 183 183 183\n",
      " 183 183 183 183 183 183 183 183 183 153 183 183 183 183 183 183 183 183\n",
      " 183 183 183 183 183 153 183 183 183 153 183 183 153 183 183 153 183 153\n",
      " 153 153 153 153 153 153 153 153 153 153 153 153 153 153 153 153]\n",
      "[291. 220. 204. 198. 197. 191. 191. 190. 188. 187. 186. 186. 184. 184.\n",
      " 183. 182. 182. 182. 182. 179. 179. 179. 178. 177. 176. 176. 174. 173.\n",
      " 172. 172. 171. 171. 170. 170. 170. 170. 170. 170. 170. 169. 168. 167.\n",
      " 166. 166. 160. 158. 158. 158. 157. 156. 156. 156. 154. 152. 151. 150.\n",
      " 149. 148. 148. 143. 142. 140. 140. 140. 136. 136. 134. 133. 133. 132.]\n",
      "model ThermalTime got a MAE of 13.014285714285714\n",
      "model ThermalTime got an RMSE of 21.45726650145087\n",
      "model ThermalTime's median error is: 11.5\n",
      "Ripeness Day: 173.14285714285714\n",
      "Morus australis\n",
      "running model ThermalTime\n"
     ]
    },
    {
     "name": "stderr",
     "output_type": "stream",
     "text": [
      "\r",
      " 18%|████████████████████████████▉                                                                                                                                        | 17/97 [00:52<04:16,  3.21s/it]"
     ]
    },
    {
     "name": "stdout",
     "output_type": "stream",
     "text": [
      "making predictions for model ThermalTime\n",
      "[153]\n",
      "[134.]\n",
      "model ThermalTime got a MAE of 19.0\n",
      "model ThermalTime got an RMSE of 19.0\n",
      "model ThermalTime's median error is: 19.0\n",
      "Ripeness Day: 153.0\n",
      "Amelanchier alnifolia\n",
      "running model ThermalTime\n"
     ]
    },
    {
     "name": "stderr",
     "output_type": "stream",
     "text": [
      "\r",
      " 19%|██████████████████████████████▌                                                                                                                                      | 18/97 [00:54<03:57,  3.01s/it]"
     ]
    },
    {
     "name": "stdout",
     "output_type": "stream",
     "text": [
      "making predictions for model ThermalTime\n",
      "[214 245 245 245 245 214 214 214 214 214 214]\n",
      "[206. 250. 222. 217. 236. 216. 188. 206. 203. 198. 212.]\n",
      "model ThermalTime got a MAE of 12.545454545454545\n",
      "model ThermalTime got an RMSE of 15.397756625265549\n",
      "model ThermalTime's median error is: 9.0\n",
      "Ripeness Day: 225.27272727272728\n",
      "Amelanchier arborea\n",
      "running model ThermalTime\n"
     ]
    },
    {
     "name": "stderr",
     "output_type": "stream",
     "text": [
      "\r",
      " 20%|████████████████████████████████▎                                                                                                                                    | 19/97 [00:58<04:09,  3.19s/it]"
     ]
    },
    {
     "name": "stdout",
     "output_type": "stream",
     "text": [
      "making predictions for model ThermalTime\n",
      "[183 183 183 183 183 183 183 153 153 153 153 153 153 153 153 153 153 183\n",
      " 153 183 183 183 183 183]\n",
      "[158. 181. 176. 195. 215. 167. 155. 200. 155. 151. 238. 264. 165. 290.\n",
      " 284. 181. 247. 163. 172. 171. 150. 138. 134. 142.]\n",
      "model ThermalTime got a MAE of 41.25\n",
      "model ThermalTime got an RMSE of 57.17079674099356\n",
      "model ThermalTime's median error is: 28.0\n",
      "Ripeness Day: 169.25\n",
      "Amelanchier canadensis\n",
      "running model ThermalTime\n"
     ]
    },
    {
     "name": "stderr",
     "output_type": "stream",
     "text": [
      "\r",
      " 21%|██████████████████████████████████                                                                                                                                   | 20/97 [01:02<04:12,  3.28s/it]"
     ]
    },
    {
     "name": "stdout",
     "output_type": "stream",
     "text": [
      "making predictions for model ThermalTime\n",
      "[183 183 183 183 183 183 183 183 183 183 183 183 214 183 183]\n",
      "[158. 173. 179. 169. 176. 186. 221. 201. 209. 193. 167. 161. 174. 180.\n",
      " 173.]\n",
      "model ThermalTime got a MAE of 16.4\n",
      "model ThermalTime got an RMSE of 19.979989989987484\n",
      "model ThermalTime's median error is: 14.0\n",
      "Ripeness Day: 185.06666666666666\n",
      "Amelanchier grandiflora\n",
      "running model ThermalTime\n"
     ]
    },
    {
     "name": "stderr",
     "output_type": "stream",
     "text": [
      "\r",
      " 22%|███████████████████████████████████▋                                                                                                                                 | 21/97 [01:04<03:52,  3.06s/it]"
     ]
    },
    {
     "name": "stdout",
     "output_type": "stream",
     "text": [
      "making predictions for model ThermalTime\n",
      "[183 183 183 183 183 183 183 183 183 183 183 183 183 183 183 183 183 183]\n",
      "[168. 189. 194. 180. 173. 165. 159. 189. 173. 194. 165. 180. 161. 155.\n",
      " 165. 169. 178. 167.]\n",
      "model ThermalTime got a MAE of 13.222222222222221\n",
      "model ThermalTime got an RMSE of 15.0\n",
      "model ThermalTime's median error is: 12.5\n",
      "Ripeness Day: 183.0\n",
      "Amelanchier laevis\n",
      "running model ThermalTime\n"
     ]
    },
    {
     "name": "stderr",
     "output_type": "stream",
     "text": [
      "\r",
      " 23%|█████████████████████████████████████▍                                                                                                                               | 22/97 [01:06<03:34,  2.86s/it]"
     ]
    },
    {
     "name": "stdout",
     "output_type": "stream",
     "text": [
      "making predictions for model ThermalTime\n",
      "[183 183 183 183 183 183 183 214 214 214 183 183 183 183 183 183 183 183\n",
      " 183 183 183 183 183 183 183]\n",
      "[186. 159. 168. 174. 196. 190. 196. 167. 144. 150. 152. 158. 168. 168.\n",
      " 168. 163. 189. 167. 173. 184. 173. 175. 177. 177. 181.]\n",
      "model ThermalTime got a MAE of 18.04\n",
      "model ThermalTime got an RMSE of 25.121305698549985\n",
      "model ThermalTime's median error is: 13.0\n",
      "Ripeness Day: 186.72\n",
      "Amelanchier utahensis\n",
      "running model ThermalTime\n"
     ]
    },
    {
     "name": "stderr",
     "output_type": "stream",
     "text": [
      "\r",
      " 24%|███████████████████████████████████████                                                                                                                              | 23/97 [01:09<03:21,  2.72s/it]"
     ]
    },
    {
     "name": "stdout",
     "output_type": "stream",
     "text": [
      "making predictions for model ThermalTime\n",
      "[245 245]\n",
      "[276.   214.25]\n",
      "model ThermalTime got a MAE of 30.875\n",
      "model ThermalTime got an RMSE of 30.875253035400373\n",
      "model ThermalTime's median error is: 30.875\n",
      "Ripeness Day: 245.0\n",
      "Amelanchier\n",
      "running model ThermalTime\n"
     ]
    },
    {
     "name": "stderr",
     "output_type": "stream",
     "text": [
      "\r",
      " 25%|████████████████████████████████████████▊                                                                                                                            | 24/97 [01:12<03:33,  2.92s/it]"
     ]
    },
    {
     "name": "stdout",
     "output_type": "stream",
     "text": [
      "making predictions for model ThermalTime\n",
      "[153 153 153 183 153 153 183 153 153 153 153 153 153 153 183 183 153 183\n",
      " 153 153 153 153 153 153 183 183 183 153 183 183 183 183 183 183 183 183\n",
      " 153 183 183 183 183 183 153 183 183 183 183 183 153 153 153 183 153 153\n",
      " 183 183 183 183 183 153 183 153 153 183 183 183 183 153 153 183 183 153\n",
      " 183 153 183 183]\n",
      "[157. 157. 157. 174. 157. 157. 165. 156. 154. 154. 154. 154. 154. 159.\n",
      " 162. 152. 158. 157. 159. 159. 159. 159. 159. 160. 160. 178. 179. 179.\n",
      " 179. 165. 194. 196. 171. 205. 176. 184. 157. 164. 166. 166. 167. 167.\n",
      " 167. 167. 168. 169. 169. 169. 171. 170. 170. 171. 167. 167. 172. 175.\n",
      " 180. 178. 230. 183. 174. 178. 159. 180. 173. 171. 158. 159. 159. 162.\n",
      " 167. 168. 169. 147. 152. 156.]\n",
      "model ThermalTime got a MAE of 12.25\n",
      "model ThermalTime got an RMSE of 15.15490193407991\n",
      "model ThermalTime's median error is: 11.5\n",
      "Ripeness Day: 169.57894736842104\n",
      "Citrus\n",
      "running model ThermalTime\n"
     ]
    },
    {
     "name": "stderr",
     "output_type": "stream",
     "text": [
      "\r",
      " 26%|██████████████████████████████████████████▌                                                                                                                          | 25/97 [01:14<03:15,  2.71s/it]"
     ]
    },
    {
     "name": "stdout",
     "output_type": "stream",
     "text": [
      "making predictions for model ThermalTime\n",
      "[214 214 214 214 214 214 245 214 214 214 214 214 214 214 214 214 214 214\n",
      " 214 214 214 214 214 214 214 214 214 214 214 214 214 214 214 214 214 214\n",
      " 214 214 214 214 214 214 214 214 214 214 214 214 214 214 214 214 214 214\n",
      " 214 245 214 214 214 214 214 214 214 214 214 214 214 214 214]\n",
      "[181. 138. 148. 169.  72.  75.  91. 169. 169. 169. 169. 169. 169. 181.\n",
      " 173. 234. 274. 345. 283. 283. 283. 306. 323. 323. 323. 323. 323. 323.\n",
      " 333. 333. 333. 338. 340. 343. 357. 356.  72.  72.  72.  88. 148. 164.\n",
      " 324. 103. 349. 349. 303. 116. 137. 137.  71.  71.  87.  99. 168. 182.\n",
      " 317. 340. 323. 330. 333. 333. 338.  72.  72.  72. 181. 315. 180.]\n",
      "model ThermalTime got a MAE of 97.55072463768116\n",
      "model ThermalTime got an RMSE of 104.66115096700939\n",
      "model ThermalTime's median error is: 109.0\n",
      "Ripeness Day: 214.8985507246377\n",
      "Citrus jambhiri\n",
      "running model ThermalTime\n"
     ]
    },
    {
     "name": "stderr",
     "output_type": "stream",
     "text": [
      "\r",
      " 27%|████████████████████████████████████████████▏                                                                                                                        | 26/97 [01:17<03:11,  2.69s/it]"
     ]
    },
    {
     "name": "stdout",
     "output_type": "stream",
     "text": [
      "making predictions for model ThermalTime\n",
      "[336]\n",
      "[333.]\n",
      "model ThermalTime got a MAE of 3.0\n",
      "model ThermalTime got an RMSE of 3.0\n",
      "model ThermalTime's median error is: 3.0\n",
      "Ripeness Day: 336.0\n",
      "Citrus limon\n",
      "running model ThermalTime\n"
     ]
    },
    {
     "name": "stderr",
     "output_type": "stream",
     "text": [
      "\r",
      " 28%|█████████████████████████████████████████████▉                                                                                                                       | 27/97 [01:20<03:01,  2.60s/it]"
     ]
    },
    {
     "name": "stdout",
     "output_type": "stream",
     "text": [
      "making predictions for model ThermalTime\n",
      "[214 245]\n",
      "[177. 303.]\n",
      "model ThermalTime got a MAE of 47.5\n",
      "model ThermalTime got an RMSE of 48.646685395821166\n",
      "model ThermalTime's median error is: 47.5\n",
      "Ripeness Day: 229.5\n",
      "Rubus idaeus\n",
      "running model ThermalTime\n"
     ]
    },
    {
     "name": "stderr",
     "output_type": "stream",
     "text": [
      "\r",
      " 29%|███████████████████████████████████████████████▋                                                                                                                     | 28/97 [01:23<03:10,  2.77s/it]"
     ]
    },
    {
     "name": "stdout",
     "output_type": "stream",
     "text": [
      "making predictions for model ThermalTime\n",
      "[214 214 214 214 214 214 214 214 214 214 214 214 245 245 214 214]\n",
      "[224. 212. 216. 206. 229. 207. 226. 213. 200. 188. 187. 282. 227. 227.\n",
      " 291. 311.]\n",
      "model ThermalTime got a MAE of 25.125\n",
      "model ThermalTime got an RMSE of 37.750827805493216\n",
      "model ThermalTime's median error is: 14.5\n",
      "Ripeness Day: 217.875\n",
      "Rubus ellipticus\n",
      "Rubus hayata\n",
      "running model ThermalTime\n"
     ]
    },
    {
     "name": "stderr",
     "output_type": "stream",
     "text": [
      "\r",
      " 31%|███████████████████████████████████████████████████                                                                                                                  | 30/97 [01:25<02:19,  2.08s/it]"
     ]
    },
    {
     "name": "stdout",
     "output_type": "stream",
     "text": [
      "making predictions for model ThermalTime\n",
      "[214 214 214 245 214 214]\n",
      "[208. 225. 235. 205. 228. 208.]\n",
      "model ThermalTime got a MAE of 16.333333333333332\n",
      "model ThermalTime got an RMSE of 20.12461179749811\n",
      "model ThermalTime's median error is: 12.5\n",
      "Ripeness Day: 219.16666666666666\n",
      "Rubus odoratus\n",
      "Rubus phoenicolasius\n",
      "running model ThermalTime\n"
     ]
    },
    {
     "name": "stderr",
     "output_type": "stream",
     "text": [
      "\r",
      " 33%|██████████████████████████████████████████████████████▍                                                                                                              | 32/97 [01:28<01:56,  1.79s/it]"
     ]
    },
    {
     "name": "stdout",
     "output_type": "stream",
     "text": [
      "making predictions for model ThermalTime\n",
      "[183 183 183 183 183]\n",
      "[193. 188. 192. 164. 188.]\n",
      "model ThermalTime got a MAE of 9.6\n",
      "model ThermalTime got an RMSE of 10.881176406988354\n",
      "model ThermalTime's median error is: 9.0\n",
      "Ripeness Day: 183.0\n",
      "Rubus rolfei\n",
      "running model ThermalTime\n"
     ]
    },
    {
     "name": "stderr",
     "output_type": "stream",
     "text": [
      "\r",
      " 34%|████████████████████████████████████████████████████████▏                                                                                                            | 33/97 [01:30<02:05,  1.96s/it]"
     ]
    },
    {
     "name": "stdout",
     "output_type": "stream",
     "text": [
      "making predictions for model ThermalTime\n",
      "[214]\n",
      "[203.]\n",
      "model ThermalTime got a MAE of 11.0\n",
      "model ThermalTime got an RMSE of 11.0\n",
      "model ThermalTime's median error is: 11.0\n",
      "Ripeness Day: 214.0\n",
      "Citrus aurantium\n",
      "running model ThermalTime\n"
     ]
    },
    {
     "name": "stderr",
     "output_type": "stream",
     "text": [
      " 34%|████████████████████████████████████████████████████████▏                                                                                                            | 33/97 [01:33<03:01,  2.83s/it]\n"
     ]
    },
    {
     "ename": "KeyboardInterrupt",
     "evalue": "",
     "output_type": "error",
     "traceback": [
      "\u001b[0;31m---------------------------------------------------------------------------\u001b[0m",
      "\u001b[0;31mKeyboardInterrupt\u001b[0m                         Traceback (most recent call last)",
      "Cell \u001b[0;32mIn[55], line 24\u001b[0m\n\u001b[1;32m     21\u001b[0m     \u001b[38;5;28mprint\u001b[39m(\u001b[38;5;124m\"\u001b[39m\u001b[38;5;124mNo test data for \u001b[39m\u001b[38;5;132;01m{}\u001b[39;00m\u001b[38;5;124m\"\u001b[39m\u001b[38;5;241m.\u001b[39mformat(s))\n\u001b[1;32m     22\u001b[0m     \u001b[38;5;66;03m#print(species_test_df)\u001b[39;00m\n\u001b[0;32m---> 24\u001b[0m predictions \u001b[38;5;241m=\u001b[39m train_ripeness_small(species_train_df, weather_training,\n\u001b[1;32m     25\u001b[0m                     species_test_df, weather_test)\n\u001b[1;32m     27\u001b[0m species_prediction_dict[s] \u001b[38;5;241m=\u001b[39m predictions\n",
      "Cell \u001b[0;32mIn[10], line 28\u001b[0m, in \u001b[0;36mtrain_ripeness_small\u001b[0;34m(observations, predictors, test_observations, test_predictors, model_name)\u001b[0m\n\u001b[1;32m     26\u001b[0m Model \u001b[38;5;241m=\u001b[39m utils\u001b[38;5;241m.\u001b[39mload_model(model_name)\n\u001b[1;32m     27\u001b[0m model \u001b[38;5;241m=\u001b[39m Model()\n\u001b[0;32m---> 28\u001b[0m model\u001b[38;5;241m.\u001b[39mfit(observations, predictors, optimizer_params\u001b[38;5;241m=\u001b[39m\u001b[38;5;124m'\u001b[39m\u001b[38;5;124mpractical\u001b[39m\u001b[38;5;124m'\u001b[39m)\n\u001b[1;32m     30\u001b[0m \u001b[38;5;28mprint\u001b[39m(\u001b[38;5;124m\"\u001b[39m\u001b[38;5;124mmaking predictions for model \u001b[39m\u001b[38;5;132;01m{m}\u001b[39;00m\u001b[38;5;124m\"\u001b[39m\u001b[38;5;241m.\u001b[39mformat(m\u001b[38;5;241m=\u001b[39mmodel_name))        \n\u001b[1;32m     31\u001b[0m preds \u001b[38;5;241m=\u001b[39m model\u001b[38;5;241m.\u001b[39mpredict(test_observations, test_predictors)\n",
      "File \u001b[0;32m~/opt/anaconda3/envs/seasonality/lib/python3.11/site-packages/pyPhenology/models/base.py:73\u001b[0m, in \u001b[0;36mBaseModel.fit\u001b[0;34m(self, observations, predictors, loss_function, method, optimizer_params, verbose, debug, **kwargs)\u001b[0m\n\u001b[1;32m     70\u001b[0m \u001b[38;5;28;01mif\u001b[39;00m verbose:\n\u001b[1;32m     71\u001b[0m     fitting_start \u001b[38;5;241m=\u001b[39m time\u001b[38;5;241m.\u001b[39mtime()\n\u001b[0;32m---> 73\u001b[0m \u001b[38;5;28mself\u001b[39m\u001b[38;5;241m.\u001b[39m_fitted_params \u001b[38;5;241m=\u001b[39m utils\u001b[38;5;241m.\u001b[39moptimize\u001b[38;5;241m.\u001b[39mfit_parameters(function_to_minimize\u001b[38;5;241m=\u001b[39m\u001b[38;5;28mself\u001b[39m\u001b[38;5;241m.\u001b[39m_scipy_error,\n\u001b[1;32m     74\u001b[0m                                                     bounds\u001b[38;5;241m=\u001b[39m\u001b[38;5;28mself\u001b[39m\u001b[38;5;241m.\u001b[39m_scipy_bounds(),\n\u001b[1;32m     75\u001b[0m                                                     method\u001b[38;5;241m=\u001b[39mmethod,\n\u001b[1;32m     76\u001b[0m                                                     results_translator\u001b[38;5;241m=\u001b[39m\u001b[38;5;28mself\u001b[39m\u001b[38;5;241m.\u001b[39m_translate_scipy_parameters,\n\u001b[1;32m     77\u001b[0m                                                     optimizer_params\u001b[38;5;241m=\u001b[39moptimizer_params,\n\u001b[1;32m     78\u001b[0m                                                     verbose\u001b[38;5;241m=\u001b[39mverbose)\n\u001b[1;32m     79\u001b[0m \u001b[38;5;28;01mif\u001b[39;00m verbose:\n\u001b[1;32m     80\u001b[0m     total_fit_time \u001b[38;5;241m=\u001b[39m \u001b[38;5;28mround\u001b[39m(time\u001b[38;5;241m.\u001b[39mtime() \u001b[38;5;241m-\u001b[39m fitting_start, \u001b[38;5;241m5\u001b[39m)\n",
      "File \u001b[0;32m~/opt/anaconda3/envs/seasonality/lib/python3.11/site-packages/pyPhenology/models/utils/optimize.py:135\u001b[0m, in \u001b[0;36mfit_parameters\u001b[0;34m(function_to_minimize, bounds, method, results_translator, optimizer_params, verbose)\u001b[0m\n\u001b[1;32m    131\u001b[0m \u001b[38;5;28;01mif\u001b[39;00m method \u001b[38;5;241m==\u001b[39m \u001b[38;5;124m'\u001b[39m\u001b[38;5;124mDE\u001b[39m\u001b[38;5;124m'\u001b[39m:\n\u001b[1;32m    132\u001b[0m     optimizer_params \u001b[38;5;241m=\u001b[39m validate_optimizer_parameters(optimizer_method\u001b[38;5;241m=\u001b[39mmethod,\n\u001b[1;32m    133\u001b[0m                                                      optimizer_params\u001b[38;5;241m=\u001b[39moptimizer_params)\n\u001b[0;32m--> 135\u001b[0m     optimize_output \u001b[38;5;241m=\u001b[39m optimize\u001b[38;5;241m.\u001b[39mdifferential_evolution(function_to_minimize,\n\u001b[1;32m    136\u001b[0m                                                       bounds\u001b[38;5;241m=\u001b[39mbounds,\n\u001b[1;32m    137\u001b[0m                                                       \u001b[38;5;241m*\u001b[39m\u001b[38;5;241m*\u001b[39moptimizer_params)\n\u001b[1;32m    138\u001b[0m     fitted_parameters \u001b[38;5;241m=\u001b[39m results_translator(optimize_output[\u001b[38;5;124m'\u001b[39m\u001b[38;5;124mx\u001b[39m\u001b[38;5;124m'\u001b[39m])\n\u001b[1;32m    140\u001b[0m \u001b[38;5;28;01melif\u001b[39;00m method \u001b[38;5;241m==\u001b[39m \u001b[38;5;124m'\u001b[39m\u001b[38;5;124mBH\u001b[39m\u001b[38;5;124m'\u001b[39m:\n",
      "File \u001b[0;32m~/opt/anaconda3/envs/seasonality/lib/python3.11/site-packages/scipy/optimize/_differentialevolution.py:397\u001b[0m, in \u001b[0;36mdifferential_evolution\u001b[0;34m(func, bounds, args, strategy, maxiter, popsize, tol, mutation, recombination, seed, callback, disp, polish, init, atol, updating, workers, constraints, x0, integrality, vectorized)\u001b[0m\n\u001b[1;32m    380\u001b[0m \u001b[38;5;66;03m# using a context manager means that any created Pool objects are\u001b[39;00m\n\u001b[1;32m    381\u001b[0m \u001b[38;5;66;03m# cleared up.\u001b[39;00m\n\u001b[1;32m    382\u001b[0m \u001b[38;5;28;01mwith\u001b[39;00m DifferentialEvolutionSolver(func, bounds, args\u001b[38;5;241m=\u001b[39margs,\n\u001b[1;32m    383\u001b[0m                                  strategy\u001b[38;5;241m=\u001b[39mstrategy,\n\u001b[1;32m    384\u001b[0m                                  maxiter\u001b[38;5;241m=\u001b[39mmaxiter,\n\u001b[0;32m   (...)\u001b[0m\n\u001b[1;32m    395\u001b[0m                                  integrality\u001b[38;5;241m=\u001b[39mintegrality,\n\u001b[1;32m    396\u001b[0m                                  vectorized\u001b[38;5;241m=\u001b[39mvectorized) \u001b[38;5;28;01mas\u001b[39;00m solver:\n\u001b[0;32m--> 397\u001b[0m     ret \u001b[38;5;241m=\u001b[39m solver\u001b[38;5;241m.\u001b[39msolve()\n\u001b[1;32m    399\u001b[0m \u001b[38;5;28;01mreturn\u001b[39;00m ret\n",
      "File \u001b[0;32m~/opt/anaconda3/envs/seasonality/lib/python3.11/site-packages/scipy/optimize/_differentialevolution.py:998\u001b[0m, in \u001b[0;36mDifferentialEvolutionSolver.solve\u001b[0;34m(self)\u001b[0m\n\u001b[1;32m    995\u001b[0m \u001b[38;5;28;01mfor\u001b[39;00m nit \u001b[38;5;129;01min\u001b[39;00m \u001b[38;5;28mrange\u001b[39m(\u001b[38;5;241m1\u001b[39m, \u001b[38;5;28mself\u001b[39m\u001b[38;5;241m.\u001b[39mmaxiter \u001b[38;5;241m+\u001b[39m \u001b[38;5;241m1\u001b[39m):\n\u001b[1;32m    996\u001b[0m     \u001b[38;5;66;03m# evolve the population by a generation\u001b[39;00m\n\u001b[1;32m    997\u001b[0m     \u001b[38;5;28;01mtry\u001b[39;00m:\n\u001b[0;32m--> 998\u001b[0m         \u001b[38;5;28mnext\u001b[39m(\u001b[38;5;28mself\u001b[39m)\n\u001b[1;32m    999\u001b[0m     \u001b[38;5;28;01mexcept\u001b[39;00m \u001b[38;5;167;01mStopIteration\u001b[39;00m:\n\u001b[1;32m   1000\u001b[0m         warning_flag \u001b[38;5;241m=\u001b[39m \u001b[38;5;28;01mTrue\u001b[39;00m\n",
      "File \u001b[0;32m~/opt/anaconda3/envs/seasonality/lib/python3.11/site-packages/scipy/optimize/_differentialevolution.py:1364\u001b[0m, in \u001b[0;36mDifferentialEvolutionSolver.__next__\u001b[0;34m(self)\u001b[0m\n\u001b[1;32m   1361\u001b[0m     \u001b[38;5;28;01mraise\u001b[39;00m \u001b[38;5;167;01mStopIteration\u001b[39;00m\n\u001b[1;32m   1363\u001b[0m \u001b[38;5;66;03m# create a trial solution\u001b[39;00m\n\u001b[0;32m-> 1364\u001b[0m trial \u001b[38;5;241m=\u001b[39m \u001b[38;5;28mself\u001b[39m\u001b[38;5;241m.\u001b[39m_mutate(candidate)\n\u001b[1;32m   1366\u001b[0m \u001b[38;5;66;03m# ensuring that it's in the range [0, 1)\u001b[39;00m\n\u001b[1;32m   1367\u001b[0m \u001b[38;5;28mself\u001b[39m\u001b[38;5;241m.\u001b[39m_ensure_constraint(trial)\n",
      "File \u001b[0;32m~/opt/anaconda3/envs/seasonality/lib/python3.11/site-packages/scipy/optimize/_differentialevolution.py:1477\u001b[0m, in \u001b[0;36mDifferentialEvolutionSolver._mutate\u001b[0;34m(self, candidate)\u001b[0m\n\u001b[1;32m   1473\u001b[0m trial \u001b[38;5;241m=\u001b[39m np\u001b[38;5;241m.\u001b[39mcopy(\u001b[38;5;28mself\u001b[39m\u001b[38;5;241m.\u001b[39mpopulation[candidate])\n\u001b[1;32m   1475\u001b[0m rng \u001b[38;5;241m=\u001b[39m \u001b[38;5;28mself\u001b[39m\u001b[38;5;241m.\u001b[39mrandom_number_generator\n\u001b[0;32m-> 1477\u001b[0m fill_point \u001b[38;5;241m=\u001b[39m rng\u001b[38;5;241m.\u001b[39mchoice(\u001b[38;5;28mself\u001b[39m\u001b[38;5;241m.\u001b[39mparameter_count)\n\u001b[1;32m   1479\u001b[0m \u001b[38;5;28;01mif\u001b[39;00m \u001b[38;5;28mself\u001b[39m\u001b[38;5;241m.\u001b[39mstrategy \u001b[38;5;129;01min\u001b[39;00m [\u001b[38;5;124m'\u001b[39m\u001b[38;5;124mcurrenttobest1exp\u001b[39m\u001b[38;5;124m'\u001b[39m, \u001b[38;5;124m'\u001b[39m\u001b[38;5;124mcurrenttobest1bin\u001b[39m\u001b[38;5;124m'\u001b[39m]:\n\u001b[1;32m   1480\u001b[0m     bprime \u001b[38;5;241m=\u001b[39m \u001b[38;5;28mself\u001b[39m\u001b[38;5;241m.\u001b[39mmutation_func(candidate,\n\u001b[1;32m   1481\u001b[0m                                 \u001b[38;5;28mself\u001b[39m\u001b[38;5;241m.\u001b[39m_select_samples(candidate, \u001b[38;5;241m5\u001b[39m))\n",
      "File \u001b[0;32mmtrand.pyx:997\u001b[0m, in \u001b[0;36mnumpy.random.mtrand.RandomState.choice\u001b[0;34m()\u001b[0m\n",
      "File \u001b[0;32mmtrand.pyx:781\u001b[0m, in \u001b[0;36mnumpy.random.mtrand.RandomState.randint\u001b[0;34m()\u001b[0m\n",
      "File \u001b[0;32m_bounded_integers.pyx:1315\u001b[0m, in \u001b[0;36mnumpy.random._bounded_integers._rand_int64\u001b[0;34m()\u001b[0m\n",
      "File \u001b[0;32m~/opt/anaconda3/envs/seasonality/lib/python3.11/site-packages/numpy/core/fromnumeric.py:3100\u001b[0m, in \u001b[0;36mprod\u001b[0;34m(a, axis, dtype, out, keepdims, initial, where)\u001b[0m\n\u001b[1;32m   2979\u001b[0m \u001b[38;5;129m@array_function_dispatch\u001b[39m(_prod_dispatcher)\n\u001b[1;32m   2980\u001b[0m \u001b[38;5;28;01mdef\u001b[39;00m \u001b[38;5;21mprod\u001b[39m(a, axis\u001b[38;5;241m=\u001b[39m\u001b[38;5;28;01mNone\u001b[39;00m, dtype\u001b[38;5;241m=\u001b[39m\u001b[38;5;28;01mNone\u001b[39;00m, out\u001b[38;5;241m=\u001b[39m\u001b[38;5;28;01mNone\u001b[39;00m, keepdims\u001b[38;5;241m=\u001b[39mnp\u001b[38;5;241m.\u001b[39m_NoValue,\n\u001b[1;32m   2981\u001b[0m          initial\u001b[38;5;241m=\u001b[39mnp\u001b[38;5;241m.\u001b[39m_NoValue, where\u001b[38;5;241m=\u001b[39mnp\u001b[38;5;241m.\u001b[39m_NoValue):\n\u001b[1;32m   2982\u001b[0m     \u001b[38;5;124;03m\"\"\"\u001b[39;00m\n\u001b[1;32m   2983\u001b[0m \u001b[38;5;124;03m    Return the product of array elements over a given axis.\u001b[39;00m\n\u001b[1;32m   2984\u001b[0m \n\u001b[0;32m   (...)\u001b[0m\n\u001b[1;32m   3098\u001b[0m \u001b[38;5;124;03m    10\u001b[39;00m\n\u001b[1;32m   3099\u001b[0m \u001b[38;5;124;03m    \"\"\"\u001b[39;00m\n\u001b[0;32m-> 3100\u001b[0m     \u001b[38;5;28;01mreturn\u001b[39;00m _wrapreduction(a, np\u001b[38;5;241m.\u001b[39mmultiply, \u001b[38;5;124m'\u001b[39m\u001b[38;5;124mprod\u001b[39m\u001b[38;5;124m'\u001b[39m, axis, dtype, out,\n\u001b[1;32m   3101\u001b[0m                           keepdims\u001b[38;5;241m=\u001b[39mkeepdims, initial\u001b[38;5;241m=\u001b[39minitial, where\u001b[38;5;241m=\u001b[39mwhere)\n",
      "File \u001b[0;32m~/opt/anaconda3/envs/seasonality/lib/python3.11/site-packages/numpy/core/fromnumeric.py:71\u001b[0m, in \u001b[0;36m_wrapreduction\u001b[0;34m(obj, ufunc, method, axis, dtype, out, **kwargs)\u001b[0m\n\u001b[1;32m     60\u001b[0m     \u001b[38;5;28;01mexcept\u001b[39;00m \u001b[38;5;167;01mTypeError\u001b[39;00m:\n\u001b[1;32m     61\u001b[0m         \u001b[38;5;66;03m# A TypeError occurs if the object does have such a method in its\u001b[39;00m\n\u001b[1;32m     62\u001b[0m         \u001b[38;5;66;03m# class, but its signature is not identical to that of NumPy's. This\u001b[39;00m\n\u001b[0;32m   (...)\u001b[0m\n\u001b[1;32m     66\u001b[0m         \u001b[38;5;66;03m# Call _wrapit from within the except clause to ensure a potential\u001b[39;00m\n\u001b[1;32m     67\u001b[0m         \u001b[38;5;66;03m# exception has a traceback chain.\u001b[39;00m\n\u001b[1;32m     68\u001b[0m         \u001b[38;5;28;01mreturn\u001b[39;00m _wrapit(obj, method, \u001b[38;5;241m*\u001b[39margs, \u001b[38;5;241m*\u001b[39m\u001b[38;5;241m*\u001b[39mkwds)\n\u001b[0;32m---> 71\u001b[0m \u001b[38;5;28;01mdef\u001b[39;00m \u001b[38;5;21m_wrapreduction\u001b[39m(obj, ufunc, method, axis, dtype, out, \u001b[38;5;241m*\u001b[39m\u001b[38;5;241m*\u001b[39mkwargs):\n\u001b[1;32m     72\u001b[0m     passkwargs \u001b[38;5;241m=\u001b[39m {k: v \u001b[38;5;28;01mfor\u001b[39;00m k, v \u001b[38;5;129;01min\u001b[39;00m kwargs\u001b[38;5;241m.\u001b[39mitems()\n\u001b[1;32m     73\u001b[0m                   \u001b[38;5;28;01mif\u001b[39;00m v \u001b[38;5;129;01mis\u001b[39;00m \u001b[38;5;129;01mnot\u001b[39;00m np\u001b[38;5;241m.\u001b[39m_NoValue}\n\u001b[1;32m     75\u001b[0m     \u001b[38;5;28;01mif\u001b[39;00m \u001b[38;5;28mtype\u001b[39m(obj) \u001b[38;5;129;01mis\u001b[39;00m \u001b[38;5;129;01mnot\u001b[39;00m mu\u001b[38;5;241m.\u001b[39mndarray:\n",
      "\u001b[0;31mKeyboardInterrupt\u001b[0m: "
     ]
    }
   ],
   "source": [
    "## Train models\n",
    "\n",
    "species_prediction_dict = {}\n",
    "\n",
    "for s in tqdm(species_list):\n",
    "    print(s)\n",
    "    species_train_df = filtered_plants.query('formatted_sci_name == \"{}\" and year < {}'.format(s, high_cutoff_year))\n",
    "    \n",
    "    if len(species_train_df) == 0:\n",
    "        continue\n",
    "    \n",
    "    species_test_df = filtered_plants.query('formatted_sci_name == \"{}\" and year >= {}'.format(s, high_cutoff_year))\n",
    "    \n",
    "   # print(species_train_df, species_test_df)\n",
    "    \n",
    "    if len(species_test_df) == 0:\n",
    "        # make predictions and compare to the mean ripeness day at each site\n",
    "        species_test_df = make_test_df(species_train_df)\n",
    "    \n",
    "    if len(species_test_df) == 0:\n",
    "        print(\"No test data for {}\".format(s))\n",
    "        #print(species_test_df)\n",
    "        \n",
    "    predictions = train_ripeness_small(species_train_df, weather_training,\n",
    "                        species_test_df, weather_test)\n",
    "    \n",
    "    species_prediction_dict[s] = predictions"
   ]
  },
  {
   "cell_type": "code",
   "execution_count": 51,
   "id": "4b76e48d",
   "metadata": {},
   "outputs": [
    {
     "name": "stdout",
     "output_type": "stream",
     "text": [
      "<pyPhenology.models.thermaltime.ThermalTime object at 0x16af50ed0>\n",
      "making predictions for model ThermalTime\n"
     ]
    }
   ],
   "source": [
    "apple_train_df = filtered_plants[(filtered_plants['genus'] == 'Malus') & (filtered_plants['year'] < 2022)]\n",
    "apple_test_df = filtered_plants[(filtered_plants['genus'] == 'Malus') & (filtered_plants['year'] == 2022)]\n",
    "\n",
    "Model = utils.load_model('ThermalTime')\n",
    "model = Model()\n",
    "model.fit(apple_train_df, weather_training, optimizer_params='practical')\n",
    "\n",
    "print(model)\n",
    "\n",
    "print(\"making predictions for model {m}\".format(m='ThermalTime'))        \n",
    "preds = model.predict(apple_test_df, weather_test)\n"
   ]
  },
  {
   "cell_type": "code",
   "execution_count": 52,
   "id": "1f527b00",
   "metadata": {},
   "outputs": [
    {
     "name": "stdout",
     "output_type": "stream",
     "text": [
      "[245 245 245 245 245 245 245 245 245 245 245 245 245 245 245 245 245 245\n",
      " 245 245 245 245 245 245 245 245 245 245 245 245 245 245 245 245 245 245\n",
      " 245 245 245 245 245 275 245 245 245 275 275 245 275 275 245 245 275 275\n",
      " 275 245 245 275 245 245 245 245 245 245 245 245 245 245 245 245 245 245\n",
      " 245 245 245 245 245 245 245 245 245 245 245 245 245 245 245 245 245 245\n",
      " 245 245 245 245 245 245 245 245 245 245 245 245 245 245 245 245 245 245\n",
      " 245 245 245 245 245 245 245 245 245 245 245 245 245 245 245 245 245 245\n",
      " 245 245 245 245 245 245 245 245 245 245 245 245 245 245 245 245 275 245\n",
      " 245 245 245 275 245 245 245 245 245 245 245 245 245 245 275 275 275 245\n",
      " 245 245 245 245 245 275 275 275 245 245 245 245 245 245 275 245 245 245\n",
      " 245 245 245 245 245 275 245 245 245 245 245 245 245 245 245 245 245 245\n",
      " 275 245 245 245 245 245 245 275 245 245 245 245 245 245 245 245 275 275\n",
      " 275 275 275 245 245 245 245 245 245 245 245 245 245 245 245 245 245 275\n",
      " 245 245 245 245 245 245 245 245 245 245 245 245 245 245 245 245 245 245\n",
      " 245 275 275 275 245 245 245 245 245 245 245 245 245 245 245 245 245 275\n",
      " 245 245 275 275 245 245 245 275 245 245 275 245 245 245 245]\n"
     ]
    }
   ],
   "source": [
    "print(preds)"
   ]
  },
  {
   "cell_type": "code",
   "execution_count": 31,
   "id": "d7323631",
   "metadata": {},
   "outputs": [],
   "source": [
    "specific_test_df = merged_euro[(merged_euro['site_id'].isin(apple_test_df['site_id'])) & (merged_euro['year'] == 2022)]"
   ]
  },
  {
   "cell_type": "code",
   "execution_count": 53,
   "id": "518f9251",
   "metadata": {},
   "outputs": [
    {
     "data": {
      "text/plain": [
       "array([245, 245, 245, 245, 245, 245, 245, 245, 245, 245, 245, 245, 245,\n",
       "       245, 245, 245, 245, 245, 245, 245, 245, 245, 245, 245, 245, 245,\n",
       "       245, 245, 245, 245, 245, 245, 245, 245, 245, 245, 245, 245, 245,\n",
       "       245, 245, 275, 245, 245, 245, 275, 275, 245, 275, 275, 245, 245,\n",
       "       275, 275, 275, 245, 245, 275, 245, 245, 245, 245, 245, 245, 245,\n",
       "       245, 245, 245, 245, 245, 245, 245, 245, 245, 245, 245, 245, 245,\n",
       "       245, 245, 245, 245, 245, 245, 245, 245, 245, 245, 245, 245, 245,\n",
       "       245, 245, 245, 245, 245, 245, 245, 245, 245, 245, 245, 245, 245,\n",
       "       245, 245, 245, 245, 245, 245, 245, 245, 245, 245, 245, 245, 245,\n",
       "       245, 245, 245, 245, 245, 245, 245, 245, 245, 245, 245, 245, 245,\n",
       "       245, 245, 245, 245, 245, 245, 245, 245, 245, 245, 245, 245, 275,\n",
       "       245, 245, 245, 245, 275, 245, 245, 245, 245, 245, 245, 245, 245,\n",
       "       245, 245, 275, 275, 275, 245, 245, 245, 245, 245, 245, 275, 275,\n",
       "       275, 245, 245, 245, 245, 245, 245, 275, 245, 245, 245, 245, 245,\n",
       "       245, 245, 245, 275, 245, 245, 245, 245, 245, 245, 245, 245, 245,\n",
       "       245, 245, 245, 275, 245, 245, 245, 245, 245, 245, 275, 245, 245,\n",
       "       245, 245, 245, 245, 245, 245, 275, 275, 275, 275, 275, 245, 245,\n",
       "       245, 245, 245, 245, 245, 245, 245, 245, 245, 245, 245, 245, 275,\n",
       "       245, 245, 245, 245, 245, 245, 245, 245, 245, 245, 245, 245, 245,\n",
       "       245, 245, 245, 245, 245, 245, 275, 275, 275, 245, 245, 245, 245,\n",
       "       245, 245, 245, 245, 245, 245, 245, 245, 245, 275, 245, 245, 275,\n",
       "       275, 245, 245, 245, 275, 245, 245, 275, 245, 245, 245, 245])"
      ]
     },
     "execution_count": 53,
     "metadata": {},
     "output_type": "execute_result"
    }
   ],
   "source": [
    "model.predict(apple_test_df, weather_test)"
   ]
  },
  {
   "cell_type": "code",
   "execution_count": 54,
   "id": "f402f477",
   "metadata": {},
   "outputs": [
    {
     "data": {
      "text/plain": [
       "{'t1': 185.64310747459587, 'T': 14.178133503486173, 'F': 574.1517057222219}"
      ]
     },
     "execution_count": 54,
     "metadata": {},
     "output_type": "execute_result"
    }
   ],
   "source": [
    "model.get_params()"
   ]
  },
  {
   "cell_type": "code",
   "execution_count": 40,
   "id": "714c96d4",
   "metadata": {
    "scrolled": true
   },
   "outputs": [
    {
     "name": "stdout",
     "output_type": "stream",
     "text": [
      "[313. 355. 334.  63. 191. 273. 270. 203. 231. 217. 252. 238. 224. 280.\n",
      " 259. 196. 210. 189. 295. 288. 302. 280. 342. 294. 348. 287. 308. 301.\n",
      " 324. 317. 333. 124. 288. 231. 266. 240. 282. 238. 246. 256. 253. 309.\n",
      " 309. 289. 321. 323. 304. 303. 288. 324. 297. 328. 316. 310. 302. 294.\n",
      " 316. 295. 301. 271. 277. 291. 310. 269. 264. 272. 284. 270. 253. 264.\n",
      " 282. 289. 275. 333. 293. 296. 325. 300. 309. 319. 315. 268.  63. 303.\n",
      " 173. 172. 243. 250. 257. 278. 285. 292. 264. 271. 311. 273. 342. 318.\n",
      " 301. 313. 280. 336. 308. 292. 306. 294. 283. 329. 285. 297. 324. 304.\n",
      " 274. 292. 290. 322. 298. 313. 319. 316. 326. 310. 306. 295. 266. 231.\n",
      " 222. 138. 250. 236. 323. 252. 236. 182. 186. 186. 186. 203. 295.  85.\n",
      " 178. 240. 234. 235. 257. 232. 235. 236. 235. 240. 233. 233. 240. 240.\n",
      " 241. 241. 241. 241. 242. 242. 242. 244. 243. 245. 246. 247. 247. 248.\n",
      " 248. 249. 248. 249. 250. 250. 251. 251. 251. 251. 215. 214. 216. 220.\n",
      " 225. 225. 225. 225. 225. 229. 229. 233. 215. 231. 231. 232. 232. 233.\n",
      " 233. 248. 249. 248. 242. 189. 234. 248. 259. 260. 261. 256. 262. 263.\n",
      " 245. 264. 264. 265. 266. 269. 267. 267. 267. 268. 268. 268. 281. 268.\n",
      " 263. 263. 272. 274. 275. 276. 278. 279. 280. 280. 277. 283. 283. 284.\n",
      " 284. 286. 280. 269. 294. 226. 302. 305. 298. 314. 315. 313. 245. 245.\n",
      " 252. 242. 253. 249. 254. 255. 256. 256. 255. 258. 258. 322. 322. 320.\n",
      " 338. 237. 248. 108. 251. 193. 245. 245. 264. 291. 259. 242. 225. 253.\n",
      " 266. 280. 280. 260. 278.]\n"
     ]
    }
   ],
   "source": [
    "#print(preds)\n",
    "test_days = apple_test_df.doy.values\n",
    "print(test_days)"
   ]
  },
  {
   "cell_type": "code",
   "execution_count": null,
   "id": "e6c85c32",
   "metadata": {},
   "outputs": [],
   "source": [
    "genus_prediction_dict = {}\n",
    "\n",
    "for s in tqdm(filtered_plants['genus'].unique()):\n",
    "    print(s)\n",
    "    species_train_df = filtered_plants.query('genus == \"{}\" and year < {}'.format(s, high_cutoff_year))\n",
    "    \n",
    "    if len(species_train_df) == 0:\n",
    "        continue\n",
    "    \n",
    "    species_test_df = filtered_plants.query('genus == \"{}\" and year >= {}'.format(s, high_cutoff_year))\n",
    "    \n",
    "    if len(species_test_df) == 0:\n",
    "        # make predictions and compare to the mean ripeness day at each site\n",
    "        species_test_df = make_test_df(species_train_df)\n",
    "    \n",
    "    if len(species_test_df) == 0:\n",
    "        print(\"No test data for {}\".format(s))\n",
    "        #print(species_test_df)\n",
    "        \n",
    "    predictions = train_ripeness_small(species_train_df, weather_training,\n",
    "                        species_test_df, weather_test)\n",
    "    \n",
    "    genus_prediction_dict[s] = predictions"
   ]
  }
 ],
 "metadata": {
  "kernelspec": {
   "display_name": "seasonality",
   "language": "python",
   "name": "seasonality"
  },
  "language_info": {
   "codemirror_mode": {
    "name": "ipython",
    "version": 3
   },
   "file_extension": ".py",
   "mimetype": "text/x-python",
   "name": "python",
   "nbconvert_exporter": "python",
   "pygments_lexer": "ipython3",
   "version": "3.11.4"
  }
 },
 "nbformat": 4,
 "nbformat_minor": 5
}
