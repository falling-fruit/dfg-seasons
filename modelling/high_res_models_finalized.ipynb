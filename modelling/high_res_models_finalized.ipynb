{
 "cells": [
  {
   "cell_type": "code",
   "execution_count": 1,
   "id": "ae7c5c79",
   "metadata": {},
   "outputs": [],
   "source": [
    "from model_helpers import *\n",
    "\n",
    "import cfgrib\n",
    "import xarray as xr\n",
    "\n",
    "import pandas as pd\n",
    "import numpy as np\n",
    "\n",
    "from pyPhenology import models, utils\n",
    "\n",
    "from tqdm import trange, tqdm\n",
    "\n",
    "import matplotlib.pyplot as plt\n",
    "\n",
    "from warnings import warn\n",
    "import warnings\n",
    "\n",
    "warnings.filterwarnings('ignore')\n",
    "\n",
    "high_cutoff_year = 2022\n",
    "low_cutoff_year = 2010"
   ]
  },
  {
   "cell_type": "code",
   "execution_count": 59,
   "id": "6c9b1714",
   "metadata": {},
   "outputs": [],
   "source": [
    "def make_test_df(train_df):\n",
    "    #print(train_df)\n",
    "    species_sites = train_df['site_id'].unique()\n",
    "        \n",
    "    #print(species_sites)\n",
    "    \n",
    "    site_ripenesses = []\n",
    "\n",
    "    for site in species_sites:\n",
    "        site_df = train_df[train_df['site_id'] == site]\n",
    "\n",
    "        site_ripenesses.append({\n",
    "            'site_id': site,\n",
    "            'doy': np.mean(site_df['doy'])\n",
    "        })\n",
    "\n",
    "    species_test_df = pd.DataFrame(site_ripenesses)\n",
    "    species_test_df['year'] = high_cutoff_year\n",
    "    \n",
    "    return species_test_df\n",
    "\n",
    "# More specific to our uses.\n",
    "def train_ripeness_small(observations, predictors, test_observations, test_predictors, model_name = 'ThermalTime'):\n",
    "\n",
    "    print(\"running model {m}\".format(m=model_name))\n",
    "    Model = utils.load_model(model_name)\n",
    "    model = Model()\n",
    "    model.fit(observations, predictors, optimizer_params='practical')\n",
    "    \n",
    "    print(model)\n",
    "    \n",
    "    print(\"making predictions for model {m}\".format(m=model_name))        \n",
    "    preds = model.predict(test_observations, test_predictors)\n",
    "\n",
    "    #print(preds)\n",
    "    test_days = test_observations.doy.values\n",
    "    #print(test_days)\n",
    "   \n",
    "    # Various error types\n",
    "    model_mae = mae(test_days, preds)\n",
    "    model_rmse = rmse(test_days, preds)\n",
    "    median_error = np.median(np.abs(test_days - preds))\n",
    "\n",
    "    print('model {m} got a MAE of {a}'.format(m=model_name,a=model_mae))\n",
    "    print('model {m} got an RMSE of {a}'.format(m=model_name,a=model_rmse))\n",
    "    print('model {m}\\'s median error is: {a}'.format(m=model_name,a=median_error))\n",
    "\n",
    "    print(\"Ripeness Day: {}\".format(np.mean(preds)))\n",
    "    \n",
    "    ripeness_data = test_observations\n",
    "    ripeness_data['ripeness_day'] = preds\n",
    "    \n",
    "    ripeness_dict = {\n",
    "        'model_object': model,\n",
    "        'MAE': model_mae,\n",
    "        'RMSE': model_rmse,\n",
    "        'Median Error': median_error,\n",
    "        'prediction_df': ripeness_data,\n",
    "    }\n",
    "    \n",
    "    return ripeness_dict"
   ]
  },
  {
   "cell_type": "markdown",
   "id": "6ecd67a2",
   "metadata": {},
   "source": [
    "Idea for corrections: take the lower error between the base error and the year-transformed error.\n",
    "\n",
    "\n",
    "Best Approach is:\n",
    "- High time resolution, correcting for missing data by using averaged data from previous years.\n",
    "- Add European Weather data.\n",
    "- No southern hemisphere. \n",
    "- Corrected error (i.e. date wrapping). \n",
    "\n",
    "Best reporting statistic: what portion of results lie under X.\n",
    "For example, 80% of results lie under 1 STD, 95% lie under 2 STD. \n",
    "Can make a \"confidence score\" from this – percentile error? Ex. This is less error than 90% of things.  "
   ]
  },
  {
   "cell_type": "code",
   "execution_count": 28,
   "id": "87c6b579",
   "metadata": {},
   "outputs": [
    {
     "name": "stdout",
     "output_type": "stream",
     "text": [
      "loading weather data\n",
      "Loading Plant Data\n",
      "filtering weather data\n",
      "formatting weather data\n",
      "formatting date columns\n",
      "correcting leap years\n",
      "adding site IDs to weather data\n",
      "separating weather data\n",
      "formatting plant data\n",
      "filtering plant data\n"
     ]
    }
   ],
   "source": [
    "# Load in high-res weather data\n",
    "print(\"loading weather data\")\n",
    "grib_data = cfgrib.open_datasets('../data/monthly_weather_data.grib')\n",
    "\n",
    "core_data = grib_data[0]\n",
    "\n",
    "print(\"Loading Plant Data\")\n",
    "formatted_plants = pd.read_csv(\"../data/model_training_data/all_plants_formatted.csv\", index_col=0)\n",
    "\n",
    "formatted_plants['rounded_lat'] = np.round(formatted_plants['latitude'], 1)\n",
    "formatted_plants['rounded_lon'] = np.round(formatted_plants['lon_360'], 1)\n",
    "\n",
    "rounded_sites = formatted_plants[['site_id', 'rounded_lat', 'rounded_lon']].drop_duplicates()\n",
    "\n",
    "site_x_vals = xr.DataArray(rounded_sites['rounded_lat'], dims=['site'])\n",
    "site_y_vals = xr.DataArray(rounded_sites['rounded_lon'], dims=['site'])\n",
    "\n",
    "print(\"filtering weather data\")\n",
    "full_weather_data = core_data.sel(latitude=site_x_vals, longitude=site_y_vals, method='nearest').to_dataframe().dropna()\n",
    "\n",
    "print(\"formatting weather data\")\n",
    "formatted_weather = format_weather_data(full_weather_data)\n",
    "\n",
    "formatted_weather['latitude'] = np.round(formatted_weather['latitude'], 1)\n",
    "formatted_weather['longitude'] = np.round(formatted_weather['longitude'], 1)\n",
    "\n",
    "print(\"adding site IDs to weather data\")\n",
    "rounded_sites['coordstring'] = rounded_sites['rounded_lat'].astype(str) + rounded_sites['rounded_lon'].astype(str)\n",
    "formatted_weather['coordstring'] = formatted_weather['latitude'].astype(str) + formatted_weather['longitude'].astype(str)\n",
    "\n",
    "## Add Site ID to the weather data\n",
    "weather_with_sites = pd.merge(formatted_weather, rounded_sites[['coordstring', 'site_id']], on='coordstring')#.drop('coordstring', axis=1)\n",
    "## Separate into training data and testing data\n",
    "\n",
    "# filter out current year\n",
    "print(\"separating weather data\")\n",
    "weather_with_sites = weather_with_sites[weather_with_sites['year'] != 2023]\n",
    "\n",
    "weather_training = weather_with_sites[weather_with_sites['year'] < high_cutoff_year]\n",
    "weather_test = weather_with_sites[weather_with_sites['year'] >= high_cutoff_year]\n",
    "\n",
    "# final formatting steps for plants\n",
    "print(\"formatting plant data\")\n",
    "species_list = formatted_plants['formatted_sci_name'].unique()\n",
    "formatted_plants.drop('species', axis=1, inplace=True)\n",
    "\n",
    "# correct for missing sites\n",
    "weather_sites = weather_with_sites['site_id'].unique()\n",
    "\n",
    "print(\"filtering plant data\")\n",
    "filtered_plants = formatted_plants[(formatted_plants['site_id'].isin(weather_sites)) & \n",
    "                                   (formatted_plants['year'] != 2023) &\n",
    "                                   (formatted_plants['latitude'] > 0) &\n",
    "                                    (formatted_plants['doy'] >= 60)]\n"
   ]
  },
  {
   "cell_type": "markdown",
   "id": "6f5a46fb",
   "metadata": {},
   "source": [
    "TODO: make the europe data rounded to .1 degrees. "
   ]
  },
  {
   "cell_type": "code",
   "execution_count": 4,
   "id": "1048783d",
   "metadata": {},
   "outputs": [],
   "source": [
    "euro_data = load_euro_weather_data(euro_path, '../data/high_res_euro_stations.csv')"
   ]
  },
  {
   "cell_type": "code",
   "execution_count": 5,
   "id": "8c7b0abf",
   "metadata": {},
   "outputs": [],
   "source": [
    "## Merge both weather data. \n",
    "\n",
    "## If site is in europe data, replace it with the european version. \n",
    "\n",
    "# Create a list of \"mutual sites\".\n",
    "euro_coords = euro_data['coordstring'].unique()\n",
    "\n",
    "mutual_sites = weather_with_sites[weather_with_sites['coordstring'].isin(euro_coords)][['site_id', 'coordstring']].drop_duplicates()\n",
    "# Get those sites from europe\n",
    "mutual_sites_euro = euro_data[euro_data['coordstring'].isin(mutual_sites['coordstring'])]\n",
    "mutual_sites_euro = mutual_sites_euro.merge(mutual_sites, on='coordstring')\n",
    "\n",
    "mutual_sites_euro['temperature'] += 272.5\n",
    "\n",
    "# Remove those sites from monthly \n",
    "unmutual_monthly = weather_with_sites[~weather_with_sites['site_id'].isin(mutual_sites)]\n",
    "\n",
    "# rbind the two (a union essentially?)\n",
    "merged_euro = pd.concat([mutual_sites_euro, unmutual_monthly]).drop('station', axis=1).drop_duplicates()\n",
    "\n",
    "merged_euro['temperature'] = np.round(merged_euro['temperature'], 1)\n"
   ]
  },
  {
   "cell_type": "code",
   "execution_count": 6,
   "id": "6da8c2a7",
   "metadata": {},
   "outputs": [],
   "source": [
    "\n",
    "weather_training = merged_euro[merged_euro['year'] < high_cutoff_year]\n",
    "weather_test = merged_euro[merged_euro['year'] >= high_cutoff_year]"
   ]
  },
  {
   "cell_type": "code",
   "execution_count": 60,
   "id": "f2f2fd1c",
   "metadata": {
    "scrolled": true
   },
   "outputs": [
    {
     "name": "stderr",
     "output_type": "stream",
     "text": [
      "\r",
      "  0%|                                                                                                                                                                              | 0/97 [00:00<?, ?it/s]"
     ]
    },
    {
     "name": "stdout",
     "output_type": "stream",
     "text": [
      "Rubus\n",
      "running model ThermalTime\n"
     ]
    },
    {
     "name": "stderr",
     "output_type": "stream",
     "text": [
      "\r",
      "  1%|█▋                                                                                                                                                                    | 1/97 [00:03<05:40,  3.55s/it]"
     ]
    },
    {
     "name": "stdout",
     "output_type": "stream",
     "text": [
      "<pyPhenology.models.thermaltime.ThermalTime object at 0x170fb1590>\n",
      "making predictions for model ThermalTime\n",
      "model ThermalTime got a MAE of 28.6\n",
      "model ThermalTime got an RMSE of 49.24970389081881\n",
      "model ThermalTime's median error is: 9.5\n",
      "Ripeness Day: 187.13333333333333\n",
      "Rubus occidentalis\n",
      "running model ThermalTime\n"
     ]
    },
    {
     "name": "stderr",
     "output_type": "stream",
     "text": [
      "\r",
      "  2%|███▍                                                                                                                                                                  | 2/97 [00:07<06:17,  3.97s/it]"
     ]
    },
    {
     "name": "stdout",
     "output_type": "stream",
     "text": [
      "<pyPhenology.models.thermaltime.ThermalTime object at 0x170f54990>\n",
      "making predictions for model ThermalTime\n",
      "model ThermalTime got a MAE of 11.7\n",
      "model ThermalTime got an RMSE of 14.522396496446445\n",
      "model ThermalTime's median error is: 6.0\n",
      "Ripeness Day: 192.3\n",
      "Ficus\n",
      "running model ThermalTime\n"
     ]
    },
    {
     "name": "stderr",
     "output_type": "stream",
     "text": [
      "\r",
      "  3%|█████▏                                                                                                                                                                | 3/97 [00:11<06:20,  4.05s/it]"
     ]
    },
    {
     "name": "stdout",
     "output_type": "stream",
     "text": [
      "<pyPhenology.models.thermaltime.ThermalTime object at 0x16af61e50>\n",
      "making predictions for model ThermalTime\n",
      "model ThermalTime got a MAE of 21.818181818181817\n",
      "model ThermalTime got an RMSE of 26.460948928219075\n",
      "model ThermalTime's median error is: 18.0\n",
      "Ripeness Day: 245.0\n",
      "Ficus auriculata\n",
      "Ficus carica\n",
      "running model ThermalTime\n"
     ]
    },
    {
     "name": "stderr",
     "output_type": "stream",
     "text": [
      "\r",
      "  5%|████████▌                                                                                                                                                             | 5/97 [00:14<03:54,  2.55s/it]"
     ]
    },
    {
     "name": "stdout",
     "output_type": "stream",
     "text": [
      "<pyPhenology.models.thermaltime.ThermalTime object at 0x1a890ee50>\n",
      "making predictions for model ThermalTime\n",
      "model ThermalTime got a MAE of 28.2\n",
      "model ThermalTime got an RMSE of 39.52214569073901\n",
      "model ThermalTime's median error is: 13.0\n",
      "Ripeness Day: 245.0\n",
      "Ficus citrifolia\n",
      "running model ThermalTime\n"
     ]
    },
    {
     "name": "stderr",
     "output_type": "stream",
     "text": [
      "\r",
      "  6%|██████████▎                                                                                                                                                           | 6/97 [00:19<04:44,  3.12s/it]"
     ]
    },
    {
     "name": "stdout",
     "output_type": "stream",
     "text": [
      "<pyPhenology.models.thermaltime.ThermalTime object at 0x171040d50>\n",
      "making predictions for model ThermalTime\n",
      "model ThermalTime got a MAE of 39.5\n",
      "model ThermalTime got an RMSE of 39.75550276376844\n",
      "model ThermalTime's median error is: 39.5\n",
      "Ripeness Day: 245.0\n",
      "Ficus macrophylla\n",
      "running model ThermalTime\n"
     ]
    },
    {
     "name": "stderr",
     "output_type": "stream",
     "text": [
      "\r",
      "  7%|███████████▉                                                                                                                                                          | 7/97 [00:21<04:20,  2.90s/it]"
     ]
    },
    {
     "name": "stdout",
     "output_type": "stream",
     "text": [
      "<pyPhenology.models.thermaltime.ThermalTime object at 0x17104aa50>\n",
      "making predictions for model ThermalTime\n",
      "model ThermalTime got a MAE of 7.0\n",
      "model ThermalTime got an RMSE of 7.0\n",
      "model ThermalTime's median error is: 7.0\n",
      "Ripeness Day: 336.0\n",
      "Ficus sycomorus\n",
      "Olea europaea\n",
      "running model ThermalTime\n"
     ]
    },
    {
     "name": "stderr",
     "output_type": "stream",
     "text": [
      "\r",
      "  9%|███████████████▍                                                                                                                                                      | 9/97 [00:23<03:04,  2.09s/it]"
     ]
    },
    {
     "name": "stdout",
     "output_type": "stream",
     "text": [
      "<pyPhenology.models.thermaltime.ThermalTime object at 0x1710e8710>\n",
      "making predictions for model ThermalTime\n",
      "model ThermalTime got a MAE of 51.76086956521739\n",
      "model ThermalTime got an RMSE of 61.76480635724381\n",
      "model ThermalTime's median error is: 45.5\n",
      "Ripeness Day: 245.0\n",
      "Olea europea\n",
      "running model ThermalTime\n"
     ]
    },
    {
     "name": "stderr",
     "output_type": "stream",
     "text": [
      "\r",
      " 10%|█████████████████                                                                                                                                                    | 10/97 [00:27<03:28,  2.40s/it]"
     ]
    },
    {
     "name": "stdout",
     "output_type": "stream",
     "text": [
      "<pyPhenology.models.thermaltime.ThermalTime object at 0x171112510>\n",
      "making predictions for model ThermalTime\n",
      "model ThermalTime got a MAE of 23.964912280701757\n",
      "model ThermalTime got an RMSE of 31.763057360170748\n",
      "model ThermalTime's median error is: 17.5\n",
      "Ripeness Day: 288.05263157894734\n",
      "Olea\n",
      "running model ThermalTime\n"
     ]
    },
    {
     "name": "stderr",
     "output_type": "stream",
     "text": [
      "\r",
      " 11%|██████████████████▋                                                                                                                                                  | 11/97 [00:30<03:51,  2.69s/it]"
     ]
    },
    {
     "name": "stdout",
     "output_type": "stream",
     "text": [
      "<pyPhenology.models.thermaltime.ThermalTime object at 0x171100290>\n",
      "making predictions for model ThermalTime\n",
      "model ThermalTime got a MAE of 38.07692307692308\n",
      "model ThermalTime got an RMSE of 42.00457850502271\n",
      "model ThermalTime's median error is: 32.0\n",
      "Ripeness Day: 306.0\n",
      "Morus rubra\n",
      "running model ThermalTime\n"
     ]
    },
    {
     "name": "stderr",
     "output_type": "stream",
     "text": [
      "\r",
      " 12%|████████████████████▍                                                                                                                                                | 12/97 [00:34<04:14,  3.00s/it]"
     ]
    },
    {
     "name": "stdout",
     "output_type": "stream",
     "text": [
      "<pyPhenology.models.thermaltime.ThermalTime object at 0x171101310>\n",
      "making predictions for model ThermalTime\n",
      "model ThermalTime got a MAE of 15.083333333333334\n",
      "model ThermalTime got an RMSE of 16.640813281407453\n",
      "model ThermalTime's median error is: 15.5\n",
      "Ripeness Day: 165.5\n",
      "Morus\n",
      "running model ThermalTime\n"
     ]
    },
    {
     "name": "stderr",
     "output_type": "stream",
     "text": [
      "\r",
      " 13%|██████████████████████                                                                                                                                               | 13/97 [00:38<04:37,  3.31s/it]"
     ]
    },
    {
     "name": "stdout",
     "output_type": "stream",
     "text": [
      "<pyPhenology.models.thermaltime.ThermalTime object at 0x16e3361d0>\n",
      "making predictions for model ThermalTime\n",
      "model ThermalTime got a MAE of 20.2\n",
      "model ThermalTime got an RMSE of 30.765936636853056\n",
      "model ThermalTime's median error is: 15.5\n",
      "Ripeness Day: 172.28571428571428\n",
      "Morus macroura\n",
      "running model ThermalTime\n"
     ]
    },
    {
     "name": "stderr",
     "output_type": "stream",
     "text": [
      "\r",
      " 14%|███████████████████████▊                                                                                                                                             | 14/97 [00:42<04:40,  3.38s/it]"
     ]
    },
    {
     "name": "stdout",
     "output_type": "stream",
     "text": [
      "<pyPhenology.models.thermaltime.ThermalTime object at 0x17110d510>\n",
      "making predictions for model ThermalTime\n",
      "model ThermalTime got a MAE of 35.0\n",
      "model ThermalTime got an RMSE of 35.0\n",
      "model ThermalTime's median error is: 35.0\n",
      "Ripeness Day: 183.0\n",
      "Morus alba\n",
      "running model ThermalTime\n",
      "<pyPhenology.models.thermaltime.ThermalTime object at 0x171111450>\n",
      "making predictions for model ThermalTime\n",
      "model ThermalTime got a MAE of 13.185185185185185\n",
      "model ThermalTime got an RMSE of 18.879736344675063\n",
      "model ThermalTime's median error is: 7.0\n",
      "Ripeness Day: 174.11111111111111\n"
     ]
    },
    {
     "name": "stderr",
     "output_type": "stream",
     "text": [
      "\r",
      " 15%|█████████████████████████▌                                                                                                                                           | 15/97 [00:45<04:39,  3.40s/it]"
     ]
    },
    {
     "name": "stdout",
     "output_type": "stream",
     "text": [
      "Morus nigra\n",
      "running model ThermalTime\n"
     ]
    },
    {
     "name": "stderr",
     "output_type": "stream",
     "text": [
      "\r",
      " 16%|███████████████████████████▏                                                                                                                                         | 16/97 [00:49<04:40,  3.46s/it]"
     ]
    },
    {
     "name": "stdout",
     "output_type": "stream",
     "text": [
      "<pyPhenology.models.thermaltime.ThermalTime object at 0x17104ad10>\n",
      "making predictions for model ThermalTime\n",
      "model ThermalTime got a MAE of 13.014285714285714\n",
      "model ThermalTime got an RMSE of 21.45726650145087\n",
      "model ThermalTime's median error is: 11.5\n",
      "Ripeness Day: 173.14285714285714\n",
      "Morus australis\n",
      "running model ThermalTime\n"
     ]
    },
    {
     "name": "stderr",
     "output_type": "stream",
     "text": [
      "\r",
      " 18%|████████████████████████████▉                                                                                                                                        | 17/97 [00:51<04:17,  3.22s/it]"
     ]
    },
    {
     "name": "stdout",
     "output_type": "stream",
     "text": [
      "<pyPhenology.models.thermaltime.ThermalTime object at 0x1710bc550>\n",
      "making predictions for model ThermalTime\n",
      "model ThermalTime got a MAE of 19.0\n",
      "model ThermalTime got an RMSE of 19.0\n",
      "model ThermalTime's median error is: 19.0\n",
      "Ripeness Day: 153.0\n",
      "Amelanchier alnifolia\n",
      "running model ThermalTime\n"
     ]
    },
    {
     "name": "stderr",
     "output_type": "stream",
     "text": [
      "\r",
      " 19%|██████████████████████████████▌                                                                                                                                      | 18/97 [00:54<03:59,  3.03s/it]"
     ]
    },
    {
     "name": "stdout",
     "output_type": "stream",
     "text": [
      "<pyPhenology.models.thermaltime.ThermalTime object at 0x17110e4d0>\n",
      "making predictions for model ThermalTime\n",
      "model ThermalTime got a MAE of 12.545454545454545\n",
      "model ThermalTime got an RMSE of 15.397756625265549\n",
      "model ThermalTime's median error is: 9.0\n",
      "Ripeness Day: 225.27272727272728\n",
      "Amelanchier arborea\n",
      "running model ThermalTime\n"
     ]
    },
    {
     "name": "stderr",
     "output_type": "stream",
     "text": [
      "\r",
      " 20%|████████████████████████████████▎                                                                                                                                    | 19/97 [00:57<03:57,  3.04s/it]"
     ]
    },
    {
     "name": "stdout",
     "output_type": "stream",
     "text": [
      "<pyPhenology.models.thermaltime.ThermalTime object at 0x1710eac50>\n",
      "making predictions for model ThermalTime\n",
      "model ThermalTime got a MAE of 41.25\n",
      "model ThermalTime got an RMSE of 57.17079674099356\n",
      "model ThermalTime's median error is: 28.0\n",
      "Ripeness Day: 169.25\n",
      "Amelanchier canadensis\n",
      "running model ThermalTime\n"
     ]
    },
    {
     "name": "stderr",
     "output_type": "stream",
     "text": [
      "\r",
      " 21%|██████████████████████████████████                                                                                                                                   | 20/97 [01:00<03:54,  3.05s/it]"
     ]
    },
    {
     "name": "stdout",
     "output_type": "stream",
     "text": [
      "<pyPhenology.models.thermaltime.ThermalTime object at 0x16e309e10>\n",
      "making predictions for model ThermalTime\n",
      "model ThermalTime got a MAE of 16.4\n",
      "model ThermalTime got an RMSE of 19.979989989987484\n",
      "model ThermalTime's median error is: 14.0\n",
      "Ripeness Day: 185.06666666666666\n",
      "Amelanchier grandiflora\n",
      "running model ThermalTime\n"
     ]
    },
    {
     "name": "stderr",
     "output_type": "stream",
     "text": [
      "\r",
      " 22%|███████████████████████████████████▋                                                                                                                                 | 21/97 [01:03<03:42,  2.93s/it]"
     ]
    },
    {
     "name": "stdout",
     "output_type": "stream",
     "text": [
      "<pyPhenology.models.thermaltime.ThermalTime object at 0x16e332d10>\n",
      "making predictions for model ThermalTime\n",
      "model ThermalTime got a MAE of 13.222222222222221\n",
      "model ThermalTime got an RMSE of 15.0\n",
      "model ThermalTime's median error is: 12.5\n",
      "Ripeness Day: 183.0\n",
      "Amelanchier laevis\n",
      "running model ThermalTime\n"
     ]
    },
    {
     "name": "stderr",
     "output_type": "stream",
     "text": [
      "\r",
      " 23%|█████████████████████████████████████▍                                                                                                                               | 22/97 [01:05<03:25,  2.74s/it]"
     ]
    },
    {
     "name": "stdout",
     "output_type": "stream",
     "text": [
      "<pyPhenology.models.thermaltime.ThermalTime object at 0x16e333790>\n",
      "making predictions for model ThermalTime\n",
      "model ThermalTime got a MAE of 14.32\n",
      "model ThermalTime got an RMSE of 17.24876807195227\n",
      "model ThermalTime's median error is: 13.0\n",
      "Ripeness Day: 183.0\n",
      "Amelanchier utahensis\n",
      "running model ThermalTime\n"
     ]
    },
    {
     "name": "stderr",
     "output_type": "stream",
     "text": [
      "\r",
      " 24%|███████████████████████████████████████                                                                                                                              | 23/97 [01:08<03:18,  2.69s/it]"
     ]
    },
    {
     "name": "stdout",
     "output_type": "stream",
     "text": [
      "<pyPhenology.models.thermaltime.ThermalTime object at 0x171101b90>\n",
      "making predictions for model ThermalTime\n",
      "model ThermalTime got a MAE of 30.875\n",
      "model ThermalTime got an RMSE of 30.875253035400373\n",
      "model ThermalTime's median error is: 30.875\n",
      "Ripeness Day: 245.0\n",
      "Amelanchier\n",
      "running model ThermalTime\n"
     ]
    },
    {
     "name": "stderr",
     "output_type": "stream",
     "text": [
      "\r",
      " 25%|████████████████████████████████████████▊                                                                                                                            | 24/97 [01:11<03:26,  2.83s/it]"
     ]
    },
    {
     "name": "stdout",
     "output_type": "stream",
     "text": [
      "<pyPhenology.models.thermaltime.ThermalTime object at 0x1711117d0>\n",
      "making predictions for model ThermalTime\n",
      "model ThermalTime got a MAE of 12.25\n",
      "model ThermalTime got an RMSE of 15.15490193407991\n",
      "model ThermalTime's median error is: 11.5\n",
      "Ripeness Day: 169.57894736842104\n",
      "Citrus\n",
      "running model ThermalTime\n"
     ]
    },
    {
     "name": "stderr",
     "output_type": "stream",
     "text": [
      "\r",
      " 26%|██████████████████████████████████████████▌                                                                                                                          | 25/97 [01:13<03:12,  2.68s/it]"
     ]
    },
    {
     "name": "stdout",
     "output_type": "stream",
     "text": [
      "<pyPhenology.models.thermaltime.ThermalTime object at 0x16e309b10>\n",
      "making predictions for model ThermalTime\n",
      "model ThermalTime got a MAE of 96.20289855072464\n",
      "model ThermalTime got an RMSE of 109.66893526572983\n",
      "model ThermalTime's median error is: 111.0\n",
      "Ripeness Day: 186.59420289855072\n",
      "Citrus jambhiri\n",
      "running model ThermalTime\n"
     ]
    },
    {
     "name": "stderr",
     "output_type": "stream",
     "text": [
      "\r",
      " 27%|████████████████████████████████████████████▏                                                                                                                        | 26/97 [01:16<03:06,  2.63s/it]"
     ]
    },
    {
     "name": "stdout",
     "output_type": "stream",
     "text": [
      "<pyPhenology.models.thermaltime.ThermalTime object at 0x1711304d0>\n",
      "making predictions for model ThermalTime\n",
      "model ThermalTime got a MAE of 3.0\n",
      "model ThermalTime got an RMSE of 3.0\n",
      "model ThermalTime's median error is: 3.0\n",
      "Ripeness Day: 336.0\n",
      "Citrus limon\n",
      "running model ThermalTime\n"
     ]
    },
    {
     "name": "stderr",
     "output_type": "stream",
     "text": [
      "\r",
      " 28%|█████████████████████████████████████████████▉                                                                                                                       | 27/97 [01:18<03:00,  2.58s/it]"
     ]
    },
    {
     "name": "stdout",
     "output_type": "stream",
     "text": [
      "<pyPhenology.models.thermaltime.ThermalTime object at 0x17104abd0>\n",
      "making predictions for model ThermalTime\n",
      "model ThermalTime got a MAE of 63.0\n",
      "model ThermalTime got an RMSE of 72.069410986909\n",
      "model ThermalTime's median error is: 63.0\n",
      "Ripeness Day: 275.0\n",
      "Rubus idaeus\n",
      "running model ThermalTime\n"
     ]
    },
    {
     "name": "stderr",
     "output_type": "stream",
     "text": [
      "\r",
      " 29%|███████████████████████████████████████████████▋                                                                                                                     | 28/97 [01:21<03:06,  2.70s/it]"
     ]
    },
    {
     "name": "stdout",
     "output_type": "stream",
     "text": [
      "<pyPhenology.models.thermaltime.ThermalTime object at 0x16e336290>\n",
      "making predictions for model ThermalTime\n",
      "model ThermalTime got a MAE of 25.125\n",
      "model ThermalTime got an RMSE of 37.750827805493216\n",
      "model ThermalTime's median error is: 14.5\n",
      "Ripeness Day: 217.875\n",
      "Rubus ellipticus\n",
      "Rubus hayata\n",
      "running model ThermalTime\n"
     ]
    },
    {
     "name": "stderr",
     "output_type": "stream",
     "text": [
      "\r",
      " 31%|███████████████████████████████████████████████████                                                                                                                  | 30/97 [01:23<02:11,  1.97s/it]"
     ]
    },
    {
     "name": "stdout",
     "output_type": "stream",
     "text": [
      "<pyPhenology.models.thermaltime.ThermalTime object at 0x16e331610>\n",
      "making predictions for model ThermalTime\n",
      "model ThermalTime got a MAE of 11.166666666666666\n",
      "model ThermalTime got an RMSE of 12.322066926183016\n",
      "model ThermalTime's median error is: 10.0\n",
      "Ripeness Day: 214.0\n",
      "Rubus odoratus\n",
      "Rubus phoenicolasius\n",
      "running model ThermalTime\n"
     ]
    },
    {
     "name": "stderr",
     "output_type": "stream",
     "text": [
      "\r",
      " 33%|██████████████████████████████████████████████████████▍                                                                                                              | 32/97 [01:26<01:47,  1.65s/it]"
     ]
    },
    {
     "name": "stdout",
     "output_type": "stream",
     "text": [
      "<pyPhenology.models.thermaltime.ThermalTime object at 0x16e309e90>\n",
      "making predictions for model ThermalTime\n",
      "model ThermalTime got a MAE of 20.0\n",
      "model ThermalTime got an RMSE of 26.007691170113507\n",
      "model ThermalTime's median error is: 10.0\n",
      "Ripeness Day: 195.4\n",
      "Rubus rolfei\n",
      "running model ThermalTime\n"
     ]
    },
    {
     "name": "stderr",
     "output_type": "stream",
     "text": [
      "\r",
      " 34%|████████████████████████████████████████████████████████▏                                                                                                            | 33/97 [01:28<01:54,  1.79s/it]"
     ]
    },
    {
     "name": "stdout",
     "output_type": "stream",
     "text": [
      "<pyPhenology.models.thermaltime.ThermalTime object at 0x171102d90>\n",
      "making predictions for model ThermalTime\n",
      "model ThermalTime got a MAE of 11.0\n",
      "model ThermalTime got an RMSE of 11.0\n",
      "model ThermalTime's median error is: 11.0\n",
      "Ripeness Day: 214.0\n",
      "Citrus aurantium\n",
      "running model ThermalTime\n"
     ]
    },
    {
     "name": "stderr",
     "output_type": "stream",
     "text": [
      "\r",
      " 35%|█████████████████████████████████████████████████████████▊                                                                                                           | 34/97 [01:30<02:00,  1.91s/it]"
     ]
    },
    {
     "name": "stdout",
     "output_type": "stream",
     "text": [
      "<pyPhenology.models.thermaltime.ThermalTime object at 0x16e327790>\n",
      "making predictions for model ThermalTime\n",
      "model ThermalTime got a MAE of 13.5\n",
      "model ThermalTime got an RMSE of 13.5\n",
      "model ThermalTime's median error is: 13.5\n",
      "Ripeness Day: 336.0\n",
      "Citrus sinensis\n",
      "running model ThermalTime\n"
     ]
    },
    {
     "name": "stderr",
     "output_type": "stream",
     "text": [
      "\r",
      " 36%|███████████████████████████████████████████████████████████▌                                                                                                         | 35/97 [01:34<02:28,  2.40s/it]"
     ]
    },
    {
     "name": "stdout",
     "output_type": "stream",
     "text": [
      "<pyPhenology.models.thermaltime.ThermalTime object at 0x16e2ead90>\n",
      "making predictions for model ThermalTime\n",
      "model ThermalTime got a MAE of 28.0\n",
      "model ThermalTime got an RMSE of 34.45770354120154\n",
      "model ThermalTime's median error is: 26.0\n",
      "Ripeness Day: 275.0\n",
      "Prunus americana\n",
      "running model ThermalTime\n"
     ]
    },
    {
     "name": "stderr",
     "output_type": "stream",
     "text": [
      "\r",
      " 37%|█████████████████████████████████████████████████████████████▏                                                                                                       | 36/97 [01:38<02:46,  2.73s/it]"
     ]
    },
    {
     "name": "stdout",
     "output_type": "stream",
     "text": [
      "<pyPhenology.models.thermaltime.ThermalTime object at 0x16e2e9910>\n",
      "making predictions for model ThermalTime\n",
      "model ThermalTime got a MAE of 40.77777777777778\n",
      "model ThermalTime got an RMSE of 48.546197928708416\n",
      "model ThermalTime's median error is: 37.0\n",
      "Ripeness Day: 218.13333333333333\n",
      "Prunus domestica\n",
      "running model ThermalTime\n"
     ]
    },
    {
     "name": "stderr",
     "output_type": "stream",
     "text": [
      "\r",
      " 38%|██████████████████████████████████████████████████████████████▉                                                                                                      | 37/97 [01:41<02:47,  2.79s/it]"
     ]
    },
    {
     "name": "stdout",
     "output_type": "stream",
     "text": [
      "<pyPhenology.models.thermaltime.ThermalTime object at 0x171113b50>\n",
      "making predictions for model ThermalTime\n",
      "model ThermalTime got a MAE of 22.57894736842105\n",
      "model ThermalTime got an RMSE of 28.653097563788805\n",
      "model ThermalTime's median error is: 15.0\n",
      "Ripeness Day: 240.10526315789474\n",
      "Prunus maritima\n",
      "running model ThermalTime\n"
     ]
    },
    {
     "name": "stderr",
     "output_type": "stream",
     "text": [
      "\r",
      " 39%|████████████████████████████████████████████████████████████████▋                                                                                                    | 38/97 [01:43<02:35,  2.63s/it]"
     ]
    },
    {
     "name": "stdout",
     "output_type": "stream",
     "text": [
      "<pyPhenology.models.thermaltime.ThermalTime object at 0x171110b50>\n",
      "making predictions for model ThermalTime\n",
      "model ThermalTime got a MAE of 19.625\n",
      "model ThermalTime got an RMSE of 24.902309129877896\n",
      "model ThermalTime's median error is: 14.5\n",
      "Ripeness Day: 245.0\n",
      "Prunus nigra\n",
      "running model ThermalTime\n"
     ]
    },
    {
     "name": "stderr",
     "output_type": "stream",
     "text": [
      "\r",
      " 40%|██████████████████████████████████████████████████████████████████▎                                                                                                  | 39/97 [01:47<02:50,  2.94s/it]"
     ]
    },
    {
     "name": "stdout",
     "output_type": "stream",
     "text": [
      "<pyPhenology.models.thermaltime.ThermalTime object at 0x16af18710>\n",
      "making predictions for model ThermalTime\n",
      "model ThermalTime got a MAE of 55.0\n",
      "model ThermalTime got an RMSE of 55.0\n",
      "model ThermalTime's median error is: 55.0\n",
      "Ripeness Day: 275.0\n",
      "Prunus cerasifera\n",
      "running model ThermalTime\n"
     ]
    },
    {
     "name": "stderr",
     "output_type": "stream",
     "text": [
      "\r",
      " 41%|████████████████████████████████████████████████████████████████████                                                                                                 | 40/97 [01:50<03:01,  3.18s/it]"
     ]
    },
    {
     "name": "stdout",
     "output_type": "stream",
     "text": [
      "<pyPhenology.models.thermaltime.ThermalTime object at 0x171058410>\n",
      "making predictions for model ThermalTime\n",
      "model ThermalTime got a MAE of 15.642857142857142\n",
      "model ThermalTime got an RMSE of 18.33225105030554\n",
      "model ThermalTime's median error is: 13.5\n",
      "Ripeness Day: 214.0\n",
      "Prunus\n",
      "running model ThermalTime\n"
     ]
    },
    {
     "name": "stderr",
     "output_type": "stream",
     "text": [
      "\r",
      " 42%|█████████████████████████████████████████████████████████████████████▋                                                                                               | 41/97 [01:54<03:08,  3.37s/it]"
     ]
    },
    {
     "name": "stdout",
     "output_type": "stream",
     "text": [
      "<pyPhenology.models.thermaltime.ThermalTime object at 0x1710fed50>\n",
      "making predictions for model ThermalTime\n",
      "model ThermalTime got a MAE of 32.07692307692308\n",
      "model ThermalTime got an RMSE of 41.56582669354657\n",
      "model ThermalTime's median error is: 29.0\n",
      "Ripeness Day: 202.07692307692307\n",
      "Prunus angustifolia\n",
      "running model ThermalTime\n"
     ]
    },
    {
     "name": "stderr",
     "output_type": "stream",
     "text": [
      "\r",
      " 43%|███████████████████████████████████████████████████████████████████████▍                                                                                             | 42/97 [01:57<02:52,  3.14s/it]"
     ]
    },
    {
     "name": "stdout",
     "output_type": "stream",
     "text": [
      "<pyPhenology.models.thermaltime.ThermalTime object at 0x16a5f2cd0>\n",
      "making predictions for model ThermalTime\n",
      "model ThermalTime got a MAE of 25.0\n",
      "model ThermalTime got an RMSE of 25.0\n",
      "model ThermalTime's median error is: 25.0\n",
      "Ripeness Day: 183.0\n",
      "Prunus cocomilia\n",
      "running model ThermalTime\n"
     ]
    },
    {
     "name": "stderr",
     "output_type": "stream",
     "text": [
      "\r",
      " 44%|█████████████████████████████████████████████████████████████████████████▏                                                                                           | 43/97 [02:03<03:46,  4.19s/it]"
     ]
    },
    {
     "name": "stdout",
     "output_type": "stream",
     "text": [
      "<pyPhenology.models.thermaltime.ThermalTime object at 0x16e2fdc10>\n",
      "making predictions for model ThermalTime\n",
      "model ThermalTime got a MAE of 13.0\n",
      "model ThermalTime got an RMSE of 15.264337522473747\n",
      "model ThermalTime's median error is: 13.0\n",
      "Ripeness Day: 245.0\n",
      "Prunus salicina\n",
      "running model ThermalTime\n"
     ]
    },
    {
     "name": "stderr",
     "output_type": "stream",
     "text": [
      "\r",
      " 45%|██████████████████████████████████████████████████████████████████████████▊                                                                                          | 44/97 [02:07<03:37,  4.11s/it]"
     ]
    },
    {
     "name": "stdout",
     "output_type": "stream",
     "text": [
      "<pyPhenology.models.thermaltime.ThermalTime object at 0x1710fc210>\n",
      "making predictions for model ThermalTime\n",
      "model ThermalTime got a MAE of 32.0\n",
      "model ThermalTime got an RMSE of 32.0\n",
      "model ThermalTime's median error is: 32.0\n",
      "Ripeness Day: 214.0\n",
      "Prunus subcordata\n",
      "running model ThermalTime\n"
     ]
    },
    {
     "name": "stderr",
     "output_type": "stream",
     "text": [
      "\r",
      " 46%|████████████████████████████████████████████████████████████████████████████▌                                                                                        | 45/97 [02:10<03:12,  3.71s/it]"
     ]
    },
    {
     "name": "stdout",
     "output_type": "stream",
     "text": [
      "<pyPhenology.models.thermaltime.ThermalTime object at 0x1710588d0>\n",
      "making predictions for model ThermalTime\n",
      "model ThermalTime got a MAE of 8.0\n",
      "model ThermalTime got an RMSE of 8.0\n",
      "model ThermalTime's median error is: 8.0\n",
      "Ripeness Day: 214.0\n",
      "Prunus mexicana\n",
      "running model ThermalTime\n"
     ]
    },
    {
     "name": "stderr",
     "output_type": "stream",
     "text": [
      "\r",
      " 47%|██████████████████████████████████████████████████████████████████████████████▏                                                                                      | 46/97 [02:13<02:51,  3.36s/it]"
     ]
    },
    {
     "name": "stdout",
     "output_type": "stream",
     "text": [
      "<pyPhenology.models.thermaltime.ThermalTime object at 0x16e2e83d0>\n",
      "making predictions for model ThermalTime\n",
      "model ThermalTime got a MAE of 12.166666666666666\n",
      "model ThermalTime got an RMSE of 13.729530217745982\n",
      "model ThermalTime's median error is: 8.5\n",
      "Ripeness Day: 275.0\n",
      "Prunus rivularis\n",
      "running model ThermalTime\n"
     ]
    },
    {
     "name": "stderr",
     "output_type": "stream",
     "text": [
      "\r",
      " 48%|███████████████████████████████████████████████████████████████████████████████▉                                                                                     | 47/97 [02:17<02:58,  3.58s/it]"
     ]
    },
    {
     "name": "stdout",
     "output_type": "stream",
     "text": [
      "<pyPhenology.models.thermaltime.ThermalTime object at 0x1710bcd50>\n",
      "making predictions for model ThermalTime\n",
      "model ThermalTime got a MAE of 11.0\n",
      "model ThermalTime got an RMSE of 11.0\n",
      "model ThermalTime's median error is: 11.0\n",
      "Ripeness Day: 214.0\n",
      "Eriobotrya japonica\n",
      "running model ThermalTime\n"
     ]
    },
    {
     "name": "stderr",
     "output_type": "stream",
     "text": [
      "\r",
      " 49%|█████████████████████████████████████████████████████████████████████████████████▋                                                                                   | 48/97 [02:20<02:53,  3.54s/it]"
     ]
    },
    {
     "name": "stdout",
     "output_type": "stream",
     "text": [
      "<pyPhenology.models.thermaltime.ThermalTime object at 0x16e2d4750>\n",
      "making predictions for model ThermalTime\n",
      "model ThermalTime got a MAE of 41.67741935483871\n",
      "model ThermalTime got an RMSE of 50.158458586184004\n",
      "model ThermalTime's median error is: 49.0\n",
      "Ripeness Day: 122.0\n",
      "Malus sieboldii\n",
      "running model ThermalTime\n"
     ]
    },
    {
     "name": "stderr",
     "output_type": "stream",
     "text": [
      "\r",
      " 51%|███████████████████████████████████████████████████████████████████████████████████▎                                                                                 | 49/97 [02:23<02:36,  3.27s/it]"
     ]
    },
    {
     "name": "stdout",
     "output_type": "stream",
     "text": [
      "<pyPhenology.models.thermaltime.ThermalTime object at 0x16e2adc90>\n",
      "making predictions for model ThermalTime\n",
      "model ThermalTime got a MAE of 81.1\n",
      "model ThermalTime got an RMSE of 101.5297985815002\n",
      "model ThermalTime's median error is: 56.0\n",
      "Ripeness Day: 275.0\n",
      "Malus\n",
      "running model ThermalTime\n"
     ]
    },
    {
     "name": "stderr",
     "output_type": "stream",
     "text": [
      "\r",
      " 52%|█████████████████████████████████████████████████████████████████████████████████████                                                                                | 50/97 [02:25<02:21,  3.01s/it]"
     ]
    },
    {
     "name": "stdout",
     "output_type": "stream",
     "text": [
      "<pyPhenology.models.thermaltime.ThermalTime object at 0x1710f9610>\n",
      "making predictions for model ThermalTime\n",
      "model ThermalTime got a MAE of 36.97424892703863\n",
      "model ThermalTime got an RMSE of 46.04005533531612\n",
      "model ThermalTime's median error is: 32.0\n",
      "Ripeness Day: 248.21888412017168\n",
      "Malus pumila\n",
      "running model ThermalTime\n"
     ]
    },
    {
     "name": "stderr",
     "output_type": "stream",
     "text": [
      "\r",
      " 53%|██████████████████████████████████████████████████████████████████████████████████████▊                                                                              | 51/97 [02:28<02:08,  2.80s/it]"
     ]
    },
    {
     "name": "stdout",
     "output_type": "stream",
     "text": [
      "<pyPhenology.models.thermaltime.ThermalTime object at 0x16e2ea750>\n",
      "making predictions for model ThermalTime\n",
      "model ThermalTime got a MAE of 29.970588235294116\n",
      "model ThermalTime got an RMSE of 41.954106578778784\n",
      "model ThermalTime's median error is: 24.0\n",
      "Ripeness Day: 268.8235294117647\n",
      "Malus domestica\n",
      "running model ThermalTime\n"
     ]
    },
    {
     "name": "stderr",
     "output_type": "stream",
     "text": [
      "\r",
      " 54%|████████████████████████████████████████████████████████████████████████████████████████▍                                                                            | 52/97 [02:39<03:57,  5.29s/it]"
     ]
    },
    {
     "name": "stdout",
     "output_type": "stream",
     "text": [
      "<pyPhenology.models.thermaltime.ThermalTime object at 0x16e333c50>\n",
      "making predictions for model ThermalTime\n",
      "model ThermalTime got a MAE of 13.50133610334564\n",
      "model ThermalTime got an RMSE of 18.45386367754061\n",
      "model ThermalTime's median error is: 9.5\n",
      "Ripeness Day: 244.89441416893732\n",
      "Malus fusca\n",
      "Malus sylvestris\n",
      "running model ThermalTime\n"
     ]
    },
    {
     "name": "stderr",
     "output_type": "stream",
     "text": [
      "\r",
      " 56%|███████████████████████████████████████████████████████████████████████████████████████████▊                                                                         | 54/97 [02:41<02:28,  3.46s/it]"
     ]
    },
    {
     "name": "stdout",
     "output_type": "stream",
     "text": [
      "<pyPhenology.models.thermaltime.ThermalTime object at 0x16e2dced0>\n",
      "making predictions for model ThermalTime\n",
      "model ThermalTime got a MAE of 14.0\n",
      "model ThermalTime got an RMSE of 14.0\n",
      "model ThermalTime's median error is: 14.0\n",
      "Ripeness Day: 245.0\n",
      "Malus coronaria\n",
      "running model ThermalTime\n"
     ]
    },
    {
     "name": "stderr",
     "output_type": "stream",
     "text": [
      "\r",
      " 57%|█████████████████████████████████████████████████████████████████████████████████████████████▌                                                                       | 55/97 [02:44<02:17,  3.27s/it]"
     ]
    },
    {
     "name": "stdout",
     "output_type": "stream",
     "text": [
      "<pyPhenology.models.thermaltime.ThermalTime object at 0x16e2adf90>\n",
      "making predictions for model ThermalTime\n",
      "model ThermalTime got a MAE of 41.0\n",
      "model ThermalTime got an RMSE of 41.0\n",
      "model ThermalTime's median error is: 41.0\n",
      "Ripeness Day: 275.0\n",
      "Malus '\n",
      "running model ThermalTime\n"
     ]
    },
    {
     "name": "stderr",
     "output_type": "stream",
     "text": [
      "\r",
      " 58%|███████████████████████████████████████████████████████████████████████████████████████████████▎                                                                     | 56/97 [02:46<02:05,  3.05s/it]"
     ]
    },
    {
     "name": "stdout",
     "output_type": "stream",
     "text": [
      "<pyPhenology.models.thermaltime.ThermalTime object at 0x16e2d7d10>\n",
      "making predictions for model ThermalTime\n",
      "model ThermalTime got a MAE of 8.0\n",
      "model ThermalTime got an RMSE of 8.0\n",
      "model ThermalTime's median error is: 8.0\n",
      "Ripeness Day: 245.0\n",
      "Malus sieversii\n",
      "running model ThermalTime\n"
     ]
    },
    {
     "name": "stderr",
     "output_type": "stream",
     "text": [
      "\r",
      " 59%|████████████████████████████████████████████████████████████████████████████████████████████████▉                                                                    | 57/97 [02:49<02:00,  3.01s/it]"
     ]
    },
    {
     "name": "stdout",
     "output_type": "stream",
     "text": [
      "<pyPhenology.models.thermaltime.ThermalTime object at 0x1710ffe90>\n",
      "making predictions for model ThermalTime\n",
      "model ThermalTime got a MAE of 19.0\n",
      "model ThermalTime got an RMSE of 19.0\n",
      "model ThermalTime's median error is: 19.0\n",
      "Ripeness Day: 245.0\n",
      "Malus baccata\n",
      "running model ThermalTime\n"
     ]
    },
    {
     "name": "stderr",
     "output_type": "stream",
     "text": [
      "\r",
      " 60%|██████████████████████████████████████████████████████████████████████████████████████████████████▋                                                                  | 58/97 [02:52<01:50,  2.84s/it]"
     ]
    },
    {
     "name": "stdout",
     "output_type": "stream",
     "text": [
      "<pyPhenology.models.thermaltime.ThermalTime object at 0x16e2c9f10>\n",
      "making predictions for model ThermalTime\n",
      "model ThermalTime got a MAE of 26.5\n",
      "model ThermalTime got an RMSE of 26.504716561397142\n",
      "model ThermalTime's median error is: 26.5\n",
      "Ripeness Day: 275.0\n",
      "Malus ioensis\n",
      "running model ThermalTime\n"
     ]
    },
    {
     "name": "stderr",
     "output_type": "stream",
     "text": [
      "\r",
      " 61%|████████████████████████████████████████████████████████████████████████████████████████████████████▎                                                                | 59/97 [02:54<01:43,  2.73s/it]"
     ]
    },
    {
     "name": "stdout",
     "output_type": "stream",
     "text": [
      "<pyPhenology.models.thermaltime.ThermalTime object at 0x16e2af790>\n",
      "making predictions for model ThermalTime\n",
      "model ThermalTime got a MAE of 13.0\n",
      "model ThermalTime got an RMSE of 13.0\n",
      "model ThermalTime's median error is: 13.0\n",
      "Ripeness Day: 245.0\n",
      "Malus hupehensis\n",
      "running model ThermalTime\n"
     ]
    },
    {
     "name": "stderr",
     "output_type": "stream",
     "text": [
      "\r",
      " 62%|██████████████████████████████████████████████████████████████████████████████████████████████████████                                                               | 60/97 [02:57<01:37,  2.62s/it]"
     ]
    },
    {
     "name": "stdout",
     "output_type": "stream",
     "text": [
      "<pyPhenology.models.thermaltime.ThermalTime object at 0x16e2c9350>\n",
      "making predictions for model ThermalTime\n",
      "model ThermalTime got a MAE of 34.0\n",
      "model ThermalTime got an RMSE of 34.0\n",
      "model ThermalTime's median error is: 34.0\n",
      "Ripeness Day: 245.0\n",
      "Malus tschonoskii\n",
      "running model ThermalTime\n"
     ]
    },
    {
     "name": "stderr",
     "output_type": "stream",
     "text": [
      "\r",
      " 63%|███████████████████████████████████████████████████████████████████████████████████████████████████████▊                                                             | 61/97 [02:59<01:33,  2.61s/it]"
     ]
    },
    {
     "name": "stdout",
     "output_type": "stream",
     "text": [
      "<pyPhenology.models.thermaltime.ThermalTime object at 0x16e29ac50>\n",
      "making predictions for model ThermalTime\n",
      "model ThermalTime got a MAE of 0.0\n",
      "model ThermalTime got an RMSE of 0.0\n",
      "model ThermalTime's median error is: 0.0\n",
      "Ripeness Day: 245.0\n",
      "Malus angustifolia\n",
      "running model ThermalTime\n"
     ]
    },
    {
     "name": "stderr",
     "output_type": "stream",
     "text": [
      "\r",
      " 64%|█████████████████████████████████████████████████████████████████████████████████████████████████████████▍                                                           | 62/97 [03:02<01:31,  2.61s/it]"
     ]
    },
    {
     "name": "stdout",
     "output_type": "stream",
     "text": [
      "<pyPhenology.models.thermaltime.ThermalTime object at 0x16af4e810>\n",
      "making predictions for model ThermalTime\n",
      "model ThermalTime got a MAE of 11.0\n",
      "model ThermalTime got an RMSE of 11.0\n",
      "model ThermalTime's median error is: 11.0\n",
      "Ripeness Day: 306.0\n",
      "Rosmarinus officinalis\n",
      "running model ThermalTime\n"
     ]
    },
    {
     "name": "stderr",
     "output_type": "stream",
     "text": [
      "\r",
      " 65%|███████████████████████████████████████████████████████████████████████████████████████████████████████████▏                                                         | 63/97 [03:04<01:26,  2.53s/it]"
     ]
    },
    {
     "name": "stdout",
     "output_type": "stream",
     "text": [
      "<pyPhenology.models.thermaltime.ThermalTime object at 0x16b17dd10>\n",
      "making predictions for model ThermalTime\n",
      "model ThermalTime got a MAE of 89.3076923076923\n",
      "model ThermalTime got an RMSE of 97.03647212814842\n",
      "model ThermalTime's median error is: 90.0\n",
      "Ripeness Day: 185.3846153846154\n",
      "Juglans\n",
      "running model ThermalTime\n"
     ]
    },
    {
     "name": "stderr",
     "output_type": "stream",
     "text": [
      "\r",
      " 66%|████████████████████████████████████████████████████████████████████████████████████████████████████████████▊                                                        | 64/97 [03:06<01:21,  2.48s/it]"
     ]
    },
    {
     "name": "stdout",
     "output_type": "stream",
     "text": [
      "<pyPhenology.models.thermaltime.ThermalTime object at 0x16e2d7dd0>\n",
      "making predictions for model ThermalTime\n",
      "model ThermalTime got a MAE of 18.0\n",
      "model ThermalTime got an RMSE of 20.334699407662754\n",
      "model ThermalTime's median error is: 16.5\n",
      "Ripeness Day: 275.0\n",
      "Juglans regia\n",
      "running model ThermalTime\n"
     ]
    },
    {
     "name": "stderr",
     "output_type": "stream",
     "text": [
      "\r",
      " 67%|██████████████████████████████████████████████████████████████████████████████████████████████████████████████▌                                                      | 65/97 [03:09<01:19,  2.49s/it]"
     ]
    },
    {
     "name": "stdout",
     "output_type": "stream",
     "text": [
      "<pyPhenology.models.thermaltime.ThermalTime object at 0x16e3096d0>\n",
      "making predictions for model ThermalTime\n",
      "model ThermalTime got a MAE of 55.333333333333336\n",
      "model ThermalTime got an RMSE of 56.13079962611139\n",
      "model ThermalTime's median error is: 62.0\n",
      "Ripeness Day: 245.0\n",
      "Juglans cinerea\n",
      "running model ThermalTime\n"
     ]
    },
    {
     "name": "stderr",
     "output_type": "stream",
     "text": [
      "\r",
      " 68%|████████████████████████████████████████████████████████████████████████████████████████████████████████████████▎                                                    | 66/97 [03:12<01:17,  2.50s/it]"
     ]
    },
    {
     "name": "stdout",
     "output_type": "stream",
     "text": [
      "<pyPhenology.models.thermaltime.ThermalTime object at 0x16e2ebdd0>\n",
      "making predictions for model ThermalTime\n",
      "model ThermalTime got a MAE of 10.666666666666666\n",
      "model ThermalTime got an RMSE of 17.339742404853272\n",
      "model ThermalTime's median error is: 1.0\n",
      "Ripeness Day: 275.0\n",
      "Juglans hindsii\n",
      "running model ThermalTime\n"
     ]
    },
    {
     "name": "stderr",
     "output_type": "stream",
     "text": [
      "\r",
      " 69%|█████████████████████████████████████████████████████████████████████████████████████████████████████████████████▉                                                   | 67/97 [03:14<01:14,  2.48s/it]"
     ]
    },
    {
     "name": "stdout",
     "output_type": "stream",
     "text": [
      "<pyPhenology.models.thermaltime.ThermalTime object at 0x16e2552d0>\n",
      "making predictions for model ThermalTime\n",
      "model ThermalTime got a MAE of 24.0\n",
      "model ThermalTime got an RMSE of 24.0\n",
      "model ThermalTime's median error is: 24.0\n",
      "Ripeness Day: 306.0\n",
      "Juglans major\n",
      "running model ThermalTime\n"
     ]
    },
    {
     "name": "stderr",
     "output_type": "stream",
     "text": [
      "\r",
      " 70%|███████████████████████████████████████████████████████████████████████████████████████████████████████████████████▋                                                 | 68/97 [03:16<01:11,  2.47s/it]"
     ]
    },
    {
     "name": "stdout",
     "output_type": "stream",
     "text": [
      "<pyPhenology.models.thermaltime.ThermalTime object at 0x16e2de250>\n",
      "making predictions for model ThermalTime\n",
      "model ThermalTime got a MAE of 10.5\n",
      "model ThermalTime got an RMSE of 11.113055385446435\n",
      "model ThermalTime's median error is: 12.0\n",
      "Ripeness Day: 306.0\n",
      "Juglans nigra\n",
      "running model ThermalTime\n"
     ]
    },
    {
     "name": "stderr",
     "output_type": "stream",
     "text": [
      "\r",
      " 71%|█████████████████████████████████████████████████████████████████████████████████████████████████████████████████████▎                                               | 69/97 [03:19<01:13,  2.62s/it]"
     ]
    },
    {
     "name": "stdout",
     "output_type": "stream",
     "text": [
      "<pyPhenology.models.thermaltime.ThermalTime object at 0x16e2e8390>\n",
      "making predictions for model ThermalTime\n",
      "model ThermalTime got a MAE of 19.923076923076923\n",
      "model ThermalTime got an RMSE of 28.42128130062455\n",
      "model ThermalTime's median error is: 16.0\n",
      "Ripeness Day: 277.38461538461536\n",
      "Prunus serotina\n",
      "running model ThermalTime\n"
     ]
    },
    {
     "name": "stderr",
     "output_type": "stream",
     "text": [
      "\r",
      " 72%|███████████████████████████████████████████████████████████████████████████████████████████████████████████████████████                                              | 70/97 [03:23<01:16,  2.82s/it]"
     ]
    },
    {
     "name": "stdout",
     "output_type": "stream",
     "text": [
      "<pyPhenology.models.thermaltime.ThermalTime object at 0x16e295c50>\n",
      "making predictions for model ThermalTime\n",
      "model ThermalTime got a MAE of 17.97222222222222\n",
      "model ThermalTime got an RMSE of 24.77846287044905\n",
      "model ThermalTime's median error is: 13.0\n",
      "Ripeness Day: 211.41666666666666\n",
      "Prunus virginiana\n",
      "running model ThermalTime\n"
     ]
    },
    {
     "name": "stderr",
     "output_type": "stream",
     "text": [
      "\r",
      " 73%|████████████████████████████████████████████████████████████████████████████████████████████████████████████████████████▊                                            | 71/97 [03:25<01:09,  2.67s/it]"
     ]
    },
    {
     "name": "stdout",
     "output_type": "stream",
     "text": [
      "<pyPhenology.models.thermaltime.ThermalTime object at 0x16e2dd050>\n",
      "making predictions for model ThermalTime\n",
      "model ThermalTime got a MAE of 17.433333333333334\n",
      "model ThermalTime got an RMSE of 20.809452980156237\n",
      "model ThermalTime's median error is: 15.5\n",
      "Ripeness Day: 239.83333333333334\n",
      "Prunus yedoensis\n",
      "running model ThermalTime\n"
     ]
    },
    {
     "name": "stderr",
     "output_type": "stream",
     "text": [
      "\r",
      " 74%|██████████████████████████████████████████████████████████████████████████████████████████████████████████████████████████▍                                          | 72/97 [03:28<01:08,  2.74s/it]"
     ]
    },
    {
     "name": "stdout",
     "output_type": "stream",
     "text": [
      "<pyPhenology.models.thermaltime.ThermalTime object at 0x16e2ea5d0>\n",
      "making predictions for model ThermalTime\n",
      "model ThermalTime got a MAE of 21.0\n",
      "model ThermalTime got an RMSE of 21.213203435596427\n",
      "model ThermalTime's median error is: 21.0\n",
      "Ripeness Day: 183.0\n",
      "Prunus ilicifolia\n",
      "running model ThermalTime\n"
     ]
    },
    {
     "name": "stderr",
     "output_type": "stream",
     "text": [
      "\r",
      " 75%|████████████████████████████████████████████████████████████████████████████████████████████████████████████████████████████▏                                        | 73/97 [03:30<01:02,  2.62s/it]"
     ]
    },
    {
     "name": "stdout",
     "output_type": "stream",
     "text": [
      "<pyPhenology.models.thermaltime.ThermalTime object at 0x16e257c50>\n",
      "making predictions for model ThermalTime\n",
      "model ThermalTime got a MAE of 65.0\n",
      "model ThermalTime got an RMSE of 65.0\n",
      "model ThermalTime's median error is: 65.0\n",
      "Ripeness Day: 183.0\n",
      "Prunus cerasus\n",
      "running model ThermalTime\n"
     ]
    },
    {
     "name": "stderr",
     "output_type": "stream",
     "text": [
      "\r",
      " 76%|█████████████████████████████████████████████████████████████████████████████████████████████████████████████████████████████▉                                       | 74/97 [03:34<01:05,  2.84s/it]"
     ]
    },
    {
     "name": "stdout",
     "output_type": "stream",
     "text": [
      "<pyPhenology.models.thermaltime.ThermalTime object at 0x16e2eb790>\n",
      "making predictions for model ThermalTime\n",
      "model ThermalTime got a MAE of 41.90909090909091\n",
      "model ThermalTime got an RMSE of 55.62291875575293\n",
      "model ThermalTime's median error is: 26.0\n",
      "Ripeness Day: 183.0\n",
      "Prunus emarginata\n",
      "running model ThermalTime\n"
     ]
    },
    {
     "name": "stderr",
     "output_type": "stream",
     "text": [
      "\r",
      " 77%|███████████████████████████████████████████████████████████████████████████████████████████████████████████████████████████████▌                                     | 75/97 [03:36<00:58,  2.67s/it]"
     ]
    },
    {
     "name": "stdout",
     "output_type": "stream",
     "text": [
      "<pyPhenology.models.thermaltime.ThermalTime object at 0x16e294cd0>\n",
      "making predictions for model ThermalTime\n",
      "model ThermalTime got a MAE of 36.0574074074074\n",
      "model ThermalTime got an RMSE of 51.998492479730686\n",
      "model ThermalTime's median error is: 11.422222222222217\n",
      "Ripeness Day: 245.0\n",
      "Prunus pensylvanica\n",
      "running model ThermalTime\n"
     ]
    },
    {
     "name": "stderr",
     "output_type": "stream",
     "text": [
      "\r",
      " 78%|█████████████████████████████████████████████████████████████████████████████████████████████████████████████████████████████████▎                                   | 76/97 [03:38<00:54,  2.57s/it]"
     ]
    },
    {
     "name": "stdout",
     "output_type": "stream",
     "text": [
      "<pyPhenology.models.thermaltime.ThermalTime object at 0x16e2eb6d0>\n",
      "making predictions for model ThermalTime\n",
      "model ThermalTime got a MAE of 16.833333333333332\n",
      "model ThermalTime got an RMSE of 19.710403344427025\n",
      "model ThermalTime's median error is: 18.0\n",
      "Ripeness Day: 214.0\n",
      "Prunus laurocerasus\n",
      "running model ThermalTime\n"
     ]
    },
    {
     "name": "stderr",
     "output_type": "stream",
     "text": [
      "\r",
      " 79%|██████████████████████████████████████████████████████████████████████████████████████████████████████████████████████████████████▉                                  | 77/97 [03:41<00:52,  2.62s/it]"
     ]
    },
    {
     "name": "stdout",
     "output_type": "stream",
     "text": [
      "<pyPhenology.models.thermaltime.ThermalTime object at 0x16e2e8dd0>\n",
      "making predictions for model ThermalTime\n",
      "model ThermalTime got a MAE of 7.625\n",
      "model ThermalTime got an RMSE of 8.338540040078959\n",
      "model ThermalTime's median error is: 7.625\n",
      "Ripeness Day: 214.0\n",
      "Prunus serrulata\n",
      "running model ThermalTime\n"
     ]
    },
    {
     "name": "stderr",
     "output_type": "stream",
     "text": [
      "\r",
      " 80%|████████████████████████████████████████████████████████████████████████████████████████████████████████████████████████████████████▋                                | 78/97 [03:44<00:54,  2.89s/it]"
     ]
    },
    {
     "name": "stdout",
     "output_type": "stream",
     "text": [
      "<pyPhenology.models.thermaltime.ThermalTime object at 0x16e297bd0>\n",
      "making predictions for model ThermalTime\n",
      "model ThermalTime got a MAE of 9.0\n",
      "model ThermalTime got an RMSE of 9.848857801796104\n",
      "model ThermalTime's median error is: 9.0\n",
      "Ripeness Day: 229.5\n",
      "Prunus avium\n",
      "running model ThermalTime\n"
     ]
    },
    {
     "name": "stderr",
     "output_type": "stream",
     "text": [
      "\r",
      " 81%|██████████████████████████████████████████████████████████████████████████████████████████████████████████████████████████████████████▍                              | 79/97 [03:52<01:17,  4.30s/it]"
     ]
    },
    {
     "name": "stdout",
     "output_type": "stream",
     "text": [
      "<pyPhenology.models.thermaltime.ThermalTime object at 0x16e260090>\n",
      "making predictions for model ThermalTime\n",
      "model ThermalTime got a MAE of 18.4\n",
      "model ThermalTime got an RMSE of 33.97204733306487\n",
      "model ThermalTime's median error is: 6.5\n",
      "Ripeness Day: 172.5\n",
      "Cornus mas\n",
      "running model ThermalTime\n"
     ]
    },
    {
     "name": "stderr",
     "output_type": "stream",
     "text": [
      "\r",
      " 82%|████████████████████████████████████████████████████████████████████████████████████████████████████████████████████████████████████████                             | 80/97 [03:54<01:03,  3.74s/it]"
     ]
    },
    {
     "name": "stdout",
     "output_type": "stream",
     "text": [
      "<pyPhenology.models.thermaltime.ThermalTime object at 0x16e261a10>\n",
      "making predictions for model ThermalTime\n",
      "model ThermalTime got a MAE of 22.666666666666668\n",
      "model ThermalTime got an RMSE of 26.595739007091595\n",
      "model ThermalTime's median error is: 32.0\n",
      "Ripeness Day: 234.66666666666666\n",
      "Ehretia tinifolia\n",
      "running model ThermalTime\n"
     ]
    },
    {
     "name": "stderr",
     "output_type": "stream",
     "text": [
      "\r",
      " 84%|█████████████████████████████████████████████████████████████████████████████████████████████████████████████████████████████████████████▊                           | 81/97 [03:57<00:53,  3.34s/it]"
     ]
    },
    {
     "name": "stdout",
     "output_type": "stream",
     "text": [
      "<pyPhenology.models.thermaltime.ThermalTime object at 0x16e2fd390>\n",
      "making predictions for model ThermalTime\n",
      "model ThermalTime got a MAE of 5.0\n",
      "model ThermalTime got an RMSE of 5.0\n",
      "model ThermalTime's median error is: 5.0\n",
      "Ripeness Day: 153.0\n",
      "Elaeagnus multiflora\n",
      "running model ThermalTime\n"
     ]
    },
    {
     "name": "stderr",
     "output_type": "stream",
     "text": [
      "\r",
      " 85%|███████████████████████████████████████████████████████████████████████████████████████████████████████████████████████████████████████████▍                         | 82/97 [03:59<00:46,  3.07s/it]"
     ]
    },
    {
     "name": "stdout",
     "output_type": "stream",
     "text": [
      "<pyPhenology.models.thermaltime.ThermalTime object at 0x16af0d710>\n",
      "making predictions for model ThermalTime\n",
      "model ThermalTime got a MAE of 1.0\n",
      "model ThermalTime got an RMSE of 1.0\n",
      "model ThermalTime's median error is: 1.0\n",
      "Ripeness Day: 183.0\n",
      "Eugenia brasiliensis\n",
      "Prunus fruticosa\n",
      "running model ThermalTime\n"
     ]
    },
    {
     "name": "stderr",
     "output_type": "stream",
     "text": [
      "\r",
      " 87%|██████████████████████████████████████████████████████████████████████████████████████████████████████████████████████████████████████████████▉                      | 84/97 [04:02<00:28,  2.18s/it]"
     ]
    },
    {
     "name": "stdout",
     "output_type": "stream",
     "text": [
      "<pyPhenology.models.thermaltime.ThermalTime object at 0x16e2bbb50>\n",
      "making predictions for model ThermalTime\n",
      "model ThermalTime got a MAE of 61.0\n",
      "model ThermalTime got an RMSE of 62.369864518050704\n",
      "model ThermalTime's median error is: 61.0\n",
      "Ripeness Day: 214.0\n",
      "Prunus maackii\n",
      "running model ThermalTime\n"
     ]
    },
    {
     "name": "stderr",
     "output_type": "stream",
     "text": [
      "\r",
      " 88%|████████████████████████████████████████████████████████████████████████████████████████████████████████████████████████████████████████████████▌                    | 85/97 [04:04<00:27,  2.33s/it]"
     ]
    },
    {
     "name": "stdout",
     "output_type": "stream",
     "text": [
      "<pyPhenology.models.thermaltime.ThermalTime object at 0x16e2ace10>\n",
      "making predictions for model ThermalTime\n",
      "model ThermalTime got a MAE of 13.0\n",
      "model ThermalTime got an RMSE of 13.0\n",
      "model ThermalTime's median error is: 13.0\n",
      "Ripeness Day: 183.0\n",
      "Prunus mahaleb\n",
      "Prunus padus\n",
      "running model ThermalTime\n"
     ]
    },
    {
     "name": "stderr",
     "output_type": "stream",
     "text": [
      "\r",
      " 90%|███████████████████████████████████████████████████████████████████████████████████████████████████████████████████████████████████████████████████▉                 | 87/97 [04:07<00:18,  1.82s/it]"
     ]
    },
    {
     "name": "stdout",
     "output_type": "stream",
     "text": [
      "<pyPhenology.models.thermaltime.ThermalTime object at 0x16b65f350>\n",
      "making predictions for model ThermalTime\n",
      "model ThermalTime got a MAE of 4.0\n",
      "model ThermalTime got an RMSE of 4.0\n",
      "model ThermalTime's median error is: 4.0\n",
      "Ripeness Day: 183.0\n",
      "Prunus subhirtella\n",
      "Prunus tomentosa\n",
      "running model ThermalTime\n"
     ]
    },
    {
     "name": "stderr",
     "output_type": "stream",
     "text": [
      "\r",
      " 92%|███████████████████████████████████████████████████████████████████████████████████████████████████████████████████████████████████████████████████████▍             | 89/97 [04:10<00:14,  1.78s/it]"
     ]
    },
    {
     "name": "stdout",
     "output_type": "stream",
     "text": [
      "<pyPhenology.models.thermaltime.ThermalTime object at 0x16e2611d0>\n",
      "making predictions for model ThermalTime\n",
      "model ThermalTime got a MAE of 28.75\n",
      "model ThermalTime got an RMSE of 33.3878720495931\n",
      "model ThermalTime's median error is: 28.5\n",
      "Ripeness Day: 206.25\n",
      "Diospyros virginiana\n",
      "running model ThermalTime\n"
     ]
    },
    {
     "name": "stderr",
     "output_type": "stream",
     "text": [
      "\r",
      " 93%|█████████████████████████████████████████████████████████████████████████████████████████████████████████████████████████████████████████████████████████            | 90/97 [04:13<00:14,  2.13s/it]"
     ]
    },
    {
     "name": "stdout",
     "output_type": "stream",
     "text": [
      "<pyPhenology.models.thermaltime.ThermalTime object at 0x16e259550>\n",
      "making predictions for model ThermalTime\n",
      "model ThermalTime got a MAE of 24.658227848101266\n",
      "model ThermalTime got an RMSE of 41.89015170808745\n",
      "model ThermalTime's median error is: 16.0\n",
      "Ripeness Day: 282.45569620253167\n",
      "Diospyros\n",
      "running model ThermalTime\n"
     ]
    },
    {
     "name": "stderr",
     "output_type": "stream",
     "text": [
      "\r",
      " 94%|██████████████████████████████████████████████████████████████████████████████████████████████████████████████████████████████████████████████████████████▊          | 91/97 [04:16<00:13,  2.21s/it]"
     ]
    },
    {
     "name": "stdout",
     "output_type": "stream",
     "text": [
      "<pyPhenology.models.thermaltime.ThermalTime object at 0x16b66d750>\n",
      "making predictions for model ThermalTime\n",
      "model ThermalTime got a MAE of 30.0\n",
      "model ThermalTime got an RMSE of 34.47221103052912\n",
      "model ThermalTime's median error is: 36.0\n",
      "Ripeness Day: 306.0\n",
      "Diospyros kaki\n",
      "running model ThermalTime\n"
     ]
    },
    {
     "name": "stderr",
     "output_type": "stream",
     "text": [
      "\r",
      " 95%|████████████████████████████████████████████████████████████████████████████████████████████████████████████████████████████████████████████████████████████▍        | 92/97 [04:19<00:12,  2.51s/it]"
     ]
    },
    {
     "name": "stdout",
     "output_type": "stream",
     "text": [
      "<pyPhenology.models.thermaltime.ThermalTime object at 0x16b66df10>\n",
      "making predictions for model ThermalTime\n",
      "model ThermalTime got a MAE of 19.142857142857142\n",
      "model ThermalTime got an RMSE of 20.96936541038583\n",
      "model ThermalTime's median error is: 18.0\n",
      "Ripeness Day: 306.0\n",
      "Pyrus communis\n",
      "running model ThermalTime\n"
     ]
    },
    {
     "name": "stderr",
     "output_type": "stream",
     "text": [
      "\r",
      " 96%|██████████████████████████████████████████████████████████████████████████████████████████████████████████████████████████████████████████████████████████████▏      | 93/97 [04:23<00:11,  2.79s/it]"
     ]
    },
    {
     "name": "stdout",
     "output_type": "stream",
     "text": [
      "<pyPhenology.models.thermaltime.ThermalTime object at 0x16e255dd0>\n",
      "making predictions for model ThermalTime\n",
      "model ThermalTime got a MAE of 27.75\n",
      "model ThermalTime got an RMSE of 31.298961644118485\n",
      "model ThermalTime's median error is: 31.5\n",
      "Ripeness Day: 245.0\n",
      "Pyrus\n",
      "running model ThermalTime\n"
     ]
    },
    {
     "name": "stderr",
     "output_type": "stream",
     "text": [
      "\r",
      " 97%|███████████████████████████████████████████████████████████████████████████████████████████████████████████████████████████████████████████████████████████████▉     | 94/97 [04:26<00:08,  2.78s/it]"
     ]
    },
    {
     "name": "stdout",
     "output_type": "stream",
     "text": [
      "<pyPhenology.models.thermaltime.ThermalTime object at 0x16e25bd50>\n",
      "making predictions for model ThermalTime\n",
      "model ThermalTime got a MAE of 27.066666666666666\n",
      "model ThermalTime got an RMSE of 33.50223873116541\n",
      "model ThermalTime's median error is: 21.0\n",
      "Ripeness Day: 247.0\n",
      "Pyrus amygdaliformis\n",
      "running model ThermalTime\n"
     ]
    },
    {
     "name": "stderr",
     "output_type": "stream",
     "text": [
      "\r",
      " 98%|█████████████████████████████████████████████████████████████████████████████████████████████████████████████████████████████████████████████████████████████████▌   | 95/97 [04:28<00:05,  2.69s/it]"
     ]
    },
    {
     "name": "stdout",
     "output_type": "stream",
     "text": [
      "<pyPhenology.models.thermaltime.ThermalTime object at 0x16e2494d0>\n",
      "making predictions for model ThermalTime\n",
      "model ThermalTime got a MAE of 13.666666666666666\n",
      "model ThermalTime got an RMSE of 20.37154878746336\n",
      "model ThermalTime's median error is: 4.0\n",
      "Ripeness Day: 275.0\n",
      "Pyrus pyraster\n",
      "running model ThermalTime\n"
     ]
    },
    {
     "name": "stderr",
     "output_type": "stream",
     "text": [
      "\r",
      " 99%|███████████████████████████████████████████████████████████████████████████████████████████████████████████████████████████████████████████████████████████████████▎ | 96/97 [04:31<00:02,  2.67s/it]"
     ]
    },
    {
     "name": "stdout",
     "output_type": "stream",
     "text": [
      "<pyPhenology.models.thermaltime.ThermalTime object at 0x16e25be50>\n",
      "making predictions for model ThermalTime\n",
      "model ThermalTime got a MAE of 10.0\n",
      "model ThermalTime got an RMSE of 10.770329614269007\n",
      "model ThermalTime's median error is: 10.0\n",
      "Ripeness Day: 275.0\n",
      "Pyrus pyrifolia\n",
      "running model ThermalTime\n"
     ]
    },
    {
     "name": "stderr",
     "output_type": "stream",
     "text": [
      "100%|█████████████████████████████████████████████████████████████████████████████████████████████████████████████████████████████████████████████████████████████████████| 97/97 [04:33<00:00,  2.82s/it]"
     ]
    },
    {
     "name": "stdout",
     "output_type": "stream",
     "text": [
      "<pyPhenology.models.thermaltime.ThermalTime object at 0x16b675850>\n",
      "making predictions for model ThermalTime\n",
      "model ThermalTime got a MAE of 31.0\n",
      "model ThermalTime got an RMSE of 31.0\n",
      "model ThermalTime's median error is: 31.0\n",
      "Ripeness Day: 275.0\n"
     ]
    },
    {
     "name": "stderr",
     "output_type": "stream",
     "text": [
      "\n"
     ]
    }
   ],
   "source": [
    "## Train models\n",
    "\n",
    "species_prediction_dict = {}\n",
    "\n",
    "for s in tqdm(species_list):\n",
    "    print(s)\n",
    "    species_train_df = filtered_plants.query('formatted_sci_name == \"{}\" and year < {}'.format(s, high_cutoff_year))\n",
    "    \n",
    "    if len(species_train_df) == 0:\n",
    "        continue\n",
    "    \n",
    "    species_test_df = filtered_plants.query('formatted_sci_name == \"{}\" and year >= {}'.format(s, high_cutoff_year))\n",
    "    \n",
    "   # print(species_train_df, species_test_df)\n",
    "    \n",
    "    if len(species_test_df) == 0:\n",
    "        # make predictions and compare to the mean ripeness day at each site\n",
    "        species_test_df = make_test_df(species_train_df)\n",
    "    \n",
    "    if len(species_test_df) == 0:\n",
    "        print(\"No test data for {}\".format(s))\n",
    "        #print(species_test_df)\n",
    "        \n",
    "    predictions = train_ripeness_small(species_train_df, weather_training,\n",
    "                        species_test_df, weather_test)\n",
    "    \n",
    "    species_prediction_dict[s] = predictions"
   ]
  },
  {
   "cell_type": "code",
   "execution_count": 61,
   "id": "0ae34231",
   "metadata": {
    "scrolled": true
   },
   "outputs": [
    {
     "name": "stdout",
     "output_type": "stream",
     "text": [
      "Rubus 9.5\n",
      "Rubus occidentalis 6.0\n",
      "Ficus 18.0\n",
      "Ficus carica 13.0\n",
      "Ficus citrifolia 39.5\n",
      "Ficus macrophylla 7.0\n",
      "Olea europaea 45.5\n",
      "Olea europea 17.5\n",
      "Olea 32.0\n",
      "Morus rubra 15.5\n",
      "Morus 15.5\n",
      "Morus macroura 35.0\n",
      "Morus alba 7.0\n",
      "Morus nigra 11.5\n",
      "Morus australis 19.0\n",
      "Amelanchier alnifolia 9.0\n",
      "Amelanchier arborea 28.0\n",
      "Amelanchier canadensis 14.0\n",
      "Amelanchier grandiflora 12.5\n",
      "Amelanchier laevis 13.0\n",
      "Amelanchier utahensis 30.875\n",
      "Amelanchier 11.5\n",
      "Citrus 111.0\n",
      "Citrus jambhiri 3.0\n",
      "Citrus limon 63.0\n",
      "Rubus idaeus 14.5\n",
      "Rubus hayata 10.0\n",
      "Rubus phoenicolasius 10.0\n",
      "Rubus rolfei 11.0\n",
      "Citrus aurantium 13.5\n",
      "Citrus sinensis 26.0\n",
      "Prunus americana 37.0\n",
      "Prunus domestica 15.0\n",
      "Prunus maritima 14.5\n",
      "Prunus nigra 55.0\n",
      "Prunus cerasifera 13.5\n",
      "Prunus 29.0\n",
      "Prunus angustifolia 25.0\n",
      "Prunus cocomilia 13.0\n",
      "Prunus salicina 32.0\n",
      "Prunus subcordata 8.0\n",
      "Prunus mexicana 8.5\n",
      "Prunus rivularis 11.0\n",
      "Eriobotrya japonica 49.0\n",
      "Malus sieboldii 56.0\n",
      "Malus 32.0\n",
      "Malus pumila 24.0\n",
      "Malus domestica 9.5\n",
      "Malus sylvestris 14.0\n",
      "Malus coronaria 41.0\n",
      "Malus ' 8.0\n",
      "Malus sieversii 19.0\n",
      "Malus baccata 26.5\n",
      "Malus ioensis 13.0\n",
      "Malus hupehensis 34.0\n",
      "Malus tschonoskii 0.0\n",
      "Malus angustifolia 11.0\n",
      "Rosmarinus officinalis 90.0\n",
      "Juglans 16.5\n",
      "Juglans regia 62.0\n",
      "Juglans cinerea 1.0\n",
      "Juglans hindsii 24.0\n",
      "Juglans major 12.0\n",
      "Juglans nigra 16.0\n",
      "Prunus serotina 13.0\n",
      "Prunus virginiana 15.5\n",
      "Prunus yedoensis 21.0\n",
      "Prunus ilicifolia 65.0\n",
      "Prunus cerasus 26.0\n",
      "Prunus emarginata 11.422222222222217\n",
      "Prunus pensylvanica 18.0\n",
      "Prunus laurocerasus 7.625\n",
      "Prunus serrulata 9.0\n",
      "Prunus avium 6.5\n",
      "Cornus mas 32.0\n",
      "Ehretia tinifolia 5.0\n",
      "Elaeagnus multiflora 1.0\n",
      "Prunus fruticosa 61.0\n",
      "Prunus maackii 13.0\n",
      "Prunus padus 4.0\n",
      "Prunus tomentosa 28.5\n",
      "Diospyros virginiana 16.0\n",
      "Diospyros 36.0\n",
      "Diospyros kaki 18.0\n",
      "Pyrus communis 31.5\n",
      "Pyrus 21.0\n",
      "Pyrus amygdaliformis 4.0\n",
      "Pyrus pyraster 10.0\n",
      "Pyrus pyrifolia 31.0\n"
     ]
    }
   ],
   "source": [
    "for s in species_prediction_dict.keys():\n",
    "    print(s, species_prediction_dict[s]['Median Error'])"
   ]
  },
  {
   "cell_type": "markdown",
   "id": "480509cb",
   "metadata": {},
   "source": [
    "TODO for tomorrow: figure out why it's still defaulting to monthly instead of taking some euro data. "
   ]
  },
  {
   "cell_type": "code",
   "execution_count": 74,
   "id": "9af58361",
   "metadata": {},
   "outputs": [],
   "source": [
    "# gets a list of all the prediction dataframes from the species model\n",
    "df_list = [i['prediction_df'] for i in species_prediction_dict.values()]\n",
    "\n",
    "full_prediction_df = pd.concat(df_list)\n",
    "\n",
    "full_prediction_df['abs_error'] = np.abs(full_prediction_df['doy'] - full_prediction_df['flowering_day'])"
   ]
  },
  {
   "cell_type": "code",
   "execution_count": 69,
   "id": "16dd112a",
   "metadata": {
    "collapsed": true
   },
   "outputs": [
    {
     "data": {
      "text/html": [
       "<div>\n",
       "<style scoped>\n",
       "    .dataframe tbody tr th:only-of-type {\n",
       "        vertical-align: middle;\n",
       "    }\n",
       "\n",
       "    .dataframe tbody tr th {\n",
       "        vertical-align: top;\n",
       "    }\n",
       "\n",
       "    .dataframe thead th {\n",
       "        text-align: right;\n",
       "    }\n",
       "</style>\n",
       "<table border=\"1\" class=\"dataframe\">\n",
       "  <thead>\n",
       "    <tr style=\"text-align: right;\">\n",
       "      <th></th>\n",
       "      <th>site_id</th>\n",
       "      <th>latitude</th>\n",
       "      <th>doy</th>\n",
       "      <th>year</th>\n",
       "      <th>genus</th>\n",
       "      <th>lon_360</th>\n",
       "      <th>phenophase</th>\n",
       "      <th>formatted_sci_name</th>\n",
       "      <th>rounded_lat</th>\n",
       "      <th>rounded_lon</th>\n",
       "      <th>flowering_day</th>\n",
       "    </tr>\n",
       "  </thead>\n",
       "  <tbody>\n",
       "    <tr>\n",
       "      <th>19</th>\n",
       "      <td>1812903</td>\n",
       "      <td>42.000443</td>\n",
       "      <td>183.0</td>\n",
       "      <td>2022.0</td>\n",
       "      <td>Rubus</td>\n",
       "      <td>268.349632</td>\n",
       "      <td>516.0</td>\n",
       "      <td>Rubus</td>\n",
       "      <td>42.0</td>\n",
       "      <td>268.3</td>\n",
       "      <td>183</td>\n",
       "    </tr>\n",
       "    <tr>\n",
       "      <th>20</th>\n",
       "      <td>1812992</td>\n",
       "      <td>43.123822</td>\n",
       "      <td>181.0</td>\n",
       "      <td>2022.0</td>\n",
       "      <td>Rubus</td>\n",
       "      <td>282.422069</td>\n",
       "      <td>516.0</td>\n",
       "      <td>Rubus</td>\n",
       "      <td>43.1</td>\n",
       "      <td>282.4</td>\n",
       "      <td>183</td>\n",
       "    </tr>\n",
       "    <tr>\n",
       "      <th>22</th>\n",
       "      <td>1813012</td>\n",
       "      <td>35.219765</td>\n",
       "      <td>190.0</td>\n",
       "      <td>2022.0</td>\n",
       "      <td>Rubus</td>\n",
       "      <td>270.150501</td>\n",
       "      <td>516.0</td>\n",
       "      <td>Rubus</td>\n",
       "      <td>35.2</td>\n",
       "      <td>270.2</td>\n",
       "      <td>183</td>\n",
       "    </tr>\n",
       "    <tr>\n",
       "      <th>23</th>\n",
       "      <td>1813095</td>\n",
       "      <td>43.026309</td>\n",
       "      <td>193.0</td>\n",
       "      <td>2022.0</td>\n",
       "      <td>Rubus</td>\n",
       "      <td>274.317216</td>\n",
       "      <td>516.0</td>\n",
       "      <td>Rubus</td>\n",
       "      <td>43.0</td>\n",
       "      <td>274.3</td>\n",
       "      <td>183</td>\n",
       "    </tr>\n",
       "    <tr>\n",
       "      <th>25</th>\n",
       "      <td>1810562</td>\n",
       "      <td>37.417095</td>\n",
       "      <td>165.0</td>\n",
       "      <td>2022.0</td>\n",
       "      <td>Rubus</td>\n",
       "      <td>280.809241</td>\n",
       "      <td>516.0</td>\n",
       "      <td>Rubus</td>\n",
       "      <td>37.4</td>\n",
       "      <td>280.8</td>\n",
       "      <td>183</td>\n",
       "    </tr>\n",
       "    <tr>\n",
       "      <th>...</th>\n",
       "      <td>...</td>\n",
       "      <td>...</td>\n",
       "      <td>...</td>\n",
       "      <td>...</td>\n",
       "      <td>...</td>\n",
       "      <td>...</td>\n",
       "      <td>...</td>\n",
       "      <td>...</td>\n",
       "      <td>...</td>\n",
       "      <td>...</td>\n",
       "      <td>...</td>\n",
       "    </tr>\n",
       "    <tr>\n",
       "      <th>1</th>\n",
       "      <td>1759647</td>\n",
       "      <td>NaN</td>\n",
       "      <td>240.0</td>\n",
       "      <td>2022.0</td>\n",
       "      <td>NaN</td>\n",
       "      <td>NaN</td>\n",
       "      <td>NaN</td>\n",
       "      <td>NaN</td>\n",
       "      <td>NaN</td>\n",
       "      <td>NaN</td>\n",
       "      <td>275</td>\n",
       "    </tr>\n",
       "    <tr>\n",
       "      <th>2</th>\n",
       "      <td>1760749</td>\n",
       "      <td>NaN</td>\n",
       "      <td>271.0</td>\n",
       "      <td>2022.0</td>\n",
       "      <td>NaN</td>\n",
       "      <td>NaN</td>\n",
       "      <td>NaN</td>\n",
       "      <td>NaN</td>\n",
       "      <td>NaN</td>\n",
       "      <td>NaN</td>\n",
       "      <td>275</td>\n",
       "    </tr>\n",
       "    <tr>\n",
       "      <th>0</th>\n",
       "      <td>1769198</td>\n",
       "      <td>NaN</td>\n",
       "      <td>261.0</td>\n",
       "      <td>2022.0</td>\n",
       "      <td>NaN</td>\n",
       "      <td>NaN</td>\n",
       "      <td>NaN</td>\n",
       "      <td>NaN</td>\n",
       "      <td>NaN</td>\n",
       "      <td>NaN</td>\n",
       "      <td>275</td>\n",
       "    </tr>\n",
       "    <tr>\n",
       "      <th>1</th>\n",
       "      <td>1718728</td>\n",
       "      <td>NaN</td>\n",
       "      <td>281.0</td>\n",
       "      <td>2022.0</td>\n",
       "      <td>NaN</td>\n",
       "      <td>NaN</td>\n",
       "      <td>NaN</td>\n",
       "      <td>NaN</td>\n",
       "      <td>NaN</td>\n",
       "      <td>NaN</td>\n",
       "      <td>275</td>\n",
       "    </tr>\n",
       "    <tr>\n",
       "      <th>148859</th>\n",
       "      <td>1821277</td>\n",
       "      <td>45.499888</td>\n",
       "      <td>244.0</td>\n",
       "      <td>2022.0</td>\n",
       "      <td>Pyrus</td>\n",
       "      <td>237.365864</td>\n",
       "      <td>516.0</td>\n",
       "      <td>Pyrus pyrifolia</td>\n",
       "      <td>45.5</td>\n",
       "      <td>237.4</td>\n",
       "      <td>275</td>\n",
       "    </tr>\n",
       "  </tbody>\n",
       "</table>\n",
       "<p>2849 rows × 11 columns</p>\n",
       "</div>"
      ],
      "text/plain": [
       "        site_id   latitude    doy    year  genus     lon_360  phenophase  \\\n",
       "19      1812903  42.000443  183.0  2022.0  Rubus  268.349632       516.0   \n",
       "20      1812992  43.123822  181.0  2022.0  Rubus  282.422069       516.0   \n",
       "22      1813012  35.219765  190.0  2022.0  Rubus  270.150501       516.0   \n",
       "23      1813095  43.026309  193.0  2022.0  Rubus  274.317216       516.0   \n",
       "25      1810562  37.417095  165.0  2022.0  Rubus  280.809241       516.0   \n",
       "...         ...        ...    ...     ...    ...         ...         ...   \n",
       "1       1759647        NaN  240.0  2022.0    NaN         NaN         NaN   \n",
       "2       1760749        NaN  271.0  2022.0    NaN         NaN         NaN   \n",
       "0       1769198        NaN  261.0  2022.0    NaN         NaN         NaN   \n",
       "1       1718728        NaN  281.0  2022.0    NaN         NaN         NaN   \n",
       "148859  1821277  45.499888  244.0  2022.0  Pyrus  237.365864       516.0   \n",
       "\n",
       "       formatted_sci_name  rounded_lat  rounded_lon  flowering_day  \n",
       "19                  Rubus         42.0        268.3            183  \n",
       "20                  Rubus         43.1        282.4            183  \n",
       "22                  Rubus         35.2        270.2            183  \n",
       "23                  Rubus         43.0        274.3            183  \n",
       "25                  Rubus         37.4        280.8            183  \n",
       "...                   ...          ...          ...            ...  \n",
       "1                     NaN          NaN          NaN            275  \n",
       "2                     NaN          NaN          NaN            275  \n",
       "0                     NaN          NaN          NaN            275  \n",
       "1                     NaN          NaN          NaN            275  \n",
       "148859    Pyrus pyrifolia         45.5        237.4            275  \n",
       "\n",
       "[2849 rows x 11 columns]"
      ]
     },
     "execution_count": 69,
     "metadata": {},
     "output_type": "execute_result"
    }
   ],
   "source": [
    "full_prediction_df"
   ]
  },
  {
   "cell_type": "code",
   "execution_count": 98,
   "id": "882520bd",
   "metadata": {},
   "outputs": [],
   "source": [
    "## STATS\n",
    "\n",
    "# get confidence intervals for species\n",
    "\n",
    "def calc_confidence_interval():\n",
    "    pass\n",
    "\n",
    "def score_model(prediction_df):\n",
    "    observed = prediction_df['doy']\n",
    "    predicted = prediction_df['flowering_day']\n",
    "    \n",
    "    median_err = np.median(prediction_df['abs_error'])\n",
    "    std = np.std(prediction_df['abs_error'])\n",
    "    \n",
    "    # MAE, RMSE, median\n",
    "    print(\"Error metrics:\")\n",
    "    print(mae(observed, predicted))\n",
    "    print(rmse(observed, predicted))\n",
    "    print(median_err)\n",
    "    \n",
    "    # portion of errors under the median\n",
    "    print(\"Median portion (median error = {})\".format(median_err))\n",
    "    print(len(prediction_df.query('abs_error < {}'.format(median_err))) / len(prediction_df))\n",
    "    \n",
    "    # portion of errors under the SD\n",
    "    print(\"SD portion (SD = {})\".format(std))\n",
    "    print(len(prediction_df.query('abs_error < {}'.format(std))) / len(prediction_df))\n",
    "    \n",
    "    print(\"Month threshold:\")\n",
    "    print(len(prediction_df.query('abs_error < 30')) / len(prediction_df))\n",
    "\n",
    "    # \n",
    "    print(\"2 * SD portion (2SD = {})\".format(2 * std))\n",
    "    print(len(prediction_df.query('abs_error < {}'.format(2 * std))) / len(prediction_df))\n",
    "    \n",
    "\n",
    "# get how \"good\" one sample is compared to the whole sample\n",
    "def calc_error_percentile(sample, full_sample):\n",
    "    sample_median = np.median(sample['abs_error'])\n",
    "    \n",
    "    print(sample_median)\n",
    "    print(1 - len(full_sample.query('abs_error < {}'.format(sample_median))) / len(full_sample))"
   ]
  },
  {
   "cell_type": "code",
   "execution_count": 100,
   "id": "489fcc73",
   "metadata": {},
   "outputs": [
    {
     "data": {
      "text/plain": [
       "(array([  2.,   1.,   0.,   0.,   1.,   2.,   1.,   0.,   1.,   1.,   0.,\n",
       "          1.,   0.,  12.,   3.,   3.,   4.,   5.,   8.,  16.,  27.,  48.,\n",
       "         60., 106., 143., 258., 337., 512., 439., 259., 136., 128.,  98.,\n",
       "         61.,  34.,  26.,  19.,  19.,   7.,  17.,  10.,   5.,   1.,   5.,\n",
       "          2.,  13.,   6.,   4.,   5.,   3.]),\n",
       " array([-213.  , -205.26, -197.52, -189.78, -182.04, -174.3 , -166.56,\n",
       "        -158.82, -151.08, -143.34, -135.6 , -127.86, -120.12, -112.38,\n",
       "        -104.64,  -96.9 ,  -89.16,  -81.42,  -73.68,  -65.94,  -58.2 ,\n",
       "         -50.46,  -42.72,  -34.98,  -27.24,  -19.5 ,  -11.76,   -4.02,\n",
       "           3.72,   11.46,   19.2 ,   26.94,   34.68,   42.42,   50.16,\n",
       "          57.9 ,   65.64,   73.38,   81.12,   88.86,   96.6 ,  104.34,\n",
       "         112.08,  119.82,  127.56,  135.3 ,  143.04,  150.78,  158.52,\n",
       "         166.26,  174.  ]),\n",
       " <BarContainer object of 50 artists>)"
      ]
     },
     "execution_count": 100,
     "metadata": {},
     "output_type": "execute_result"
    },
    {
     "data": {
      "image/png": "[encoded data removed]",
      "text/plain": [
       "<Figure size 432x288 with 1 Axes>"
      ]
     },
     "metadata": {
      "needs_background": "light"
     },
     "output_type": "display_data"
    }
   ],
   "source": [
    "plt.hist(full_prediction_df['doy'] - full_prediction_df['flowering_day'], bins=50)"
   ]
  },
  {
   "cell_type": "code",
   "execution_count": 99,
   "id": "6968827a",
   "metadata": {},
   "outputs": [
    {
     "name": "stdout",
     "output_type": "stream",
     "text": [
      "Rubus\n",
      "10.0\n",
      "0.6075816075816076\n",
      "Ficus\n",
      "16.0\n",
      "0.44120744120744115\n",
      "Olea\n",
      "41.0\n",
      "0.14215514215514213\n",
      "Morus\n",
      "13.0\n",
      "0.5135135135135135\n",
      "Amelanchier\n",
      "13.0\n",
      "0.5135135135135135\n",
      "Citrus\n",
      "110.0\n",
      "0.02211302211302213\n",
      "Prunus\n",
      "19.0\n",
      "0.3783783783783784\n",
      "Eriobotrya\n",
      "49.0\n",
      "0.10810810810810811\n",
      "Malus\n",
      "30.0\n",
      "0.23727623727623726\n",
      "Rosmarinus\n",
      "90.0\n",
      "0.03404703404703402\n",
      "Juglans\n",
      "16.0\n",
      "0.44120744120744115\n",
      "Cornus\n",
      "32.0\n",
      "0.2169182169182169\n",
      "Diospyros\n",
      "17.5\n",
      "0.40400140400140405\n",
      "Pyrus\n",
      "28.0\n",
      "0.2628992628992629\n"
     ]
    }
   ],
   "source": [
    "for g in full_prediction_df['genus'].dropna().unique():\n",
    "    g_df = full_prediction_df[full_prediction_df['genus'] == g]\n",
    "    print(g)\n",
    "    calc_error_percentile(g_df, full_prediction_df)"
   ]
  },
  {
   "cell_type": "code",
   "execution_count": 84,
   "id": "78f41a4c",
   "metadata": {},
   "outputs": [
    {
     "name": "stdout",
     "output_type": "stream",
     "text": [
      "Error metrics:\n",
      "21.891178292476994\n",
      "34.257129283602936\n",
      "13.0\n",
      "Median portion (median error = 13.0)\n",
      "0.4864864864864865\n",
      "SD portion (SD = 26.35008955811099)\n",
      "0.7237627237627238\n",
      "Month threshold:\n",
      "0.7627237627237627\n",
      "2 * SD portion (2SD = 52.70017911622198)\n",
      "0.9143559143559143\n"
     ]
    }
   ],
   "source": [
    "score_model(full_prediction_df)"
   ]
  },
  {
   "cell_type": "code",
   "execution_count": 85,
   "id": "1004b6a9",
   "metadata": {},
   "outputs": [
    {
     "data": {
      "text/plain": [
       "26.35008955811099"
      ]
     },
     "execution_count": 85,
     "metadata": {},
     "output_type": "execute_result"
    }
   ],
   "source": [
    "np.std(full_prediction_df['abs_error'])"
   ]
  },
  {
   "cell_type": "code",
   "execution_count": 86,
   "id": "78881060",
   "metadata": {},
   "outputs": [
    {
     "data": {
      "text/plain": [
       "(array([470., 425., 304., 309., 200., 180., 106., 135., 102., 114.,  74.,\n",
       "         57.,  38.,  56.,  45.,  22.,  24.,  15.,  17.,  10.,  17.,  11.,\n",
       "          8.,   9.,   2.,  14.,   5.,   6.,   6.,   3.,   5.,  11.,   1.,\n",
       "          0.,   6.,   0.,   1.,   1.,   6.,   8.,   0.,   1.,   6.,   2.,\n",
       "          2.,   4.,   2.,   2.,   2.,   1.,   0.,   1.,   0.,   0.,   0.,\n",
       "          0.,   1.,   0.,   0.,   2.]),\n",
       " array([  0.  ,   3.55,   7.1 ,  10.65,  14.2 ,  17.75,  21.3 ,  24.85,\n",
       "         28.4 ,  31.95,  35.5 ,  39.05,  42.6 ,  46.15,  49.7 ,  53.25,\n",
       "         56.8 ,  60.35,  63.9 ,  67.45,  71.  ,  74.55,  78.1 ,  81.65,\n",
       "         85.2 ,  88.75,  92.3 ,  95.85,  99.4 , 102.95, 106.5 , 110.05,\n",
       "        113.6 , 117.15, 120.7 , 124.25, 127.8 , 131.35, 134.9 , 138.45,\n",
       "        142.  , 145.55, 149.1 , 152.65, 156.2 , 159.75, 163.3 , 166.85,\n",
       "        170.4 , 173.95, 177.5 , 181.05, 184.6 , 188.15, 191.7 , 195.25,\n",
       "        198.8 , 202.35, 205.9 , 209.45, 213.  ]),\n",
       " <BarContainer object of 60 artists>)"
      ]
     },
     "execution_count": 86,
     "metadata": {},
     "output_type": "execute_result"
    },
    {
     "data": {
      "image/png": "[encoded data removed]",
      "text/plain": [
       "<Figure size 432x288 with 1 Axes>"
      ]
     },
     "metadata": {
      "needs_background": "light"
     },
     "output_type": "display_data"
    }
   ],
   "source": [
    "plt.hist(full_prediction_df['abs_error'], bins=60)"
   ]
  },
  {
   "cell_type": "code",
   "execution_count": 102,
   "id": "1c17f374",
   "metadata": {
    "scrolled": true
   },
   "outputs": [
    {
     "data": {
      "text/html": [
       "<div>\n",
       "<style scoped>\n",
       "    .dataframe tbody tr th:only-of-type {\n",
       "        vertical-align: middle;\n",
       "    }\n",
       "\n",
       "    .dataframe tbody tr th {\n",
       "        vertical-align: top;\n",
       "    }\n",
       "\n",
       "    .dataframe thead th {\n",
       "        text-align: right;\n",
       "    }\n",
       "</style>\n",
       "<table border=\"1\" class=\"dataframe\">\n",
       "  <thead>\n",
       "    <tr style=\"text-align: right;\">\n",
       "      <th></th>\n",
       "      <th>site_id</th>\n",
       "      <th>latitude</th>\n",
       "      <th>doy</th>\n",
       "      <th>year</th>\n",
       "      <th>genus</th>\n",
       "      <th>lon_360</th>\n",
       "      <th>phenophase</th>\n",
       "      <th>formatted_sci_name</th>\n",
       "      <th>rounded_lat</th>\n",
       "      <th>rounded_lon</th>\n",
       "      <th>flowering_day</th>\n",
       "      <th>abs_error</th>\n",
       "    </tr>\n",
       "  </thead>\n",
       "  <tbody>\n",
       "    <tr>\n",
       "      <th>36</th>\n",
       "      <td>8</td>\n",
       "      <td>39.910755</td>\n",
       "      <td>62.0</td>\n",
       "      <td>2022.0</td>\n",
       "      <td>Diospyros</td>\n",
       "      <td>273.575810</td>\n",
       "      <td>516.0</td>\n",
       "      <td>Diospyros virginiana</td>\n",
       "      <td>39.9</td>\n",
       "      <td>273.6</td>\n",
       "      <td>275</td>\n",
       "      <td>213.0</td>\n",
       "    </tr>\n",
       "    <tr>\n",
       "      <th>50</th>\n",
       "      <td>2</td>\n",
       "      <td>38.376015</td>\n",
       "      <td>63.0</td>\n",
       "      <td>2022.0</td>\n",
       "      <td>Malus</td>\n",
       "      <td>237.491870</td>\n",
       "      <td>516.0</td>\n",
       "      <td>Malus sieboldii</td>\n",
       "      <td>38.4</td>\n",
       "      <td>237.5</td>\n",
       "      <td>275</td>\n",
       "      <td>212.0</td>\n",
       "    </tr>\n",
       "    <tr>\n",
       "      <th>46</th>\n",
       "      <td>8</td>\n",
       "      <td>39.910755</td>\n",
       "      <td>75.0</td>\n",
       "      <td>2022.0</td>\n",
       "      <td>Diospyros</td>\n",
       "      <td>273.575810</td>\n",
       "      <td>516.0</td>\n",
       "      <td>Diospyros virginiana</td>\n",
       "      <td>39.9</td>\n",
       "      <td>273.6</td>\n",
       "      <td>275</td>\n",
       "      <td>200.0</td>\n",
       "    </tr>\n",
       "    <tr>\n",
       "      <th>542</th>\n",
       "      <td>34</td>\n",
       "      <td>43.008286</td>\n",
       "      <td>63.0</td>\n",
       "      <td>2022.0</td>\n",
       "      <td>Malus</td>\n",
       "      <td>281.216940</td>\n",
       "      <td>516.0</td>\n",
       "      <td>Malus</td>\n",
       "      <td>43.0</td>\n",
       "      <td>281.2</td>\n",
       "      <td>245</td>\n",
       "      <td>182.0</td>\n",
       "    </tr>\n",
       "    <tr>\n",
       "      <th>182</th>\n",
       "      <td>1824168</td>\n",
       "      <td>32.078188</td>\n",
       "      <td>357.0</td>\n",
       "      <td>2022.0</td>\n",
       "      <td>Citrus</td>\n",
       "      <td>34.802053</td>\n",
       "      <td>516.0</td>\n",
       "      <td>Citrus</td>\n",
       "      <td>32.1</td>\n",
       "      <td>34.8</td>\n",
       "      <td>183</td>\n",
       "      <td>174.0</td>\n",
       "    </tr>\n",
       "    <tr>\n",
       "      <th>193</th>\n",
       "      <td>1824165</td>\n",
       "      <td>32.026304</td>\n",
       "      <td>356.0</td>\n",
       "      <td>2022.0</td>\n",
       "      <td>Citrus</td>\n",
       "      <td>278.925524</td>\n",
       "      <td>516.0</td>\n",
       "      <td>Citrus</td>\n",
       "      <td>32.0</td>\n",
       "      <td>278.9</td>\n",
       "      <td>183</td>\n",
       "      <td>173.0</td>\n",
       "    </tr>\n",
       "    <tr>\n",
       "      <th>492</th>\n",
       "      <td>4</td>\n",
       "      <td>34.051340</td>\n",
       "      <td>73.0</td>\n",
       "      <td>2022.0</td>\n",
       "      <td>Olea</td>\n",
       "      <td>241.796875</td>\n",
       "      <td>516.0</td>\n",
       "      <td>Olea europaea</td>\n",
       "      <td>34.1</td>\n",
       "      <td>241.8</td>\n",
       "      <td>245</td>\n",
       "      <td>172.0</td>\n",
       "    </tr>\n",
       "    <tr>\n",
       "      <th>98</th>\n",
       "      <td>1823026</td>\n",
       "      <td>33.922294</td>\n",
       "      <td>289.0</td>\n",
       "      <td>2022.0</td>\n",
       "      <td>Eriobotrya</td>\n",
       "      <td>241.593083</td>\n",
       "      <td>516.0</td>\n",
       "      <td>Eriobotrya japonica</td>\n",
       "      <td>33.9</td>\n",
       "      <td>241.6</td>\n",
       "      <td>122</td>\n",
       "      <td>167.0</td>\n",
       "    </tr>\n",
       "    <tr>\n",
       "      <th>324869</th>\n",
       "      <td>3096</td>\n",
       "      <td>39.997452</td>\n",
       "      <td>108.0</td>\n",
       "      <td>2022.0</td>\n",
       "      <td>Malus</td>\n",
       "      <td>254.717300</td>\n",
       "      <td>516.0</td>\n",
       "      <td>Malus pumila</td>\n",
       "      <td>40.0</td>\n",
       "      <td>254.7</td>\n",
       "      <td>275</td>\n",
       "      <td>167.0</td>\n",
       "    </tr>\n",
       "    <tr>\n",
       "      <th>413</th>\n",
       "      <td>1824101</td>\n",
       "      <td>32.056094</td>\n",
       "      <td>349.0</td>\n",
       "      <td>2022.0</td>\n",
       "      <td>Citrus</td>\n",
       "      <td>34.799296</td>\n",
       "      <td>516.0</td>\n",
       "      <td>Citrus</td>\n",
       "      <td>32.1</td>\n",
       "      <td>34.8</td>\n",
       "      <td>183</td>\n",
       "      <td>166.0</td>\n",
       "    </tr>\n",
       "    <tr>\n",
       "      <th>412</th>\n",
       "      <td>1824100</td>\n",
       "      <td>32.055767</td>\n",
       "      <td>349.0</td>\n",
       "      <td>2022.0</td>\n",
       "      <td>Citrus</td>\n",
       "      <td>34.799269</td>\n",
       "      <td>516.0</td>\n",
       "      <td>Citrus</td>\n",
       "      <td>32.1</td>\n",
       "      <td>34.8</td>\n",
       "      <td>183</td>\n",
       "      <td>166.0</td>\n",
       "    </tr>\n",
       "    <tr>\n",
       "      <th>171</th>\n",
       "      <td>1824020</td>\n",
       "      <td>32.058087</td>\n",
       "      <td>345.0</td>\n",
       "      <td>2022.0</td>\n",
       "      <td>Rosmarinus</td>\n",
       "      <td>34.797155</td>\n",
       "      <td>516.0</td>\n",
       "      <td>Rosmarinus officinalis</td>\n",
       "      <td>32.1</td>\n",
       "      <td>34.8</td>\n",
       "      <td>183</td>\n",
       "      <td>162.0</td>\n",
       "    </tr>\n",
       "    <tr>\n",
       "      <th>153</th>\n",
       "      <td>1822871</td>\n",
       "      <td>32.068332</td>\n",
       "      <td>345.0</td>\n",
       "      <td>2022.0</td>\n",
       "      <td>Citrus</td>\n",
       "      <td>34.800376</td>\n",
       "      <td>516.0</td>\n",
       "      <td>Citrus</td>\n",
       "      <td>32.1</td>\n",
       "      <td>34.8</td>\n",
       "      <td>183</td>\n",
       "      <td>162.0</td>\n",
       "    </tr>\n",
       "    <tr>\n",
       "      <th>324371</th>\n",
       "      <td>1808870</td>\n",
       "      <td>48.671255</td>\n",
       "      <td>85.0</td>\n",
       "      <td>2022.0</td>\n",
       "      <td>Malus</td>\n",
       "      <td>6.141090</td>\n",
       "      <td>516.0</td>\n",
       "      <td>Malus</td>\n",
       "      <td>48.7</td>\n",
       "      <td>6.1</td>\n",
       "      <td>245</td>\n",
       "      <td>160.0</td>\n",
       "    </tr>\n",
       "    <tr>\n",
       "      <th>176</th>\n",
       "      <td>1824016</td>\n",
       "      <td>32.062203</td>\n",
       "      <td>343.0</td>\n",
       "      <td>2022.0</td>\n",
       "      <td>Citrus</td>\n",
       "      <td>34.798322</td>\n",
       "      <td>516.0</td>\n",
       "      <td>Citrus</td>\n",
       "      <td>32.1</td>\n",
       "      <td>34.8</td>\n",
       "      <td>183</td>\n",
       "      <td>160.0</td>\n",
       "    </tr>\n",
       "    <tr>\n",
       "      <th>175</th>\n",
       "      <td>1824000</td>\n",
       "      <td>32.062792</td>\n",
       "      <td>340.0</td>\n",
       "      <td>2022.0</td>\n",
       "      <td>Citrus</td>\n",
       "      <td>34.802305</td>\n",
       "      <td>516.0</td>\n",
       "      <td>Citrus</td>\n",
       "      <td>32.1</td>\n",
       "      <td>34.8</td>\n",
       "      <td>183</td>\n",
       "      <td>157.0</td>\n",
       "    </tr>\n",
       "    <tr>\n",
       "      <th>104</th>\n",
       "      <td>1823999</td>\n",
       "      <td>32.063890</td>\n",
       "      <td>340.0</td>\n",
       "      <td>2022.0</td>\n",
       "      <td>Citrus</td>\n",
       "      <td>34.798299</td>\n",
       "      <td>516.0</td>\n",
       "      <td>Citrus</td>\n",
       "      <td>32.1</td>\n",
       "      <td>34.8</td>\n",
       "      <td>183</td>\n",
       "      <td>157.0</td>\n",
       "    </tr>\n",
       "    <tr>\n",
       "      <th>109</th>\n",
       "      <td>1823971</td>\n",
       "      <td>32.062489</td>\n",
       "      <td>338.0</td>\n",
       "      <td>2022.0</td>\n",
       "      <td>Citrus</td>\n",
       "      <td>34.802367</td>\n",
       "      <td>516.0</td>\n",
       "      <td>Citrus</td>\n",
       "      <td>32.1</td>\n",
       "      <td>34.8</td>\n",
       "      <td>183</td>\n",
       "      <td>155.0</td>\n",
       "    </tr>\n",
       "    <tr>\n",
       "      <th>174</th>\n",
       "      <td>1823972</td>\n",
       "      <td>32.062656</td>\n",
       "      <td>338.0</td>\n",
       "      <td>2022.0</td>\n",
       "      <td>Citrus</td>\n",
       "      <td>34.802191</td>\n",
       "      <td>516.0</td>\n",
       "      <td>Citrus</td>\n",
       "      <td>32.1</td>\n",
       "      <td>34.8</td>\n",
       "      <td>183</td>\n",
       "      <td>155.0</td>\n",
       "    </tr>\n",
       "    <tr>\n",
       "      <th>306</th>\n",
       "      <td>30</td>\n",
       "      <td>42.716637</td>\n",
       "      <td>124.0</td>\n",
       "      <td>2022.0</td>\n",
       "      <td>Malus</td>\n",
       "      <td>286.247665</td>\n",
       "      <td>516.0</td>\n",
       "      <td>Malus sieboldii</td>\n",
       "      <td>42.7</td>\n",
       "      <td>286.2</td>\n",
       "      <td>275</td>\n",
       "      <td>151.0</td>\n",
       "    </tr>\n",
       "    <tr>\n",
       "      <th>171</th>\n",
       "      <td>1823892</td>\n",
       "      <td>32.064837</td>\n",
       "      <td>333.0</td>\n",
       "      <td>2022.0</td>\n",
       "      <td>Citrus</td>\n",
       "      <td>34.807219</td>\n",
       "      <td>516.0</td>\n",
       "      <td>Citrus</td>\n",
       "      <td>32.1</td>\n",
       "      <td>34.8</td>\n",
       "      <td>183</td>\n",
       "      <td>150.0</td>\n",
       "    </tr>\n",
       "    <tr>\n",
       "      <th>173</th>\n",
       "      <td>1823898</td>\n",
       "      <td>32.063346</td>\n",
       "      <td>333.0</td>\n",
       "      <td>2022.0</td>\n",
       "      <td>Citrus</td>\n",
       "      <td>34.809344</td>\n",
       "      <td>516.0</td>\n",
       "      <td>Citrus</td>\n",
       "      <td>32.1</td>\n",
       "      <td>34.8</td>\n",
       "      <td>183</td>\n",
       "      <td>150.0</td>\n",
       "    </tr>\n",
       "    <tr>\n",
       "      <th>172</th>\n",
       "      <td>1823893</td>\n",
       "      <td>32.064512</td>\n",
       "      <td>333.0</td>\n",
       "      <td>2022.0</td>\n",
       "      <td>Citrus</td>\n",
       "      <td>34.807586</td>\n",
       "      <td>516.0</td>\n",
       "      <td>Citrus</td>\n",
       "      <td>32.1</td>\n",
       "      <td>34.8</td>\n",
       "      <td>183</td>\n",
       "      <td>150.0</td>\n",
       "    </tr>\n",
       "    <tr>\n",
       "      <th>108</th>\n",
       "      <td>1823902</td>\n",
       "      <td>32.063275</td>\n",
       "      <td>333.0</td>\n",
       "      <td>2022.0</td>\n",
       "      <td>Citrus</td>\n",
       "      <td>34.807901</td>\n",
       "      <td>516.0</td>\n",
       "      <td>Citrus</td>\n",
       "      <td>32.1</td>\n",
       "      <td>34.8</td>\n",
       "      <td>183</td>\n",
       "      <td>150.0</td>\n",
       "    </tr>\n",
       "    <tr>\n",
       "      <th>107</th>\n",
       "      <td>1823899</td>\n",
       "      <td>32.063952</td>\n",
       "      <td>333.0</td>\n",
       "      <td>2022.0</td>\n",
       "      <td>Citrus</td>\n",
       "      <td>34.807614</td>\n",
       "      <td>516.0</td>\n",
       "      <td>Citrus</td>\n",
       "      <td>32.1</td>\n",
       "      <td>34.8</td>\n",
       "      <td>183</td>\n",
       "      <td>150.0</td>\n",
       "    </tr>\n",
       "    <tr>\n",
       "      <th>106</th>\n",
       "      <td>1823847</td>\n",
       "      <td>32.064916</td>\n",
       "      <td>330.0</td>\n",
       "      <td>2022.0</td>\n",
       "      <td>Citrus</td>\n",
       "      <td>34.804471</td>\n",
       "      <td>516.0</td>\n",
       "      <td>Citrus</td>\n",
       "      <td>32.1</td>\n",
       "      <td>34.8</td>\n",
       "      <td>183</td>\n",
       "      <td>147.0</td>\n",
       "    </tr>\n",
       "    <tr>\n",
       "      <th>167</th>\n",
       "      <td>1823783</td>\n",
       "      <td>32.066431</td>\n",
       "      <td>323.0</td>\n",
       "      <td>2022.0</td>\n",
       "      <td>Citrus</td>\n",
       "      <td>34.801080</td>\n",
       "      <td>516.0</td>\n",
       "      <td>Citrus</td>\n",
       "      <td>32.1</td>\n",
       "      <td>34.8</td>\n",
       "      <td>183</td>\n",
       "      <td>140.0</td>\n",
       "    </tr>\n",
       "    <tr>\n",
       "      <th>169</th>\n",
       "      <td>1823786</td>\n",
       "      <td>32.066700</td>\n",
       "      <td>323.0</td>\n",
       "      <td>2022.0</td>\n",
       "      <td>Citrus</td>\n",
       "      <td>34.801772</td>\n",
       "      <td>516.0</td>\n",
       "      <td>Citrus</td>\n",
       "      <td>32.1</td>\n",
       "      <td>34.8</td>\n",
       "      <td>183</td>\n",
       "      <td>140.0</td>\n",
       "    </tr>\n",
       "    <tr>\n",
       "      <th>105</th>\n",
       "      <td>1823787</td>\n",
       "      <td>32.066792</td>\n",
       "      <td>323.0</td>\n",
       "      <td>2022.0</td>\n",
       "      <td>Citrus</td>\n",
       "      <td>34.801737</td>\n",
       "      <td>516.0</td>\n",
       "      <td>Citrus</td>\n",
       "      <td>32.1</td>\n",
       "      <td>34.8</td>\n",
       "      <td>183</td>\n",
       "      <td>140.0</td>\n",
       "    </tr>\n",
       "    <tr>\n",
       "      <th>166</th>\n",
       "      <td>1823774</td>\n",
       "      <td>32.066141</td>\n",
       "      <td>323.0</td>\n",
       "      <td>2022.0</td>\n",
       "      <td>Citrus</td>\n",
       "      <td>34.799907</td>\n",
       "      <td>516.0</td>\n",
       "      <td>Citrus</td>\n",
       "      <td>32.1</td>\n",
       "      <td>34.8</td>\n",
       "      <td>183</td>\n",
       "      <td>140.0</td>\n",
       "    </tr>\n",
       "    <tr>\n",
       "      <th>165</th>\n",
       "      <td>1823771</td>\n",
       "      <td>32.065201</td>\n",
       "      <td>323.0</td>\n",
       "      <td>2022.0</td>\n",
       "      <td>Citrus</td>\n",
       "      <td>34.798682</td>\n",
       "      <td>516.0</td>\n",
       "      <td>Citrus</td>\n",
       "      <td>32.1</td>\n",
       "      <td>34.8</td>\n",
       "      <td>183</td>\n",
       "      <td>140.0</td>\n",
       "    </tr>\n",
       "    <tr>\n",
       "      <th>170</th>\n",
       "      <td>1823789</td>\n",
       "      <td>32.065146</td>\n",
       "      <td>323.0</td>\n",
       "      <td>2022.0</td>\n",
       "      <td>Citrus</td>\n",
       "      <td>34.803870</td>\n",
       "      <td>516.0</td>\n",
       "      <td>Citrus</td>\n",
       "      <td>32.1</td>\n",
       "      <td>34.8</td>\n",
       "      <td>183</td>\n",
       "      <td>140.0</td>\n",
       "    </tr>\n",
       "    <tr>\n",
       "      <th>168</th>\n",
       "      <td>1823785</td>\n",
       "      <td>32.066633</td>\n",
       "      <td>323.0</td>\n",
       "      <td>2022.0</td>\n",
       "      <td>Citrus</td>\n",
       "      <td>34.801292</td>\n",
       "      <td>516.0</td>\n",
       "      <td>Citrus</td>\n",
       "      <td>32.1</td>\n",
       "      <td>34.8</td>\n",
       "      <td>183</td>\n",
       "      <td>140.0</td>\n",
       "    </tr>\n",
       "    <tr>\n",
       "      <th>170</th>\n",
       "      <td>1823788</td>\n",
       "      <td>32.065718</td>\n",
       "      <td>323.0</td>\n",
       "      <td>2022.0</td>\n",
       "      <td>Rosmarinus</td>\n",
       "      <td>34.803779</td>\n",
       "      <td>516.0</td>\n",
       "      <td>Rosmarinus officinalis</td>\n",
       "      <td>32.1</td>\n",
       "      <td>34.8</td>\n",
       "      <td>183</td>\n",
       "      <td>140.0</td>\n",
       "    </tr>\n",
       "    <tr>\n",
       "      <th>30</th>\n",
       "      <td>1823115</td>\n",
       "      <td>37.018974</td>\n",
       "      <td>291.0</td>\n",
       "      <td>2022.0</td>\n",
       "      <td>Morus</td>\n",
       "      <td>283.699551</td>\n",
       "      <td>516.0</td>\n",
       "      <td>Morus nigra</td>\n",
       "      <td>37.0</td>\n",
       "      <td>283.7</td>\n",
       "      <td>153</td>\n",
       "      <td>138.0</td>\n",
       "    </tr>\n",
       "    <tr>\n",
       "      <th>31</th>\n",
       "      <td>1823045</td>\n",
       "      <td>48.106494</td>\n",
       "      <td>290.0</td>\n",
       "      <td>2022.0</td>\n",
       "      <td>Morus</td>\n",
       "      <td>358.596353</td>\n",
       "      <td>516.0</td>\n",
       "      <td>Morus</td>\n",
       "      <td>48.1</td>\n",
       "      <td>358.6</td>\n",
       "      <td>153</td>\n",
       "      <td>137.0</td>\n",
       "    </tr>\n",
       "    <tr>\n",
       "      <th>1142</th>\n",
       "      <td>2</td>\n",
       "      <td>38.376015</td>\n",
       "      <td>138.0</td>\n",
       "      <td>2022.0</td>\n",
       "      <td>Malus</td>\n",
       "      <td>237.491870</td>\n",
       "      <td>516.0</td>\n",
       "      <td>Malus sieboldii</td>\n",
       "      <td>38.4</td>\n",
       "      <td>237.5</td>\n",
       "      <td>275</td>\n",
       "      <td>137.0</td>\n",
       "    </tr>\n",
       "    <tr>\n",
       "      <th>563</th>\n",
       "      <td>29</td>\n",
       "      <td>43.841540</td>\n",
       "      <td>290.0</td>\n",
       "      <td>2022.0</td>\n",
       "      <td>Amelanchier</td>\n",
       "      <td>290.497960</td>\n",
       "      <td>516.0</td>\n",
       "      <td>Amelanchier arborea</td>\n",
       "      <td>43.8</td>\n",
       "      <td>290.5</td>\n",
       "      <td>153</td>\n",
       "      <td>137.0</td>\n",
       "    </tr>\n",
       "    <tr>\n",
       "      <th>32</th>\n",
       "      <td>1823046</td>\n",
       "      <td>48.105436</td>\n",
       "      <td>290.0</td>\n",
       "      <td>2022.0</td>\n",
       "      <td>Morus</td>\n",
       "      <td>358.617108</td>\n",
       "      <td>516.0</td>\n",
       "      <td>Morus</td>\n",
       "      <td>48.1</td>\n",
       "      <td>358.6</td>\n",
       "      <td>153</td>\n",
       "      <td>137.0</td>\n",
       "    </tr>\n",
       "    <tr>\n",
       "      <th>263288</th>\n",
       "      <td>1824122</td>\n",
       "      <td>37.229664</td>\n",
       "      <td>351.0</td>\n",
       "      <td>2022.0</td>\n",
       "      <td>Prunus</td>\n",
       "      <td>266.708116</td>\n",
       "      <td>516.0</td>\n",
       "      <td>Prunus americana</td>\n",
       "      <td>37.2</td>\n",
       "      <td>266.7</td>\n",
       "      <td>214</td>\n",
       "      <td>137.0</td>\n",
       "    </tr>\n",
       "    <tr>\n",
       "      <th>102</th>\n",
       "      <td>1823531</td>\n",
       "      <td>34.098930</td>\n",
       "      <td>317.0</td>\n",
       "      <td>2022.0</td>\n",
       "      <td>Citrus</td>\n",
       "      <td>242.454116</td>\n",
       "      <td>516.0</td>\n",
       "      <td>Citrus</td>\n",
       "      <td>34.1</td>\n",
       "      <td>242.5</td>\n",
       "      <td>183</td>\n",
       "      <td>134.0</td>\n",
       "    </tr>\n",
       "    <tr>\n",
       "      <th>614</th>\n",
       "      <td>33</td>\n",
       "      <td>39.065994</td>\n",
       "      <td>284.0</td>\n",
       "      <td>2022.0</td>\n",
       "      <td>Amelanchier</td>\n",
       "      <td>283.495100</td>\n",
       "      <td>516.0</td>\n",
       "      <td>Amelanchier arborea</td>\n",
       "      <td>39.1</td>\n",
       "      <td>283.5</td>\n",
       "      <td>153</td>\n",
       "      <td>131.0</td>\n",
       "    </tr>\n",
       "    <tr>\n",
       "      <th>140</th>\n",
       "      <td>1808977</td>\n",
       "      <td>35.115459</td>\n",
       "      <td>91.0</td>\n",
       "      <td>2022.0</td>\n",
       "      <td>Citrus</td>\n",
       "      <td>239.385346</td>\n",
       "      <td>516.0</td>\n",
       "      <td>Citrus</td>\n",
       "      <td>35.1</td>\n",
       "      <td>239.4</td>\n",
       "      <td>214</td>\n",
       "      <td>123.0</td>\n",
       "    </tr>\n",
       "    <tr>\n",
       "      <th>161</th>\n",
       "      <td>1823363</td>\n",
       "      <td>32.982727</td>\n",
       "      <td>306.0</td>\n",
       "      <td>2022.0</td>\n",
       "      <td>Citrus</td>\n",
       "      <td>279.970128</td>\n",
       "      <td>516.0</td>\n",
       "      <td>Citrus</td>\n",
       "      <td>33.0</td>\n",
       "      <td>280.0</td>\n",
       "      <td>183</td>\n",
       "      <td>123.0</td>\n",
       "    </tr>\n",
       "    <tr>\n",
       "      <th>162421</th>\n",
       "      <td>1823592</td>\n",
       "      <td>39.991300</td>\n",
       "      <td>305.0</td>\n",
       "      <td>2022.0</td>\n",
       "      <td>Prunus</td>\n",
       "      <td>277.000543</td>\n",
       "      <td>516.0</td>\n",
       "      <td>Prunus avium</td>\n",
       "      <td>40.0</td>\n",
       "      <td>277.0</td>\n",
       "      <td>183</td>\n",
       "      <td>122.0</td>\n",
       "    </tr>\n",
       "    <tr>\n",
       "      <th>108109</th>\n",
       "      <td>1823580</td>\n",
       "      <td>39.994214</td>\n",
       "      <td>305.0</td>\n",
       "      <td>2022.0</td>\n",
       "      <td>Rubus</td>\n",
       "      <td>277.001128</td>\n",
       "      <td>516.0</td>\n",
       "      <td>Rubus</td>\n",
       "      <td>40.0</td>\n",
       "      <td>277.0</td>\n",
       "      <td>183</td>\n",
       "      <td>122.0</td>\n",
       "    </tr>\n",
       "    <tr>\n",
       "      <th>108108</th>\n",
       "      <td>1823578</td>\n",
       "      <td>39.991253</td>\n",
       "      <td>305.0</td>\n",
       "      <td>2022.0</td>\n",
       "      <td>Rubus</td>\n",
       "      <td>277.000209</td>\n",
       "      <td>516.0</td>\n",
       "      <td>Rubus</td>\n",
       "      <td>40.0</td>\n",
       "      <td>277.0</td>\n",
       "      <td>183</td>\n",
       "      <td>122.0</td>\n",
       "    </tr>\n",
       "    <tr>\n",
       "      <th>108110</th>\n",
       "      <td>1823585</td>\n",
       "      <td>39.994285</td>\n",
       "      <td>305.0</td>\n",
       "      <td>2022.0</td>\n",
       "      <td>Rubus</td>\n",
       "      <td>277.001018</td>\n",
       "      <td>516.0</td>\n",
       "      <td>Rubus</td>\n",
       "      <td>40.0</td>\n",
       "      <td>277.0</td>\n",
       "      <td>183</td>\n",
       "      <td>122.0</td>\n",
       "    </tr>\n",
       "    <tr>\n",
       "      <th>162259</th>\n",
       "      <td>1823220</td>\n",
       "      <td>48.940092</td>\n",
       "      <td>298.0</td>\n",
       "      <td>2022.0</td>\n",
       "      <td>Prunus</td>\n",
       "      <td>2.901764</td>\n",
       "      <td>516.0</td>\n",
       "      <td>Prunus</td>\n",
       "      <td>48.9</td>\n",
       "      <td>2.9</td>\n",
       "      <td>183</td>\n",
       "      <td>115.0</td>\n",
       "    </tr>\n",
       "    <tr>\n",
       "      <th>93</th>\n",
       "      <td>1808571</td>\n",
       "      <td>34.038871</td>\n",
       "      <td>71.0</td>\n",
       "      <td>2022.0</td>\n",
       "      <td>Citrus</td>\n",
       "      <td>241.557108</td>\n",
       "      <td>516.0</td>\n",
       "      <td>Citrus</td>\n",
       "      <td>34.0</td>\n",
       "      <td>241.6</td>\n",
       "      <td>183</td>\n",
       "      <td>112.0</td>\n",
       "    </tr>\n",
       "  </tbody>\n",
       "</table>\n",
       "</div>"
      ],
      "text/plain": [
       "        site_id   latitude    doy    year        genus     lon_360  \\\n",
       "36            8  39.910755   62.0  2022.0    Diospyros  273.575810   \n",
       "50            2  38.376015   63.0  2022.0        Malus  237.491870   \n",
       "46            8  39.910755   75.0  2022.0    Diospyros  273.575810   \n",
       "542          34  43.008286   63.0  2022.0        Malus  281.216940   \n",
       "182     1824168  32.078188  357.0  2022.0       Citrus   34.802053   \n",
       "193     1824165  32.026304  356.0  2022.0       Citrus  278.925524   \n",
       "492           4  34.051340   73.0  2022.0         Olea  241.796875   \n",
       "98      1823026  33.922294  289.0  2022.0   Eriobotrya  241.593083   \n",
       "324869     3096  39.997452  108.0  2022.0        Malus  254.717300   \n",
       "413     1824101  32.056094  349.0  2022.0       Citrus   34.799296   \n",
       "412     1824100  32.055767  349.0  2022.0       Citrus   34.799269   \n",
       "171     1824020  32.058087  345.0  2022.0   Rosmarinus   34.797155   \n",
       "153     1822871  32.068332  345.0  2022.0       Citrus   34.800376   \n",
       "324371  1808870  48.671255   85.0  2022.0        Malus    6.141090   \n",
       "176     1824016  32.062203  343.0  2022.0       Citrus   34.798322   \n",
       "175     1824000  32.062792  340.0  2022.0       Citrus   34.802305   \n",
       "104     1823999  32.063890  340.0  2022.0       Citrus   34.798299   \n",
       "109     1823971  32.062489  338.0  2022.0       Citrus   34.802367   \n",
       "174     1823972  32.062656  338.0  2022.0       Citrus   34.802191   \n",
       "306          30  42.716637  124.0  2022.0        Malus  286.247665   \n",
       "171     1823892  32.064837  333.0  2022.0       Citrus   34.807219   \n",
       "173     1823898  32.063346  333.0  2022.0       Citrus   34.809344   \n",
       "172     1823893  32.064512  333.0  2022.0       Citrus   34.807586   \n",
       "108     1823902  32.063275  333.0  2022.0       Citrus   34.807901   \n",
       "107     1823899  32.063952  333.0  2022.0       Citrus   34.807614   \n",
       "106     1823847  32.064916  330.0  2022.0       Citrus   34.804471   \n",
       "167     1823783  32.066431  323.0  2022.0       Citrus   34.801080   \n",
       "169     1823786  32.066700  323.0  2022.0       Citrus   34.801772   \n",
       "105     1823787  32.066792  323.0  2022.0       Citrus   34.801737   \n",
       "166     1823774  32.066141  323.0  2022.0       Citrus   34.799907   \n",
       "165     1823771  32.065201  323.0  2022.0       Citrus   34.798682   \n",
       "170     1823789  32.065146  323.0  2022.0       Citrus   34.803870   \n",
       "168     1823785  32.066633  323.0  2022.0       Citrus   34.801292   \n",
       "170     1823788  32.065718  323.0  2022.0   Rosmarinus   34.803779   \n",
       "30      1823115  37.018974  291.0  2022.0        Morus  283.699551   \n",
       "31      1823045  48.106494  290.0  2022.0        Morus  358.596353   \n",
       "1142          2  38.376015  138.0  2022.0        Malus  237.491870   \n",
       "563          29  43.841540  290.0  2022.0  Amelanchier  290.497960   \n",
       "32      1823046  48.105436  290.0  2022.0        Morus  358.617108   \n",
       "263288  1824122  37.229664  351.0  2022.0       Prunus  266.708116   \n",
       "102     1823531  34.098930  317.0  2022.0       Citrus  242.454116   \n",
       "614          33  39.065994  284.0  2022.0  Amelanchier  283.495100   \n",
       "140     1808977  35.115459   91.0  2022.0       Citrus  239.385346   \n",
       "161     1823363  32.982727  306.0  2022.0       Citrus  279.970128   \n",
       "162421  1823592  39.991300  305.0  2022.0       Prunus  277.000543   \n",
       "108109  1823580  39.994214  305.0  2022.0        Rubus  277.001128   \n",
       "108108  1823578  39.991253  305.0  2022.0        Rubus  277.000209   \n",
       "108110  1823585  39.994285  305.0  2022.0        Rubus  277.001018   \n",
       "162259  1823220  48.940092  298.0  2022.0       Prunus    2.901764   \n",
       "93      1808571  34.038871   71.0  2022.0       Citrus  241.557108   \n",
       "\n",
       "        phenophase      formatted_sci_name  rounded_lat  rounded_lon  \\\n",
       "36           516.0    Diospyros virginiana         39.9        273.6   \n",
       "50           516.0         Malus sieboldii         38.4        237.5   \n",
       "46           516.0    Diospyros virginiana         39.9        273.6   \n",
       "542          516.0                   Malus         43.0        281.2   \n",
       "182          516.0                  Citrus         32.1         34.8   \n",
       "193          516.0                  Citrus         32.0        278.9   \n",
       "492          516.0           Olea europaea         34.1        241.8   \n",
       "98           516.0     Eriobotrya japonica         33.9        241.6   \n",
       "324869       516.0            Malus pumila         40.0        254.7   \n",
       "413          516.0                  Citrus         32.1         34.8   \n",
       "412          516.0                  Citrus         32.1         34.8   \n",
       "171          516.0  Rosmarinus officinalis         32.1         34.8   \n",
       "153          516.0                  Citrus         32.1         34.8   \n",
       "324371       516.0                   Malus         48.7          6.1   \n",
       "176          516.0                  Citrus         32.1         34.8   \n",
       "175          516.0                  Citrus         32.1         34.8   \n",
       "104          516.0                  Citrus         32.1         34.8   \n",
       "109          516.0                  Citrus         32.1         34.8   \n",
       "174          516.0                  Citrus         32.1         34.8   \n",
       "306          516.0         Malus sieboldii         42.7        286.2   \n",
       "171          516.0                  Citrus         32.1         34.8   \n",
       "173          516.0                  Citrus         32.1         34.8   \n",
       "172          516.0                  Citrus         32.1         34.8   \n",
       "108          516.0                  Citrus         32.1         34.8   \n",
       "107          516.0                  Citrus         32.1         34.8   \n",
       "106          516.0                  Citrus         32.1         34.8   \n",
       "167          516.0                  Citrus         32.1         34.8   \n",
       "169          516.0                  Citrus         32.1         34.8   \n",
       "105          516.0                  Citrus         32.1         34.8   \n",
       "166          516.0                  Citrus         32.1         34.8   \n",
       "165          516.0                  Citrus         32.1         34.8   \n",
       "170          516.0                  Citrus         32.1         34.8   \n",
       "168          516.0                  Citrus         32.1         34.8   \n",
       "170          516.0  Rosmarinus officinalis         32.1         34.8   \n",
       "30           516.0             Morus nigra         37.0        283.7   \n",
       "31           516.0                   Morus         48.1        358.6   \n",
       "1142         516.0         Malus sieboldii         38.4        237.5   \n",
       "563          516.0     Amelanchier arborea         43.8        290.5   \n",
       "32           516.0                   Morus         48.1        358.6   \n",
       "263288       516.0        Prunus americana         37.2        266.7   \n",
       "102          516.0                  Citrus         34.1        242.5   \n",
       "614          516.0     Amelanchier arborea         39.1        283.5   \n",
       "140          516.0                  Citrus         35.1        239.4   \n",
       "161          516.0                  Citrus         33.0        280.0   \n",
       "162421       516.0            Prunus avium         40.0        277.0   \n",
       "108109       516.0                   Rubus         40.0        277.0   \n",
       "108108       516.0                   Rubus         40.0        277.0   \n",
       "108110       516.0                   Rubus         40.0        277.0   \n",
       "162259       516.0                  Prunus         48.9          2.9   \n",
       "93           516.0                  Citrus         34.0        241.6   \n",
       "\n",
       "        flowering_day  abs_error  \n",
       "36                275      213.0  \n",
       "50                275      212.0  \n",
       "46                275      200.0  \n",
       "542               245      182.0  \n",
       "182               183      174.0  \n",
       "193               183      173.0  \n",
       "492               245      172.0  \n",
       "98                122      167.0  \n",
       "324869            275      167.0  \n",
       "413               183      166.0  \n",
       "412               183      166.0  \n",
       "171               183      162.0  \n",
       "153               183      162.0  \n",
       "324371            245      160.0  \n",
       "176               183      160.0  \n",
       "175               183      157.0  \n",
       "104               183      157.0  \n",
       "109               183      155.0  \n",
       "174               183      155.0  \n",
       "306               275      151.0  \n",
       "171               183      150.0  \n",
       "173               183      150.0  \n",
       "172               183      150.0  \n",
       "108               183      150.0  \n",
       "107               183      150.0  \n",
       "106               183      147.0  \n",
       "167               183      140.0  \n",
       "169               183      140.0  \n",
       "105               183      140.0  \n",
       "166               183      140.0  \n",
       "165               183      140.0  \n",
       "170               183      140.0  \n",
       "168               183      140.0  \n",
       "170               183      140.0  \n",
       "30                153      138.0  \n",
       "31                153      137.0  \n",
       "1142              275      137.0  \n",
       "563               153      137.0  \n",
       "32                153      137.0  \n",
       "263288            214      137.0  \n",
       "102               183      134.0  \n",
       "614               153      131.0  \n",
       "140               214      123.0  \n",
       "161               183      123.0  \n",
       "162421            183      122.0  \n",
       "108109            183      122.0  \n",
       "108108            183      122.0  \n",
       "108110            183      122.0  \n",
       "162259            183      115.0  \n",
       "93                183      112.0  "
      ]
     },
     "execution_count": 102,
     "metadata": {},
     "output_type": "execute_result"
    }
   ],
   "source": [
    "full_prediction_df[full_prediction_df['abs_error'] >= 100].sort_values('abs_error', ascending=False)[0:50]"
   ]
  },
  {
   "cell_type": "code",
   "execution_count": 103,
   "id": "4a4b5c0e",
   "metadata": {},
   "outputs": [
    {
     "data": {
      "text/html": [
       "<div>\n",
       "<style scoped>\n",
       "    .dataframe tbody tr th:only-of-type {\n",
       "        vertical-align: middle;\n",
       "    }\n",
       "\n",
       "    .dataframe tbody tr th {\n",
       "        vertical-align: top;\n",
       "    }\n",
       "\n",
       "    .dataframe thead th {\n",
       "        text-align: right;\n",
       "    }\n",
       "</style>\n",
       "<table border=\"1\" class=\"dataframe\">\n",
       "  <thead>\n",
       "    <tr style=\"text-align: right;\">\n",
       "      <th></th>\n",
       "      <th>site_id</th>\n",
       "      <th>latitude</th>\n",
       "      <th>doy</th>\n",
       "      <th>year</th>\n",
       "      <th>genus</th>\n",
       "      <th>lon_360</th>\n",
       "      <th>phenophase</th>\n",
       "      <th>formatted_sci_name</th>\n",
       "      <th>rounded_lat</th>\n",
       "      <th>rounded_lon</th>\n",
       "      <th>flowering_day</th>\n",
       "      <th>abs_error</th>\n",
       "    </tr>\n",
       "  </thead>\n",
       "  <tbody>\n",
       "    <tr>\n",
       "      <th>19</th>\n",
       "      <td>1812903</td>\n",
       "      <td>42.000443</td>\n",
       "      <td>183.0</td>\n",
       "      <td>2022.0</td>\n",
       "      <td>Rubus</td>\n",
       "      <td>268.349632</td>\n",
       "      <td>516.0</td>\n",
       "      <td>Rubus</td>\n",
       "      <td>42.0</td>\n",
       "      <td>268.3</td>\n",
       "      <td>183</td>\n",
       "      <td>0.0</td>\n",
       "    </tr>\n",
       "    <tr>\n",
       "      <th>20</th>\n",
       "      <td>1812992</td>\n",
       "      <td>43.123822</td>\n",
       "      <td>181.0</td>\n",
       "      <td>2022.0</td>\n",
       "      <td>Rubus</td>\n",
       "      <td>282.422069</td>\n",
       "      <td>516.0</td>\n",
       "      <td>Rubus</td>\n",
       "      <td>43.1</td>\n",
       "      <td>282.4</td>\n",
       "      <td>183</td>\n",
       "      <td>2.0</td>\n",
       "    </tr>\n",
       "    <tr>\n",
       "      <th>22</th>\n",
       "      <td>1813012</td>\n",
       "      <td>35.219765</td>\n",
       "      <td>190.0</td>\n",
       "      <td>2022.0</td>\n",
       "      <td>Rubus</td>\n",
       "      <td>270.150501</td>\n",
       "      <td>516.0</td>\n",
       "      <td>Rubus</td>\n",
       "      <td>35.2</td>\n",
       "      <td>270.2</td>\n",
       "      <td>183</td>\n",
       "      <td>7.0</td>\n",
       "    </tr>\n",
       "    <tr>\n",
       "      <th>23</th>\n",
       "      <td>1813095</td>\n",
       "      <td>43.026309</td>\n",
       "      <td>193.0</td>\n",
       "      <td>2022.0</td>\n",
       "      <td>Rubus</td>\n",
       "      <td>274.317216</td>\n",
       "      <td>516.0</td>\n",
       "      <td>Rubus</td>\n",
       "      <td>43.0</td>\n",
       "      <td>274.3</td>\n",
       "      <td>183</td>\n",
       "      <td>10.0</td>\n",
       "    </tr>\n",
       "    <tr>\n",
       "      <th>25</th>\n",
       "      <td>1810562</td>\n",
       "      <td>37.417095</td>\n",
       "      <td>165.0</td>\n",
       "      <td>2022.0</td>\n",
       "      <td>Rubus</td>\n",
       "      <td>280.809241</td>\n",
       "      <td>516.0</td>\n",
       "      <td>Rubus</td>\n",
       "      <td>37.4</td>\n",
       "      <td>280.8</td>\n",
       "      <td>183</td>\n",
       "      <td>18.0</td>\n",
       "    </tr>\n",
       "    <tr>\n",
       "      <th>...</th>\n",
       "      <td>...</td>\n",
       "      <td>...</td>\n",
       "      <td>...</td>\n",
       "      <td>...</td>\n",
       "      <td>...</td>\n",
       "      <td>...</td>\n",
       "      <td>...</td>\n",
       "      <td>...</td>\n",
       "      <td>...</td>\n",
       "      <td>...</td>\n",
       "      <td>...</td>\n",
       "      <td>...</td>\n",
       "    </tr>\n",
       "    <tr>\n",
       "      <th>1</th>\n",
       "      <td>1759647</td>\n",
       "      <td>NaN</td>\n",
       "      <td>240.0</td>\n",
       "      <td>2022.0</td>\n",
       "      <td>NaN</td>\n",
       "      <td>NaN</td>\n",
       "      <td>NaN</td>\n",
       "      <td>NaN</td>\n",
       "      <td>NaN</td>\n",
       "      <td>NaN</td>\n",
       "      <td>275</td>\n",
       "      <td>35.0</td>\n",
       "    </tr>\n",
       "    <tr>\n",
       "      <th>2</th>\n",
       "      <td>1760749</td>\n",
       "      <td>NaN</td>\n",
       "      <td>271.0</td>\n",
       "      <td>2022.0</td>\n",
       "      <td>NaN</td>\n",
       "      <td>NaN</td>\n",
       "      <td>NaN</td>\n",
       "      <td>NaN</td>\n",
       "      <td>NaN</td>\n",
       "      <td>NaN</td>\n",
       "      <td>275</td>\n",
       "      <td>4.0</td>\n",
       "    </tr>\n",
       "    <tr>\n",
       "      <th>0</th>\n",
       "      <td>1769198</td>\n",
       "      <td>NaN</td>\n",
       "      <td>261.0</td>\n",
       "      <td>2022.0</td>\n",
       "      <td>NaN</td>\n",
       "      <td>NaN</td>\n",
       "      <td>NaN</td>\n",
       "      <td>NaN</td>\n",
       "      <td>NaN</td>\n",
       "      <td>NaN</td>\n",
       "      <td>275</td>\n",
       "      <td>14.0</td>\n",
       "    </tr>\n",
       "    <tr>\n",
       "      <th>1</th>\n",
       "      <td>1718728</td>\n",
       "      <td>NaN</td>\n",
       "      <td>281.0</td>\n",
       "      <td>2022.0</td>\n",
       "      <td>NaN</td>\n",
       "      <td>NaN</td>\n",
       "      <td>NaN</td>\n",
       "      <td>NaN</td>\n",
       "      <td>NaN</td>\n",
       "      <td>NaN</td>\n",
       "      <td>275</td>\n",
       "      <td>6.0</td>\n",
       "    </tr>\n",
       "    <tr>\n",
       "      <th>148859</th>\n",
       "      <td>1821277</td>\n",
       "      <td>45.499888</td>\n",
       "      <td>244.0</td>\n",
       "      <td>2022.0</td>\n",
       "      <td>Pyrus</td>\n",
       "      <td>237.365864</td>\n",
       "      <td>516.0</td>\n",
       "      <td>Pyrus pyrifolia</td>\n",
       "      <td>45.5</td>\n",
       "      <td>237.4</td>\n",
       "      <td>275</td>\n",
       "      <td>31.0</td>\n",
       "    </tr>\n",
       "  </tbody>\n",
       "</table>\n",
       "<p>2849 rows × 12 columns</p>\n",
       "</div>"
      ],
      "text/plain": [
       "        site_id   latitude    doy    year  genus     lon_360  phenophase  \\\n",
       "19      1812903  42.000443  183.0  2022.0  Rubus  268.349632       516.0   \n",
       "20      1812992  43.123822  181.0  2022.0  Rubus  282.422069       516.0   \n",
       "22      1813012  35.219765  190.0  2022.0  Rubus  270.150501       516.0   \n",
       "23      1813095  43.026309  193.0  2022.0  Rubus  274.317216       516.0   \n",
       "25      1810562  37.417095  165.0  2022.0  Rubus  280.809241       516.0   \n",
       "...         ...        ...    ...     ...    ...         ...         ...   \n",
       "1       1759647        NaN  240.0  2022.0    NaN         NaN         NaN   \n",
       "2       1760749        NaN  271.0  2022.0    NaN         NaN         NaN   \n",
       "0       1769198        NaN  261.0  2022.0    NaN         NaN         NaN   \n",
       "1       1718728        NaN  281.0  2022.0    NaN         NaN         NaN   \n",
       "148859  1821277  45.499888  244.0  2022.0  Pyrus  237.365864       516.0   \n",
       "\n",
       "       formatted_sci_name  rounded_lat  rounded_lon  flowering_day  abs_error  \n",
       "19                  Rubus         42.0        268.3            183        0.0  \n",
       "20                  Rubus         43.1        282.4            183        2.0  \n",
       "22                  Rubus         35.2        270.2            183        7.0  \n",
       "23                  Rubus         43.0        274.3            183       10.0  \n",
       "25                  Rubus         37.4        280.8            183       18.0  \n",
       "...                   ...          ...          ...            ...        ...  \n",
       "1                     NaN          NaN          NaN            275       35.0  \n",
       "2                     NaN          NaN          NaN            275        4.0  \n",
       "0                     NaN          NaN          NaN            275       14.0  \n",
       "1                     NaN          NaN          NaN            275        6.0  \n",
       "148859    Pyrus pyrifolia         45.5        237.4            275       31.0  \n",
       "\n",
       "[2849 rows x 12 columns]"
      ]
     },
     "execution_count": 103,
     "metadata": {},
     "output_type": "execute_result"
    }
   ],
   "source": [
    "full_prediction_df"
   ]
  },
  {
   "cell_type": "code",
   "execution_count": 104,
   "id": "f32d82b2",
   "metadata": {},
   "outputs": [
    {
     "data": {
      "text/plain": [
       "0.025974025974025976"
      ]
     },
     "execution_count": 104,
     "metadata": {},
     "output_type": "execute_result"
    }
   ],
   "source": [
    "74 / 2849"
   ]
  },
  {
   "cell_type": "code",
   "execution_count": null,
   "id": "e6c85c32",
   "metadata": {},
   "outputs": [],
   "source": [
    "genus_prediction_dict = {}\n",
    "\n",
    "for s in tqdm(filtered_plants['genus'].unique()):\n",
    "    print(s)\n",
    "    species_train_df = filtered_plants.query('genus == \"{}\" and year < {}'.format(s, high_cutoff_year))\n",
    "    \n",
    "    if len(species_train_df) == 0:\n",
    "        continue\n",
    "    \n",
    "    species_test_df = filtered_plants.query('genus == \"{}\" and year >= {}'.format(s, high_cutoff_year))\n",
    "    \n",
    "    if len(species_test_df) == 0:\n",
    "        # make predictions and compare to the mean ripeness day at each site\n",
    "        species_test_df = make_test_df(species_train_df)\n",
    "    \n",
    "    if len(species_test_df) == 0:\n",
    "        print(\"No test data for {}\".format(s))\n",
    "        #print(species_test_df)\n",
    "        \n",
    "    predictions = train_ripeness_small(species_train_df, weather_training,\n",
    "                        species_test_df, weather_test)\n",
    "    \n",
    "    genus_prediction_dict[s] = predictions"
   ]
  }
 ],
 "metadata": {
  "kernelspec": {
   "display_name": "seasonality",
   "language": "python",
   "name": "seasonality"
  },
  "language_info": {
   "codemirror_mode": {
    "name": "ipython",
    "version": 3
   },
   "file_extension": ".py",
   "mimetype": "text/x-python",
   "name": "python",
   "nbconvert_exporter": "python",
   "pygments_lexer": "ipython3",
   "version": "3.11.4"
  }
 },
 "nbformat": 4,
 "nbformat_minor": 5
}
