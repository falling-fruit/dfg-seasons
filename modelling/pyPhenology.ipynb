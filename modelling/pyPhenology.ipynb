{
 "cells": [
  {
   "cell_type": "code",
   "execution_count": 27,
   "id": "2cf70d15",
   "metadata": {},
   "outputs": [],
   "source": [
    "from pyPhenology import models, utils\n",
    "import numpy as np\n",
    "\n",
    "observations, predictors = utils.load_test_data(name='vaccinium', phenophase='flowers')\n"
   ]
  },
  {
   "cell_type": "code",
   "execution_count": 2,
   "id": "f6e19188",
   "metadata": {
    "scrolled": true
   },
   "outputs": [
    {
     "data": {
      "text/html": [
       "<div>\n",
       "<style scoped>\n",
       "    .dataframe tbody tr th:only-of-type {\n",
       "        vertical-align: middle;\n",
       "    }\n",
       "\n",
       "    .dataframe tbody tr th {\n",
       "        vertical-align: top;\n",
       "    }\n",
       "\n",
       "    .dataframe thead th {\n",
       "        text-align: right;\n",
       "    }\n",
       "</style>\n",
       "<table border=\"1\" class=\"dataframe\">\n",
       "  <thead>\n",
       "    <tr style=\"text-align: right;\">\n",
       "      <th></th>\n",
       "      <th>species</th>\n",
       "      <th>site_id</th>\n",
       "      <th>year</th>\n",
       "      <th>doy</th>\n",
       "      <th>phenophase</th>\n",
       "    </tr>\n",
       "  </thead>\n",
       "  <tbody>\n",
       "    <tr>\n",
       "      <th>48</th>\n",
       "      <td>vaccinium corymbosum</td>\n",
       "      <td>1</td>\n",
       "      <td>1998</td>\n",
       "      <td>122</td>\n",
       "      <td>501</td>\n",
       "    </tr>\n",
       "    <tr>\n",
       "      <th>49</th>\n",
       "      <td>vaccinium corymbosum</td>\n",
       "      <td>1</td>\n",
       "      <td>1998</td>\n",
       "      <td>122</td>\n",
       "      <td>501</td>\n",
       "    </tr>\n",
       "    <tr>\n",
       "      <th>50</th>\n",
       "      <td>vaccinium corymbosum</td>\n",
       "      <td>1</td>\n",
       "      <td>1991</td>\n",
       "      <td>124</td>\n",
       "      <td>501</td>\n",
       "    </tr>\n",
       "    <tr>\n",
       "      <th>51</th>\n",
       "      <td>vaccinium corymbosum</td>\n",
       "      <td>1</td>\n",
       "      <td>1991</td>\n",
       "      <td>124</td>\n",
       "      <td>501</td>\n",
       "    </tr>\n",
       "    <tr>\n",
       "      <th>52</th>\n",
       "      <td>vaccinium corymbosum</td>\n",
       "      <td>1</td>\n",
       "      <td>1998</td>\n",
       "      <td>126</td>\n",
       "      <td>501</td>\n",
       "    </tr>\n",
       "    <tr>\n",
       "      <th>53</th>\n",
       "      <td>vaccinium corymbosum</td>\n",
       "      <td>1</td>\n",
       "      <td>2000</td>\n",
       "      <td>128</td>\n",
       "      <td>501</td>\n",
       "    </tr>\n",
       "    <tr>\n",
       "      <th>54</th>\n",
       "      <td>vaccinium corymbosum</td>\n",
       "      <td>1</td>\n",
       "      <td>2000</td>\n",
       "      <td>128</td>\n",
       "      <td>501</td>\n",
       "    </tr>\n",
       "    <tr>\n",
       "      <th>55</th>\n",
       "      <td>vaccinium corymbosum</td>\n",
       "      <td>1</td>\n",
       "      <td>1991</td>\n",
       "      <td>128</td>\n",
       "      <td>501</td>\n",
       "    </tr>\n",
       "    <tr>\n",
       "      <th>56</th>\n",
       "      <td>vaccinium corymbosum</td>\n",
       "      <td>1</td>\n",
       "      <td>2001</td>\n",
       "      <td>128</td>\n",
       "      <td>501</td>\n",
       "    </tr>\n",
       "    <tr>\n",
       "      <th>57</th>\n",
       "      <td>vaccinium corymbosum</td>\n",
       "      <td>1</td>\n",
       "      <td>2001</td>\n",
       "      <td>128</td>\n",
       "      <td>501</td>\n",
       "    </tr>\n",
       "    <tr>\n",
       "      <th>58</th>\n",
       "      <td>vaccinium corymbosum</td>\n",
       "      <td>1</td>\n",
       "      <td>1990</td>\n",
       "      <td>129</td>\n",
       "      <td>501</td>\n",
       "    </tr>\n",
       "    <tr>\n",
       "      <th>59</th>\n",
       "      <td>vaccinium corymbosum</td>\n",
       "      <td>1</td>\n",
       "      <td>1990</td>\n",
       "      <td>129</td>\n",
       "      <td>501</td>\n",
       "    </tr>\n",
       "    <tr>\n",
       "      <th>60</th>\n",
       "      <td>vaccinium corymbosum</td>\n",
       "      <td>1</td>\n",
       "      <td>1999</td>\n",
       "      <td>129</td>\n",
       "      <td>501</td>\n",
       "    </tr>\n",
       "    <tr>\n",
       "      <th>61</th>\n",
       "      <td>vaccinium corymbosum</td>\n",
       "      <td>1</td>\n",
       "      <td>1999</td>\n",
       "      <td>129</td>\n",
       "      <td>501</td>\n",
       "    </tr>\n",
       "    <tr>\n",
       "      <th>62</th>\n",
       "      <td>vaccinium corymbosum</td>\n",
       "      <td>1</td>\n",
       "      <td>1993</td>\n",
       "      <td>130</td>\n",
       "      <td>501</td>\n",
       "    </tr>\n",
       "    <tr>\n",
       "      <th>63</th>\n",
       "      <td>vaccinium corymbosum</td>\n",
       "      <td>1</td>\n",
       "      <td>1993</td>\n",
       "      <td>130</td>\n",
       "      <td>501</td>\n",
       "    </tr>\n",
       "    <tr>\n",
       "      <th>64</th>\n",
       "      <td>vaccinium corymbosum</td>\n",
       "      <td>1</td>\n",
       "      <td>1993</td>\n",
       "      <td>130</td>\n",
       "      <td>501</td>\n",
       "    </tr>\n",
       "    <tr>\n",
       "      <th>65</th>\n",
       "      <td>vaccinium corymbosum</td>\n",
       "      <td>1</td>\n",
       "      <td>2000</td>\n",
       "      <td>130</td>\n",
       "      <td>501</td>\n",
       "    </tr>\n",
       "    <tr>\n",
       "      <th>66</th>\n",
       "      <td>vaccinium corymbosum</td>\n",
       "      <td>1</td>\n",
       "      <td>1991</td>\n",
       "      <td>132</td>\n",
       "      <td>501</td>\n",
       "    </tr>\n",
       "    <tr>\n",
       "      <th>67</th>\n",
       "      <td>vaccinium corymbosum</td>\n",
       "      <td>1</td>\n",
       "      <td>1998</td>\n",
       "      <td>131</td>\n",
       "      <td>501</td>\n",
       "    </tr>\n",
       "    <tr>\n",
       "      <th>68</th>\n",
       "      <td>vaccinium corymbosum</td>\n",
       "      <td>1</td>\n",
       "      <td>1999</td>\n",
       "      <td>132</td>\n",
       "      <td>501</td>\n",
       "    </tr>\n",
       "    <tr>\n",
       "      <th>69</th>\n",
       "      <td>vaccinium corymbosum</td>\n",
       "      <td>1</td>\n",
       "      <td>1993</td>\n",
       "      <td>134</td>\n",
       "      <td>501</td>\n",
       "    </tr>\n",
       "    <tr>\n",
       "      <th>70</th>\n",
       "      <td>vaccinium corymbosum</td>\n",
       "      <td>1</td>\n",
       "      <td>2000</td>\n",
       "      <td>134</td>\n",
       "      <td>501</td>\n",
       "    </tr>\n",
       "    <tr>\n",
       "      <th>71</th>\n",
       "      <td>vaccinium corymbosum</td>\n",
       "      <td>1</td>\n",
       "      <td>2001</td>\n",
       "      <td>134</td>\n",
       "      <td>501</td>\n",
       "    </tr>\n",
       "    <tr>\n",
       "      <th>72</th>\n",
       "      <td>vaccinium corymbosum</td>\n",
       "      <td>1</td>\n",
       "      <td>2001</td>\n",
       "      <td>134</td>\n",
       "      <td>501</td>\n",
       "    </tr>\n",
       "    <tr>\n",
       "      <th>73</th>\n",
       "      <td>vaccinium corymbosum</td>\n",
       "      <td>1</td>\n",
       "      <td>1990</td>\n",
       "      <td>136</td>\n",
       "      <td>501</td>\n",
       "    </tr>\n",
       "    <tr>\n",
       "      <th>74</th>\n",
       "      <td>vaccinium corymbosum</td>\n",
       "      <td>1</td>\n",
       "      <td>1990</td>\n",
       "      <td>136</td>\n",
       "      <td>501</td>\n",
       "    </tr>\n",
       "    <tr>\n",
       "      <th>75</th>\n",
       "      <td>vaccinium corymbosum</td>\n",
       "      <td>1</td>\n",
       "      <td>1994</td>\n",
       "      <td>134</td>\n",
       "      <td>501</td>\n",
       "    </tr>\n",
       "    <tr>\n",
       "      <th>76</th>\n",
       "      <td>vaccinium corymbosum</td>\n",
       "      <td>1</td>\n",
       "      <td>1994</td>\n",
       "      <td>134</td>\n",
       "      <td>501</td>\n",
       "    </tr>\n",
       "    <tr>\n",
       "      <th>77</th>\n",
       "      <td>vaccinium corymbosum</td>\n",
       "      <td>1</td>\n",
       "      <td>1992</td>\n",
       "      <td>138</td>\n",
       "      <td>501</td>\n",
       "    </tr>\n",
       "    <tr>\n",
       "      <th>78</th>\n",
       "      <td>vaccinium corymbosum</td>\n",
       "      <td>1</td>\n",
       "      <td>1992</td>\n",
       "      <td>138</td>\n",
       "      <td>501</td>\n",
       "    </tr>\n",
       "    <tr>\n",
       "      <th>79</th>\n",
       "      <td>vaccinium corymbosum</td>\n",
       "      <td>1</td>\n",
       "      <td>1997</td>\n",
       "      <td>138</td>\n",
       "      <td>501</td>\n",
       "    </tr>\n",
       "    <tr>\n",
       "      <th>80</th>\n",
       "      <td>vaccinium corymbosum</td>\n",
       "      <td>1</td>\n",
       "      <td>1999</td>\n",
       "      <td>138</td>\n",
       "      <td>501</td>\n",
       "    </tr>\n",
       "    <tr>\n",
       "      <th>81</th>\n",
       "      <td>vaccinium corymbosum</td>\n",
       "      <td>1</td>\n",
       "      <td>1992</td>\n",
       "      <td>141</td>\n",
       "      <td>501</td>\n",
       "    </tr>\n",
       "    <tr>\n",
       "      <th>82</th>\n",
       "      <td>vaccinium corymbosum</td>\n",
       "      <td>1</td>\n",
       "      <td>1992</td>\n",
       "      <td>141</td>\n",
       "      <td>501</td>\n",
       "    </tr>\n",
       "    <tr>\n",
       "      <th>83</th>\n",
       "      <td>vaccinium corymbosum</td>\n",
       "      <td>1</td>\n",
       "      <td>1995</td>\n",
       "      <td>139</td>\n",
       "      <td>501</td>\n",
       "    </tr>\n",
       "    <tr>\n",
       "      <th>84</th>\n",
       "      <td>vaccinium corymbosum</td>\n",
       "      <td>1</td>\n",
       "      <td>1995</td>\n",
       "      <td>139</td>\n",
       "      <td>501</td>\n",
       "    </tr>\n",
       "    <tr>\n",
       "      <th>85</th>\n",
       "      <td>vaccinium corymbosum</td>\n",
       "      <td>1</td>\n",
       "      <td>1995</td>\n",
       "      <td>139</td>\n",
       "      <td>501</td>\n",
       "    </tr>\n",
       "    <tr>\n",
       "      <th>86</th>\n",
       "      <td>vaccinium corymbosum</td>\n",
       "      <td>1</td>\n",
       "      <td>1995</td>\n",
       "      <td>139</td>\n",
       "      <td>501</td>\n",
       "    </tr>\n",
       "    <tr>\n",
       "      <th>87</th>\n",
       "      <td>vaccinium corymbosum</td>\n",
       "      <td>1</td>\n",
       "      <td>1994</td>\n",
       "      <td>141</td>\n",
       "      <td>501</td>\n",
       "    </tr>\n",
       "    <tr>\n",
       "      <th>88</th>\n",
       "      <td>vaccinium corymbosum</td>\n",
       "      <td>1</td>\n",
       "      <td>1994</td>\n",
       "      <td>141</td>\n",
       "      <td>501</td>\n",
       "    </tr>\n",
       "    <tr>\n",
       "      <th>89</th>\n",
       "      <td>vaccinium corymbosum</td>\n",
       "      <td>1</td>\n",
       "      <td>1996</td>\n",
       "      <td>140</td>\n",
       "      <td>501</td>\n",
       "    </tr>\n",
       "    <tr>\n",
       "      <th>90</th>\n",
       "      <td>vaccinium corymbosum</td>\n",
       "      <td>1</td>\n",
       "      <td>1996</td>\n",
       "      <td>140</td>\n",
       "      <td>501</td>\n",
       "    </tr>\n",
       "    <tr>\n",
       "      <th>91</th>\n",
       "      <td>vaccinium corymbosum</td>\n",
       "      <td>1</td>\n",
       "      <td>1996</td>\n",
       "      <td>140</td>\n",
       "      <td>501</td>\n",
       "    </tr>\n",
       "    <tr>\n",
       "      <th>92</th>\n",
       "      <td>vaccinium corymbosum</td>\n",
       "      <td>1</td>\n",
       "      <td>1996</td>\n",
       "      <td>140</td>\n",
       "      <td>501</td>\n",
       "    </tr>\n",
       "    <tr>\n",
       "      <th>93</th>\n",
       "      <td>vaccinium corymbosum</td>\n",
       "      <td>1</td>\n",
       "      <td>1997</td>\n",
       "      <td>144</td>\n",
       "      <td>501</td>\n",
       "    </tr>\n",
       "    <tr>\n",
       "      <th>94</th>\n",
       "      <td>vaccinium corymbosum</td>\n",
       "      <td>1</td>\n",
       "      <td>1997</td>\n",
       "      <td>144</td>\n",
       "      <td>501</td>\n",
       "    </tr>\n",
       "    <tr>\n",
       "      <th>95</th>\n",
       "      <td>vaccinium corymbosum</td>\n",
       "      <td>1</td>\n",
       "      <td>1997</td>\n",
       "      <td>144</td>\n",
       "      <td>501</td>\n",
       "    </tr>\n",
       "  </tbody>\n",
       "</table>\n",
       "</div>"
      ],
      "text/plain": [
       "                 species  site_id  year  doy  phenophase\n",
       "48  vaccinium corymbosum        1  1998  122         501\n",
       "49  vaccinium corymbosum        1  1998  122         501\n",
       "50  vaccinium corymbosum        1  1991  124         501\n",
       "51  vaccinium corymbosum        1  1991  124         501\n",
       "52  vaccinium corymbosum        1  1998  126         501\n",
       "53  vaccinium corymbosum        1  2000  128         501\n",
       "54  vaccinium corymbosum        1  2000  128         501\n",
       "55  vaccinium corymbosum        1  1991  128         501\n",
       "56  vaccinium corymbosum        1  2001  128         501\n",
       "57  vaccinium corymbosum        1  2001  128         501\n",
       "58  vaccinium corymbosum        1  1990  129         501\n",
       "59  vaccinium corymbosum        1  1990  129         501\n",
       "60  vaccinium corymbosum        1  1999  129         501\n",
       "61  vaccinium corymbosum        1  1999  129         501\n",
       "62  vaccinium corymbosum        1  1993  130         501\n",
       "63  vaccinium corymbosum        1  1993  130         501\n",
       "64  vaccinium corymbosum        1  1993  130         501\n",
       "65  vaccinium corymbosum        1  2000  130         501\n",
       "66  vaccinium corymbosum        1  1991  132         501\n",
       "67  vaccinium corymbosum        1  1998  131         501\n",
       "68  vaccinium corymbosum        1  1999  132         501\n",
       "69  vaccinium corymbosum        1  1993  134         501\n",
       "70  vaccinium corymbosum        1  2000  134         501\n",
       "71  vaccinium corymbosum        1  2001  134         501\n",
       "72  vaccinium corymbosum        1  2001  134         501\n",
       "73  vaccinium corymbosum        1  1990  136         501\n",
       "74  vaccinium corymbosum        1  1990  136         501\n",
       "75  vaccinium corymbosum        1  1994  134         501\n",
       "76  vaccinium corymbosum        1  1994  134         501\n",
       "77  vaccinium corymbosum        1  1992  138         501\n",
       "78  vaccinium corymbosum        1  1992  138         501\n",
       "79  vaccinium corymbosum        1  1997  138         501\n",
       "80  vaccinium corymbosum        1  1999  138         501\n",
       "81  vaccinium corymbosum        1  1992  141         501\n",
       "82  vaccinium corymbosum        1  1992  141         501\n",
       "83  vaccinium corymbosum        1  1995  139         501\n",
       "84  vaccinium corymbosum        1  1995  139         501\n",
       "85  vaccinium corymbosum        1  1995  139         501\n",
       "86  vaccinium corymbosum        1  1995  139         501\n",
       "87  vaccinium corymbosum        1  1994  141         501\n",
       "88  vaccinium corymbosum        1  1994  141         501\n",
       "89  vaccinium corymbosum        1  1996  140         501\n",
       "90  vaccinium corymbosum        1  1996  140         501\n",
       "91  vaccinium corymbosum        1  1996  140         501\n",
       "92  vaccinium corymbosum        1  1996  140         501\n",
       "93  vaccinium corymbosum        1  1997  144         501\n",
       "94  vaccinium corymbosum        1  1997  144         501\n",
       "95  vaccinium corymbosum        1  1997  144         501"
      ]
     },
     "execution_count": 2,
     "metadata": {},
     "output_type": "execute_result"
    }
   ],
   "source": [
    "observations"
   ]
  },
  {
   "cell_type": "code",
   "execution_count": 3,
   "id": "b4ec4ae6",
   "metadata": {},
   "outputs": [
    {
     "data": {
      "text/html": [
       "<div>\n",
       "<style scoped>\n",
       "    .dataframe tbody tr th:only-of-type {\n",
       "        vertical-align: middle;\n",
       "    }\n",
       "\n",
       "    .dataframe tbody tr th {\n",
       "        vertical-align: top;\n",
       "    }\n",
       "\n",
       "    .dataframe thead th {\n",
       "        text-align: right;\n",
       "    }\n",
       "</style>\n",
       "<table border=\"1\" class=\"dataframe\">\n",
       "  <thead>\n",
       "    <tr style=\"text-align: right;\">\n",
       "      <th></th>\n",
       "      <th>site_id</th>\n",
       "      <th>temperature</th>\n",
       "      <th>year</th>\n",
       "      <th>doy</th>\n",
       "      <th>latitude</th>\n",
       "      <th>longitude</th>\n",
       "      <th>daylength</th>\n",
       "    </tr>\n",
       "  </thead>\n",
       "  <tbody>\n",
       "    <tr>\n",
       "      <th>0</th>\n",
       "      <td>1</td>\n",
       "      <td>13.10</td>\n",
       "      <td>1990</td>\n",
       "      <td>-65</td>\n",
       "      <td>42.5429</td>\n",
       "      <td>-72.2011</td>\n",
       "      <td>10.24</td>\n",
       "    </tr>\n",
       "    <tr>\n",
       "      <th>1</th>\n",
       "      <td>1</td>\n",
       "      <td>13.26</td>\n",
       "      <td>1990</td>\n",
       "      <td>-64</td>\n",
       "      <td>42.5429</td>\n",
       "      <td>-72.2011</td>\n",
       "      <td>10.20</td>\n",
       "    </tr>\n",
       "    <tr>\n",
       "      <th>2</th>\n",
       "      <td>1</td>\n",
       "      <td>12.30</td>\n",
       "      <td>1990</td>\n",
       "      <td>-63</td>\n",
       "      <td>42.5429</td>\n",
       "      <td>-72.2011</td>\n",
       "      <td>10.16</td>\n",
       "    </tr>\n",
       "    <tr>\n",
       "      <th>3</th>\n",
       "      <td>1</td>\n",
       "      <td>12.15</td>\n",
       "      <td>1990</td>\n",
       "      <td>-62</td>\n",
       "      <td>42.5429</td>\n",
       "      <td>-72.2011</td>\n",
       "      <td>10.11</td>\n",
       "    </tr>\n",
       "    <tr>\n",
       "      <th>4</th>\n",
       "      <td>1</td>\n",
       "      <td>13.00</td>\n",
       "      <td>1990</td>\n",
       "      <td>-61</td>\n",
       "      <td>42.5429</td>\n",
       "      <td>-72.2011</td>\n",
       "      <td>10.07</td>\n",
       "    </tr>\n",
       "    <tr>\n",
       "      <th>...</th>\n",
       "      <td>...</td>\n",
       "      <td>...</td>\n",
       "      <td>...</td>\n",
       "      <td>...</td>\n",
       "      <td>...</td>\n",
       "      <td>...</td>\n",
       "      <td>...</td>\n",
       "    </tr>\n",
       "    <tr>\n",
       "      <th>4351</th>\n",
       "      <td>1</td>\n",
       "      <td>7.93</td>\n",
       "      <td>2001</td>\n",
       "      <td>293</td>\n",
       "      <td>42.5429</td>\n",
       "      <td>-72.2011</td>\n",
       "      <td>10.55</td>\n",
       "    </tr>\n",
       "    <tr>\n",
       "      <th>4352</th>\n",
       "      <td>1</td>\n",
       "      <td>10.76</td>\n",
       "      <td>2001</td>\n",
       "      <td>294</td>\n",
       "      <td>42.5429</td>\n",
       "      <td>-72.2011</td>\n",
       "      <td>10.51</td>\n",
       "    </tr>\n",
       "    <tr>\n",
       "      <th>4353</th>\n",
       "      <td>1</td>\n",
       "      <td>8.45</td>\n",
       "      <td>2001</td>\n",
       "      <td>295</td>\n",
       "      <td>42.5429</td>\n",
       "      <td>-72.2011</td>\n",
       "      <td>10.46</td>\n",
       "    </tr>\n",
       "    <tr>\n",
       "      <th>4354</th>\n",
       "      <td>1</td>\n",
       "      <td>9.43</td>\n",
       "      <td>2001</td>\n",
       "      <td>296</td>\n",
       "      <td>42.5429</td>\n",
       "      <td>-72.2011</td>\n",
       "      <td>10.42</td>\n",
       "    </tr>\n",
       "    <tr>\n",
       "      <th>4355</th>\n",
       "      <td>1</td>\n",
       "      <td>18.26</td>\n",
       "      <td>2001</td>\n",
       "      <td>297</td>\n",
       "      <td>42.5429</td>\n",
       "      <td>-72.2011</td>\n",
       "      <td>10.37</td>\n",
       "    </tr>\n",
       "  </tbody>\n",
       "</table>\n",
       "<p>4356 rows × 7 columns</p>\n",
       "</div>"
      ],
      "text/plain": [
       "      site_id  temperature  year  doy  latitude  longitude  daylength\n",
       "0           1        13.10  1990  -65   42.5429   -72.2011      10.24\n",
       "1           1        13.26  1990  -64   42.5429   -72.2011      10.20\n",
       "2           1        12.30  1990  -63   42.5429   -72.2011      10.16\n",
       "3           1        12.15  1990  -62   42.5429   -72.2011      10.11\n",
       "4           1        13.00  1990  -61   42.5429   -72.2011      10.07\n",
       "...       ...          ...   ...  ...       ...        ...        ...\n",
       "4351        1         7.93  2001  293   42.5429   -72.2011      10.55\n",
       "4352        1        10.76  2001  294   42.5429   -72.2011      10.51\n",
       "4353        1         8.45  2001  295   42.5429   -72.2011      10.46\n",
       "4354        1         9.43  2001  296   42.5429   -72.2011      10.42\n",
       "4355        1        18.26  2001  297   42.5429   -72.2011      10.37\n",
       "\n",
       "[4356 rows x 7 columns]"
      ]
     },
     "execution_count": 3,
     "metadata": {},
     "output_type": "execute_result"
    }
   ],
   "source": [
    "predictors"
   ]
  },
  {
   "cell_type": "code",
   "execution_count": 30,
   "id": "2e8ac050",
   "metadata": {},
   "outputs": [],
   "source": [
    "model = models.ThermalTime()"
   ]
  },
  {
   "cell_type": "code",
   "execution_count": 31,
   "id": "60456680",
   "metadata": {},
   "outputs": [],
   "source": [
    "model.fit(observations, predictors)"
   ]
  },
  {
   "cell_type": "code",
   "execution_count": 32,
   "id": "e2d689ac",
   "metadata": {},
   "outputs": [
    {
     "data": {
      "text/plain": [
       "{'t1': 86.44914381180284, 'T': 8.069648395744633, 'F': 104.41146537072774}"
      ]
     },
     "execution_count": 32,
     "metadata": {},
     "output_type": "execute_result"
    }
   ],
   "source": [
    "model.get_params()"
   ]
  },
  {
   "cell_type": "code",
   "execution_count": 33,
   "id": "2e321534",
   "metadata": {},
   "outputs": [
    {
     "data": {
      "text/plain": [
       "array([106, 106, 106, 106, 106, 106, 106, 106, 122, 118, 118, 118, 118,\n",
       "       119, 119, 119, 119, 124, 122, 122, 122, 120, 120, 120, 120, 120,\n",
       "       120, 123, 120, 120, 120, 120, 121, 121, 121, 121, 123, 123, 123,\n",
       "       123, 120, 120, 123, 123, 123, 124, 124, 124])"
      ]
     },
     "execution_count": 33,
     "metadata": {},
     "output_type": "execute_result"
    }
   ],
   "source": [
    "model.predict()"
   ]
  },
  {
   "cell_type": "code",
   "execution_count": 34,
   "id": "682925e4",
   "metadata": {},
   "outputs": [
    {
     "data": {
      "text/plain": [
       "2.9154759474226504"
      ]
     },
     "execution_count": 34,
     "metadata": {},
     "output_type": "execute_result"
    }
   ],
   "source": [
    "model.score()"
   ]
  },
  {
   "cell_type": "code",
   "execution_count": 35,
   "id": "f647ebe3",
   "metadata": {},
   "outputs": [
    {
     "ename": "RuntimeWarning",
     "evalue": "File trained_models/blueberry_model.json exists. User overwrite=True to overwite",
     "output_type": "error",
     "traceback": [
      "\u001b[0;31m---------------------------------------------------------------------------\u001b[0m",
      "\u001b[0;31mRuntimeWarning\u001b[0m                            Traceback (most recent call last)",
      "Cell \u001b[0;32mIn[35], line 1\u001b[0m\n\u001b[0;32m----> 1\u001b[0m model\u001b[38;5;241m.\u001b[39msave_params(filename\u001b[38;5;241m=\u001b[39m\u001b[38;5;124m'\u001b[39m\u001b[38;5;124mtrained_models/blueberry_model.json\u001b[39m\u001b[38;5;124m'\u001b[39m)\n",
      "File \u001b[0;32m~/opt/anaconda3/envs/seasonality/lib/python3.11/site-packages/pyPhenology/models/base.py:315\u001b[0m, in \u001b[0;36mBaseModel.save_params\u001b[0;34m(self, filename, overwrite)\u001b[0m\n\u001b[1;32m    302\u001b[0m \u001b[38;5;124;03m\"\"\"Save the parameters for a model\u001b[39;00m\n\u001b[1;32m    303\u001b[0m \n\u001b[1;32m    304\u001b[0m \u001b[38;5;124;03mA model can be loaded again by passing the filename to the ``parameters``\u001b[39;00m\n\u001b[0;32m   (...)\u001b[0m\n\u001b[1;32m    312\u001b[0m \u001b[38;5;124;03m        Overwrite the file if it exists\u001b[39;00m\n\u001b[1;32m    313\u001b[0m \u001b[38;5;124;03m\"\"\"\u001b[39;00m\n\u001b[1;32m    314\u001b[0m \u001b[38;5;28mself\u001b[39m\u001b[38;5;241m.\u001b[39m_check_parameter_completeness()\n\u001b[0;32m--> 315\u001b[0m utils\u001b[38;5;241m.\u001b[39mmisc\u001b[38;5;241m.\u001b[39mwrite_saved_model(model_info\u001b[38;5;241m=\u001b[39m\u001b[38;5;28mself\u001b[39m\u001b[38;5;241m.\u001b[39m_get_model_info(),\n\u001b[1;32m    316\u001b[0m                              model_file\u001b[38;5;241m=\u001b[39mfilename,\n\u001b[1;32m    317\u001b[0m                              overwrite\u001b[38;5;241m=\u001b[39moverwrite)\n",
      "File \u001b[0;32m~/opt/anaconda3/envs/seasonality/lib/python3.11/site-packages/pyPhenology/models/utils/misc.py:101\u001b[0m, in \u001b[0;36mwrite_saved_model\u001b[0;34m(model_info, model_file, overwrite)\u001b[0m\n\u001b[1;32m     99\u001b[0m \u001b[38;5;28;01mdef\u001b[39;00m \u001b[38;5;21mwrite_saved_model\u001b[39m(model_info, model_file, overwrite):\n\u001b[1;32m    100\u001b[0m     \u001b[38;5;28;01mif\u001b[39;00m os\u001b[38;5;241m.\u001b[39mpath\u001b[38;5;241m.\u001b[39mexists(model_file) \u001b[38;5;129;01mand\u001b[39;00m \u001b[38;5;129;01mnot\u001b[39;00m overwrite:\n\u001b[0;32m--> 101\u001b[0m         \u001b[38;5;28;01mraise\u001b[39;00m \u001b[38;5;167;01mRuntimeWarning\u001b[39;00m(\u001b[38;5;124m'\u001b[39m\u001b[38;5;124mFile \u001b[39m\u001b[38;5;132;01m{f}\u001b[39;00m\u001b[38;5;124m exists. User overwrite=True to overwite\u001b[39m\u001b[38;5;124m'\u001b[39m\u001b[38;5;241m.\u001b[39mformat(f\u001b[38;5;241m=\u001b[39mmodel_file))\n\u001b[1;32m    102\u001b[0m     \u001b[38;5;28;01melse\u001b[39;00m:\n\u001b[1;32m    103\u001b[0m         \u001b[38;5;28;01mwith\u001b[39;00m \u001b[38;5;28mopen\u001b[39m(model_file, \u001b[38;5;124m'\u001b[39m\u001b[38;5;124mw\u001b[39m\u001b[38;5;124m'\u001b[39m) \u001b[38;5;28;01mas\u001b[39;00m f:\n",
      "\u001b[0;31mRuntimeWarning\u001b[0m: File trained_models/blueberry_model.json exists. User overwrite=True to overwite"
     ]
    }
   ],
   "source": [
    "model.save_params(filename='trained_models/blueberry_model.json')"
   ]
  },
  {
   "cell_type": "code",
   "execution_count": 11,
   "id": "445e7993",
   "metadata": {},
   "outputs": [],
   "source": [
    "model = utils.load_saved_model(filename='trained_models/blueberry_model.json')"
   ]
  },
  {
   "cell_type": "code",
   "execution_count": 12,
   "id": "29800081",
   "metadata": {},
   "outputs": [
    {
     "data": {
      "text/plain": [
       "array([126, 126, 127, 127, 126, 129, 129, 127, 132, 132, 133, 133, 132,\n",
       "       132, 130, 130, 130, 129, 127, 126, 132, 130, 129, 132, 132, 133,\n",
       "       133, 138, 138, 141, 141, 142, 132, 141, 141, 139, 139, 139, 139,\n",
       "       138, 138, 141, 141, 141, 141, 142, 142, 142])"
      ]
     },
     "execution_count": 12,
     "metadata": {},
     "output_type": "execute_result"
    }
   ],
   "source": [
    "model.predict(to_predict=observations, predictors=predictors)"
   ]
  },
  {
   "cell_type": "code",
   "execution_count": 22,
   "id": "551af9f9",
   "metadata": {},
   "outputs": [],
   "source": [
    "species_dict = {\n",
    "    \"apple\": [0, 1, 2]\n",
    "}\n",
    "\n",
    "current_doy = 2\n",
    "current_doy2 = 4\n",
    "\n",
    "def ripeness(species, doy):\n",
    "    if species not in species_dict:\n",
    "        return False\n",
    "    elif doy in species_dict[species]:\n",
    "        return True\n",
    "    else:\n",
    "        return False"
   ]
  },
  {
   "cell_type": "code",
   "execution_count": 16,
   "id": "181087e1",
   "metadata": {},
   "outputs": [
    {
     "data": {
      "text/plain": [
       "False"
      ]
     },
     "execution_count": 16,
     "metadata": {},
     "output_type": "execute_result"
    }
   ],
   "source": [
    "ripeness(\"apple\", 4)"
   ]
  },
  {
   "cell_type": "code",
   "execution_count": 18,
   "id": "dc914ec5",
   "metadata": {},
   "outputs": [
    {
     "data": {
      "text/plain": [
       "True"
      ]
     },
     "execution_count": 18,
     "metadata": {},
     "output_type": "execute_result"
    }
   ],
   "source": [
    "ripeness(\"apple\", 2)"
   ]
  },
  {
   "cell_type": "code",
   "execution_count": 23,
   "id": "3b2029ec",
   "metadata": {},
   "outputs": [
    {
     "data": {
      "text/plain": [
       "False"
      ]
     },
     "execution_count": 23,
     "metadata": {},
     "output_type": "execute_result"
    }
   ],
   "source": [
    "ripeness(\"peach\", 4)"
   ]
  },
  {
   "cell_type": "markdown",
   "id": "9de4f06b",
   "metadata": {},
   "source": [
    "**Compare Multiple Models**"
   ]
  },
  {
   "cell_type": "code",
   "execution_count": 3,
   "id": "ca3fa26a",
   "metadata": {},
   "outputs": [],
   "source": [
    "m1 = models.ThermalTime()\n",
    "m2 = models.FallCooling()\n",
    "m3 = models.M1()\n",
    "m4 = models.MSB()\n",
    "\n",
    "ensemble = models.Ensemble(core_models=[m1,m2,m3,m4])\n",
    "ensemble.fit(observations, predictors)"
   ]
  },
  {
   "cell_type": "code",
   "execution_count": 4,
   "id": "198ebd70",
   "metadata": {},
   "outputs": [],
   "source": [
    "model_preds = ensemble.predict(observations, predictors, aggregation=\"none\")"
   ]
  },
  {
   "cell_type": "code",
   "execution_count": 5,
   "id": "cfbbbdeb",
   "metadata": {},
   "outputs": [
    {
     "data": {
      "text/plain": [
       "12.849894616947902"
      ]
     },
     "execution_count": 5,
     "metadata": {},
     "output_type": "execute_result"
    }
   ],
   "source": [
    "ensemble.score()"
   ]
  },
  {
   "cell_type": "code",
   "execution_count": 11,
   "id": "10da7718",
   "metadata": {},
   "outputs": [
    {
     "data": {
      "text/plain": [
       "48"
      ]
     },
     "execution_count": 11,
     "metadata": {},
     "output_type": "execute_result"
    }
   ],
   "source": [
    "len(model_preds[0])"
   ]
  },
  {
   "cell_type": "code",
   "execution_count": 7,
   "id": "68ac5ee5",
   "metadata": {},
   "outputs": [
    {
     "data": {
      "text/plain": [
       "48"
      ]
     },
     "execution_count": 7,
     "metadata": {},
     "output_type": "execute_result"
    }
   ],
   "source": [
    "len(observations)"
   ]
  },
  {
   "cell_type": "markdown",
   "id": "61f59945",
   "metadata": {},
   "source": [
    "Model predictions seem to be for each site. figure out a way to average per site / species? \n",
    "\n",
    "Model predicts day of flowering. "
   ]
  },
  {
   "cell_type": "code",
   "execution_count": 36,
   "id": "8fa343be",
   "metadata": {},
   "outputs": [],
   "source": [
    "## This is the species/site model prediction function. \n",
    "\n",
    "def aic(obs, pred, n_param):\n",
    "        return len(obs) * np.log(np.mean((obs - pred)**2)) + 2*(n_param + 1)\n",
    "\n",
    "observations, predictors = utils.load_test_data(name='vaccinium',\n",
    "                                                phenophase='budburst')\n",
    "\n",
    "default_models = [models.ThermalTime(), models.FallCooling(), models.M1(), models.MSB()]\n",
    "\n",
    "default_model_names = ['ThermalTime', \"FallCooling\", \"M1\", \"MSB\"]\n",
    "\n",
    "def get_site_ripeness(observations, predictors, test_percent, site_id, species, models=default_model_names):\n",
    "    # filter out train / test\n",
    "    observations_test = observations.sample(frac=test_percent)\n",
    "    observations_train = observations.drop(observations_test.index)\n",
    "    \n",
    "    # set up model comparisons\n",
    "    best_aic=np.inf\n",
    "    best_base_model = None\n",
    "    best_base_model_name = None\n",
    "\n",
    "    # iterate through all models\n",
    "    for model_name in models:\n",
    "        print(\"running model {m}\".format(m=model_name))\n",
    "        \n",
    "        Model = utils.load_model(model_name)\n",
    "        model = Model()\n",
    "        model.fit(observations_train, predictors, optimizer_params='practical')\n",
    "        \n",
    "        # predict from test observations\n",
    "        print(\"making predictions for model {m}\".format(m=model_name))        \n",
    "        preds = model.predict(observations_test, predictors)\n",
    "        \n",
    "        # score model\n",
    "        model_aic = aic(obs = observations_test.doy.values,\n",
    "                        pred=preds,\n",
    "                        n_param = len(model.get_params()))\n",
    "\n",
    "        if model_aic < best_aic:\n",
    "            best_model = model\n",
    "            best_model_name = model_name\n",
    "            best_aic = model_aic\n",
    "\n",
    "        print('model {m} got an aic of {a}'.format(m=model_name,a=model_aic))\n",
    "\n",
    "    print('Best model: {m}'.format(m=best_model_name))\n",
    "    print('Best model paramters:')\n",
    "    print(best_model.get_params())\n",
    "    \n",
    "    ripeness_data = observations_test\n",
    "    ripeness_data['flowering_day'] = preds\n",
    "    final_ripeness_data = ripeness_data[(ripeness_data.species == species) & (ripeness_data.site_id == site_id)]\n",
    "    \n",
    "    mean_maturation = np.mean(final_ripeness_data['flowering_day'])\n",
    "    \n",
    "    prediction_dict = {\n",
    "        \"trained_model\": best_model,\n",
    "        \"model_aic\": best_aic,\n",
    "        \"species_site_flowering days\": list(final_ripeness_data['flowering_day']),\n",
    "        \"mean_flowering_day\": np.mean(final_ripeness_data['flowering_day'])\n",
    "    }\n",
    "    \n",
    "    print(prediction_dict)\n",
    "    \n",
    "    return prediction_dict\n",
    "    \n",
    "    "
   ]
  },
  {
   "cell_type": "code",
   "execution_count": 12,
   "id": "5db1628e",
   "metadata": {},
   "outputs": [],
   "source": [
    "def predict_ripeness(prediction_dict, doy):\n",
    "    if doy >= prediction_dict['mean_flowering_day']:\n",
    "        return True\n",
    "    else:\n",
    "        return False"
   ]
  },
  {
   "cell_type": "code",
   "execution_count": 38,
   "id": "afc5840c",
   "metadata": {},
   "outputs": [
    {
     "name": "stdout",
     "output_type": "stream",
     "text": [
      "running model ThermalTime\n",
      "making predictions for model ThermalTime\n",
      "model ThermalTime got an aic of 64.8109667391588\n",
      "running model FallCooling\n",
      "making predictions for model FallCooling\n",
      "model FallCooling got an aic of 208.43842199782785\n",
      "running model M1\n",
      "making predictions for model M1\n",
      "model M1 got an aic of 66.8109667391588\n",
      "running model MSB\n",
      "making predictions for model MSB\n",
      "model MSB got an aic of 80.72890070436407\n",
      "Best model: ThermalTime\n",
      "Best model paramters:\n",
      "{'t1': 85.00087855554551, 'T': 7.873571778015514, 'F': 113.53965982088499}\n",
      "{'trained_model': <pyPhenology.models.thermaltime.ThermalTime object at 0x169bd3050>, 'model_aic': 64.8109667391588, 'species_site_flowering days': [124, 117, 114, 114, 121, 124, 123, 124, 117, 106, 114, 122, 119, 116, 123, 122, 110, 123, 116, 106, 119, 106, 122, 116], 'mean_flowering_day': 117.41666666666667}\n"
     ]
    }
   ],
   "source": [
    "blueberry_models = get_site_ripeness(observations, predictors, 0.5, 1, \"vaccinium corymbosum\")"
   ]
  },
  {
   "cell_type": "code",
   "execution_count": 41,
   "id": "67dec430",
   "metadata": {},
   "outputs": [
    {
     "data": {
      "text/plain": [
       "True"
      ]
     },
     "execution_count": 41,
     "metadata": {},
     "output_type": "execute_result"
    }
   ],
   "source": [
    "predict_ripeness(blueberry_models, 200)"
   ]
  },
  {
   "cell_type": "markdown",
   "id": "318d96ea",
   "metadata": {},
   "source": [
    "TODO: implement basic gaussian curve for a few days after the ripening date. ask claudia about this. "
   ]
  },
  {
   "cell_type": "code",
   "execution_count": null,
   "id": "186a825a",
   "metadata": {},
   "outputs": [],
   "source": []
  }
 ],
 "metadata": {
  "kernelspec": {
   "display_name": "seasonality",
   "language": "python",
   "name": "seasonality"
  },
  "language_info": {
   "codemirror_mode": {
    "name": "ipython",
    "version": 3
   },
   "file_extension": ".py",
   "mimetype": "text/x-python",
   "name": "python",
   "nbconvert_exporter": "python",
   "pygments_lexer": "ipython3",
   "version": "3.11.4"
  }
 },
 "nbformat": 4,
 "nbformat_minor": 5
}
