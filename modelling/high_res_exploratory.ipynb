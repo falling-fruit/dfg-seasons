{
 "cells": [
  {
   "cell_type": "code",
   "execution_count": 1,
   "id": "bfe6128c",
   "metadata": {},
   "outputs": [],
   "source": [
    "from model_helpers import *\n",
    "\n",
    "import cfgrib\n",
    "import xarray as xr\n",
    "\n",
    "import pandas as pd\n",
    "import numpy as np\n",
    "\n",
    "from pyPhenology import models, utils\n",
    "\n",
    "from tqdm import trange, tqdm\n",
    "\n",
    "import matplotlib.pyplot as plt\n",
    "\n",
    "from warnings import warn\n",
    "import warnings"
   ]
  },
  {
   "cell_type": "code",
   "execution_count": 2,
   "id": "338441ed",
   "metadata": {},
   "outputs": [],
   "source": [
    "warnings.filterwarnings('ignore')"
   ]
  },
  {
   "cell_type": "code",
   "execution_count": 3,
   "id": "a91c1eb6",
   "metadata": {},
   "outputs": [],
   "source": [
    "high_cutoff_year = 2022\n",
    "low_cutoff_year = 2010"
   ]
  },
  {
   "cell_type": "markdown",
   "id": "30fe8d6a",
   "metadata": {},
   "source": [
    "In this notebook, we implement two methods for increasing the accuracy of our ripeness predictions:\n",
    "\n",
    "1. higher space resolution. \n",
    "2. train on all years before 2022, test on 2022. "
   ]
  },
  {
   "cell_type": "code",
   "execution_count": 4,
   "id": "b0062c7a",
   "metadata": {},
   "outputs": [],
   "source": [
    "# Load in high-res weather data\n",
    "grib_data = cfgrib.open_datasets('../data/monthly_weather_data.grib')\n",
    "\n",
    "core_data = grib_data[0]"
   ]
  },
  {
   "cell_type": "code",
   "execution_count": 5,
   "id": "0ae57ab0",
   "metadata": {},
   "outputs": [],
   "source": [
    "## Load observations\n",
    "formatted_plants = pd.read_csv(\"../data/model_training_data/all_plants_formatted.csv\", index_col=0)\n"
   ]
  },
  {
   "cell_type": "code",
   "execution_count": 6,
   "id": "beeef429",
   "metadata": {},
   "outputs": [],
   "source": [
    "formatted_plants['rounded_lat'] = np.round(formatted_plants['latitude'], 1)\n",
    "formatted_plants['rounded_lon'] = np.round(formatted_plants['lon_360'], 1)\n",
    "\n",
    "rounded_sites = formatted_plants[['site_id', 'rounded_lat', 'rounded_lon']].drop_duplicates()\n",
    "\n",
    "site_x_vals = xr.DataArray(rounded_sites['rounded_lat'], dims=['site'])\n",
    "site_y_vals = xr.DataArray(rounded_sites['rounded_lon'], dims=['site'])"
   ]
  },
  {
   "cell_type": "code",
   "execution_count": 7,
   "id": "4273b0d9",
   "metadata": {},
   "outputs": [],
   "source": [
    "full_weather_data = core_data.sel(latitude=site_x_vals, longitude=site_y_vals, method='nearest').to_dataframe().dropna()"
   ]
  },
  {
   "cell_type": "code",
   "execution_count": 8,
   "id": "0e456fa6",
   "metadata": {},
   "outputs": [],
   "source": [
    "formatted_weather = format_weather_data(full_weather_data)\n",
    "\n",
    "formatted_weather['latitude'] = np.round(formatted_weather['latitude'], 1)\n",
    "formatted_weather['longitude'] = np.round(formatted_weather['longitude'], 1)"
   ]
  },
  {
   "cell_type": "code",
   "execution_count": 9,
   "id": "bc426650",
   "metadata": {},
   "outputs": [],
   "source": [
    "rounded_sites['coordstring'] = rounded_sites['rounded_lat'].astype(str) + rounded_sites['rounded_lon'].astype(str)\n",
    "formatted_weather['coordstring'] = formatted_weather['latitude'].astype(str) + formatted_weather['longitude'].astype(str)\n",
    "\n"
   ]
  },
  {
   "cell_type": "code",
   "execution_count": 10,
   "id": "4940fcb6",
   "metadata": {},
   "outputs": [],
   "source": [
    "## Add Site ID to the weather data\n",
    "weather_with_sites = pd.merge(formatted_weather, rounded_sites[['coordstring', 'site_id']], on='coordstring').drop('coordstring', axis=1)\n",
    "## Separate into training data and testing data\n",
    "\n",
    "# filter out current year\n",
    "weather_with_sites = weather_with_sites[weather_with_sites['year'] != 2023]\n",
    "\n",
    "weather_training = weather_with_sites[weather_with_sites['year'] < high_cutoff_year]\n",
    "weather_test = weather_with_sites[weather_with_sites['year'] >= high_cutoff_year]\n",
    "\n"
   ]
  },
  {
   "cell_type": "code",
   "execution_count": 11,
   "id": "a6eb310d",
   "metadata": {},
   "outputs": [],
   "source": [
    "species_list = formatted_plants['formatted_sci_name'].unique()"
   ]
  },
  {
   "cell_type": "code",
   "execution_count": 12,
   "id": "6c9836d5",
   "metadata": {},
   "outputs": [],
   "source": [
    "formatted_plants.drop('species', axis=1, inplace=True)"
   ]
  },
  {
   "cell_type": "code",
   "execution_count": 13,
   "id": "db1949b1",
   "metadata": {},
   "outputs": [],
   "source": [
    "weather_sites = weather_with_sites['site_id'].unique()\n",
    "\n",
    "filtered_plants = formatted_plants[(formatted_plants['site_id'].isin(weather_sites)) & \n",
    "                                   (formatted_plants['year'] != 2023) &\n",
    "                                   (formatted_plants['latitude'] > 0)]\n",
    "\n"
   ]
  },
  {
   "cell_type": "code",
   "execution_count": 28,
   "id": "a93dd1d3",
   "metadata": {},
   "outputs": [],
   "source": [
    "def make_test_df(train_df):\n",
    "    #print(train_df)\n",
    "    species_sites = train_df['site_id'].unique()\n",
    "        \n",
    "    #print(species_sites)\n",
    "    \n",
    "    site_ripenesses = []\n",
    "\n",
    "    for site in species_sites:\n",
    "        site_df = train_df[train_df['site_id'] == site]\n",
    "\n",
    "        site_ripenesses.append({\n",
    "            'site_id': site,\n",
    "            'doy': np.mean(site_df['doy'])\n",
    "        })\n",
    "\n",
    "    species_test_df = pd.DataFrame(site_ripenesses)\n",
    "    species_test_df['year'] = high_cutoff_year\n",
    "    \n",
    "    return species_test_df\n",
    "\n",
    "Model = utils.load_model('ThermalTime')\n",
    "\n",
    "def test_model(test_observations, test_predictors, model):\n",
    "    print(\"making predictions\") \n",
    "    preds = model.predict(test_observations, test_predictors)\n",
    "\n",
    "    #print(preds)\n",
    "    test_days = test_observations.doy.values\n",
    "    #print(test_days)\n",
    "\n",
    "    # score model\n",
    "    model_aic = aic(obs = test_days,\n",
    "                    pred=preds,\n",
    "                    n_param = len(model.get_params()))\n",
    "    \n",
    "    # todo: implement MAE/RMSE/median error here.\n",
    "    model_mae = mae(test_days, preds)\n",
    "    model_rmse = rmse(test_days, preds)\n",
    "    median_error = np.median(np.abs(test_days - preds))\n",
    "\n",
    "    print('model got a MAE of {a}'.format(a=model_mae))\n",
    "    print('model got an RMSE of {a}'.format(a=model_rmse))\n",
    "    print('model median error is: {a}'.format(a=median_error))\n",
    "\n",
    "    print(\"Ripeness Day: {}\".format(np.mean(preds)))\n",
    "    \n",
    "    ripeness_data = test_observations\n",
    "    ripeness_data['ripeness_day'] = preds\n",
    "    \n",
    "    return ripeness_data"
   ]
  },
  {
   "cell_type": "code",
   "execution_count": 29,
   "id": "acc64a8b",
   "metadata": {
    "scrolled": true
   },
   "outputs": [
    {
     "name": "stderr",
     "output_type": "stream",
     "text": [
      "\r",
      "  0%|                                                                                                                                                                              | 0/17 [00:00<?, ?it/s]"
     ]
    },
    {
     "name": "stdout",
     "output_type": "stream",
     "text": [
      "Rubus\n"
     ]
    },
    {
     "name": "stderr",
     "output_type": "stream",
     "text": [
      "\r",
      "  6%|█████████▊                                                                                                                                                            | 1/17 [00:04<01:07,  4.21s/it]"
     ]
    },
    {
     "name": "stdout",
     "output_type": "stream",
     "text": [
      "Ficus\n"
     ]
    },
    {
     "name": "stderr",
     "output_type": "stream",
     "text": [
      "\r",
      " 12%|███████████████████▌                                                                                                                                                  | 2/17 [00:06<00:47,  3.17s/it]"
     ]
    },
    {
     "name": "stdout",
     "output_type": "stream",
     "text": [
      "Olea\n"
     ]
    },
    {
     "name": "stderr",
     "output_type": "stream",
     "text": [
      "\r",
      " 18%|█████████████████████████████▎                                                                                                                                        | 3/17 [00:08<00:37,  2.66s/it]"
     ]
    },
    {
     "name": "stdout",
     "output_type": "stream",
     "text": [
      "Morus\n"
     ]
    },
    {
     "name": "stderr",
     "output_type": "stream",
     "text": [
      "\r",
      " 24%|███████████████████████████████████████                                                                                                                               | 4/17 [00:12<00:41,  3.22s/it]"
     ]
    },
    {
     "name": "stdout",
     "output_type": "stream",
     "text": [
      "Amelanchier\n"
     ]
    },
    {
     "name": "stderr",
     "output_type": "stream",
     "text": [
      "\r",
      " 29%|████████████████████████████████████████████████▊                                                                                                                     | 5/17 [00:16<00:42,  3.57s/it]"
     ]
    },
    {
     "name": "stdout",
     "output_type": "stream",
     "text": [
      "Citrus\n"
     ]
    },
    {
     "name": "stderr",
     "output_type": "stream",
     "text": [
      "\r",
      " 35%|██████████████████████████████████████████████████████████▌                                                                                                           | 6/17 [00:19<00:34,  3.13s/it]"
     ]
    },
    {
     "name": "stdout",
     "output_type": "stream",
     "text": [
      "Prunus\n"
     ]
    },
    {
     "name": "stderr",
     "output_type": "stream",
     "text": [
      "\r",
      " 41%|████████████████████████████████████████████████████████████████████▎                                                                                                 | 7/17 [00:30<00:59,  5.94s/it]"
     ]
    },
    {
     "name": "stdout",
     "output_type": "stream",
     "text": [
      "Eriobotrya\n"
     ]
    },
    {
     "name": "stderr",
     "output_type": "stream",
     "text": [
      "\r",
      " 47%|██████████████████████████████████████████████████████████████████████████████                                                                                        | 8/17 [00:35<00:48,  5.34s/it]"
     ]
    },
    {
     "name": "stdout",
     "output_type": "stream",
     "text": [
      "Malus\n"
     ]
    },
    {
     "name": "stderr",
     "output_type": "stream",
     "text": [
      "\r",
      " 53%|███████████████████████████████████████████████████████████████████████████████████████▉                                                                              | 9/17 [00:47<01:01,  7.66s/it]"
     ]
    },
    {
     "name": "stdout",
     "output_type": "stream",
     "text": [
      "Rosmarinus\n"
     ]
    },
    {
     "name": "stderr",
     "output_type": "stream",
     "text": [
      "\r",
      " 59%|█████████████████████████████████████████████████████████████████████████████████████████████████                                                                    | 10/17 [00:50<00:42,  6.08s/it]"
     ]
    },
    {
     "name": "stdout",
     "output_type": "stream",
     "text": [
      "Juglans\n"
     ]
    },
    {
     "name": "stderr",
     "output_type": "stream",
     "text": [
      "\r",
      " 65%|██████████████████████████████████████████████████████████████████████████████████████████████████████████▊                                                          | 11/17 [00:52<00:30,  5.03s/it]"
     ]
    },
    {
     "name": "stdout",
     "output_type": "stream",
     "text": [
      "Cornus\n"
     ]
    },
    {
     "name": "stderr",
     "output_type": "stream",
     "text": [
      "\r",
      " 71%|████████████████████████████████████████████████████████████████████████████████████████████████████████████████████▍                                                | 12/17 [00:55<00:21,  4.38s/it]"
     ]
    },
    {
     "name": "stdout",
     "output_type": "stream",
     "text": [
      "Ehretia\n"
     ]
    },
    {
     "name": "stderr",
     "output_type": "stream",
     "text": [
      "\r",
      " 76%|██████████████████████████████████████████████████████████████████████████████████████████████████████████████████████████████▏                                      | 13/17 [00:59<00:16,  4.02s/it]"
     ]
    },
    {
     "name": "stdout",
     "output_type": "stream",
     "text": [
      "Elaeagnus\n"
     ]
    },
    {
     "name": "stderr",
     "output_type": "stream",
     "text": [
      "\r",
      " 82%|███████████████████████████████████████████████████████████████████████████████████████████████████████████████████████████████████████▉                             | 14/17 [01:01<00:10,  3.59s/it]"
     ]
    },
    {
     "name": "stdout",
     "output_type": "stream",
     "text": [
      "Eugenia\n"
     ]
    },
    {
     "name": "stderr",
     "output_type": "stream",
     "text": [
      "\r",
      " 88%|█████████████████████████████████████████████████████████████████████████████████████████████████████████████████████████████████████████████████▌                   | 15/17 [01:05<00:07,  3.63s/it]"
     ]
    },
    {
     "name": "stdout",
     "output_type": "stream",
     "text": [
      "Diospyros\n"
     ]
    },
    {
     "name": "stderr",
     "output_type": "stream",
     "text": [
      "\r",
      " 94%|███████████████████████████████████████████████████████████████████████████████████████████████████████████████████████████████████████████████████████████▎         | 16/17 [01:08<00:03,  3.55s/it]"
     ]
    },
    {
     "name": "stdout",
     "output_type": "stream",
     "text": [
      "Pyrus\n"
     ]
    },
    {
     "name": "stderr",
     "output_type": "stream",
     "text": [
      "100%|█████████████████████████████████████████████████████████████████████████████████████████████████████████████████████████████████████████████████████████████████████| 17/17 [01:14<00:00,  4.40s/it]\n",
      "  0%|                                                                                                                                                                              | 0/97 [00:00<?, ?it/s]"
     ]
    },
    {
     "name": "stdout",
     "output_type": "stream",
     "text": [
      "Rubus\n"
     ]
    },
    {
     "name": "stderr",
     "output_type": "stream",
     "text": [
      "\r",
      "  1%|█▋                                                                                                                                                                    | 1/97 [00:02<04:46,  2.98s/it]"
     ]
    },
    {
     "name": "stdout",
     "output_type": "stream",
     "text": [
      "Rubus occidentalis\n"
     ]
    },
    {
     "name": "stderr",
     "output_type": "stream",
     "text": [
      "\r",
      "  2%|███▍                                                                                                                                                                  | 2/97 [00:07<05:59,  3.78s/it]"
     ]
    },
    {
     "name": "stdout",
     "output_type": "stream",
     "text": [
      "Ficus\n"
     ]
    },
    {
     "name": "stderr",
     "output_type": "stream",
     "text": [
      "\r",
      "  3%|█████▏                                                                                                                                                                | 3/97 [00:09<04:52,  3.11s/it]"
     ]
    },
    {
     "name": "stdout",
     "output_type": "stream",
     "text": [
      "Ficus auriculata\n"
     ]
    },
    {
     "name": "stderr",
     "output_type": "stream",
     "text": [
      "\r",
      "  4%|██████▊                                                                                                                                                               | 4/97 [00:12<04:31,  2.92s/it]"
     ]
    },
    {
     "name": "stdout",
     "output_type": "stream",
     "text": [
      "Ficus carica\n"
     ]
    },
    {
     "name": "stderr",
     "output_type": "stream",
     "text": [
      "\r",
      "  5%|████████▌                                                                                                                                                             | 5/97 [00:15<04:31,  2.95s/it]"
     ]
    },
    {
     "name": "stdout",
     "output_type": "stream",
     "text": [
      "Ficus citrifolia\n"
     ]
    },
    {
     "name": "stderr",
     "output_type": "stream",
     "text": [
      "\r",
      "  6%|██████████▎                                                                                                                                                           | 6/97 [00:20<05:36,  3.70s/it]"
     ]
    },
    {
     "name": "stdout",
     "output_type": "stream",
     "text": [
      "Ficus macrophylla\n"
     ]
    },
    {
     "name": "stderr",
     "output_type": "stream",
     "text": [
      "\r",
      "  7%|███████████▉                                                                                                                                                          | 7/97 [00:22<04:55,  3.28s/it]"
     ]
    },
    {
     "name": "stdout",
     "output_type": "stream",
     "text": [
      "Ficus sycomorus\n"
     ]
    },
    {
     "name": "stderr",
     "output_type": "stream",
     "text": [
      "\r",
      "  8%|█████████████▋                                                                                                                                                        | 8/97 [01:09<25:20, 17.08s/it]"
     ]
    },
    {
     "name": "stdout",
     "output_type": "stream",
     "text": [
      "Olea europaea\n"
     ]
    },
    {
     "name": "stderr",
     "output_type": "stream",
     "text": [
      "\r",
      "  9%|███████████████▍                                                                                                                                                      | 9/97 [01:11<18:16, 12.46s/it]"
     ]
    },
    {
     "name": "stdout",
     "output_type": "stream",
     "text": [
      "Olea europea\n"
     ]
    },
    {
     "name": "stderr",
     "output_type": "stream",
     "text": [
      "\r",
      " 10%|█████████████████                                                                                                                                                    | 10/97 [01:15<14:03,  9.70s/it]"
     ]
    },
    {
     "name": "stdout",
     "output_type": "stream",
     "text": [
      "Olea\n"
     ]
    },
    {
     "name": "stderr",
     "output_type": "stream",
     "text": [
      "\r",
      " 11%|██████████████████▋                                                                                                                                                  | 11/97 [01:18<11:05,  7.74s/it]"
     ]
    },
    {
     "name": "stdout",
     "output_type": "stream",
     "text": [
      "Morus rubra\n"
     ]
    },
    {
     "name": "stderr",
     "output_type": "stream",
     "text": [
      "\r",
      " 12%|████████████████████▍                                                                                                                                                | 12/97 [01:21<09:00,  6.35s/it]"
     ]
    },
    {
     "name": "stdout",
     "output_type": "stream",
     "text": [
      "Morus\n"
     ]
    },
    {
     "name": "stderr",
     "output_type": "stream",
     "text": [
      "\r",
      " 13%|██████████████████████                                                                                                                                               | 13/97 [01:24<07:11,  5.13s/it]"
     ]
    },
    {
     "name": "stdout",
     "output_type": "stream",
     "text": [
      "Morus alba\n"
     ]
    },
    {
     "name": "stderr",
     "output_type": "stream",
     "text": [
      "\r",
      " 14%|███████████████████████▊                                                                                                                                             | 14/97 [01:27<06:22,  4.61s/it]"
     ]
    },
    {
     "name": "stdout",
     "output_type": "stream",
     "text": [
      "Morus nigra\n"
     ]
    },
    {
     "name": "stderr",
     "output_type": "stream",
     "text": [
      "\r",
      " 15%|█████████████████████████▌                                                                                                                                           | 15/97 [01:30<05:47,  4.24s/it]"
     ]
    },
    {
     "name": "stdout",
     "output_type": "stream",
     "text": [
      "Morus macroura\n"
     ]
    },
    {
     "name": "stderr",
     "output_type": "stream",
     "text": [
      "\r",
      " 16%|███████████████████████████▏                                                                                                                                         | 16/97 [01:33<05:13,  3.87s/it]"
     ]
    },
    {
     "name": "stdout",
     "output_type": "stream",
     "text": [
      "Morus australis\n"
     ]
    },
    {
     "name": "stderr",
     "output_type": "stream",
     "text": [
      "\r",
      " 18%|████████████████████████████▉                                                                                                                                        | 17/97 [01:36<04:29,  3.36s/it]"
     ]
    },
    {
     "name": "stdout",
     "output_type": "stream",
     "text": [
      "Amelanchier alnifolia\n"
     ]
    },
    {
     "name": "stderr",
     "output_type": "stream",
     "text": [
      "\r",
      " 19%|██████████████████████████████▌                                                                                                                                      | 18/97 [01:38<04:09,  3.16s/it]"
     ]
    },
    {
     "name": "stdout",
     "output_type": "stream",
     "text": [
      "Amelanchier arborea\n"
     ]
    },
    {
     "name": "stderr",
     "output_type": "stream",
     "text": [
      "\r",
      " 20%|████████████████████████████████▎                                                                                                                                    | 19/97 [01:41<04:03,  3.12s/it]"
     ]
    },
    {
     "name": "stdout",
     "output_type": "stream",
     "text": [
      "Amelanchier canadensis\n"
     ]
    },
    {
     "name": "stderr",
     "output_type": "stream",
     "text": [
      "\r",
      " 21%|██████████████████████████████████                                                                                                                                   | 20/97 [01:44<04:01,  3.14s/it]"
     ]
    },
    {
     "name": "stdout",
     "output_type": "stream",
     "text": [
      "Amelanchier grandiflora\n"
     ]
    },
    {
     "name": "stderr",
     "output_type": "stream",
     "text": [
      "\r",
      " 22%|███████████████████████████████████▋                                                                                                                                 | 21/97 [01:48<03:56,  3.11s/it]"
     ]
    },
    {
     "name": "stdout",
     "output_type": "stream",
     "text": [
      "Amelanchier laevis\n"
     ]
    },
    {
     "name": "stderr",
     "output_type": "stream",
     "text": [
      "\r",
      " 23%|█████████████████████████████████████▍                                                                                                                               | 22/97 [01:50<03:38,  2.92s/it]"
     ]
    },
    {
     "name": "stdout",
     "output_type": "stream",
     "text": [
      "Amelanchier utahensis\n"
     ]
    },
    {
     "name": "stderr",
     "output_type": "stream",
     "text": [
      "\r",
      " 24%|███████████████████████████████████████                                                                                                                              | 23/97 [01:53<03:38,  2.95s/it]"
     ]
    },
    {
     "name": "stdout",
     "output_type": "stream",
     "text": [
      "Amelanchier\n"
     ]
    },
    {
     "name": "stderr",
     "output_type": "stream",
     "text": [
      "\r",
      " 25%|████████████████████████████████████████▊                                                                                                                            | 24/97 [01:56<03:39,  3.01s/it]"
     ]
    },
    {
     "name": "stdout",
     "output_type": "stream",
     "text": [
      "Citrus\n"
     ]
    },
    {
     "name": "stderr",
     "output_type": "stream",
     "text": [
      "\r",
      " 26%|██████████████████████████████████████████▌                                                                                                                          | 25/97 [01:58<03:20,  2.79s/it]"
     ]
    },
    {
     "name": "stdout",
     "output_type": "stream",
     "text": [
      "Citrus jambhiri\n"
     ]
    },
    {
     "name": "stderr",
     "output_type": "stream",
     "text": [
      "\r",
      " 27%|████████████████████████████████████████████▏                                                                                                                        | 26/97 [02:01<03:08,  2.66s/it]"
     ]
    },
    {
     "name": "stdout",
     "output_type": "stream",
     "text": [
      "Citrus limon\n"
     ]
    },
    {
     "name": "stderr",
     "output_type": "stream",
     "text": [
      "\r",
      " 28%|█████████████████████████████████████████████▉                                                                                                                       | 27/97 [02:05<03:33,  3.05s/it]"
     ]
    },
    {
     "name": "stdout",
     "output_type": "stream",
     "text": [
      "Rubus idaeus\n"
     ]
    },
    {
     "name": "stderr",
     "output_type": "stream",
     "text": [
      "\r",
      " 29%|███████████████████████████████████████████████▋                                                                                                                     | 28/97 [02:08<03:33,  3.10s/it]"
     ]
    },
    {
     "name": "stdout",
     "output_type": "stream",
     "text": [
      "Rubus ellipticus\n"
     ]
    },
    {
     "name": "stderr",
     "output_type": "stream",
     "text": [
      "\r",
      " 30%|█████████████████████████████████████████████████▎                                                                                                                   | 29/97 [02:30<09:48,  8.66s/it]"
     ]
    },
    {
     "name": "stdout",
     "output_type": "stream",
     "text": [
      "Rubus hayata\n"
     ]
    },
    {
     "name": "stderr",
     "output_type": "stream",
     "text": [
      "\r",
      " 31%|███████████████████████████████████████████████████                                                                                                                  | 30/97 [02:32<07:34,  6.78s/it]"
     ]
    },
    {
     "name": "stdout",
     "output_type": "stream",
     "text": [
      "Rubus odoratus\n"
     ]
    },
    {
     "name": "stderr",
     "output_type": "stream",
     "text": [
      "\r",
      " 32%|████████████████████████████████████████████████████▋                                                                                                                | 31/97 [02:54<12:22, 11.25s/it]"
     ]
    },
    {
     "name": "stdout",
     "output_type": "stream",
     "text": [
      "Rubus phoenicolasius\n"
     ]
    },
    {
     "name": "stderr",
     "output_type": "stream",
     "text": [
      "\r",
      " 33%|██████████████████████████████████████████████████████▍                                                                                                              | 32/97 [02:56<09:17,  8.57s/it]"
     ]
    },
    {
     "name": "stdout",
     "output_type": "stream",
     "text": [
      "Rubus rolfei\n"
     ]
    },
    {
     "name": "stderr",
     "output_type": "stream",
     "text": [
      "\r",
      " 34%|████████████████████████████████████████████████████████▏                                                                                                            | 33/97 [02:58<07:09,  6.70s/it]"
     ]
    },
    {
     "name": "stdout",
     "output_type": "stream",
     "text": [
      "Citrus aurantium\n"
     ]
    },
    {
     "name": "stderr",
     "output_type": "stream",
     "text": [
      "\r",
      " 35%|█████████████████████████████████████████████████████████▊                                                                                                           | 34/97 [03:01<05:40,  5.40s/it]"
     ]
    },
    {
     "name": "stdout",
     "output_type": "stream",
     "text": [
      "Citrus sinensis\n"
     ]
    },
    {
     "name": "stderr",
     "output_type": "stream",
     "text": [
      "\r",
      " 36%|███████████████████████████████████████████████████████████▌                                                                                                         | 35/97 [03:05<05:21,  5.19s/it]"
     ]
    },
    {
     "name": "stdout",
     "output_type": "stream",
     "text": [
      "Prunus americana\n"
     ]
    },
    {
     "name": "stderr",
     "output_type": "stream",
     "text": [
      "\r",
      " 37%|█████████████████████████████████████████████████████████████▏                                                                                                       | 36/97 [03:09<04:40,  4.60s/it]"
     ]
    },
    {
     "name": "stdout",
     "output_type": "stream",
     "text": [
      "Prunus domestica\n"
     ]
    },
    {
     "name": "stderr",
     "output_type": "stream",
     "text": [
      "\r",
      " 38%|██████████████████████████████████████████████████████████████▉                                                                                                      | 37/97 [03:11<03:59,  4.00s/it]"
     ]
    },
    {
     "name": "stdout",
     "output_type": "stream",
     "text": [
      "Prunus maritima\n"
     ]
    },
    {
     "name": "stderr",
     "output_type": "stream",
     "text": [
      "\r",
      " 39%|████████████████████████████████████████████████████████████████▋                                                                                                    | 38/97 [03:14<03:34,  3.64s/it]"
     ]
    },
    {
     "name": "stdout",
     "output_type": "stream",
     "text": [
      "Prunus nigra\n"
     ]
    },
    {
     "name": "stderr",
     "output_type": "stream",
     "text": [
      "\r",
      " 40%|██████████████████████████████████████████████████████████████████▎                                                                                                  | 39/97 [03:19<04:01,  4.16s/it]"
     ]
    },
    {
     "name": "stdout",
     "output_type": "stream",
     "text": [
      "Prunus cerasifera\n"
     ]
    },
    {
     "name": "stderr",
     "output_type": "stream",
     "text": [
      "\r",
      " 41%|████████████████████████████████████████████████████████████████████                                                                                                 | 40/97 [03:22<03:33,  3.74s/it]"
     ]
    },
    {
     "name": "stdout",
     "output_type": "stream",
     "text": [
      "Prunus\n"
     ]
    },
    {
     "name": "stderr",
     "output_type": "stream",
     "text": [
      "\r",
      " 42%|█████████████████████████████████████████████████████████████████████▋                                                                                               | 41/97 [03:25<03:07,  3.35s/it]"
     ]
    },
    {
     "name": "stdout",
     "output_type": "stream",
     "text": [
      "Prunus angustifolia\n"
     ]
    },
    {
     "name": "stderr",
     "output_type": "stream",
     "text": [
      "\r",
      " 43%|███████████████████████████████████████████████████████████████████████▍                                                                                             | 42/97 [03:27<02:53,  3.15s/it]"
     ]
    },
    {
     "name": "stdout",
     "output_type": "stream",
     "text": [
      "Prunus cocomilia\n"
     ]
    },
    {
     "name": "stderr",
     "output_type": "stream",
     "text": [
      "\r",
      " 44%|█████████████████████████████████████████████████████████████████████████▏                                                                                           | 43/97 [03:30<02:39,  2.95s/it]"
     ]
    },
    {
     "name": "stdout",
     "output_type": "stream",
     "text": [
      "Prunus salicina\n"
     ]
    },
    {
     "name": "stderr",
     "output_type": "stream",
     "text": [
      "\r",
      " 45%|██████████████████████████████████████████████████████████████████████████▊                                                                                          | 44/97 [03:33<02:39,  3.02s/it]"
     ]
    },
    {
     "name": "stdout",
     "output_type": "stream",
     "text": [
      "Prunus subcordata\n"
     ]
    },
    {
     "name": "stderr",
     "output_type": "stream",
     "text": [
      "\r",
      " 46%|████████████████████████████████████████████████████████████████████████████▌                                                                                        | 45/97 [03:35<02:29,  2.87s/it]"
     ]
    },
    {
     "name": "stdout",
     "output_type": "stream",
     "text": [
      "Prunus mexicana\n"
     ]
    },
    {
     "name": "stderr",
     "output_type": "stream",
     "text": [
      "\r",
      " 47%|██████████████████████████████████████████████████████████████████████████████▏                                                                                      | 46/97 [03:39<02:29,  2.94s/it]"
     ]
    },
    {
     "name": "stdout",
     "output_type": "stream",
     "text": [
      "Prunus rivularis\n"
     ]
    },
    {
     "name": "stderr",
     "output_type": "stream",
     "text": [
      "\r",
      " 48%|███████████████████████████████████████████████████████████████████████████████▉                                                                                     | 47/97 [03:41<02:18,  2.78s/it]"
     ]
    },
    {
     "name": "stdout",
     "output_type": "stream",
     "text": [
      "Eriobotrya japonica\n"
     ]
    },
    {
     "name": "stderr",
     "output_type": "stream",
     "text": [
      "\r",
      " 49%|█████████████████████████████████████████████████████████████████████████████████▋                                                                                   | 48/97 [03:45<02:40,  3.28s/it]"
     ]
    },
    {
     "name": "stdout",
     "output_type": "stream",
     "text": [
      "Malus sieboldii\n"
     ]
    },
    {
     "name": "stderr",
     "output_type": "stream",
     "text": [
      "\r",
      " 51%|███████████████████████████████████████████████████████████████████████████████████▎                                                                                 | 49/97 [03:49<02:41,  3.37s/it]"
     ]
    },
    {
     "name": "stdout",
     "output_type": "stream",
     "text": [
      "Malus\n"
     ]
    },
    {
     "name": "stderr",
     "output_type": "stream",
     "text": [
      "\r",
      " 52%|█████████████████████████████████████████████████████████████████████████████████████                                                                                | 50/97 [03:55<03:11,  4.07s/it]"
     ]
    },
    {
     "name": "stdout",
     "output_type": "stream",
     "text": [
      "Malus pumila\n"
     ]
    },
    {
     "name": "stderr",
     "output_type": "stream",
     "text": [
      "\r",
      " 53%|██████████████████████████████████████████████████████████████████████████████████████▊                                                                              | 51/97 [03:59<03:06,  4.06s/it]"
     ]
    },
    {
     "name": "stdout",
     "output_type": "stream",
     "text": [
      "Malus domestica\n"
     ]
    },
    {
     "name": "stderr",
     "output_type": "stream",
     "text": [
      "\r",
      " 54%|████████████████████████████████████████████████████████████████████████████████████████▍                                                                            | 52/97 [04:15<05:51,  7.80s/it]"
     ]
    },
    {
     "name": "stdout",
     "output_type": "stream",
     "text": [
      "Malus sylvestris\n"
     ]
    },
    {
     "name": "stderr",
     "output_type": "stream",
     "text": [
      "\r",
      " 55%|██████████████████████████████████████████████████████████████████████████████████████████▏                                                                          | 53/97 [04:18<04:31,  6.17s/it]"
     ]
    },
    {
     "name": "stdout",
     "output_type": "stream",
     "text": [
      "Malus coronaria\n"
     ]
    },
    {
     "name": "stderr",
     "output_type": "stream",
     "text": [
      "\r",
      " 56%|███████████████████████████████████████████████████████████████████████████████████████████▊                                                                         | 54/97 [04:20<03:35,  5.01s/it]"
     ]
    },
    {
     "name": "stdout",
     "output_type": "stream",
     "text": [
      "Malus '\n"
     ]
    },
    {
     "name": "stderr",
     "output_type": "stream",
     "text": [
      "\r",
      " 57%|█████████████████████████████████████████████████████████████████████████████████████████████▌                                                                       | 55/97 [04:22<02:54,  4.16s/it]"
     ]
    },
    {
     "name": "stdout",
     "output_type": "stream",
     "text": [
      "Malus sieversii\n"
     ]
    },
    {
     "name": "stderr",
     "output_type": "stream",
     "text": [
      "\r",
      " 58%|███████████████████████████████████████████████████████████████████████████████████████████████▎                                                                     | 56/97 [04:26<02:44,  4.00s/it]"
     ]
    },
    {
     "name": "stdout",
     "output_type": "stream",
     "text": [
      "Malus baccata\n"
     ]
    },
    {
     "name": "stderr",
     "output_type": "stream",
     "text": [
      "\r",
      " 59%|████████████████████████████████████████████████████████████████████████████████████████████████▉                                                                    | 57/97 [04:28<02:21,  3.54s/it]"
     ]
    },
    {
     "name": "stdout",
     "output_type": "stream",
     "text": [
      "Malus ioensis\n"
     ]
    },
    {
     "name": "stderr",
     "output_type": "stream",
     "text": [
      "\r",
      " 60%|██████████████████████████████████████████████████████████████████████████████████████████████████▋                                                                  | 58/97 [04:31<02:10,  3.34s/it]"
     ]
    },
    {
     "name": "stdout",
     "output_type": "stream",
     "text": [
      "Malus hupehensis\n"
     ]
    },
    {
     "name": "stderr",
     "output_type": "stream",
     "text": [
      "\r",
      " 61%|████████████████████████████████████████████████████████████████████████████████████████████████████▎                                                                | 59/97 [04:34<02:04,  3.28s/it]"
     ]
    },
    {
     "name": "stdout",
     "output_type": "stream",
     "text": [
      "Malus tschonoskii\n"
     ]
    },
    {
     "name": "stderr",
     "output_type": "stream",
     "text": [
      "\r",
      " 62%|██████████████████████████████████████████████████████████████████████████████████████████████████████                                                               | 60/97 [04:37<01:58,  3.20s/it]"
     ]
    },
    {
     "name": "stdout",
     "output_type": "stream",
     "text": [
      "Malus fusca\n"
     ]
    },
    {
     "name": "stderr",
     "output_type": "stream",
     "text": [
      "\r",
      " 63%|███████████████████████████████████████████████████████████████████████████████████████████████████████▊                                                             | 61/97 [05:11<07:26, 12.39s/it]"
     ]
    },
    {
     "name": "stdout",
     "output_type": "stream",
     "text": [
      "Malus angustifolia\n"
     ]
    },
    {
     "name": "stderr",
     "output_type": "stream",
     "text": [
      "\r",
      " 64%|█████████████████████████████████████████████████████████████████████████████████████████████████████████▍                                                           | 62/97 [05:14<05:30,  9.45s/it]"
     ]
    },
    {
     "name": "stdout",
     "output_type": "stream",
     "text": [
      "Rosmarinus officinalis\n"
     ]
    },
    {
     "name": "stderr",
     "output_type": "stream",
     "text": [
      "\r",
      " 65%|███████████████████████████████████████████████████████████████████████████████████████████████████████████▏                                                         | 63/97 [05:16<04:07,  7.29s/it]"
     ]
    },
    {
     "name": "stdout",
     "output_type": "stream",
     "text": [
      "Juglans\n"
     ]
    },
    {
     "name": "stderr",
     "output_type": "stream",
     "text": [
      "\r",
      " 66%|████████████████████████████████████████████████████████████████████████████████████████████████████████████▊                                                        | 64/97 [05:18<03:12,  5.84s/it]"
     ]
    },
    {
     "name": "stdout",
     "output_type": "stream",
     "text": [
      "Juglans regia\n"
     ]
    },
    {
     "name": "stderr",
     "output_type": "stream",
     "text": [
      "\r",
      " 67%|██████████████████████████████████████████████████████████████████████████████████████████████████████████████▌                                                      | 65/97 [05:21<02:33,  4.78s/it]"
     ]
    },
    {
     "name": "stdout",
     "output_type": "stream",
     "text": [
      "Juglans cinerea\n"
     ]
    },
    {
     "name": "stderr",
     "output_type": "stream",
     "text": [
      "\r",
      " 68%|████████████████████████████████████████████████████████████████████████████████████████████████████████████████▎                                                    | 66/97 [05:23<02:04,  4.01s/it]"
     ]
    },
    {
     "name": "stdout",
     "output_type": "stream",
     "text": [
      "Juglans hindsii\n"
     ]
    },
    {
     "name": "stderr",
     "output_type": "stream",
     "text": [
      "\r",
      " 69%|█████████████████████████████████████████████████████████████████████████████████████████████████████████████████▉                                                   | 67/97 [05:25<01:46,  3.54s/it]"
     ]
    },
    {
     "name": "stdout",
     "output_type": "stream",
     "text": [
      "Juglans major\n"
     ]
    },
    {
     "name": "stderr",
     "output_type": "stream",
     "text": [
      "\r",
      " 70%|███████████████████████████████████████████████████████████████████████████████████████████████████████████████████▋                                                 | 68/97 [05:28<01:35,  3.28s/it]"
     ]
    },
    {
     "name": "stdout",
     "output_type": "stream",
     "text": [
      "Juglans nigra\n"
     ]
    },
    {
     "name": "stderr",
     "output_type": "stream",
     "text": [
      "\r",
      " 71%|█████████████████████████████████████████████████████████████████████████████████████████████████████████████████████▎                                               | 69/97 [05:31<01:25,  3.06s/it]"
     ]
    },
    {
     "name": "stdout",
     "output_type": "stream",
     "text": [
      "Prunus serotina\n"
     ]
    },
    {
     "name": "stderr",
     "output_type": "stream",
     "text": [
      "\r",
      " 72%|███████████████████████████████████████████████████████████████████████████████████████████████████████████████████████                                              | 70/97 [05:33<01:17,  2.85s/it]"
     ]
    },
    {
     "name": "stdout",
     "output_type": "stream",
     "text": [
      "Prunus virginiana\n"
     ]
    },
    {
     "name": "stderr",
     "output_type": "stream",
     "text": [
      "\r",
      " 73%|████████████████████████████████████████████████████████████████████████████████████████████████████████████████████████▊                                            | 71/97 [05:35<01:09,  2.65s/it]"
     ]
    },
    {
     "name": "stdout",
     "output_type": "stream",
     "text": [
      "Prunus yedoensis\n"
     ]
    },
    {
     "name": "stderr",
     "output_type": "stream",
     "text": [
      "\r",
      " 74%|██████████████████████████████████████████████████████████████████████████████████████████████████████████████████████████▍                                          | 72/97 [05:38<01:11,  2.86s/it]"
     ]
    },
    {
     "name": "stdout",
     "output_type": "stream",
     "text": [
      "Prunus ilicifolia\n"
     ]
    },
    {
     "name": "stderr",
     "output_type": "stream",
     "text": [
      "\r",
      " 75%|████████████████████████████████████████████████████████████████████████████████████████████████████████████████████████████▏                                        | 73/97 [05:41<01:04,  2.70s/it]"
     ]
    },
    {
     "name": "stdout",
     "output_type": "stream",
     "text": [
      "Prunus cerasus\n"
     ]
    },
    {
     "name": "stderr",
     "output_type": "stream",
     "text": [
      "\r",
      " 76%|█████████████████████████████████████████████████████████████████████████████████████████████████████████████████████████████▉                                       | 74/97 [05:46<01:17,  3.37s/it]"
     ]
    },
    {
     "name": "stdout",
     "output_type": "stream",
     "text": [
      "Prunus emarginata\n"
     ]
    },
    {
     "name": "stderr",
     "output_type": "stream",
     "text": [
      "\r",
      " 77%|███████████████████████████████████████████████████████████████████████████████████████████████████████████████████████████████▌                                     | 75/97 [05:49<01:11,  3.26s/it]"
     ]
    },
    {
     "name": "stdout",
     "output_type": "stream",
     "text": [
      "Prunus pensylvanica\n"
     ]
    },
    {
     "name": "stderr",
     "output_type": "stream",
     "text": [
      "\r",
      " 78%|█████████████████████████████████████████████████████████████████████████████████████████████████████████████████████████████████▎                                   | 76/97 [05:52<01:06,  3.15s/it]"
     ]
    },
    {
     "name": "stdout",
     "output_type": "stream",
     "text": [
      "Prunus laurocerasus\n"
     ]
    },
    {
     "name": "stderr",
     "output_type": "stream",
     "text": [
      "\r",
      " 79%|██████████████████████████████████████████████████████████████████████████████████████████████████████████████████████████████████▉                                  | 77/97 [05:54<00:58,  2.92s/it]"
     ]
    },
    {
     "name": "stdout",
     "output_type": "stream",
     "text": [
      "Prunus serrulata\n"
     ]
    },
    {
     "name": "stderr",
     "output_type": "stream",
     "text": [
      "\r",
      " 80%|████████████████████████████████████████████████████████████████████████████████████████████████████████████████████████████████████▋                                | 78/97 [06:01<01:20,  4.26s/it]"
     ]
    },
    {
     "name": "stdout",
     "output_type": "stream",
     "text": [
      "Prunus avium\n"
     ]
    },
    {
     "name": "stderr",
     "output_type": "stream",
     "text": [
      "\r",
      " 81%|██████████████████████████████████████████████████████████████████████████████████████████████████████████████████████████████████████▍                              | 79/97 [06:22<02:44,  9.13s/it]"
     ]
    },
    {
     "name": "stdout",
     "output_type": "stream",
     "text": [
      "Cornus mas\n"
     ]
    },
    {
     "name": "stderr",
     "output_type": "stream",
     "text": [
      "\r",
      " 82%|████████████████████████████████████████████████████████████████████████████████████████████████████████████████████████████████████████                             | 80/97 [06:25<02:05,  7.37s/it]"
     ]
    },
    {
     "name": "stdout",
     "output_type": "stream",
     "text": [
      "Ehretia tinifolia\n"
     ]
    },
    {
     "name": "stderr",
     "output_type": "stream",
     "text": [
      "\r",
      " 84%|█████████████████████████████████████████████████████████████████████████████████████████████████████████████████████████████████████████▊                           | 81/97 [06:28<01:35,  5.94s/it]"
     ]
    },
    {
     "name": "stdout",
     "output_type": "stream",
     "text": [
      "Elaeagnus multiflora\n"
     ]
    },
    {
     "name": "stderr",
     "output_type": "stream",
     "text": [
      "\r",
      " 85%|███████████████████████████████████████████████████████████████████████████████████████████████████████████████████████████████████████████▍                         | 82/97 [06:30<01:13,  4.93s/it]"
     ]
    },
    {
     "name": "stdout",
     "output_type": "stream",
     "text": [
      "Eugenia brasiliensis\n"
     ]
    },
    {
     "name": "stderr",
     "output_type": "stream",
     "text": [
      "\r",
      " 86%|█████████████████████████████████████████████████████████████████████████████████████████████████████████████████████████████████████████████▏                       | 83/97 [06:33<00:57,  4.14s/it]"
     ]
    },
    {
     "name": "stdout",
     "output_type": "stream",
     "text": [
      "Prunus fruticosa\n"
     ]
    },
    {
     "name": "stderr",
     "output_type": "stream",
     "text": [
      "\r",
      " 87%|██████████████████████████████████████████████████████████████████████████████████████████████████████████████████████████████████████████████▉                      | 84/97 [06:35<00:46,  3.55s/it]"
     ]
    },
    {
     "name": "stdout",
     "output_type": "stream",
     "text": [
      "Prunus maackii\n"
     ]
    },
    {
     "name": "stderr",
     "output_type": "stream",
     "text": [
      "\r",
      " 88%|████████████████████████████████████████████████████████████████████████████████████████████████████████████████████████████████████████████████▌                    | 85/97 [06:37<00:38,  3.19s/it]"
     ]
    },
    {
     "name": "stdout",
     "output_type": "stream",
     "text": [
      "Prunus mahaleb\n"
     ]
    },
    {
     "name": "stderr",
     "output_type": "stream",
     "text": [
      "\r",
      " 89%|██████████████████████████████████████████████████████████████████████████████████████████████████████████████████████████████████████████████████▎                  | 86/97 [07:00<01:39,  9.01s/it]"
     ]
    },
    {
     "name": "stdout",
     "output_type": "stream",
     "text": [
      "Prunus padus\n"
     ]
    },
    {
     "name": "stderr",
     "output_type": "stream",
     "text": [
      "\r",
      " 90%|███████████████████████████████████████████████████████████████████████████████████████████████████████████████████████████████████████████████████▉                 | 87/97 [07:02<01:10,  7.10s/it]"
     ]
    },
    {
     "name": "stdout",
     "output_type": "stream",
     "text": [
      "Prunus subhirtella\n"
     ]
    },
    {
     "name": "stderr",
     "output_type": "stream",
     "text": [
      "\r",
      " 91%|█████████████████████████████████████████████████████████████████████████████████████████████████████████████████████████████████████████████████████▋               | 88/97 [07:45<02:40, 17.86s/it]"
     ]
    },
    {
     "name": "stdout",
     "output_type": "stream",
     "text": [
      "Prunus tomentosa\n"
     ]
    },
    {
     "name": "stderr",
     "output_type": "stream",
     "text": [
      "\r",
      " 92%|███████████████████████████████████████████████████████████████████████████████████████████████████████████████████████████████████████████████████████▍             | 89/97 [07:52<01:56, 14.53s/it]"
     ]
    },
    {
     "name": "stdout",
     "output_type": "stream",
     "text": [
      "Diospyros virginiana\n"
     ]
    },
    {
     "name": "stderr",
     "output_type": "stream",
     "text": [
      "\r",
      " 93%|█████████████████████████████████████████████████████████████████████████████████████████████████████████████████████████████████████████████████████████            | 90/97 [07:56<01:19, 11.42s/it]"
     ]
    },
    {
     "name": "stdout",
     "output_type": "stream",
     "text": [
      "Diospyros\n"
     ]
    },
    {
     "name": "stderr",
     "output_type": "stream",
     "text": [
      "\r",
      " 94%|██████████████████████████████████████████████████████████████████████████████████████████████████████████████████████████████████████████████████████████▊          | 91/97 [08:01<00:56,  9.50s/it]"
     ]
    },
    {
     "name": "stdout",
     "output_type": "stream",
     "text": [
      "Diospyros kaki\n"
     ]
    },
    {
     "name": "stderr",
     "output_type": "stream",
     "text": [
      "\r",
      " 95%|████████████████████████████████████████████████████████████████████████████████████████████████████████████████████████████████████████████████████████████▍        | 92/97 [08:05<00:39,  7.91s/it]"
     ]
    },
    {
     "name": "stdout",
     "output_type": "stream",
     "text": [
      "Pyrus communis\n"
     ]
    },
    {
     "name": "stderr",
     "output_type": "stream",
     "text": [
      "\r",
      " 96%|██████████████████████████████████████████████████████████████████████████████████████████████████████████████████████████████████████████████████████████████▏      | 93/97 [08:10<00:27,  6.84s/it]"
     ]
    },
    {
     "name": "stdout",
     "output_type": "stream",
     "text": [
      "Pyrus\n"
     ]
    },
    {
     "name": "stderr",
     "output_type": "stream",
     "text": [
      "\r",
      " 97%|███████████████████████████████████████████████████████████████████████████████████████████████████████████████████████████████████████████████████████████████▉     | 94/97 [08:12<00:16,  5.56s/it]"
     ]
    },
    {
     "name": "stdout",
     "output_type": "stream",
     "text": [
      "Pyrus amygdaliformis\n"
     ]
    },
    {
     "name": "stderr",
     "output_type": "stream",
     "text": [
      "\r",
      " 98%|█████████████████████████████████████████████████████████████████████████████████████████████████████████████████████████████████████████████████████████████████▌   | 95/97 [08:15<00:09,  4.63s/it]"
     ]
    },
    {
     "name": "stdout",
     "output_type": "stream",
     "text": [
      "Pyrus pyraster\n"
     ]
    },
    {
     "name": "stderr",
     "output_type": "stream",
     "text": [
      "\r",
      " 99%|███████████████████████████████████████████████████████████████████████████████████████████████████████████████████████████████████████████████████████████████████▎ | 96/97 [08:17<00:03,  3.93s/it]"
     ]
    },
    {
     "name": "stdout",
     "output_type": "stream",
     "text": [
      "Pyrus pyrifolia\n"
     ]
    },
    {
     "name": "stderr",
     "output_type": "stream",
     "text": [
      "100%|█████████████████████████████████████████████████████████████████████████████████████████████████████████████████████████████████████████████████████████████████████| 97/97 [08:19<00:00,  5.15s/it]\n"
     ]
    }
   ],
   "source": [
    "## Start by training genus models\n",
    "\n",
    "genus_model_dict = {}\n",
    "species_model_dict = {}\n",
    "\n",
    "for s in tqdm(filtered_plants['genus'].unique()):\n",
    "    print(s)\n",
    "    train_df = filtered_plants.query('genus == \"{}\" and year < {}'.format(s, high_cutoff_year))\n",
    "    \n",
    "    if len(species_train_df) == 0:\n",
    "        continue\n",
    "        \n",
    "    model = Model()\n",
    "\n",
    "    model.fit(train_df, weather_training, optimizer_params='practical')\n",
    "    \n",
    "    genus_model_dict[s] = model\n",
    "    \n",
    "## Train Species Models\n",
    "for s in tqdm(filtered_plants['formatted_sci_name'].unique()):\n",
    "    print(s)\n",
    "    train_df = filtered_plants.query('formatted_sci_name == \"{}\" and year < {}'.format(s, high_cutoff_year))\n",
    "    \n",
    "    if len(species_train_df) == 0:\n",
    "        continue\n",
    "        \n",
    "    model = Model()\n",
    "\n",
    "    model.fit(train_df, weather_training, optimizer_params='practical')\n",
    "    \n",
    "    species_model_dict[s] = model"
   ]
  },
  {
   "cell_type": "code",
   "execution_count": 30,
   "id": "dc07a7a2",
   "metadata": {
    "collapsed": true
   },
   "outputs": [
    {
     "name": "stdout",
     "output_type": "stream",
     "text": [
      "{'Rubus': <pyPhenology.models.thermaltime.ThermalTime object at 0x172c1e8d0>, 'Ficus': <pyPhenology.models.thermaltime.ThermalTime object at 0x172c8b790>, 'Olea': <pyPhenology.models.thermaltime.ThermalTime object at 0x172c43550>, 'Morus': <pyPhenology.models.thermaltime.ThermalTime object at 0x172c93010>, 'Amelanchier': <pyPhenology.models.thermaltime.ThermalTime object at 0x172aea110>, 'Citrus': <pyPhenology.models.thermaltime.ThermalTime object at 0x16d602150>, 'Prunus': <pyPhenology.models.thermaltime.ThermalTime object at 0x172d03550>, 'Eriobotrya': <pyPhenology.models.thermaltime.ThermalTime object at 0x172ce3010>, 'Malus': <pyPhenology.models.thermaltime.ThermalTime object at 0x172c840d0>, 'Rosmarinus': <pyPhenology.models.thermaltime.ThermalTime object at 0x172c1f210>, 'Juglans': <pyPhenology.models.thermaltime.ThermalTime object at 0x172c85490>, 'Cornus': <pyPhenology.models.thermaltime.ThermalTime object at 0x172c51910>, 'Ehretia': <pyPhenology.models.thermaltime.ThermalTime object at 0x172ce2650>, 'Elaeagnus': <pyPhenology.models.thermaltime.ThermalTime object at 0x16fa66390>, 'Eugenia': <pyPhenology.models.thermaltime.ThermalTime object at 0x172c4d990>, 'Diospyros': <pyPhenology.models.thermaltime.ThermalTime object at 0x172c42e90>, 'Pyrus': <pyPhenology.models.thermaltime.ThermalTime object at 0x172b59150>}\n",
      "{'Rubus': <pyPhenology.models.thermaltime.ThermalTime object at 0x16fe08710>, 'Rubus occidentalis': <pyPhenology.models.thermaltime.ThermalTime object at 0x172c2fd50>, 'Ficus': <pyPhenology.models.thermaltime.ThermalTime object at 0x1727ff7d0>, 'Ficus auriculata': <pyPhenology.models.thermaltime.ThermalTime object at 0x16e008350>, 'Ficus carica': <pyPhenology.models.thermaltime.ThermalTime object at 0x170e25010>, 'Ficus citrifolia': <pyPhenology.models.thermaltime.ThermalTime object at 0x172c68f50>, 'Ficus macrophylla': <pyPhenology.models.thermaltime.ThermalTime object at 0x172c84910>, 'Ficus sycomorus': <pyPhenology.models.thermaltime.ThermalTime object at 0x172c2f290>, 'Olea europaea': <pyPhenology.models.thermaltime.ThermalTime object at 0x175ac0b50>, 'Olea europea': <pyPhenology.models.thermaltime.ThermalTime object at 0x172bee450>, 'Olea': <pyPhenology.models.thermaltime.ThermalTime object at 0x172d24350>, 'Morus rubra': <pyPhenology.models.thermaltime.ThermalTime object at 0x172c2bd90>, 'Morus': <pyPhenology.models.thermaltime.ThermalTime object at 0x16d601810>, 'Morus alba': <pyPhenology.models.thermaltime.ThermalTime object at 0x16fe1aa90>, 'Morus nigra': <pyPhenology.models.thermaltime.ThermalTime object at 0x172cd18d0>, 'Morus macroura': <pyPhenology.models.thermaltime.ThermalTime object at 0x1727faa50>, 'Morus australis': <pyPhenology.models.thermaltime.ThermalTime object at 0x172c4f710>, 'Amelanchier alnifolia': <pyPhenology.models.thermaltime.ThermalTime object at 0x172d028d0>, 'Amelanchier arborea': <pyPhenology.models.thermaltime.ThermalTime object at 0x172d0f150>, 'Amelanchier canadensis': <pyPhenology.models.thermaltime.ThermalTime object at 0x16f9a7150>, 'Amelanchier grandiflora': <pyPhenology.models.thermaltime.ThermalTime object at 0x171b4c750>, 'Amelanchier laevis': <pyPhenology.models.thermaltime.ThermalTime object at 0x172cf3190>, 'Amelanchier utahensis': <pyPhenology.models.thermaltime.ThermalTime object at 0x16c70e0d0>, 'Amelanchier': <pyPhenology.models.thermaltime.ThermalTime object at 0x172c58890>, 'Citrus': <pyPhenology.models.thermaltime.ThermalTime object at 0x172c85990>, 'Citrus jambhiri': <pyPhenology.models.thermaltime.ThermalTime object at 0x16b19e9d0>, 'Citrus limon': <pyPhenology.models.thermaltime.ThermalTime object at 0x172c6b750>, 'Rubus idaeus': <pyPhenology.models.thermaltime.ThermalTime object at 0x172d0b4d0>, 'Rubus ellipticus': <pyPhenology.models.thermaltime.ThermalTime object at 0x16a37f550>, 'Rubus hayata': <pyPhenology.models.thermaltime.ThermalTime object at 0x172aea190>, 'Rubus odoratus': <pyPhenology.models.thermaltime.ThermalTime object at 0x175aeded0>, 'Rubus phoenicolasius': <pyPhenology.models.thermaltime.ThermalTime object at 0x172c23590>, 'Rubus rolfei': <pyPhenology.models.thermaltime.ThermalTime object at 0x172c86610>, 'Citrus aurantium': <pyPhenology.models.thermaltime.ThermalTime object at 0x1727fe250>, 'Citrus sinensis': <pyPhenology.models.thermaltime.ThermalTime object at 0x172bed990>, 'Prunus americana': <pyPhenology.models.thermaltime.ThermalTime object at 0x175ab2f50>, 'Prunus domestica': <pyPhenology.models.thermaltime.ThermalTime object at 0x172cd0b10>, 'Prunus maritima': <pyPhenology.models.thermaltime.ThermalTime object at 0x172c746d0>, 'Prunus nigra': <pyPhenology.models.thermaltime.ThermalTime object at 0x172ae9350>, 'Prunus cerasifera': <pyPhenology.models.thermaltime.ThermalTime object at 0x172c0e510>, 'Prunus': <pyPhenology.models.thermaltime.ThermalTime object at 0x16fa65810>, 'Prunus angustifolia': <pyPhenology.models.thermaltime.ThermalTime object at 0x172cd1e10>, 'Prunus cocomilia': <pyPhenology.models.thermaltime.ThermalTime object at 0x1727fbf50>, 'Prunus salicina': <pyPhenology.models.thermaltime.ThermalTime object at 0x172ba0890>, 'Prunus subcordata': <pyPhenology.models.thermaltime.ThermalTime object at 0x172cef6d0>, 'Prunus mexicana': <pyPhenology.models.thermaltime.ThermalTime object at 0x172bf7e50>, 'Prunus rivularis': <pyPhenology.models.thermaltime.ThermalTime object at 0x172afc250>, 'Eriobotrya japonica': <pyPhenology.models.thermaltime.ThermalTime object at 0x172cf3810>, 'Malus sieboldii': <pyPhenology.models.thermaltime.ThermalTime object at 0x175aa1a50>, 'Malus': <pyPhenology.models.thermaltime.ThermalTime object at 0x16a37f950>, 'Malus pumila': <pyPhenology.models.thermaltime.ThermalTime object at 0x1726feb50>, 'Malus domestica': <pyPhenology.models.thermaltime.ThermalTime object at 0x169dc9c50>, 'Malus sylvestris': <pyPhenology.models.thermaltime.ThermalTime object at 0x172c50a90>, 'Malus coronaria': <pyPhenology.models.thermaltime.ThermalTime object at 0x172cd0e50>, \"Malus '\": <pyPhenology.models.thermaltime.ThermalTime object at 0x172d02710>, 'Malus sieversii': <pyPhenology.models.thermaltime.ThermalTime object at 0x172bf6bd0>, 'Malus baccata': <pyPhenology.models.thermaltime.ThermalTime object at 0x172d277d0>, 'Malus ioensis': <pyPhenology.models.thermaltime.ThermalTime object at 0x172c75e90>, 'Malus hupehensis': <pyPhenology.models.thermaltime.ThermalTime object at 0x172d3dfd0>, 'Malus tschonoskii': <pyPhenology.models.thermaltime.ThermalTime object at 0x172c76c10>, 'Malus fusca': <pyPhenology.models.thermaltime.ThermalTime object at 0x172b74410>, 'Malus angustifolia': <pyPhenology.models.thermaltime.ThermalTime object at 0x16f9aee10>, 'Rosmarinus officinalis': <pyPhenology.models.thermaltime.ThermalTime object at 0x170eb6050>, 'Juglans': <pyPhenology.models.thermaltime.ThermalTime object at 0x172dbb4d0>, 'Juglans regia': <pyPhenology.models.thermaltime.ThermalTime object at 0x172ccb010>, 'Juglans cinerea': <pyPhenology.models.thermaltime.ThermalTime object at 0x16f5f57d0>, 'Juglans hindsii': <pyPhenology.models.thermaltime.ThermalTime object at 0x172c0db50>, 'Juglans major': <pyPhenology.models.thermaltime.ThermalTime object at 0x172c76650>, 'Juglans nigra': <pyPhenology.models.thermaltime.ThermalTime object at 0x16fa8ec90>, 'Prunus serotina': <pyPhenology.models.thermaltime.ThermalTime object at 0x16f604c50>, 'Prunus virginiana': <pyPhenology.models.thermaltime.ThermalTime object at 0x16b1a5510>, 'Prunus yedoensis': <pyPhenology.models.thermaltime.ThermalTime object at 0x172cf1f50>, 'Prunus ilicifolia': <pyPhenology.models.thermaltime.ThermalTime object at 0x172dc1b50>, 'Prunus cerasus': <pyPhenology.models.thermaltime.ThermalTime object at 0x169e48a50>, 'Prunus emarginata': <pyPhenology.models.thermaltime.ThermalTime object at 0x172cf2010>, 'Prunus pensylvanica': <pyPhenology.models.thermaltime.ThermalTime object at 0x10f2ec510>, 'Prunus laurocerasus': <pyPhenology.models.thermaltime.ThermalTime object at 0x172b8ec90>, 'Prunus serrulata': <pyPhenology.models.thermaltime.ThermalTime object at 0x172c8b5d0>, 'Prunus avium': <pyPhenology.models.thermaltime.ThermalTime object at 0x1727fb8d0>, 'Cornus mas': <pyPhenology.models.thermaltime.ThermalTime object at 0x1706fa010>, 'Ehretia tinifolia': <pyPhenology.models.thermaltime.ThermalTime object at 0x172bf5d10>, 'Elaeagnus multiflora': <pyPhenology.models.thermaltime.ThermalTime object at 0x16f999010>, 'Eugenia brasiliensis': <pyPhenology.models.thermaltime.ThermalTime object at 0x172beef10>, 'Prunus fruticosa': <pyPhenology.models.thermaltime.ThermalTime object at 0x16fa64c50>, 'Prunus maackii': <pyPhenology.models.thermaltime.ThermalTime object at 0x172ae8790>, 'Prunus mahaleb': <pyPhenology.models.thermaltime.ThermalTime object at 0x172d02150>, 'Prunus padus': <pyPhenology.models.thermaltime.ThermalTime object at 0x172c2ae50>, 'Prunus subhirtella': <pyPhenology.models.thermaltime.ThermalTime object at 0x172bf7a10>, 'Prunus tomentosa': <pyPhenology.models.thermaltime.ThermalTime object at 0x172ce27d0>, 'Diospyros virginiana': <pyPhenology.models.thermaltime.ThermalTime object at 0x16b19f1d0>, 'Diospyros': <pyPhenology.models.thermaltime.ThermalTime object at 0x172aed110>, 'Diospyros kaki': <pyPhenology.models.thermaltime.ThermalTime object at 0x172af8f90>, 'Pyrus communis': <pyPhenology.models.thermaltime.ThermalTime object at 0x172c592d0>, 'Pyrus': <pyPhenology.models.thermaltime.ThermalTime object at 0x170cae850>, 'Pyrus amygdaliformis': <pyPhenology.models.thermaltime.ThermalTime object at 0x175aa2f90>, 'Pyrus pyraster': <pyPhenology.models.thermaltime.ThermalTime object at 0x172afcd90>, 'Pyrus pyrifolia': <pyPhenology.models.thermaltime.ThermalTime object at 0x172c1fc50>}\n"
     ]
    }
   ],
   "source": [
    "print(genus_model_dict)\n",
    "print(species_model_dict)"
   ]
  },
  {
   "cell_type": "code",
   "execution_count": 31,
   "id": "f944a013",
   "metadata": {},
   "outputs": [],
   "source": [
    "def get_genus(sci_name):\n",
    "    genus = sci_name_name.split()[0]\n",
    "    \n",
    "    return genus"
   ]
  },
  {
   "cell_type": "code",
   "execution_count": 33,
   "id": "e0271a3b",
   "metadata": {
    "collapsed": true
   },
   "outputs": [
    {
     "name": "stdout",
     "output_type": "stream",
     "text": [
      "Rubus\n",
      "Rubus\n",
      "Ficus\n",
      "Ficus\n",
      "Ficus\n",
      "Ficus\n",
      "Ficus\n",
      "Ficus\n",
      "Olea\n",
      "Olea\n",
      "Olea\n",
      "Morus\n",
      "Morus\n",
      "Morus\n",
      "Morus\n",
      "Morus\n",
      "Morus\n",
      "Amelanchier\n",
      "Amelanchier\n",
      "Amelanchier\n",
      "Amelanchier\n",
      "Amelanchier\n",
      "Amelanchier\n",
      "Amelanchier\n",
      "Citrus\n",
      "Citrus\n",
      "Citrus\n",
      "Rubus\n",
      "Rubus\n",
      "Rubus\n",
      "Rubus\n",
      "Rubus\n",
      "Rubus\n",
      "Citrus\n",
      "Citrus\n",
      "Prunus\n",
      "Prunus\n",
      "Prunus\n",
      "Prunus\n",
      "Prunus\n",
      "Prunus\n",
      "Prunus\n",
      "Prunus\n",
      "Prunus\n",
      "Prunus\n",
      "Prunus\n",
      "Prunus\n",
      "Eriobotrya\n",
      "Malus\n",
      "Malus\n",
      "Malus\n",
      "Malus\n",
      "Malus\n",
      "Malus\n",
      "Malus\n",
      "Malus\n",
      "Malus\n",
      "Malus\n",
      "Malus\n",
      "Malus\n",
      "Malus\n",
      "Malus\n",
      "Rosmarinus\n",
      "Juglans\n",
      "Juglans\n",
      "Juglans\n",
      "Juglans\n",
      "Juglans\n",
      "Juglans\n",
      "Prunus\n",
      "Prunus\n",
      "Prunus\n",
      "Prunus\n",
      "Prunus\n",
      "Prunus\n",
      "Prunus\n",
      "Prunus\n",
      "Prunus\n",
      "Prunus\n",
      "Cornus\n",
      "Ehretia\n",
      "Elaeagnus\n",
      "Eugenia\n",
      "Prunus\n",
      "Prunus\n",
      "Prunus\n",
      "Prunus\n",
      "Prunus\n",
      "Prunus\n",
      "Diospyros\n",
      "Diospyros\n",
      "Diospyros\n",
      "Pyrus\n",
      "Pyrus\n",
      "Pyrus\n",
      "Pyrus\n",
      "Pyrus\n"
     ]
    }
   ],
   "source": [
    "for k in species_model_dict.keys():\n",
    "    print(get_genus(k))"
   ]
  },
  {
   "cell_type": "code",
   "execution_count": 43,
   "id": "fd9326ac",
   "metadata": {
    "collapsed": true
   },
   "outputs": [
    {
     "name": "stderr",
     "output_type": "stream",
     "text": [
      "\r",
      "  0%|                                                                                                                                                                              | 0/97 [00:00<?, ?it/s]"
     ]
    },
    {
     "name": "stdout",
     "output_type": "stream",
     "text": [
      "Rubus\n",
      "making predictions\n"
     ]
    },
    {
     "name": "stderr",
     "output_type": "stream",
     "text": [
      "\r",
      "  1%|█▋                                                                                                                                                                    | 1/97 [00:00<00:23,  4.09it/s]"
     ]
    },
    {
     "name": "stdout",
     "output_type": "stream",
     "text": [
      "model got a MAE of 28.6\n",
      "model got an RMSE of 49.24970389081881\n",
      "model median error is: 9.5\n",
      "Ripeness Day: 187.13333333333333\n",
      "Rubus occidentalis\n",
      "     site_id   latitude    doy    year  genus     lon_360  phenophase  \\\n",
      "105  1810509  41.501760  164.0  2022.0  Rubus  269.510495         516   \n",
      "106  1812978  41.976700  189.0  2022.0  Rubus  271.984781         516   \n",
      "107  1812976  41.976823  189.0  2022.0  Rubus  271.985042         516   \n",
      "108  1812977  41.976700  189.0  2022.0  Rubus  271.984781         516   \n",
      "109  1812825  43.074175  184.0  2022.0  Rubus  278.172152         516   \n",
      "110  1812975  41.976823  189.0  2022.0  Rubus  271.985042         516   \n",
      "111  1813017  43.246876  191.0  2022.0  Rubus  280.149444         516   \n",
      "112  1813018  43.246876  191.0  2022.0  Rubus  280.149444         516   \n",
      "113  1813019  43.244802  191.0  2022.0  Rubus  280.148092         516   \n",
      "114  1812943  41.654378  187.0  2022.0  Rubus  274.581208         516   \n",
      "\n",
      "     formatted_sci_name  rounded_lat  rounded_lon  \n",
      "105  Rubus occidentalis         41.5        269.5  \n",
      "106  Rubus occidentalis         42.0        272.0  \n",
      "107  Rubus occidentalis         42.0        272.0  \n",
      "108  Rubus occidentalis         42.0        272.0  \n",
      "109  Rubus occidentalis         43.1        278.2  \n",
      "110  Rubus occidentalis         42.0        272.0  \n",
      "111  Rubus occidentalis         43.2        280.1  \n",
      "112  Rubus occidentalis         43.2        280.1  \n",
      "113  Rubus occidentalis         43.2        280.1  \n",
      "114  Rubus occidentalis         41.7        274.6  \n",
      "defaulting to genus model\n",
      "making predictions\n",
      "model got a MAE of 27.88888888888889\n",
      "model got an RMSE of 44.92374491449769\n",
      "model median error is: 15.0\n",
      "Ripeness Day: 188.4126984126984\n"
     ]
    },
    {
     "name": "stderr",
     "output_type": "stream",
     "text": [
      "\r",
      "  2%|███▍                                                                                                                                                                  | 2/97 [00:00<00:20,  4.56it/s]"
     ]
    },
    {
     "name": "stdout",
     "output_type": "stream",
     "text": [
      "Ficus\n",
      "making predictions\n"
     ]
    },
    {
     "name": "stderr",
     "output_type": "stream",
     "text": [
      "  4%|██████▊                                                                                                                                                               | 4/97 [00:00<00:18,  4.93it/s]"
     ]
    },
    {
     "name": "stdout",
     "output_type": "stream",
     "text": [
      "model got a MAE of 50.125\n",
      "model got an RMSE of 59.21465190305521\n",
      "model median error is: 49.5\n",
      "Ripeness Day: 214.0\n",
      "Ficus auriculata\n",
      "Empty DataFrame\n",
      "Columns: [site_id, latitude, doy, year, genus, lon_360, phenophase, formatted_sci_name, rounded_lat, rounded_lon]\n",
      "Index: []\n",
      "defaulting to genus model\n",
      "making predictions\n",
      "model got a MAE of 44.266666666666666\n",
      "model got an RMSE of 53.84421974548429\n",
      "model median error is: 34.0\n",
      "Ripeness Day: 211.93333333333334\n",
      "Ficus carica\n",
      "making predictions\n"
     ]
    },
    {
     "name": "stderr",
     "output_type": "stream",
     "text": [
      "\r",
      "  5%|████████▌                                                                                                                                                             | 5/97 [00:01<00:18,  5.06it/s]"
     ]
    },
    {
     "name": "stdout",
     "output_type": "stream",
     "text": [
      "model got a MAE of 38.916666666666664\n",
      "model got an RMSE of 48.479377058704046\n",
      "model median error is: 34.0\n",
      "Ripeness Day: 214.0\n",
      "Ficus citrifolia\n",
      "Empty DataFrame\n",
      "Columns: [site_id, latitude, doy, year, genus, lon_360, phenophase, formatted_sci_name, rounded_lat, rounded_lon]\n",
      "Index: []\n",
      "defaulting to genus model\n",
      "making predictions\n"
     ]
    },
    {
     "name": "stderr",
     "output_type": "stream",
     "text": [
      "\r",
      "  6%|██████████▎                                                                                                                                                           | 6/97 [00:01<00:18,  4.88it/s]"
     ]
    },
    {
     "name": "stdout",
     "output_type": "stream",
     "text": [
      "model got a MAE of 44.266666666666666\n",
      "model got an RMSE of 53.84421974548429\n",
      "model median error is: 34.0\n",
      "Ripeness Day: 211.93333333333334\n",
      "Ficus macrophylla\n",
      "Empty DataFrame\n",
      "Columns: [site_id, latitude, doy, year, genus, lon_360, phenophase, formatted_sci_name, rounded_lat, rounded_lon]\n",
      "Index: []\n",
      "defaulting to genus model\n",
      "making predictions\n",
      "model got a MAE of 44.266666666666666\n",
      "model got an RMSE of 53.84421974548429\n",
      "model median error is: 34.0\n",
      "Ripeness Day: 211.93333333333334\n"
     ]
    },
    {
     "name": "stderr",
     "output_type": "stream",
     "text": [
      "  8%|█████████████▋                                                                                                                                                        | 8/97 [00:01<00:17,  4.96it/s]"
     ]
    },
    {
     "name": "stdout",
     "output_type": "stream",
     "text": [
      "Ficus sycomorus\n",
      "     site_id   latitude    doy    year  genus   lon_360  phenophase  \\\n",
      "344  1821278  43.517401  244.0  2022.0  Ficus  1.598954         516   \n",
      "345  1821279  43.531933  243.0  2022.0  Ficus  1.621771         516   \n",
      "\n",
      "    formatted_sci_name  rounded_lat  rounded_lon  \n",
      "344    Ficus sycomorus         43.5          1.6  \n",
      "345    Ficus sycomorus         43.5          1.6  \n",
      "defaulting to genus model\n",
      "making predictions\n",
      "model got a MAE of 44.266666666666666\n",
      "model got an RMSE of 53.84421974548429\n",
      "model median error is: 34.0\n",
      "Ripeness Day: 211.93333333333334\n",
      "Olea europaea\n",
      "making predictions\n"
     ]
    },
    {
     "name": "stderr",
     "output_type": "stream",
     "text": [
      "\r",
      "  9%|███████████████▍                                                                                                                                                      | 9/97 [00:01<00:17,  5.03it/s]"
     ]
    },
    {
     "name": "stdout",
     "output_type": "stream",
     "text": [
      "model got a MAE of 128.42\n",
      "model got an RMSE of 134.21229451879586\n",
      "model median error is: 130.5\n",
      "Ripeness Day: 162.0\n",
      "Olea europea\n",
      "Empty DataFrame\n",
      "Columns: [site_id, latitude, doy, year, genus, lon_360, phenophase, formatted_sci_name, rounded_lat, rounded_lon]\n",
      "Index: []\n",
      "defaulting to genus model\n",
      "making predictions\n"
     ]
    },
    {
     "name": "stderr",
     "output_type": "stream",
     "text": [
      " 11%|██████████████████▋                                                                                                                                                  | 11/97 [00:02<00:17,  5.00it/s]"
     ]
    },
    {
     "name": "stdout",
     "output_type": "stream",
     "text": [
      "model got a MAE of 86.2394366197183\n",
      "model got an RMSE of 95.07439636973996\n",
      "model median error is: 84.0\n",
      "Ripeness Day: 214.0\n",
      "Olea\n",
      "making predictions\n",
      "model got a MAE of 117.57142857142857\n",
      "model got an RMSE of 133.33541665039087\n",
      "model median error is: 121.0\n",
      "Ripeness Day: 155.85714285714286\n",
      "Morus rubra\n",
      "making predictions\n"
     ]
    },
    {
     "name": "stderr",
     "output_type": "stream",
     "text": [
      "\r",
      " 12%|████████████████████▍                                                                                                                                                | 12/97 [00:02<00:16,  5.07it/s]"
     ]
    },
    {
     "name": "stdout",
     "output_type": "stream",
     "text": [
      "model got a MAE of 25.23076923076923\n",
      "model got an RMSE of 45.19360063616904\n",
      "model median error is: 15.0\n",
      "Ripeness Day: 169.15384615384616\n",
      "Morus\n",
      "making predictions\n"
     ]
    },
    {
     "name": "stderr",
     "output_type": "stream",
     "text": [
      " 14%|███████████████████████▊                                                                                                                                             | 14/97 [00:02<00:16,  5.10it/s]"
     ]
    },
    {
     "name": "stdout",
     "output_type": "stream",
     "text": [
      "model got a MAE of 27.763157894736842\n",
      "model got an RMSE of 44.01554749236492\n",
      "model median error is: 18.0\n",
      "Ripeness Day: 179.8421052631579\n",
      "Morus macroura\n",
      "     site_id   latitude    doy    year  genus     lon_360  phenophase  \\\n",
      "196  1810204  38.231547  148.0  2022.0  Morus  274.235952         516   \n",
      "\n",
      "    formatted_sci_name  rounded_lat  rounded_lon  \n",
      "196     Morus macroura         38.2        274.2  \n",
      "defaulting to genus model\n",
      "making predictions\n",
      "model got a MAE of 27.02970297029703\n",
      "model got an RMSE of 44.78164846903205\n",
      "model median error is: 15.0\n",
      "Ripeness Day: 176.6138613861386\n",
      "Morus alba\n",
      "making predictions\n"
     ]
    },
    {
     "name": "stderr",
     "output_type": "stream",
     "text": [
      "\r",
      " 15%|█████████████████████████▌                                                                                                                                           | 15/97 [00:03<00:16,  5.10it/s]"
     ]
    },
    {
     "name": "stdout",
     "output_type": "stream",
     "text": [
      "model got a MAE of 23.838709677419356\n",
      "model got an RMSE of 38.03690907017687\n",
      "model median error is: 12.0\n",
      "Ripeness Day: 184.0\n",
      "Morus nigra\n",
      "making predictions\n",
      "model got a MAE of 31.125\n",
      "model got an RMSE of 46.99228660110082\n",
      "model median error is: 17.0\n",
      "Ripeness Day: 186.1\n"
     ]
    },
    {
     "name": "stderr",
     "output_type": "stream",
     "text": [
      " 18%|████████████████████████████▉                                                                                                                                        | 17/97 [00:03<00:15,  5.05it/s]"
     ]
    },
    {
     "name": "stdout",
     "output_type": "stream",
     "text": [
      "Morus australis\n",
      "     site_id   latitude    doy    year  genus  lon_360  phenophase  \\\n",
      "213  1809867  43.583717  134.0  2022.0  Morus  1.42228         516   \n",
      "\n",
      "    formatted_sci_name  rounded_lat  rounded_lon  \n",
      "213    Morus australis         43.6          1.4  \n",
      "defaulting to genus model\n",
      "making predictions\n",
      "model got a MAE of 27.02970297029703\n",
      "model got an RMSE of 44.78164846903205\n",
      "model median error is: 15.0\n",
      "Ripeness Day: 176.6138613861386\n",
      "Amelanchier alnifolia\n",
      "making predictions\n"
     ]
    },
    {
     "name": "stderr",
     "output_type": "stream",
     "text": [
      " 20%|████████████████████████████████▎                                                                                                                                    | 19/97 [00:03<00:15,  5.09it/s]"
     ]
    },
    {
     "name": "stdout",
     "output_type": "stream",
     "text": [
      "model got a MAE of 12.909090909090908\n",
      "model got an RMSE of 16.629655875737615\n",
      "model median error is: 8.0\n",
      "Ripeness Day: 214.0\n",
      "Amelanchier arborea\n",
      "making predictions\n",
      "model got a MAE of 41.25\n",
      "model got an RMSE of 57.17079674099356\n",
      "model median error is: 28.0\n",
      "Ripeness Day: 169.25\n",
      "Amelanchier canadensis\n",
      "making predictions\n"
     ]
    },
    {
     "name": "stderr",
     "output_type": "stream",
     "text": [
      " 22%|███████████████████████████████████▋                                                                                                                                 | 21/97 [00:04<00:14,  5.11it/s]"
     ]
    },
    {
     "name": "stdout",
     "output_type": "stream",
     "text": [
      "model got a MAE of 16.4\n",
      "model got an RMSE of 19.979989989987484\n",
      "model median error is: 14.0\n",
      "Ripeness Day: 185.06666666666666\n",
      "Amelanchier grandiflora\n",
      "making predictions\n",
      "model got a MAE of 13.222222222222221\n",
      "model got an RMSE of 15.0\n",
      "model median error is: 12.5\n",
      "Ripeness Day: 183.0\n",
      "Amelanchier laevis\n",
      "making predictions\n"
     ]
    },
    {
     "name": "stderr",
     "output_type": "stream",
     "text": [
      "\r",
      " 23%|█████████████████████████████████████▍                                                                                                                               | 22/97 [00:04<00:14,  5.11it/s]"
     ]
    },
    {
     "name": "stdout",
     "output_type": "stream",
     "text": [
      "model got a MAE of 14.32\n",
      "model got an RMSE of 17.24876807195227\n",
      "model median error is: 13.0\n",
      "Ripeness Day: 183.0\n",
      "Amelanchier utahensis\n",
      "Empty DataFrame\n",
      "Columns: [site_id, latitude, doy, year, genus, lon_360, phenophase, formatted_sci_name, rounded_lat, rounded_lon]\n",
      "Index: []\n",
      "defaulting to genus model\n",
      "making predictions\n",
      "model got a MAE of 25.2603550295858\n",
      "model got an RMSE of 31.504390602246776\n",
      "model median error is: 22.0\n",
      "Ripeness Day: 192.53846153846155\n"
     ]
    },
    {
     "name": "stderr",
     "output_type": "stream",
     "text": [
      " 25%|████████████████████████████████████████▊                                                                                                                            | 24/97 [00:04<00:14,  5.04it/s]"
     ]
    },
    {
     "name": "stdout",
     "output_type": "stream",
     "text": [
      "Amelanchier\n",
      "making predictions\n",
      "model got a MAE of 11.986842105263158\n",
      "model got an RMSE of 14.892156183356178\n",
      "model median error is: 11.0\n",
      "Ripeness Day: 169.97368421052633\n",
      "Citrus\n"
     ]
    },
    {
     "name": "stderr",
     "output_type": "stream",
     "text": [
      "\r",
      " 26%|██████████████████████████████████████████▌                                                                                                                          | 25/97 [00:04<00:14,  5.12it/s]"
     ]
    },
    {
     "name": "stdout",
     "output_type": "stream",
     "text": [
      "making predictions\n",
      "model got a MAE of 84.125\n",
      "model got an RMSE of 102.79675031342187\n",
      "model median error is: 94.5\n",
      "Ripeness Day: 192.9296875\n",
      "Citrus jambhiri\n",
      "Empty DataFrame\n",
      "Columns: [site_id, latitude, doy, year, genus, lon_360, phenophase, formatted_sci_name, rounded_lat, rounded_lon]\n",
      "Index: []\n",
      "defaulting to genus model\n",
      "making predictions\n"
     ]
    },
    {
     "name": "stderr",
     "output_type": "stream",
     "text": [
      " 28%|█████████████████████████████████████████████▉                                                                                                                       | 27/97 [00:05<00:13,  5.20it/s]"
     ]
    },
    {
     "name": "stdout",
     "output_type": "stream",
     "text": [
      "model got a MAE of 83.44274809160305\n",
      "model got an RMSE of 102.02869675651091\n",
      "model median error is: 94.0\n",
      "Ripeness Day: 192.46564885496184\n",
      "Citrus limon\n",
      "     site_id   latitude    doy    year   genus     lon_360  phenophase  \\\n",
      "229  1811006  41.090295  177.0  2022.0  Citrus   23.545712         516   \n",
      "231  1821669 -37.700739  251.0  2022.0  Citrus  144.968115         516   \n",
      "232  1823301  34.261442  303.0  2022.0  Citrus  241.478303         516   \n",
      "\n",
      "    formatted_sci_name  rounded_lat  rounded_lon  \n",
      "229       Citrus limon         41.1         23.5  \n",
      "231       Citrus limon        -37.7        145.0  \n",
      "232       Citrus limon         34.3        241.5  \n",
      "defaulting to genus model\n",
      "making predictions\n",
      "model got a MAE of 83.44274809160305\n",
      "model got an RMSE of 102.02869675651091\n",
      "model median error is: 94.0\n",
      "Ripeness Day: 192.46564885496184\n",
      "Rubus idaeus\n",
      "making predictions\n"
     ]
    },
    {
     "name": "stderr",
     "output_type": "stream",
     "text": [
      "\r",
      " 29%|███████████████████████████████████████████████▋                                                                                                                     | 28/97 [00:05<00:13,  5.20it/s]"
     ]
    },
    {
     "name": "stdout",
     "output_type": "stream",
     "text": [
      "model got a MAE of 25.125\n",
      "model got an RMSE of 37.750827805493216\n",
      "model median error is: 14.5\n",
      "Ripeness Day: 217.875\n",
      "Rubus ellipticus\n",
      "        site_id   latitude    doy    year  genus     lon_360  phenophase  \\\n",
      "108171  1814266  52.260399  229.0  2022.0  Rubus  246.171094         516   \n",
      "\n",
      "       formatted_sci_name  rounded_lat  rounded_lon  \n",
      "108171   Rubus ellipticus         52.3        246.2  \n",
      "defaulting to genus model\n",
      "making predictions\n"
     ]
    },
    {
     "name": "stderr",
     "output_type": "stream",
     "text": [
      " 31%|███████████████████████████████████████████████████                                                                                                                  | 30/97 [00:05<00:13,  5.15it/s]"
     ]
    },
    {
     "name": "stdout",
     "output_type": "stream",
     "text": [
      "model got a MAE of 27.88888888888889\n",
      "model got an RMSE of 44.92374491449769\n",
      "model median error is: 15.0\n",
      "Ripeness Day: 188.4126984126984\n",
      "Rubus hayata\n",
      "Empty DataFrame\n",
      "Columns: [site_id, latitude, doy, year, genus, lon_360, phenophase, formatted_sci_name, rounded_lat, rounded_lon]\n",
      "Index: []\n",
      "defaulting to genus model\n",
      "making predictions\n",
      "model got a MAE of 27.88888888888889\n",
      "model got an RMSE of 44.92374491449769\n",
      "model median error is: 15.0\n",
      "Ripeness Day: 188.4126984126984\n",
      "Rubus odoratus\n",
      "        site_id   latitude    doy    year  genus     lon_360  phenophase  \\\n",
      "108216  1823522  43.997101  239.0  2022.0  Rubus  284.047415         516   \n",
      "\n",
      "       formatted_sci_name  rounded_lat  rounded_lon  \n",
      "108216     Rubus odoratus         44.0        284.0  \n",
      "defaulting to genus model\n",
      "making predictions\n"
     ]
    },
    {
     "name": "stderr",
     "output_type": "stream",
     "text": [
      " 33%|██████████████████████████████████████████████████████▍                                                                                                              | 32/97 [00:06<00:12,  5.22it/s]"
     ]
    },
    {
     "name": "stdout",
     "output_type": "stream",
     "text": [
      "model got a MAE of 27.88888888888889\n",
      "model got an RMSE of 44.92374491449769\n",
      "model median error is: 15.0\n",
      "Ripeness Day: 188.4126984126984\n",
      "Rubus phoenicolasius\n",
      "        site_id   latitude    doy    year  genus     lon_360  phenophase  \\\n",
      "108226  1807364  39.164363  193.0  2022.0  Rubus  282.724430         516   \n",
      "108230  1813106  39.480337  188.0  2022.0  Rubus  282.639708         516   \n",
      "108231  1813285  40.718369  192.0  2022.0  Rubus  285.705152         516   \n",
      "108232  1810539  40.752987  164.0  2022.0  Rubus  285.551666         516   \n",
      "108233  1810751  40.593294  188.0  2022.0  Rubus  284.499209         516   \n",
      "\n",
      "          formatted_sci_name  rounded_lat  rounded_lon  \n",
      "108226  Rubus phoenicolasius         39.2        282.7  \n",
      "108230  Rubus phoenicolasius         39.5        282.6  \n",
      "108231  Rubus phoenicolasius         40.7        285.7  \n",
      "108232  Rubus phoenicolasius         40.8        285.6  \n",
      "108233  Rubus phoenicolasius         40.6        284.5  \n",
      "defaulting to genus model\n",
      "making predictions\n",
      "model got a MAE of 27.88888888888889\n",
      "model got an RMSE of 44.92374491449769\n",
      "model median error is: 15.0\n",
      "Ripeness Day: 188.4126984126984\n",
      "Rubus rolfei\n",
      "Empty DataFrame\n",
      "Columns: [site_id, latitude, doy, year, genus, lon_360, phenophase, formatted_sci_name, rounded_lat, rounded_lon]\n",
      "Index: []\n",
      "defaulting to genus model\n",
      "making predictions\n"
     ]
    },
    {
     "name": "stderr",
     "output_type": "stream",
     "text": [
      " 35%|█████████████████████████████████████████████████████████▊                                                                                                           | 34/97 [00:06<00:12,  5.12it/s]"
     ]
    },
    {
     "name": "stdout",
     "output_type": "stream",
     "text": [
      "model got a MAE of 27.88888888888889\n",
      "model got an RMSE of 44.92374491449769\n",
      "model median error is: 15.0\n",
      "Ripeness Day: 188.4126984126984\n",
      "Citrus aurantium\n",
      "Empty DataFrame\n",
      "Columns: [site_id, latitude, doy, year, genus, lon_360, phenophase, formatted_sci_name, rounded_lat, rounded_lon]\n",
      "Index: []\n",
      "defaulting to genus model\n",
      "making predictions\n",
      "model got a MAE of 83.44274809160305\n",
      "model got an RMSE of 102.02869675651091\n",
      "model median error is: 94.0\n",
      "Ripeness Day: 192.46564885496184\n",
      "Citrus sinensis\n",
      "Empty DataFrame\n",
      "Columns: [site_id, latitude, doy, year, genus, lon_360, phenophase, formatted_sci_name, rounded_lat, rounded_lon]\n",
      "Index: []\n",
      "defaulting to genus model\n",
      "making predictions\n"
     ]
    },
    {
     "name": "stderr",
     "output_type": "stream",
     "text": [
      " 37%|█████████████████████████████████████████████████████████████▏                                                                                                       | 36/97 [00:07<00:11,  5.21it/s]"
     ]
    },
    {
     "name": "stdout",
     "output_type": "stream",
     "text": [
      "model got a MAE of 83.44274809160305\n",
      "model got an RMSE of 102.02869675651091\n",
      "model median error is: 94.0\n",
      "Ripeness Day: 192.46564885496184\n",
      "Prunus americana\n",
      "making predictions\n",
      "model got a MAE of 40.77777777777778\n",
      "model got an RMSE of 48.546197928708416\n",
      "model median error is: 37.0\n",
      "Ripeness Day: 218.13333333333333\n",
      "Prunus domestica\n",
      "making predictions\n"
     ]
    },
    {
     "name": "stderr",
     "output_type": "stream",
     "text": [
      " 39%|████████████████████████████████████████████████████████████████▋                                                                                                    | 38/97 [00:07<00:11,  5.17it/s]"
     ]
    },
    {
     "name": "stdout",
     "output_type": "stream",
     "text": [
      "model got a MAE of 22.05263157894737\n",
      "model got an RMSE of 28.36695631410455\n",
      "model median error is: 15.0\n",
      "Ripeness Day: 243.3684210526316\n",
      "Prunus maritima\n",
      "        site_id   latitude    doy    year   genus     lon_360  phenophase  \\\n",
      "131           7  41.291360  238.0  2022.0  Prunus  289.828740         516   \n",
      "166           7  41.291360  189.0  2022.0  Prunus  289.828740         516   \n",
      "173           7  41.291360  231.0  2022.0  Prunus  289.828740         516   \n",
      "194           7  41.291360  217.0  2022.0  Prunus  289.828740         516   \n",
      "200           7  41.291360  224.0  2022.0  Prunus  289.828740         516   \n",
      "313          14  41.289158  238.0  2022.0  Prunus  289.825240         516   \n",
      "352          14  41.289158  230.0  2022.0  Prunus  289.825240         516   \n",
      "263291  1069130  42.808451  254.0  2022.0  Prunus  289.180805         516   \n",
      "\n",
      "       formatted_sci_name  rounded_lat  rounded_lon  \n",
      "131       Prunus maritima         41.3        289.8  \n",
      "166       Prunus maritima         41.3        289.8  \n",
      "173       Prunus maritima         41.3        289.8  \n",
      "194       Prunus maritima         41.3        289.8  \n",
      "200       Prunus maritima         41.3        289.8  \n",
      "313       Prunus maritima         41.3        289.8  \n",
      "352       Prunus maritima         41.3        289.8  \n",
      "263291    Prunus maritima         42.8        289.2  \n",
      "defaulting to genus model\n",
      "making predictions\n",
      "model got a MAE of 45.12820512820513\n",
      "model got an RMSE of 69.56389531312584\n",
      "model median error is: 25.0\n",
      "Ripeness Day: 202.98534798534797\n",
      "Prunus nigra\n",
      "        site_id  latitude    doy    year   genus     lon_360  phenophase  \\\n",
      "263300   759339  49.27604  220.0  2022.0  Prunus  237.210553         516   \n",
      "\n",
      "       formatted_sci_name  rounded_lat  rounded_lon  \n",
      "263300       Prunus nigra         49.3        237.2  \n",
      "defaulting to genus model\n",
      "making predictions\n"
     ]
    },
    {
     "name": "stderr",
     "output_type": "stream",
     "text": [
      " 41%|████████████████████████████████████████████████████████████████████                                                                                                 | 40/97 [00:07<00:10,  5.19it/s]"
     ]
    },
    {
     "name": "stdout",
     "output_type": "stream",
     "text": [
      "model got a MAE of 45.12820512820513\n",
      "model got an RMSE of 69.56389531312584\n",
      "model median error is: 25.0\n",
      "Ripeness Day: 202.98534798534797\n",
      "Prunus cerasifera\n",
      "making predictions\n",
      "model got a MAE of 112.78125\n",
      "model got an RMSE of 143.4800726581918\n",
      "model median error is: 151.5\n",
      "Ripeness Day: 214.96875\n",
      "Prunus\n",
      "making predictions\n"
     ]
    },
    {
     "name": "stderr",
     "output_type": "stream",
     "text": [
      " 43%|███████████████████████████████████████████████████████████████████████▍                                                                                             | 42/97 [00:08<00:10,  5.22it/s]"
     ]
    },
    {
     "name": "stdout",
     "output_type": "stream",
     "text": [
      "model got a MAE of 57.666666666666664\n",
      "model got an RMSE of 81.90899421512471\n",
      "model median error is: 32.0\n",
      "Ripeness Day: 190.10416666666666\n",
      "Prunus angustifolia\n",
      "        site_id   latitude    doy    year   genus     lon_360  phenophase  \\\n",
      "263452  1811024  34.968962  158.0  2022.0  Prunus  281.037638         516   \n",
      "\n",
      "         formatted_sci_name  rounded_lat  rounded_lon  \n",
      "263452  Prunus angustifolia         35.0        281.0  \n",
      "defaulting to genus model\n",
      "making predictions\n",
      "model got a MAE of 45.12820512820513\n",
      "model got an RMSE of 69.56389531312584\n",
      "model median error is: 25.0\n",
      "Ripeness Day: 202.98534798534797\n",
      "Prunus cocomilia\n",
      "Empty DataFrame\n",
      "Columns: [site_id, latitude, doy, year, genus, lon_360, phenophase, formatted_sci_name, rounded_lat, rounded_lon]\n",
      "Index: []\n",
      "defaulting to genus model\n",
      "making predictions\n"
     ]
    },
    {
     "name": "stderr",
     "output_type": "stream",
     "text": [
      "\r",
      " 44%|█████████████████████████████████████████████████████████████████████████▏                                                                                           | 43/97 [00:08<00:10,  5.15it/s]"
     ]
    },
    {
     "name": "stdout",
     "output_type": "stream",
     "text": [
      "model got a MAE of 45.12820512820513\n",
      "model got an RMSE of 69.56389531312584\n",
      "model median error is: 25.0\n",
      "Ripeness Day: 202.98534798534797\n",
      "Prunus salicina\n",
      "        site_id   latitude    doy    year   genus     lon_360  phenophase  \\\n",
      "263929  1813160  37.713534  182.0  2022.0  Prunus  238.066668         516   \n",
      "\n",
      "       formatted_sci_name  rounded_lat  rounded_lon  \n",
      "263929    Prunus salicina         37.7        238.1  \n",
      "defaulting to genus model\n",
      "making predictions\n"
     ]
    },
    {
     "name": "stderr",
     "output_type": "stream",
     "text": [
      " 46%|████████████████████████████████████████████████████████████████████████████▌                                                                                        | 45/97 [00:08<00:10,  5.13it/s]"
     ]
    },
    {
     "name": "stdout",
     "output_type": "stream",
     "text": [
      "model got a MAE of 45.12820512820513\n",
      "model got an RMSE of 69.56389531312584\n",
      "model median error is: 25.0\n",
      "Ripeness Day: 202.98534798534797\n",
      "Prunus subcordata\n",
      "Empty DataFrame\n",
      "Columns: [site_id, latitude, doy, year, genus, lon_360, phenophase, formatted_sci_name, rounded_lat, rounded_lon]\n",
      "Index: []\n",
      "defaulting to genus model\n",
      "making predictions\n",
      "model got a MAE of 45.12820512820513\n",
      "model got an RMSE of 69.56389531312584\n",
      "model median error is: 25.0\n",
      "Ripeness Day: 202.98534798534797\n",
      "Prunus mexicana\n",
      "        site_id   latitude    doy    year   genus     lon_360  phenophase  \\\n",
      "263584  1822265  30.325591  265.0  2022.0  Prunus  264.501150         516   \n",
      "263585  1822371  32.943147  268.0  2022.0  Prunus  263.304083         516   \n",
      "263586  1823218  32.856503  297.0  2022.0  Prunus  262.831067         516   \n",
      "263587  1821813  39.996610  255.0  2022.0  Prunus  276.915612         516   \n",
      "263588  1754675  32.948342  268.0  2022.0  Prunus  263.301398         516   \n",
      "263590  1062198  32.940646  268.0  2022.0  Prunus  263.302509         516   \n",
      "\n",
      "       formatted_sci_name  rounded_lat  rounded_lon  \n",
      "263584    Prunus mexicana         30.3        264.5  \n",
      "263585    Prunus mexicana         32.9        263.3  \n",
      "263586    Prunus mexicana         32.9        262.8  \n",
      "263587    Prunus mexicana         40.0        276.9  \n",
      "263588    Prunus mexicana         32.9        263.3  \n",
      "263590    Prunus mexicana         32.9        263.3  \n",
      "defaulting to genus model\n",
      "making predictions\n"
     ]
    },
    {
     "name": "stderr",
     "output_type": "stream",
     "text": [
      " 48%|███████████████████████████████████████████████████████████████████████████████▉                                                                                     | 47/97 [00:09<00:09,  5.26it/s]"
     ]
    },
    {
     "name": "stdout",
     "output_type": "stream",
     "text": [
      "model got a MAE of 45.12820512820513\n",
      "model got an RMSE of 69.56389531312584\n",
      "model median error is: 25.0\n",
      "Ripeness Day: 202.98534798534797\n",
      "Prunus rivularis\n",
      "Empty DataFrame\n",
      "Columns: [site_id, latitude, doy, year, genus, lon_360, phenophase, formatted_sci_name, rounded_lat, rounded_lon]\n",
      "Index: []\n",
      "defaulting to genus model\n",
      "making predictions\n",
      "model got a MAE of 45.12820512820513\n",
      "model got an RMSE of 69.56389531312584\n",
      "model median error is: 25.0\n",
      "Ripeness Day: 202.98534798534797\n",
      "Eriobotrya japonica\n",
      "making predictions\n"
     ]
    },
    {
     "name": "stderr",
     "output_type": "stream",
     "text": [
      " 51%|███████████████████████████████████████████████████████████████████████████████████▎                                                                                 | 49/97 [00:09<00:09,  5.14it/s]"
     ]
    },
    {
     "name": "stdout",
     "output_type": "stream",
     "text": [
      "model got a MAE of 75.57894736842105\n",
      "model got an RMSE of 85.04952117814409\n",
      "model median error is: 80.0\n",
      "Ripeness Day: 156.94736842105263\n",
      "Malus sieboldii\n",
      "making predictions\n",
      "model got a MAE of 106.38461538461539\n",
      "model got an RMSE of 128.98568793593998\n",
      "model median error is: 107.0\n",
      "Ripeness Day: 245.0\n"
     ]
    },
    {
     "name": "stderr",
     "output_type": "stream",
     "text": [
      "\r",
      " 52%|█████████████████████████████████████████████████████████████████████████████████████                                                                                | 50/97 [00:09<00:09,  5.17it/s]"
     ]
    },
    {
     "name": "stdout",
     "output_type": "stream",
     "text": [
      "Malus\n",
      "making predictions\n",
      "model got a MAE of 58.17407407407408\n",
      "model got an RMSE of 82.77445929217002\n",
      "model median error is: 39.0\n",
      "Ripeness Day: 244.88518518518518\n",
      "Malus pumila\n",
      "making predictions\n"
     ]
    },
    {
     "name": "stderr",
     "output_type": "stream",
     "text": [
      "\r",
      " 53%|██████████████████████████████████████████████████████████████████████████████████████▊                                                                              | 51/97 [00:10<00:08,  5.15it/s]"
     ]
    },
    {
     "name": "stdout",
     "output_type": "stream",
     "text": [
      "model got a MAE of 29.970588235294116\n",
      "model got an RMSE of 41.954106578778784\n",
      "model median error is: 24.0\n",
      "Ripeness Day: 268.8235294117647\n",
      "Malus domestica\n",
      "Empty DataFrame\n",
      "Columns: [site_id, latitude, doy, year, genus, lon_360, phenophase, formatted_sci_name, rounded_lat, rounded_lon]\n",
      "Index: []\n",
      "defaulting to genus model\n",
      "making predictions\n"
     ]
    },
    {
     "name": "stderr",
     "output_type": "stream",
     "text": [
      " 55%|██████████████████████████████████████████████████████████████████████████████████████████▏                                                                          | 53/97 [00:10<00:08,  5.09it/s]"
     ]
    },
    {
     "name": "stdout",
     "output_type": "stream",
     "text": [
      "model got a MAE of 54.93538461538461\n",
      "model got an RMSE of 80.48090074430942\n",
      "model median error is: 35.0\n",
      "Ripeness Day: 245.0\n",
      "Malus fusca\n",
      "        site_id  latitude    doy    year  genus     lon_360  phenophase  \\\n",
      "324504  1821725   64.8427  253.0  2022.0  Malus  212.282776         516   \n",
      "\n",
      "       formatted_sci_name  rounded_lat  rounded_lon  \n",
      "324504        Malus fusca         64.8        212.3  \n",
      "defaulting to genus model\n",
      "making predictions\n",
      "model got a MAE of 54.93538461538461\n",
      "model got an RMSE of 80.48090074430942\n",
      "model median error is: 35.0\n",
      "Ripeness Day: 245.0\n",
      "Malus sylvestris\n",
      "        site_id   latitude    doy    year  genus     lon_360  phenophase  \\\n",
      "324431  1814230  41.163782  231.0  2022.0  Malus  351.359892         516   \n",
      "\n",
      "       formatted_sci_name  rounded_lat  rounded_lon  \n",
      "324431   Malus sylvestris         41.2        351.4  \n",
      "defaulting to genus model\n",
      "making predictions\n"
     ]
    },
    {
     "name": "stderr",
     "output_type": "stream",
     "text": [
      "\r",
      " 56%|███████████████████████████████████████████████████████████████████████████████████████████▊                                                                         | 54/97 [00:10<00:08,  5.08it/s]"
     ]
    },
    {
     "name": "stdout",
     "output_type": "stream",
     "text": [
      "model got a MAE of 54.93538461538461\n",
      "model got an RMSE of 80.48090074430942\n",
      "model median error is: 35.0\n",
      "Ripeness Day: 245.0\n",
      "Malus coronaria\n",
      "        site_id   latitude    doy    year  genus     lon_360  phenophase  \\\n",
      "324378  1821025  40.607241  234.0  2022.0  Malus  254.931451         516   \n",
      "\n",
      "       formatted_sci_name  rounded_lat  rounded_lon  \n",
      "324378    Malus coronaria         40.6        254.9  \n",
      "defaulting to genus model\n",
      "making predictions\n"
     ]
    },
    {
     "name": "stderr",
     "output_type": "stream",
     "text": [
      " 58%|███████████████████████████████████████████████████████████████████████████████████████████████▎                                                                     | 56/97 [00:11<00:08,  4.99it/s]"
     ]
    },
    {
     "name": "stdout",
     "output_type": "stream",
     "text": [
      "model got a MAE of 54.93538461538461\n",
      "model got an RMSE of 80.48090074430942\n",
      "model median error is: 35.0\n",
      "Ripeness Day: 245.0\n",
      "Malus '\n",
      "Empty DataFrame\n",
      "Columns: [site_id, latitude, doy, year, genus, lon_360, phenophase, formatted_sci_name, rounded_lat, rounded_lon]\n",
      "Index: []\n",
      "defaulting to genus model\n",
      "making predictions\n",
      "model got a MAE of 54.93538461538461\n",
      "model got an RMSE of 80.48090074430942\n",
      "model median error is: 35.0\n",
      "Ripeness Day: 245.0\n",
      "Malus sieversii\n",
      "        site_id   latitude    doy    year  genus     lon_360  phenophase  \\\n",
      "324451  1822212  52.701094  264.0  2022.0  Malus  357.996388         516   \n",
      "\n",
      "       formatted_sci_name  rounded_lat  rounded_lon  \n",
      "324451    Malus sieversii         52.7        358.0  \n",
      "defaulting to genus model\n",
      "making predictions\n"
     ]
    },
    {
     "name": "stderr",
     "output_type": "stream",
     "text": [
      " 60%|██████████████████████████████████████████████████████████████████████████████████████████████████▋                                                                  | 58/97 [00:11<00:07,  5.06it/s]"
     ]
    },
    {
     "name": "stdout",
     "output_type": "stream",
     "text": [
      "model got a MAE of 54.93538461538461\n",
      "model got an RMSE of 80.48090074430942\n",
      "model median error is: 35.0\n",
      "Ripeness Day: 245.0\n",
      "Malus baccata\n",
      "        site_id  latitude    doy    year  genus     lon_360  phenophase  \\\n",
      "324407  1821526  37.21452  248.0  2022.0  Malus  279.555133         516   \n",
      "324437  1821508  39.40328  249.0  2022.0  Malus  252.893946         516   \n",
      "\n",
      "       formatted_sci_name  rounded_lat  rounded_lon  \n",
      "324407      Malus baccata         37.2        279.6  \n",
      "324437      Malus baccata         39.4        252.9  \n",
      "defaulting to genus model\n",
      "making predictions\n",
      "model got a MAE of 54.93538461538461\n",
      "model got an RMSE of 80.48090074430942\n",
      "model median error is: 35.0\n",
      "Ripeness Day: 245.0\n",
      "Malus ioensis\n",
      "        site_id   latitude    doy    year  genus     lon_360  phenophase  \\\n",
      "324432  1814223  35.186666  232.0  2022.0  Malus  253.441666         516   \n",
      "\n",
      "       formatted_sci_name  rounded_lat  rounded_lon  \n",
      "324432      Malus ioensis         35.2        253.4  \n",
      "defaulting to genus model\n",
      "making predictions\n"
     ]
    },
    {
     "name": "stderr",
     "output_type": "stream",
     "text": [
      " 62%|██████████████████████████████████████████████████████████████████████████████████████████████████████                                                               | 60/97 [00:11<00:07,  4.93it/s]"
     ]
    },
    {
     "name": "stdout",
     "output_type": "stream",
     "text": [
      "model got a MAE of 54.93538461538461\n",
      "model got an RMSE of 80.48090074430942\n",
      "model median error is: 35.0\n",
      "Ripeness Day: 245.0\n",
      "Malus hupehensis\n",
      "        site_id   latitude    doy    year  genus     lon_360  phenophase  \\\n",
      "324472  1822744  41.066417  279.0  2022.0  Malus  278.377525         516   \n",
      "\n",
      "       formatted_sci_name  rounded_lat  rounded_lon  \n",
      "324472   Malus hupehensis         41.1        278.4  \n",
      "defaulting to genus model\n",
      "making predictions\n",
      "model got a MAE of 54.93538461538461\n",
      "model got an RMSE of 80.48090074430942\n",
      "model median error is: 35.0\n",
      "Ripeness Day: 245.0\n",
      "Malus tschonoskii\n",
      "Empty DataFrame\n",
      "Columns: [site_id, latitude, doy, year, genus, lon_360, phenophase, formatted_sci_name, rounded_lat, rounded_lon]\n",
      "Index: []\n",
      "defaulting to genus model\n",
      "making predictions\n"
     ]
    },
    {
     "name": "stderr",
     "output_type": "stream",
     "text": [
      " 64%|█████████████████████████████████████████████████████████████████████████████████████████████████████████▍                                                           | 62/97 [00:12<00:06,  5.10it/s]"
     ]
    },
    {
     "name": "stdout",
     "output_type": "stream",
     "text": [
      "model got a MAE of 54.93538461538461\n",
      "model got an RMSE of 80.48090074430942\n",
      "model median error is: 35.0\n",
      "Ripeness Day: 245.0\n",
      "Malus angustifolia\n",
      "Empty DataFrame\n",
      "Columns: [site_id, latitude, doy, year, genus, lon_360, phenophase, formatted_sci_name, rounded_lat, rounded_lon]\n",
      "Index: []\n",
      "defaulting to genus model\n",
      "making predictions\n",
      "model got a MAE of 54.93538461538461\n",
      "model got an RMSE of 80.48090074430942\n",
      "model median error is: 35.0\n",
      "Ripeness Day: 245.0\n",
      "Rosmarinus officinalis\n"
     ]
    },
    {
     "name": "stderr",
     "output_type": "stream",
     "text": [
      "\r",
      " 65%|███████████████████████████████████████████████████████████████████████████████████████████████████████████▏                                                         | 63/97 [00:12<00:06,  5.10it/s]"
     ]
    },
    {
     "name": "stdout",
     "output_type": "stream",
     "text": [
      "making predictions\n",
      "model got a MAE of 98.94736842105263\n",
      "model got an RMSE of 112.16059914247963\n",
      "model median error is: 90.0\n",
      "Ripeness Day: 168.78947368421052\n",
      "Juglans\n",
      "     site_id   latitude    doy    year    genus     lon_360  phenophase  \\\n",
      "213  1812879  49.879625  285.0  2022.0  Juglans  240.551032         516   \n",
      "229  1822899  43.459411  283.0  2022.0  Juglans    1.424556         516   \n",
      "230  1823368  50.699786  306.0  2022.0  Juglans    4.690826         516   \n",
      "231  1823220  48.940092  298.0  2022.0  Juglans    2.901764         516   \n",
      "\n",
      "    formatted_sci_name  rounded_lat  rounded_lon  \n",
      "213            Juglans         49.9        240.6  \n",
      "229            Juglans         43.5          1.4  \n",
      "230            Juglans         50.7          4.7  \n",
      "231            Juglans         48.9          2.9  \n",
      "defaulting to genus model\n",
      "making predictions\n"
     ]
    },
    {
     "name": "stderr",
     "output_type": "stream",
     "text": [
      " 67%|██████████████████████████████████████████████████████████████████████████████████████████████████████████████▌                                                      | 65/97 [00:12<00:06,  5.16it/s]"
     ]
    },
    {
     "name": "stdout",
     "output_type": "stream",
     "text": [
      "model got a MAE of 21.425531914893618\n",
      "model got an RMSE of 31.189537252780028\n",
      "model median error is: 16.0\n",
      "Ripeness Day: 275.0\n",
      "Juglans regia\n",
      "     site_id   latitude    doy    year    genus   lon_360  phenophase  \\\n",
      "514  1812789  50.644604  183.0  2022.0  Juglans  5.793977         516   \n",
      "515  1812790  50.644604  183.0  2022.0  Juglans  5.793977         516   \n",
      "516  1822992  50.011148  287.0  2022.0  Juglans  2.663199         516   \n",
      "\n",
      "    formatted_sci_name  rounded_lat  rounded_lon  \n",
      "514      Juglans regia         50.6          5.8  \n",
      "515      Juglans regia         50.6          5.8  \n",
      "516      Juglans regia         50.0          2.7  \n",
      "defaulting to genus model\n",
      "making predictions\n",
      "model got a MAE of 21.425531914893618\n",
      "model got an RMSE of 31.189537252780028\n",
      "model median error is: 16.0\n",
      "Ripeness Day: 275.0\n",
      "Juglans cinerea\n",
      "Empty DataFrame\n",
      "Columns: [site_id, latitude, doy, year, genus, lon_360, phenophase, formatted_sci_name, rounded_lat, rounded_lon]\n",
      "Index: []\n",
      "defaulting to genus model\n",
      "making predictions\n"
     ]
    },
    {
     "name": "stderr",
     "output_type": "stream",
     "text": [
      " 69%|█████████████████████████████████████████████████████████████████████████████████████████████████████████████████▉                                                   | 67/97 [00:13<00:05,  5.06it/s]"
     ]
    },
    {
     "name": "stdout",
     "output_type": "stream",
     "text": [
      "model got a MAE of 21.425531914893618\n",
      "model got an RMSE of 31.189537252780028\n",
      "model median error is: 16.0\n",
      "Ripeness Day: 275.0\n",
      "Juglans hindsii\n",
      "     site_id   latitude    doy    year    genus     lon_360  phenophase  \\\n",
      "279  1823853  32.925253  330.0  2022.0  Juglans  262.754884         516   \n",
      "\n",
      "    formatted_sci_name  rounded_lat  rounded_lon  \n",
      "279    Juglans hindsii         32.9        262.8  \n",
      "defaulting to genus model\n",
      "making predictions\n",
      "model got a MAE of 21.425531914893618\n",
      "model got an RMSE of 31.189537252780028\n",
      "model median error is: 16.0\n",
      "Ripeness Day: 275.0\n",
      "Juglans major\n",
      "Empty DataFrame\n",
      "Columns: [site_id, latitude, doy, year, genus, lon_360, phenophase, formatted_sci_name, rounded_lat, rounded_lon]\n",
      "Index: []\n",
      "defaulting to genus model\n",
      "making predictions\n"
     ]
    },
    {
     "name": "stderr",
     "output_type": "stream",
     "text": [
      " 71%|█████████████████████████████████████████████████████████████████████████████████████████████████████████████████████▎                                               | 69/97 [00:13<00:05,  5.23it/s]"
     ]
    },
    {
     "name": "stdout",
     "output_type": "stream",
     "text": [
      "model got a MAE of 21.425531914893618\n",
      "model got an RMSE of 31.189537252780028\n",
      "model median error is: 16.0\n",
      "Ripeness Day: 275.0\n",
      "Juglans nigra\n",
      "making predictions\n",
      "model got a MAE of 19.846153846153847\n",
      "model got an RMSE of 27.665585397468373\n",
      "model median error is: 16.0\n",
      "Ripeness Day: 272.6923076923077\n",
      "Prunus serotina\n",
      "making predictions\n"
     ]
    },
    {
     "name": "stderr",
     "output_type": "stream",
     "text": [
      "\r",
      " 72%|███████████████████████████████████████████████████████████████████████████████████████████████████████████████████████                                              | 70/97 [00:13<00:05,  5.26it/s]"
     ]
    },
    {
     "name": "stdout",
     "output_type": "stream",
     "text": [
      "model got a MAE of 17.97222222222222\n",
      "model got an RMSE of 24.77846287044905\n",
      "model median error is: 13.0\n",
      "Ripeness Day: 211.41666666666666\n",
      "Prunus virginiana\n",
      "making predictions\n"
     ]
    },
    {
     "name": "stderr",
     "output_type": "stream",
     "text": [
      "\r",
      " 73%|████████████████████████████████████████████████████████████████████████████████████████████████████████████████████████▊                                            | 71/97 [00:13<00:05,  5.13it/s]"
     ]
    },
    {
     "name": "stdout",
     "output_type": "stream",
     "text": [
      "model got a MAE of 17.433333333333334\n",
      "model got an RMSE of 20.809452980156237\n",
      "model median error is: 15.5\n",
      "Ripeness Day: 239.83333333333334\n",
      "Prunus yedoensis\n",
      "     site_id  latitude    doy    year   genus    lon_360  phenophase  \\\n",
      "447       23  40.73082  159.0  2022.0  Prunus  286.00267         516   \n",
      "448       23  40.73082  165.0  2022.0  Prunus  286.00267         516   \n",
      "\n",
      "    formatted_sci_name  rounded_lat  rounded_lon  \n",
      "447   Prunus yedoensis         40.7        286.0  \n",
      "448   Prunus yedoensis         40.7        286.0  \n",
      "defaulting to genus model\n",
      "making predictions\n"
     ]
    },
    {
     "name": "stderr",
     "output_type": "stream",
     "text": [
      "\r",
      " 74%|██████████████████████████████████████████████████████████████████████████████████████████████████████████████████████████▍                                          | 72/97 [00:14<00:04,  5.04it/s]"
     ]
    },
    {
     "name": "stdout",
     "output_type": "stream",
     "text": [
      "model got a MAE of 45.12820512820513\n",
      "model got an RMSE of 69.56389531312584\n",
      "model median error is: 25.0\n",
      "Ripeness Day: 202.98534798534797\n",
      "Prunus ilicifolia\n",
      "     site_id   latitude    doy    year   genus    lon_360  phenophase  \\\n",
      "961       46  34.099792  118.0  2022.0  Prunus  241.98964         516   \n",
      "\n",
      "    formatted_sci_name  rounded_lat  rounded_lon  \n",
      "961  Prunus ilicifolia         34.1        242.0  \n",
      "defaulting to genus model\n",
      "making predictions\n"
     ]
    },
    {
     "name": "stderr",
     "output_type": "stream",
     "text": [
      " 76%|█████████████████████████████████████████████████████████████████████████████████████████████████████████████████████████████▉                                       | 74/97 [00:14<00:04,  5.07it/s]"
     ]
    },
    {
     "name": "stdout",
     "output_type": "stream",
     "text": [
      "model got a MAE of 45.12820512820513\n",
      "model got an RMSE of 69.56389531312584\n",
      "model median error is: 25.0\n",
      "Ripeness Day: 202.98534798534797\n",
      "Prunus cerasus\n",
      "making predictions\n",
      "model got a MAE of 64.57142857142857\n",
      "model got an RMSE of 81.20960534321048\n",
      "model median error is: 53.5\n",
      "Ripeness Day: 185.21428571428572\n",
      "Prunus emarginata\n",
      "Empty DataFrame\n",
      "Columns: [site_id, latitude, doy, year, genus, lon_360, phenophase, formatted_sci_name, rounded_lat, rounded_lon]\n",
      "Index: []\n",
      "defaulting to genus model\n",
      "making predictions\n"
     ]
    },
    {
     "name": "stderr",
     "output_type": "stream",
     "text": [
      "\r",
      " 77%|███████████████████████████████████████████████████████████████████████████████████████████████████████████████████████████████▌                                     | 75/97 [00:14<00:04,  5.14it/s]"
     ]
    },
    {
     "name": "stdout",
     "output_type": "stream",
     "text": [
      "model got a MAE of 45.12820512820513\n",
      "model got an RMSE of 69.56389531312584\n",
      "model median error is: 25.0\n",
      "Ripeness Day: 202.98534798534797\n",
      "Prunus pensylvanica\n",
      "      site_id   latitude    doy    year   genus   lon_360  phenophase  \\\n",
      "1340       70  44.863600  185.0  2022.0  Prunus  281.7148         516   \n",
      "1343       70  44.863600  188.0  2022.0  Prunus  281.7148         516   \n",
      "1344       70  44.863600  189.0  2022.0  Prunus  281.7148         516   \n",
      "2340       17  47.143215  212.0  2022.0  Prunus  266.5690         516   \n",
      "2341       17  47.143215  206.0  2022.0  Prunus  266.5690         516   \n",
      "2342       17  47.143215  203.0  2022.0  Prunus  266.5690         516   \n",
      "\n",
      "       formatted_sci_name  rounded_lat  rounded_lon  \n",
      "1340  Prunus pensylvanica         44.9        281.7  \n",
      "1343  Prunus pensylvanica         44.9        281.7  \n",
      "1344  Prunus pensylvanica         44.9        281.7  \n",
      "2340  Prunus pensylvanica         47.1        266.6  \n",
      "2341  Prunus pensylvanica         47.1        266.6  \n",
      "2342  Prunus pensylvanica         47.1        266.6  \n",
      "defaulting to genus model\n",
      "making predictions\n"
     ]
    },
    {
     "name": "stderr",
     "output_type": "stream",
     "text": [
      " 79%|██████████████████████████████████████████████████████████████████████████████████████████████████████████████████████████████████▉                                  | 77/97 [00:15<00:03,  5.10it/s]"
     ]
    },
    {
     "name": "stdout",
     "output_type": "stream",
     "text": [
      "model got a MAE of 45.12820512820513\n",
      "model got an RMSE of 69.56389531312584\n",
      "model median error is: 25.0\n",
      "Ripeness Day: 202.98534798534797\n",
      "Prunus laurocerasus\n",
      "Empty DataFrame\n",
      "Columns: [site_id, latitude, doy, year, genus, lon_360, phenophase, formatted_sci_name, rounded_lat, rounded_lon]\n",
      "Index: []\n",
      "defaulting to genus model\n",
      "making predictions\n",
      "model got a MAE of 45.12820512820513\n",
      "model got an RMSE of 69.56389531312584\n",
      "model median error is: 25.0\n",
      "Ripeness Day: 202.98534798534797\n",
      "Prunus serrulata\n",
      "Empty DataFrame\n",
      "Columns: [site_id, latitude, doy, year, genus, lon_360, phenophase, formatted_sci_name, rounded_lat, rounded_lon]\n",
      "Index: []\n",
      "defaulting to genus model\n",
      "making predictions\n"
     ]
    },
    {
     "name": "stderr",
     "output_type": "stream",
     "text": [
      " 81%|██████████████████████████████████████████████████████████████████████████████████████████████████████████████████████████████████████▍                              | 79/97 [00:15<00:03,  5.07it/s]"
     ]
    },
    {
     "name": "stdout",
     "output_type": "stream",
     "text": [
      "model got a MAE of 45.12820512820513\n",
      "model got an RMSE of 69.56389531312584\n",
      "model median error is: 25.0\n",
      "Ripeness Day: 202.98534798534797\n",
      "Prunus avium\n",
      "making predictions\n",
      "model got a MAE of 18.4\n",
      "model got an RMSE of 33.97204733306487\n",
      "model median error is: 6.5\n",
      "Ripeness Day: 172.5\n",
      "Cornus mas\n",
      "        site_id   latitude    doy    year   genus     lon_360  phenophase  \\\n",
      "162138  1821395  47.395616  247.0  2022.0  Cornus    8.553129         516   \n",
      "162139  1813688  40.440894  213.0  2022.0  Cornus  280.085261         516   \n",
      "162140   920345  47.670793  242.0  2022.0  Cornus  242.601981         516   \n",
      "\n",
      "       formatted_sci_name  rounded_lat  rounded_lon  \n",
      "162138         Cornus mas         47.4          8.6  \n",
      "162139         Cornus mas         40.4        280.1  \n",
      "162140         Cornus mas         47.7        242.6  \n",
      "defaulting to genus model\n",
      "making predictions\n"
     ]
    },
    {
     "name": "stderr",
     "output_type": "stream",
     "text": [
      " 84%|█████████████████████████████████████████████████████████████████████████████████████████████████████████████████████████████████████████▊                           | 81/97 [00:15<00:03,  5.21it/s]"
     ]
    },
    {
     "name": "stdout",
     "output_type": "stream",
     "text": [
      "model got a MAE of 22.666666666666668\n",
      "model got an RMSE of 26.595739007091595\n",
      "model median error is: 32.0\n",
      "Ripeness Day: 234.66666666666666\n",
      "Ehretia tinifolia\n",
      "Empty DataFrame\n",
      "Columns: [site_id, latitude, doy, year, genus, lon_360, phenophase, formatted_sci_name, rounded_lat, rounded_lon]\n",
      "Index: []\n",
      "defaulting to genus model\n",
      "making predictions\n",
      "model got a MAE of nan\n",
      "model got an RMSE of nan\n",
      "model median error is: nan\n",
      "Ripeness Day: nan\n",
      "Elaeagnus multiflora\n",
      "Empty DataFrame\n",
      "Columns: [site_id, latitude, doy, year, genus, lon_360, phenophase, formatted_sci_name, rounded_lat, rounded_lon]\n",
      "Index: []\n",
      "defaulting to genus model\n",
      "making predictions\n"
     ]
    },
    {
     "name": "stderr",
     "output_type": "stream",
     "text": [
      " 86%|█████████████████████████████████████████████████████████████████████████████████████████████████████████████████████████████████████████████▏                       | 83/97 [00:16<00:02,  5.11it/s]"
     ]
    },
    {
     "name": "stdout",
     "output_type": "stream",
     "text": [
      "model got a MAE of nan\n",
      "model got an RMSE of nan\n",
      "model median error is: nan\n",
      "Ripeness Day: nan\n",
      "Eugenia brasiliensis\n",
      "Empty DataFrame\n",
      "Columns: [site_id, latitude, doy, year, genus, lon_360, phenophase, formatted_sci_name, rounded_lat, rounded_lon]\n",
      "Index: []\n",
      "defaulting to genus model\n",
      "making predictions\n",
      "model got a MAE of nan\n",
      "model got an RMSE of nan\n",
      "model median error is: nan\n",
      "Ripeness Day: nan\n",
      "Prunus fruticosa\n",
      "Empty DataFrame\n",
      "Columns: [site_id, latitude, doy, year, genus, lon_360, phenophase, formatted_sci_name, rounded_lat, rounded_lon]\n",
      "Index: []\n",
      "defaulting to genus model\n",
      "making predictions\n"
     ]
    },
    {
     "name": "stderr",
     "output_type": "stream",
     "text": [
      " 88%|████████████████████████████████████████████████████████████████████████████████████████████████████████████████████████████████████████████████▌                    | 85/97 [00:16<00:02,  5.08it/s]"
     ]
    },
    {
     "name": "stdout",
     "output_type": "stream",
     "text": [
      "model got a MAE of 45.12820512820513\n",
      "model got an RMSE of 69.56389531312584\n",
      "model median error is: 25.0\n",
      "Ripeness Day: 202.98534798534797\n",
      "Prunus maackii\n",
      "Empty DataFrame\n",
      "Columns: [site_id, latitude, doy, year, genus, lon_360, phenophase, formatted_sci_name, rounded_lat, rounded_lon]\n",
      "Index: []\n",
      "defaulting to genus model\n",
      "making predictions\n",
      "model got a MAE of 45.12820512820513\n",
      "model got an RMSE of 69.56389531312584\n",
      "model median error is: 25.0\n",
      "Ripeness Day: 202.98534798534797\n",
      "Prunus mahaleb\n",
      "        site_id   latitude    doy    year   genus     lon_360  phenophase  \\\n",
      "162566  1813248  40.241985  200.0  2022.0  Prunus  248.316326         516   \n",
      "\n",
      "       formatted_sci_name  rounded_lat  rounded_lon  \n",
      "162566     Prunus mahaleb         40.2        248.3  \n",
      "defaulting to genus model\n",
      "making predictions\n"
     ]
    },
    {
     "name": "stderr",
     "output_type": "stream",
     "text": [
      " 90%|███████████████████████████████████████████████████████████████████████████████████████████████████████████████████████████████████████████████████▉                 | 87/97 [00:17<00:01,  5.09it/s]"
     ]
    },
    {
     "name": "stdout",
     "output_type": "stream",
     "text": [
      "model got a MAE of 45.12820512820513\n",
      "model got an RMSE of 69.56389531312584\n",
      "model median error is: 25.0\n",
      "Ripeness Day: 202.98534798534797\n",
      "Prunus padus\n",
      "Empty DataFrame\n",
      "Columns: [site_id, latitude, doy, year, genus, lon_360, phenophase, formatted_sci_name, rounded_lat, rounded_lon]\n",
      "Index: []\n",
      "defaulting to genus model\n",
      "making predictions\n",
      "model got a MAE of 45.12820512820513\n",
      "model got an RMSE of 69.56389531312584\n",
      "model median error is: 25.0\n",
      "Ripeness Day: 202.98534798534797\n",
      "Prunus subhirtella\n",
      "        site_id   latitude    doy    year   genus     lon_360  phenophase  \\\n",
      "162592  1812980  41.977884  189.0  2022.0  Prunus  271.986629         516   \n",
      "162593  1812981  41.977884  189.0  2022.0  Prunus  271.986629         516   \n",
      "\n",
      "        formatted_sci_name  rounded_lat  rounded_lon  \n",
      "162592  Prunus subhirtella         42.0        272.0  \n",
      "162593  Prunus subhirtella         42.0        272.0  \n",
      "defaulting to genus model\n",
      "making predictions\n"
     ]
    },
    {
     "name": "stderr",
     "output_type": "stream",
     "text": [
      "\r",
      " 91%|█████████████████████████████████████████████████████████████████████████████████████████████████████████████████████████████████████████████████████▋               | 88/97 [00:17<00:01,  4.86it/s]"
     ]
    },
    {
     "name": "stdout",
     "output_type": "stream",
     "text": [
      "model got a MAE of 45.12820512820513\n",
      "model got an RMSE of 69.56389531312584\n",
      "model median error is: 25.0\n",
      "Ripeness Day: 202.98534798534797\n",
      "Prunus tomentosa\n",
      "Empty DataFrame\n",
      "Columns: [site_id, latitude, doy, year, genus, lon_360, phenophase, formatted_sci_name, rounded_lat, rounded_lon]\n",
      "Index: []\n",
      "defaulting to genus model\n",
      "making predictions\n"
     ]
    },
    {
     "name": "stderr",
     "output_type": "stream",
     "text": [
      " 93%|█████████████████████████████████████████████████████████████████████████████████████████████████████████████████████████████████████████████████████████            | 90/97 [00:17<00:01,  4.98it/s]"
     ]
    },
    {
     "name": "stdout",
     "output_type": "stream",
     "text": [
      "model got a MAE of 45.12820512820513\n",
      "model got an RMSE of 69.56389531312584\n",
      "model median error is: 25.0\n",
      "Ripeness Day: 202.98534798534797\n",
      "Diospyros virginiana\n",
      "making predictions\n",
      "model got a MAE of 43.55813953488372\n",
      "model got an RMSE of 87.34414691323055\n",
      "model median error is: 16.0\n",
      "Ripeness Day: 279.3255813953488\n",
      "Diospyros\n",
      "     site_id   latitude    doy    year      genus     lon_360  phenophase  \\\n",
      "272  1769083  36.096970  269.0  2022.0  Diospyros  280.547282         516   \n",
      "286  1823671  39.121636  310.0  2022.0  Diospyros  282.866596         516   \n",
      "293  1822188  34.025326  260.0  2022.0  Diospyros  275.382572         516   \n",
      "294  1823670  39.096375  316.0  2022.0  Diospyros  282.875515         516   \n",
      "295  1823886  38.784363  258.0  2022.0  Diospyros  269.218366         516   \n",
      "323  1517039  36.145517  271.0  2022.0  Diospyros  273.194672         516   \n",
      "\n",
      "    formatted_sci_name  rounded_lat  rounded_lon  \n",
      "272          Diospyros         36.1        280.5  \n",
      "286          Diospyros         39.1        282.9  \n",
      "293          Diospyros         34.0        275.4  \n",
      "294          Diospyros         39.1        282.9  \n",
      "295          Diospyros         38.8        269.2  \n",
      "323          Diospyros         36.1        273.2  \n",
      "defaulting to genus model\n",
      "making predictions\n"
     ]
    },
    {
     "name": "stderr",
     "output_type": "stream",
     "text": [
      "\r",
      " 94%|██████████████████████████████████████████████████████████████████████████████████████████████████████████████████████████████████████████████████████████▊          | 91/97 [00:17<00:01,  5.01it/s]"
     ]
    },
    {
     "name": "stdout",
     "output_type": "stream",
     "text": [
      "model got a MAE of 44.36\n",
      "model got an RMSE of 82.73403169192228\n",
      "model median error is: 20.0\n",
      "Ripeness Day: 272.9\n",
      "Diospyros kaki\n",
      "     site_id   latitude    doy    year      genus     lon_360  phenophase  \\\n",
      "339  1807679  33.879595    6.0  2022.0  Diospyros  241.898079         516   \n",
      "340  1823745  44.085285  288.0  2022.0  Diospyros    9.955415         516   \n",
      "341  1823746  44.085325  288.0  2022.0  Diospyros    9.955387         516   \n",
      "342  1823747  43.901271  289.0  2022.0  Diospyros   10.378301         516   \n",
      "349   594055  32.584500  288.0  2022.0  Diospyros  274.456501         516   \n",
      "359  1822599  34.199382  274.0  2022.0  Diospyros  241.453825         516   \n",
      "365  1822709  37.817182  278.0  2022.0  Diospyros  237.761448         516   \n",
      "366  1823297  37.569435  303.0  2022.0  Diospyros  237.666649         516   \n",
      "\n",
      "    formatted_sci_name  rounded_lat  rounded_lon  \n",
      "339     Diospyros kaki         33.9        241.9  \n",
      "340     Diospyros kaki         44.1         10.0  \n",
      "341     Diospyros kaki         44.1         10.0  \n",
      "342     Diospyros kaki         43.9         10.4  \n",
      "349     Diospyros kaki         32.6        274.5  \n",
      "359     Diospyros kaki         34.2        241.5  \n",
      "365     Diospyros kaki         37.8        237.8  \n",
      "366     Diospyros kaki         37.6        237.7  \n",
      "defaulting to genus model\n",
      "making predictions\n"
     ]
    },
    {
     "name": "stderr",
     "output_type": "stream",
     "text": [
      "\r",
      " 95%|████████████████████████████████████████████████████████████████████████████████████████████████████████████████████████████████████████████████████████████▍        | 92/97 [00:18<00:01,  4.99it/s]"
     ]
    },
    {
     "name": "stdout",
     "output_type": "stream",
     "text": [
      "model got a MAE of 44.36\n",
      "model got an RMSE of 82.73403169192228\n",
      "model median error is: 20.0\n",
      "Ripeness Day: 272.9\n",
      "Pyrus communis\n",
      "making predictions\n",
      "model got a MAE of 45.666666666666664\n",
      "model got an RMSE of 69.56851139544224\n",
      "model median error is: 35.0\n",
      "Ripeness Day: 245.0\n"
     ]
    },
    {
     "name": "stderr",
     "output_type": "stream",
     "text": [
      " 97%|███████████████████████████████████████████████████████████████████████████████████████████████████████████████████████████████████████████████████████████████▉     | 94/97 [00:18<00:00,  4.99it/s]"
     ]
    },
    {
     "name": "stdout",
     "output_type": "stream",
     "text": [
      "Pyrus\n",
      "making predictions\n",
      "model got a MAE of 23.0\n",
      "model got an RMSE of 28.667054260945612\n",
      "model median error is: 16.0\n",
      "Ripeness Day: 242.93333333333334\n",
      "Pyrus amygdaliformis\n",
      "Empty DataFrame\n",
      "Columns: [site_id, latitude, doy, year, genus, lon_360, phenophase, formatted_sci_name, rounded_lat, rounded_lon]\n",
      "Index: []\n",
      "defaulting to genus model\n",
      "making predictions\n"
     ]
    },
    {
     "name": "stderr",
     "output_type": "stream",
     "text": [
      " 99%|███████████████████████████████████████████████████████████████████████████████████████████████████████████████████████████████████████████████████████████████████▎ | 96/97 [00:18<00:00,  5.13it/s]"
     ]
    },
    {
     "name": "stdout",
     "output_type": "stream",
     "text": [
      "model got a MAE of 34.35294117647059\n",
      "model got an RMSE of 54.08163763618632\n",
      "model median error is: 26.5\n",
      "Ripeness Day: 244.08823529411765\n",
      "Pyrus pyraster\n",
      "Empty DataFrame\n",
      "Columns: [site_id, latitude, doy, year, genus, lon_360, phenophase, formatted_sci_name, rounded_lat, rounded_lon]\n",
      "Index: []\n",
      "defaulting to genus model\n",
      "making predictions\n",
      "model got a MAE of 34.35294117647059\n",
      "model got an RMSE of 54.08163763618632\n",
      "model median error is: 26.5\n",
      "Ripeness Day: 244.08823529411765\n",
      "Pyrus pyrifolia\n",
      "        site_id   latitude    doy    year  genus     lon_360  phenophase  \\\n",
      "148859  1821277  45.499888  244.0  2022.0  Pyrus  237.365864         516   \n",
      "\n",
      "       formatted_sci_name  rounded_lat  rounded_lon  \n",
      "148859    Pyrus pyrifolia         45.5        237.4  \n",
      "defaulting to genus model\n",
      "making predictions\n"
     ]
    },
    {
     "name": "stderr",
     "output_type": "stream",
     "text": [
      "100%|█████████████████████████████████████████████████████████████████████████████████████████████████████████████████████████████████████████████████████████████████████| 97/97 [00:19<00:00,  5.08it/s]"
     ]
    },
    {
     "name": "stdout",
     "output_type": "stream",
     "text": [
      "model got a MAE of 34.35294117647059\n",
      "model got an RMSE of 54.08163763618632\n",
      "model median error is: 26.5\n",
      "Ripeness Day: 244.08823529411765\n"
     ]
    },
    {
     "name": "stderr",
     "output_type": "stream",
     "text": [
      "\n"
     ]
    }
   ],
   "source": [
    "## Test models\n",
    "\n",
    "## Need to filter out genuses with 1 observation\n",
    "genus_sizes = pd.DataFrame(filtered_plants.groupby('genus').size()).rename(columns={0:'n'}).query('n > 1')\n",
    "species_data_cutoff = np.min(genus_sizes['n'])\n",
    "\n",
    "## need to set lower threshold for defaulting to genus model\n",
    "\n",
    "species_prediction_dict = {}\n",
    "\n",
    "for s in tqdm(species_list):\n",
    "    print(s)\n",
    "    \n",
    "    genus = get_genus(s)\n",
    "    \n",
    "    species_model = species_model_dict[s]\n",
    "    genus_model = genus_model_dict[genus]\n",
    "    \n",
    "    species_test_df = filtered_plants.query('formatted_sci_name == \"{}\" and year >= {}'.format(s, high_cutoff_year))\n",
    "    genus_test_df = filtered_plants.query('genus == \"{}\" and year >= {}'.format(genus, high_cutoff_year))\n",
    "    \n",
    "    predictions = None\n",
    "    \n",
    "    if len(species_test_df) <= 10:\n",
    "        print(species_test_df)\n",
    "        # make predictions and compare to the mean ripeness day at each site\n",
    "        print(\"defaulting to genus model\")\n",
    "        predictions = test_model(genus_test_df, weather_test, genus_model)\n",
    "        \n",
    "    else:\n",
    "        predictions = test_model(species_test_df, weather_test, species_model)\n",
    "        \n",
    "    #predictions = test_model(species_test_df, weather_test, species_model)\n",
    "    \n",
    "    species_prediction_dict[s] = predictions"
   ]
  },
  {
   "cell_type": "markdown",
   "id": "8cf0f705",
   "metadata": {},
   "source": [
    "## Model Validation"
   ]
  },
  {
   "cell_type": "code",
   "execution_count": 44,
   "id": "a22447df",
   "metadata": {},
   "outputs": [],
   "source": [
    "full_predictions = pd.concat(list(species_prediction_dict.values()))"
   ]
  },
  {
   "cell_type": "code",
   "execution_count": 45,
   "id": "5db5df0f",
   "metadata": {
    "collapsed": true
   },
   "outputs": [
    {
     "data": {
      "text/html": [
       "<div>\n",
       "<style scoped>\n",
       "    .dataframe tbody tr th:only-of-type {\n",
       "        vertical-align: middle;\n",
       "    }\n",
       "\n",
       "    .dataframe tbody tr th {\n",
       "        vertical-align: top;\n",
       "    }\n",
       "\n",
       "    .dataframe thead th {\n",
       "        text-align: right;\n",
       "    }\n",
       "</style>\n",
       "<table border=\"1\" class=\"dataframe\">\n",
       "  <thead>\n",
       "    <tr style=\"text-align: right;\">\n",
       "      <th></th>\n",
       "      <th>site_id</th>\n",
       "      <th>latitude</th>\n",
       "      <th>doy</th>\n",
       "      <th>year</th>\n",
       "      <th>genus</th>\n",
       "      <th>lon_360</th>\n",
       "      <th>phenophase</th>\n",
       "      <th>formatted_sci_name</th>\n",
       "      <th>rounded_lat</th>\n",
       "      <th>rounded_lon</th>\n",
       "      <th>flowering_day</th>\n",
       "    </tr>\n",
       "  </thead>\n",
       "  <tbody>\n",
       "    <tr>\n",
       "      <th>19</th>\n",
       "      <td>1812903</td>\n",
       "      <td>42.000443</td>\n",
       "      <td>183.0</td>\n",
       "      <td>2022.0</td>\n",
       "      <td>Rubus</td>\n",
       "      <td>268.349632</td>\n",
       "      <td>516</td>\n",
       "      <td>Rubus</td>\n",
       "      <td>42.0</td>\n",
       "      <td>268.3</td>\n",
       "      <td>183</td>\n",
       "    </tr>\n",
       "    <tr>\n",
       "      <th>20</th>\n",
       "      <td>1812992</td>\n",
       "      <td>43.123822</td>\n",
       "      <td>181.0</td>\n",
       "      <td>2022.0</td>\n",
       "      <td>Rubus</td>\n",
       "      <td>282.422069</td>\n",
       "      <td>516</td>\n",
       "      <td>Rubus</td>\n",
       "      <td>43.1</td>\n",
       "      <td>282.4</td>\n",
       "      <td>183</td>\n",
       "    </tr>\n",
       "    <tr>\n",
       "      <th>22</th>\n",
       "      <td>1813012</td>\n",
       "      <td>35.219765</td>\n",
       "      <td>190.0</td>\n",
       "      <td>2022.0</td>\n",
       "      <td>Rubus</td>\n",
       "      <td>270.150501</td>\n",
       "      <td>516</td>\n",
       "      <td>Rubus</td>\n",
       "      <td>35.2</td>\n",
       "      <td>270.2</td>\n",
       "      <td>183</td>\n",
       "    </tr>\n",
       "    <tr>\n",
       "      <th>23</th>\n",
       "      <td>1813095</td>\n",
       "      <td>43.026309</td>\n",
       "      <td>193.0</td>\n",
       "      <td>2022.0</td>\n",
       "      <td>Rubus</td>\n",
       "      <td>274.317216</td>\n",
       "      <td>516</td>\n",
       "      <td>Rubus</td>\n",
       "      <td>43.0</td>\n",
       "      <td>274.3</td>\n",
       "      <td>183</td>\n",
       "    </tr>\n",
       "    <tr>\n",
       "      <th>25</th>\n",
       "      <td>1810562</td>\n",
       "      <td>37.417095</td>\n",
       "      <td>165.0</td>\n",
       "      <td>2022.0</td>\n",
       "      <td>Rubus</td>\n",
       "      <td>280.809241</td>\n",
       "      <td>516</td>\n",
       "      <td>Rubus</td>\n",
       "      <td>37.4</td>\n",
       "      <td>280.8</td>\n",
       "      <td>183</td>\n",
       "    </tr>\n",
       "    <tr>\n",
       "      <th>...</th>\n",
       "      <td>...</td>\n",
       "      <td>...</td>\n",
       "      <td>...</td>\n",
       "      <td>...</td>\n",
       "      <td>...</td>\n",
       "      <td>...</td>\n",
       "      <td>...</td>\n",
       "      <td>...</td>\n",
       "      <td>...</td>\n",
       "      <td>...</td>\n",
       "      <td>...</td>\n",
       "    </tr>\n",
       "    <tr>\n",
       "      <th>148825</th>\n",
       "      <td>1814107</td>\n",
       "      <td>39.981231</td>\n",
       "      <td>229.0</td>\n",
       "      <td>2022.0</td>\n",
       "      <td>Pyrus</td>\n",
       "      <td>276.847639</td>\n",
       "      <td>516</td>\n",
       "      <td>Pyrus communis</td>\n",
       "      <td>40.0</td>\n",
       "      <td>276.8</td>\n",
       "      <td>245</td>\n",
       "    </tr>\n",
       "    <tr>\n",
       "      <th>148834</th>\n",
       "      <td>1822209</td>\n",
       "      <td>35.623004</td>\n",
       "      <td>264.0</td>\n",
       "      <td>2022.0</td>\n",
       "      <td>Pyrus</td>\n",
       "      <td>262.402859</td>\n",
       "      <td>516</td>\n",
       "      <td>Pyrus communis</td>\n",
       "      <td>35.6</td>\n",
       "      <td>262.4</td>\n",
       "      <td>245</td>\n",
       "    </tr>\n",
       "    <tr>\n",
       "      <th>148838</th>\n",
       "      <td>1822962</td>\n",
       "      <td>41.593695</td>\n",
       "      <td>286.0</td>\n",
       "      <td>2022.0</td>\n",
       "      <td>Pyrus</td>\n",
       "      <td>276.353681</td>\n",
       "      <td>516</td>\n",
       "      <td>Pyrus communis</td>\n",
       "      <td>41.6</td>\n",
       "      <td>276.4</td>\n",
       "      <td>245</td>\n",
       "    </tr>\n",
       "    <tr>\n",
       "      <th>148844</th>\n",
       "      <td>1808384</td>\n",
       "      <td>-35.167337</td>\n",
       "      <td>56.0</td>\n",
       "      <td>2022.0</td>\n",
       "      <td>Pyrus</td>\n",
       "      <td>149.041190</td>\n",
       "      <td>516</td>\n",
       "      <td>Pyrus communis</td>\n",
       "      <td>-35.2</td>\n",
       "      <td>149.0</td>\n",
       "      <td>245</td>\n",
       "    </tr>\n",
       "    <tr>\n",
       "      <th>148859</th>\n",
       "      <td>1821277</td>\n",
       "      <td>45.499888</td>\n",
       "      <td>244.0</td>\n",
       "      <td>2022.0</td>\n",
       "      <td>Pyrus</td>\n",
       "      <td>237.365864</td>\n",
       "      <td>516</td>\n",
       "      <td>Pyrus pyrifolia</td>\n",
       "      <td>45.5</td>\n",
       "      <td>237.4</td>\n",
       "      <td>245</td>\n",
       "    </tr>\n",
       "  </tbody>\n",
       "</table>\n",
       "<p>12659 rows × 11 columns</p>\n",
       "</div>"
      ],
      "text/plain": [
       "        site_id   latitude    doy    year  genus     lon_360  phenophase  \\\n",
       "19      1812903  42.000443  183.0  2022.0  Rubus  268.349632         516   \n",
       "20      1812992  43.123822  181.0  2022.0  Rubus  282.422069         516   \n",
       "22      1813012  35.219765  190.0  2022.0  Rubus  270.150501         516   \n",
       "23      1813095  43.026309  193.0  2022.0  Rubus  274.317216         516   \n",
       "25      1810562  37.417095  165.0  2022.0  Rubus  280.809241         516   \n",
       "...         ...        ...    ...     ...    ...         ...         ...   \n",
       "148825  1814107  39.981231  229.0  2022.0  Pyrus  276.847639         516   \n",
       "148834  1822209  35.623004  264.0  2022.0  Pyrus  262.402859         516   \n",
       "148838  1822962  41.593695  286.0  2022.0  Pyrus  276.353681         516   \n",
       "148844  1808384 -35.167337   56.0  2022.0  Pyrus  149.041190         516   \n",
       "148859  1821277  45.499888  244.0  2022.0  Pyrus  237.365864         516   \n",
       "\n",
       "       formatted_sci_name  rounded_lat  rounded_lon  flowering_day  \n",
       "19                  Rubus         42.0        268.3            183  \n",
       "20                  Rubus         43.1        282.4            183  \n",
       "22                  Rubus         35.2        270.2            183  \n",
       "23                  Rubus         43.0        274.3            183  \n",
       "25                  Rubus         37.4        280.8            183  \n",
       "...                   ...          ...          ...            ...  \n",
       "148825     Pyrus communis         40.0        276.8            245  \n",
       "148834     Pyrus communis         35.6        262.4            245  \n",
       "148838     Pyrus communis         41.6        276.4            245  \n",
       "148844     Pyrus communis        -35.2        149.0            245  \n",
       "148859    Pyrus pyrifolia         45.5        237.4            245  \n",
       "\n",
       "[12659 rows x 11 columns]"
      ]
     },
     "execution_count": 45,
     "metadata": {},
     "output_type": "execute_result"
    }
   ],
   "source": [
    "full_predictions"
   ]
  },
  {
   "cell_type": "code",
   "execution_count": 94,
   "id": "64f78580",
   "metadata": {},
   "outputs": [
    {
     "data": {
      "text/plain": [
       "26.0"
      ]
     },
     "execution_count": 94,
     "metadata": {},
     "output_type": "execute_result"
    }
   ],
   "source": [
    "np.median(full_predictions['corrected_error'])"
   ]
  },
  {
   "cell_type": "code",
   "execution_count": 82,
   "id": "3a8b2f38",
   "metadata": {},
   "outputs": [],
   "source": [
    "def get_corrected_error(row):\n",
    "    #print(row)\n",
    "    difference_1 = np.abs(row['flowering_day'] - row['doy'])\n",
    "    difference_2 = np.abs(row['flowering_day'] + 365 - row['doy'])\n",
    "    difference_3 = np.abs(row['doy'] + 365 - row['flowering_day'])\n",
    "    \n",
    "    return min([difference_1, difference_2, difference_3])"
   ]
  },
  {
   "cell_type": "code",
   "execution_count": 83,
   "id": "6b622b3c",
   "metadata": {},
   "outputs": [],
   "source": [
    "full_predictions['abs_error'] = np.abs(full_predictions['doy'] - full_predictions['flowering_day'])\n",
    "full_predictions['square_error'] = full_predictions['abs_error'] ** 2\n",
    "\n",
    "full_predictions['corrected_error'] = np.abs(full_predictions.apply(get_corrected_error, axis=1))"
   ]
  },
  {
   "cell_type": "code",
   "execution_count": 85,
   "id": "4bdbe346",
   "metadata": {
    "scrolled": true
   },
   "outputs": [
    {
     "data": {
      "text/html": [
       "<div>\n",
       "<style scoped>\n",
       "    .dataframe tbody tr th:only-of-type {\n",
       "        vertical-align: middle;\n",
       "    }\n",
       "\n",
       "    .dataframe tbody tr th {\n",
       "        vertical-align: top;\n",
       "    }\n",
       "\n",
       "    .dataframe thead th {\n",
       "        text-align: right;\n",
       "    }\n",
       "</style>\n",
       "<table border=\"1\" class=\"dataframe\">\n",
       "  <thead>\n",
       "    <tr style=\"text-align: right;\">\n",
       "      <th></th>\n",
       "      <th>site_id</th>\n",
       "      <th>latitude</th>\n",
       "      <th>doy</th>\n",
       "      <th>year</th>\n",
       "      <th>genus</th>\n",
       "      <th>lon_360</th>\n",
       "      <th>phenophase</th>\n",
       "      <th>formatted_sci_name</th>\n",
       "      <th>rounded_lat</th>\n",
       "      <th>rounded_lon</th>\n",
       "      <th>flowering_day</th>\n",
       "      <th>abs_error</th>\n",
       "      <th>square_error</th>\n",
       "      <th>corrected_error</th>\n",
       "    </tr>\n",
       "  </thead>\n",
       "  <tbody>\n",
       "    <tr>\n",
       "      <th>50</th>\n",
       "      <td>2</td>\n",
       "      <td>38.376015</td>\n",
       "      <td>63.0</td>\n",
       "      <td>2022.0</td>\n",
       "      <td>Malus</td>\n",
       "      <td>237.491870</td>\n",
       "      <td>516</td>\n",
       "      <td>Malus sieboldii</td>\n",
       "      <td>38.4</td>\n",
       "      <td>237.5</td>\n",
       "      <td>245</td>\n",
       "      <td>182.0</td>\n",
       "      <td>33124.0</td>\n",
       "      <td>182.0</td>\n",
       "    </tr>\n",
       "    <tr>\n",
       "      <th>324280</th>\n",
       "      <td>1808435</td>\n",
       "      <td>-35.431259</td>\n",
       "      <td>62.0</td>\n",
       "      <td>2022.0</td>\n",
       "      <td>Malus</td>\n",
       "      <td>149.133103</td>\n",
       "      <td>516</td>\n",
       "      <td>Malus</td>\n",
       "      <td>-35.4</td>\n",
       "      <td>149.1</td>\n",
       "      <td>245</td>\n",
       "      <td>183.0</td>\n",
       "      <td>33489.0</td>\n",
       "      <td>182.0</td>\n",
       "    </tr>\n",
       "    <tr>\n",
       "      <th>324280</th>\n",
       "      <td>1808435</td>\n",
       "      <td>-35.431259</td>\n",
       "      <td>62.0</td>\n",
       "      <td>2022.0</td>\n",
       "      <td>Malus</td>\n",
       "      <td>149.133103</td>\n",
       "      <td>516</td>\n",
       "      <td>Malus</td>\n",
       "      <td>-35.4</td>\n",
       "      <td>149.1</td>\n",
       "      <td>245</td>\n",
       "      <td>183.0</td>\n",
       "      <td>33489.0</td>\n",
       "      <td>182.0</td>\n",
       "    </tr>\n",
       "    <tr>\n",
       "      <th>542</th>\n",
       "      <td>34</td>\n",
       "      <td>43.008286</td>\n",
       "      <td>63.0</td>\n",
       "      <td>2022.0</td>\n",
       "      <td>Malus</td>\n",
       "      <td>281.216940</td>\n",
       "      <td>516</td>\n",
       "      <td>Malus</td>\n",
       "      <td>43.0</td>\n",
       "      <td>281.2</td>\n",
       "      <td>245</td>\n",
       "      <td>182.0</td>\n",
       "      <td>33124.0</td>\n",
       "      <td>182.0</td>\n",
       "    </tr>\n",
       "    <tr>\n",
       "      <th>542</th>\n",
       "      <td>34</td>\n",
       "      <td>43.008286</td>\n",
       "      <td>63.0</td>\n",
       "      <td>2022.0</td>\n",
       "      <td>Malus</td>\n",
       "      <td>281.216940</td>\n",
       "      <td>516</td>\n",
       "      <td>Malus</td>\n",
       "      <td>43.0</td>\n",
       "      <td>281.2</td>\n",
       "      <td>245</td>\n",
       "      <td>182.0</td>\n",
       "      <td>33124.0</td>\n",
       "      <td>182.0</td>\n",
       "    </tr>\n",
       "    <tr>\n",
       "      <th>...</th>\n",
       "      <td>...</td>\n",
       "      <td>...</td>\n",
       "      <td>...</td>\n",
       "      <td>...</td>\n",
       "      <td>...</td>\n",
       "      <td>...</td>\n",
       "      <td>...</td>\n",
       "      <td>...</td>\n",
       "      <td>...</td>\n",
       "      <td>...</td>\n",
       "      <td>...</td>\n",
       "      <td>...</td>\n",
       "      <td>...</td>\n",
       "      <td>...</td>\n",
       "    </tr>\n",
       "    <tr>\n",
       "      <th>1216</th>\n",
       "      <td>1824017</td>\n",
       "      <td>32.062355</td>\n",
       "      <td>343.0</td>\n",
       "      <td>2022.0</td>\n",
       "      <td>Olea</td>\n",
       "      <td>34.799203</td>\n",
       "      <td>516</td>\n",
       "      <td>Olea</td>\n",
       "      <td>32.1</td>\n",
       "      <td>34.8</td>\n",
       "      <td>153</td>\n",
       "      <td>190.0</td>\n",
       "      <td>36100.0</td>\n",
       "      <td>175.0</td>\n",
       "    </tr>\n",
       "    <tr>\n",
       "      <th>1177</th>\n",
       "      <td>2</td>\n",
       "      <td>38.376015</td>\n",
       "      <td>54.0</td>\n",
       "      <td>2022.0</td>\n",
       "      <td>Malus</td>\n",
       "      <td>237.491870</td>\n",
       "      <td>516</td>\n",
       "      <td>Malus sieboldii</td>\n",
       "      <td>38.4</td>\n",
       "      <td>237.5</td>\n",
       "      <td>245</td>\n",
       "      <td>191.0</td>\n",
       "      <td>36481.0</td>\n",
       "      <td>174.0</td>\n",
       "    </tr>\n",
       "    <tr>\n",
       "      <th>1177</th>\n",
       "      <td>2</td>\n",
       "      <td>38.376015</td>\n",
       "      <td>54.0</td>\n",
       "      <td>2022.0</td>\n",
       "      <td>Malus</td>\n",
       "      <td>237.491870</td>\n",
       "      <td>516</td>\n",
       "      <td>Malus sieboldii</td>\n",
       "      <td>38.4</td>\n",
       "      <td>237.5</td>\n",
       "      <td>245</td>\n",
       "      <td>191.0</td>\n",
       "      <td>36481.0</td>\n",
       "      <td>174.0</td>\n",
       "    </tr>\n",
       "    <tr>\n",
       "      <th>182</th>\n",
       "      <td>1824168</td>\n",
       "      <td>32.078188</td>\n",
       "      <td>357.0</td>\n",
       "      <td>2022.0</td>\n",
       "      <td>Citrus</td>\n",
       "      <td>34.802053</td>\n",
       "      <td>516</td>\n",
       "      <td>Citrus</td>\n",
       "      <td>32.1</td>\n",
       "      <td>34.8</td>\n",
       "      <td>183</td>\n",
       "      <td>174.0</td>\n",
       "      <td>30276.0</td>\n",
       "      <td>174.0</td>\n",
       "    </tr>\n",
       "    <tr>\n",
       "      <th>1177</th>\n",
       "      <td>2</td>\n",
       "      <td>38.376015</td>\n",
       "      <td>54.0</td>\n",
       "      <td>2022.0</td>\n",
       "      <td>Malus</td>\n",
       "      <td>237.491870</td>\n",
       "      <td>516</td>\n",
       "      <td>Malus sieboldii</td>\n",
       "      <td>38.4</td>\n",
       "      <td>237.5</td>\n",
       "      <td>245</td>\n",
       "      <td>191.0</td>\n",
       "      <td>36481.0</td>\n",
       "      <td>174.0</td>\n",
       "    </tr>\n",
       "  </tbody>\n",
       "</table>\n",
       "<p>100 rows × 14 columns</p>\n",
       "</div>"
      ],
      "text/plain": [
       "        site_id   latitude    doy    year   genus     lon_360  phenophase  \\\n",
       "50            2  38.376015   63.0  2022.0   Malus  237.491870         516   \n",
       "324280  1808435 -35.431259   62.0  2022.0   Malus  149.133103         516   \n",
       "324280  1808435 -35.431259   62.0  2022.0   Malus  149.133103         516   \n",
       "542          34  43.008286   63.0  2022.0   Malus  281.216940         516   \n",
       "542          34  43.008286   63.0  2022.0   Malus  281.216940         516   \n",
       "...         ...        ...    ...     ...     ...         ...         ...   \n",
       "1216    1824017  32.062355  343.0  2022.0    Olea   34.799203         516   \n",
       "1177          2  38.376015   54.0  2022.0   Malus  237.491870         516   \n",
       "1177          2  38.376015   54.0  2022.0   Malus  237.491870         516   \n",
       "182     1824168  32.078188  357.0  2022.0  Citrus   34.802053         516   \n",
       "1177          2  38.376015   54.0  2022.0   Malus  237.491870         516   \n",
       "\n",
       "       formatted_sci_name  rounded_lat  rounded_lon  flowering_day  abs_error  \\\n",
       "50        Malus sieboldii         38.4        237.5            245      182.0   \n",
       "324280              Malus        -35.4        149.1            245      183.0   \n",
       "324280              Malus        -35.4        149.1            245      183.0   \n",
       "542                 Malus         43.0        281.2            245      182.0   \n",
       "542                 Malus         43.0        281.2            245      182.0   \n",
       "...                   ...          ...          ...            ...        ...   \n",
       "1216                 Olea         32.1         34.8            153      190.0   \n",
       "1177      Malus sieboldii         38.4        237.5            245      191.0   \n",
       "1177      Malus sieboldii         38.4        237.5            245      191.0   \n",
       "182                Citrus         32.1         34.8            183      174.0   \n",
       "1177      Malus sieboldii         38.4        237.5            245      191.0   \n",
       "\n",
       "        square_error  corrected_error  \n",
       "50           33124.0            182.0  \n",
       "324280       33489.0            182.0  \n",
       "324280       33489.0            182.0  \n",
       "542          33124.0            182.0  \n",
       "542          33124.0            182.0  \n",
       "...              ...              ...  \n",
       "1216         36100.0            175.0  \n",
       "1177         36481.0            174.0  \n",
       "1177         36481.0            174.0  \n",
       "182          30276.0            174.0  \n",
       "1177         36481.0            174.0  \n",
       "\n",
       "[100 rows x 14 columns]"
      ]
     },
     "execution_count": 85,
     "metadata": {},
     "output_type": "execute_result"
    }
   ],
   "source": [
    "full_predictions.sort_values('corrected_error', ascending=False)[0:100]"
   ]
  },
  {
   "cell_type": "code",
   "execution_count": 86,
   "id": "7331a84e",
   "metadata": {},
   "outputs": [],
   "source": [
    "malus_preds = full_predictions[full_predictions['formatted_sci_name'] == 'Malus']"
   ]
  },
  {
   "cell_type": "code",
   "execution_count": 91,
   "id": "22685c01",
   "metadata": {},
   "outputs": [
    {
     "name": "stdout",
     "output_type": "stream",
     "text": [
      "Rubus 14.5\n",
      "Ficus 34.0\n",
      "Olea 109.0\n",
      "Morus 16.0\n",
      "Amelanchier 16.0\n",
      "Citrus 94.0\n",
      "Prunus 25.0\n",
      "Eriobotrya 80.0\n",
      "Malus 35.0\n",
      "Rosmarinus 90.0\n",
      "Juglans 16.0\n",
      "Cornus 32.0\n",
      "Diospyros 18.0\n",
      "Pyrus 28.0\n"
     ]
    }
   ],
   "source": [
    "for g in full_predictions['genus'].unique():\n",
    "    genus_df = full_predictions[full_predictions['genus'] == g]\n",
    "    print(g, np.median(genus_df['corrected_error']))"
   ]
  },
  {
   "cell_type": "code",
   "execution_count": 92,
   "id": "74b16424",
   "metadata": {},
   "outputs": [
    {
     "data": {
      "text/html": [
       "<div>\n",
       "<style scoped>\n",
       "    .dataframe tbody tr th:only-of-type {\n",
       "        vertical-align: middle;\n",
       "    }\n",
       "\n",
       "    .dataframe tbody tr th {\n",
       "        vertical-align: top;\n",
       "    }\n",
       "\n",
       "    .dataframe thead th {\n",
       "        text-align: right;\n",
       "    }\n",
       "</style>\n",
       "<table border=\"1\" class=\"dataframe\">\n",
       "  <thead>\n",
       "    <tr style=\"text-align: right;\">\n",
       "      <th></th>\n",
       "      <th>site_id</th>\n",
       "      <th>latitude</th>\n",
       "      <th>doy</th>\n",
       "      <th>year</th>\n",
       "      <th>genus</th>\n",
       "      <th>lon_360</th>\n",
       "      <th>phenophase</th>\n",
       "      <th>formatted_sci_name</th>\n",
       "      <th>rounded_lat</th>\n",
       "      <th>rounded_lon</th>\n",
       "      <th>flowering_day</th>\n",
       "      <th>abs_error</th>\n",
       "      <th>square_error</th>\n",
       "      <th>corrected_error</th>\n",
       "    </tr>\n",
       "  </thead>\n",
       "  <tbody>\n",
       "    <tr>\n",
       "      <th>0</th>\n",
       "      <td>1</td>\n",
       "      <td>32.213543</td>\n",
       "      <td>356.0</td>\n",
       "      <td>2022.0</td>\n",
       "      <td>Olea</td>\n",
       "      <td>249.012980</td>\n",
       "      <td>516</td>\n",
       "      <td>Olea europaea</td>\n",
       "      <td>32.2</td>\n",
       "      <td>249.0</td>\n",
       "      <td>153</td>\n",
       "      <td>203.0</td>\n",
       "      <td>41209.0</td>\n",
       "      <td>162.0</td>\n",
       "    </tr>\n",
       "    <tr>\n",
       "      <th>2</th>\n",
       "      <td>1</td>\n",
       "      <td>32.213543</td>\n",
       "      <td>313.0</td>\n",
       "      <td>2022.0</td>\n",
       "      <td>Olea</td>\n",
       "      <td>249.012980</td>\n",
       "      <td>516</td>\n",
       "      <td>Olea europaea</td>\n",
       "      <td>32.2</td>\n",
       "      <td>249.0</td>\n",
       "      <td>153</td>\n",
       "      <td>160.0</td>\n",
       "      <td>25600.0</td>\n",
       "      <td>160.0</td>\n",
       "    </tr>\n",
       "    <tr>\n",
       "      <th>3</th>\n",
       "      <td>1</td>\n",
       "      <td>32.213543</td>\n",
       "      <td>327.0</td>\n",
       "      <td>2022.0</td>\n",
       "      <td>Olea</td>\n",
       "      <td>249.012980</td>\n",
       "      <td>516</td>\n",
       "      <td>Olea europaea</td>\n",
       "      <td>32.2</td>\n",
       "      <td>249.0</td>\n",
       "      <td>153</td>\n",
       "      <td>174.0</td>\n",
       "      <td>30276.0</td>\n",
       "      <td>174.0</td>\n",
       "    </tr>\n",
       "    <tr>\n",
       "      <th>6</th>\n",
       "      <td>1</td>\n",
       "      <td>32.213543</td>\n",
       "      <td>236.0</td>\n",
       "      <td>2022.0</td>\n",
       "      <td>Olea</td>\n",
       "      <td>249.012980</td>\n",
       "      <td>516</td>\n",
       "      <td>Olea europaea</td>\n",
       "      <td>32.2</td>\n",
       "      <td>249.0</td>\n",
       "      <td>153</td>\n",
       "      <td>83.0</td>\n",
       "      <td>6889.0</td>\n",
       "      <td>83.0</td>\n",
       "    </tr>\n",
       "    <tr>\n",
       "      <th>7</th>\n",
       "      <td>1</td>\n",
       "      <td>32.213543</td>\n",
       "      <td>342.0</td>\n",
       "      <td>2022.0</td>\n",
       "      <td>Olea</td>\n",
       "      <td>249.012980</td>\n",
       "      <td>516</td>\n",
       "      <td>Olea europaea</td>\n",
       "      <td>32.2</td>\n",
       "      <td>249.0</td>\n",
       "      <td>153</td>\n",
       "      <td>189.0</td>\n",
       "      <td>35721.0</td>\n",
       "      <td>176.0</td>\n",
       "    </tr>\n",
       "    <tr>\n",
       "      <th>...</th>\n",
       "      <td>...</td>\n",
       "      <td>...</td>\n",
       "      <td>...</td>\n",
       "      <td>...</td>\n",
       "      <td>...</td>\n",
       "      <td>...</td>\n",
       "      <td>...</td>\n",
       "      <td>...</td>\n",
       "      <td>...</td>\n",
       "      <td>...</td>\n",
       "      <td>...</td>\n",
       "      <td>...</td>\n",
       "      <td>...</td>\n",
       "      <td>...</td>\n",
       "    </tr>\n",
       "    <tr>\n",
       "      <th>1215</th>\n",
       "      <td>1823997</td>\n",
       "      <td>32.063753</td>\n",
       "      <td>340.0</td>\n",
       "      <td>2022.0</td>\n",
       "      <td>Olea</td>\n",
       "      <td>34.796519</td>\n",
       "      <td>516</td>\n",
       "      <td>Olea</td>\n",
       "      <td>32.1</td>\n",
       "      <td>34.8</td>\n",
       "      <td>153</td>\n",
       "      <td>187.0</td>\n",
       "      <td>34969.0</td>\n",
       "      <td>178.0</td>\n",
       "    </tr>\n",
       "    <tr>\n",
       "      <th>1216</th>\n",
       "      <td>1824017</td>\n",
       "      <td>32.062355</td>\n",
       "      <td>343.0</td>\n",
       "      <td>2022.0</td>\n",
       "      <td>Olea</td>\n",
       "      <td>34.799203</td>\n",
       "      <td>516</td>\n",
       "      <td>Olea</td>\n",
       "      <td>32.1</td>\n",
       "      <td>34.8</td>\n",
       "      <td>153</td>\n",
       "      <td>190.0</td>\n",
       "      <td>36100.0</td>\n",
       "      <td>175.0</td>\n",
       "    </tr>\n",
       "    <tr>\n",
       "      <th>1220</th>\n",
       "      <td>1824171</td>\n",
       "      <td>32.078423</td>\n",
       "      <td>357.0</td>\n",
       "      <td>2022.0</td>\n",
       "      <td>Olea</td>\n",
       "      <td>34.804146</td>\n",
       "      <td>516</td>\n",
       "      <td>Olea</td>\n",
       "      <td>32.1</td>\n",
       "      <td>34.8</td>\n",
       "      <td>153</td>\n",
       "      <td>204.0</td>\n",
       "      <td>41616.0</td>\n",
       "      <td>161.0</td>\n",
       "    </tr>\n",
       "    <tr>\n",
       "      <th>1221</th>\n",
       "      <td>1808788</td>\n",
       "      <td>-37.782307</td>\n",
       "      <td>83.0</td>\n",
       "      <td>2022.0</td>\n",
       "      <td>Olea</td>\n",
       "      <td>144.987905</td>\n",
       "      <td>516</td>\n",
       "      <td>Olea</td>\n",
       "      <td>-37.8</td>\n",
       "      <td>145.0</td>\n",
       "      <td>153</td>\n",
       "      <td>70.0</td>\n",
       "      <td>4900.0</td>\n",
       "      <td>70.0</td>\n",
       "    </tr>\n",
       "    <tr>\n",
       "      <th>1222</th>\n",
       "      <td>1808789</td>\n",
       "      <td>-37.782307</td>\n",
       "      <td>83.0</td>\n",
       "      <td>2022.0</td>\n",
       "      <td>Olea</td>\n",
       "      <td>144.987905</td>\n",
       "      <td>516</td>\n",
       "      <td>Olea</td>\n",
       "      <td>-37.8</td>\n",
       "      <td>145.0</td>\n",
       "      <td>153</td>\n",
       "      <td>70.0</td>\n",
       "      <td>4900.0</td>\n",
       "      <td>70.0</td>\n",
       "    </tr>\n",
       "  </tbody>\n",
       "</table>\n",
       "<p>142 rows × 14 columns</p>\n",
       "</div>"
      ],
      "text/plain": [
       "      site_id   latitude    doy    year genus     lon_360  phenophase  \\\n",
       "0           1  32.213543  356.0  2022.0  Olea  249.012980         516   \n",
       "2           1  32.213543  313.0  2022.0  Olea  249.012980         516   \n",
       "3           1  32.213543  327.0  2022.0  Olea  249.012980         516   \n",
       "6           1  32.213543  236.0  2022.0  Olea  249.012980         516   \n",
       "7           1  32.213543  342.0  2022.0  Olea  249.012980         516   \n",
       "...       ...        ...    ...     ...   ...         ...         ...   \n",
       "1215  1823997  32.063753  340.0  2022.0  Olea   34.796519         516   \n",
       "1216  1824017  32.062355  343.0  2022.0  Olea   34.799203         516   \n",
       "1220  1824171  32.078423  357.0  2022.0  Olea   34.804146         516   \n",
       "1221  1808788 -37.782307   83.0  2022.0  Olea  144.987905         516   \n",
       "1222  1808789 -37.782307   83.0  2022.0  Olea  144.987905         516   \n",
       "\n",
       "     formatted_sci_name  rounded_lat  rounded_lon  flowering_day  abs_error  \\\n",
       "0         Olea europaea         32.2        249.0            153      203.0   \n",
       "2         Olea europaea         32.2        249.0            153      160.0   \n",
       "3         Olea europaea         32.2        249.0            153      174.0   \n",
       "6         Olea europaea         32.2        249.0            153       83.0   \n",
       "7         Olea europaea         32.2        249.0            153      189.0   \n",
       "...                 ...          ...          ...            ...        ...   \n",
       "1215               Olea         32.1         34.8            153      187.0   \n",
       "1216               Olea         32.1         34.8            153      190.0   \n",
       "1220               Olea         32.1         34.8            153      204.0   \n",
       "1221               Olea        -37.8        145.0            153       70.0   \n",
       "1222               Olea        -37.8        145.0            153       70.0   \n",
       "\n",
       "      square_error  corrected_error  \n",
       "0          41209.0            162.0  \n",
       "2          25600.0            160.0  \n",
       "3          30276.0            174.0  \n",
       "6           6889.0             83.0  \n",
       "7          35721.0            176.0  \n",
       "...            ...              ...  \n",
       "1215       34969.0            178.0  \n",
       "1216       36100.0            175.0  \n",
       "1220       41616.0            161.0  \n",
       "1221        4900.0             70.0  \n",
       "1222        4900.0             70.0  \n",
       "\n",
       "[142 rows x 14 columns]"
      ]
     },
     "execution_count": 92,
     "metadata": {},
     "output_type": "execute_result"
    }
   ],
   "source": [
    "full_predictions[full_predictions['genus'] == 'Olea']"
   ]
  },
  {
   "cell_type": "code",
   "execution_count": 93,
   "id": "785a8837",
   "metadata": {},
   "outputs": [
    {
     "data": {
      "text/html": [
       "<div>\n",
       "<style scoped>\n",
       "    .dataframe tbody tr th:only-of-type {\n",
       "        vertical-align: middle;\n",
       "    }\n",
       "\n",
       "    .dataframe tbody tr th {\n",
       "        vertical-align: top;\n",
       "    }\n",
       "\n",
       "    .dataframe thead th {\n",
       "        text-align: right;\n",
       "    }\n",
       "</style>\n",
       "<table border=\"1\" class=\"dataframe\">\n",
       "  <thead>\n",
       "    <tr style=\"text-align: right;\">\n",
       "      <th></th>\n",
       "      <th>site_id</th>\n",
       "      <th>latitude</th>\n",
       "      <th>doy</th>\n",
       "      <th>year</th>\n",
       "      <th>genus</th>\n",
       "      <th>lon_360</th>\n",
       "      <th>phenophase</th>\n",
       "      <th>formatted_sci_name</th>\n",
       "      <th>rounded_lat</th>\n",
       "      <th>rounded_lon</th>\n",
       "      <th>flowering_day</th>\n",
       "      <th>abs_error</th>\n",
       "      <th>square_error</th>\n",
       "      <th>corrected_error</th>\n",
       "    </tr>\n",
       "  </thead>\n",
       "  <tbody>\n",
       "    <tr>\n",
       "      <th>118</th>\n",
       "      <td>1807903</td>\n",
       "      <td>38.649023</td>\n",
       "      <td>24.0</td>\n",
       "      <td>2022.0</td>\n",
       "      <td>Citrus</td>\n",
       "      <td>238.821917</td>\n",
       "      <td>516</td>\n",
       "      <td>Citrus</td>\n",
       "      <td>38.6</td>\n",
       "      <td>238.8</td>\n",
       "      <td>183</td>\n",
       "      <td>159.0</td>\n",
       "      <td>25281.0</td>\n",
       "      <td>159.0</td>\n",
       "    </tr>\n",
       "    <tr>\n",
       "      <th>120</th>\n",
       "      <td>1808000</td>\n",
       "      <td>37.572497</td>\n",
       "      <td>34.0</td>\n",
       "      <td>2022.0</td>\n",
       "      <td>Citrus</td>\n",
       "      <td>237.669078</td>\n",
       "      <td>516</td>\n",
       "      <td>Citrus</td>\n",
       "      <td>37.6</td>\n",
       "      <td>237.7</td>\n",
       "      <td>183</td>\n",
       "      <td>149.0</td>\n",
       "      <td>22201.0</td>\n",
       "      <td>149.0</td>\n",
       "    </tr>\n",
       "    <tr>\n",
       "      <th>121</th>\n",
       "      <td>1808001</td>\n",
       "      <td>37.572817</td>\n",
       "      <td>181.0</td>\n",
       "      <td>2022.0</td>\n",
       "      <td>Citrus</td>\n",
       "      <td>237.671803</td>\n",
       "      <td>516</td>\n",
       "      <td>Citrus</td>\n",
       "      <td>37.6</td>\n",
       "      <td>237.7</td>\n",
       "      <td>183</td>\n",
       "      <td>2.0</td>\n",
       "      <td>4.0</td>\n",
       "      <td>2.0</td>\n",
       "    </tr>\n",
       "    <tr>\n",
       "      <th>122</th>\n",
       "      <td>1808001</td>\n",
       "      <td>37.572817</td>\n",
       "      <td>34.0</td>\n",
       "      <td>2022.0</td>\n",
       "      <td>Citrus</td>\n",
       "      <td>237.671803</td>\n",
       "      <td>516</td>\n",
       "      <td>Citrus</td>\n",
       "      <td>37.6</td>\n",
       "      <td>237.7</td>\n",
       "      <td>183</td>\n",
       "      <td>149.0</td>\n",
       "      <td>22201.0</td>\n",
       "      <td>149.0</td>\n",
       "    </tr>\n",
       "    <tr>\n",
       "      <th>123</th>\n",
       "      <td>1808197</td>\n",
       "      <td>37.676483</td>\n",
       "      <td>32.0</td>\n",
       "      <td>2022.0</td>\n",
       "      <td>Citrus</td>\n",
       "      <td>238.221118</td>\n",
       "      <td>516</td>\n",
       "      <td>Citrus</td>\n",
       "      <td>37.7</td>\n",
       "      <td>238.2</td>\n",
       "      <td>183</td>\n",
       "      <td>151.0</td>\n",
       "      <td>22801.0</td>\n",
       "      <td>151.0</td>\n",
       "    </tr>\n",
       "    <tr>\n",
       "      <th>...</th>\n",
       "      <td>...</td>\n",
       "      <td>...</td>\n",
       "      <td>...</td>\n",
       "      <td>...</td>\n",
       "      <td>...</td>\n",
       "      <td>...</td>\n",
       "      <td>...</td>\n",
       "      <td>...</td>\n",
       "      <td>...</td>\n",
       "      <td>...</td>\n",
       "      <td>...</td>\n",
       "      <td>...</td>\n",
       "      <td>...</td>\n",
       "      <td>...</td>\n",
       "    </tr>\n",
       "    <tr>\n",
       "      <th>184</th>\n",
       "      <td>1821053</td>\n",
       "      <td>-37.704203</td>\n",
       "      <td>235.0</td>\n",
       "      <td>2022.0</td>\n",
       "      <td>Citrus</td>\n",
       "      <td>144.965115</td>\n",
       "      <td>516</td>\n",
       "      <td>Citrus</td>\n",
       "      <td>-37.7</td>\n",
       "      <td>145.0</td>\n",
       "      <td>214</td>\n",
       "      <td>21.0</td>\n",
       "      <td>441.0</td>\n",
       "      <td>21.0</td>\n",
       "    </tr>\n",
       "    <tr>\n",
       "      <th>185</th>\n",
       "      <td>1822163</td>\n",
       "      <td>-37.697013</td>\n",
       "      <td>283.0</td>\n",
       "      <td>2022.0</td>\n",
       "      <td>Citrus</td>\n",
       "      <td>144.968741</td>\n",
       "      <td>516</td>\n",
       "      <td>Citrus</td>\n",
       "      <td>-37.7</td>\n",
       "      <td>145.0</td>\n",
       "      <td>214</td>\n",
       "      <td>69.0</td>\n",
       "      <td>4761.0</td>\n",
       "      <td>69.0</td>\n",
       "    </tr>\n",
       "    <tr>\n",
       "      <th>186</th>\n",
       "      <td>1822163</td>\n",
       "      <td>-37.697013</td>\n",
       "      <td>261.0</td>\n",
       "      <td>2022.0</td>\n",
       "      <td>Citrus</td>\n",
       "      <td>144.968741</td>\n",
       "      <td>516</td>\n",
       "      <td>Citrus</td>\n",
       "      <td>-37.7</td>\n",
       "      <td>145.0</td>\n",
       "      <td>214</td>\n",
       "      <td>47.0</td>\n",
       "      <td>2209.0</td>\n",
       "      <td>47.0</td>\n",
       "    </tr>\n",
       "    <tr>\n",
       "      <th>288</th>\n",
       "      <td>1813408</td>\n",
       "      <td>-37.698542</td>\n",
       "      <td>205.0</td>\n",
       "      <td>2022.0</td>\n",
       "      <td>Citrus</td>\n",
       "      <td>144.966357</td>\n",
       "      <td>516</td>\n",
       "      <td>Citrus</td>\n",
       "      <td>-37.7</td>\n",
       "      <td>145.0</td>\n",
       "      <td>214</td>\n",
       "      <td>9.0</td>\n",
       "      <td>81.0</td>\n",
       "      <td>9.0</td>\n",
       "    </tr>\n",
       "    <tr>\n",
       "      <th>304</th>\n",
       "      <td>1812708</td>\n",
       "      <td>33.444909</td>\n",
       "      <td>180.0</td>\n",
       "      <td>2022.0</td>\n",
       "      <td>Citrus</td>\n",
       "      <td>248.230347</td>\n",
       "      <td>516</td>\n",
       "      <td>Citrus</td>\n",
       "      <td>33.4</td>\n",
       "      <td>248.2</td>\n",
       "      <td>183</td>\n",
       "      <td>3.0</td>\n",
       "      <td>9.0</td>\n",
       "      <td>3.0</td>\n",
       "    </tr>\n",
       "  </tbody>\n",
       "</table>\n",
       "<p>652 rows × 14 columns</p>\n",
       "</div>"
      ],
      "text/plain": [
       "     site_id   latitude    doy    year   genus     lon_360  phenophase  \\\n",
       "118  1807903  38.649023   24.0  2022.0  Citrus  238.821917         516   \n",
       "120  1808000  37.572497   34.0  2022.0  Citrus  237.669078         516   \n",
       "121  1808001  37.572817  181.0  2022.0  Citrus  237.671803         516   \n",
       "122  1808001  37.572817   34.0  2022.0  Citrus  237.671803         516   \n",
       "123  1808197  37.676483   32.0  2022.0  Citrus  238.221118         516   \n",
       "..       ...        ...    ...     ...     ...         ...         ...   \n",
       "184  1821053 -37.704203  235.0  2022.0  Citrus  144.965115         516   \n",
       "185  1822163 -37.697013  283.0  2022.0  Citrus  144.968741         516   \n",
       "186  1822163 -37.697013  261.0  2022.0  Citrus  144.968741         516   \n",
       "288  1813408 -37.698542  205.0  2022.0  Citrus  144.966357         516   \n",
       "304  1812708  33.444909  180.0  2022.0  Citrus  248.230347         516   \n",
       "\n",
       "    formatted_sci_name  rounded_lat  rounded_lon  flowering_day  abs_error  \\\n",
       "118             Citrus         38.6        238.8            183      159.0   \n",
       "120             Citrus         37.6        237.7            183      149.0   \n",
       "121             Citrus         37.6        237.7            183        2.0   \n",
       "122             Citrus         37.6        237.7            183      149.0   \n",
       "123             Citrus         37.7        238.2            183      151.0   \n",
       "..                 ...          ...          ...            ...        ...   \n",
       "184             Citrus        -37.7        145.0            214       21.0   \n",
       "185             Citrus        -37.7        145.0            214       69.0   \n",
       "186             Citrus        -37.7        145.0            214       47.0   \n",
       "288             Citrus        -37.7        145.0            214        9.0   \n",
       "304             Citrus         33.4        248.2            183        3.0   \n",
       "\n",
       "     square_error  corrected_error  \n",
       "118       25281.0            159.0  \n",
       "120       22201.0            149.0  \n",
       "121           4.0              2.0  \n",
       "122       22201.0            149.0  \n",
       "123       22801.0            151.0  \n",
       "..            ...              ...  \n",
       "184         441.0             21.0  \n",
       "185        4761.0             69.0  \n",
       "186        2209.0             47.0  \n",
       "288          81.0              9.0  \n",
       "304           9.0              3.0  \n",
       "\n",
       "[652 rows x 14 columns]"
      ]
     },
     "execution_count": 93,
     "metadata": {},
     "output_type": "execute_result"
    }
   ],
   "source": [
    "full_predictions[full_predictions['genus'] == 'Citrus']"
   ]
  },
  {
   "cell_type": "code",
   "execution_count": 114,
   "id": "1c5b3681",
   "metadata": {},
   "outputs": [
    {
     "data": {
      "text/plain": [
       "48.30737025041473"
      ]
     },
     "execution_count": 114,
     "metadata": {},
     "output_type": "execute_result"
    }
   ],
   "source": [
    "np.mean(full_predictions['abs_error'])"
   ]
  },
  {
   "cell_type": "code",
   "execution_count": 109,
   "id": "7a82f41c",
   "metadata": {},
   "outputs": [
    {
     "data": {
      "text/plain": [
       "26.0"
      ]
     },
     "execution_count": 109,
     "metadata": {},
     "output_type": "execute_result"
    }
   ],
   "source": [
    "np.median(full_predictions['corrected_error'])"
   ]
  },
  {
   "cell_type": "code",
   "execution_count": 110,
   "id": "6502cdbd",
   "metadata": {},
   "outputs": [
    {
     "data": {
      "text/plain": [
       "0.4904810806540801"
      ]
     },
     "execution_count": 110,
     "metadata": {},
     "output_type": "execute_result"
    }
   ],
   "source": [
    "len(full_predictions.query('corrected_error < 26')) / len(full_predictions)"
   ]
  },
  {
   "cell_type": "code",
   "execution_count": 111,
   "id": "2ee5cd38",
   "metadata": {},
   "outputs": [
    {
     "data": {
      "text/plain": [
       "49.25642284674901"
      ]
     },
     "execution_count": 111,
     "metadata": {},
     "output_type": "execute_result"
    }
   ],
   "source": [
    "np.std(full_predictions['corrected_error'])"
   ]
  },
  {
   "cell_type": "code",
   "execution_count": 112,
   "id": "6d8c91fa",
   "metadata": {},
   "outputs": [
    {
     "data": {
      "text/plain": [
       "0.690417884509045"
      ]
     },
     "execution_count": 112,
     "metadata": {},
     "output_type": "execute_result"
    }
   ],
   "source": [
    "len(full_predictions.query('abs_error < 49.25')) / len(full_predictions)"
   ]
  },
  {
   "cell_type": "code",
   "execution_count": 113,
   "id": "8a11807d",
   "metadata": {
    "collapsed": true
   },
   "outputs": [
    {
     "data": {
      "text/plain": [
       "<matplotlib.collections.PathCollection at 0x18034df10>"
      ]
     },
     "execution_count": 113,
     "metadata": {},
     "output_type": "execute_result"
    },
    {
     "data": {
      "image/png": "[encoded data removed]",
      "text/plain": [
       "<Figure size 432x288 with 1 Axes>"
      ]
     },
     "metadata": {
      "needs_background": "light"
     },
     "output_type": "display_data"
    }
   ],
   "source": [
    "plt.scatter(full_predictions['doy'], full_predictions['flowering_day'])"
   ]
  },
  {
   "cell_type": "markdown",
   "id": "01111f0f",
   "metadata": {},
   "source": [
    "Idea for corrections: take the lower error between the base error and the year-transformed error.\n",
    "\n",
    "NEW TRAINING PARADIGM:\n",
    "Specific data if possible, more generalized data if not.\n",
    "Ex. use European high-time-res data if possible, otherwise use monthly data. \n",
    "Use species if possible, otherwise use genus. \n",
    "\n",
    "Update: this did not work. the genus models are much less accurate. \n",
    "\n",
    "However, these seem better than the \"old\" models?\n",
    "\n",
    "Best Approach is:\n",
    "- High time resolution, correcting for missing data by using averaged data from previous years.\n",
    "- Add European Weather data.\n",
    "- No southern hemisphere. \n",
    "- Corrected error (i.e. date wrapping). \n",
    "\n",
    "Best reporting statistic: what portion of results lie under X.\n",
    "For example, 80% of results lie under 1 STD, 95% lie under 2 STD. \n",
    "Can make a \"confidence score\" from this – percentile error? Ex. This is less error than 90% of things.  "
   ]
  },
  {
   "cell_type": "markdown",
   "id": "88afb259",
   "metadata": {},
   "source": [
    "High error is driven by southern hemisphere and \"date wrapping\". \n",
    "\n",
    "Removing southern hemisphere data and dates that are either very early in the year or very late works a little better.\n",
    "\n",
    "Ok, median error seems to be a better error metric. the old (coarse) method had a Median Absolute Error of 25, while this one has one of 14. \n",
    "\n",
    "After doing some more analysis, 71% of observations fall under the mean (30 days) and 81% fall under the standard deviation (43 days). "
   ]
  },
  {
   "cell_type": "markdown",
   "id": "af459b95",
   "metadata": {},
   "source": [
    "**Trying with no northern hemisphere / Date Wrapping**"
   ]
  },
  {
   "cell_type": "code",
   "execution_count": 98,
   "id": "5fa9ee69",
   "metadata": {},
   "outputs": [],
   "source": [
    "unwrapped_northern_preds = full_predictions.query('latitude > 0 and doy > 60')"
   ]
  },
  {
   "cell_type": "code",
   "execution_count": 100,
   "id": "3b0eab9c",
   "metadata": {
    "collapsed": true
   },
   "outputs": [
    {
     "data": {
      "text/html": [
       "<div>\n",
       "<style scoped>\n",
       "    .dataframe tbody tr th:only-of-type {\n",
       "        vertical-align: middle;\n",
       "    }\n",
       "\n",
       "    .dataframe tbody tr th {\n",
       "        vertical-align: top;\n",
       "    }\n",
       "\n",
       "    .dataframe thead th {\n",
       "        text-align: right;\n",
       "    }\n",
       "</style>\n",
       "<table border=\"1\" class=\"dataframe\">\n",
       "  <thead>\n",
       "    <tr style=\"text-align: right;\">\n",
       "      <th></th>\n",
       "      <th>site_id</th>\n",
       "      <th>latitude</th>\n",
       "      <th>doy</th>\n",
       "      <th>year</th>\n",
       "      <th>genus</th>\n",
       "      <th>lon_360</th>\n",
       "      <th>phenophase</th>\n",
       "      <th>formatted_sci_name</th>\n",
       "      <th>rounded_lat</th>\n",
       "      <th>rounded_lon</th>\n",
       "      <th>flowering_day</th>\n",
       "      <th>abs_error</th>\n",
       "      <th>square_error</th>\n",
       "      <th>corrected_error</th>\n",
       "    </tr>\n",
       "  </thead>\n",
       "  <tbody>\n",
       "    <tr>\n",
       "      <th>50</th>\n",
       "      <td>2</td>\n",
       "      <td>38.376015</td>\n",
       "      <td>63.0</td>\n",
       "      <td>2022.0</td>\n",
       "      <td>Malus</td>\n",
       "      <td>237.491870</td>\n",
       "      <td>516</td>\n",
       "      <td>Malus sieboldii</td>\n",
       "      <td>38.4</td>\n",
       "      <td>237.5</td>\n",
       "      <td>245</td>\n",
       "      <td>182.0</td>\n",
       "      <td>33124.0</td>\n",
       "      <td>182.0</td>\n",
       "    </tr>\n",
       "    <tr>\n",
       "      <th>542</th>\n",
       "      <td>34</td>\n",
       "      <td>43.008286</td>\n",
       "      <td>63.0</td>\n",
       "      <td>2022.0</td>\n",
       "      <td>Malus</td>\n",
       "      <td>281.216940</td>\n",
       "      <td>516</td>\n",
       "      <td>Malus</td>\n",
       "      <td>43.0</td>\n",
       "      <td>281.2</td>\n",
       "      <td>245</td>\n",
       "      <td>182.0</td>\n",
       "      <td>33124.0</td>\n",
       "      <td>182.0</td>\n",
       "    </tr>\n",
       "    <tr>\n",
       "      <th>542</th>\n",
       "      <td>34</td>\n",
       "      <td>43.008286</td>\n",
       "      <td>63.0</td>\n",
       "      <td>2022.0</td>\n",
       "      <td>Malus</td>\n",
       "      <td>281.216940</td>\n",
       "      <td>516</td>\n",
       "      <td>Malus</td>\n",
       "      <td>43.0</td>\n",
       "      <td>281.2</td>\n",
       "      <td>245</td>\n",
       "      <td>182.0</td>\n",
       "      <td>33124.0</td>\n",
       "      <td>182.0</td>\n",
       "    </tr>\n",
       "    <tr>\n",
       "      <th>542</th>\n",
       "      <td>34</td>\n",
       "      <td>43.008286</td>\n",
       "      <td>63.0</td>\n",
       "      <td>2022.0</td>\n",
       "      <td>Malus</td>\n",
       "      <td>281.216940</td>\n",
       "      <td>516</td>\n",
       "      <td>Malus</td>\n",
       "      <td>43.0</td>\n",
       "      <td>281.2</td>\n",
       "      <td>245</td>\n",
       "      <td>182.0</td>\n",
       "      <td>33124.0</td>\n",
       "      <td>182.0</td>\n",
       "    </tr>\n",
       "    <tr>\n",
       "      <th>542</th>\n",
       "      <td>34</td>\n",
       "      <td>43.008286</td>\n",
       "      <td>63.0</td>\n",
       "      <td>2022.0</td>\n",
       "      <td>Malus</td>\n",
       "      <td>281.216940</td>\n",
       "      <td>516</td>\n",
       "      <td>Malus</td>\n",
       "      <td>43.0</td>\n",
       "      <td>281.2</td>\n",
       "      <td>245</td>\n",
       "      <td>182.0</td>\n",
       "      <td>33124.0</td>\n",
       "      <td>182.0</td>\n",
       "    </tr>\n",
       "    <tr>\n",
       "      <th>50</th>\n",
       "      <td>2</td>\n",
       "      <td>38.376015</td>\n",
       "      <td>63.0</td>\n",
       "      <td>2022.0</td>\n",
       "      <td>Malus</td>\n",
       "      <td>237.491870</td>\n",
       "      <td>516</td>\n",
       "      <td>Malus sieboldii</td>\n",
       "      <td>38.4</td>\n",
       "      <td>237.5</td>\n",
       "      <td>245</td>\n",
       "      <td>182.0</td>\n",
       "      <td>33124.0</td>\n",
       "      <td>182.0</td>\n",
       "    </tr>\n",
       "    <tr>\n",
       "      <th>50</th>\n",
       "      <td>2</td>\n",
       "      <td>38.376015</td>\n",
       "      <td>63.0</td>\n",
       "      <td>2022.0</td>\n",
       "      <td>Malus</td>\n",
       "      <td>237.491870</td>\n",
       "      <td>516</td>\n",
       "      <td>Malus sieboldii</td>\n",
       "      <td>38.4</td>\n",
       "      <td>237.5</td>\n",
       "      <td>245</td>\n",
       "      <td>182.0</td>\n",
       "      <td>33124.0</td>\n",
       "      <td>182.0</td>\n",
       "    </tr>\n",
       "    <tr>\n",
       "      <th>50</th>\n",
       "      <td>2</td>\n",
       "      <td>38.376015</td>\n",
       "      <td>63.0</td>\n",
       "      <td>2022.0</td>\n",
       "      <td>Malus</td>\n",
       "      <td>237.491870</td>\n",
       "      <td>516</td>\n",
       "      <td>Malus sieboldii</td>\n",
       "      <td>38.4</td>\n",
       "      <td>237.5</td>\n",
       "      <td>245</td>\n",
       "      <td>182.0</td>\n",
       "      <td>33124.0</td>\n",
       "      <td>182.0</td>\n",
       "    </tr>\n",
       "    <tr>\n",
       "      <th>542</th>\n",
       "      <td>34</td>\n",
       "      <td>43.008286</td>\n",
       "      <td>63.0</td>\n",
       "      <td>2022.0</td>\n",
       "      <td>Malus</td>\n",
       "      <td>281.216940</td>\n",
       "      <td>516</td>\n",
       "      <td>Malus</td>\n",
       "      <td>43.0</td>\n",
       "      <td>281.2</td>\n",
       "      <td>245</td>\n",
       "      <td>182.0</td>\n",
       "      <td>33124.0</td>\n",
       "      <td>182.0</td>\n",
       "    </tr>\n",
       "    <tr>\n",
       "      <th>542</th>\n",
       "      <td>34</td>\n",
       "      <td>43.008286</td>\n",
       "      <td>63.0</td>\n",
       "      <td>2022.0</td>\n",
       "      <td>Malus</td>\n",
       "      <td>281.216940</td>\n",
       "      <td>516</td>\n",
       "      <td>Malus</td>\n",
       "      <td>43.0</td>\n",
       "      <td>281.2</td>\n",
       "      <td>245</td>\n",
       "      <td>182.0</td>\n",
       "      <td>33124.0</td>\n",
       "      <td>182.0</td>\n",
       "    </tr>\n",
       "    <tr>\n",
       "      <th>542</th>\n",
       "      <td>34</td>\n",
       "      <td>43.008286</td>\n",
       "      <td>63.0</td>\n",
       "      <td>2022.0</td>\n",
       "      <td>Malus</td>\n",
       "      <td>281.216940</td>\n",
       "      <td>516</td>\n",
       "      <td>Malus</td>\n",
       "      <td>43.0</td>\n",
       "      <td>281.2</td>\n",
       "      <td>245</td>\n",
       "      <td>182.0</td>\n",
       "      <td>33124.0</td>\n",
       "      <td>182.0</td>\n",
       "    </tr>\n",
       "    <tr>\n",
       "      <th>161</th>\n",
       "      <td>2</td>\n",
       "      <td>37.991367</td>\n",
       "      <td>336.0</td>\n",
       "      <td>2022.0</td>\n",
       "      <td>Olea</td>\n",
       "      <td>237.867970</td>\n",
       "      <td>516</td>\n",
       "      <td>Olea europaea</td>\n",
       "      <td>38.0</td>\n",
       "      <td>237.9</td>\n",
       "      <td>153</td>\n",
       "      <td>183.0</td>\n",
       "      <td>33489.0</td>\n",
       "      <td>182.0</td>\n",
       "    </tr>\n",
       "    <tr>\n",
       "      <th>50</th>\n",
       "      <td>2</td>\n",
       "      <td>38.376015</td>\n",
       "      <td>63.0</td>\n",
       "      <td>2022.0</td>\n",
       "      <td>Malus</td>\n",
       "      <td>237.491870</td>\n",
       "      <td>516</td>\n",
       "      <td>Malus sieboldii</td>\n",
       "      <td>38.4</td>\n",
       "      <td>237.5</td>\n",
       "      <td>245</td>\n",
       "      <td>182.0</td>\n",
       "      <td>33124.0</td>\n",
       "      <td>182.0</td>\n",
       "    </tr>\n",
       "    <tr>\n",
       "      <th>50</th>\n",
       "      <td>2</td>\n",
       "      <td>38.376015</td>\n",
       "      <td>63.0</td>\n",
       "      <td>2022.0</td>\n",
       "      <td>Malus</td>\n",
       "      <td>237.491870</td>\n",
       "      <td>516</td>\n",
       "      <td>Malus sieboldii</td>\n",
       "      <td>38.4</td>\n",
       "      <td>237.5</td>\n",
       "      <td>245</td>\n",
       "      <td>182.0</td>\n",
       "      <td>33124.0</td>\n",
       "      <td>182.0</td>\n",
       "    </tr>\n",
       "    <tr>\n",
       "      <th>542</th>\n",
       "      <td>34</td>\n",
       "      <td>43.008286</td>\n",
       "      <td>63.0</td>\n",
       "      <td>2022.0</td>\n",
       "      <td>Malus</td>\n",
       "      <td>281.216940</td>\n",
       "      <td>516</td>\n",
       "      <td>Malus</td>\n",
       "      <td>43.0</td>\n",
       "      <td>281.2</td>\n",
       "      <td>245</td>\n",
       "      <td>182.0</td>\n",
       "      <td>33124.0</td>\n",
       "      <td>182.0</td>\n",
       "    </tr>\n",
       "    <tr>\n",
       "      <th>50</th>\n",
       "      <td>2</td>\n",
       "      <td>38.376015</td>\n",
       "      <td>63.0</td>\n",
       "      <td>2022.0</td>\n",
       "      <td>Malus</td>\n",
       "      <td>237.491870</td>\n",
       "      <td>516</td>\n",
       "      <td>Malus sieboldii</td>\n",
       "      <td>38.4</td>\n",
       "      <td>237.5</td>\n",
       "      <td>245</td>\n",
       "      <td>182.0</td>\n",
       "      <td>33124.0</td>\n",
       "      <td>182.0</td>\n",
       "    </tr>\n",
       "    <tr>\n",
       "      <th>50</th>\n",
       "      <td>2</td>\n",
       "      <td>38.376015</td>\n",
       "      <td>63.0</td>\n",
       "      <td>2022.0</td>\n",
       "      <td>Malus</td>\n",
       "      <td>237.491870</td>\n",
       "      <td>516</td>\n",
       "      <td>Malus sieboldii</td>\n",
       "      <td>38.4</td>\n",
       "      <td>237.5</td>\n",
       "      <td>245</td>\n",
       "      <td>182.0</td>\n",
       "      <td>33124.0</td>\n",
       "      <td>182.0</td>\n",
       "    </tr>\n",
       "    <tr>\n",
       "      <th>50</th>\n",
       "      <td>2</td>\n",
       "      <td>38.376015</td>\n",
       "      <td>63.0</td>\n",
       "      <td>2022.0</td>\n",
       "      <td>Malus</td>\n",
       "      <td>237.491870</td>\n",
       "      <td>516</td>\n",
       "      <td>Malus sieboldii</td>\n",
       "      <td>38.4</td>\n",
       "      <td>237.5</td>\n",
       "      <td>245</td>\n",
       "      <td>182.0</td>\n",
       "      <td>33124.0</td>\n",
       "      <td>182.0</td>\n",
       "    </tr>\n",
       "    <tr>\n",
       "      <th>542</th>\n",
       "      <td>34</td>\n",
       "      <td>43.008286</td>\n",
       "      <td>63.0</td>\n",
       "      <td>2022.0</td>\n",
       "      <td>Malus</td>\n",
       "      <td>281.216940</td>\n",
       "      <td>516</td>\n",
       "      <td>Malus</td>\n",
       "      <td>43.0</td>\n",
       "      <td>281.2</td>\n",
       "      <td>245</td>\n",
       "      <td>182.0</td>\n",
       "      <td>33124.0</td>\n",
       "      <td>182.0</td>\n",
       "    </tr>\n",
       "    <tr>\n",
       "      <th>542</th>\n",
       "      <td>34</td>\n",
       "      <td>43.008286</td>\n",
       "      <td>63.0</td>\n",
       "      <td>2022.0</td>\n",
       "      <td>Malus</td>\n",
       "      <td>281.216940</td>\n",
       "      <td>516</td>\n",
       "      <td>Malus</td>\n",
       "      <td>43.0</td>\n",
       "      <td>281.2</td>\n",
       "      <td>245</td>\n",
       "      <td>182.0</td>\n",
       "      <td>33124.0</td>\n",
       "      <td>182.0</td>\n",
       "    </tr>\n",
       "    <tr>\n",
       "      <th>542</th>\n",
       "      <td>34</td>\n",
       "      <td>43.008286</td>\n",
       "      <td>63.0</td>\n",
       "      <td>2022.0</td>\n",
       "      <td>Malus</td>\n",
       "      <td>281.216940</td>\n",
       "      <td>516</td>\n",
       "      <td>Malus</td>\n",
       "      <td>43.0</td>\n",
       "      <td>281.2</td>\n",
       "      <td>245</td>\n",
       "      <td>182.0</td>\n",
       "      <td>33124.0</td>\n",
       "      <td>182.0</td>\n",
       "    </tr>\n",
       "    <tr>\n",
       "      <th>50</th>\n",
       "      <td>2</td>\n",
       "      <td>38.376015</td>\n",
       "      <td>63.0</td>\n",
       "      <td>2022.0</td>\n",
       "      <td>Malus</td>\n",
       "      <td>237.491870</td>\n",
       "      <td>516</td>\n",
       "      <td>Malus sieboldii</td>\n",
       "      <td>38.4</td>\n",
       "      <td>237.5</td>\n",
       "      <td>245</td>\n",
       "      <td>182.0</td>\n",
       "      <td>33124.0</td>\n",
       "      <td>182.0</td>\n",
       "    </tr>\n",
       "    <tr>\n",
       "      <th>50</th>\n",
       "      <td>2</td>\n",
       "      <td>38.376015</td>\n",
       "      <td>63.0</td>\n",
       "      <td>2022.0</td>\n",
       "      <td>Malus</td>\n",
       "      <td>237.491870</td>\n",
       "      <td>516</td>\n",
       "      <td>Malus sieboldii</td>\n",
       "      <td>38.4</td>\n",
       "      <td>237.5</td>\n",
       "      <td>245</td>\n",
       "      <td>182.0</td>\n",
       "      <td>33124.0</td>\n",
       "      <td>182.0</td>\n",
       "    </tr>\n",
       "    <tr>\n",
       "      <th>542</th>\n",
       "      <td>34</td>\n",
       "      <td>43.008286</td>\n",
       "      <td>63.0</td>\n",
       "      <td>2022.0</td>\n",
       "      <td>Malus</td>\n",
       "      <td>281.216940</td>\n",
       "      <td>516</td>\n",
       "      <td>Malus</td>\n",
       "      <td>43.0</td>\n",
       "      <td>281.2</td>\n",
       "      <td>245</td>\n",
       "      <td>182.0</td>\n",
       "      <td>33124.0</td>\n",
       "      <td>182.0</td>\n",
       "    </tr>\n",
       "    <tr>\n",
       "      <th>50</th>\n",
       "      <td>2</td>\n",
       "      <td>38.376015</td>\n",
       "      <td>63.0</td>\n",
       "      <td>2022.0</td>\n",
       "      <td>Malus</td>\n",
       "      <td>237.491870</td>\n",
       "      <td>516</td>\n",
       "      <td>Malus sieboldii</td>\n",
       "      <td>38.4</td>\n",
       "      <td>237.5</td>\n",
       "      <td>245</td>\n",
       "      <td>182.0</td>\n",
       "      <td>33124.0</td>\n",
       "      <td>182.0</td>\n",
       "    </tr>\n",
       "    <tr>\n",
       "      <th>148</th>\n",
       "      <td>2</td>\n",
       "      <td>37.991367</td>\n",
       "      <td>337.0</td>\n",
       "      <td>2022.0</td>\n",
       "      <td>Olea</td>\n",
       "      <td>237.867970</td>\n",
       "      <td>516</td>\n",
       "      <td>Olea europaea</td>\n",
       "      <td>38.0</td>\n",
       "      <td>237.9</td>\n",
       "      <td>153</td>\n",
       "      <td>184.0</td>\n",
       "      <td>33856.0</td>\n",
       "      <td>181.0</td>\n",
       "    </tr>\n",
       "    <tr>\n",
       "      <th>1211</th>\n",
       "      <td>1823899</td>\n",
       "      <td>32.063952</td>\n",
       "      <td>333.0</td>\n",
       "      <td>2022.0</td>\n",
       "      <td>Olea</td>\n",
       "      <td>34.807614</td>\n",
       "      <td>516</td>\n",
       "      <td>Olea</td>\n",
       "      <td>32.1</td>\n",
       "      <td>34.8</td>\n",
       "      <td>153</td>\n",
       "      <td>180.0</td>\n",
       "      <td>32400.0</td>\n",
       "      <td>180.0</td>\n",
       "    </tr>\n",
       "    <tr>\n",
       "      <th>1212</th>\n",
       "      <td>1823973</td>\n",
       "      <td>32.063168</td>\n",
       "      <td>338.0</td>\n",
       "      <td>2022.0</td>\n",
       "      <td>Olea</td>\n",
       "      <td>34.801908</td>\n",
       "      <td>516</td>\n",
       "      <td>Olea</td>\n",
       "      <td>32.1</td>\n",
       "      <td>34.8</td>\n",
       "      <td>153</td>\n",
       "      <td>185.0</td>\n",
       "      <td>34225.0</td>\n",
       "      <td>180.0</td>\n",
       "    </tr>\n",
       "    <tr>\n",
       "      <th>51</th>\n",
       "      <td>2</td>\n",
       "      <td>37.991367</td>\n",
       "      <td>338.0</td>\n",
       "      <td>2022.0</td>\n",
       "      <td>Olea</td>\n",
       "      <td>237.867970</td>\n",
       "      <td>516</td>\n",
       "      <td>Olea europaea</td>\n",
       "      <td>38.0</td>\n",
       "      <td>237.9</td>\n",
       "      <td>153</td>\n",
       "      <td>185.0</td>\n",
       "      <td>34225.0</td>\n",
       "      <td>180.0</td>\n",
       "    </tr>\n",
       "    <tr>\n",
       "      <th>1213</th>\n",
       "      <td>1823974</td>\n",
       "      <td>32.063202</td>\n",
       "      <td>338.0</td>\n",
       "      <td>2022.0</td>\n",
       "      <td>Olea</td>\n",
       "      <td>34.802404</td>\n",
       "      <td>516</td>\n",
       "      <td>Olea</td>\n",
       "      <td>32.1</td>\n",
       "      <td>34.8</td>\n",
       "      <td>153</td>\n",
       "      <td>185.0</td>\n",
       "      <td>34225.0</td>\n",
       "      <td>180.0</td>\n",
       "    </tr>\n",
       "    <tr>\n",
       "      <th>1214</th>\n",
       "      <td>1823998</td>\n",
       "      <td>32.063719</td>\n",
       "      <td>340.0</td>\n",
       "      <td>2022.0</td>\n",
       "      <td>Olea</td>\n",
       "      <td>34.796263</td>\n",
       "      <td>516</td>\n",
       "      <td>Olea</td>\n",
       "      <td>32.1</td>\n",
       "      <td>34.8</td>\n",
       "      <td>153</td>\n",
       "      <td>187.0</td>\n",
       "      <td>34969.0</td>\n",
       "      <td>178.0</td>\n",
       "    </tr>\n",
       "    <tr>\n",
       "      <th>1215</th>\n",
       "      <td>1823997</td>\n",
       "      <td>32.063753</td>\n",
       "      <td>340.0</td>\n",
       "      <td>2022.0</td>\n",
       "      <td>Olea</td>\n",
       "      <td>34.796519</td>\n",
       "      <td>516</td>\n",
       "      <td>Olea</td>\n",
       "      <td>32.1</td>\n",
       "      <td>34.8</td>\n",
       "      <td>153</td>\n",
       "      <td>187.0</td>\n",
       "      <td>34969.0</td>\n",
       "      <td>178.0</td>\n",
       "    </tr>\n",
       "    <tr>\n",
       "      <th>7</th>\n",
       "      <td>1</td>\n",
       "      <td>32.213543</td>\n",
       "      <td>342.0</td>\n",
       "      <td>2022.0</td>\n",
       "      <td>Olea</td>\n",
       "      <td>249.012980</td>\n",
       "      <td>516</td>\n",
       "      <td>Olea europaea</td>\n",
       "      <td>32.2</td>\n",
       "      <td>249.0</td>\n",
       "      <td>153</td>\n",
       "      <td>189.0</td>\n",
       "      <td>35721.0</td>\n",
       "      <td>176.0</td>\n",
       "    </tr>\n",
       "    <tr>\n",
       "      <th>1216</th>\n",
       "      <td>1824017</td>\n",
       "      <td>32.062355</td>\n",
       "      <td>343.0</td>\n",
       "      <td>2022.0</td>\n",
       "      <td>Olea</td>\n",
       "      <td>34.799203</td>\n",
       "      <td>516</td>\n",
       "      <td>Olea</td>\n",
       "      <td>32.1</td>\n",
       "      <td>34.8</td>\n",
       "      <td>153</td>\n",
       "      <td>190.0</td>\n",
       "      <td>36100.0</td>\n",
       "      <td>175.0</td>\n",
       "    </tr>\n",
       "    <tr>\n",
       "      <th>182</th>\n",
       "      <td>1824168</td>\n",
       "      <td>32.078188</td>\n",
       "      <td>357.0</td>\n",
       "      <td>2022.0</td>\n",
       "      <td>Citrus</td>\n",
       "      <td>34.802053</td>\n",
       "      <td>516</td>\n",
       "      <td>Citrus</td>\n",
       "      <td>32.1</td>\n",
       "      <td>34.8</td>\n",
       "      <td>183</td>\n",
       "      <td>174.0</td>\n",
       "      <td>30276.0</td>\n",
       "      <td>174.0</td>\n",
       "    </tr>\n",
       "    <tr>\n",
       "      <th>182</th>\n",
       "      <td>1824168</td>\n",
       "      <td>32.078188</td>\n",
       "      <td>357.0</td>\n",
       "      <td>2022.0</td>\n",
       "      <td>Citrus</td>\n",
       "      <td>34.802053</td>\n",
       "      <td>516</td>\n",
       "      <td>Citrus</td>\n",
       "      <td>32.1</td>\n",
       "      <td>34.8</td>\n",
       "      <td>183</td>\n",
       "      <td>174.0</td>\n",
       "      <td>30276.0</td>\n",
       "      <td>174.0</td>\n",
       "    </tr>\n",
       "    <tr>\n",
       "      <th>3</th>\n",
       "      <td>1</td>\n",
       "      <td>32.213543</td>\n",
       "      <td>327.0</td>\n",
       "      <td>2022.0</td>\n",
       "      <td>Olea</td>\n",
       "      <td>249.012980</td>\n",
       "      <td>516</td>\n",
       "      <td>Olea europaea</td>\n",
       "      <td>32.2</td>\n",
       "      <td>249.0</td>\n",
       "      <td>153</td>\n",
       "      <td>174.0</td>\n",
       "      <td>30276.0</td>\n",
       "      <td>174.0</td>\n",
       "    </tr>\n",
       "    <tr>\n",
       "      <th>182</th>\n",
       "      <td>1824168</td>\n",
       "      <td>32.078188</td>\n",
       "      <td>357.0</td>\n",
       "      <td>2022.0</td>\n",
       "      <td>Citrus</td>\n",
       "      <td>34.802053</td>\n",
       "      <td>516</td>\n",
       "      <td>Citrus</td>\n",
       "      <td>32.1</td>\n",
       "      <td>34.8</td>\n",
       "      <td>183</td>\n",
       "      <td>174.0</td>\n",
       "      <td>30276.0</td>\n",
       "      <td>174.0</td>\n",
       "    </tr>\n",
       "    <tr>\n",
       "      <th>182</th>\n",
       "      <td>1824168</td>\n",
       "      <td>32.078188</td>\n",
       "      <td>357.0</td>\n",
       "      <td>2022.0</td>\n",
       "      <td>Citrus</td>\n",
       "      <td>34.802053</td>\n",
       "      <td>516</td>\n",
       "      <td>Citrus</td>\n",
       "      <td>32.1</td>\n",
       "      <td>34.8</td>\n",
       "      <td>183</td>\n",
       "      <td>174.0</td>\n",
       "      <td>30276.0</td>\n",
       "      <td>174.0</td>\n",
       "    </tr>\n",
       "    <tr>\n",
       "      <th>182</th>\n",
       "      <td>1824168</td>\n",
       "      <td>32.078188</td>\n",
       "      <td>357.0</td>\n",
       "      <td>2022.0</td>\n",
       "      <td>Citrus</td>\n",
       "      <td>34.802053</td>\n",
       "      <td>516</td>\n",
       "      <td>Citrus</td>\n",
       "      <td>32.1</td>\n",
       "      <td>34.8</td>\n",
       "      <td>183</td>\n",
       "      <td>174.0</td>\n",
       "      <td>30276.0</td>\n",
       "      <td>174.0</td>\n",
       "    </tr>\n",
       "    <tr>\n",
       "      <th>193</th>\n",
       "      <td>1824165</td>\n",
       "      <td>32.026304</td>\n",
       "      <td>356.0</td>\n",
       "      <td>2022.0</td>\n",
       "      <td>Citrus</td>\n",
       "      <td>278.925524</td>\n",
       "      <td>516</td>\n",
       "      <td>Citrus</td>\n",
       "      <td>32.0</td>\n",
       "      <td>278.9</td>\n",
       "      <td>183</td>\n",
       "      <td>173.0</td>\n",
       "      <td>29929.0</td>\n",
       "      <td>173.0</td>\n",
       "    </tr>\n",
       "    <tr>\n",
       "      <th>171</th>\n",
       "      <td>1824020</td>\n",
       "      <td>32.058087</td>\n",
       "      <td>345.0</td>\n",
       "      <td>2022.0</td>\n",
       "      <td>Rosmarinus</td>\n",
       "      <td>34.797155</td>\n",
       "      <td>516</td>\n",
       "      <td>Rosmarinus officinalis</td>\n",
       "      <td>32.1</td>\n",
       "      <td>34.8</td>\n",
       "      <td>153</td>\n",
       "      <td>192.0</td>\n",
       "      <td>36864.0</td>\n",
       "      <td>173.0</td>\n",
       "    </tr>\n",
       "    <tr>\n",
       "      <th>193</th>\n",
       "      <td>1824165</td>\n",
       "      <td>32.026304</td>\n",
       "      <td>356.0</td>\n",
       "      <td>2022.0</td>\n",
       "      <td>Citrus</td>\n",
       "      <td>278.925524</td>\n",
       "      <td>516</td>\n",
       "      <td>Citrus</td>\n",
       "      <td>32.0</td>\n",
       "      <td>278.9</td>\n",
       "      <td>183</td>\n",
       "      <td>173.0</td>\n",
       "      <td>29929.0</td>\n",
       "      <td>173.0</td>\n",
       "    </tr>\n",
       "    <tr>\n",
       "      <th>193</th>\n",
       "      <td>1824165</td>\n",
       "      <td>32.026304</td>\n",
       "      <td>356.0</td>\n",
       "      <td>2022.0</td>\n",
       "      <td>Citrus</td>\n",
       "      <td>278.925524</td>\n",
       "      <td>516</td>\n",
       "      <td>Citrus</td>\n",
       "      <td>32.0</td>\n",
       "      <td>278.9</td>\n",
       "      <td>183</td>\n",
       "      <td>173.0</td>\n",
       "      <td>29929.0</td>\n",
       "      <td>173.0</td>\n",
       "    </tr>\n",
       "    <tr>\n",
       "      <th>193</th>\n",
       "      <td>1824165</td>\n",
       "      <td>32.026304</td>\n",
       "      <td>356.0</td>\n",
       "      <td>2022.0</td>\n",
       "      <td>Citrus</td>\n",
       "      <td>278.925524</td>\n",
       "      <td>516</td>\n",
       "      <td>Citrus</td>\n",
       "      <td>32.0</td>\n",
       "      <td>278.9</td>\n",
       "      <td>183</td>\n",
       "      <td>173.0</td>\n",
       "      <td>29929.0</td>\n",
       "      <td>173.0</td>\n",
       "    </tr>\n",
       "    <tr>\n",
       "      <th>193</th>\n",
       "      <td>1824165</td>\n",
       "      <td>32.026304</td>\n",
       "      <td>356.0</td>\n",
       "      <td>2022.0</td>\n",
       "      <td>Citrus</td>\n",
       "      <td>278.925524</td>\n",
       "      <td>516</td>\n",
       "      <td>Citrus</td>\n",
       "      <td>32.0</td>\n",
       "      <td>278.9</td>\n",
       "      <td>183</td>\n",
       "      <td>173.0</td>\n",
       "      <td>29929.0</td>\n",
       "      <td>173.0</td>\n",
       "    </tr>\n",
       "    <tr>\n",
       "      <th>169</th>\n",
       "      <td>2</td>\n",
       "      <td>37.991367</td>\n",
       "      <td>346.0</td>\n",
       "      <td>2022.0</td>\n",
       "      <td>Olea</td>\n",
       "      <td>237.867970</td>\n",
       "      <td>516</td>\n",
       "      <td>Olea europaea</td>\n",
       "      <td>38.0</td>\n",
       "      <td>237.9</td>\n",
       "      <td>153</td>\n",
       "      <td>193.0</td>\n",
       "      <td>37249.0</td>\n",
       "      <td>172.0</td>\n",
       "    </tr>\n",
       "    <tr>\n",
       "      <th>55</th>\n",
       "      <td>2</td>\n",
       "      <td>37.991367</td>\n",
       "      <td>325.0</td>\n",
       "      <td>2022.0</td>\n",
       "      <td>Olea</td>\n",
       "      <td>237.867970</td>\n",
       "      <td>516</td>\n",
       "      <td>Olea europaea</td>\n",
       "      <td>38.0</td>\n",
       "      <td>237.9</td>\n",
       "      <td>153</td>\n",
       "      <td>172.0</td>\n",
       "      <td>29584.0</td>\n",
       "      <td>172.0</td>\n",
       "    </tr>\n",
       "    <tr>\n",
       "      <th>170</th>\n",
       "      <td>1823788</td>\n",
       "      <td>32.065718</td>\n",
       "      <td>323.0</td>\n",
       "      <td>2022.0</td>\n",
       "      <td>Rosmarinus</td>\n",
       "      <td>34.803779</td>\n",
       "      <td>516</td>\n",
       "      <td>Rosmarinus officinalis</td>\n",
       "      <td>32.1</td>\n",
       "      <td>34.8</td>\n",
       "      <td>153</td>\n",
       "      <td>170.0</td>\n",
       "      <td>28900.0</td>\n",
       "      <td>170.0</td>\n",
       "    </tr>\n",
       "    <tr>\n",
       "      <th>1210</th>\n",
       "      <td>1823791</td>\n",
       "      <td>32.063240</td>\n",
       "      <td>323.0</td>\n",
       "      <td>2022.0</td>\n",
       "      <td>Olea</td>\n",
       "      <td>34.804838</td>\n",
       "      <td>516</td>\n",
       "      <td>Olea</td>\n",
       "      <td>32.1</td>\n",
       "      <td>34.8</td>\n",
       "      <td>153</td>\n",
       "      <td>170.0</td>\n",
       "      <td>28900.0</td>\n",
       "      <td>170.0</td>\n",
       "    </tr>\n",
       "  </tbody>\n",
       "</table>\n",
       "</div>"
      ],
      "text/plain": [
       "      site_id   latitude    doy    year       genus     lon_360  phenophase  \\\n",
       "50          2  38.376015   63.0  2022.0       Malus  237.491870         516   \n",
       "542        34  43.008286   63.0  2022.0       Malus  281.216940         516   \n",
       "542        34  43.008286   63.0  2022.0       Malus  281.216940         516   \n",
       "542        34  43.008286   63.0  2022.0       Malus  281.216940         516   \n",
       "542        34  43.008286   63.0  2022.0       Malus  281.216940         516   \n",
       "50          2  38.376015   63.0  2022.0       Malus  237.491870         516   \n",
       "50          2  38.376015   63.0  2022.0       Malus  237.491870         516   \n",
       "50          2  38.376015   63.0  2022.0       Malus  237.491870         516   \n",
       "542        34  43.008286   63.0  2022.0       Malus  281.216940         516   \n",
       "542        34  43.008286   63.0  2022.0       Malus  281.216940         516   \n",
       "542        34  43.008286   63.0  2022.0       Malus  281.216940         516   \n",
       "161         2  37.991367  336.0  2022.0        Olea  237.867970         516   \n",
       "50          2  38.376015   63.0  2022.0       Malus  237.491870         516   \n",
       "50          2  38.376015   63.0  2022.0       Malus  237.491870         516   \n",
       "542        34  43.008286   63.0  2022.0       Malus  281.216940         516   \n",
       "50          2  38.376015   63.0  2022.0       Malus  237.491870         516   \n",
       "50          2  38.376015   63.0  2022.0       Malus  237.491870         516   \n",
       "50          2  38.376015   63.0  2022.0       Malus  237.491870         516   \n",
       "542        34  43.008286   63.0  2022.0       Malus  281.216940         516   \n",
       "542        34  43.008286   63.0  2022.0       Malus  281.216940         516   \n",
       "542        34  43.008286   63.0  2022.0       Malus  281.216940         516   \n",
       "50          2  38.376015   63.0  2022.0       Malus  237.491870         516   \n",
       "50          2  38.376015   63.0  2022.0       Malus  237.491870         516   \n",
       "542        34  43.008286   63.0  2022.0       Malus  281.216940         516   \n",
       "50          2  38.376015   63.0  2022.0       Malus  237.491870         516   \n",
       "148         2  37.991367  337.0  2022.0        Olea  237.867970         516   \n",
       "1211  1823899  32.063952  333.0  2022.0        Olea   34.807614         516   \n",
       "1212  1823973  32.063168  338.0  2022.0        Olea   34.801908         516   \n",
       "51          2  37.991367  338.0  2022.0        Olea  237.867970         516   \n",
       "1213  1823974  32.063202  338.0  2022.0        Olea   34.802404         516   \n",
       "1214  1823998  32.063719  340.0  2022.0        Olea   34.796263         516   \n",
       "1215  1823997  32.063753  340.0  2022.0        Olea   34.796519         516   \n",
       "7           1  32.213543  342.0  2022.0        Olea  249.012980         516   \n",
       "1216  1824017  32.062355  343.0  2022.0        Olea   34.799203         516   \n",
       "182   1824168  32.078188  357.0  2022.0      Citrus   34.802053         516   \n",
       "182   1824168  32.078188  357.0  2022.0      Citrus   34.802053         516   \n",
       "3           1  32.213543  327.0  2022.0        Olea  249.012980         516   \n",
       "182   1824168  32.078188  357.0  2022.0      Citrus   34.802053         516   \n",
       "182   1824168  32.078188  357.0  2022.0      Citrus   34.802053         516   \n",
       "182   1824168  32.078188  357.0  2022.0      Citrus   34.802053         516   \n",
       "193   1824165  32.026304  356.0  2022.0      Citrus  278.925524         516   \n",
       "171   1824020  32.058087  345.0  2022.0  Rosmarinus   34.797155         516   \n",
       "193   1824165  32.026304  356.0  2022.0      Citrus  278.925524         516   \n",
       "193   1824165  32.026304  356.0  2022.0      Citrus  278.925524         516   \n",
       "193   1824165  32.026304  356.0  2022.0      Citrus  278.925524         516   \n",
       "193   1824165  32.026304  356.0  2022.0      Citrus  278.925524         516   \n",
       "169         2  37.991367  346.0  2022.0        Olea  237.867970         516   \n",
       "55          2  37.991367  325.0  2022.0        Olea  237.867970         516   \n",
       "170   1823788  32.065718  323.0  2022.0  Rosmarinus   34.803779         516   \n",
       "1210  1823791  32.063240  323.0  2022.0        Olea   34.804838         516   \n",
       "\n",
       "          formatted_sci_name  rounded_lat  rounded_lon  flowering_day  \\\n",
       "50           Malus sieboldii         38.4        237.5            245   \n",
       "542                    Malus         43.0        281.2            245   \n",
       "542                    Malus         43.0        281.2            245   \n",
       "542                    Malus         43.0        281.2            245   \n",
       "542                    Malus         43.0        281.2            245   \n",
       "50           Malus sieboldii         38.4        237.5            245   \n",
       "50           Malus sieboldii         38.4        237.5            245   \n",
       "50           Malus sieboldii         38.4        237.5            245   \n",
       "542                    Malus         43.0        281.2            245   \n",
       "542                    Malus         43.0        281.2            245   \n",
       "542                    Malus         43.0        281.2            245   \n",
       "161            Olea europaea         38.0        237.9            153   \n",
       "50           Malus sieboldii         38.4        237.5            245   \n",
       "50           Malus sieboldii         38.4        237.5            245   \n",
       "542                    Malus         43.0        281.2            245   \n",
       "50           Malus sieboldii         38.4        237.5            245   \n",
       "50           Malus sieboldii         38.4        237.5            245   \n",
       "50           Malus sieboldii         38.4        237.5            245   \n",
       "542                    Malus         43.0        281.2            245   \n",
       "542                    Malus         43.0        281.2            245   \n",
       "542                    Malus         43.0        281.2            245   \n",
       "50           Malus sieboldii         38.4        237.5            245   \n",
       "50           Malus sieboldii         38.4        237.5            245   \n",
       "542                    Malus         43.0        281.2            245   \n",
       "50           Malus sieboldii         38.4        237.5            245   \n",
       "148            Olea europaea         38.0        237.9            153   \n",
       "1211                    Olea         32.1         34.8            153   \n",
       "1212                    Olea         32.1         34.8            153   \n",
       "51             Olea europaea         38.0        237.9            153   \n",
       "1213                    Olea         32.1         34.8            153   \n",
       "1214                    Olea         32.1         34.8            153   \n",
       "1215                    Olea         32.1         34.8            153   \n",
       "7              Olea europaea         32.2        249.0            153   \n",
       "1216                    Olea         32.1         34.8            153   \n",
       "182                   Citrus         32.1         34.8            183   \n",
       "182                   Citrus         32.1         34.8            183   \n",
       "3              Olea europaea         32.2        249.0            153   \n",
       "182                   Citrus         32.1         34.8            183   \n",
       "182                   Citrus         32.1         34.8            183   \n",
       "182                   Citrus         32.1         34.8            183   \n",
       "193                   Citrus         32.0        278.9            183   \n",
       "171   Rosmarinus officinalis         32.1         34.8            153   \n",
       "193                   Citrus         32.0        278.9            183   \n",
       "193                   Citrus         32.0        278.9            183   \n",
       "193                   Citrus         32.0        278.9            183   \n",
       "193                   Citrus         32.0        278.9            183   \n",
       "169            Olea europaea         38.0        237.9            153   \n",
       "55             Olea europaea         38.0        237.9            153   \n",
       "170   Rosmarinus officinalis         32.1         34.8            153   \n",
       "1210                    Olea         32.1         34.8            153   \n",
       "\n",
       "      abs_error  square_error  corrected_error  \n",
       "50        182.0       33124.0            182.0  \n",
       "542       182.0       33124.0            182.0  \n",
       "542       182.0       33124.0            182.0  \n",
       "542       182.0       33124.0            182.0  \n",
       "542       182.0       33124.0            182.0  \n",
       "50        182.0       33124.0            182.0  \n",
       "50        182.0       33124.0            182.0  \n",
       "50        182.0       33124.0            182.0  \n",
       "542       182.0       33124.0            182.0  \n",
       "542       182.0       33124.0            182.0  \n",
       "542       182.0       33124.0            182.0  \n",
       "161       183.0       33489.0            182.0  \n",
       "50        182.0       33124.0            182.0  \n",
       "50        182.0       33124.0            182.0  \n",
       "542       182.0       33124.0            182.0  \n",
       "50        182.0       33124.0            182.0  \n",
       "50        182.0       33124.0            182.0  \n",
       "50        182.0       33124.0            182.0  \n",
       "542       182.0       33124.0            182.0  \n",
       "542       182.0       33124.0            182.0  \n",
       "542       182.0       33124.0            182.0  \n",
       "50        182.0       33124.0            182.0  \n",
       "50        182.0       33124.0            182.0  \n",
       "542       182.0       33124.0            182.0  \n",
       "50        182.0       33124.0            182.0  \n",
       "148       184.0       33856.0            181.0  \n",
       "1211      180.0       32400.0            180.0  \n",
       "1212      185.0       34225.0            180.0  \n",
       "51        185.0       34225.0            180.0  \n",
       "1213      185.0       34225.0            180.0  \n",
       "1214      187.0       34969.0            178.0  \n",
       "1215      187.0       34969.0            178.0  \n",
       "7         189.0       35721.0            176.0  \n",
       "1216      190.0       36100.0            175.0  \n",
       "182       174.0       30276.0            174.0  \n",
       "182       174.0       30276.0            174.0  \n",
       "3         174.0       30276.0            174.0  \n",
       "182       174.0       30276.0            174.0  \n",
       "182       174.0       30276.0            174.0  \n",
       "182       174.0       30276.0            174.0  \n",
       "193       173.0       29929.0            173.0  \n",
       "171       192.0       36864.0            173.0  \n",
       "193       173.0       29929.0            173.0  \n",
       "193       173.0       29929.0            173.0  \n",
       "193       173.0       29929.0            173.0  \n",
       "193       173.0       29929.0            173.0  \n",
       "169       193.0       37249.0            172.0  \n",
       "55        172.0       29584.0            172.0  \n",
       "170       170.0       28900.0            170.0  \n",
       "1210      170.0       28900.0            170.0  "
      ]
     },
     "execution_count": 100,
     "metadata": {},
     "output_type": "execute_result"
    }
   ],
   "source": [
    "unwrapped_northern_preds.sort_values('corrected_error', ascending=False)[0:50]"
   ]
  },
  {
   "cell_type": "code",
   "execution_count": 101,
   "id": "5ba40ee1",
   "metadata": {},
   "outputs": [
    {
     "data": {
      "text/plain": [
       "(array([1202., 1016.,  889.,  966.,  796.,  570.,  770.,  550.,  277.,\n",
       "         426.,  323.,  354.,  316.,  364.,  291.,  216.,  192.,  212.,\n",
       "         123.,  184.,  195.,  164.,   87.,  110.,   42.,   88.,   64.,\n",
       "          32.,   75.,   44.,   94.,   46.,   13.,   85.,   29.,   43.,\n",
       "          13.,   83.,   80.,   31.,   21.,   80.,  110.,   93.,  223.,\n",
       "         200.,   62.,  319.,   40.,   56.]),\n",
       " array([  0.  ,   3.64,   7.28,  10.92,  14.56,  18.2 ,  21.84,  25.48,\n",
       "         29.12,  32.76,  36.4 ,  40.04,  43.68,  47.32,  50.96,  54.6 ,\n",
       "         58.24,  61.88,  65.52,  69.16,  72.8 ,  76.44,  80.08,  83.72,\n",
       "         87.36,  91.  ,  94.64,  98.28, 101.92, 105.56, 109.2 , 112.84,\n",
       "        116.48, 120.12, 123.76, 127.4 , 131.04, 134.68, 138.32, 141.96,\n",
       "        145.6 , 149.24, 152.88, 156.52, 160.16, 163.8 , 167.44, 171.08,\n",
       "        174.72, 178.36, 182.  ]),\n",
       " <BarContainer object of 50 artists>)"
      ]
     },
     "execution_count": 101,
     "metadata": {},
     "output_type": "execute_result"
    },
    {
     "data": {
      "image/png": "[encoded data removed]",
      "text/plain": [
       "<Figure size 432x288 with 1 Axes>"
      ]
     },
     "metadata": {
      "needs_background": "light"
     },
     "output_type": "display_data"
    }
   ],
   "source": [
    "plt.hist(full_predictions['corrected_error'], bins=50)"
   ]
  },
  {
   "cell_type": "code",
   "execution_count": 102,
   "id": "a21afe91",
   "metadata": {},
   "outputs": [
    {
     "data": {
      "text/plain": [
       "26.0"
      ]
     },
     "execution_count": 102,
     "metadata": {},
     "output_type": "execute_result"
    }
   ],
   "source": [
    "np.median(full_predictions['abs_error'])"
   ]
  },
  {
   "cell_type": "code",
   "execution_count": 103,
   "id": "27f23aad",
   "metadata": {},
   "outputs": [
    {
     "name": "stdout",
     "output_type": "stream",
     "text": [
      "        site_id   latitude    doy    year  genus     lon_360  phenophase  \\\n",
      "19      1812903  42.000443  183.0  2022.0  Rubus  268.349632         516   \n",
      "20      1812992  43.123822  181.0  2022.0  Rubus  282.422069         516   \n",
      "22      1813012  35.219765  190.0  2022.0  Rubus  270.150501         516   \n",
      "23      1813095  43.026309  193.0  2022.0  Rubus  274.317216         516   \n",
      "25      1810562  37.417095  165.0  2022.0  Rubus  280.809241         516   \n",
      "...         ...        ...    ...     ...    ...         ...         ...   \n",
      "148824  1821644  39.903535  251.0  2022.0  Pyrus  255.017318         516   \n",
      "148825  1814107  39.981231  229.0  2022.0  Pyrus  276.847639         516   \n",
      "148834  1822209  35.623004  264.0  2022.0  Pyrus  262.402859         516   \n",
      "148838  1822962  41.593695  286.0  2022.0  Pyrus  276.353681         516   \n",
      "148859  1821277  45.499888  244.0  2022.0  Pyrus  237.365864         516   \n",
      "\n",
      "       formatted_sci_name  rounded_lat  rounded_lon  flowering_day  abs_error  \\\n",
      "19                  Rubus         42.0        268.3            183        0.0   \n",
      "20                  Rubus         43.1        282.4            183        2.0   \n",
      "22                  Rubus         35.2        270.2            183        7.0   \n",
      "23                  Rubus         43.0        274.3            183       10.0   \n",
      "25                  Rubus         37.4        280.8            183       18.0   \n",
      "...                   ...          ...          ...            ...        ...   \n",
      "148824     Pyrus communis         39.9        255.0            245        6.0   \n",
      "148825     Pyrus communis         40.0        276.8            245       16.0   \n",
      "148834     Pyrus communis         35.6        262.4            245       19.0   \n",
      "148838     Pyrus communis         41.6        276.4            245       41.0   \n",
      "148859    Pyrus pyrifolia         45.5        237.4            245        1.0   \n",
      "\n",
      "        square_error  corrected_error  \n",
      "19               0.0              0.0  \n",
      "20               4.0              2.0  \n",
      "22              49.0              7.0  \n",
      "23             100.0             10.0  \n",
      "25             324.0             18.0  \n",
      "...              ...              ...  \n",
      "148824          36.0              6.0  \n",
      "148825         256.0             16.0  \n",
      "148834         361.0             19.0  \n",
      "148838        1681.0             41.0  \n",
      "148859           1.0              1.0  \n",
      "\n",
      "[11084 rows x 14 columns]\n",
      "46.74820545325739\n",
      "33.19460483579935\n"
     ]
    }
   ],
   "source": [
    "print(unwrapped_northern_preds)\n",
    "\n",
    "print(rmse(unwrapped_northern_preds['doy'], unwrapped_northern_preds['flowering_day']))\n",
    "print(mae(unwrapped_northern_preds['doy'], unwrapped_northern_preds['flowering_day']))"
   ]
  },
  {
   "cell_type": "code",
   "execution_count": null,
   "id": "7edbba65",
   "metadata": {},
   "outputs": [],
   "source": [
    "def rmse(y1, y2):\n",
    "    return np.sqrt(np.mean((y1 - y2) ** 2))\n",
    "\n",
    "def mae(y1, y2):\n",
    "    return np.mean(np.abs(y1 - y2))"
   ]
  },
  {
   "cell_type": "code",
   "execution_count": 105,
   "id": "d2fe3c02",
   "metadata": {},
   "outputs": [],
   "source": [
    "small_preds = full_predictions.dropna()"
   ]
  },
  {
   "cell_type": "code",
   "execution_count": 106,
   "id": "fc84d432",
   "metadata": {
    "scrolled": true
   },
   "outputs": [
    {
     "name": "stdout",
     "output_type": "stream",
     "text": [
      "73.1063042190295\n",
      "73.1063042190295\n",
      "48.30737025041473\n",
      "48.30737025041473\n"
     ]
    }
   ],
   "source": [
    "print(rmse(full_predictions['doy'], full_predictions['flowering_day']))\n",
    "print(rmse(small_preds['doy'], small_preds['flowering_day']))\n",
    "print(mae(full_predictions['doy'], full_predictions['flowering_day']))\n",
    "print(mae(small_preds['doy'], small_preds['flowering_day']))"
   ]
  },
  {
   "cell_type": "markdown",
   "id": "2b76ced2",
   "metadata": {},
   "source": [
    "Old MAE: 31.9; new MAE: 30.6."
   ]
  },
  {
   "cell_type": "raw",
   "id": "1d7aa9e9",
   "metadata": {},
   "source": [
    "IDEA: try to train / test with euro data if available. "
   ]
  }
 ],
 "metadata": {
  "kernelspec": {
   "display_name": "seasonality",
   "language": "python",
   "name": "seasonality"
  },
  "language_info": {
   "codemirror_mode": {
    "name": "ipython",
    "version": 3
   },
   "file_extension": ".py",
   "mimetype": "text/x-python",
   "name": "python",
   "nbconvert_exporter": "python",
   "pygments_lexer": "ipython3",
   "version": "3.11.4"
  }
 },
 "nbformat": 4,
 "nbformat_minor": 5
}
