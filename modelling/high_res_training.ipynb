{
 "cells": [
  {
   "cell_type": "code",
   "execution_count": 1,
   "id": "0b9940e6",
   "metadata": {},
   "outputs": [],
   "source": [
    "from model_helpers import *\n",
    "\n",
    "import cfgrib\n",
    "import xarray as xr\n",
    "\n",
    "import pandas as pd\n",
    "import numpy as np\n",
    "\n",
    "from pyPhenology import models, utils\n",
    "\n",
    "from tqdm import trange, tqdm\n",
    "\n",
    "import matplotlib.pyplot as plt\n",
    "\n",
    "from warnings import warn\n",
    "import warnings"
   ]
  },
  {
   "cell_type": "code",
   "execution_count": 2,
   "id": "b9eb8428",
   "metadata": {},
   "outputs": [],
   "source": [
    "warnings.filterwarnings('ignore')"
   ]
  },
  {
   "cell_type": "code",
   "execution_count": 3,
   "id": "bc42a085",
   "metadata": {},
   "outputs": [],
   "source": [
    "high_cutoff_year = 2022\n",
    "low_cutoff_year = 2010"
   ]
  },
  {
   "cell_type": "markdown",
   "id": "f736ca8c",
   "metadata": {},
   "source": [
    "In this notebook, we implement two methods for increasing the accuracy of our ripeness predictions:\n",
    "\n",
    "1. higher space resolution. \n",
    "2. train on all years before 2022, test on 2022. "
   ]
  },
  {
   "cell_type": "code",
   "execution_count": 4,
   "id": "1c833e9d",
   "metadata": {},
   "outputs": [],
   "source": [
    "# Load in high-res weather data\n",
    "grib_data = cfgrib.open_datasets('../data/monthly_weather_data.grib')\n",
    "\n",
    "core_data = grib_data[0]"
   ]
  },
  {
   "cell_type": "code",
   "execution_count": 5,
   "id": "5c32b38c",
   "metadata": {},
   "outputs": [],
   "source": [
    "## Load observations\n",
    "formatted_plants = pd.read_csv(\"../data/model_training_data/all_plants_formatted.csv\", index_col=0)\n"
   ]
  },
  {
   "cell_type": "code",
   "execution_count": 6,
   "id": "9e188013",
   "metadata": {},
   "outputs": [],
   "source": [
    "formatted_plants['rounded_lat'] = np.round(formatted_plants['latitude'], 1)\n",
    "formatted_plants['rounded_lon'] = np.round(formatted_plants['lon_360'], 1)\n",
    "\n",
    "rounded_sites = formatted_plants[['site_id', 'rounded_lat', 'rounded_lon']].drop_duplicates()\n",
    "\n",
    "site_x_vals = xr.DataArray(rounded_sites['rounded_lat'], dims=['site'])\n",
    "site_y_vals = xr.DataArray(rounded_sites['rounded_lon'], dims=['site'])"
   ]
  },
  {
   "cell_type": "code",
   "execution_count": 7,
   "id": "138e78a7",
   "metadata": {},
   "outputs": [],
   "source": [
    "full_weather_data = core_data.sel(latitude=site_x_vals, longitude=site_y_vals, method='nearest').to_dataframe().dropna()"
   ]
  },
  {
   "cell_type": "code",
   "execution_count": 8,
   "id": "61e6cd5f",
   "metadata": {},
   "outputs": [],
   "source": [
    "formatted_weather = format_weather_data(full_weather_data)\n",
    "\n",
    "formatted_weather['latitude'] = np.round(formatted_weather['latitude'], 1)\n",
    "formatted_weather['longitude'] = np.round(formatted_weather['longitude'], 1)"
   ]
  },
  {
   "cell_type": "code",
   "execution_count": 9,
   "id": "c240db58",
   "metadata": {},
   "outputs": [],
   "source": [
    "rounded_sites['coordstring'] = rounded_sites['rounded_lat'].astype(str) + rounded_sites['rounded_lon'].astype(str)\n",
    "formatted_weather['coordstring'] = formatted_weather['latitude'].astype(str) + formatted_weather['longitude'].astype(str)\n",
    "\n"
   ]
  },
  {
   "cell_type": "code",
   "execution_count": 10,
   "id": "016a13e3",
   "metadata": {},
   "outputs": [],
   "source": [
    "## Add Site ID to the weather data\n",
    "weather_with_sites = pd.merge(formatted_weather, rounded_sites[['coordstring', 'site_id']], on='coordstring').drop('coordstring', axis=1)\n",
    "## Separate into training data and testing data\n",
    "\n",
    "# filter out current year\n",
    "weather_with_sites = weather_with_sites[weather_with_sites['year'] != 2023]\n",
    "\n",
    "weather_training = weather_with_sites[weather_with_sites['year'] < high_cutoff_year]\n",
    "weather_test = weather_with_sites[weather_with_sites['year'] >= high_cutoff_year]\n",
    "\n"
   ]
  },
  {
   "cell_type": "code",
   "execution_count": 11,
   "id": "7b5f0790",
   "metadata": {},
   "outputs": [],
   "source": [
    "species_list = formatted_plants['formatted_sci_name'].unique()"
   ]
  },
  {
   "cell_type": "code",
   "execution_count": 12,
   "id": "67d4da76",
   "metadata": {},
   "outputs": [],
   "source": [
    "formatted_plants.drop('species', axis=1, inplace=True)"
   ]
  },
  {
   "cell_type": "code",
   "execution_count": 13,
   "id": "d1557be8",
   "metadata": {},
   "outputs": [],
   "source": [
    "weather_sites = weather_with_sites['site_id'].unique()\n",
    "\n",
    "filtered_plants = formatted_plants[(formatted_plants['site_id'].isin(weather_sites)) & \n",
    "                                   (formatted_plants['year'] != 2023) &\n",
    "                                   (formatted_plants['latitude'] > 0)]\n",
    "\n"
   ]
  },
  {
   "cell_type": "code",
   "execution_count": 14,
   "id": "e2394bd1",
   "metadata": {},
   "outputs": [],
   "source": [
    "def make_test_df(train_df):\n",
    "    #print(train_df)\n",
    "    species_sites = train_df['site_id'].unique()\n",
    "        \n",
    "    #print(species_sites)\n",
    "    \n",
    "    site_ripenesses = []\n",
    "\n",
    "    for site in species_sites:\n",
    "        site_df = train_df[train_df['site_id'] == site]\n",
    "\n",
    "        site_ripenesses.append({\n",
    "            'site_id': site,\n",
    "            'doy': np.mean(site_df['doy'])\n",
    "        })\n",
    "\n",
    "    species_test_df = pd.DataFrame(site_ripenesses)\n",
    "    species_test_df['year'] = high_cutoff_year\n",
    "    \n",
    "    return species_test_df"
   ]
  },
  {
   "cell_type": "code",
   "execution_count": 15,
   "id": "2332f9a6",
   "metadata": {},
   "outputs": [
    {
     "name": "stderr",
     "output_type": "stream",
     "text": [
      "\r",
      "  0%|                                                                                                                                                                              | 0/97 [00:00<?, ?it/s]"
     ]
    },
    {
     "name": "stdout",
     "output_type": "stream",
     "text": [
      "Rubus\n",
      "running model ThermalTime\n",
      "making predictions for model ThermalTime\n"
     ]
    },
    {
     "name": "stderr",
     "output_type": "stream",
     "text": [
      "\r",
      "  1%|█▋                                                                                                                                                                    | 1/97 [00:04<06:56,  4.34s/it]"
     ]
    },
    {
     "name": "stdout",
     "output_type": "stream",
     "text": [
      "model ThermalTime got a MAE of 28.6\n",
      "model ThermalTime got an RMSE of 49.24970389081881\n",
      "model ThermalTime's median error is: 3.0\n",
      "Ripeness Day: 187.13333333333333\n",
      "Rubus occidentalis\n",
      "running model ThermalTime\n",
      "making predictions for model ThermalTime\n"
     ]
    },
    {
     "name": "stderr",
     "output_type": "stream",
     "text": [
      "\r",
      "  2%|███▍                                                                                                                                                                  | 2/97 [00:07<05:31,  3.49s/it]"
     ]
    },
    {
     "name": "stdout",
     "output_type": "stream",
     "text": [
      "model ThermalTime got a MAE of 7.2\n",
      "model ThermalTime got an RMSE of 8.449852069711044\n",
      "model ThermalTime's median error is: 6.0\n",
      "Ripeness Day: 183.0\n",
      "Ficus\n",
      "running model ThermalTime\n"
     ]
    },
    {
     "name": "stderr",
     "output_type": "stream",
     "text": [
      "\r",
      "  3%|█████▏                                                                                                                                                                | 3/97 [00:10<05:06,  3.26s/it]"
     ]
    },
    {
     "name": "stdout",
     "output_type": "stream",
     "text": [
      "making predictions for model ThermalTime\n",
      "model ThermalTime got a MAE of 50.125\n",
      "model ThermalTime got an RMSE of 59.21465190305521\n",
      "model ThermalTime's median error is: 15.0\n",
      "Ripeness Day: 214.0\n",
      "Ficus auriculata\n",
      "running model ThermalTime\n"
     ]
    },
    {
     "name": "stderr",
     "output_type": "stream",
     "text": [
      "\r",
      "  4%|██████▊                                                                                                                                                               | 4/97 [00:12<04:45,  3.07s/it]"
     ]
    },
    {
     "name": "stdout",
     "output_type": "stream",
     "text": [
      "making predictions for model ThermalTime\n",
      "model ThermalTime got a MAE of 2.0\n",
      "model ThermalTime got an RMSE of 2.0\n",
      "model ThermalTime's median error is: -2.0\n",
      "Ripeness Day: 245.0\n",
      "Ficus carica\n",
      "running model ThermalTime\n"
     ]
    },
    {
     "name": "stderr",
     "output_type": "stream",
     "text": [
      "\r",
      "  5%|████████▌                                                                                                                                                             | 5/97 [00:15<04:31,  2.95s/it]"
     ]
    },
    {
     "name": "stdout",
     "output_type": "stream",
     "text": [
      "making predictions for model ThermalTime\n",
      "model ThermalTime got a MAE of 38.916666666666664\n",
      "model ThermalTime got an RMSE of 48.479377058704046\n",
      "model ThermalTime's median error is: 34.0\n",
      "Ripeness Day: 214.0\n",
      "Ficus citrifolia\n",
      "running model ThermalTime\n"
     ]
    },
    {
     "name": "stderr",
     "output_type": "stream",
     "text": [
      "\r",
      "  6%|██████████▎                                                                                                                                                           | 6/97 [00:18<04:21,  2.88s/it]"
     ]
    },
    {
     "name": "stdout",
     "output_type": "stream",
     "text": [
      "making predictions for model ThermalTime\n",
      "model ThermalTime got a MAE of 39.5\n",
      "model ThermalTime got an RMSE of 39.75550276376844\n",
      "model ThermalTime's median error is: -4.5\n",
      "Ripeness Day: 245.0\n",
      "Ficus macrophylla\n",
      "running model ThermalTime\n",
      "making predictions for model ThermalTime\n",
      "model ThermalTime got a MAE of 104.0\n",
      "model ThermalTime got an RMSE of 104.58011283222064\n",
      "model ThermalTime's median error is: 11.0\n",
      "Ripeness Day: 214.0\n"
     ]
    },
    {
     "name": "stderr",
     "output_type": "stream",
     "text": [
      "\r",
      "  7%|███████████▉                                                                                                                                                          | 7/97 [00:21<04:10,  2.78s/it]"
     ]
    },
    {
     "name": "stdout",
     "output_type": "stream",
     "text": [
      "Ficus sycomorus\n",
      "Olea europaea\n",
      "running model ThermalTime\n",
      "making predictions for model ThermalTime\n",
      "model ThermalTime got a MAE of 128.42\n",
      "model ThermalTime got an RMSE of 134.21229451879586\n",
      "model ThermalTime's median error is: 123.5\n",
      "Ripeness Day: 162.0\n"
     ]
    },
    {
     "name": "stderr",
     "output_type": "stream",
     "text": [
      "\r",
      "  9%|███████████████▍                                                                                                                                                      | 9/97 [00:23<02:59,  2.04s/it]"
     ]
    },
    {
     "name": "stdout",
     "output_type": "stream",
     "text": [
      "Olea europea\n",
      "running model ThermalTime\n"
     ]
    },
    {
     "name": "stderr",
     "output_type": "stream",
     "text": [
      "\r",
      " 10%|█████████████████                                                                                                                                                    | 10/97 [00:28<03:58,  2.75s/it]"
     ]
    },
    {
     "name": "stdout",
     "output_type": "stream",
     "text": [
      "making predictions for model ThermalTime\n",
      "model ThermalTime got a MAE of 25.333333333333336\n",
      "model ThermalTime got an RMSE of 32.59959996884402\n",
      "model ThermalTime's median error is: 17.0\n",
      "Ripeness Day: 283.1578947368421\n",
      "Olea\n",
      "running model ThermalTime\n",
      "making predictions for model ThermalTime\n"
     ]
    },
    {
     "name": "stderr",
     "output_type": "stream",
     "text": [
      "\r",
      " 11%|██████████████████▋                                                                                                                                                  | 11/97 [00:31<04:10,  2.91s/it]"
     ]
    },
    {
     "name": "stdout",
     "output_type": "stream",
     "text": [
      "model ThermalTime got a MAE of 119.0\n",
      "model ThermalTime got an RMSE of 133.7098849499667\n",
      "model ThermalTime's median error is: 121.0\n",
      "Ripeness Day: 154.42857142857142\n",
      "Morus rubra\n",
      "running model ThermalTime\n",
      "making predictions for model ThermalTime\n"
     ]
    },
    {
     "name": "stderr",
     "output_type": "stream",
     "text": [
      "\r",
      " 12%|████████████████████▍                                                                                                                                                | 12/97 [00:35<04:29,  3.18s/it]"
     ]
    },
    {
     "name": "stdout",
     "output_type": "stream",
     "text": [
      "model ThermalTime got a MAE of 25.692307692307693\n",
      "model ThermalTime got an RMSE of 45.346528999557314\n",
      "model ThermalTime's median error is: 7.0\n",
      "Ripeness Day: 166.84615384615384\n",
      "Morus\n",
      "running model ThermalTime\n"
     ]
    },
    {
     "name": "stderr",
     "output_type": "stream",
     "text": [
      "\r",
      " 13%|██████████████████████                                                                                                                                               | 13/97 [00:38<04:17,  3.06s/it]"
     ]
    },
    {
     "name": "stdout",
     "output_type": "stream",
     "text": [
      "making predictions for model ThermalTime\n",
      "model ThermalTime got a MAE of 27.526315789473685\n",
      "model ThermalTime got an RMSE of 42.65837364580679\n",
      "model ThermalTime's median error is: -4.5\n",
      "Ripeness Day: 175.10526315789474\n",
      "Morus macroura\n",
      "running model ThermalTime\n"
     ]
    },
    {
     "name": "stderr",
     "output_type": "stream",
     "text": [
      "\r",
      " 14%|███████████████████████▊                                                                                                                                             | 14/97 [00:42<04:38,  3.36s/it]"
     ]
    },
    {
     "name": "stdout",
     "output_type": "stream",
     "text": [
      "making predictions for model ThermalTime\n",
      "model ThermalTime got a MAE of 35.0\n",
      "model ThermalTime got an RMSE of 35.0\n",
      "model ThermalTime's median error is: -35.0\n",
      "Ripeness Day: 183.0\n",
      "Morus alba\n",
      "running model ThermalTime\n"
     ]
    },
    {
     "name": "stderr",
     "output_type": "stream",
     "text": [
      "\r",
      " 15%|█████████████████████████▌                                                                                                                                           | 15/97 [00:46<04:45,  3.48s/it]"
     ]
    },
    {
     "name": "stdout",
     "output_type": "stream",
     "text": [
      "making predictions for model ThermalTime\n",
      "model ThermalTime got a MAE of 27.161290322580644\n",
      "model ThermalTime got an RMSE of 47.51773862328644\n",
      "model ThermalTime's median error is: 1.0\n",
      "Ripeness Day: 172.3548387096774\n",
      "Morus nigra\n",
      "running model ThermalTime\n"
     ]
    },
    {
     "name": "stderr",
     "output_type": "stream",
     "text": [
      "\r",
      " 16%|███████████████████████████▏                                                                                                                                         | 16/97 [00:49<04:48,  3.56s/it]"
     ]
    },
    {
     "name": "stdout",
     "output_type": "stream",
     "text": [
      "making predictions for model ThermalTime\n",
      "model ThermalTime got a MAE of 31.125\n",
      "model ThermalTime got an RMSE of 46.99228660110082\n",
      "model ThermalTime's median error is: -12.5\n",
      "Ripeness Day: 186.1\n",
      "Morus australis\n",
      "running model ThermalTime\n"
     ]
    },
    {
     "name": "stderr",
     "output_type": "stream",
     "text": [
      "\r",
      " 18%|████████████████████████████▉                                                                                                                                        | 17/97 [00:52<04:26,  3.33s/it]"
     ]
    },
    {
     "name": "stdout",
     "output_type": "stream",
     "text": [
      "making predictions for model ThermalTime\n",
      "model ThermalTime got a MAE of 49.0\n",
      "model ThermalTime got an RMSE of 49.0\n",
      "model ThermalTime's median error is: -49.0\n",
      "Ripeness Day: 183.0\n",
      "Amelanchier alnifolia\n",
      "running model ThermalTime\n",
      "making predictions for model ThermalTime\n"
     ]
    },
    {
     "name": "stderr",
     "output_type": "stream",
     "text": [
      "\r",
      " 19%|██████████████████████████████▌                                                                                                                                      | 18/97 [00:55<04:12,  3.20s/it]"
     ]
    },
    {
     "name": "stdout",
     "output_type": "stream",
     "text": [
      "model ThermalTime got a MAE of 29.09090909090909\n",
      "model ThermalTime got an RMSE of 33.24290765096984\n",
      "model ThermalTime's median error is: -29.0\n",
      "Ripeness Day: 242.1818181818182\n",
      "Amelanchier arborea\n",
      "running model ThermalTime\n",
      "making predictions for model ThermalTime\n",
      "model ThermalTime got a MAE of 41.25\n",
      "model ThermalTime got an RMSE of 57.17079674099356\n",
      "model ThermalTime's median error is: 0.0\n",
      "Ripeness Day: 169.25\n"
     ]
    },
    {
     "name": "stderr",
     "output_type": "stream",
     "text": [
      "\r",
      " 20%|████████████████████████████████▎                                                                                                                                    | 19/97 [00:59<04:16,  3.29s/it]"
     ]
    },
    {
     "name": "stdout",
     "output_type": "stream",
     "text": [
      "Amelanchier canadensis\n",
      "running model ThermalTime\n"
     ]
    },
    {
     "name": "stderr",
     "output_type": "stream",
     "text": [
      "\r",
      " 21%|██████████████████████████████████                                                                                                                                   | 20/97 [01:03<04:46,  3.72s/it]"
     ]
    },
    {
     "name": "stdout",
     "output_type": "stream",
     "text": [
      "making predictions for model ThermalTime\n",
      "model ThermalTime got a MAE of 16.4\n",
      "model ThermalTime got an RMSE of 19.979989989987484\n",
      "model ThermalTime's median error is: -7.0\n",
      "Ripeness Day: 185.06666666666666\n",
      "Amelanchier grandiflora\n",
      "running model ThermalTime\n"
     ]
    },
    {
     "name": "stderr",
     "output_type": "stream",
     "text": [
      "\r",
      " 22%|███████████████████████████████████▋                                                                                                                                 | 21/97 [01:07<04:31,  3.58s/it]"
     ]
    },
    {
     "name": "stdout",
     "output_type": "stream",
     "text": [
      "making predictions for model ThermalTime\n",
      "model ThermalTime got a MAE of 13.222222222222221\n",
      "model ThermalTime got an RMSE of 15.0\n",
      "model ThermalTime's median error is: -12.0\n",
      "Ripeness Day: 183.0\n",
      "Amelanchier laevis\n",
      "running model ThermalTime\n"
     ]
    },
    {
     "name": "stderr",
     "output_type": "stream",
     "text": [
      "\r",
      " 23%|█████████████████████████████████████▍                                                                                                                               | 22/97 [01:10<04:17,  3.43s/it]"
     ]
    },
    {
     "name": "stdout",
     "output_type": "stream",
     "text": [
      "making predictions for model ThermalTime\n",
      "model ThermalTime got a MAE of 14.32\n",
      "model ThermalTime got an RMSE of 17.24876807195227\n",
      "model ThermalTime's median error is: -10.0\n",
      "Ripeness Day: 183.0\n",
      "Amelanchier utahensis\n",
      "running model ThermalTime\n"
     ]
    },
    {
     "name": "stderr",
     "output_type": "stream",
     "text": [
      "\r",
      " 24%|███████████████████████████████████████                                                                                                                              | 23/97 [01:13<04:02,  3.28s/it]"
     ]
    },
    {
     "name": "stdout",
     "output_type": "stream",
     "text": [
      "making predictions for model ThermalTime\n",
      "model ThermalTime got a MAE of 30.875\n",
      "model ThermalTime got an RMSE of 30.875253035400373\n",
      "model ThermalTime's median error is: 0.125\n",
      "Ripeness Day: 245.0\n",
      "Amelanchier\n",
      "running model ThermalTime\n",
      "making predictions for model ThermalTime\n"
     ]
    },
    {
     "name": "stderr",
     "output_type": "stream",
     "text": [
      "\r",
      " 25%|████████████████████████████████████████▊                                                                                                                            | 24/97 [01:16<04:03,  3.34s/it]"
     ]
    },
    {
     "name": "stdout",
     "output_type": "stream",
     "text": [
      "model ThermalTime got a MAE of 12.25\n",
      "model ThermalTime got an RMSE of 15.15490193407991\n",
      "model ThermalTime's median error is: -1.0\n",
      "Ripeness Day: 169.57894736842104\n",
      "Citrus\n",
      "running model ThermalTime\n"
     ]
    },
    {
     "name": "stderr",
     "output_type": "stream",
     "text": [
      "\r",
      " 26%|██████████████████████████████████████████▌                                                                                                                          | 25/97 [01:19<03:44,  3.12s/it]"
     ]
    },
    {
     "name": "stdout",
     "output_type": "stream",
     "text": [
      "making predictions for model ThermalTime\n",
      "model ThermalTime got a MAE of 95.5859375\n",
      "model ThermalTime got an RMSE of 113.82947086541341\n",
      "model ThermalTime's median error is: 27.5\n",
      "Ripeness Day: 173.390625\n",
      "Citrus jambhiri\n",
      "running model ThermalTime\n"
     ]
    },
    {
     "name": "stderr",
     "output_type": "stream",
     "text": [
      "\r",
      " 27%|████████████████████████████████████████████▏                                                                                                                        | 26/97 [01:22<03:34,  3.02s/it]"
     ]
    },
    {
     "name": "stdout",
     "output_type": "stream",
     "text": [
      "making predictions for model ThermalTime\n",
      "model ThermalTime got a MAE of 3.0\n",
      "model ThermalTime got an RMSE of 3.0\n",
      "model ThermalTime's median error is: -3.0\n",
      "Ripeness Day: 336.0\n",
      "Citrus limon\n",
      "running model ThermalTime\n",
      "making predictions for model ThermalTime\n"
     ]
    },
    {
     "name": "stderr",
     "output_type": "stream",
     "text": [
      "\r",
      " 28%|█████████████████████████████████████████████▉                                                                                                                       | 27/97 [01:25<03:42,  3.18s/it]"
     ]
    },
    {
     "name": "stdout",
     "output_type": "stream",
     "text": [
      "model ThermalTime got a MAE of 44.0\n",
      "model ThermalTime got an RMSE of 55.75541827182957\n",
      "model ThermalTime's median error is: 37.0\n",
      "Ripeness Day: 203.66666666666666\n",
      "Rubus idaeus\n",
      "running model ThermalTime\n"
     ]
    },
    {
     "name": "stderr",
     "output_type": "stream",
     "text": [
      "\r",
      " 29%|███████████████████████████████████████████████▋                                                                                                                     | 28/97 [01:29<03:48,  3.32s/it]"
     ]
    },
    {
     "name": "stdout",
     "output_type": "stream",
     "text": [
      "making predictions for model ThermalTime\n",
      "model ThermalTime got a MAE of 25.125\n",
      "model ThermalTime got an RMSE of 37.750827805493216\n",
      "model ThermalTime's median error is: -1.5\n",
      "Ripeness Day: 217.875\n",
      "Rubus ellipticus\n",
      "Rubus hayata\n",
      "running model ThermalTime\n",
      "making predictions for model ThermalTime\n"
     ]
    },
    {
     "name": "stderr",
     "output_type": "stream",
     "text": [
      "\r",
      " 31%|███████████████████████████████████████████████████                                                                                                                  | 30/97 [01:31<02:42,  2.42s/it]"
     ]
    },
    {
     "name": "stdout",
     "output_type": "stream",
     "text": [
      "model ThermalTime got a MAE of 11.166666666666666\n",
      "model ThermalTime got an RMSE of 12.322066926183016\n",
      "model ThermalTime's median error is: 2.5\n",
      "Ripeness Day: 214.0\n",
      "Rubus odoratus\n",
      "Rubus phoenicolasius\n",
      "running model ThermalTime\n"
     ]
    },
    {
     "name": "stderr",
     "output_type": "stream",
     "text": [
      "\r",
      " 33%|██████████████████████████████████████████████████████▍                                                                                                              | 32/97 [01:34<02:09,  2.00s/it]"
     ]
    },
    {
     "name": "stdout",
     "output_type": "stream",
     "text": [
      "making predictions for model ThermalTime\n",
      "model ThermalTime got a MAE of 9.6\n",
      "model ThermalTime got an RMSE of 10.881176406988354\n",
      "model ThermalTime's median error is: 5.0\n",
      "Ripeness Day: 183.0\n",
      "Rubus rolfei\n",
      "running model ThermalTime\n"
     ]
    },
    {
     "name": "stderr",
     "output_type": "stream",
     "text": [
      "\r",
      " 34%|████████████████████████████████████████████████████████▏                                                                                                            | 33/97 [01:37<02:18,  2.17s/it]"
     ]
    },
    {
     "name": "stdout",
     "output_type": "stream",
     "text": [
      "making predictions for model ThermalTime\n",
      "model ThermalTime got a MAE of 11.0\n",
      "model ThermalTime got an RMSE of 11.0\n",
      "model ThermalTime's median error is: -11.0\n",
      "Ripeness Day: 214.0\n",
      "Citrus aurantium\n",
      "running model ThermalTime\n"
     ]
    },
    {
     "name": "stderr",
     "output_type": "stream",
     "text": [
      "\r",
      " 35%|█████████████████████████████████████████████████████████▊                                                                                                           | 34/97 [01:40<02:24,  2.30s/it]"
     ]
    },
    {
     "name": "stdout",
     "output_type": "stream",
     "text": [
      "making predictions for model ThermalTime\n",
      "model ThermalTime got a MAE of 13.5\n",
      "model ThermalTime got an RMSE of 13.5\n",
      "model ThermalTime's median error is: -13.5\n",
      "Ripeness Day: 336.0\n",
      "Citrus sinensis\n",
      "running model ThermalTime\n"
     ]
    },
    {
     "name": "stderr",
     "output_type": "stream",
     "text": [
      "\r",
      " 36%|███████████████████████████████████████████████████████████▌                                                                                                         | 35/97 [01:44<03:00,  2.92s/it]"
     ]
    },
    {
     "name": "stdout",
     "output_type": "stream",
     "text": [
      "making predictions for model ThermalTime\n",
      "model ThermalTime got a MAE of 28.0\n",
      "model ThermalTime got an RMSE of 34.45770354120154\n",
      "model ThermalTime's median error is: 26.0\n",
      "Ripeness Day: 275.0\n",
      "Prunus americana\n",
      "running model ThermalTime\n",
      "making predictions for model ThermalTime\n"
     ]
    },
    {
     "name": "stderr",
     "output_type": "stream",
     "text": [
      "\r",
      " 37%|█████████████████████████████████████████████████████████████▏                                                                                                       | 36/97 [01:48<03:08,  3.09s/it]"
     ]
    },
    {
     "name": "stdout",
     "output_type": "stream",
     "text": [
      "model ThermalTime got a MAE of 40.77777777777778\n",
      "model ThermalTime got an RMSE of 48.546197928708416\n",
      "model ThermalTime's median error is: -20.0\n",
      "Ripeness Day: 218.13333333333333\n",
      "Prunus domestica\n",
      "running model ThermalTime\n"
     ]
    },
    {
     "name": "stderr",
     "output_type": "stream",
     "text": [
      "\r",
      " 38%|██████████████████████████████████████████████████████████████▉                                                                                                      | 37/97 [01:51<03:11,  3.19s/it]"
     ]
    },
    {
     "name": "stdout",
     "output_type": "stream",
     "text": [
      "making predictions for model ThermalTime\n",
      "model ThermalTime got a MAE of 22.05263157894737\n",
      "model ThermalTime got an RMSE of 28.36695631410455\n",
      "model ThermalTime's median error is: -15.0\n",
      "Ripeness Day: 243.3684210526316\n",
      "Prunus maritima\n",
      "running model ThermalTime\n"
     ]
    },
    {
     "name": "stderr",
     "output_type": "stream",
     "text": [
      "\r",
      " 39%|████████████████████████████████████████████████████████████████▋                                                                                                    | 38/97 [01:54<03:03,  3.10s/it]"
     ]
    },
    {
     "name": "stdout",
     "output_type": "stream",
     "text": [
      "making predictions for model ThermalTime\n",
      "model ThermalTime got a MAE of 19.625\n",
      "model ThermalTime got an RMSE of 24.902309129877896\n",
      "model ThermalTime's median error is: -14.5\n",
      "Ripeness Day: 245.0\n",
      "Prunus nigra\n",
      "running model ThermalTime\n",
      "making predictions for model ThermalTime\n"
     ]
    },
    {
     "name": "stderr",
     "output_type": "stream",
     "text": [
      "\r",
      " 40%|██████████████████████████████████████████████████████████████████▎                                                                                                  | 39/97 [01:59<03:19,  3.45s/it]"
     ]
    },
    {
     "name": "stdout",
     "output_type": "stream",
     "text": [
      "model ThermalTime got a MAE of 55.0\n",
      "model ThermalTime got an RMSE of 55.0\n",
      "model ThermalTime's median error is: -55.0\n",
      "Ripeness Day: 275.0\n",
      "Prunus cerasifera\n",
      "running model ThermalTime\n"
     ]
    },
    {
     "name": "stderr",
     "output_type": "stream",
     "text": [
      " 40%|██████████████████████████████████████████████████████████████████▎                                                                                                  | 39/97 [02:00<02:59,  3.09s/it]\n"
     ]
    },
    {
     "ename": "KeyboardInterrupt",
     "evalue": "",
     "output_type": "error",
     "traceback": [
      "\u001b[0;31m---------------------------------------------------------------------------\u001b[0m",
      "\u001b[0;31mKeyboardInterrupt\u001b[0m                         Traceback (most recent call last)",
      "Cell \u001b[0;32mIn[15], line 22\u001b[0m\n\u001b[1;32m     19\u001b[0m     \u001b[38;5;28mprint\u001b[39m(\u001b[38;5;124m\"\u001b[39m\u001b[38;5;124mNo test data for \u001b[39m\u001b[38;5;132;01m{}\u001b[39;00m\u001b[38;5;124m\"\u001b[39m\u001b[38;5;241m.\u001b[39mformat(s))\n\u001b[1;32m     20\u001b[0m     \u001b[38;5;66;03m#print(species_test_df)\u001b[39;00m\n\u001b[0;32m---> 22\u001b[0m predictions \u001b[38;5;241m=\u001b[39m train_ripeness_small(species_train_df, weather_training,\n\u001b[1;32m     23\u001b[0m                     species_test_df, weather_test)\n\u001b[1;32m     25\u001b[0m species_prediction_dict[s] \u001b[38;5;241m=\u001b[39m predictions\n",
      "File \u001b[0;32m~/Documents/DFG_2023/dfg-seasons/modelling/model_helpers.py:101\u001b[0m, in \u001b[0;36mtrain_ripeness_small\u001b[0;34m(observations, predictors, test_observations, test_predictors, model_name)\u001b[0m\n\u001b[1;32m     99\u001b[0m Model \u001b[38;5;241m=\u001b[39m utils\u001b[38;5;241m.\u001b[39mload_model(model_name)\n\u001b[1;32m    100\u001b[0m model \u001b[38;5;241m=\u001b[39m Model()\n\u001b[0;32m--> 101\u001b[0m model\u001b[38;5;241m.\u001b[39mfit(observations, predictors, optimizer_params\u001b[38;5;241m=\u001b[39m\u001b[38;5;124m'\u001b[39m\u001b[38;5;124mpractical\u001b[39m\u001b[38;5;124m'\u001b[39m)\n\u001b[1;32m    103\u001b[0m \u001b[38;5;28mprint\u001b[39m(\u001b[38;5;124m\"\u001b[39m\u001b[38;5;124mmaking predictions for model \u001b[39m\u001b[38;5;132;01m{m}\u001b[39;00m\u001b[38;5;124m\"\u001b[39m\u001b[38;5;241m.\u001b[39mformat(m\u001b[38;5;241m=\u001b[39mmodel_name))        \n\u001b[1;32m    104\u001b[0m preds \u001b[38;5;241m=\u001b[39m model\u001b[38;5;241m.\u001b[39mpredict(test_observations, test_predictors)\n",
      "File \u001b[0;32m~/opt/anaconda3/envs/seasonality/lib/python3.11/site-packages/pyPhenology/models/base.py:59\u001b[0m, in \u001b[0;36mBaseModel.fit\u001b[0;34m(self, observations, predictors, loss_function, method, optimizer_params, verbose, debug, **kwargs)\u001b[0m\n\u001b[1;32m     56\u001b[0m \u001b[38;5;28;01mif\u001b[39;00m \u001b[38;5;28mlen\u001b[39m(\u001b[38;5;28mself\u001b[39m\u001b[38;5;241m.\u001b[39m_parameters_to_estimate) \u001b[38;5;241m==\u001b[39m \u001b[38;5;241m0\u001b[39m:\n\u001b[1;32m     57\u001b[0m     \u001b[38;5;28;01mraise\u001b[39;00m \u001b[38;5;167;01mRuntimeError\u001b[39;00m(\u001b[38;5;124m'\u001b[39m\u001b[38;5;124mNo parameters to estimate\u001b[39m\u001b[38;5;124m'\u001b[39m)\n\u001b[0;32m---> 59\u001b[0m \u001b[38;5;28mself\u001b[39m\u001b[38;5;241m.\u001b[39m_organize_predictors(predictors\u001b[38;5;241m=\u001b[39mpredictors,\n\u001b[1;32m     60\u001b[0m                           observations\u001b[38;5;241m=\u001b[39mobservations,\n\u001b[1;32m     61\u001b[0m                           for_prediction\u001b[38;5;241m=\u001b[39m\u001b[38;5;28;01mFalse\u001b[39;00m)\n\u001b[1;32m     63\u001b[0m \u001b[38;5;28;01mif\u001b[39;00m debug:\n\u001b[1;32m     64\u001b[0m     verbose \u001b[38;5;241m=\u001b[39m \u001b[38;5;28;01mTrue\u001b[39;00m\n",
      "File \u001b[0;32m~/opt/anaconda3/envs/seasonality/lib/python3.11/site-packages/pyPhenology/models/base.py:189\u001b[0m, in \u001b[0;36mBaseModel._organize_predictors\u001b[0;34m(self, observations, predictors, for_prediction)\u001b[0m\n\u001b[1;32m    186\u001b[0m     \u001b[38;5;28;01mreturn\u001b[39;00m {\u001b[38;5;124m'\u001b[39m\u001b[38;5;124mtemperature\u001b[39m\u001b[38;5;124m'\u001b[39m: temperature_fitting,\n\u001b[1;32m    187\u001b[0m             \u001b[38;5;124m'\u001b[39m\u001b[38;5;124mdoy_series\u001b[39m\u001b[38;5;124m'\u001b[39m: doy_series}\n\u001b[1;32m    188\u001b[0m \u001b[38;5;28;01melse\u001b[39;00m:\n\u001b[0;32m--> 189\u001b[0m     cleaned_observations, temperature_fitting, doy_series \u001b[38;5;241m=\u001b[39m utils\u001b[38;5;241m.\u001b[39mmisc\u001b[38;5;241m.\u001b[39mtemperature_only_data_prep(observations,\n\u001b[1;32m    190\u001b[0m                                                                                                   predictors,\n\u001b[1;32m    191\u001b[0m                                                                                                   for_prediction\u001b[38;5;241m=\u001b[39mfor_prediction)\n\u001b[1;32m    192\u001b[0m     \u001b[38;5;28mself\u001b[39m\u001b[38;5;241m.\u001b[39mfitting_predictors \u001b[38;5;241m=\u001b[39m {\u001b[38;5;124m'\u001b[39m\u001b[38;5;124mtemperature\u001b[39m\u001b[38;5;124m'\u001b[39m: temperature_fitting,\n\u001b[1;32m    193\u001b[0m                                \u001b[38;5;124m'\u001b[39m\u001b[38;5;124mdoy_series\u001b[39m\u001b[38;5;124m'\u001b[39m: doy_series}\n\u001b[1;32m    194\u001b[0m     \u001b[38;5;28mself\u001b[39m\u001b[38;5;241m.\u001b[39mobs_fitting \u001b[38;5;241m=\u001b[39m cleaned_observations\n",
      "File \u001b[0;32m~/opt/anaconda3/envs/seasonality/lib/python3.11/site-packages/pyPhenology/models/utils/misc.py:49\u001b[0m, in \u001b[0;36mtemperature_only_data_prep\u001b[0;34m(observations, predictors, for_prediction, verbose)\u001b[0m\n\u001b[1;32m     47\u001b[0m doy_series \u001b[38;5;241m=\u001b[39m predictors\u001b[38;5;241m.\u001b[39mdoy\u001b[38;5;241m.\u001b[39mdropna()\u001b[38;5;241m.\u001b[39munique()\n\u001b[1;32m     48\u001b[0m doy_series\u001b[38;5;241m.\u001b[39msort()\n\u001b[0;32m---> 49\u001b[0m predictors \u001b[38;5;241m=\u001b[39m predictors\u001b[38;5;241m.\u001b[39mpivot_table(index\u001b[38;5;241m=\u001b[39m[\u001b[38;5;124m'\u001b[39m\u001b[38;5;124msite_id\u001b[39m\u001b[38;5;124m'\u001b[39m, \u001b[38;5;124m'\u001b[39m\u001b[38;5;124myear\u001b[39m\u001b[38;5;124m'\u001b[39m], columns\u001b[38;5;241m=\u001b[39m\u001b[38;5;124m'\u001b[39m\u001b[38;5;124mdoy\u001b[39m\u001b[38;5;124m'\u001b[39m, values\u001b[38;5;241m=\u001b[39m\u001b[38;5;124m'\u001b[39m\u001b[38;5;124mtemperature\u001b[39m\u001b[38;5;124m'\u001b[39m)\u001b[38;5;241m.\u001b[39mreset_index()\n\u001b[1;32m     51\u001b[0m \u001b[38;5;66;03m# This first and last day of temperature data can causes NA issues because\u001b[39;00m\n\u001b[1;32m     52\u001b[0m \u001b[38;5;66;03m# of leap years.If thats the case try dropping them\u001b[39;00m\n\u001b[1;32m     53\u001b[0m first_doy_has_na \u001b[38;5;241m=\u001b[39m predictors\u001b[38;5;241m.\u001b[39miloc[:, \u001b[38;5;241m2\u001b[39m]\u001b[38;5;241m.\u001b[39misna()\u001b[38;5;241m.\u001b[39many()  \u001b[38;5;66;03m# first day will always be col 2\u001b[39;00m\n",
      "File \u001b[0;32m~/opt/anaconda3/envs/seasonality/lib/python3.11/site-packages/pandas/core/frame.py:8579\u001b[0m, in \u001b[0;36mDataFrame.pivot_table\u001b[0;34m(self, values, index, columns, aggfunc, fill_value, margins, dropna, margins_name, observed, sort)\u001b[0m\n\u001b[1;32m   8562\u001b[0m \u001b[38;5;129m@Substitution\u001b[39m(\u001b[38;5;124m\"\u001b[39m\u001b[38;5;124m\"\u001b[39m)\n\u001b[1;32m   8563\u001b[0m \u001b[38;5;129m@Appender\u001b[39m(_shared_docs[\u001b[38;5;124m\"\u001b[39m\u001b[38;5;124mpivot_table\u001b[39m\u001b[38;5;124m\"\u001b[39m])\n\u001b[1;32m   8564\u001b[0m \u001b[38;5;28;01mdef\u001b[39;00m \u001b[38;5;21mpivot_table\u001b[39m(\n\u001b[0;32m   (...)\u001b[0m\n\u001b[1;32m   8575\u001b[0m     sort: \u001b[38;5;28mbool\u001b[39m \u001b[38;5;241m=\u001b[39m \u001b[38;5;28;01mTrue\u001b[39;00m,\n\u001b[1;32m   8576\u001b[0m ) \u001b[38;5;241m-\u001b[39m\u001b[38;5;241m>\u001b[39m DataFrame:\n\u001b[1;32m   8577\u001b[0m     \u001b[38;5;28;01mfrom\u001b[39;00m \u001b[38;5;21;01mpandas\u001b[39;00m\u001b[38;5;21;01m.\u001b[39;00m\u001b[38;5;21;01mcore\u001b[39;00m\u001b[38;5;21;01m.\u001b[39;00m\u001b[38;5;21;01mreshape\u001b[39;00m\u001b[38;5;21;01m.\u001b[39;00m\u001b[38;5;21;01mpivot\u001b[39;00m \u001b[38;5;28;01mimport\u001b[39;00m pivot_table\n\u001b[0;32m-> 8579\u001b[0m     \u001b[38;5;28;01mreturn\u001b[39;00m pivot_table(\n\u001b[1;32m   8580\u001b[0m         \u001b[38;5;28mself\u001b[39m,\n\u001b[1;32m   8581\u001b[0m         values\u001b[38;5;241m=\u001b[39mvalues,\n\u001b[1;32m   8582\u001b[0m         index\u001b[38;5;241m=\u001b[39mindex,\n\u001b[1;32m   8583\u001b[0m         columns\u001b[38;5;241m=\u001b[39mcolumns,\n\u001b[1;32m   8584\u001b[0m         aggfunc\u001b[38;5;241m=\u001b[39maggfunc,\n\u001b[1;32m   8585\u001b[0m         fill_value\u001b[38;5;241m=\u001b[39mfill_value,\n\u001b[1;32m   8586\u001b[0m         margins\u001b[38;5;241m=\u001b[39mmargins,\n\u001b[1;32m   8587\u001b[0m         dropna\u001b[38;5;241m=\u001b[39mdropna,\n\u001b[1;32m   8588\u001b[0m         margins_name\u001b[38;5;241m=\u001b[39mmargins_name,\n\u001b[1;32m   8589\u001b[0m         observed\u001b[38;5;241m=\u001b[39mobserved,\n\u001b[1;32m   8590\u001b[0m         sort\u001b[38;5;241m=\u001b[39msort,\n\u001b[1;32m   8591\u001b[0m     )\n",
      "File \u001b[0;32m~/opt/anaconda3/envs/seasonality/lib/python3.11/site-packages/pandas/core/reshape/pivot.py:97\u001b[0m, in \u001b[0;36mpivot_table\u001b[0;34m(data, values, index, columns, aggfunc, fill_value, margins, dropna, margins_name, observed, sort)\u001b[0m\n\u001b[1;32m     94\u001b[0m     table \u001b[38;5;241m=\u001b[39m concat(pieces, keys\u001b[38;5;241m=\u001b[39mkeys, axis\u001b[38;5;241m=\u001b[39m\u001b[38;5;241m1\u001b[39m)\n\u001b[1;32m     95\u001b[0m     \u001b[38;5;28;01mreturn\u001b[39;00m table\u001b[38;5;241m.\u001b[39m__finalize__(data, method\u001b[38;5;241m=\u001b[39m\u001b[38;5;124m\"\u001b[39m\u001b[38;5;124mpivot_table\u001b[39m\u001b[38;5;124m\"\u001b[39m)\n\u001b[0;32m---> 97\u001b[0m table \u001b[38;5;241m=\u001b[39m __internal_pivot_table(\n\u001b[1;32m     98\u001b[0m     data,\n\u001b[1;32m     99\u001b[0m     values,\n\u001b[1;32m    100\u001b[0m     index,\n\u001b[1;32m    101\u001b[0m     columns,\n\u001b[1;32m    102\u001b[0m     aggfunc,\n\u001b[1;32m    103\u001b[0m     fill_value,\n\u001b[1;32m    104\u001b[0m     margins,\n\u001b[1;32m    105\u001b[0m     dropna,\n\u001b[1;32m    106\u001b[0m     margins_name,\n\u001b[1;32m    107\u001b[0m     observed,\n\u001b[1;32m    108\u001b[0m     sort,\n\u001b[1;32m    109\u001b[0m )\n\u001b[1;32m    110\u001b[0m \u001b[38;5;28;01mreturn\u001b[39;00m table\u001b[38;5;241m.\u001b[39m__finalize__(data, method\u001b[38;5;241m=\u001b[39m\u001b[38;5;124m\"\u001b[39m\u001b[38;5;124mpivot_table\u001b[39m\u001b[38;5;124m\"\u001b[39m)\n",
      "File \u001b[0;32m~/opt/anaconda3/envs/seasonality/lib/python3.11/site-packages/pandas/core/reshape/pivot.py:167\u001b[0m, in \u001b[0;36m__internal_pivot_table\u001b[0;34m(data, values, index, columns, aggfunc, fill_value, margins, dropna, margins_name, observed, sort)\u001b[0m\n\u001b[1;32m    164\u001b[0m     values \u001b[38;5;241m=\u001b[39m \u001b[38;5;28mlist\u001b[39m(values)\n\u001b[1;32m    166\u001b[0m grouped \u001b[38;5;241m=\u001b[39m data\u001b[38;5;241m.\u001b[39mgroupby(keys, observed\u001b[38;5;241m=\u001b[39mobserved, sort\u001b[38;5;241m=\u001b[39msort)\n\u001b[0;32m--> 167\u001b[0m agged \u001b[38;5;241m=\u001b[39m grouped\u001b[38;5;241m.\u001b[39magg(aggfunc)\n\u001b[1;32m    169\u001b[0m \u001b[38;5;28;01mif\u001b[39;00m dropna \u001b[38;5;129;01mand\u001b[39;00m \u001b[38;5;28misinstance\u001b[39m(agged, ABCDataFrame) \u001b[38;5;129;01mand\u001b[39;00m \u001b[38;5;28mlen\u001b[39m(agged\u001b[38;5;241m.\u001b[39mcolumns):\n\u001b[1;32m    170\u001b[0m     agged \u001b[38;5;241m=\u001b[39m agged\u001b[38;5;241m.\u001b[39mdropna(how\u001b[38;5;241m=\u001b[39m\u001b[38;5;124m\"\u001b[39m\u001b[38;5;124mall\u001b[39m\u001b[38;5;124m\"\u001b[39m)\n",
      "File \u001b[0;32m~/opt/anaconda3/envs/seasonality/lib/python3.11/site-packages/pandas/core/groupby/generic.py:1269\u001b[0m, in \u001b[0;36mDataFrameGroupBy.aggregate\u001b[0;34m(self, func, engine, engine_kwargs, *args, **kwargs)\u001b[0m\n\u001b[1;32m   1266\u001b[0m func \u001b[38;5;241m=\u001b[39m maybe_mangle_lambdas(func)\n\u001b[1;32m   1268\u001b[0m op \u001b[38;5;241m=\u001b[39m GroupByApply(\u001b[38;5;28mself\u001b[39m, func, args, kwargs)\n\u001b[0;32m-> 1269\u001b[0m result \u001b[38;5;241m=\u001b[39m op\u001b[38;5;241m.\u001b[39magg()\n\u001b[1;32m   1270\u001b[0m \u001b[38;5;28;01mif\u001b[39;00m \u001b[38;5;129;01mnot\u001b[39;00m is_dict_like(func) \u001b[38;5;129;01mand\u001b[39;00m result \u001b[38;5;129;01mis\u001b[39;00m \u001b[38;5;129;01mnot\u001b[39;00m \u001b[38;5;28;01mNone\u001b[39;00m:\n\u001b[1;32m   1271\u001b[0m     \u001b[38;5;28;01mreturn\u001b[39;00m result\n",
      "File \u001b[0;32m~/opt/anaconda3/envs/seasonality/lib/python3.11/site-packages/pandas/core/apply.py:160\u001b[0m, in \u001b[0;36mApply.agg\u001b[0;34m(self)\u001b[0m\n\u001b[1;32m    157\u001b[0m kwargs \u001b[38;5;241m=\u001b[39m \u001b[38;5;28mself\u001b[39m\u001b[38;5;241m.\u001b[39mkwargs\n\u001b[1;32m    159\u001b[0m \u001b[38;5;28;01mif\u001b[39;00m \u001b[38;5;28misinstance\u001b[39m(arg, \u001b[38;5;28mstr\u001b[39m):\n\u001b[0;32m--> 160\u001b[0m     \u001b[38;5;28;01mreturn\u001b[39;00m \u001b[38;5;28mself\u001b[39m\u001b[38;5;241m.\u001b[39mapply_str()\n\u001b[1;32m    162\u001b[0m \u001b[38;5;28;01mif\u001b[39;00m is_dict_like(arg):\n\u001b[1;32m    163\u001b[0m     \u001b[38;5;28;01mreturn\u001b[39;00m \u001b[38;5;28mself\u001b[39m\u001b[38;5;241m.\u001b[39magg_dict_like()\n",
      "File \u001b[0;32m~/opt/anaconda3/envs/seasonality/lib/python3.11/site-packages/pandas/core/apply.py:496\u001b[0m, in \u001b[0;36mApply.apply_str\u001b[0;34m(self)\u001b[0m\n\u001b[1;32m    494\u001b[0m     \u001b[38;5;28;01mif\u001b[39;00m \u001b[38;5;124m\"\u001b[39m\u001b[38;5;124maxis\u001b[39m\u001b[38;5;124m\"\u001b[39m \u001b[38;5;129;01min\u001b[39;00m arg_names:\n\u001b[1;32m    495\u001b[0m         \u001b[38;5;28mself\u001b[39m\u001b[38;5;241m.\u001b[39mkwargs[\u001b[38;5;124m\"\u001b[39m\u001b[38;5;124maxis\u001b[39m\u001b[38;5;124m\"\u001b[39m] \u001b[38;5;241m=\u001b[39m \u001b[38;5;28mself\u001b[39m\u001b[38;5;241m.\u001b[39maxis\n\u001b[0;32m--> 496\u001b[0m \u001b[38;5;28;01mreturn\u001b[39;00m \u001b[38;5;28mself\u001b[39m\u001b[38;5;241m.\u001b[39m_try_aggregate_string_function(obj, f, \u001b[38;5;241m*\u001b[39m\u001b[38;5;28mself\u001b[39m\u001b[38;5;241m.\u001b[39margs, \u001b[38;5;241m*\u001b[39m\u001b[38;5;241m*\u001b[39m\u001b[38;5;28mself\u001b[39m\u001b[38;5;241m.\u001b[39mkwargs)\n",
      "File \u001b[0;32m~/opt/anaconda3/envs/seasonality/lib/python3.11/site-packages/pandas/core/apply.py:565\u001b[0m, in \u001b[0;36mApply._try_aggregate_string_function\u001b[0;34m(self, obj, arg, *args, **kwargs)\u001b[0m\n\u001b[1;32m    563\u001b[0m \u001b[38;5;28;01mif\u001b[39;00m f \u001b[38;5;129;01mis\u001b[39;00m \u001b[38;5;129;01mnot\u001b[39;00m \u001b[38;5;28;01mNone\u001b[39;00m:\n\u001b[1;32m    564\u001b[0m     \u001b[38;5;28;01mif\u001b[39;00m callable(f):\n\u001b[0;32m--> 565\u001b[0m         \u001b[38;5;28;01mreturn\u001b[39;00m f(\u001b[38;5;241m*\u001b[39margs, \u001b[38;5;241m*\u001b[39m\u001b[38;5;241m*\u001b[39mkwargs)\n\u001b[1;32m    567\u001b[0m     \u001b[38;5;66;03m# people may try to aggregate on a non-callable attribute\u001b[39;00m\n\u001b[1;32m    568\u001b[0m     \u001b[38;5;66;03m# but don't let them think they can pass args to it\u001b[39;00m\n\u001b[1;32m    569\u001b[0m     \u001b[38;5;28;01massert\u001b[39;00m \u001b[38;5;28mlen\u001b[39m(args) \u001b[38;5;241m==\u001b[39m \u001b[38;5;241m0\u001b[39m\n",
      "File \u001b[0;32m~/opt/anaconda3/envs/seasonality/lib/python3.11/site-packages/pandas/core/groupby/groupby.py:1855\u001b[0m, in \u001b[0;36mGroupBy.mean\u001b[0;34m(self, numeric_only, engine, engine_kwargs)\u001b[0m\n\u001b[1;32m   1853\u001b[0m     \u001b[38;5;28;01mreturn\u001b[39;00m \u001b[38;5;28mself\u001b[39m\u001b[38;5;241m.\u001b[39m_numba_agg_general(sliding_mean, engine_kwargs)\n\u001b[1;32m   1854\u001b[0m \u001b[38;5;28;01melse\u001b[39;00m:\n\u001b[0;32m-> 1855\u001b[0m     result \u001b[38;5;241m=\u001b[39m \u001b[38;5;28mself\u001b[39m\u001b[38;5;241m.\u001b[39m_cython_agg_general(\n\u001b[1;32m   1856\u001b[0m         \u001b[38;5;124m\"\u001b[39m\u001b[38;5;124mmean\u001b[39m\u001b[38;5;124m\"\u001b[39m,\n\u001b[1;32m   1857\u001b[0m         alt\u001b[38;5;241m=\u001b[39m\u001b[38;5;28;01mlambda\u001b[39;00m x: Series(x)\u001b[38;5;241m.\u001b[39mmean(numeric_only\u001b[38;5;241m=\u001b[39mnumeric_only),\n\u001b[1;32m   1858\u001b[0m         numeric_only\u001b[38;5;241m=\u001b[39mnumeric_only,\n\u001b[1;32m   1859\u001b[0m     )\n\u001b[1;32m   1860\u001b[0m     \u001b[38;5;28;01mreturn\u001b[39;00m result\u001b[38;5;241m.\u001b[39m__finalize__(\u001b[38;5;28mself\u001b[39m\u001b[38;5;241m.\u001b[39mobj, method\u001b[38;5;241m=\u001b[39m\u001b[38;5;124m\"\u001b[39m\u001b[38;5;124mgroupby\u001b[39m\u001b[38;5;124m\"\u001b[39m)\n",
      "File \u001b[0;32m~/opt/anaconda3/envs/seasonality/lib/python3.11/site-packages/pandas/core/groupby/groupby.py:1507\u001b[0m, in \u001b[0;36mGroupBy._cython_agg_general\u001b[0;34m(self, how, alt, numeric_only, min_count, **kwargs)\u001b[0m\n\u001b[1;32m   1503\u001b[0m         result \u001b[38;5;241m=\u001b[39m \u001b[38;5;28mself\u001b[39m\u001b[38;5;241m.\u001b[39m_agg_py_fallback(values, ndim\u001b[38;5;241m=\u001b[39mdata\u001b[38;5;241m.\u001b[39mndim, alt\u001b[38;5;241m=\u001b[39malt)\n\u001b[1;32m   1505\u001b[0m     \u001b[38;5;28;01mreturn\u001b[39;00m result\n\u001b[0;32m-> 1507\u001b[0m new_mgr \u001b[38;5;241m=\u001b[39m data\u001b[38;5;241m.\u001b[39mgrouped_reduce(array_func)\n\u001b[1;32m   1508\u001b[0m res \u001b[38;5;241m=\u001b[39m \u001b[38;5;28mself\u001b[39m\u001b[38;5;241m.\u001b[39m_wrap_agged_manager(new_mgr)\n\u001b[1;32m   1509\u001b[0m out \u001b[38;5;241m=\u001b[39m \u001b[38;5;28mself\u001b[39m\u001b[38;5;241m.\u001b[39m_wrap_aggregated_output(res)\n",
      "File \u001b[0;32m~/opt/anaconda3/envs/seasonality/lib/python3.11/site-packages/pandas/core/internals/managers.py:1506\u001b[0m, in \u001b[0;36mBlockManager.grouped_reduce\u001b[0;34m(self, func)\u001b[0m\n\u001b[1;32m   1504\u001b[0m             result_blocks \u001b[38;5;241m=\u001b[39m extend_blocks(applied, result_blocks)\n\u001b[1;32m   1505\u001b[0m     \u001b[38;5;28;01melse\u001b[39;00m:\n\u001b[0;32m-> 1506\u001b[0m         applied \u001b[38;5;241m=\u001b[39m blk\u001b[38;5;241m.\u001b[39mapply(func)\n\u001b[1;32m   1507\u001b[0m         result_blocks \u001b[38;5;241m=\u001b[39m extend_blocks(applied, result_blocks)\n\u001b[1;32m   1509\u001b[0m \u001b[38;5;28;01mif\u001b[39;00m \u001b[38;5;28mlen\u001b[39m(result_blocks) \u001b[38;5;241m==\u001b[39m \u001b[38;5;241m0\u001b[39m:\n",
      "File \u001b[0;32m~/opt/anaconda3/envs/seasonality/lib/python3.11/site-packages/pandas/core/internals/blocks.py:329\u001b[0m, in \u001b[0;36mBlock.apply\u001b[0;34m(self, func, **kwargs)\u001b[0m\n\u001b[1;32m    323\u001b[0m \u001b[38;5;129m@final\u001b[39m\n\u001b[1;32m    324\u001b[0m \u001b[38;5;28;01mdef\u001b[39;00m \u001b[38;5;21mapply\u001b[39m(\u001b[38;5;28mself\u001b[39m, func, \u001b[38;5;241m*\u001b[39m\u001b[38;5;241m*\u001b[39mkwargs) \u001b[38;5;241m-\u001b[39m\u001b[38;5;241m>\u001b[39m \u001b[38;5;28mlist\u001b[39m[Block]:\n\u001b[1;32m    325\u001b[0m     \u001b[38;5;124;03m\"\"\"\u001b[39;00m\n\u001b[1;32m    326\u001b[0m \u001b[38;5;124;03m    apply the function to my values; return a block if we are not\u001b[39;00m\n\u001b[1;32m    327\u001b[0m \u001b[38;5;124;03m    one\u001b[39;00m\n\u001b[1;32m    328\u001b[0m \u001b[38;5;124;03m    \"\"\"\u001b[39;00m\n\u001b[0;32m--> 329\u001b[0m     result \u001b[38;5;241m=\u001b[39m func(\u001b[38;5;28mself\u001b[39m\u001b[38;5;241m.\u001b[39mvalues, \u001b[38;5;241m*\u001b[39m\u001b[38;5;241m*\u001b[39mkwargs)\n\u001b[1;32m    331\u001b[0m     \u001b[38;5;28;01mreturn\u001b[39;00m \u001b[38;5;28mself\u001b[39m\u001b[38;5;241m.\u001b[39m_split_op_result(result)\n",
      "File \u001b[0;32m~/opt/anaconda3/envs/seasonality/lib/python3.11/site-packages/pandas/core/groupby/groupby.py:1490\u001b[0m, in \u001b[0;36mGroupBy._cython_agg_general.<locals>.array_func\u001b[0;34m(values)\u001b[0m\n\u001b[1;32m   1488\u001b[0m \u001b[38;5;28;01mdef\u001b[39;00m \u001b[38;5;21marray_func\u001b[39m(values: ArrayLike) \u001b[38;5;241m-\u001b[39m\u001b[38;5;241m>\u001b[39m ArrayLike:\n\u001b[1;32m   1489\u001b[0m     \u001b[38;5;28;01mtry\u001b[39;00m:\n\u001b[0;32m-> 1490\u001b[0m         result \u001b[38;5;241m=\u001b[39m \u001b[38;5;28mself\u001b[39m\u001b[38;5;241m.\u001b[39mgrouper\u001b[38;5;241m.\u001b[39m_cython_operation(\n\u001b[1;32m   1491\u001b[0m             \u001b[38;5;124m\"\u001b[39m\u001b[38;5;124maggregate\u001b[39m\u001b[38;5;124m\"\u001b[39m,\n\u001b[1;32m   1492\u001b[0m             values,\n\u001b[1;32m   1493\u001b[0m             how,\n\u001b[1;32m   1494\u001b[0m             axis\u001b[38;5;241m=\u001b[39mdata\u001b[38;5;241m.\u001b[39mndim \u001b[38;5;241m-\u001b[39m \u001b[38;5;241m1\u001b[39m,\n\u001b[1;32m   1495\u001b[0m             min_count\u001b[38;5;241m=\u001b[39mmin_count,\n\u001b[1;32m   1496\u001b[0m             \u001b[38;5;241m*\u001b[39m\u001b[38;5;241m*\u001b[39mkwargs,\n\u001b[1;32m   1497\u001b[0m         )\n\u001b[1;32m   1498\u001b[0m     \u001b[38;5;28;01mexcept\u001b[39;00m \u001b[38;5;167;01mNotImplementedError\u001b[39;00m:\n\u001b[1;32m   1499\u001b[0m         \u001b[38;5;66;03m# generally if we have numeric_only=False\u001b[39;00m\n\u001b[1;32m   1500\u001b[0m         \u001b[38;5;66;03m# and non-applicable functions\u001b[39;00m\n\u001b[1;32m   1501\u001b[0m         \u001b[38;5;66;03m# try to python agg\u001b[39;00m\n\u001b[1;32m   1502\u001b[0m         \u001b[38;5;66;03m# TODO: shouldn't min_count matter?\u001b[39;00m\n\u001b[1;32m   1503\u001b[0m         result \u001b[38;5;241m=\u001b[39m \u001b[38;5;28mself\u001b[39m\u001b[38;5;241m.\u001b[39m_agg_py_fallback(values, ndim\u001b[38;5;241m=\u001b[39mdata\u001b[38;5;241m.\u001b[39mndim, alt\u001b[38;5;241m=\u001b[39malt)\n",
      "File \u001b[0;32m~/opt/anaconda3/envs/seasonality/lib/python3.11/site-packages/pandas/core/groupby/ops.py:955\u001b[0m, in \u001b[0;36mBaseGrouper._cython_operation\u001b[0;34m(self, kind, values, how, axis, min_count, **kwargs)\u001b[0m\n\u001b[1;32m    950\u001b[0m \u001b[38;5;124;03m\"\"\"\u001b[39;00m\n\u001b[1;32m    951\u001b[0m \u001b[38;5;124;03mReturns the values of a cython operation.\u001b[39;00m\n\u001b[1;32m    952\u001b[0m \u001b[38;5;124;03m\"\"\"\u001b[39;00m\n\u001b[1;32m    953\u001b[0m \u001b[38;5;28;01massert\u001b[39;00m kind \u001b[38;5;129;01min\u001b[39;00m [\u001b[38;5;124m\"\u001b[39m\u001b[38;5;124mtransform\u001b[39m\u001b[38;5;124m\"\u001b[39m, \u001b[38;5;124m\"\u001b[39m\u001b[38;5;124maggregate\u001b[39m\u001b[38;5;124m\"\u001b[39m]\n\u001b[0;32m--> 955\u001b[0m cy_op \u001b[38;5;241m=\u001b[39m WrappedCythonOp(kind\u001b[38;5;241m=\u001b[39mkind, how\u001b[38;5;241m=\u001b[39mhow, has_dropped_na\u001b[38;5;241m=\u001b[39m\u001b[38;5;28mself\u001b[39m\u001b[38;5;241m.\u001b[39mhas_dropped_na)\n\u001b[1;32m    957\u001b[0m ids, _, _ \u001b[38;5;241m=\u001b[39m \u001b[38;5;28mself\u001b[39m\u001b[38;5;241m.\u001b[39mgroup_info\n\u001b[1;32m    958\u001b[0m ngroups \u001b[38;5;241m=\u001b[39m \u001b[38;5;28mself\u001b[39m\u001b[38;5;241m.\u001b[39mngroups\n",
      "File \u001b[0;32m~/opt/anaconda3/envs/seasonality/lib/python3.11/site-packages/pandas/_libs/properties.pyx:36\u001b[0m, in \u001b[0;36mpandas._libs.properties.CachedProperty.__get__\u001b[0;34m()\u001b[0m\n",
      "File \u001b[0;32m~/opt/anaconda3/envs/seasonality/lib/python3.11/site-packages/pandas/core/groupby/ops.py:869\u001b[0m, in \u001b[0;36mBaseGrouper.has_dropped_na\u001b[0;34m(self)\u001b[0m\n\u001b[1;32m    863\u001b[0m \u001b[38;5;129m@final\u001b[39m\n\u001b[1;32m    864\u001b[0m \u001b[38;5;129m@cache_readonly\u001b[39m\n\u001b[1;32m    865\u001b[0m \u001b[38;5;28;01mdef\u001b[39;00m \u001b[38;5;21mhas_dropped_na\u001b[39m(\u001b[38;5;28mself\u001b[39m) \u001b[38;5;241m-\u001b[39m\u001b[38;5;241m>\u001b[39m \u001b[38;5;28mbool\u001b[39m:\n\u001b[1;32m    866\u001b[0m     \u001b[38;5;124;03m\"\"\"\u001b[39;00m\n\u001b[1;32m    867\u001b[0m \u001b[38;5;124;03m    Whether grouper has null value(s) that are dropped.\u001b[39;00m\n\u001b[1;32m    868\u001b[0m \u001b[38;5;124;03m    \"\"\"\u001b[39;00m\n\u001b[0;32m--> 869\u001b[0m     \u001b[38;5;28;01mreturn\u001b[39;00m \u001b[38;5;28mbool\u001b[39m((\u001b[38;5;28mself\u001b[39m\u001b[38;5;241m.\u001b[39mgroup_info[\u001b[38;5;241m0\u001b[39m] \u001b[38;5;241m<\u001b[39m \u001b[38;5;241m0\u001b[39m)\u001b[38;5;241m.\u001b[39many())\n",
      "File \u001b[0;32m~/opt/anaconda3/envs/seasonality/lib/python3.11/site-packages/pandas/_libs/properties.pyx:36\u001b[0m, in \u001b[0;36mpandas._libs.properties.CachedProperty.__get__\u001b[0;34m()\u001b[0m\n",
      "File \u001b[0;32m~/opt/anaconda3/envs/seasonality/lib/python3.11/site-packages/pandas/core/groupby/ops.py:873\u001b[0m, in \u001b[0;36mBaseGrouper.group_info\u001b[0;34m(self)\u001b[0m\n\u001b[1;32m    871\u001b[0m \u001b[38;5;129m@cache_readonly\u001b[39m\n\u001b[1;32m    872\u001b[0m \u001b[38;5;28;01mdef\u001b[39;00m \u001b[38;5;21mgroup_info\u001b[39m(\u001b[38;5;28mself\u001b[39m) \u001b[38;5;241m-\u001b[39m\u001b[38;5;241m>\u001b[39m \u001b[38;5;28mtuple\u001b[39m[npt\u001b[38;5;241m.\u001b[39mNDArray[np\u001b[38;5;241m.\u001b[39mintp], npt\u001b[38;5;241m.\u001b[39mNDArray[np\u001b[38;5;241m.\u001b[39mintp], \u001b[38;5;28mint\u001b[39m]:\n\u001b[0;32m--> 873\u001b[0m     comp_ids, obs_group_ids \u001b[38;5;241m=\u001b[39m \u001b[38;5;28mself\u001b[39m\u001b[38;5;241m.\u001b[39m_get_compressed_codes()\n\u001b[1;32m    875\u001b[0m     ngroups \u001b[38;5;241m=\u001b[39m \u001b[38;5;28mlen\u001b[39m(obs_group_ids)\n\u001b[1;32m    876\u001b[0m     comp_ids \u001b[38;5;241m=\u001b[39m ensure_platform_int(comp_ids)\n",
      "File \u001b[0;32m~/opt/anaconda3/envs/seasonality/lib/python3.11/site-packages/pandas/core/groupby/ops.py:893\u001b[0m, in \u001b[0;36mBaseGrouper._get_compressed_codes\u001b[0;34m(self)\u001b[0m\n\u001b[1;32m    891\u001b[0m \u001b[38;5;28;01mif\u001b[39;00m \u001b[38;5;28mlen\u001b[39m(\u001b[38;5;28mself\u001b[39m\u001b[38;5;241m.\u001b[39mgroupings) \u001b[38;5;241m>\u001b[39m \u001b[38;5;241m1\u001b[39m:\n\u001b[1;32m    892\u001b[0m     group_index \u001b[38;5;241m=\u001b[39m get_group_index(\u001b[38;5;28mself\u001b[39m\u001b[38;5;241m.\u001b[39mcodes, \u001b[38;5;28mself\u001b[39m\u001b[38;5;241m.\u001b[39mshape, sort\u001b[38;5;241m=\u001b[39m\u001b[38;5;28;01mTrue\u001b[39;00m, xnull\u001b[38;5;241m=\u001b[39m\u001b[38;5;28;01mTrue\u001b[39;00m)\n\u001b[0;32m--> 893\u001b[0m     \u001b[38;5;28;01mreturn\u001b[39;00m compress_group_index(group_index, sort\u001b[38;5;241m=\u001b[39m\u001b[38;5;28mself\u001b[39m\u001b[38;5;241m.\u001b[39m_sort)\n\u001b[1;32m    894\u001b[0m     \u001b[38;5;66;03m# FIXME: compress_group_index's second return value is int64, not intp\u001b[39;00m\n\u001b[1;32m    896\u001b[0m ping \u001b[38;5;241m=\u001b[39m \u001b[38;5;28mself\u001b[39m\u001b[38;5;241m.\u001b[39mgroupings[\u001b[38;5;241m0\u001b[39m]\n",
      "File \u001b[0;32m~/opt/anaconda3/envs/seasonality/lib/python3.11/site-packages/pandas/core/sorting.py:687\u001b[0m, in \u001b[0;36mcompress_group_index\u001b[0;34m(group_index, sort)\u001b[0m\n\u001b[1;32m    684\u001b[0m group_index \u001b[38;5;241m=\u001b[39m ensure_int64(group_index)\n\u001b[1;32m    686\u001b[0m \u001b[38;5;66;03m# note, group labels come out ascending (ie, 1,2,3 etc)\u001b[39;00m\n\u001b[0;32m--> 687\u001b[0m comp_ids, obs_group_ids \u001b[38;5;241m=\u001b[39m table\u001b[38;5;241m.\u001b[39mget_labels_groupby(group_index)\n\u001b[1;32m    689\u001b[0m \u001b[38;5;28;01mif\u001b[39;00m sort \u001b[38;5;129;01mand\u001b[39;00m \u001b[38;5;28mlen\u001b[39m(obs_group_ids) \u001b[38;5;241m>\u001b[39m \u001b[38;5;241m0\u001b[39m:\n\u001b[1;32m    690\u001b[0m     obs_group_ids, comp_ids \u001b[38;5;241m=\u001b[39m _reorder_by_uniques(obs_group_ids, comp_ids)\n",
      "\u001b[0;31mKeyboardInterrupt\u001b[0m: "
     ]
    }
   ],
   "source": [
    "## Train models\n",
    "\n",
    "species_prediction_dict = {}\n",
    "\n",
    "for s in tqdm(species_list):\n",
    "    print(s)\n",
    "    species_train_df = filtered_plants.query('formatted_sci_name == \"{}\" and year < {}'.format(s, high_cutoff_year))\n",
    "    \n",
    "    if len(species_train_df) == 0:\n",
    "        continue\n",
    "    \n",
    "    species_test_df = filtered_plants.query('formatted_sci_name == \"{}\" and year >= {}'.format(s, high_cutoff_year))\n",
    "    \n",
    "    if len(species_test_df) == 0:\n",
    "        # make predictions and compare to the mean ripeness day at each site\n",
    "        species_test_df = make_test_df(species_train_df)\n",
    "    \n",
    "    if len(species_test_df) == 0:\n",
    "        print(\"No test data for {}\".format(s))\n",
    "        #print(species_test_df)\n",
    "        \n",
    "    predictions = train_ripeness_small(species_train_df, weather_training,\n",
    "                        species_test_df, weather_test)\n",
    "    \n",
    "    species_prediction_dict[s] = predictions"
   ]
  },
  {
   "cell_type": "code",
   "execution_count": null,
   "id": "ad273dfa",
   "metadata": {},
   "outputs": [],
   "source": [
    "## Train models\n",
    "\n",
    "genus_prediction_dict = {}\n",
    "\n",
    "for s in tqdm(filtered_plants['genus'].unique()):\n",
    "    print(s)\n",
    "    species_train_df = filtered_plants.query('genus == \"{}\" and year < {}'.format(s, high_cutoff_year))\n",
    "    \n",
    "    if len(species_train_df) == 0:\n",
    "        continue\n",
    "    \n",
    "    species_test_df = filtered_plants.query('genus == \"{}\" and year >= {}'.format(s, high_cutoff_year))\n",
    "    \n",
    "    if len(species_test_df) == 0:\n",
    "        # make predictions and compare to the mean ripeness day at each site\n",
    "        species_test_df = make_test_df(species_train_df)\n",
    "    \n",
    "    if len(species_test_df) == 0:\n",
    "        print(\"No test data for {}\".format(s))\n",
    "        #print(species_test_df)\n",
    "        \n",
    "    predictions = train_ripeness_small(species_train_df, weather_training,\n",
    "                        species_test_df, weather_test)\n",
    "    \n",
    "    genus_prediction_dict[s] = predictions"
   ]
  },
  {
   "cell_type": "code",
   "execution_count": 23,
   "id": "d71dd199",
   "metadata": {
    "scrolled": true
   },
   "outputs": [
    {
     "data": {
      "text/html": [
       "<div>\n",
       "<style scoped>\n",
       "    .dataframe tbody tr th:only-of-type {\n",
       "        vertical-align: middle;\n",
       "    }\n",
       "\n",
       "    .dataframe tbody tr th {\n",
       "        vertical-align: top;\n",
       "    }\n",
       "\n",
       "    .dataframe thead th {\n",
       "        text-align: right;\n",
       "    }\n",
       "</style>\n",
       "<table border=\"1\" class=\"dataframe\">\n",
       "  <thead>\n",
       "    <tr style=\"text-align: right;\">\n",
       "      <th></th>\n",
       "      <th>n</th>\n",
       "    </tr>\n",
       "    <tr>\n",
       "      <th>formatted_sci_name</th>\n",
       "      <th></th>\n",
       "    </tr>\n",
       "  </thead>\n",
       "  <tbody>\n",
       "    <tr>\n",
       "      <th>Amelanchier</th>\n",
       "      <td>318</td>\n",
       "    </tr>\n",
       "    <tr>\n",
       "      <th>Amelanchier alnifolia</th>\n",
       "      <td>189</td>\n",
       "    </tr>\n",
       "    <tr>\n",
       "      <th>Amelanchier arborea</th>\n",
       "      <td>127</td>\n",
       "    </tr>\n",
       "    <tr>\n",
       "      <th>Amelanchier canadensis</th>\n",
       "      <td>199</td>\n",
       "    </tr>\n",
       "    <tr>\n",
       "      <th>Amelanchier grandiflora</th>\n",
       "      <td>251</td>\n",
       "    </tr>\n",
       "    <tr>\n",
       "      <th>Amelanchier laevis</th>\n",
       "      <td>86</td>\n",
       "    </tr>\n",
       "    <tr>\n",
       "      <th>Citrus</th>\n",
       "      <td>571</td>\n",
       "    </tr>\n",
       "    <tr>\n",
       "      <th>Cornus mas</th>\n",
       "      <td>45</td>\n",
       "    </tr>\n",
       "    <tr>\n",
       "      <th>Diospyros</th>\n",
       "      <td>63</td>\n",
       "    </tr>\n",
       "    <tr>\n",
       "      <th>Diospyros kaki</th>\n",
       "      <td>33</td>\n",
       "    </tr>\n",
       "    <tr>\n",
       "      <th>Diospyros virginiana</th>\n",
       "      <td>349</td>\n",
       "    </tr>\n",
       "    <tr>\n",
       "      <th>Eriobotrya japonica</th>\n",
       "      <td>223</td>\n",
       "    </tr>\n",
       "    <tr>\n",
       "      <th>Ficus</th>\n",
       "      <td>150</td>\n",
       "    </tr>\n",
       "    <tr>\n",
       "      <th>Ficus carica</th>\n",
       "      <td>71</td>\n",
       "    </tr>\n",
       "    <tr>\n",
       "      <th>Juglans</th>\n",
       "      <td>102</td>\n",
       "    </tr>\n",
       "    <tr>\n",
       "      <th>Juglans nigra</th>\n",
       "      <td>213</td>\n",
       "    </tr>\n",
       "    <tr>\n",
       "      <th>Juglans regia</th>\n",
       "      <td>20</td>\n",
       "    </tr>\n",
       "    <tr>\n",
       "      <th>Malus</th>\n",
       "      <td>1488</td>\n",
       "    </tr>\n",
       "    <tr>\n",
       "      <th>Malus domestica</th>\n",
       "      <td>11336</td>\n",
       "    </tr>\n",
       "    <tr>\n",
       "      <th>Malus pumila</th>\n",
       "      <td>534</td>\n",
       "    </tr>\n",
       "    <tr>\n",
       "      <th>Malus sieboldii</th>\n",
       "      <td>154</td>\n",
       "    </tr>\n",
       "    <tr>\n",
       "      <th>Malus sylvestris</th>\n",
       "      <td>18</td>\n",
       "    </tr>\n",
       "    <tr>\n",
       "      <th>Morus</th>\n",
       "      <td>475</td>\n",
       "    </tr>\n",
       "    <tr>\n",
       "      <th>Morus alba</th>\n",
       "      <td>149</td>\n",
       "    </tr>\n",
       "    <tr>\n",
       "      <th>Morus nigra</th>\n",
       "      <td>365</td>\n",
       "    </tr>\n",
       "    <tr>\n",
       "      <th>Morus rubra</th>\n",
       "      <td>92</td>\n",
       "    </tr>\n",
       "    <tr>\n",
       "      <th>Olea</th>\n",
       "      <td>55</td>\n",
       "    </tr>\n",
       "    <tr>\n",
       "      <th>Olea europaea</th>\n",
       "      <td>384</td>\n",
       "    </tr>\n",
       "    <tr>\n",
       "      <th>Olea europea</th>\n",
       "      <td>46</td>\n",
       "    </tr>\n",
       "    <tr>\n",
       "      <th>Prunus</th>\n",
       "      <td>415</td>\n",
       "    </tr>\n",
       "    <tr>\n",
       "      <th>Prunus americana</th>\n",
       "      <td>215</td>\n",
       "    </tr>\n",
       "    <tr>\n",
       "      <th>Prunus avium</th>\n",
       "      <td>4836</td>\n",
       "    </tr>\n",
       "    <tr>\n",
       "      <th>Prunus cerasifera</th>\n",
       "      <td>133</td>\n",
       "    </tr>\n",
       "    <tr>\n",
       "      <th>Prunus cerasus</th>\n",
       "      <td>87</td>\n",
       "    </tr>\n",
       "    <tr>\n",
       "      <th>Prunus domestica</th>\n",
       "      <td>798</td>\n",
       "    </tr>\n",
       "    <tr>\n",
       "      <th>Prunus emarginata</th>\n",
       "      <td>71</td>\n",
       "    </tr>\n",
       "    <tr>\n",
       "      <th>Prunus ilicifolia</th>\n",
       "      <td>365</td>\n",
       "    </tr>\n",
       "    <tr>\n",
       "      <th>Prunus laurocerasus</th>\n",
       "      <td>17</td>\n",
       "    </tr>\n",
       "    <tr>\n",
       "      <th>Prunus maritima</th>\n",
       "      <td>92</td>\n",
       "    </tr>\n",
       "    <tr>\n",
       "      <th>Prunus pensylvanica</th>\n",
       "      <td>47</td>\n",
       "    </tr>\n",
       "    <tr>\n",
       "      <th>Prunus serotina</th>\n",
       "      <td>776</td>\n",
       "    </tr>\n",
       "    <tr>\n",
       "      <th>Prunus virginiana</th>\n",
       "      <td>473</td>\n",
       "    </tr>\n",
       "    <tr>\n",
       "      <th>Prunus yedoensis</th>\n",
       "      <td>19</td>\n",
       "    </tr>\n",
       "    <tr>\n",
       "      <th>Pyrus</th>\n",
       "      <td>146</td>\n",
       "    </tr>\n",
       "    <tr>\n",
       "      <th>Pyrus communis</th>\n",
       "      <td>4153</td>\n",
       "    </tr>\n",
       "    <tr>\n",
       "      <th>Pyrus pyrifolia</th>\n",
       "      <td>21</td>\n",
       "    </tr>\n",
       "    <tr>\n",
       "      <th>Rosmarinus officinalis</th>\n",
       "      <td>112</td>\n",
       "    </tr>\n",
       "    <tr>\n",
       "      <th>Rubus</th>\n",
       "      <td>178</td>\n",
       "    </tr>\n",
       "    <tr>\n",
       "      <th>Rubus idaeus</th>\n",
       "      <td>58</td>\n",
       "    </tr>\n",
       "    <tr>\n",
       "      <th>Rubus occidentalis</th>\n",
       "      <td>58</td>\n",
       "    </tr>\n",
       "    <tr>\n",
       "      <th>Rubus phoenicolasius</th>\n",
       "      <td>44</td>\n",
       "    </tr>\n",
       "  </tbody>\n",
       "</table>\n",
       "</div>"
      ],
      "text/plain": [
       "                             n\n",
       "formatted_sci_name            \n",
       "Amelanchier                318\n",
       "Amelanchier alnifolia      189\n",
       "Amelanchier arborea        127\n",
       "Amelanchier canadensis     199\n",
       "Amelanchier grandiflora    251\n",
       "Amelanchier laevis          86\n",
       "Citrus                     571\n",
       "Cornus mas                  45\n",
       "Diospyros                   63\n",
       "Diospyros kaki              33\n",
       "Diospyros virginiana       349\n",
       "Eriobotrya japonica        223\n",
       "Ficus                      150\n",
       "Ficus carica                71\n",
       "Juglans                    102\n",
       "Juglans nigra              213\n",
       "Juglans regia               20\n",
       "Malus                     1488\n",
       "Malus domestica          11336\n",
       "Malus pumila               534\n",
       "Malus sieboldii            154\n",
       "Malus sylvestris            18\n",
       "Morus                      475\n",
       "Morus alba                 149\n",
       "Morus nigra                365\n",
       "Morus rubra                 92\n",
       "Olea                        55\n",
       "Olea europaea              384\n",
       "Olea europea                46\n",
       "Prunus                     415\n",
       "Prunus americana           215\n",
       "Prunus avium              4836\n",
       "Prunus cerasifera          133\n",
       "Prunus cerasus              87\n",
       "Prunus domestica           798\n",
       "Prunus emarginata           71\n",
       "Prunus ilicifolia          365\n",
       "Prunus laurocerasus         17\n",
       "Prunus maritima             92\n",
       "Prunus pensylvanica         47\n",
       "Prunus serotina            776\n",
       "Prunus virginiana          473\n",
       "Prunus yedoensis            19\n",
       "Pyrus                      146\n",
       "Pyrus communis            4153\n",
       "Pyrus pyrifolia             21\n",
       "Rosmarinus officinalis     112\n",
       "Rubus                      178\n",
       "Rubus idaeus                58\n",
       "Rubus occidentalis          58\n",
       "Rubus phoenicolasius        44"
      ]
     },
     "execution_count": 23,
     "metadata": {},
     "output_type": "execute_result"
    }
   ],
   "source": [
    "pd.DataFrame(filtered_plants.groupby('formatted_sci_name').size()).rename(columns={0:'n'}).query('n > 10')"
   ]
  },
  {
   "cell_type": "code",
   "execution_count": 25,
   "id": "1bd6d4e7",
   "metadata": {
    "collapsed": true
   },
   "outputs": [
    {
     "data": {
      "text/html": [
       "<div>\n",
       "<style scoped>\n",
       "    .dataframe tbody tr th:only-of-type {\n",
       "        vertical-align: middle;\n",
       "    }\n",
       "\n",
       "    .dataframe tbody tr th {\n",
       "        vertical-align: top;\n",
       "    }\n",
       "\n",
       "    .dataframe thead th {\n",
       "        text-align: right;\n",
       "    }\n",
       "</style>\n",
       "<table border=\"1\" class=\"dataframe\">\n",
       "  <thead>\n",
       "    <tr style=\"text-align: right;\">\n",
       "      <th></th>\n",
       "      <th>n</th>\n",
       "    </tr>\n",
       "    <tr>\n",
       "      <th>genus</th>\n",
       "      <th></th>\n",
       "    </tr>\n",
       "  </thead>\n",
       "  <tbody>\n",
       "    <tr>\n",
       "      <th>Amelanchier</th>\n",
       "      <td>1176</td>\n",
       "    </tr>\n",
       "    <tr>\n",
       "      <th>Citrus</th>\n",
       "      <td>588</td>\n",
       "    </tr>\n",
       "    <tr>\n",
       "      <th>Cornus</th>\n",
       "      <td>45</td>\n",
       "    </tr>\n",
       "    <tr>\n",
       "      <th>Diospyros</th>\n",
       "      <td>445</td>\n",
       "    </tr>\n",
       "    <tr>\n",
       "      <th>Eriobotrya</th>\n",
       "      <td>223</td>\n",
       "    </tr>\n",
       "    <tr>\n",
       "      <th>Ficus</th>\n",
       "      <td>229</td>\n",
       "    </tr>\n",
       "    <tr>\n",
       "      <th>Juglans</th>\n",
       "      <td>349</td>\n",
       "    </tr>\n",
       "    <tr>\n",
       "      <th>Malus</th>\n",
       "      <td>13553</td>\n",
       "    </tr>\n",
       "    <tr>\n",
       "      <th>Morus</th>\n",
       "      <td>1090</td>\n",
       "    </tr>\n",
       "    <tr>\n",
       "      <th>Olea</th>\n",
       "      <td>485</td>\n",
       "    </tr>\n",
       "    <tr>\n",
       "      <th>Prunus</th>\n",
       "      <td>8389</td>\n",
       "    </tr>\n",
       "    <tr>\n",
       "      <th>Pyrus</th>\n",
       "      <td>4325</td>\n",
       "    </tr>\n",
       "    <tr>\n",
       "      <th>Rosmarinus</th>\n",
       "      <td>112</td>\n",
       "    </tr>\n",
       "    <tr>\n",
       "      <th>Rubus</th>\n",
       "      <td>347</td>\n",
       "    </tr>\n",
       "  </tbody>\n",
       "</table>\n",
       "</div>"
      ],
      "text/plain": [
       "                 n\n",
       "genus             \n",
       "Amelanchier   1176\n",
       "Citrus         588\n",
       "Cornus          45\n",
       "Diospyros      445\n",
       "Eriobotrya     223\n",
       "Ficus          229\n",
       "Juglans        349\n",
       "Malus        13553\n",
       "Morus         1090\n",
       "Olea           485\n",
       "Prunus        8389\n",
       "Pyrus         4325\n",
       "Rosmarinus     112\n",
       "Rubus          347"
      ]
     },
     "execution_count": 25,
     "metadata": {},
     "output_type": "execute_result"
    }
   ],
   "source": [
    "pd.DataFrame(filtered_plants.groupby('genus').size()).rename(columns={0:'n'}).query('n > 1')"
   ]
  },
  {
   "cell_type": "markdown",
   "id": "c0749576",
   "metadata": {},
   "source": [
    "## Model Validation"
   ]
  },
  {
   "cell_type": "code",
   "execution_count": null,
   "id": "4c7f4b1e",
   "metadata": {},
   "outputs": [],
   "source": [
    "#full_predictions = pd.concat(list(species_prediction_dict.values()))\n",
    "genus_predictions = pd.concat(list(species_prediction_dict.values()))"
   ]
  },
  {
   "cell_type": "code",
   "execution_count": null,
   "id": "8c723513",
   "metadata": {},
   "outputs": [],
   "source": [
    "full_predictions"
   ]
  },
  {
   "cell_type": "code",
   "execution_count": null,
   "id": "f51c06b0",
   "metadata": {},
   "outputs": [],
   "source": [
    "full_predictions['abs_error'] = np.abs(full_predictions['doy'] - full_predictions['flowering_day'])\n",
    "full_predictions['square_error'] = full_predictions['abs_error'] ** 2"
   ]
  },
  {
   "cell_type": "code",
   "execution_count": null,
   "id": "c342ba6d",
   "metadata": {
    "scrolled": true
   },
   "outputs": [],
   "source": [
    "full_predictions.sort_values('abs_error', ascending=False)[0:50]"
   ]
  },
  {
   "cell_type": "code",
   "execution_count": null,
   "id": "8586d2af",
   "metadata": {},
   "outputs": [],
   "source": [
    "np.mean(full_predictions['abs_error'])"
   ]
  },
  {
   "cell_type": "code",
   "execution_count": null,
   "id": "d45110df",
   "metadata": {},
   "outputs": [],
   "source": [
    "np.median(full_predictions['abs_error'])"
   ]
  },
  {
   "cell_type": "code",
   "execution_count": null,
   "id": "a471e27e",
   "metadata": {},
   "outputs": [],
   "source": [
    "len(full_predictions.query('abs_error < 30.6')) / len(full_predictions)"
   ]
  },
  {
   "cell_type": "code",
   "execution_count": null,
   "id": "f08485f2",
   "metadata": {},
   "outputs": [],
   "source": [
    "np.std(full_predictions['abs_error'])"
   ]
  },
  {
   "cell_type": "code",
   "execution_count": null,
   "id": "b4185159",
   "metadata": {},
   "outputs": [],
   "source": [
    "len(full_predictions.query('abs_error < 43.09')) / len(full_predictions)"
   ]
  },
  {
   "cell_type": "code",
   "execution_count": null,
   "id": "824a2a9d",
   "metadata": {
    "scrolled": true
   },
   "outputs": [],
   "source": [
    "plt.scatter(full_predictions['doy'], full_predictions['flowering_day'])"
   ]
  },
  {
   "cell_type": "markdown",
   "id": "76eb0771",
   "metadata": {},
   "source": [
    "Idea for corrections: take the lower error between the base error and the year-transformed error.\n",
    "\n",
    "NEW TRAINING PARADIGM:\n",
    "Specific data if possible, more generalized data if not.\n",
    "Ex. use European high-time-res data if possible, otherwise use monthly data. \n",
    "Use species if possible, otherwise use genus. "
   ]
  },
  {
   "cell_type": "markdown",
   "id": "da134062",
   "metadata": {},
   "source": [
    "High error is driven by southern hemisphere and \"date wrapping\". \n",
    "\n",
    "Removing southern hemisphere data and dates that are either very early in the year or very late works a little better.\n",
    "\n",
    "Ok, median error seems to be a better error metric. the old (coarse) method had a Median Absolute Error of 25, while this one has one of 14. \n",
    "\n",
    "After doing some more analysis, 71% of observations fall under the mean (30 days) and 81% fall under the standard deviation (43 days). "
   ]
  },
  {
   "cell_type": "markdown",
   "id": "a938ff3f",
   "metadata": {},
   "source": [
    "**Trying with no northern hemisphere / Date Wrapping**"
   ]
  },
  {
   "cell_type": "code",
   "execution_count": null,
   "id": "c53ea3f6",
   "metadata": {},
   "outputs": [],
   "source": [
    "unwrapped_northern_preds = full_predictions.query('latitude > 0 and doy > 60')"
   ]
  },
  {
   "cell_type": "code",
   "execution_count": null,
   "id": "4d352abb",
   "metadata": {},
   "outputs": [],
   "source": [
    "unwrapped_northern_preds.sort_values('abs_error', ascending=False)[0:50]"
   ]
  },
  {
   "cell_type": "code",
   "execution_count": null,
   "id": "ebec5496",
   "metadata": {},
   "outputs": [],
   "source": [
    "plt.hist(full_predictions['abs_error'], bins=50)"
   ]
  },
  {
   "cell_type": "code",
   "execution_count": null,
   "id": "5ac7f416",
   "metadata": {},
   "outputs": [],
   "source": [
    "np.median(full_predictions['abs_error'])"
   ]
  },
  {
   "cell_type": "code",
   "execution_count": null,
   "id": "0b309ef0",
   "metadata": {},
   "outputs": [],
   "source": [
    "print(unwrapped_northern_preds)\n",
    "\n",
    "print(rmse(unwrapped_northern_preds['doy'], unwrapped_northern_preds['flowering_day']))\n",
    "print(mae(unwrapped_northern_preds['doy'], unwrapped_northern_preds['flowering_day']))"
   ]
  },
  {
   "cell_type": "code",
   "execution_count": null,
   "id": "e8208731",
   "metadata": {},
   "outputs": [],
   "source": [
    "def rmse(y1, y2):\n",
    "    return np.sqrt(np.mean((y1 - y2) ** 2))\n",
    "\n",
    "def mae(y1, y2):\n",
    "    return np.mean(np.abs(y1 - y2))"
   ]
  },
  {
   "cell_type": "code",
   "execution_count": null,
   "id": "f1a0e2e6",
   "metadata": {},
   "outputs": [],
   "source": [
    "small_preds = full_predictions.dropna()"
   ]
  },
  {
   "cell_type": "code",
   "execution_count": null,
   "id": "a39eaa0f",
   "metadata": {
    "scrolled": true
   },
   "outputs": [],
   "source": [
    "print(rmse(full_predictions['doy'], full_predictions['flowering_day']))\n",
    "print(rmse(small_preds['doy'], small_preds['flowering_day']))\n",
    "print(mae(full_predictions['doy'], full_predictions['flowering_day']))\n",
    "print(mae(small_preds['doy'], small_preds['flowering_day']))"
   ]
  },
  {
   "cell_type": "markdown",
   "id": "d30bad95",
   "metadata": {},
   "source": [
    "Old MAE: 31.9; new MAE: 30.6."
   ]
  },
  {
   "cell_type": "raw",
   "id": "aa387ea7",
   "metadata": {},
   "source": [
    "IDEA: try to train / test with euro data if available. "
   ]
  }
 ],
 "metadata": {
  "kernelspec": {
   "display_name": "seasonality",
   "language": "python",
   "name": "seasonality"
  },
  "language_info": {
   "codemirror_mode": {
    "name": "ipython",
    "version": 3
   },
   "file_extension": ".py",
   "mimetype": "text/x-python",
   "name": "python",
   "nbconvert_exporter": "python",
   "pygments_lexer": "ipython3",
   "version": "3.11.4"
  }
 },
 "nbformat": 4,
 "nbformat_minor": 5
}
