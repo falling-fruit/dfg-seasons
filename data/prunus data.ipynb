{
 "cells": [
  {
   "cell_type": "code",
   "execution_count": 2,
   "id": "e1370d30",
   "metadata": {},
   "outputs": [],
   "source": [
    "import pandas as pd"
   ]
  },
  {
   "cell_type": "code",
   "execution_count": 3,
   "id": "a5863737",
   "metadata": {},
   "outputs": [
    {
     "name": "stdout",
     "output_type": "stream",
     "text": [
      "   PEP_ID eventRemarks  YEAR  DAY      LON      LAT\n",
      "0    6448  Ripe fruits  1958  271  12.1667  47.2167\n",
      "1    6449  Ripe fruits  1946  244  15.9000  46.8667\n",
      "2    6449  Ripe fruits  1948  241  15.9000  46.8667\n",
      "3    6449  Ripe fruits  1950  228  15.9000  46.8667\n",
      "4    6450  Ripe fruits  1985  267  13.2333  47.7833\n",
      "      PEP_ID eventRemarks  YEAR  DAY      LON      LAT\n",
      "0       6448  Ripe fruits  1958  271  12.1667  47.2167\n",
      "1       6449  Ripe fruits  1946  244  15.9000  46.8667\n",
      "2       6449  Ripe fruits  1948  241  15.9000  46.8667\n",
      "3       6449  Ripe fruits  1950  228  15.9000  46.8667\n",
      "4       6450  Ripe fruits  1985  267  13.2333  47.7833\n",
      "...      ...          ...   ...  ...      ...      ...\n",
      "4703   20291  Ripe fruits  1954  244  13.8325  48.7311\n",
      "4704   20291  Ripe fruits  1955  263  13.8325  48.7311\n",
      "4705   20291  Ripe fruits  1956  254  13.8325  48.7311\n",
      "4706   20291  Ripe fruits  1959  253  13.8325  48.7311\n",
      "4707   20292  Ripe fruits  2013  235  12.1525  47.5731\n",
      "\n",
      "[4708 rows x 6 columns]\n"
     ]
    }
   ],
   "source": [
    "# Austria early cultivar \n",
    "at_earlycultivar_phe = pd.read_csv(\"/Users/claudiado/Documents/falling fruit/prunus/PEP725/PEP725_AT_225_100/PEP725_AT_Prunus_domestica(early_cultivar).csv\")\n",
    "at_earlycultivar_stations = pd.read_csv(\"/Users/claudiado/Documents/falling fruit/prunus/PEP725/PEP725_AT_225_100/PEP725_AT_stations.csv\")\n",
    "\n",
    "at_earlycultivar = pd.merge(at_earlycultivar_phe, at_earlycultivar_stations, on = 'PEP_ID')\n",
    "\n",
    "print(at_earlycultivar.head())\n",
    "print(at_earlycultivar)\n",
    "\n",
    "at_earlycultivar.to_csv('/Users/claudiado/Documents/falling fruit/prunus/PEP725/at_earlycultivar.csv', index = False)\n"
   ]
  },
  {
   "cell_type": "code",
   "execution_count": 5,
   "id": "222a8f0f",
   "metadata": {},
   "outputs": [
    {
     "name": "stdout",
     "output_type": "stream",
     "text": [
      "   PEP_ID eventRemarks  YEAR  DAY   genus             specificEpithet  \\\n",
      "0    4994  Ripe fruits  1951  127  Prunus  domestica (early cultivar)   \n",
      "1    4994  Ripe fruits  1954  189  Prunus  domestica (early cultivar)   \n",
      "2    4994  Ripe fruits  1970  255  Prunus  domestica (early cultivar)   \n",
      "3    4994  Ripe fruits  1971  246  Prunus  domestica (early cultivar)   \n",
      "4    4994  Ripe fruits  1988  241  Prunus  domestica (early cultivar)   \n",
      "\n",
      "       LON      LAT  \n",
      "0  12.2333  53.3167  \n",
      "1  12.2333  53.3167  \n",
      "2  12.2333  53.3167  \n",
      "3  12.2333  53.3167  \n",
      "4  12.2333  53.3167  \n",
      "       PEP_ID eventRemarks  YEAR  DAY   genus             specificEpithet  \\\n",
      "0        4994  Ripe fruits  1951  127  Prunus  domestica (early cultivar)   \n",
      "1        4994  Ripe fruits  1954  189  Prunus  domestica (early cultivar)   \n",
      "2        4994  Ripe fruits  1970  255  Prunus  domestica (early cultivar)   \n",
      "3        4994  Ripe fruits  1971  246  Prunus  domestica (early cultivar)   \n",
      "4        4994  Ripe fruits  1988  241  Prunus  domestica (early cultivar)   \n",
      "...       ...          ...   ...  ...     ...                         ...   \n",
      "64125    5415  Ripe fruits  1991  228  Prunus  domestica (early cultivar)   \n",
      "64126    8268  Ripe fruits  1991  231  Prunus  domestica (early cultivar)   \n",
      "64127    5720  Ripe fruits  1991  243  Prunus  domestica (early cultivar)   \n",
      "64128    4992  Ripe fruits  1991  257  Prunus  domestica (early cultivar)   \n",
      "64129    5921  Ripe fruits  1991  262  Prunus  domestica (early cultivar)   \n",
      "\n",
      "           LON      LAT  \n",
      "0      12.2333  53.3167  \n",
      "1      12.2333  53.3167  \n",
      "2      12.2333  53.3167  \n",
      "3      12.2333  53.3167  \n",
      "4      12.2333  53.3167  \n",
      "...        ...      ...  \n",
      "64125  14.4667  51.2500  \n",
      "64126  14.5500  52.5500  \n",
      "64127  12.1667  52.2167  \n",
      "64128  12.2000  53.2500  \n",
      "64129  12.0500  51.5000  \n",
      "\n",
      "[64130 rows x 8 columns]\n"
     ]
    }
   ],
   "source": [
    "# Germany early cultivar \n",
    "de_earlycultivar_phe = pd.read_csv(\"//Users/claudiado/Documents/falling fruit/prunus/PEP725/PEP725_DE_225_100/PEP725_DE_Prunus_domestica(early_cultivar).csv\")\n",
    "de_earlycultivar_stations = pd.read_csv(\"/Users/claudiado/Documents/falling fruit/prunus/PEP725/PEP725_DE_225_100/PEP725_DE_stations.csv\")\n",
    "\n",
    "de_earlycultivar = pd.merge(de_earlycultivar_phe, de_earlycultivar_stations, on = 'PEP_ID')\n",
    "\n",
    "print(de_earlycultivar.head())\n",
    "print(de_earlycultivar)\n",
    "\n",
    "de_earlycultivar.to_csv('/Users/claudiado/Documents/falling fruit/prunus/PEP725/de_earlycultivar.csv', index = False)\n"
   ]
  },
  {
   "cell_type": "code",
   "execution_count": 7,
   "id": "3360dd81",
   "metadata": {},
   "outputs": [
    {
     "name": "stdout",
     "output_type": "stream",
     "text": [
      "   PEP_ID         BBCH  YEAR  DAY      LON   LAT\n",
      "0    7204  Ripe fruits  1963  234  23.8667  55.4\n",
      "1    7204  Ripe fruits  1964  222  23.8667  55.4\n",
      "2    7204  Ripe fruits  1965  245  23.8667  55.4\n",
      "3    7204  Ripe fruits  1966  226  23.8667  55.4\n",
      "4    7204  Ripe fruits  1968  236  23.8667  55.4\n",
      "     PEP_ID         BBCH  YEAR  DAY      LON      LAT\n",
      "0      7204  Ripe fruits  1963  234  23.8667  55.4000\n",
      "1      7204  Ripe fruits  1964  222  23.8667  55.4000\n",
      "2      7204  Ripe fruits  1965  245  23.8667  55.4000\n",
      "3      7204  Ripe fruits  1966  226  23.8667  55.4000\n",
      "4      7204  Ripe fruits  1968  236  23.8667  55.4000\n",
      "..      ...          ...   ...  ...      ...      ...\n",
      "460    7189  Ripe fruits  1998  171  24.0500  54.1000\n",
      "461    7189  Ripe fruits  2004  220  24.0500  54.1000\n",
      "462    7206  Ripe fruits  2003  242  23.6167  55.5667\n",
      "463    7206  Ripe fruits  2004  232  23.6167  55.5667\n",
      "464    7214  Ripe fruits  2004  237  24.7500  56.2000\n",
      "\n",
      "[465 rows x 6 columns]\n"
     ]
    }
   ],
   "source": [
    "# Lithuania early cultivar \n",
    "lt_earlycultivar_phe = pd.read_csv(\"/Users/claudiado/Documents/falling fruit/prunus/PEP725/PEP725_LT_225_100/PEP725_LT_Prunus_domestica(early_cultivar).csv\")\n",
    "lt_earlycultivar_stations = pd.read_csv(\"/Users/claudiado/Documents/falling fruit/prunus/PEP725/PEP725_LT_225_100/PEP725_LT_stations.csv\")\n",
    "\n",
    "lt_earlycultivar = pd.merge(lt_earlycultivar_phe, lt_earlycultivar_stations, on = 'PEP_ID')\n",
    "\n",
    "print(lt_earlycultivar.head())\n",
    "print(lt_earlycultivar)\n",
    "\n",
    "lt_earlycultivar.to_csv('/Users/claudiado/Documents/falling fruit/prunus/PEP725/lt_earlycultivar.csv', index = False)\n"
   ]
  },
  {
   "cell_type": "code",
   "execution_count": 8,
   "id": "66f9e3c4",
   "metadata": {},
   "outputs": [
    {
     "name": "stdout",
     "output_type": "stream",
     "text": [
      "   PEP_ID         BBCH  YEAR  DAY   LON    LAT\n",
      "0    6950  Ripe fruits  2000  190  18.1  48.45\n",
      "1    6950  Ripe fruits  2001  227  18.1  48.45\n",
      "2    6950  Ripe fruits  2002  209  18.1  48.45\n",
      "3    6950  Ripe fruits  2003  209  18.1  48.45\n",
      "4    6950  Ripe fruits  2004  223  18.1  48.45\n",
      "     PEP_ID         BBCH  YEAR  DAY      LON      LAT\n",
      "0      6950  Ripe fruits  2000  190  18.1000  48.4500\n",
      "1      6950  Ripe fruits  2001  227  18.1000  48.4500\n",
      "2      6950  Ripe fruits  2002  209  18.1000  48.4500\n",
      "3      6950  Ripe fruits  2003  209  18.1000  48.4500\n",
      "4      6950  Ripe fruits  2004  223  18.1000  48.4500\n",
      "..      ...          ...   ...  ...      ...      ...\n",
      "810    6914  Ripe fruits  2012  208  19.5333  49.0333\n",
      "811    6914  Ripe fruits  2013  208  19.5333  49.0333\n",
      "812    6918  Ripe fruits  2009  241  19.4500  49.5167\n",
      "813    6918  Ripe fruits  2010  256  19.4500  49.5167\n",
      "814    6918  Ripe fruits  2013  239  19.4500  49.5167\n",
      "\n",
      "[815 rows x 6 columns]\n"
     ]
    }
   ],
   "source": [
    "# Slovakia early cultivar \n",
    "sk_earlycultivar_phe = pd.read_csv(\"/Users/claudiado/Documents/falling fruit/prunus/PEP725/PEP725_SK_225_100/PEP725_SK_Prunus_domestica(early_cultivar).csv\")\n",
    "sk_earlycultivar_stations = pd.read_csv(\"/Users/claudiado/Documents/falling fruit/prunus/PEP725/PEP725_SK_225_100/PEP725_SK_stations.csv\")\n",
    "\n",
    "sk_earlycultivar = pd.merge(sk_earlycultivar_phe, sk_earlycultivar_stations, on = 'PEP_ID')\n",
    "\n",
    "print(sk_earlycultivar.head())\n",
    "print(sk_earlycultivar)\n",
    "\n",
    "sk_earlycultivar.to_csv('/Users/claudiado/Documents/falling fruit/prunus/PEP725/sk_earlycultivar.csv', index = False)\n"
   ]
  },
  {
   "cell_type": "code",
   "execution_count": 9,
   "id": "cf9cddb3",
   "metadata": {},
   "outputs": [
    {
     "name": "stdout",
     "output_type": "stream",
     "text": [
      "   PEP_ID         BBCH  YEAR  DAY      LON      LAT\n",
      "0   20268  Ripe fruits  1946  240  16.4431  48.1964\n",
      "1   20151  Ripe fruits  1946  241  14.6167  47.7333\n",
      "2   20151  Ripe fruits  1947  265  14.6167  47.7333\n",
      "3   20151  Ripe fruits  1948  250  14.6167  47.7333\n",
      "4   20151  Ripe fruits  1949  275  14.6167  47.7333\n",
      "     PEP_ID         BBCH  YEAR  DAY      LON      LAT\n",
      "0     20268  Ripe fruits  1946  240  16.4431  48.1964\n",
      "1     20151  Ripe fruits  1946  241  14.6167  47.7333\n",
      "2     20151  Ripe fruits  1947  265  14.6167  47.7333\n",
      "3     20151  Ripe fruits  1948  250  14.6167  47.7333\n",
      "4     20151  Ripe fruits  1949  275  14.6167  47.7333\n",
      "..      ...          ...   ...  ...      ...      ...\n",
      "602   19453  Ripe fruits  2012  250  11.3608  47.1669\n",
      "603   19466  Ripe fruits  2013  242  13.5489  46.5681\n",
      "604   20304  Ripe fruits  2013  245  15.5175  47.0739\n",
      "605   20221  Ripe fruits  2013  257  14.0000  46.6000\n",
      "606   20488  Ripe fruits  2013  278  13.6722  48.1103\n",
      "\n",
      "[607 rows x 6 columns]\n"
     ]
    }
   ],
   "source": [
    "# Austria late cultivar \n",
    "at_latecultivar_phe = pd.read_csv(\"/Users/claudiado/Documents/falling fruit/prunus/PEP725/PEP725_AT_225_130/PEP725_AT_Prunus_domestica(late_cultivar).csv\")\n",
    "at_latecultivar_stations = pd.read_csv(\"/Users/claudiado/Documents/falling fruit/prunus/PEP725/PEP725_AT_225_130/PEP725_AT_stations.csv\")\n",
    "\n",
    "at_latecultivar = pd.merge(at_latecultivar_phe, at_latecultivar_stations, on = 'PEP_ID')\n",
    "\n",
    "print(at_latecultivar.head())\n",
    "print(at_latecultivar)\n",
    "\n",
    "at_latecultivar.to_csv('/Users/claudiado/Documents/falling fruit/prunus/PEP725/at_latecultivar.csv', index = False)\n"
   ]
  },
  {
   "cell_type": "code",
   "execution_count": 10,
   "id": "0abdb827",
   "metadata": {},
   "outputs": [
    {
     "name": "stdout",
     "output_type": "stream",
     "text": [
      "   PEP_ID         BBCH  YEAR  DAY      LON      LAT\n",
      "0   20268  Ripe fruits  1946  240  16.4431  48.1964\n",
      "1   20151  Ripe fruits  1946  241  14.6167  47.7333\n",
      "2   20151  Ripe fruits  1947  265  14.6167  47.7333\n",
      "3   20151  Ripe fruits  1948  250  14.6167  47.7333\n",
      "4   20151  Ripe fruits  1949  275  14.6167  47.7333\n",
      "     PEP_ID         BBCH  YEAR  DAY      LON      LAT\n",
      "0     20268  Ripe fruits  1946  240  16.4431  48.1964\n",
      "1     20151  Ripe fruits  1946  241  14.6167  47.7333\n",
      "2     20151  Ripe fruits  1947  265  14.6167  47.7333\n",
      "3     20151  Ripe fruits  1948  250  14.6167  47.7333\n",
      "4     20151  Ripe fruits  1949  275  14.6167  47.7333\n",
      "..      ...          ...   ...  ...      ...      ...\n",
      "602   19453  Ripe fruits  2012  250  11.3608  47.1669\n",
      "603   19466  Ripe fruits  2013  242  13.5489  46.5681\n",
      "604   20304  Ripe fruits  2013  245  15.5175  47.0739\n",
      "605   20221  Ripe fruits  2013  257  14.0000  46.6000\n",
      "606   20488  Ripe fruits  2013  278  13.6722  48.1103\n",
      "\n",
      "[607 rows x 6 columns]\n"
     ]
    }
   ],
   "source": [
    "# Germany late cultivar \n",
    "de_latecultivar_phe = pd.read_csv(\"/Users/claudiado/Documents/falling fruit/prunus/PEP725/PEP725_DE_225_130/PEP725_DE_Prunus_domestica(late_cultivar).csv\")\n",
    "de_latecultivar_stations = pd.read_csv(\"/Users/claudiado/Documents/falling fruit/prunus/PEP725/PEP725_DE_225_130/PEP725_DE_stations.csv\")\n",
    "\n",
    "de_latecultivar = pd.merge(at_latecultivar_phe, at_latecultivar_stations, on = 'PEP_ID')\n",
    "\n",
    "print(de_latecultivar.head())\n",
    "print(de_latecultivar)\n",
    "\n",
    "de_latecultivar.to_csv('/Users/claudiado/Documents/falling fruit/prunus/PEP725/de_latecultivar.csv', index = False)\n"
   ]
  },
  {
   "cell_type": "code",
   "execution_count": 11,
   "id": "792b2ae6",
   "metadata": {},
   "outputs": [
    {
     "name": "stdout",
     "output_type": "stream",
     "text": [
      "   PEP_ID eventRemarks  YEAR  DAY    LON     LAT\n",
      "0   19295  Ripe fruits  1961  158  16.55  46.033\n",
      "1   19295  Ripe fruits  1961  165  16.55  46.033\n",
      "2   19295  Ripe fruits  1962  151  16.55  46.033\n",
      "3   19295  Ripe fruits  1962  168  16.55  46.033\n",
      "4   19295  Ripe fruits  1965  176  16.55  46.033\n",
      "     PEP_ID eventRemarks  YEAR  DAY     LON     LAT\n",
      "0     19295  Ripe fruits  1961  158  16.550  46.033\n",
      "1     19295  Ripe fruits  1961  165  16.550  46.033\n",
      "2     19295  Ripe fruits  1962  151  16.550  46.033\n",
      "3     19295  Ripe fruits  1962  168  16.550  46.033\n",
      "4     19295  Ripe fruits  1965  176  16.550  46.033\n",
      "..      ...          ...   ...  ...     ...     ...\n",
      "507   19298  Ripe fruits  2010  196  14.767  44.750\n",
      "508   19298  Ripe fruits  2011  182  14.767  44.750\n",
      "509   19298  Ripe fruits  2011  187  14.767  44.750\n",
      "510   19298  Ripe fruits  2012  217  14.767  44.750\n",
      "511   19298  Ripe fruits  2012  223  14.767  44.750\n",
      "\n",
      "[512 rows x 6 columns]\n"
     ]
    }
   ],
   "source": [
    "# Croatia late cultivar \n",
    "hr_latecultivar_phe = pd.read_csv(\"/Users/claudiado/Documents/falling fruit/prunus/PEP725/PEP725_HR_225_130/PEP725_HR_Prunus_domestica(late_cultivar).csv\")\n",
    "hr_latecultivar_stations = pd.read_csv(\"/Users/claudiado/Documents/falling fruit/prunus/PEP725/PEP725_HR_225_130/PEP725_HR_stations.csv\")\n",
    "\n",
    "hr_latecultivar = pd.merge(hr_latecultivar_phe, hr_latecultivar_stations, on = 'PEP_ID')\n",
    "\n",
    "print(hr_latecultivar.head())\n",
    "print(hr_latecultivar)\n",
    "\n",
    "hr_latecultivar.to_csv('/Users/claudiado/Documents/falling fruit/prunus/PEP725/hr_latecultivar.csv', index = False)\n"
   ]
  },
  {
   "cell_type": "code",
   "execution_count": null,
   "id": "712588c4",
   "metadata": {},
   "outputs": [],
   "source": [
    "# Croatia late cultivar \n",
    "hr_latecultivar_phe = pd.read_csv(\"/Users/claudiado/Documents/falling fruit/prunus/PEP725/PEP725_HR_225_130/PEP725_HR_Prunus_domestica(late_cultivar).csv\")\n",
    "hr_latecultivar_stations = pd.read_csv(\"/Users/claudiado/Documents/falling fruit/prunus/PEP725/PEP725_HR_225_130/PEP725_HR_stations.csv\")\n",
    "\n",
    "hr_latecultivar = pd.merge(hr_latecultivar_phe, hr_latecultivar_stations, on = 'PEP_ID')\n",
    "\n",
    "print(hr_latecultivar.head())\n",
    "print(hr_latecultivar)\n",
    "\n",
    "hr_latecultivar.to_csv('/Users/claudiado/Documents/falling fruit/prunus/PEP725/hr_latecultivar.csv', index = False)\n"
   ]
  },
  {
   "cell_type": "code",
   "execution_count": 12,
   "id": "9ad20924",
   "metadata": {},
   "outputs": [
    {
     "name": "stdout",
     "output_type": "stream",
     "text": [
      "   PEP_ID eventRemarks  YEAR  DAY      LON    LAT\n",
      "0    6607  Ripe fruits  1947  203  11.8500  47.15\n",
      "1    6607  Ripe fruits  1948  260  11.8500  47.15\n",
      "2    6612  Ripe fruits  1948  266  15.6833  47.60\n",
      "3    6612  Ripe fruits  1949  260  15.6833  47.60\n",
      "4    6612  Ripe fruits  1950  248  15.6833  47.60\n",
      "     PEP_ID eventRemarks  YEAR  DAY      LON      LAT\n",
      "0      6607  Ripe fruits  1947  203  11.8500  47.1500\n",
      "1      6607  Ripe fruits  1948  260  11.8500  47.1500\n",
      "2      6612  Ripe fruits  1948  266  15.6833  47.6000\n",
      "3      6612  Ripe fruits  1949  260  15.6833  47.6000\n",
      "4      6612  Ripe fruits  1950  248  15.6833  47.6000\n",
      "..      ...          ...   ...  ...      ...      ...\n",
      "182   20658  Ripe fruits  2015  231  11.6344  47.2950\n",
      "183    6690  Ripe fruits  2015  246  16.2500  48.0000\n",
      "184   20653  Ripe fruits  2015  272  10.3422  47.2625\n",
      "185   19435  Ripe fruits  2015  276  13.0614  47.8608\n",
      "186   19472  Ripe fruits  2016  216  16.4525  48.2244\n",
      "\n",
      "[187 rows x 6 columns]\n"
     ]
    }
   ],
   "source": [
    "# Austria no spp\n",
    "at_noSpp_phe = pd.read_csv(\"/Users/claudiado/Documents/falling fruit/prunus/PEP725/PEP725_AT_225_000/PEP725_AT_Prunus_domestica.csv\")\n",
    "at_noSpp_stations = pd.read_csv(\"/Users/claudiado/Documents/falling fruit/prunus/PEP725/PEP725_AT_225_000/PEP725_AT_stations.csv\")\n",
    "\n",
    "at_noSpp = pd.merge(at_noSpp_phe, at_noSpp_stations, on = 'PEP_ID')\n",
    "\n",
    "print(at_noSpp.head())\n",
    "print(at_noSpp)\n",
    "\n",
    "at_noSpp.to_csv('/Users/claudiado/Documents/falling fruit/prunus/PEP725/at_noSpp.csv', index = False)\n"
   ]
  },
  {
   "cell_type": "code",
   "execution_count": 13,
   "id": "77ec88af",
   "metadata": {},
   "outputs": [
    {
     "name": "stdout",
     "output_type": "stream",
     "text": [
      "   PEP_ID         BBCH  YEAR  DAY      LON      LAT\n",
      "0   20451  Ripe fruits  1951  236  19.5167  42.8333\n",
      "1   20451      Harvest  1951  243  19.5167  42.8333\n",
      "2   20451  Ripe fruits  1953  244  19.5167  42.8333\n",
      "3   20451      Harvest  1953  262  19.5167  42.8333\n",
      "4   20451  Ripe fruits  1955  261  19.5167  42.8333\n",
      "     PEP_ID         BBCH  YEAR  DAY      LON      LAT\n",
      "0     20451  Ripe fruits  1951  236  19.5167  42.8333\n",
      "1     20451      Harvest  1951  243  19.5167  42.8333\n",
      "2     20451  Ripe fruits  1953  244  19.5167  42.8333\n",
      "3     20451      Harvest  1953  262  19.5167  42.8333\n",
      "4     20451  Ripe fruits  1955  261  19.5167  42.8333\n",
      "..      ...          ...   ...  ...      ...      ...\n",
      "201   20448      Harvest  2010  236  19.2833  42.4333\n",
      "202   20448  Ripe fruits  2011  205  19.2833  42.4333\n",
      "203   20448      Harvest  2011  226  19.2833  42.4333\n",
      "204   20448  Ripe fruits  2014  237  19.2833  42.4333\n",
      "205   20448  Ripe fruits  2014  253  19.2833  42.4333\n",
      "\n",
      "[206 rows x 6 columns]\n"
     ]
    }
   ],
   "source": [
    "# Montenegrin Republic Pozegaca\n",
    "me_pozegaca_phe = pd.read_csv(\"/Users/claudiado/Documents/falling fruit/prunus/PEP725/PEP725_ME_225_597/PEP725_ME_Prunus_domestica(Prunus_domestica_Pozegaca).csv\")\n",
    "me_pozegaca_stations = pd.read_csv(\"/Users/claudiado/Documents/falling fruit/prunus/PEP725/PEP725_ME_225_597/PEP725_ME_stations.csv\")\n",
    "\n",
    "me_pozegaca = pd.merge(me_pozegaca_phe, me_pozegaca_stations, on = 'PEP_ID')\n",
    "\n",
    "print(me_pozegaca.head())\n",
    "print(me_pozegaca)\n",
    "\n",
    "me_pozegaca.to_csv('/Users/claudiado/Documents/falling fruit/prunus/PEP725/me_pozegaca.csv', index = False)\n"
   ]
  },
  {
   "cell_type": "code",
   "execution_count": 14,
   "id": "49ed2f30",
   "metadata": {},
   "outputs": [
    {
     "name": "stdout",
     "output_type": "stream",
     "text": [
      "   PEP_ID eventRemarks    YEAR    DAY      LON      LAT   genus  \\\n",
      "0  6448.0  Ripe fruits  1958.0  271.0  12.1667  47.2167  Prunus   \n",
      "1  6449.0  Ripe fruits  1946.0  244.0  15.9000  46.8667  Prunus   \n",
      "2  6449.0  Ripe fruits  1948.0  241.0  15.9000  46.8667  Prunus   \n",
      "3  6449.0  Ripe fruits  1950.0  228.0  15.9000  46.8667  Prunus   \n",
      "4  6450.0  Ripe fruits  1985.0  267.0  13.2333  47.7833  Prunus   \n",
      "\n",
      "              specificEpithet  \n",
      "0  domestica (early cultivar)  \n",
      "1  domestica (early cultivar)  \n",
      "2  domestica (early cultivar)  \n",
      "3  domestica (early cultivar)  \n",
      "4  domestica (early cultivar)  \n",
      "       PEP_ID eventRemarks    YEAR    DAY      LON      LAT   genus  \\\n",
      "0      6448.0  Ripe fruits  1958.0  271.0  12.1667  47.2167  Prunus   \n",
      "1      6449.0  Ripe fruits  1946.0  244.0  15.9000  46.8667  Prunus   \n",
      "2      6449.0  Ripe fruits  1948.0  241.0  15.9000  46.8667  Prunus   \n",
      "3      6449.0  Ripe fruits  1950.0  228.0  15.9000  46.8667  Prunus   \n",
      "4      6450.0  Ripe fruits  1985.0  267.0  13.2333  47.7833  Prunus   \n",
      "...       ...          ...     ...    ...      ...      ...     ...   \n",
      "64125     NaN          NaN     NaN    NaN      NaN      NaN  Prunus   \n",
      "64126     NaN          NaN     NaN    NaN      NaN      NaN  Prunus   \n",
      "64127     NaN          NaN     NaN    NaN      NaN      NaN  Prunus   \n",
      "64128     NaN          NaN     NaN    NaN      NaN      NaN  Prunus   \n",
      "64129     NaN          NaN     NaN    NaN      NaN      NaN  Prunus   \n",
      "\n",
      "                  specificEpithet  \n",
      "0      domestica (early cultivar)  \n",
      "1      domestica (early cultivar)  \n",
      "2      domestica (early cultivar)  \n",
      "3      domestica (early cultivar)  \n",
      "4      domestica (early cultivar)  \n",
      "...                           ...  \n",
      "64125  domestica (early cultivar)  \n",
      "64126  domestica (early cultivar)  \n",
      "64127  domestica (early cultivar)  \n",
      "64128  domestica (early cultivar)  \n",
      "64129  domestica (early cultivar)  \n",
      "\n",
      "[197120 rows x 8 columns]\n"
     ]
    }
   ],
   "source": [
    "# early cultivar\n",
    "at_earlycultivar = pd.read_csv(\"/Users/claudiado/Documents/falling fruit/prunus/PEP725/at_earlycultivar.csv\")\n",
    "ba_earlycultivar = pd.read_csv(\"/Users/claudiado/Documents/falling fruit/prunus/PEP725/PEP725_BA_Prunus_domestica(early_cultivar).csv\")\n",
    "de_earlycultivar = pd.read_csv(\"/Users/claudiado/Documents/falling fruit/prunus/PEP725/de_earlycultivar.csv\")\n",
    "es_earlycultivar = pd.read_csv(\"/Users/claudiado/Documents/falling fruit/prunus/PEP725/PEP725_ES_Prunus_domestica(early_cultivar).csv\")\n",
    "lt_earlycultivar = pd.read_csv(\"/Users/claudiado/Documents/falling fruit/prunus/PEP725/lt_earlycultivar.csv\")\n",
    "sk_earlycultivar = pd.read_csv(\"/Users/claudiado/Documents/falling fruit/prunus/PEP725/sk_earlycultivar.csv\")\n",
    "\n",
    "earlycultivar = pd.concat([at_earlycultivar, ba_earlycultivar, de_earlycultivar, es_earlycultivar, lt_earlycultivar, \n",
    "                           sk_earlycultivar], axis = 0)\n",
    "\n",
    "print(earlycultivar.head())\n",
    "print(earlycultivar)\n",
    "\n",
    "earlycultivar.to_csv('/Users/claudiado/Documents/falling fruit/prunus/earlycultivar.csv', index = False)\n"
   ]
  },
  {
   "cell_type": "code",
   "execution_count": 15,
   "id": "f8dd2557",
   "metadata": {},
   "outputs": [
    {
     "name": "stdout",
     "output_type": "stream",
     "text": [
      "    PEP_ID eventRemarks    YEAR    DAY      LON      LAT   genus  \\\n",
      "0  20268.0  Ripe fruits  1946.0  240.0  16.4431  48.1964  Prunus   \n",
      "1  20151.0  Ripe fruits  1946.0  241.0  14.6167  47.7333  Prunus   \n",
      "2  20151.0  Ripe fruits  1947.0  265.0  14.6167  47.7333  Prunus   \n",
      "3  20151.0  Ripe fruits  1948.0  250.0  14.6167  47.7333  Prunus   \n",
      "4  20151.0  Ripe fruits  1949.0  275.0  14.6167  47.7333  Prunus   \n",
      "\n",
      "             specificEpithet  \n",
      "0  domestica (late cultivar)  \n",
      "1  domestica (late cultivar)  \n",
      "2  domestica (late cultivar)  \n",
      "3  domestica (late cultivar)  \n",
      "4  domestica (late cultivar)  \n",
      "      PEP_ID eventRemarks    YEAR    DAY      LON      LAT   genus  \\\n",
      "0    20268.0  Ripe fruits  1946.0  240.0  16.4431  48.1964  Prunus   \n",
      "1    20151.0  Ripe fruits  1946.0  241.0  14.6167  47.7333  Prunus   \n",
      "2    20151.0  Ripe fruits  1947.0  265.0  14.6167  47.7333  Prunus   \n",
      "3    20151.0  Ripe fruits  1948.0  250.0  14.6167  47.7333  Prunus   \n",
      "4    20151.0  Ripe fruits  1949.0  275.0  14.6167  47.7333  Prunus   \n",
      "..       ...          ...     ...    ...      ...      ...     ...   \n",
      "507  19298.0  Ripe fruits  2010.0  196.0  14.7670  44.7500  Prunus   \n",
      "508  19298.0  Ripe fruits  2011.0  182.0  14.7670  44.7500  Prunus   \n",
      "509  19298.0  Ripe fruits  2011.0  187.0  14.7670  44.7500  Prunus   \n",
      "510  19298.0  Ripe fruits  2012.0  217.0  14.7670  44.7500  Prunus   \n",
      "511  19298.0  Ripe fruits  2012.0  223.0  14.7670  44.7500  Prunus   \n",
      "\n",
      "               specificEpithet  \n",
      "0    domestica (late cultivar)  \n",
      "1    domestica (late cultivar)  \n",
      "2    domestica (late cultivar)  \n",
      "3    domestica (late cultivar)  \n",
      "4    domestica (late cultivar)  \n",
      "..                         ...  \n",
      "507  domestica (late cultivar)  \n",
      "508  domestica (late cultivar)  \n",
      "509  domestica (late cultivar)  \n",
      "510  domestica (late cultivar)  \n",
      "511  domestica (late cultivar)  \n",
      "\n",
      "[65267 rows x 8 columns]\n"
     ]
    }
   ],
   "source": [
    "# late cultivar\n",
    "at_latecultivar = pd.read_csv(\"/Users/claudiado/Documents/falling fruit/prunus/PEP725/at_latecultivar.csv\")\n",
    "ba_latecultivar = pd.read_csv(\"/Users/claudiado/Documents/falling fruit/prunus/PEP725/PEP725_BA_Prunus_domestica(late_cultivar).csv\")\n",
    "de_latecultivar = pd.read_csv(\"/Users/claudiado/Documents/falling fruit/prunus/PEP725/de_latecultivar.csv\")\n",
    "hr_latecultivar = pd.read_csv(\"/Users/claudiado/Documents/falling fruit/prunus/PEP725/hr_latecultivar.csv\")\n",
    "\n",
    "latecultivar = pd.concat([at_latecultivar, ba_latecultivar, de_latecultivar, hr_latecultivar], axis = 0)\n",
    "\n",
    "print(latecultivar.head())\n",
    "print(latecultivar)\n",
    "\n",
    "latecultivar.to_csv('/Users/claudiado/Documents/falling fruit/prunus/latecultivar.csv', index = False)\n"
   ]
  },
  {
   "cell_type": "code",
   "execution_count": 16,
   "id": "06dd5288",
   "metadata": {},
   "outputs": [
    {
     "name": "stdout",
     "output_type": "stream",
     "text": [
      "   PEP_ID eventRemarks  YEAR  DAY      LON      LAT   genus  \\\n",
      "0   20451  Ripe fruits  1951  236  19.5167  42.8333  Prunus   \n",
      "1   20451      Harvest  1951  243  19.5167  42.8333  Prunus   \n",
      "2   20451  Ripe fruits  1953  244  19.5167  42.8333  Prunus   \n",
      "3   20451      Harvest  1953  262  19.5167  42.8333  Prunus   \n",
      "4   20451  Ripe fruits  1955  261  19.5167  42.8333  Prunus   \n",
      "\n",
      "        specificEpithet  \n",
      "0  domestica (Pozegaca)  \n",
      "1  domestica (Pozegaca)  \n",
      "2  domestica (Pozegaca)  \n",
      "3  domestica (Pozegaca)  \n",
      "4  domestica (Pozegaca)  \n",
      "    PEP_ID eventRemarks  YEAR  DAY      LON      LAT   genus  \\\n",
      "0    20451  Ripe fruits  1951  236  19.5167  42.8333  Prunus   \n",
      "1    20451      Harvest  1951  243  19.5167  42.8333  Prunus   \n",
      "2    20451  Ripe fruits  1953  244  19.5167  42.8333  Prunus   \n",
      "3    20451      Harvest  1953  262  19.5167  42.8333  Prunus   \n",
      "4    20451  Ripe fruits  1955  261  19.5167  42.8333  Prunus   \n",
      "..     ...          ...   ...  ...      ...      ...     ...   \n",
      "9    20449      Harvest  2008  269  18.9500  42.7667  Prunus   \n",
      "10   20449  Ripe fruits  2009  247  18.9500  42.7667  Prunus   \n",
      "11   20449      Harvest  2009  257  18.9500  42.7667  Prunus   \n",
      "12   20449  Ripe fruits  2011  247  18.9500  42.7667  Prunus   \n",
      "13   20449      Harvest  2011  262  18.9500  42.7667  Prunus   \n",
      "\n",
      "         specificEpithet  \n",
      "0   domestica (Pozegaca)  \n",
      "1   domestica (Pozegaca)  \n",
      "2   domestica (Pozegaca)  \n",
      "3   domestica (Pozegaca)  \n",
      "4   domestica (Pozegaca)  \n",
      "..                   ...  \n",
      "9    domestica (Stanlay)  \n",
      "10   domestica (Stanlay)  \n",
      "11   domestica (Stanlay)  \n",
      "12   domestica (Stanlay)  \n",
      "13   domestica (Stanlay)  \n",
      "\n",
      "[269 rows x 8 columns]\n"
     ]
    }
   ],
   "source": [
    "# misc prunus spp\n",
    "me_pozegaca = pd.read_csv(\"/Users/claudiado/Documents/falling fruit/prunus/PEP725/me_pozegaca.csv\")\n",
    "hr_besztercei = pd.read_csv(\"/Users/claudiado/Documents/falling fruit/prunus/PEP725/PEP725_HR_Prunus_domestica(Prunus_domestica_Besztercei).csv\")\n",
    "me_bosanska = pd.read_csv(\"/Users/claudiado/Documents/falling fruit/prunus/PEP725/PEP725_ME_Prunus_domestica(Bosanska).csv\")\n",
    "me_cerasifera = pd.read_csv(\"/Users/claudiado/Documents/falling fruit/prunus/PEP725/PEP725_ME_Prunus_cerasifera.csv\")\n",
    "me_dzanarika = pd.read_csv(\"/Users/claudiado/Documents/falling fruit/prunus/PEP725/PEP725_ME_Prunus_domestica(Dzanarika).csv\")\n",
    "me_renkloda = pd.read_csv(\"/Users/claudiado/Documents/falling fruit/prunus/PEP725/PEP725_ME_Prunus_domestica(Renkloda).csv\")\n",
    "me_stanlay = pd.read_csv(\"/Users/claudiado/Documents/falling fruit/prunus/PEP725/PEP725_ME_Prunus_domestica(Stanlay).csv\")\n",
    "\n",
    "misc = pd.concat([me_pozegaca, hr_besztercei, me_bosanska, me_cerasifera, me_dzanarika, me_renkloda, me_stanlay], axis = 0)\n",
    "\n",
    "print(misc.head())\n",
    "print(misc)\n",
    "\n",
    "misc.to_csv('/Users/claudiado/Documents/falling fruit/prunus/misc.csv', index = False)\n"
   ]
  },
  {
   "cell_type": "code",
   "execution_count": 17,
   "id": "61c8f457",
   "metadata": {},
   "outputs": [
    {
     "name": "stdout",
     "output_type": "stream",
     "text": [
      "   PEP_ID eventRemarks  YEAR  DAY      LON    LAT   genus specificEpithet\n",
      "0    6607  Ripe fruits  1947  203  11.8500  47.15  Prunus       domestica\n",
      "1    6607  Ripe fruits  1948  260  11.8500  47.15  Prunus       domestica\n",
      "2    6612  Ripe fruits  1948  266  15.6833  47.60  Prunus       domestica\n",
      "3    6612  Ripe fruits  1949  260  15.6833  47.60  Prunus       domestica\n",
      "4    6612  Ripe fruits  1950  248  15.6833  47.60  Prunus       domestica\n",
      "    PEP_ID eventRemarks  YEAR  DAY      LON      LAT   genus specificEpithet\n",
      "0     6607  Ripe fruits  1947  203  11.8500  47.1500  Prunus       domestica\n",
      "1     6607  Ripe fruits  1948  260  11.8500  47.1500  Prunus       domestica\n",
      "2     6612  Ripe fruits  1948  266  15.6833  47.6000  Prunus       domestica\n",
      "3     6612  Ripe fruits  1949  260  15.6833  47.6000  Prunus       domestica\n",
      "4     6612  Ripe fruits  1950  248  15.6833  47.6000  Prunus       domestica\n",
      "..     ...          ...   ...  ...      ...      ...     ...             ...\n",
      "11   20451      Harvest  2001  252  19.5167  42.8333  Prunus       domestica\n",
      "12   20451   Ripe fruit  2002  252  19.5167  42.8333  Prunus       domestica\n",
      "13   20451      Harvest  2002  273  19.5167  42.8333  Prunus       domestica\n",
      "14   20452   Ripe fruit  2005  236  18.9167  42.3833  Prunus       domestica\n",
      "15   20452      Harvest  2005  247  18.9167  42.3833  Prunus       domestica\n",
      "\n",
      "[214 rows x 8 columns]\n"
     ]
    }
   ],
   "source": [
    "# no spp\n",
    "at_prunus = pd.read_csv(\"/Users/claudiado/Documents/falling fruit/prunus/PEP725/at_noSpp.csv\")\n",
    "es_prunus = pd.read_csv(\"/Users/claudiado/Documents/falling fruit/prunus/PEP725/PEP725_ES_Prunus_domestica.csv\")\n",
    "hr_prunus = pd.read_csv(\"/Users/claudiado/Documents/falling fruit/prunus/PEP725/PEP725_HR_Prunus_domestica.csv\")\n",
    "me_prunus = pd.read_csv(\"/Users/claudiado/Documents/falling fruit/prunus/PEP725/PEP725_ME_Prunus_domestica.csv\")\n",
    "\n",
    "no_spp = pd.concat([at_prunus, es_prunus, hr_prunus, me_prunus], axis = 0)\n",
    "\n",
    "print(no_spp.head())\n",
    "print(no_spp)\n",
    "\n",
    "no_spp.to_csv('/Users/claudiado/Documents/falling fruit/prunus/noSpp.csv', index = False)"
   ]
  },
  {
   "cell_type": "code",
   "execution_count": 18,
   "id": "ed82927e",
   "metadata": {},
   "outputs": [
    {
     "name": "stderr",
     "output_type": "stream",
     "text": [
      "/var/folders/ny/8t8m87413tj52740gvtmwk7r0000gn/T/ipykernel_94241/3896326918.py:5: DtypeWarning: Columns (1) have mixed types. Specify dtype option on import or set low_memory=False.\n",
      "  earlycultivar = pd.read_csv(\"/Users/claudiado/Documents/falling fruit/prunus/earlycultivar.csv\")\n"
     ]
    },
    {
     "name": "stdout",
     "output_type": "stream",
     "text": [
      "     DAY    YEAR   genus specificEpithet eventRemarks        LON        LAT  \\\n",
      "0  150.0  2018.0  Prunus       americana  Ripe fruits -122.13203  37.991367   \n",
      "1  197.0  2014.0  Prunus       americana  Ripe fruits -122.13203  37.991367   \n",
      "2  176.0  2021.0  Prunus       americana  Ripe fruits -122.13203  37.991367   \n",
      "3  166.0  2022.0  Prunus       americana  Ripe fruits -122.13203  37.991367   \n",
      "4  204.0  2014.0  Prunus       americana  Ripe fruits -122.13203  37.991367   \n",
      "\n",
      "   PEP_ID  \n",
      "0     NaN  \n",
      "1     NaN  \n",
      "2     NaN  \n",
      "3     NaN  \n",
      "4     NaN  \n",
      "       DAY    YEAR   genus specificEpithet eventRemarks        LON        LAT  \\\n",
      "0    150.0  2018.0  Prunus       americana  Ripe fruits -122.13203  37.991367   \n",
      "1    197.0  2014.0  Prunus       americana  Ripe fruits -122.13203  37.991367   \n",
      "2    176.0  2021.0  Prunus       americana  Ripe fruits -122.13203  37.991367   \n",
      "3    166.0  2022.0  Prunus       americana  Ripe fruits -122.13203  37.991367   \n",
      "4    204.0  2014.0  Prunus       americana  Ripe fruits -122.13203  37.991367   \n",
      "..     ...     ...     ...             ...          ...        ...        ...   \n",
      "209  252.0  2001.0  Prunus       domestica      Harvest   19.51670  42.833300   \n",
      "210  252.0  2002.0  Prunus       domestica   Ripe fruit   19.51670  42.833300   \n",
      "211  273.0  2002.0  Prunus       domestica      Harvest   19.51670  42.833300   \n",
      "212  236.0  2005.0  Prunus       domestica   Ripe fruit   18.91670  42.383300   \n",
      "213  247.0  2005.0  Prunus       domestica      Harvest   18.91670  42.383300   \n",
      "\n",
      "      PEP_ID  \n",
      "0        NaN  \n",
      "1        NaN  \n",
      "2        NaN  \n",
      "3        NaN  \n",
      "4        NaN  \n",
      "..       ...  \n",
      "209  20451.0  \n",
      "210  20451.0  \n",
      "211  20451.0  \n",
      "212  20452.0  \n",
      "213  20452.0  \n",
      "\n",
      "[263255 rows x 8 columns]\n"
     ]
    }
   ],
   "source": [
    "# npn data\n",
    "usa_npn = pd.read_csv(\"//Users/claudiado/Documents/falling fruit/prunus/ppo prunus data.csv\")\n",
    "\n",
    "# pep data\n",
    "earlycultivar = pd.read_csv(\"/Users/claudiado/Documents/falling fruit/prunus/earlycultivar.csv\")\n",
    "latecultivar = pd.read_csv(\"/Users/claudiado/Documents/falling fruit/prunus/latecultivar.csv\")\n",
    "misc = pd.read_csv(\"/Users/claudiado/Documents/falling fruit/prunus/misc.csv\")\n",
    "noSpp = pd.read_csv(\"/Users/claudiado/Documents/falling fruit/prunus/noSpp.csv\")\n",
    "\n",
    "prunus = pd.concat([usa_npn, earlycultivar, latecultivar, misc, noSpp], axis = 0)\n",
    "\n",
    "print(prunus.head())\n",
    "print(prunus)\n",
    "\n",
    "prunus.to_csv('/Users/claudiado/Documents/falling fruit/prunus/prunus.csv', index = False)\n"
   ]
  },
  {
   "cell_type": "code",
   "execution_count": null,
   "id": "cb441931",
   "metadata": {},
   "outputs": [],
   "source": []
  }
 ],
 "metadata": {
  "kernelspec": {
   "display_name": "Python 3 (ipykernel)",
   "language": "python",
   "name": "python3"
  },
  "language_info": {
   "codemirror_mode": {
    "name": "ipython",
    "version": 3
   },
   "file_extension": ".py",
   "mimetype": "text/x-python",
   "name": "python",
   "nbconvert_exporter": "python",
   "pygments_lexer": "ipython3",
   "version": "3.10.9"
  }
 },
 "nbformat": 4,
 "nbformat_minor": 5
}
