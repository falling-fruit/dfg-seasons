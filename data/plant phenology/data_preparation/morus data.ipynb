{
 "cells": [
  {
   "cell_type": "code",
   "execution_count": 2,
   "id": "d0ce2a17",
   "metadata": {},
   "outputs": [],
   "source": [
    "import pandas as pd "
   ]
  },
  {
   "cell_type": "code",
   "execution_count": 3,
   "id": "83f0ecec",
   "metadata": {},
   "outputs": [
    {
     "name": "stdout",
     "output_type": "stream",
     "text": [
      "   DAY  YEAR  genus specificEpithet eventRemarks        LON        LAT  \\\n",
      "0  118  2023  Morus           rubra  Ripe fruits -89.963806  30.033796   \n",
      "1  111  2023  Morus           rubra  Ripe fruits -89.963806  30.033796   \n",
      "2   41  2023  Morus           rubra  Ripe fruits -89.963806  30.033796   \n",
      "3  104  2023  Morus           rubra  Ripe fruits -89.963806  30.033796   \n",
      "4   61  2023  Morus           rubra  Ripe fruits -89.963806  30.033796   \n",
      "\n",
      "   PEP_ID BBCH  \n",
      "0     NaN  NaN  \n",
      "1     NaN  NaN  \n",
      "2     NaN  NaN  \n",
      "3     NaN  NaN  \n",
      "4     NaN  NaN  \n",
      "   DAY  YEAR  genus specificEpithet eventRemarks        LON        LAT  \\\n",
      "0  118  2023  Morus           rubra  Ripe fruits -89.963806  30.033796   \n",
      "1  111  2023  Morus           rubra  Ripe fruits -89.963806  30.033796   \n",
      "2   41  2023  Morus           rubra  Ripe fruits -89.963806  30.033796   \n",
      "3  104  2023  Morus           rubra  Ripe fruits -89.963806  30.033796   \n",
      "4   61  2023  Morus           rubra  Ripe fruits -89.963806  30.033796   \n",
      "5   69  2023  Morus           rubra  Ripe fruits -89.963806  30.033796   \n",
      "6   76  2023  Morus           rubra  Ripe fruits -89.963806  30.033796   \n",
      "7  198  2022  Morus           rubra  Ripe fruits -95.905975  41.203037   \n",
      "0  174  1952    NaN             NaN          NaN  19.083300  42.100000   \n",
      "\n",
      "    PEP_ID        BBCH  \n",
      "0      NaN         NaN  \n",
      "1      NaN         NaN  \n",
      "2      NaN         NaN  \n",
      "3      NaN         NaN  \n",
      "4      NaN         NaN  \n",
      "5      NaN         NaN  \n",
      "6      NaN         NaN  \n",
      "7      NaN         NaN  \n",
      "0  20450.0  Ripe fruit  \n"
     ]
    }
   ],
   "source": [
    "# npn data\n",
    "usa_npn = pd.read_csv(\"/Users/claudiado/Documents/falling fruit/morus/ppo morus data.csv\")\n",
    "\n",
    "# pep data\n",
    "me_morus = pd.read_csv(\"/Users/claudiado/Documents/falling fruit/morus/PEP725_ME_Morus.csv\")\n",
    "\n",
    "morus = pd.concat([usa_npn, me_morus], axis = 0)\n",
    "\n",
    "print(morus.head())\n",
    "print(morus)\n",
    "\n",
    "morus.to_csv('/Users/claudiado/Documents/falling fruit/morus/morus.csv', index = False)"
   ]
  },
  {
   "cell_type": "code",
   "execution_count": null,
   "id": "0b1967b2",
   "metadata": {},
   "outputs": [],
   "source": []
  }
 ],
 "metadata": {
  "kernelspec": {
   "display_name": "Python 3 (ipykernel)",
   "language": "python",
   "name": "python3"
  },
  "language_info": {
   "codemirror_mode": {
    "name": "ipython",
    "version": 3
   },
   "file_extension": ".py",
   "mimetype": "text/x-python",
   "name": "python",
   "nbconvert_exporter": "python",
   "pygments_lexer": "ipython3",
   "version": "3.10.9"
  }
 },
 "nbformat": 4,
 "nbformat_minor": 5
}
