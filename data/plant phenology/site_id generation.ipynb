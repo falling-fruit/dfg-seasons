{
 "cells": [
  {
   "cell_type": "code",
   "execution_count": 1,
   "id": "600e8be0",
   "metadata": {},
   "outputs": [],
   "source": [
    "import csv\n",
    "import pandas as pd"
   ]
  },
  {
   "cell_type": "markdown",
   "id": "3566acd3",
   "metadata": {},
   "source": [
    "# malus "
   ]
  },
  {
   "cell_type": "code",
   "execution_count": 17,
   "id": "66cb2104",
   "metadata": {},
   "outputs": [
    {
     "name": "stdout",
     "output_type": "stream",
     "text": [
      "[   1    1    1 ... 7046 7046 7046]\n",
      "   YEAR  DAY  genus specificEpithet eventRemarks       LON        LAT  PEP_ID  \\\n",
      "0  2020  301  Malus       sieboldii  Ripe fruits -92.62381  44.861355     NaN   \n",
      "1  2020  352  Malus       sieboldii  Ripe fruits -92.62381  44.861355     NaN   \n",
      "2  2020  330  Malus       sieboldii  Ripe fruits -92.62381  44.861355     NaN   \n",
      "3  2020  265  Malus       sieboldii  Ripe fruits -92.62381  44.861355     NaN   \n",
      "4  2020  317  Malus       sieboldii  Ripe fruits -92.62381  44.861355     NaN   \n",
      "\n",
      "   site_id  \n",
      "0        1  \n",
      "1        1  \n",
      "2        1  \n",
      "3        1  \n",
      "4        1  \n"
     ]
    }
   ],
   "source": [
    "def generate_unique_ids(input_file, output_file, unique_id_column_name, column1_index, column2_index):\n",
    "    unique_ids = {}\n",
    "    rows = []  # Store rows in memory\n",
    "    \n",
    "    with open(input_file, 'r') as file:\n",
    "        reader = csv.reader(file)\n",
    "        headers = next(reader)\n",
    "        headers.append(unique_id_column_name)\n",
    "        \n",
    "        for row in reader:\n",
    "            column1 = row[column1_index]\n",
    "            column2 = row[column2_index]\n",
    "            \n",
    "            # Combine the values from column1 and column2\n",
    "            combined_value = str(column1) + str(column2)\n",
    "            \n",
    "            # Check if the combined value already has an ID assigned\n",
    "            if combined_value in unique_ids:\n",
    "                # Use the existing ID\n",
    "                unique_id = unique_ids[combined_value]\n",
    "            else:\n",
    "                # Generate a new ID\n",
    "                unique_id = str(len(unique_ids) + 1)\n",
    "                unique_ids[combined_value] = unique_id\n",
    "            \n",
    "            row.append(unique_id)\n",
    "            rows.append(row)  # Store the modified row\n",
    "    \n",
    "    with open(output_file, 'w', newline='') as file:\n",
    "        writer = csv.writer(file)\n",
    "        writer.writerow(headers)\n",
    "        writer.writerows(rows)  # Write all rows at once\n",
    "    \n",
    "    # Read the generated CSV file as a DataFrame\n",
    "    df = pd.read_csv(output_file)\n",
    "    \n",
    "    # Print the new CSV column\n",
    "    print(df[unique_id_column_name].values)\n",
    "    \n",
    "    # Print the head of the DataFrame\n",
    "    print(df.head())\n",
    "\n",
    "# Usage example\n",
    "generate_unique_ids('malus.csv', 'malus_final.csv', 'site_id', 5, 6)\n"
   ]
  },
  {
   "cell_type": "markdown",
   "id": "8378eadb",
   "metadata": {},
   "source": [
    "# morus "
   ]
  },
  {
   "cell_type": "code",
   "execution_count": 18,
   "id": "b0880737",
   "metadata": {},
   "outputs": [
    {
     "name": "stdout",
     "output_type": "stream",
     "text": [
      "[1 1 1 1 1 1 1 2 3]\n",
      "   DAY  YEAR  genus specificEpithet eventRemarks        LON        LAT  \\\n",
      "0  118  2023  Morus           rubra  Ripe fruits -89.963806  30.033796   \n",
      "1  111  2023  Morus           rubra  Ripe fruits -89.963806  30.033796   \n",
      "2   41  2023  Morus           rubra  Ripe fruits -89.963806  30.033796   \n",
      "3  104  2023  Morus           rubra  Ripe fruits -89.963806  30.033796   \n",
      "4   61  2023  Morus           rubra  Ripe fruits -89.963806  30.033796   \n",
      "\n",
      "   PEP_ID  site_id  \n",
      "0     NaN        1  \n",
      "1     NaN        1  \n",
      "2     NaN        1  \n",
      "3     NaN        1  \n",
      "4     NaN        1  \n"
     ]
    }
   ],
   "source": [
    "def generate_unique_ids(input_file, output_file, unique_id_column_name, column1_index, column2_index):\n",
    "    unique_ids = {}\n",
    "    rows = []  # Store rows in memory\n",
    "    \n",
    "    with open(input_file, 'r') as file:\n",
    "        reader = csv.reader(file)\n",
    "        headers = next(reader)\n",
    "        headers.append(unique_id_column_name)\n",
    "        \n",
    "        for row in reader:\n",
    "            column1 = row[column1_index]\n",
    "            column2 = row[column2_index]\n",
    "            \n",
    "            # Combine the values from column1 and column2\n",
    "            combined_value = str(column1) + str(column2)\n",
    "            \n",
    "            # Check if the combined value already has an ID assigned\n",
    "            if combined_value in unique_ids:\n",
    "                # Use the existing ID\n",
    "                unique_id = unique_ids[combined_value]\n",
    "            else:\n",
    "                # Generate a new ID\n",
    "                unique_id = str(len(unique_ids) + 1)\n",
    "                unique_ids[combined_value] = unique_id\n",
    "            \n",
    "            row.append(unique_id)\n",
    "            rows.append(row)  # Store the modified row\n",
    "    \n",
    "    with open(output_file, 'w', newline='') as file:\n",
    "        writer = csv.writer(file)\n",
    "        writer.writerow(headers)\n",
    "        writer.writerows(rows)  # Write all rows at once\n",
    "    \n",
    "    # Read the generated CSV file as a DataFrame\n",
    "    df = pd.read_csv(output_file)\n",
    "    \n",
    "    # Print the new CSV column\n",
    "    print(df[unique_id_column_name].values)\n",
    "    \n",
    "    # Print the head of the DataFrame\n",
    "    print(df.head())\n",
    "\n",
    "# Usage example\n",
    "generate_unique_ids('morus.csv', 'morus_final.csv', 'site_id', 5, 6)\n"
   ]
  },
  {
   "cell_type": "markdown",
   "id": "d13e7b36",
   "metadata": {},
   "source": [
    "# prunus"
   ]
  },
  {
   "cell_type": "code",
   "execution_count": 19,
   "id": "b22d9f59",
   "metadata": {},
   "outputs": [
    {
     "name": "stdout",
     "output_type": "stream",
     "text": [
      "[   1    1    1 ... 6245 6247 6247]\n",
      "     DAY    YEAR   genus specificEpithet eventRemarks        LON        LAT  \\\n",
      "0  150.0  2018.0  Prunus       americana  Ripe fruits -122.13203  37.991367   \n",
      "1  197.0  2014.0  Prunus       americana  Ripe fruits -122.13203  37.991367   \n",
      "2  176.0  2021.0  Prunus       americana  Ripe fruits -122.13203  37.991367   \n",
      "3  166.0  2022.0  Prunus       americana  Ripe fruits -122.13203  37.991367   \n",
      "4  204.0  2014.0  Prunus       americana  Ripe fruits -122.13203  37.991367   \n",
      "\n",
      "   PEP_ID  site_id  \n",
      "0     NaN        1  \n",
      "1     NaN        1  \n",
      "2     NaN        1  \n",
      "3     NaN        1  \n",
      "4     NaN        1  \n"
     ]
    }
   ],
   "source": [
    "def generate_unique_ids(input_file, output_file, unique_id_column_name, column1_index, column2_index):\n",
    "    unique_ids = {}\n",
    "    rows = []  # Store rows in memory\n",
    "    \n",
    "    with open(input_file, 'r') as file:\n",
    "        reader = csv.reader(file)\n",
    "        headers = next(reader)\n",
    "        headers.append(unique_id_column_name)\n",
    "        \n",
    "        for row in reader:\n",
    "            column1 = row[column1_index]\n",
    "            column2 = row[column2_index]\n",
    "            \n",
    "            # Combine the values from column1 and column2\n",
    "            combined_value = str(column1) + str(column2)\n",
    "            \n",
    "            # Check if the combined value already has an ID assigned\n",
    "            if combined_value in unique_ids:\n",
    "                # Use the existing ID\n",
    "                unique_id = unique_ids[combined_value]\n",
    "            else:\n",
    "                # Generate a new ID\n",
    "                unique_id = str(len(unique_ids) + 1)\n",
    "                unique_ids[combined_value] = unique_id\n",
    "            \n",
    "            row.append(unique_id)\n",
    "            rows.append(row)  # Store the modified row\n",
    "    \n",
    "    with open(output_file, 'w', newline='') as file:\n",
    "        writer = csv.writer(file)\n",
    "        writer.writerow(headers)\n",
    "        writer.writerows(rows)  # Write all rows at once\n",
    "    \n",
    "    # Read the generated CSV file as a DataFrame\n",
    "    df = pd.read_csv(output_file)\n",
    "    \n",
    "    # Print the new CSV column\n",
    "    print(df[unique_id_column_name].values)\n",
    "    \n",
    "    # Print the head of the DataFrame\n",
    "    print(df.head())\n",
    "\n",
    "# Usage example\n",
    "generate_unique_ids('prunus.csv', 'prunus_final.csv', 'site_id', 5, 6)"
   ]
  },
  {
   "cell_type": "code",
   "execution_count": null,
   "id": "26dbf529",
   "metadata": {},
   "outputs": [],
   "source": []
  }
 ],
 "metadata": {
  "kernelspec": {
   "display_name": "Python 3 (ipykernel)",
   "language": "python",
   "name": "python3"
  },
  "language_info": {
   "codemirror_mode": {
    "name": "ipython",
    "version": 3
   },
   "file_extension": ".py",
   "mimetype": "text/x-python",
   "name": "python",
   "nbconvert_exporter": "python",
   "pygments_lexer": "ipython3",
   "version": "3.10.9"
  }
 },
 "nbformat": 4,
 "nbformat_minor": 5
}
