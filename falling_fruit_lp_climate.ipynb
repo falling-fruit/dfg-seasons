{
 "cells": [
  {
   "cell_type": "markdown",
   "id": "d7bb6fd2",
   "metadata": {},
   "source": [
    "# Falling Fruit"
   ]
  },
  {
   "cell_type": "code",
   "execution_count": 1,
   "id": "4fa0be00",
   "metadata": {},
   "outputs": [],
   "source": [
    "import pandas as pd\n",
    "import os"
   ]
  },
  {
   "cell_type": "code",
   "execution_count": 2,
   "id": "7ddfde4d",
   "metadata": {},
   "outputs": [
    {
     "name": "stdout",
     "output_type": "stream",
     "text": [
      "/Users/peterbenson/Documents/DFG_2023/dfg-seasons\n",
      "['.DS_Store', 'falling_fruit_lp_climate.ipynb', 'api-scripts', '.gitignore', '.ipynb_checkpoints', '.git', '.vscode', 'data_exploration']\n"
     ]
    }
   ],
   "source": [
    "print(os.getcwd())\n",
    "print(os.listdir())"
   ]
  },
  {
   "cell_type": "code",
   "execution_count": 10,
   "id": "514c175e",
   "metadata": {},
   "outputs": [],
   "source": [
    "example_path = os.path.join(os.getcwd(), 'example.csv')\n",
    "ex = pd.read_csv(example_path)"
   ]
  },
  {
   "cell_type": "code",
   "execution_count": 13,
   "id": "1880fc3b",
   "metadata": {},
   "outputs": [],
   "source": [
    "location_path = os.path.join(os.getcwd(), 'data/location_months_in_season.csv')\n",
    "fruit_path = os.path.join(os.getcwd(), 'data/observation_phenology.csv')"
   ]
  },
  {
   "cell_type": "code",
   "execution_count": 12,
   "id": "c619e3a4",
   "metadata": {
    "scrolled": true
   },
   "outputs": [],
   "source": [
    "location = pd.read_csv(location_path, low_memory = False)"
   ]
  },
  {
   "cell_type": "code",
   "execution_count": 14,
   "id": "34644b8a",
   "metadata": {},
   "outputs": [],
   "source": [
    "fruits = pd.read_csv(fruit_path)"
   ]
  },
  {
   "cell_type": "code",
   "execution_count": 16,
   "id": "520ecc18",
   "metadata": {},
   "outputs": [
    {
     "data": {
      "text/plain": [
       "Index(['location_id', 'observation_id', 'lat', 'lng', 'date', 'stage',\n",
       "       'type_count', 'type_id', 'taxonomic_rank', 'taxonomic_rank_name',\n",
       "       'en_name', 'scientific_name', 'scientific_synonyms'],\n",
       "      dtype='object')"
      ]
     },
     "execution_count": 16,
     "metadata": {},
     "output_type": "execute_result"
    }
   ],
   "source": [
    "fruits.columns"
   ]
  },
  {
   "cell_type": "code",
   "execution_count": 17,
   "id": "71f16e9e",
   "metadata": {},
   "outputs": [
    {
     "data": {
      "text/plain": [
       "Index(['location_id', 'start_month', 'end_month', 'type_count', 'type_id',\n",
       "       'taxonomic_rank', 'taxonomic_rank_name', 'en_name', 'scientific_name',\n",
       "       'scientific_synonyms'],\n",
       "      dtype='object')"
      ]
     },
     "execution_count": 17,
     "metadata": {},
     "output_type": "execute_result"
    }
   ],
   "source": [
    "location.columns"
   ]
  },
  {
   "cell_type": "code",
   "execution_count": 27,
   "id": "91a3f351",
   "metadata": {
    "scrolled": true
   },
   "outputs": [
    {
     "data": {
      "text/html": [
       "<div>\n",
       "<style scoped>\n",
       "    .dataframe tbody tr th:only-of-type {\n",
       "        vertical-align: middle;\n",
       "    }\n",
       "\n",
       "    .dataframe tbody tr th {\n",
       "        vertical-align: top;\n",
       "    }\n",
       "\n",
       "    .dataframe thead th {\n",
       "        text-align: right;\n",
       "    }\n",
       "</style>\n",
       "<table border=\"1\" class=\"dataframe\">\n",
       "  <thead>\n",
       "    <tr style=\"text-align: right;\">\n",
       "      <th></th>\n",
       "      <th>location_id</th>\n",
       "      <th>observation_id</th>\n",
       "      <th>lat</th>\n",
       "      <th>lng</th>\n",
       "      <th>date</th>\n",
       "      <th>stage</th>\n",
       "      <th>type_count</th>\n",
       "      <th>type_id</th>\n",
       "      <th>taxonomic_rank</th>\n",
       "      <th>taxonomic_rank_name</th>\n",
       "      <th>en_name</th>\n",
       "      <th>scientific_name</th>\n",
       "      <th>scientific_synonyms</th>\n",
       "    </tr>\n",
       "  </thead>\n",
       "  <tbody>\n",
       "    <tr>\n",
       "      <th>0</th>\n",
       "      <td>1764646</td>\n",
       "      <td>43121</td>\n",
       "      <td>30.312322</td>\n",
       "      <td>-97.724329</td>\n",
       "      <td>2020-05-20</td>\n",
       "      <td>unripe fruit</td>\n",
       "      <td>1</td>\n",
       "      <td>93</td>\n",
       "      <td>8</td>\n",
       "      <td>species</td>\n",
       "      <td>Pecan</td>\n",
       "      <td>Carya illinoinensis</td>\n",
       "      <td>NaN</td>\n",
       "    </tr>\n",
       "    <tr>\n",
       "      <th>1</th>\n",
       "      <td>1762703</td>\n",
       "      <td>42400</td>\n",
       "      <td>-41.434854</td>\n",
       "      <td>147.156620</td>\n",
       "      <td>2020-03-06</td>\n",
       "      <td>ripe fruit</td>\n",
       "      <td>1</td>\n",
       "      <td>69</td>\n",
       "      <td>8</td>\n",
       "      <td>species</td>\n",
       "      <td>Quince</td>\n",
       "      <td>Cydonia oblonga</td>\n",
       "      <td>Cydonia, Cydonia vulgaris</td>\n",
       "    </tr>\n",
       "    <tr>\n",
       "      <th>2</th>\n",
       "      <td>1762705</td>\n",
       "      <td>42401</td>\n",
       "      <td>27.793812</td>\n",
       "      <td>-82.650576</td>\n",
       "      <td>2020-03-07</td>\n",
       "      <td>unripe fruit</td>\n",
       "      <td>1</td>\n",
       "      <td>18</td>\n",
       "      <td>8</td>\n",
       "      <td>species</td>\n",
       "      <td>Loquat</td>\n",
       "      <td>Eriobotrya japonica</td>\n",
       "      <td>NaN</td>\n",
       "    </tr>\n",
       "    <tr>\n",
       "      <th>3</th>\n",
       "      <td>1762706</td>\n",
       "      <td>42402</td>\n",
       "      <td>27.753815</td>\n",
       "      <td>-82.705272</td>\n",
       "      <td>2020-03-03</td>\n",
       "      <td>ripe fruit</td>\n",
       "      <td>1</td>\n",
       "      <td>18</td>\n",
       "      <td>8</td>\n",
       "      <td>species</td>\n",
       "      <td>Loquat</td>\n",
       "      <td>Eriobotrya japonica</td>\n",
       "      <td>NaN</td>\n",
       "    </tr>\n",
       "    <tr>\n",
       "      <th>4</th>\n",
       "      <td>1762813</td>\n",
       "      <td>42434</td>\n",
       "      <td>47.092503</td>\n",
       "      <td>8.522837</td>\n",
       "      <td>2020-03-13</td>\n",
       "      <td>ripe fruit</td>\n",
       "      <td>1</td>\n",
       "      <td>542</td>\n",
       "      <td>8</td>\n",
       "      <td>species</td>\n",
       "      <td>Wild garlic</td>\n",
       "      <td>Allium ursinum</td>\n",
       "      <td>NaN</td>\n",
       "    </tr>\n",
       "  </tbody>\n",
       "</table>\n",
       "</div>"
      ],
      "text/plain": [
       "   location_id  observation_id        lat         lng        date  \\\n",
       "0      1764646           43121  30.312322  -97.724329  2020-05-20   \n",
       "1      1762703           42400 -41.434854  147.156620  2020-03-06   \n",
       "2      1762705           42401  27.793812  -82.650576  2020-03-07   \n",
       "3      1762706           42402  27.753815  -82.705272  2020-03-03   \n",
       "4      1762813           42434  47.092503    8.522837  2020-03-13   \n",
       "\n",
       "          stage  type_count  type_id  taxonomic_rank taxonomic_rank_name  \\\n",
       "0  unripe fruit           1       93               8             species   \n",
       "1    ripe fruit           1       69               8             species   \n",
       "2  unripe fruit           1       18               8             species   \n",
       "3    ripe fruit           1       18               8             species   \n",
       "4    ripe fruit           1      542               8             species   \n",
       "\n",
       "       en_name      scientific_name        scientific_synonyms  \n",
       "0        Pecan  Carya illinoinensis                        NaN  \n",
       "1       Quince      Cydonia oblonga  Cydonia, Cydonia vulgaris  \n",
       "2       Loquat  Eriobotrya japonica                        NaN  \n",
       "3       Loquat  Eriobotrya japonica                        NaN  \n",
       "4  Wild garlic       Allium ursinum                        NaN  "
      ]
     },
     "execution_count": 27,
     "metadata": {},
     "output_type": "execute_result"
    }
   ],
   "source": [
    "fruits.head()"
   ]
  },
  {
   "cell_type": "markdown",
   "id": "e799e384",
   "metadata": {},
   "source": [
    "## Climate and Season (peter's version) \n",
    "*Just like Taylor's version :)*"
   ]
  },
  {
   "cell_type": "code",
   "execution_count": 30,
   "id": "421d251c",
   "metadata": {},
   "outputs": [],
   "source": [
    "ff = fruits"
   ]
  },
  {
   "cell_type": "code",
   "execution_count": 34,
   "id": "0d1f3a77",
   "metadata": {},
   "outputs": [],
   "source": [
    "# select necessary columns here\n",
    "ff = ff[['scientific_name', 'lat', 'lng','location_id', 'observation_id', 'date', 'taxonomic_rank', 'en_name']]\n",
    "\n",
    "# filter out rows to avoid problems when converting to string\n",
    "ff = ff[ff['scientific_name'].notna()]\n",
    "\n",
    "ff['lat'] = ff['lat'].apply(float)\n",
    "ff['lng'] = ff['lng'].apply(float)\n",
    "ff['scientific_name'] = ff['scientific_name'].apply(str)"
   ]
  },
  {
   "cell_type": "code",
   "execution_count": 35,
   "id": "9eb8159f",
   "metadata": {},
   "outputs": [
    {
     "data": {
      "text/html": [
       "<div>\n",
       "<style scoped>\n",
       "    .dataframe tbody tr th:only-of-type {\n",
       "        vertical-align: middle;\n",
       "    }\n",
       "\n",
       "    .dataframe tbody tr th {\n",
       "        vertical-align: top;\n",
       "    }\n",
       "\n",
       "    .dataframe thead th {\n",
       "        text-align: right;\n",
       "    }\n",
       "</style>\n",
       "<table border=\"1\" class=\"dataframe\">\n",
       "  <thead>\n",
       "    <tr style=\"text-align: right;\">\n",
       "      <th></th>\n",
       "      <th>scientific_name</th>\n",
       "      <th>lat</th>\n",
       "      <th>lng</th>\n",
       "      <th>location_id</th>\n",
       "      <th>observation_id</th>\n",
       "      <th>date</th>\n",
       "      <th>taxonomic_rank</th>\n",
       "      <th>en_name</th>\n",
       "    </tr>\n",
       "  </thead>\n",
       "  <tbody>\n",
       "    <tr>\n",
       "      <th>0</th>\n",
       "      <td>Carya illinoinensis</td>\n",
       "      <td>30.312322</td>\n",
       "      <td>-97.724329</td>\n",
       "      <td>1764646</td>\n",
       "      <td>43121</td>\n",
       "      <td>2020-05-20</td>\n",
       "      <td>8</td>\n",
       "      <td>Pecan</td>\n",
       "    </tr>\n",
       "    <tr>\n",
       "      <th>1</th>\n",
       "      <td>Cydonia oblonga</td>\n",
       "      <td>-41.434854</td>\n",
       "      <td>147.156620</td>\n",
       "      <td>1762703</td>\n",
       "      <td>42400</td>\n",
       "      <td>2020-03-06</td>\n",
       "      <td>8</td>\n",
       "      <td>Quince</td>\n",
       "    </tr>\n",
       "    <tr>\n",
       "      <th>2</th>\n",
       "      <td>Eriobotrya japonica</td>\n",
       "      <td>27.793812</td>\n",
       "      <td>-82.650576</td>\n",
       "      <td>1762705</td>\n",
       "      <td>42401</td>\n",
       "      <td>2020-03-07</td>\n",
       "      <td>8</td>\n",
       "      <td>Loquat</td>\n",
       "    </tr>\n",
       "    <tr>\n",
       "      <th>3</th>\n",
       "      <td>Eriobotrya japonica</td>\n",
       "      <td>27.753815</td>\n",
       "      <td>-82.705272</td>\n",
       "      <td>1762706</td>\n",
       "      <td>42402</td>\n",
       "      <td>2020-03-03</td>\n",
       "      <td>8</td>\n",
       "      <td>Loquat</td>\n",
       "    </tr>\n",
       "    <tr>\n",
       "      <th>4</th>\n",
       "      <td>Allium ursinum</td>\n",
       "      <td>47.092503</td>\n",
       "      <td>8.522837</td>\n",
       "      <td>1762813</td>\n",
       "      <td>42434</td>\n",
       "      <td>2020-03-13</td>\n",
       "      <td>8</td>\n",
       "      <td>Wild garlic</td>\n",
       "    </tr>\n",
       "  </tbody>\n",
       "</table>\n",
       "</div>"
      ],
      "text/plain": [
       "       scientific_name        lat         lng  location_id  observation_id  \\\n",
       "0  Carya illinoinensis  30.312322  -97.724329      1764646           43121   \n",
       "1      Cydonia oblonga -41.434854  147.156620      1762703           42400   \n",
       "2  Eriobotrya japonica  27.793812  -82.650576      1762705           42401   \n",
       "3  Eriobotrya japonica  27.753815  -82.705272      1762706           42402   \n",
       "4       Allium ursinum  47.092503    8.522837      1762813           42434   \n",
       "\n",
       "         date  taxonomic_rank      en_name  \n",
       "0  2020-05-20               8        Pecan  \n",
       "1  2020-03-06               8       Quince  \n",
       "2  2020-03-07               8       Loquat  \n",
       "3  2020-03-03               8       Loquat  \n",
       "4  2020-03-13               8  Wild garlic  "
      ]
     },
     "execution_count": 35,
     "metadata": {},
     "output_type": "execute_result"
    }
   ],
   "source": [
    "ff.head()"
   ]
  },
  {
   "cell_type": "code",
   "execution_count": 40,
   "id": "f9d77322",
   "metadata": {},
   "outputs": [
    {
     "data": {
      "text/html": [
       "<div>\n",
       "<style scoped>\n",
       "    .dataframe tbody tr th:only-of-type {\n",
       "        vertical-align: middle;\n",
       "    }\n",
       "\n",
       "    .dataframe tbody tr th {\n",
       "        vertical-align: top;\n",
       "    }\n",
       "\n",
       "    .dataframe thead th {\n",
       "        text-align: right;\n",
       "    }\n",
       "</style>\n",
       "<table border=\"1\" class=\"dataframe\">\n",
       "  <thead>\n",
       "    <tr style=\"text-align: right;\">\n",
       "      <th></th>\n",
       "      <th>scientific_name</th>\n",
       "      <th>lat</th>\n",
       "      <th>lng</th>\n",
       "      <th>location_id</th>\n",
       "      <th>observation_id</th>\n",
       "      <th>date</th>\n",
       "      <th>taxonomic_rank</th>\n",
       "      <th>en_name</th>\n",
       "    </tr>\n",
       "  </thead>\n",
       "  <tbody>\n",
       "    <tr>\n",
       "      <th>13</th>\n",
       "      <td>Citrus x limon</td>\n",
       "      <td>33.772689</td>\n",
       "      <td>-118.154754</td>\n",
       "      <td>1762515</td>\n",
       "      <td>42279</td>\n",
       "      <td>2020-02-04</td>\n",
       "      <td>8</td>\n",
       "      <td>Lemon</td>\n",
       "    </tr>\n",
       "    <tr>\n",
       "      <th>39</th>\n",
       "      <td>Arbutus 'Marina'</td>\n",
       "      <td>37.366737</td>\n",
       "      <td>-121.909876</td>\n",
       "      <td>1762364</td>\n",
       "      <td>42413</td>\n",
       "      <td>2020-03-10</td>\n",
       "      <td>9</td>\n",
       "      <td>Marina strawberry tree</td>\n",
       "    </tr>\n",
       "    <tr>\n",
       "      <th>115</th>\n",
       "      <td>Citrus x clementina</td>\n",
       "      <td>38.716748</td>\n",
       "      <td>-9.147119</td>\n",
       "      <td>1761877</td>\n",
       "      <td>42009</td>\n",
       "      <td>2019-11-23</td>\n",
       "      <td>8</td>\n",
       "      <td>Clementine</td>\n",
       "    </tr>\n",
       "    <tr>\n",
       "      <th>177</th>\n",
       "      <td>Amelanchier</td>\n",
       "      <td>42.781501</td>\n",
       "      <td>-73.693001</td>\n",
       "      <td>1765905</td>\n",
       "      <td>43956</td>\n",
       "      <td>2020-06-20</td>\n",
       "      <td>6</td>\n",
       "      <td>Serviceberry</td>\n",
       "    </tr>\n",
       "    <tr>\n",
       "      <th>202</th>\n",
       "      <td>Mangifera</td>\n",
       "      <td>-29.426991</td>\n",
       "      <td>153.274393</td>\n",
       "      <td>1762429</td>\n",
       "      <td>42218</td>\n",
       "      <td>2020-01-16</td>\n",
       "      <td>6</td>\n",
       "      <td>Mango</td>\n",
       "    </tr>\n",
       "  </tbody>\n",
       "</table>\n",
       "</div>"
      ],
      "text/plain": [
       "         scientific_name        lat         lng  location_id  observation_id  \\\n",
       "13        Citrus x limon  33.772689 -118.154754      1762515           42279   \n",
       "39      Arbutus 'Marina'  37.366737 -121.909876      1762364           42413   \n",
       "115  Citrus x clementina  38.716748   -9.147119      1761877           42009   \n",
       "177          Amelanchier  42.781501  -73.693001      1765905           43956   \n",
       "202            Mangifera -29.426991  153.274393      1762429           42218   \n",
       "\n",
       "           date  taxonomic_rank                 en_name  \n",
       "13   2020-02-04               8                   Lemon  \n",
       "39   2020-03-10               9  Marina strawberry tree  \n",
       "115  2019-11-23               8              Clementine  \n",
       "177  2020-06-20               6            Serviceberry  \n",
       "202  2020-01-16               6                   Mango  "
      ]
     },
     "execution_count": 40,
     "metadata": {},
     "output_type": "execute_result"
    }
   ],
   "source": [
    "ff.loc[[13,39, 115, 177, 202]]\n",
    "\n",
    "# Not the same as Linh's, but 13 is the same? We'll see what happens"
   ]
  },
  {
   "cell_type": "code",
   "execution_count": 42,
   "id": "4f7845f6",
   "metadata": {},
   "outputs": [
    {
     "data": {
      "text/plain": [
       "(22615, 8)"
      ]
     },
     "execution_count": 42,
     "metadata": {},
     "output_type": "execute_result"
    }
   ],
   "source": [
    "ff.shape"
   ]
  },
  {
   "cell_type": "markdown",
   "id": "c160aed6",
   "metadata": {},
   "source": [
    "# Climate and Season"
   ]
  },
  {
   "cell_type": "code",
   "execution_count": null,
   "id": "97eb4780",
   "metadata": {},
   "outputs": [],
   "source": [
    "#pip install meteostat"
   ]
  },
  {
   "cell_type": "code",
   "execution_count": 28,
   "id": "723b8aec",
   "metadata": {},
   "outputs": [],
   "source": [
    "# Import Meteostat library and dependencies\n",
    "import pandas as pd \n",
    "import numpy as np \n",
    "from datetime import datetime\n",
    "import matplotlib.pyplot as plt\n",
    "from meteostat import Point, Monthly"
   ]
  },
  {
   "cell_type": "code",
   "execution_count": 4,
   "id": "169ed213",
   "metadata": {},
   "outputs": [],
   "source": [
    "ff = pd.read_csv(\"/Users/linh/Downloads/develop_for_good/falling_fruit.csv\", low_memory = False)"
   ]
  },
  {
   "cell_type": "code",
   "execution_count": 5,
   "id": "1835594e",
   "metadata": {},
   "outputs": [],
   "source": [
    "ff = ff[['scientific_name','id', 'lat', 'lng','location_id', 'observation_id', 'date', 'taxonomic_rank', 'en_name']]"
   ]
  },
  {
   "cell_type": "code",
   "execution_count": 6,
   "id": "c9318043",
   "metadata": {},
   "outputs": [],
   "source": [
    "ff = ff[ff['scientific_name'].notna()]"
   ]
  },
  {
   "cell_type": "code",
   "execution_count": 7,
   "id": "4a8cc675",
   "metadata": {},
   "outputs": [],
   "source": [
    "ff['lat'] = ff['lat'].apply(float)\n",
    "ff['lng'] = ff['lng'].apply(float)\n",
    "ff['scientific_name'] = ff['scientific_name'].apply(str)"
   ]
  },
  {
   "cell_type": "code",
   "execution_count": 8,
   "id": "0983d38b",
   "metadata": {},
   "outputs": [
    {
     "data": {
      "text/html": [
       "<div>\n",
       "<style scoped>\n",
       "    .dataframe tbody tr th:only-of-type {\n",
       "        vertical-align: middle;\n",
       "    }\n",
       "\n",
       "    .dataframe tbody tr th {\n",
       "        vertical-align: top;\n",
       "    }\n",
       "\n",
       "    .dataframe thead th {\n",
       "        text-align: right;\n",
       "    }\n",
       "</style>\n",
       "<table border=\"1\" class=\"dataframe\">\n",
       "  <thead>\n",
       "    <tr style=\"text-align: right;\">\n",
       "      <th></th>\n",
       "      <th>scientific_name</th>\n",
       "      <th>id</th>\n",
       "      <th>lat</th>\n",
       "      <th>lng</th>\n",
       "      <th>location_id</th>\n",
       "      <th>observation_id</th>\n",
       "      <th>date</th>\n",
       "      <th>taxonomic_rank</th>\n",
       "      <th>en_name</th>\n",
       "    </tr>\n",
       "  </thead>\n",
       "  <tbody>\n",
       "    <tr>\n",
       "      <th>13</th>\n",
       "      <td>Citrus x limon</td>\n",
       "      <td>107.0</td>\n",
       "      <td>37.409772</td>\n",
       "      <td>-122.136046</td>\n",
       "      <td>107.0</td>\n",
       "      <td>2823.0</td>\n",
       "      <td>2013-12-14</td>\n",
       "      <td>8.0</td>\n",
       "      <td>Lemon</td>\n",
       "    </tr>\n",
       "    <tr>\n",
       "      <th>39</th>\n",
       "      <td>Ficus carica</td>\n",
       "      <td>419.0</td>\n",
       "      <td>37.862816</td>\n",
       "      <td>-122.262840</td>\n",
       "      <td>419.0</td>\n",
       "      <td>51054.0</td>\n",
       "      <td>2021-10-03</td>\n",
       "      <td>8.0</td>\n",
       "      <td>Common fig</td>\n",
       "    </tr>\n",
       "    <tr>\n",
       "      <th>115</th>\n",
       "      <td>Rubus</td>\n",
       "      <td>495.0</td>\n",
       "      <td>37.871975</td>\n",
       "      <td>-122.262749</td>\n",
       "      <td>495.0</td>\n",
       "      <td>40603.0</td>\n",
       "      <td>2019-07-25</td>\n",
       "      <td>7.0</td>\n",
       "      <td>Blackberry</td>\n",
       "    </tr>\n",
       "    <tr>\n",
       "      <th>177</th>\n",
       "      <td>Citrus x limon</td>\n",
       "      <td>557.0</td>\n",
       "      <td>37.856464</td>\n",
       "      <td>-122.267471</td>\n",
       "      <td>557.0</td>\n",
       "      <td>47572.0</td>\n",
       "      <td>2021-01-11</td>\n",
       "      <td>8.0</td>\n",
       "      <td>Lemon</td>\n",
       "    </tr>\n",
       "    <tr>\n",
       "      <th>202</th>\n",
       "      <td>Citrus</td>\n",
       "      <td>582.0</td>\n",
       "      <td>37.864990</td>\n",
       "      <td>-122.266190</td>\n",
       "      <td>582.0</td>\n",
       "      <td>47720.0</td>\n",
       "      <td>2021-02-21</td>\n",
       "      <td>7.0</td>\n",
       "      <td>Lime</td>\n",
       "    </tr>\n",
       "  </tbody>\n",
       "</table>\n",
       "</div>"
      ],
      "text/plain": [
       "    scientific_name     id        lat         lng  location_id observation_id  \\\n",
       "13   Citrus x limon  107.0  37.409772 -122.136046        107.0         2823.0   \n",
       "39     Ficus carica  419.0  37.862816 -122.262840        419.0        51054.0   \n",
       "115           Rubus  495.0  37.871975 -122.262749        495.0        40603.0   \n",
       "177  Citrus x limon  557.0  37.856464 -122.267471        557.0        47572.0   \n",
       "202          Citrus  582.0  37.864990 -122.266190        582.0        47720.0   \n",
       "\n",
       "           date  taxonomic_rank     en_name  \n",
       "13   2013-12-14             8.0       Lemon  \n",
       "39   2021-10-03             8.0  Common fig  \n",
       "115  2019-07-25             7.0  Blackberry  \n",
       "177  2021-01-11             8.0       Lemon  \n",
       "202  2021-02-21             7.0        Lime  "
      ]
     },
     "execution_count": 8,
     "metadata": {},
     "output_type": "execute_result"
    }
   ],
   "source": [
    "ff.head()"
   ]
  },
  {
   "cell_type": "code",
   "execution_count": 9,
   "id": "9ed62805",
   "metadata": {
    "scrolled": true
   },
   "outputs": [
    {
     "data": {
      "text/plain": [
       "(25386, 9)"
      ]
     },
     "execution_count": 9,
     "metadata": {},
     "output_type": "execute_result"
    }
   ],
   "source": [
    "ff.shape"
   ]
  },
  {
   "cell_type": "code",
   "execution_count": 47,
   "id": "3813bdab",
   "metadata": {},
   "outputs": [
    {
     "ename": "TypeError",
     "evalue": "__init__() takes 2 positional arguments but 6 were given",
     "output_type": "error",
     "traceback": [
      "\u001b[0;31m---------------------------------------------------------------------------\u001b[0m",
      "\u001b[0;31mTypeError\u001b[0m                                 Traceback (most recent call last)",
      "\u001b[0;32m/var/folders/xk/t3y_dz7j75ld1xlbfffyj5lm0000gn/T/ipykernel_79493/190089030.py\u001b[0m in \u001b[0;36m<module>\u001b[0;34m\u001b[0m\n\u001b[0;32m----> 1\u001b[0;31m lemon = ClimateData(ff['en_name'].values[0], \n\u001b[0m\u001b[1;32m      2\u001b[0m                     \u001b[0mff\u001b[0m\u001b[0;34m[\u001b[0m\u001b[0;34m'scientific_name'\u001b[0m\u001b[0;34m]\u001b[0m\u001b[0;34m.\u001b[0m\u001b[0mvalues\u001b[0m\u001b[0;34m[\u001b[0m\u001b[0;36m0\u001b[0m\u001b[0;34m]\u001b[0m\u001b[0;34m,\u001b[0m\u001b[0;34m\u001b[0m\u001b[0;34m\u001b[0m\u001b[0m\n\u001b[1;32m      3\u001b[0m                     \u001b[0mff\u001b[0m\u001b[0;34m[\u001b[0m\u001b[0;34m'lat'\u001b[0m\u001b[0;34m]\u001b[0m\u001b[0;34m.\u001b[0m\u001b[0mvalues\u001b[0m\u001b[0;34m[\u001b[0m\u001b[0;36m0\u001b[0m\u001b[0;34m]\u001b[0m\u001b[0;34m,\u001b[0m\u001b[0;34m\u001b[0m\u001b[0;34m\u001b[0m\u001b[0m\n\u001b[1;32m      4\u001b[0m                     \u001b[0mff\u001b[0m\u001b[0;34m[\u001b[0m\u001b[0;34m'lng'\u001b[0m\u001b[0;34m]\u001b[0m\u001b[0;34m.\u001b[0m\u001b[0mvalues\u001b[0m\u001b[0;34m[\u001b[0m\u001b[0;36m0\u001b[0m\u001b[0;34m]\u001b[0m\u001b[0;34m,\u001b[0m\u001b[0;34m\u001b[0m\u001b[0;34m\u001b[0m\u001b[0m\n\u001b[1;32m      5\u001b[0m                     18)\n",
      "\u001b[0;31mTypeError\u001b[0m: __init__() takes 2 positional arguments but 6 were given"
     ]
    }
   ],
   "source": [
    "lemon = ClimateData(ff['en_name'].values[0], \n",
    "                    ff['scientific_name'].values[0],\n",
    "                    ff['lat'].values[0], \n",
    "                    ff['lng'].values[0],\n",
    "                    18)"
   ]
  },
  {
   "cell_type": "code",
   "execution_count": 44,
   "id": "89a69e9e",
   "metadata": {},
   "outputs": [],
   "source": [
    "class ClimateData:\n",
    "    \"Growing Degree Day setup for each unique fruit\"\n",
    "    \n",
    "    \"Process each row/submission\"\n",
    "    def __init__(self, row): \n",
    "        self._i = row \n",
    "        self._en_name = ff['en_name'].values[row]\n",
    "        self._scientific_name = ff['scientific_name'].values[row]\n",
    "        self._lat = ff['lat'].values[row]\n",
    "        self._lng = ff['lng'].values[row]\n",
    "        self._ideal_temp = 18 \n",
    "        self._location = Point(self._lat, self._lng)\n",
    "        #making self._climate \n",
    "        location = self._location \n",
    "        climate = Monthly(location, datetime(2022, 1, 1), datetime(2022, 12, 31))\n",
    "        climate = climate.fetch()\n",
    "        climate = climate.reset_index()\n",
    "        self._climate = climate \n",
    "    \n",
    "#     def __init__(self, en_name, scientific_name, lat, lng, ideal_temp):\n",
    "#         \"Key aspects of fruit given\"\n",
    "#         self._en_name = en_name \n",
    "#         self._lat = lat\n",
    "#         self._lng = lng\n",
    "#         self._scientific_name = scientific_name\n",
    "#         self._location = Point(lat, lng)\n",
    "#         self._ideal_temp = ideal_temp\n",
    "#         #making self._climate \n",
    "#         location = self._location \n",
    "#         climate = Monthly(location, datetime(2022, 1, 1), datetime(2022, 12, 31))\n",
    "#         climate = climate.fetch()\n",
    "#         climate = climate.reset_index()\n",
    "#         self._climate = climate \n",
    "\n",
    "    def get_lat(self): \n",
    "        return self._lat \n",
    "    def get_long(self): \n",
    "        return self._lng\n",
    "    def get_scientific_name(self): \n",
    "        return self._scientific_name \n",
    "    def get_ideal_temp(self): \n",
    "        return self._ideal_temp \n",
    "    def get_en_name(self): \n",
    "        return self._en_name\n",
    "    def get_climate(self): \n",
    "        return self._climate\n",
    "    \n",
    "    def get_gdd(self): \n",
    "        d = self._climate\n",
    "\n",
    "        p1 = ['2022-12-01', '2022-01-01', '2022-02-01']\n",
    "        p2 = ['2022-03-01', '2022-04-01', '2022-05-01']\n",
    "        p3 = ['2022-06-01','2022-07-01', '2022-08-01']\n",
    "        p4 = ['2022-09-01', '2022-10-01', '2022-11-01']\n",
    "        #assign quarters \n",
    "        season = []\n",
    "        for i in range(len(d['time'])): \n",
    "            if str(d['time'][i])[0:10] in p1: \n",
    "                season.append('p1_12_02')\n",
    "            elif str(d['time'][i])[0:10] in p2: \n",
    "                season.append('p2_03_05')\n",
    "            elif str(d['time'][i])[0:10] in p3: \n",
    "                season.append('p3_06_08')\n",
    "            elif str(d['time'][i])[0:10] in p4: \n",
    "                season.append('p4_09_11')\n",
    "            else: \n",
    "                season.append('NA')\n",
    "        d['season'] = season \n",
    "    \n",
    "        #groupby and get tavg, tmin, tmax for quarter \n",
    "        tavg = d.groupby('season')['tavg'].mean().reset_index().set_index('season').round(1)\n",
    "        tmin = d.groupby('season')['tmin'].min().reset_index().set_index('season')\n",
    "        tmax = d.groupby('season')['tmax'].max().reset_index().set_index('season')\n",
    "        gdd = pd.concat([tavg, tmin, tmax]).reset_index()\n",
    "        gdd['harvest'] = np.where(gdd['tavg'] > self._ideal_temp, 1,0)\n",
    "        #sum doesn't actually do anything since it's na values \n",
    "        gdd = gdd.groupby(['season']).sum()\n",
    "        self._gdd = gdd.reset_index()\n",
    "        return self._gdd\n",
    "    "
   ]
  },
  {
   "cell_type": "code",
   "execution_count": null,
   "id": "e2fe0ee6",
   "metadata": {},
   "outputs": [],
   "source": []
  }
 ],
 "metadata": {
  "kernelspec": {
   "display_name": "Python 3 (ipykernel)",
   "language": "python",
   "name": "python3"
  },
  "language_info": {
   "codemirror_mode": {
    "name": "ipython",
    "version": 3
   },
   "file_extension": ".py",
   "mimetype": "text/x-python",
   "name": "python",
   "nbconvert_exporter": "python",
   "pygments_lexer": "ipython3",
   "version": "3.9.7"
  }
 },
 "nbformat": 4,
 "nbformat_minor": 5
}
