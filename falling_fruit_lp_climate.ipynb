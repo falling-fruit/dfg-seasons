{
 "cells": [
  {
   "cell_type": "markdown",
   "id": "d7bb6fd2",
   "metadata": {},
   "source": [
    "# Falling Fruit"
   ]
  },
  {
   "cell_type": "code",
   "execution_count": null,
   "id": "c619e3a4",
   "metadata": {},
   "outputs": [],
   "source": [
    "location = pd.read_csv(\"/Users/linh/Downloads/develop_for_good/locations.csv\", low_memory = False)"
   ]
  },
  {
   "cell_type": "code",
   "execution_count": null,
   "id": "34644b8a",
   "metadata": {},
   "outputs": [],
   "source": [
    "fruits = pd.read_csv(\"/Users/linh/Downloads/develop_for_good/observation_phenology.csv\")"
   ]
  },
  {
   "cell_type": "code",
   "execution_count": null,
   "id": "bb56ae41",
   "metadata": {},
   "outputs": [],
   "source": [
    "#full join \n",
    "ff = pd.merge(location,fruits, on = ['lat', 'lng'], how = 'outer')"
   ]
  },
  {
   "cell_type": "code",
   "execution_count": null,
   "id": "395dd15c",
   "metadata": {},
   "outputs": [],
   "source": [
    "ff.shape"
   ]
  },
  {
   "cell_type": "code",
   "execution_count": null,
   "id": "cd6cb667",
   "metadata": {},
   "outputs": [],
   "source": [
    "ff.head()"
   ]
  },
  {
   "cell_type": "code",
   "execution_count": null,
   "id": "62db7059",
   "metadata": {},
   "outputs": [],
   "source": [
    "#ff.to_csv('/Users/linh/Downloads/develop_for_good/falling_fruit.csv')"
   ]
  },
  {
   "cell_type": "code",
   "execution_count": null,
   "id": "c29a3e47",
   "metadata": {},
   "outputs": [],
   "source": []
  },
  {
   "cell_type": "markdown",
   "id": "c160aed6",
   "metadata": {},
   "source": [
    "# Climate and Season"
   ]
  },
  {
   "cell_type": "code",
   "execution_count": null,
   "id": "97eb4780",
   "metadata": {},
   "outputs": [],
   "source": [
    "#pip install meteostat"
   ]
  },
  {
   "cell_type": "code",
   "execution_count": 3,
   "id": "723b8aec",
   "metadata": {},
   "outputs": [],
   "source": [
    "# Import Meteostat library and dependencies\n",
    "import pandas as pd \n",
    "import numpy as np \n",
    "from datetime import datetime\n",
    "import matplotlib.pyplot as plt\n",
    "from meteostat import Point, Monthly"
   ]
  },
  {
   "cell_type": "code",
   "execution_count": 4,
   "id": "169ed213",
   "metadata": {},
   "outputs": [],
   "source": [
    "ff = pd.read_csv(\"/Users/linh/Downloads/develop_for_good/falling_fruit.csv\", low_memory = False)"
   ]
  },
  {
   "cell_type": "code",
   "execution_count": 5,
   "id": "1835594e",
   "metadata": {},
   "outputs": [],
   "source": [
    "ff = ff[['scientific_name','id', 'lat', 'lng','location_id', 'observation_id', 'date', 'taxonomic_rank', 'en_name']]"
   ]
  },
  {
   "cell_type": "code",
   "execution_count": 6,
   "id": "c9318043",
   "metadata": {},
   "outputs": [],
   "source": [
    "ff = ff[ff['scientific_name'].notna()]"
   ]
  },
  {
   "cell_type": "code",
   "execution_count": 7,
   "id": "4a8cc675",
   "metadata": {},
   "outputs": [],
   "source": [
    "ff['lat'] = ff['lat'].apply(float)\n",
    "ff['lng'] = ff['lng'].apply(float)\n",
    "ff['scientific_name'] = ff['scientific_name'].apply(str)"
   ]
  },
  {
   "cell_type": "code",
   "execution_count": 8,
   "id": "0983d38b",
   "metadata": {},
   "outputs": [
    {
     "data": {
      "text/html": [
       "<div>\n",
       "<style scoped>\n",
       "    .dataframe tbody tr th:only-of-type {\n",
       "        vertical-align: middle;\n",
       "    }\n",
       "\n",
       "    .dataframe tbody tr th {\n",
       "        vertical-align: top;\n",
       "    }\n",
       "\n",
       "    .dataframe thead th {\n",
       "        text-align: right;\n",
       "    }\n",
       "</style>\n",
       "<table border=\"1\" class=\"dataframe\">\n",
       "  <thead>\n",
       "    <tr style=\"text-align: right;\">\n",
       "      <th></th>\n",
       "      <th>scientific_name</th>\n",
       "      <th>id</th>\n",
       "      <th>lat</th>\n",
       "      <th>lng</th>\n",
       "      <th>location_id</th>\n",
       "      <th>observation_id</th>\n",
       "      <th>date</th>\n",
       "      <th>taxonomic_rank</th>\n",
       "      <th>en_name</th>\n",
       "    </tr>\n",
       "  </thead>\n",
       "  <tbody>\n",
       "    <tr>\n",
       "      <th>13</th>\n",
       "      <td>Citrus x limon</td>\n",
       "      <td>107.0</td>\n",
       "      <td>37.409772</td>\n",
       "      <td>-122.136046</td>\n",
       "      <td>107.0</td>\n",
       "      <td>2823.0</td>\n",
       "      <td>2013-12-14</td>\n",
       "      <td>8.0</td>\n",
       "      <td>Lemon</td>\n",
       "    </tr>\n",
       "    <tr>\n",
       "      <th>39</th>\n",
       "      <td>Ficus carica</td>\n",
       "      <td>419.0</td>\n",
       "      <td>37.862816</td>\n",
       "      <td>-122.262840</td>\n",
       "      <td>419.0</td>\n",
       "      <td>51054.0</td>\n",
       "      <td>2021-10-03</td>\n",
       "      <td>8.0</td>\n",
       "      <td>Common fig</td>\n",
       "    </tr>\n",
       "    <tr>\n",
       "      <th>115</th>\n",
       "      <td>Rubus</td>\n",
       "      <td>495.0</td>\n",
       "      <td>37.871975</td>\n",
       "      <td>-122.262749</td>\n",
       "      <td>495.0</td>\n",
       "      <td>40603.0</td>\n",
       "      <td>2019-07-25</td>\n",
       "      <td>7.0</td>\n",
       "      <td>Blackberry</td>\n",
       "    </tr>\n",
       "    <tr>\n",
       "      <th>177</th>\n",
       "      <td>Citrus x limon</td>\n",
       "      <td>557.0</td>\n",
       "      <td>37.856464</td>\n",
       "      <td>-122.267471</td>\n",
       "      <td>557.0</td>\n",
       "      <td>47572.0</td>\n",
       "      <td>2021-01-11</td>\n",
       "      <td>8.0</td>\n",
       "      <td>Lemon</td>\n",
       "    </tr>\n",
       "    <tr>\n",
       "      <th>202</th>\n",
       "      <td>Citrus</td>\n",
       "      <td>582.0</td>\n",
       "      <td>37.864990</td>\n",
       "      <td>-122.266190</td>\n",
       "      <td>582.0</td>\n",
       "      <td>47720.0</td>\n",
       "      <td>2021-02-21</td>\n",
       "      <td>7.0</td>\n",
       "      <td>Lime</td>\n",
       "    </tr>\n",
       "  </tbody>\n",
       "</table>\n",
       "</div>"
      ],
      "text/plain": [
       "    scientific_name     id        lat         lng  location_id observation_id  \\\n",
       "13   Citrus x limon  107.0  37.409772 -122.136046        107.0         2823.0   \n",
       "39     Ficus carica  419.0  37.862816 -122.262840        419.0        51054.0   \n",
       "115           Rubus  495.0  37.871975 -122.262749        495.0        40603.0   \n",
       "177  Citrus x limon  557.0  37.856464 -122.267471        557.0        47572.0   \n",
       "202          Citrus  582.0  37.864990 -122.266190        582.0        47720.0   \n",
       "\n",
       "           date  taxonomic_rank     en_name  \n",
       "13   2013-12-14             8.0       Lemon  \n",
       "39   2021-10-03             8.0  Common fig  \n",
       "115  2019-07-25             7.0  Blackberry  \n",
       "177  2021-01-11             8.0       Lemon  \n",
       "202  2021-02-21             7.0        Lime  "
      ]
     },
     "execution_count": 8,
     "metadata": {},
     "output_type": "execute_result"
    }
   ],
   "source": [
    "ff.head()"
   ]
  },
  {
   "cell_type": "code",
   "execution_count": 9,
   "id": "9ed62805",
   "metadata": {},
   "outputs": [
    {
     "data": {
      "text/plain": [
       "(25386, 9)"
      ]
     },
     "execution_count": 9,
     "metadata": {},
     "output_type": "execute_result"
    }
   ],
   "source": [
    "ff.shape"
   ]
  },
  {
   "cell_type": "code",
   "execution_count": 17,
   "id": "6a714ee5",
   "metadata": {},
   "outputs": [],
   "source": [
    "class ClimateData:\n",
    "    \"Growing Degree Day setup for each unique fruit\"\n",
    "    \n",
    "    def __init__(self, en_name, scientific_name, lat, lng, ideal_temp):\n",
    "        \"Key aspects of fruit given\"\n",
    "        self._en_name = en_name \n",
    "        self._lat = lat\n",
    "        self._lng = lng\n",
    "        self._scientific_name = scientific_name\n",
    "        self._location = Point(lat, lng)\n",
    "        self._ideal_temp = ideal_temp\n",
    "        #making self._climate \n",
    "        location = self._location \n",
    "        climate = Monthly(location, datetime(2022, 1, 1), datetime(2022, 12, 31))\n",
    "        climate = climate.fetch()\n",
    "        climate = climate.reset_index()\n",
    "        self._climate = climate \n",
    "\n",
    "    def get_lat(self): \n",
    "        return self._lat \n",
    "    def get_long(self): \n",
    "        return self._lng\n",
    "    def get_scientific_name(self): \n",
    "        return self._scientific_name \n",
    "    def get_ideal_temp(self): \n",
    "        return self._ideal_temp \n",
    "    def get_en_name(self): \n",
    "        return self._en_name\n",
    "    def get_climate(self): \n",
    "        return self._climate\n",
    "    \n",
    "    def get_gdd(self): \n",
    "        d = self._climate\n",
    "\n",
    "        p1 = ['2022-12-01', '2022-01-01', '2022-02-01']\n",
    "        p2 = ['2022-03-01', '2022-04-01', '2022-05-01']\n",
    "        p3 = ['2022-06-01','2022-07-01', '2022-08-01']\n",
    "        p4 = ['2022-09-01', '2022-10-01', '2022-11-01']\n",
    "        #assign quarters \n",
    "        season = []\n",
    "        for i in range(len(d['time'])): \n",
    "            if str(d['time'][i])[0:10] in p1: \n",
    "                season.append('p1_12_02')\n",
    "            elif str(d['time'][i])[0:10] in p2: \n",
    "                season.append('p2_03_05')\n",
    "            elif str(d['time'][i])[0:10] in p3: \n",
    "                season.append('p3_06_08')\n",
    "            elif str(d['time'][i])[0:10] in p4: \n",
    "                season.append('p4_09_11')\n",
    "            else: \n",
    "                season.append('NA')\n",
    "        d['season'] = season \n",
    "    \n",
    "        #groupby and get tavg, tmin, tmax for quarter \n",
    "        tavg = d.groupby('season')['tavg'].mean().reset_index().set_index('season').round(1)\n",
    "        tmin = d.groupby('season')['tmin'].min().reset_index().set_index('season')\n",
    "        tmax = d.groupby('season')['tmax'].max().reset_index().set_index('season')\n",
    "        gdd = pd.concat([tavg, tmin, tmax]).reset_index()\n",
    "        gdd['harvest'] = np.where(gdd['tavg'] > self._ideal_temp, 1,0)\n",
    "        #sum doesn't actually do anything since it's na values \n",
    "        gdd = gdd.groupby(['season']).sum()\n",
    "        self._gdd = gdd.reset_index()\n",
    "        return self._gdd\n",
    "    "
   ]
  },
  {
   "cell_type": "code",
   "execution_count": 18,
   "id": "2ef2bd05",
   "metadata": {},
   "outputs": [],
   "source": [
    "lemon = ClimateData(ff['en_name'].values[0], \n",
    "                    ff['scientific_name'].values[0],\n",
    "                    ff['lat'].values[0], \n",
    "                    ff['lng'].values[0],\n",
    "                    18)"
   ]
  },
  {
   "cell_type": "code",
   "execution_count": 19,
   "id": "f1faa705",
   "metadata": {
    "scrolled": false
   },
   "outputs": [
    {
     "data": {
      "text/html": [
       "<div>\n",
       "<style scoped>\n",
       "    .dataframe tbody tr th:only-of-type {\n",
       "        vertical-align: middle;\n",
       "    }\n",
       "\n",
       "    .dataframe tbody tr th {\n",
       "        vertical-align: top;\n",
       "    }\n",
       "\n",
       "    .dataframe thead th {\n",
       "        text-align: right;\n",
       "    }\n",
       "</style>\n",
       "<table border=\"1\" class=\"dataframe\">\n",
       "  <thead>\n",
       "    <tr style=\"text-align: right;\">\n",
       "      <th></th>\n",
       "      <th>season</th>\n",
       "      <th>tavg</th>\n",
       "      <th>tmin</th>\n",
       "      <th>tmax</th>\n",
       "      <th>harvest</th>\n",
       "    </tr>\n",
       "  </thead>\n",
       "  <tbody>\n",
       "    <tr>\n",
       "      <th>0</th>\n",
       "      <td>p1_12_02</td>\n",
       "      <td>10.8</td>\n",
       "      <td>5.2</td>\n",
       "      <td>17.7</td>\n",
       "      <td>0</td>\n",
       "    </tr>\n",
       "    <tr>\n",
       "      <th>1</th>\n",
       "      <td>p2_03_05</td>\n",
       "      <td>14.9</td>\n",
       "      <td>8.6</td>\n",
       "      <td>22.3</td>\n",
       "      <td>0</td>\n",
       "    </tr>\n",
       "    <tr>\n",
       "      <th>2</th>\n",
       "      <td>p3_06_08</td>\n",
       "      <td>18.7</td>\n",
       "      <td>13.9</td>\n",
       "      <td>25.2</td>\n",
       "      <td>1</td>\n",
       "    </tr>\n",
       "    <tr>\n",
       "      <th>3</th>\n",
       "      <td>p4_09_11</td>\n",
       "      <td>15.9</td>\n",
       "      <td>4.9</td>\n",
       "      <td>26.8</td>\n",
       "      <td>0</td>\n",
       "    </tr>\n",
       "  </tbody>\n",
       "</table>\n",
       "</div>"
      ],
      "text/plain": [
       "     season  tavg  tmin  tmax  harvest\n",
       "0  p1_12_02  10.8   5.2  17.7        0\n",
       "1  p2_03_05  14.9   8.6  22.3        0\n",
       "2  p3_06_08  18.7  13.9  25.2        1\n",
       "3  p4_09_11  15.9   4.9  26.8        0"
      ]
     },
     "execution_count": 19,
     "metadata": {},
     "output_type": "execute_result"
    }
   ],
   "source": [
    "lemon.get_gdd()"
   ]
  },
  {
   "cell_type": "code",
   "execution_count": null,
   "id": "a8b95a43",
   "metadata": {},
   "outputs": [],
   "source": []
  },
  {
   "cell_type": "code",
   "execution_count": null,
   "id": "aab3307f",
   "metadata": {},
   "outputs": [],
   "source": []
  }
 ],
 "metadata": {
  "kernelspec": {
   "display_name": "Python 3 (ipykernel)",
   "language": "python",
   "name": "python3"
  },
  "language_info": {
   "codemirror_mode": {
    "name": "ipython",
    "version": 3
   },
   "file_extension": ".py",
   "mimetype": "text/x-python",
   "name": "python",
   "nbconvert_exporter": "python",
   "pygments_lexer": "ipython3",
   "version": "3.9.13"
  }
 },
 "nbformat": 4,
 "nbformat_minor": 5
}
